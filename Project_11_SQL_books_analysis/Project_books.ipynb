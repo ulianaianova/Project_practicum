{
 "cells": [
  {
   "cell_type": "markdown",
   "metadata": {},
   "source": [
    "# Проект по SQL"
   ]
  },
  {
   "cell_type": "markdown",
   "metadata": {},
   "source": [
    "Компания владеет  крупным сервис для чтения книг по подписке. "
   ]
  },
  {
   "cell_type": "markdown",
   "metadata": {},
   "source": [
    "**Цель исследования**"
   ]
  },
  {
   "cell_type": "markdown",
   "metadata": {},
   "source": [
    "Формулирование ценностного предложения для нового продукта."
   ]
  },
  {
   "cell_type": "markdown",
   "metadata": {},
   "source": [
    "**Задача**"
   ]
  },
  {
   "cell_type": "markdown",
   "metadata": {},
   "source": [
    "- Определение количества книг, которые  вышли после 1 января 2000 года;\n",
    "- Для каждой книги посчет количества обзоров и средней оценки;\n",
    "- Определение издательства, которое выпустило наибольшее число книг толще 50 страниц, так будут исключены из анализа брошюры;\n",
    "- Определение автора с самой высокой средней оценкой книг, учитываются только книги с 50 и более оценками;\n",
    "- Определение среднего количества обзоров от пользователей, которые поставили больше 48 оценок."
   ]
  },
  {
   "cell_type": "markdown",
   "metadata": {},
   "source": [
    "**Описание данных**"
   ]
  },
  {
   "cell_type": "markdown",
   "metadata": {},
   "source": [
    "**Таблица `books`**\n",
    "\n",
    "Содержит данные о книгах:\n",
    "\n",
    "- `book_id` — идентификатор книги;\n",
    "- `author_id` — идентификатор автора;\n",
    "- `title` — название книги;\n",
    "- `num_pages` — количество страниц;\n",
    "- `publication_date` — дата публикации книги;\n",
    "- `publisher_id` — идентификатор издателя.\n",
    "\n",
    "**Таблица `authors`**\n",
    "\n",
    "Содержит данные об авторах:\n",
    "\n",
    "- `author_id` — идентификатор автора;\n",
    "- `author` — имя автора.\n",
    "\n",
    "**Таблица `publishers`**\n",
    "\n",
    "Содержит данные об издательствах:\n",
    "\n",
    "- `publisher_id` — идентификатор издательства;\n",
    "- `publisher` — название издательства;\n",
    "\n",
    "**Таблица `ratings`**\n",
    "\n",
    "Содержит данные о пользовательских оценках книг:\n",
    "\n",
    "- `rating_id` — идентификатор оценки;\n",
    "- `book_id` — идентификатор книги;\n",
    "- `username` — имя пользователя, оставившего оценку;\n",
    "- `rating` — оценка книги.\n",
    "\n",
    "**Таблица `reviews`**\n",
    "\n",
    "Содержит данные о пользовательских обзорах:\n",
    "\n",
    "- `review_id` — идентификатор обзора;\n",
    "- `book_id` — идентификатор книги;\n",
    "- `username` — имя автора обзора;\n",
    "- `text` — текст обзора."
   ]
  },
  {
   "cell_type": "markdown",
   "metadata": {},
   "source": [
    "**План исследования**"
   ]
  },
  {
   "cell_type": "markdown",
   "metadata": {},
   "source": [
    "1. Обзор и загрузка данных.\n",
    "- загрузка библиотек\n",
    "- исследование таблиц.\n",
    "2. Ответы на задачи исследования.\n",
    "- Определение количества книг, которые вышли после 1 января 2000 года;\n",
    "- Для каждой книги посчет количества обзоров и средней оценки;\n",
    "- Определение издательства, которое выпустило наибольшее число книг толще 50 страниц, так будут исключены из анализа брошюры;\n",
    "- Определение автора с самой высокой средней оценкой книг, учитываются только книги с 50 и более оценками;\n",
    "- Определение среднего количества обзоров от пользователей, которые поставили больше 48 оценок.\n",
    "3. Вывод."
   ]
  },
  {
   "cell_type": "markdown",
   "metadata": {},
   "source": [
    "## Обзор и загрузка данных"
   ]
  },
  {
   "cell_type": "markdown",
   "metadata": {},
   "source": [
    "### Загрузка библиотек"
   ]
  },
  {
   "cell_type": "code",
   "execution_count": 1,
   "metadata": {},
   "outputs": [],
   "source": [
    "# импортируем библиотеки\n",
    "import pandas as pd\n",
    "from sqlalchemy import text, create_engine\n",
    "\n",
    "# устанавливаем параметры\n",
    "db_config = {'user': 'praktikum_student', # имя пользователя\n",
    "'pwd': 'Sdf4$2;d-d30pp', # пароль\n",
    "'host': 'rc1b-wcoijxj3yxfsf3fs.mdb.yandexcloud.net',\n",
    "'port': 6432, # порт подключения\n",
    "'db': 'data-analyst-final-project-db'} # название базы данных\n",
    "connection_string = 'postgresql://{user}:{pwd}@{host}:{port}/{db}'.format(**db_config)\n",
    "\n",
    "# сохраняем коннектор\n",
    "engine = create_engine(connection_string, connect_args={'sslmode':'require'})"
   ]
  },
  {
   "cell_type": "markdown",
   "metadata": {},
   "source": [
    "### Исследование таблиц"
   ]
  },
  {
   "cell_type": "markdown",
   "metadata": {},
   "source": [
    "**Таблица books**"
   ]
  },
  {
   "cell_type": "code",
   "execution_count": 2,
   "metadata": {},
   "outputs": [
    {
     "data": {
      "text/html": [
       "<div>\n",
       "<style scoped>\n",
       "    .dataframe tbody tr th:only-of-type {\n",
       "        vertical-align: middle;\n",
       "    }\n",
       "\n",
       "    .dataframe tbody tr th {\n",
       "        vertical-align: top;\n",
       "    }\n",
       "\n",
       "    .dataframe thead th {\n",
       "        text-align: right;\n",
       "    }\n",
       "</style>\n",
       "<table border=\"1\" class=\"dataframe\">\n",
       "  <thead>\n",
       "    <tr style=\"text-align: right;\">\n",
       "      <th></th>\n",
       "      <th>book_id</th>\n",
       "      <th>author_id</th>\n",
       "      <th>title</th>\n",
       "      <th>num_pages</th>\n",
       "      <th>publication_date</th>\n",
       "      <th>publisher_id</th>\n",
       "    </tr>\n",
       "  </thead>\n",
       "  <tbody>\n",
       "    <tr>\n",
       "      <th>0</th>\n",
       "      <td>1</td>\n",
       "      <td>546</td>\n",
       "      <td>'Salem's Lot</td>\n",
       "      <td>594</td>\n",
       "      <td>2005-11-01</td>\n",
       "      <td>93</td>\n",
       "    </tr>\n",
       "    <tr>\n",
       "      <th>1</th>\n",
       "      <td>2</td>\n",
       "      <td>465</td>\n",
       "      <td>1 000 Places to See Before You Die</td>\n",
       "      <td>992</td>\n",
       "      <td>2003-05-22</td>\n",
       "      <td>336</td>\n",
       "    </tr>\n",
       "    <tr>\n",
       "      <th>2</th>\n",
       "      <td>3</td>\n",
       "      <td>407</td>\n",
       "      <td>13 Little Blue Envelopes (Little Blue Envelope...</td>\n",
       "      <td>322</td>\n",
       "      <td>2010-12-21</td>\n",
       "      <td>135</td>\n",
       "    </tr>\n",
       "    <tr>\n",
       "      <th>3</th>\n",
       "      <td>4</td>\n",
       "      <td>82</td>\n",
       "      <td>1491: New Revelations of the Americas Before C...</td>\n",
       "      <td>541</td>\n",
       "      <td>2006-10-10</td>\n",
       "      <td>309</td>\n",
       "    </tr>\n",
       "    <tr>\n",
       "      <th>4</th>\n",
       "      <td>5</td>\n",
       "      <td>125</td>\n",
       "      <td>1776</td>\n",
       "      <td>386</td>\n",
       "      <td>2006-07-04</td>\n",
       "      <td>268</td>\n",
       "    </tr>\n",
       "  </tbody>\n",
       "</table>\n",
       "</div>"
      ],
      "text/plain": [
       "   book_id  author_id                                              title  \\\n",
       "0        1        546                                       'Salem's Lot   \n",
       "1        2        465                 1 000 Places to See Before You Die   \n",
       "2        3        407  13 Little Blue Envelopes (Little Blue Envelope...   \n",
       "3        4         82  1491: New Revelations of the Americas Before C...   \n",
       "4        5        125                                               1776   \n",
       "\n",
       "   num_pages publication_date  publisher_id  \n",
       "0        594       2005-11-01            93  \n",
       "1        992       2003-05-22           336  \n",
       "2        322       2010-12-21           135  \n",
       "3        541       2006-10-10           309  \n",
       "4        386       2006-07-04           268  "
      ]
     },
     "execution_count": 2,
     "metadata": {},
     "output_type": "execute_result"
    }
   ],
   "source": [
    "# выведем первые 5 строк таблицы\n",
    "query = '''\n",
    "       SELECT *\n",
    "       FROM books\n",
    "       LIMIT 5\n",
    "    '''\n",
    "\n",
    "pd.io.sql.read_sql(query, con = engine) "
   ]
  },
  {
   "cell_type": "markdown",
   "metadata": {},
   "source": [
    "Таблица содержит данные о книгах: \n",
    "- book_id — идентификатор книги;\n",
    "- author_id — идентификатор автора;\n",
    "- title — название книги;\n",
    "- num_pages — количество страниц;\n",
    "- publication_date — дата публикации книги;\n",
    "- publisher_id — идентификатор издателя."
   ]
  },
  {
   "cell_type": "markdown",
   "metadata": {},
   "source": [
    "**Таблица authors**"
   ]
  },
  {
   "cell_type": "code",
   "execution_count": 3,
   "metadata": {},
   "outputs": [
    {
     "data": {
      "text/html": [
       "<div>\n",
       "<style scoped>\n",
       "    .dataframe tbody tr th:only-of-type {\n",
       "        vertical-align: middle;\n",
       "    }\n",
       "\n",
       "    .dataframe tbody tr th {\n",
       "        vertical-align: top;\n",
       "    }\n",
       "\n",
       "    .dataframe thead th {\n",
       "        text-align: right;\n",
       "    }\n",
       "</style>\n",
       "<table border=\"1\" class=\"dataframe\">\n",
       "  <thead>\n",
       "    <tr style=\"text-align: right;\">\n",
       "      <th></th>\n",
       "      <th>author_id</th>\n",
       "      <th>author</th>\n",
       "    </tr>\n",
       "  </thead>\n",
       "  <tbody>\n",
       "    <tr>\n",
       "      <th>0</th>\n",
       "      <td>1</td>\n",
       "      <td>A.S. Byatt</td>\n",
       "    </tr>\n",
       "    <tr>\n",
       "      <th>1</th>\n",
       "      <td>2</td>\n",
       "      <td>Aesop/Laura Harris/Laura Gibbs</td>\n",
       "    </tr>\n",
       "    <tr>\n",
       "      <th>2</th>\n",
       "      <td>3</td>\n",
       "      <td>Agatha Christie</td>\n",
       "    </tr>\n",
       "    <tr>\n",
       "      <th>3</th>\n",
       "      <td>4</td>\n",
       "      <td>Alan Brennert</td>\n",
       "    </tr>\n",
       "    <tr>\n",
       "      <th>4</th>\n",
       "      <td>5</td>\n",
       "      <td>Alan Moore/David   Lloyd</td>\n",
       "    </tr>\n",
       "  </tbody>\n",
       "</table>\n",
       "</div>"
      ],
      "text/plain": [
       "   author_id                          author\n",
       "0          1                      A.S. Byatt\n",
       "1          2  Aesop/Laura Harris/Laura Gibbs\n",
       "2          3                 Agatha Christie\n",
       "3          4                   Alan Brennert\n",
       "4          5        Alan Moore/David   Lloyd"
      ]
     },
     "execution_count": 3,
     "metadata": {},
     "output_type": "execute_result"
    }
   ],
   "source": [
    "# выведем первые 5 строк таблицы\n",
    "query = '''\n",
    "       SELECT *\n",
    "       FROM authors\n",
    "       LIMIT 5\n",
    "    '''\n",
    "\n",
    "pd.io.sql.read_sql(query, con = engine) "
   ]
  },
  {
   "cell_type": "markdown",
   "metadata": {},
   "source": [
    "Таблица содержит данные об авторах:\n",
    "\n",
    "- author_id — идентификатор автора;\n",
    "- author — имя автора."
   ]
  },
  {
   "cell_type": "markdown",
   "metadata": {},
   "source": [
    "**Таблица publishers**"
   ]
  },
  {
   "cell_type": "code",
   "execution_count": 4,
   "metadata": {},
   "outputs": [
    {
     "data": {
      "text/html": [
       "<div>\n",
       "<style scoped>\n",
       "    .dataframe tbody tr th:only-of-type {\n",
       "        vertical-align: middle;\n",
       "    }\n",
       "\n",
       "    .dataframe tbody tr th {\n",
       "        vertical-align: top;\n",
       "    }\n",
       "\n",
       "    .dataframe thead th {\n",
       "        text-align: right;\n",
       "    }\n",
       "</style>\n",
       "<table border=\"1\" class=\"dataframe\">\n",
       "  <thead>\n",
       "    <tr style=\"text-align: right;\">\n",
       "      <th></th>\n",
       "      <th>publisher_id</th>\n",
       "      <th>publisher</th>\n",
       "    </tr>\n",
       "  </thead>\n",
       "  <tbody>\n",
       "    <tr>\n",
       "      <th>0</th>\n",
       "      <td>1</td>\n",
       "      <td>Ace</td>\n",
       "    </tr>\n",
       "    <tr>\n",
       "      <th>1</th>\n",
       "      <td>2</td>\n",
       "      <td>Ace Book</td>\n",
       "    </tr>\n",
       "    <tr>\n",
       "      <th>2</th>\n",
       "      <td>3</td>\n",
       "      <td>Ace Books</td>\n",
       "    </tr>\n",
       "    <tr>\n",
       "      <th>3</th>\n",
       "      <td>4</td>\n",
       "      <td>Ace Hardcover</td>\n",
       "    </tr>\n",
       "    <tr>\n",
       "      <th>4</th>\n",
       "      <td>5</td>\n",
       "      <td>Addison Wesley Publishing Company</td>\n",
       "    </tr>\n",
       "  </tbody>\n",
       "</table>\n",
       "</div>"
      ],
      "text/plain": [
       "   publisher_id                          publisher\n",
       "0             1                                Ace\n",
       "1             2                           Ace Book\n",
       "2             3                          Ace Books\n",
       "3             4                      Ace Hardcover\n",
       "4             5  Addison Wesley Publishing Company"
      ]
     },
     "execution_count": 4,
     "metadata": {},
     "output_type": "execute_result"
    }
   ],
   "source": [
    "# выведем первые 5 строк таблицы\n",
    "query = '''\n",
    "       SELECT *\n",
    "       FROM publishers\n",
    "       LIMIT 5\n",
    "    '''\n",
    "\n",
    "pd.io.sql.read_sql(query, con = engine)"
   ]
  },
  {
   "cell_type": "markdown",
   "metadata": {},
   "source": [
    "Таблица содержит данные об издательствах:\n",
    "\n",
    "- publisher_id — идентификатор издательства;\n",
    "- publisher — название издательства."
   ]
  },
  {
   "cell_type": "markdown",
   "metadata": {},
   "source": [
    "**Таблица ratings**"
   ]
  },
  {
   "cell_type": "code",
   "execution_count": 5,
   "metadata": {},
   "outputs": [
    {
     "data": {
      "text/html": [
       "<div>\n",
       "<style scoped>\n",
       "    .dataframe tbody tr th:only-of-type {\n",
       "        vertical-align: middle;\n",
       "    }\n",
       "\n",
       "    .dataframe tbody tr th {\n",
       "        vertical-align: top;\n",
       "    }\n",
       "\n",
       "    .dataframe thead th {\n",
       "        text-align: right;\n",
       "    }\n",
       "</style>\n",
       "<table border=\"1\" class=\"dataframe\">\n",
       "  <thead>\n",
       "    <tr style=\"text-align: right;\">\n",
       "      <th></th>\n",
       "      <th>rating_id</th>\n",
       "      <th>book_id</th>\n",
       "      <th>username</th>\n",
       "      <th>rating</th>\n",
       "    </tr>\n",
       "  </thead>\n",
       "  <tbody>\n",
       "    <tr>\n",
       "      <th>0</th>\n",
       "      <td>1</td>\n",
       "      <td>1</td>\n",
       "      <td>ryanfranco</td>\n",
       "      <td>4</td>\n",
       "    </tr>\n",
       "    <tr>\n",
       "      <th>1</th>\n",
       "      <td>2</td>\n",
       "      <td>1</td>\n",
       "      <td>grantpatricia</td>\n",
       "      <td>2</td>\n",
       "    </tr>\n",
       "    <tr>\n",
       "      <th>2</th>\n",
       "      <td>3</td>\n",
       "      <td>1</td>\n",
       "      <td>brandtandrea</td>\n",
       "      <td>5</td>\n",
       "    </tr>\n",
       "    <tr>\n",
       "      <th>3</th>\n",
       "      <td>4</td>\n",
       "      <td>2</td>\n",
       "      <td>lorichen</td>\n",
       "      <td>3</td>\n",
       "    </tr>\n",
       "    <tr>\n",
       "      <th>4</th>\n",
       "      <td>5</td>\n",
       "      <td>2</td>\n",
       "      <td>mariokeller</td>\n",
       "      <td>2</td>\n",
       "    </tr>\n",
       "  </tbody>\n",
       "</table>\n",
       "</div>"
      ],
      "text/plain": [
       "   rating_id  book_id       username  rating\n",
       "0          1        1     ryanfranco       4\n",
       "1          2        1  grantpatricia       2\n",
       "2          3        1   brandtandrea       5\n",
       "3          4        2       lorichen       3\n",
       "4          5        2    mariokeller       2"
      ]
     },
     "execution_count": 5,
     "metadata": {},
     "output_type": "execute_result"
    }
   ],
   "source": [
    "# выведем первые 5 строк таблицы\n",
    "query = '''\n",
    "       SELECT *\n",
    "       FROM ratings\n",
    "       LIMIT 5\n",
    "    '''\n",
    "\n",
    "pd.io.sql.read_sql(query, con = engine)"
   ]
  },
  {
   "cell_type": "markdown",
   "metadata": {},
   "source": [
    "Таблица содержит данные о пользовательских оценках книг:\n",
    "\n",
    "- rating_id — идентификатор оценки;\n",
    "- book_id — идентификатор книги;\n",
    "- username — имя пользователя, оставившего оценку;\n",
    "- rating — оценка книги."
   ]
  },
  {
   "cell_type": "markdown",
   "metadata": {},
   "source": [
    "**Таблица reviews**"
   ]
  },
  {
   "cell_type": "code",
   "execution_count": 6,
   "metadata": {},
   "outputs": [
    {
     "data": {
      "text/html": [
       "<div>\n",
       "<style scoped>\n",
       "    .dataframe tbody tr th:only-of-type {\n",
       "        vertical-align: middle;\n",
       "    }\n",
       "\n",
       "    .dataframe tbody tr th {\n",
       "        vertical-align: top;\n",
       "    }\n",
       "\n",
       "    .dataframe thead th {\n",
       "        text-align: right;\n",
       "    }\n",
       "</style>\n",
       "<table border=\"1\" class=\"dataframe\">\n",
       "  <thead>\n",
       "    <tr style=\"text-align: right;\">\n",
       "      <th></th>\n",
       "      <th>review_id</th>\n",
       "      <th>book_id</th>\n",
       "      <th>username</th>\n",
       "      <th>text</th>\n",
       "    </tr>\n",
       "  </thead>\n",
       "  <tbody>\n",
       "    <tr>\n",
       "      <th>0</th>\n",
       "      <td>1</td>\n",
       "      <td>1</td>\n",
       "      <td>brandtandrea</td>\n",
       "      <td>Mention society tell send professor analysis. ...</td>\n",
       "    </tr>\n",
       "    <tr>\n",
       "      <th>1</th>\n",
       "      <td>2</td>\n",
       "      <td>1</td>\n",
       "      <td>ryanfranco</td>\n",
       "      <td>Foot glass pretty audience hit themselves. Amo...</td>\n",
       "    </tr>\n",
       "    <tr>\n",
       "      <th>2</th>\n",
       "      <td>3</td>\n",
       "      <td>2</td>\n",
       "      <td>lorichen</td>\n",
       "      <td>Listen treat keep worry. Miss husband tax but ...</td>\n",
       "    </tr>\n",
       "    <tr>\n",
       "      <th>3</th>\n",
       "      <td>4</td>\n",
       "      <td>3</td>\n",
       "      <td>johnsonamanda</td>\n",
       "      <td>Finally month interesting blue could nature cu...</td>\n",
       "    </tr>\n",
       "    <tr>\n",
       "      <th>4</th>\n",
       "      <td>5</td>\n",
       "      <td>3</td>\n",
       "      <td>scotttamara</td>\n",
       "      <td>Nation purpose heavy give wait song will. List...</td>\n",
       "    </tr>\n",
       "  </tbody>\n",
       "</table>\n",
       "</div>"
      ],
      "text/plain": [
       "   review_id  book_id       username  \\\n",
       "0          1        1   brandtandrea   \n",
       "1          2        1     ryanfranco   \n",
       "2          3        2       lorichen   \n",
       "3          4        3  johnsonamanda   \n",
       "4          5        3    scotttamara   \n",
       "\n",
       "                                                text  \n",
       "0  Mention society tell send professor analysis. ...  \n",
       "1  Foot glass pretty audience hit themselves. Amo...  \n",
       "2  Listen treat keep worry. Miss husband tax but ...  \n",
       "3  Finally month interesting blue could nature cu...  \n",
       "4  Nation purpose heavy give wait song will. List...  "
      ]
     },
     "execution_count": 6,
     "metadata": {},
     "output_type": "execute_result"
    }
   ],
   "source": [
    "# выведем первые 5 строк таблицы\n",
    "query = '''\n",
    "       SELECT *\n",
    "       FROM reviews\n",
    "       LIMIT 5\n",
    "    '''\n",
    "\n",
    "pd.io.sql.read_sql(query, con = engine) "
   ]
  },
  {
   "cell_type": "markdown",
   "metadata": {},
   "source": [
    "Таблица содержит данные о пользовательских обзорах на книги:\n",
    "\n",
    "- review_id — идентификатор обзора;\n",
    "- book_id — идентификатор книги;\n",
    "- username — имя пользователя, написавшего обзор;\n",
    "- text — текст обзора."
   ]
  },
  {
   "cell_type": "markdown",
   "metadata": {},
   "source": [
    "## Ответы на задачи исследования"
   ]
  },
  {
   "cell_type": "markdown",
   "metadata": {},
   "source": [
    "### Определение количества книг, которые вышли после 1 января 2000 года"
   ]
  },
  {
   "cell_type": "code",
   "execution_count": 7,
   "metadata": {},
   "outputs": [
    {
     "data": {
      "text/html": [
       "<div>\n",
       "<style scoped>\n",
       "    .dataframe tbody tr th:only-of-type {\n",
       "        vertical-align: middle;\n",
       "    }\n",
       "\n",
       "    .dataframe tbody tr th {\n",
       "        vertical-align: top;\n",
       "    }\n",
       "\n",
       "    .dataframe thead th {\n",
       "        text-align: right;\n",
       "    }\n",
       "</style>\n",
       "<table border=\"1\" class=\"dataframe\">\n",
       "  <thead>\n",
       "    <tr style=\"text-align: right;\">\n",
       "      <th></th>\n",
       "      <th>count</th>\n",
       "    </tr>\n",
       "  </thead>\n",
       "  <tbody>\n",
       "    <tr>\n",
       "      <th>0</th>\n",
       "      <td>819</td>\n",
       "    </tr>\n",
       "  </tbody>\n",
       "</table>\n",
       "</div>"
      ],
      "text/plain": [
       "   count\n",
       "0    819"
      ]
     },
     "execution_count": 7,
     "metadata": {},
     "output_type": "execute_result"
    }
   ],
   "source": [
    "# составим запрос\n",
    "query = '''\n",
    "       SELECT COUNT(book_id)\n",
    "       FROM books\n",
    "       WHERE publication_date > '2000-01-01'\n",
    "    '''\n",
    "\n",
    "# выполним запрос\n",
    "pd.io.sql.read_sql(query, con = engine) "
   ]
  },
  {
   "cell_type": "markdown",
   "metadata": {},
   "source": [
    "После 01 января 2000 вышло 819 книг."
   ]
  },
  {
   "cell_type": "markdown",
   "metadata": {},
   "source": [
    "### Для каждой книги посчет количества обзоров и средней оценки"
   ]
  },
  {
   "cell_type": "code",
   "execution_count": 8,
   "metadata": {},
   "outputs": [
    {
     "data": {
      "text/html": [
       "<div>\n",
       "<style scoped>\n",
       "    .dataframe tbody tr th:only-of-type {\n",
       "        vertical-align: middle;\n",
       "    }\n",
       "\n",
       "    .dataframe tbody tr th {\n",
       "        vertical-align: top;\n",
       "    }\n",
       "\n",
       "    .dataframe thead th {\n",
       "        text-align: right;\n",
       "    }\n",
       "</style>\n",
       "<table border=\"1\" class=\"dataframe\">\n",
       "  <thead>\n",
       "    <tr style=\"text-align: right;\">\n",
       "      <th></th>\n",
       "      <th>book_id</th>\n",
       "      <th>title</th>\n",
       "      <th>review_count</th>\n",
       "      <th>average_rating</th>\n",
       "    </tr>\n",
       "  </thead>\n",
       "  <tbody>\n",
       "    <tr>\n",
       "      <th>0</th>\n",
       "      <td>17</td>\n",
       "      <td>A Dirty Job (Grim Reaper  #1)</td>\n",
       "      <td>4</td>\n",
       "      <td>5.00</td>\n",
       "    </tr>\n",
       "    <tr>\n",
       "      <th>1</th>\n",
       "      <td>553</td>\n",
       "      <td>School's Out—Forever (Maximum Ride  #2)</td>\n",
       "      <td>3</td>\n",
       "      <td>5.00</td>\n",
       "    </tr>\n",
       "    <tr>\n",
       "      <th>2</th>\n",
       "      <td>444</td>\n",
       "      <td>Moneyball: The Art of Winning an Unfair Game</td>\n",
       "      <td>3</td>\n",
       "      <td>5.00</td>\n",
       "    </tr>\n",
       "    <tr>\n",
       "      <th>3</th>\n",
       "      <td>642</td>\n",
       "      <td>The Big Bad Wolf  (Alex Cross  #9)</td>\n",
       "      <td>2</td>\n",
       "      <td>5.00</td>\n",
       "    </tr>\n",
       "    <tr>\n",
       "      <th>4</th>\n",
       "      <td>967</td>\n",
       "      <td>Welcome to Temptation (Dempseys  #1)</td>\n",
       "      <td>2</td>\n",
       "      <td>5.00</td>\n",
       "    </tr>\n",
       "    <tr>\n",
       "      <th>...</th>\n",
       "      <td>...</td>\n",
       "      <td>...</td>\n",
       "      <td>...</td>\n",
       "      <td>...</td>\n",
       "    </tr>\n",
       "    <tr>\n",
       "      <th>995</th>\n",
       "      <td>915</td>\n",
       "      <td>The World Is Flat: A Brief History of the Twen...</td>\n",
       "      <td>3</td>\n",
       "      <td>2.25</td>\n",
       "    </tr>\n",
       "    <tr>\n",
       "      <th>996</th>\n",
       "      <td>202</td>\n",
       "      <td>Drowning Ruth</td>\n",
       "      <td>3</td>\n",
       "      <td>2.00</td>\n",
       "    </tr>\n",
       "    <tr>\n",
       "      <th>997</th>\n",
       "      <td>316</td>\n",
       "      <td>His Excellency: George Washington</td>\n",
       "      <td>2</td>\n",
       "      <td>2.00</td>\n",
       "    </tr>\n",
       "    <tr>\n",
       "      <th>998</th>\n",
       "      <td>371</td>\n",
       "      <td>Junky</td>\n",
       "      <td>2</td>\n",
       "      <td>2.00</td>\n",
       "    </tr>\n",
       "    <tr>\n",
       "      <th>999</th>\n",
       "      <td>303</td>\n",
       "      <td>Harvesting the Heart</td>\n",
       "      <td>2</td>\n",
       "      <td>1.50</td>\n",
       "    </tr>\n",
       "  </tbody>\n",
       "</table>\n",
       "<p>1000 rows × 4 columns</p>\n",
       "</div>"
      ],
      "text/plain": [
       "     book_id                                              title  review_count  \\\n",
       "0         17                      A Dirty Job (Grim Reaper  #1)             4   \n",
       "1        553            School's Out—Forever (Maximum Ride  #2)             3   \n",
       "2        444       Moneyball: The Art of Winning an Unfair Game             3   \n",
       "3        642                 The Big Bad Wolf  (Alex Cross  #9)             2   \n",
       "4        967               Welcome to Temptation (Dempseys  #1)             2   \n",
       "..       ...                                                ...           ...   \n",
       "995      915  The World Is Flat: A Brief History of the Twen...             3   \n",
       "996      202                                      Drowning Ruth             3   \n",
       "997      316                  His Excellency: George Washington             2   \n",
       "998      371                                              Junky             2   \n",
       "999      303                               Harvesting the Heart             2   \n",
       "\n",
       "     average_rating  \n",
       "0              5.00  \n",
       "1              5.00  \n",
       "2              5.00  \n",
       "3              5.00  \n",
       "4              5.00  \n",
       "..              ...  \n",
       "995            2.25  \n",
       "996            2.00  \n",
       "997            2.00  \n",
       "998            2.00  \n",
       "999            1.50  \n",
       "\n",
       "[1000 rows x 4 columns]"
      ]
     },
     "execution_count": 8,
     "metadata": {},
     "output_type": "execute_result"
    }
   ],
   "source": [
    "# составим запрос\n",
    "query_2 = '''\n",
    "       SELECT b.book_id, b.title,\n",
    "       COUNT(DISTINCT r.review_id) AS review_count, \n",
    "       ROUND(AVG(rt.rating), 2) AS average_rating\n",
    "       FROM books AS b\n",
    "       LEFT OUTER JOIN reviews AS r ON b.book_id = r.book_id\n",
    "       LEFT OUTER JOIN ratings AS rt ON b.book_id = rt.book_id\n",
    "       GROUP BY b.book_id\n",
    "       ORDER BY average_rating DESC, review_count DESC\n",
    "    '''\n",
    "# выполним запрос\n",
    "pd.io.sql.read_sql(query_2, con = engine)\n"
   ]
  },
  {
   "cell_type": "markdown",
   "metadata": {},
   "source": [
    "Для каждой книги посчет количества обзоров и средней оценки выполнен. Каждая книга содержит оценку."
   ]
  },
  {
   "cell_type": "markdown",
   "metadata": {},
   "source": [
    "### Определение издательства, которое выпустило наибольшее число книг толще 50 страниц, так будут исключены из анализа брошюры"
   ]
  },
  {
   "cell_type": "code",
   "execution_count": 9,
   "metadata": {},
   "outputs": [
    {
     "data": {
      "text/html": [
       "<div>\n",
       "<style scoped>\n",
       "    .dataframe tbody tr th:only-of-type {\n",
       "        vertical-align: middle;\n",
       "    }\n",
       "\n",
       "    .dataframe tbody tr th {\n",
       "        vertical-align: top;\n",
       "    }\n",
       "\n",
       "    .dataframe thead th {\n",
       "        text-align: right;\n",
       "    }\n",
       "</style>\n",
       "<table border=\"1\" class=\"dataframe\">\n",
       "  <thead>\n",
       "    <tr style=\"text-align: right;\">\n",
       "      <th></th>\n",
       "      <th>publisher</th>\n",
       "      <th>book_count</th>\n",
       "    </tr>\n",
       "  </thead>\n",
       "  <tbody>\n",
       "    <tr>\n",
       "      <th>0</th>\n",
       "      <td>Penguin Books</td>\n",
       "      <td>42</td>\n",
       "    </tr>\n",
       "  </tbody>\n",
       "</table>\n",
       "</div>"
      ],
      "text/plain": [
       "       publisher  book_count\n",
       "0  Penguin Books          42"
      ]
     },
     "execution_count": 9,
     "metadata": {},
     "output_type": "execute_result"
    }
   ],
   "source": [
    "# составим запрос\n",
    "query_3 = '''\n",
    "       SELECT p.publisher, COUNT(b.book_id) AS book_count\n",
    "       FROM books b\n",
    "       JOIN publishers p ON b.publisher_id = p.publisher_id\n",
    "       WHERE b.num_pages > 50\n",
    "       GROUP BY p.publisher\n",
    "       ORDER BY book_count DESC\n",
    "       LIMIT 1;\n",
    "    \n",
    "'''\n",
    "# выполним запрос\n",
    "pd.io.sql.read_sql(query_3, con = engine) "
   ]
  },
  {
   "cell_type": "markdown",
   "metadata": {},
   "source": [
    "Издательство Penguin Books  выпустило наибольшее число книг - 42 шт., которые  толще 50 страниц."
   ]
  },
  {
   "cell_type": "markdown",
   "metadata": {},
   "source": [
    "### Определение автора с самой высокой средней оценкой книг, учитываются только книги с 50 и более оценками"
   ]
  },
  {
   "cell_type": "code",
   "execution_count": 10,
   "metadata": {},
   "outputs": [
    {
     "data": {
      "text/html": [
       "<div>\n",
       "<style scoped>\n",
       "    .dataframe tbody tr th:only-of-type {\n",
       "        vertical-align: middle;\n",
       "    }\n",
       "\n",
       "    .dataframe tbody tr th {\n",
       "        vertical-align: top;\n",
       "    }\n",
       "\n",
       "    .dataframe thead th {\n",
       "        text-align: right;\n",
       "    }\n",
       "</style>\n",
       "<table border=\"1\" class=\"dataframe\">\n",
       "  <thead>\n",
       "    <tr style=\"text-align: right;\">\n",
       "      <th></th>\n",
       "      <th>author</th>\n",
       "      <th>author_avg_rating</th>\n",
       "    </tr>\n",
       "  </thead>\n",
       "  <tbody>\n",
       "    <tr>\n",
       "      <th>0</th>\n",
       "      <td>J.K. Rowling/Mary GrandPré</td>\n",
       "      <td>4.283844</td>\n",
       "    </tr>\n",
       "  </tbody>\n",
       "</table>\n",
       "</div>"
      ],
      "text/plain": [
       "                       author  author_avg_rating\n",
       "0  J.K. Rowling/Mary GrandPré           4.283844"
      ]
     },
     "execution_count": 10,
     "metadata": {},
     "output_type": "execute_result"
    }
   ],
   "source": [
    "# составим запрос\n",
    "query_4 = '''\n",
    "    WITH book_ratings AS (\n",
    "        SELECT b.book_id,b.author_id, AVG(r.rating) AS avg_rating,\n",
    "            COUNT(r.rating_id) AS rating_count\n",
    "        FROM books b\n",
    "        JOIN ratings r ON b.book_id = r.book_id\n",
    "        GROUP BY b.book_id, b.author_id\n",
    "        HAVING COUNT(r.rating_id) >= 50\n",
    "    ),\n",
    "    author_avg_ratings AS (\n",
    "        SELECT a.author_id,a.author, AVG(br.avg_rating) AS author_avg_rating\n",
    "        FROM book_ratings br\n",
    "        JOIN authors a ON br.author_id = a.author_id\n",
    "        GROUP BY a.author_id, a.author\n",
    "    )\n",
    "    SELECT author,author_avg_rating\n",
    "    FROM author_avg_ratings\n",
    "    ORDER BY author_avg_rating DESC\n",
    "    LIMIT 1;\n",
    "'''\n",
    "\n",
    "# выполним запрос\n",
    "pd.io.sql.read_sql(query_4, con = engine)"
   ]
  },
  {
   "cell_type": "markdown",
   "metadata": {},
   "source": [
    "J.K. Rowling/Mary GrandPré автор с самой высокой средней оценкой книг, имеющий оценки   50 и более."
   ]
  },
  {
   "cell_type": "markdown",
   "metadata": {},
   "source": [
    "### Определение среднего количества обзоров от пользователей, которые поставили больше 48 оценок"
   ]
  },
  {
   "cell_type": "code",
   "execution_count": 11,
   "metadata": {},
   "outputs": [
    {
     "data": {
      "text/html": [
       "<div>\n",
       "<style scoped>\n",
       "    .dataframe tbody tr th:only-of-type {\n",
       "        vertical-align: middle;\n",
       "    }\n",
       "\n",
       "    .dataframe tbody tr th {\n",
       "        vertical-align: top;\n",
       "    }\n",
       "\n",
       "    .dataframe thead th {\n",
       "        text-align: right;\n",
       "    }\n",
       "</style>\n",
       "<table border=\"1\" class=\"dataframe\">\n",
       "  <thead>\n",
       "    <tr style=\"text-align: right;\">\n",
       "      <th></th>\n",
       "      <th>avg_reviews_per_user</th>\n",
       "    </tr>\n",
       "  </thead>\n",
       "  <tbody>\n",
       "    <tr>\n",
       "      <th>0</th>\n",
       "      <td>24.0</td>\n",
       "    </tr>\n",
       "  </tbody>\n",
       "</table>\n",
       "</div>"
      ],
      "text/plain": [
       "   avg_reviews_per_user\n",
       "0                  24.0"
      ]
     },
     "execution_count": 11,
     "metadata": {},
     "output_type": "execute_result"
    }
   ],
   "source": [
    "# составим запрос\n",
    "query_5 = '''\n",
    "       SELECT AVG(review_count) AS avg_reviews_per_user\n",
    "       FROM (SELECT r.username, COUNT(r.review_id) AS review_count\n",
    "       FROM reviews AS r\n",
    "       WHERE r.username IN (SELECT rt.username\n",
    "       FROM ratings AS rt\n",
    "       GROUP BY rt.username\n",
    "       HAVING COUNT(rt.rating_id) > 48)\n",
    "       GROUP BY r.username) AS review_count\n",
    "            '''\n",
    "         \n",
    "# выполним запрос       \n",
    "pd.io.sql.read_sql(query_5, con = engine)\n"
   ]
  },
  {
   "cell_type": "markdown",
   "metadata": {},
   "source": [
    "Cреднее количества обзоров от пользователей, которые поставили больше 48 оценок составляет 24."
   ]
  },
  {
   "cell_type": "markdown",
   "metadata": {},
   "source": [
    "## Вывод"
   ]
  },
  {
   "cell_type": "markdown",
   "metadata": {},
   "source": [
    "- После 01 января 2000 вышло 819 книг.\n",
    "- Для каждой книги посчет количества обзоров и средней оценки выполнен. Каждая книга содержит рейтинг.\n",
    "- Издательство Penguin Books выпустило наибольшее число книг - 42 шт., которые толще 50 страниц.\n",
    "- J.K. Rowling/Mary GrandPré автор с самой высокой средней оценкой книг, имеющий оценки 50 и более.\n",
    "- Cреднее количества обзоров от пользователей, которые поставили больше 48 оценок составляет 24."
   ]
  }
 ],
 "metadata": {
  "ExecuteTimeLog": [
   {
    "duration": 66,
    "start_time": "2024-08-31T19:43:32.736Z"
   },
   {
    "duration": 3,
    "start_time": "2024-08-31T19:52:55.311Z"
   },
   {
    "duration": 2,
    "start_time": "2024-08-31T19:53:00.165Z"
   },
   {
    "duration": 565,
    "start_time": "2024-08-31T20:02:33.327Z"
   },
   {
    "duration": 6580,
    "start_time": "2024-08-31T20:04:07.682Z"
   },
   {
    "duration": 2,
    "start_time": "2024-08-31T20:05:28.485Z"
   },
   {
    "duration": 158,
    "start_time": "2024-08-31T20:06:54.148Z"
   },
   {
    "duration": 6,
    "start_time": "2024-08-31T20:08:01.744Z"
   },
   {
    "duration": 258,
    "start_time": "2024-08-31T20:09:57.335Z"
   },
   {
    "duration": 76,
    "start_time": "2024-08-31T20:10:07.886Z"
   },
   {
    "duration": 78,
    "start_time": "2024-08-31T20:11:10.190Z"
   },
   {
    "duration": 75,
    "start_time": "2024-08-31T20:12:59.929Z"
   },
   {
    "duration": 78,
    "start_time": "2024-08-31T20:14:17.347Z"
   },
   {
    "duration": 72,
    "start_time": "2024-08-31T20:21:59.952Z"
   },
   {
    "duration": 76,
    "start_time": "2024-08-31T20:22:19.688Z"
   },
   {
    "duration": 115,
    "start_time": "2024-08-31T20:25:27.563Z"
   },
   {
    "duration": 113,
    "start_time": "2024-08-31T20:26:22.889Z"
   },
   {
    "duration": 112,
    "start_time": "2024-08-31T20:26:34.548Z"
   },
   {
    "duration": 80,
    "start_time": "2024-08-31T20:32:02.596Z"
   },
   {
    "duration": 76,
    "start_time": "2024-08-31T20:39:58.334Z"
   },
   {
    "duration": 80,
    "start_time": "2024-08-31T20:40:44.526Z"
   },
   {
    "duration": 79,
    "start_time": "2024-08-31T20:41:17.039Z"
   },
   {
    "duration": 80,
    "start_time": "2024-08-31T20:50:21.662Z"
   },
   {
    "duration": 80,
    "start_time": "2024-08-31T20:50:31.922Z"
   },
   {
    "duration": 78,
    "start_time": "2024-08-31T20:52:05.392Z"
   },
   {
    "duration": 79,
    "start_time": "2024-08-31T20:52:41.351Z"
   },
   {
    "duration": 77,
    "start_time": "2024-08-31T20:53:59.475Z"
   },
   {
    "duration": 76,
    "start_time": "2024-08-31T20:55:46.865Z"
   },
   {
    "duration": 77,
    "start_time": "2024-08-31T20:57:57.795Z"
   },
   {
    "duration": 77,
    "start_time": "2024-08-31T20:59:26.962Z"
   },
   {
    "duration": 77,
    "start_time": "2024-08-31T20:59:36.948Z"
   },
   {
    "duration": 114,
    "start_time": "2024-08-31T21:14:45.673Z"
   },
   {
    "duration": 82,
    "start_time": "2024-08-31T21:17:38.005Z"
   },
   {
    "duration": 78,
    "start_time": "2024-08-31T21:21:09.679Z"
   },
   {
    "duration": 75,
    "start_time": "2024-08-31T21:22:15.428Z"
   },
   {
    "duration": 78,
    "start_time": "2024-08-31T21:24:09.571Z"
   },
   {
    "duration": 7611,
    "start_time": "2024-08-31T21:24:19.811Z"
   },
   {
    "duration": 270,
    "start_time": "2024-08-31T21:24:27.424Z"
   },
   {
    "duration": 77,
    "start_time": "2024-08-31T21:24:27.695Z"
   },
   {
    "duration": 76,
    "start_time": "2024-08-31T21:24:27.774Z"
   },
   {
    "duration": 78,
    "start_time": "2024-08-31T21:24:27.851Z"
   },
   {
    "duration": 79,
    "start_time": "2024-08-31T21:24:27.930Z"
   },
   {
    "duration": 76,
    "start_time": "2024-08-31T21:24:28.012Z"
   },
   {
    "duration": 115,
    "start_time": "2024-08-31T21:24:28.090Z"
   },
   {
    "duration": 80,
    "start_time": "2024-08-31T21:24:28.208Z"
   },
   {
    "duration": 77,
    "start_time": "2024-08-31T21:24:28.290Z"
   },
   {
    "duration": 77,
    "start_time": "2024-08-31T21:24:28.369Z"
   },
   {
    "duration": 82,
    "start_time": "2024-08-31T21:36:29.315Z"
   },
   {
    "duration": 84,
    "start_time": "2024-08-31T21:37:49.545Z"
   },
   {
    "duration": 80,
    "start_time": "2024-08-31T21:38:56.260Z"
   },
   {
    "duration": 83,
    "start_time": "2024-08-31T21:41:00.055Z"
   },
   {
    "duration": 78,
    "start_time": "2024-08-31T21:41:27.946Z"
   },
   {
    "duration": 79,
    "start_time": "2024-08-31T21:42:14.051Z"
   },
   {
    "duration": 116,
    "start_time": "2024-08-31T21:43:25.914Z"
   },
   {
    "duration": 75,
    "start_time": "2024-08-31T21:44:17.461Z"
   },
   {
    "duration": 76,
    "start_time": "2024-08-31T21:44:42.542Z"
   },
   {
    "duration": 115,
    "start_time": "2024-08-31T21:44:58.266Z"
   },
   {
    "duration": 77,
    "start_time": "2024-08-31T21:46:25.910Z"
   },
   {
    "duration": 114,
    "start_time": "2024-08-31T21:48:40.482Z"
   },
   {
    "duration": 124,
    "start_time": "2024-08-31T21:48:56.826Z"
   },
   {
    "duration": 75,
    "start_time": "2024-08-31T21:49:19.519Z"
   },
   {
    "duration": 3,
    "start_time": "2024-08-31T21:52:03.893Z"
   },
   {
    "duration": 101,
    "start_time": "2024-08-31T21:52:20.649Z"
   },
   {
    "duration": 199,
    "start_time": "2024-08-31T21:54:10.366Z"
   },
   {
    "duration": 77,
    "start_time": "2024-08-31T21:54:55.638Z"
   },
   {
    "duration": 78,
    "start_time": "2024-08-31T21:55:02.856Z"
   },
   {
    "duration": 80,
    "start_time": "2024-08-31T21:55:24.773Z"
   },
   {
    "duration": 77,
    "start_time": "2024-08-31T21:56:33.382Z"
   },
   {
    "duration": 6612,
    "start_time": "2024-08-31T21:58:04.265Z"
   },
   {
    "duration": 250,
    "start_time": "2024-08-31T21:58:10.879Z"
   },
   {
    "duration": 71,
    "start_time": "2024-08-31T21:58:11.131Z"
   },
   {
    "duration": 71,
    "start_time": "2024-08-31T21:58:11.205Z"
   },
   {
    "duration": 72,
    "start_time": "2024-08-31T21:58:11.278Z"
   },
   {
    "duration": 74,
    "start_time": "2024-08-31T21:58:11.352Z"
   },
   {
    "duration": 73,
    "start_time": "2024-08-31T21:58:11.428Z"
   },
   {
    "duration": 110,
    "start_time": "2024-08-31T21:58:11.502Z"
   },
   {
    "duration": 72,
    "start_time": "2024-08-31T21:58:11.613Z"
   },
   {
    "duration": 76,
    "start_time": "2024-08-31T21:58:11.687Z"
   },
   {
    "duration": 74,
    "start_time": "2024-08-31T21:58:11.764Z"
   },
   {
    "duration": 6574,
    "start_time": "2024-08-31T21:59:04.067Z"
   },
   {
    "duration": 259,
    "start_time": "2024-08-31T21:59:10.643Z"
   },
   {
    "duration": 74,
    "start_time": "2024-08-31T21:59:10.904Z"
   },
   {
    "duration": 74,
    "start_time": "2024-08-31T21:59:10.980Z"
   },
   {
    "duration": 75,
    "start_time": "2024-08-31T21:59:11.056Z"
   },
   {
    "duration": 76,
    "start_time": "2024-08-31T21:59:11.133Z"
   },
   {
    "duration": 75,
    "start_time": "2024-08-31T21:59:11.210Z"
   },
   {
    "duration": 114,
    "start_time": "2024-08-31T21:59:11.287Z"
   },
   {
    "duration": 77,
    "start_time": "2024-08-31T21:59:11.403Z"
   },
   {
    "duration": 79,
    "start_time": "2024-08-31T21:59:11.483Z"
   },
   {
    "duration": 77,
    "start_time": "2024-08-31T21:59:11.564Z"
   },
   {
    "duration": 79,
    "start_time": "2024-08-31T22:01:58.051Z"
   },
   {
    "duration": 233,
    "start_time": "2024-08-31T22:03:04.401Z"
   },
   {
    "duration": 146,
    "start_time": "2024-08-31T22:03:13.843Z"
   },
   {
    "duration": 79,
    "start_time": "2024-08-31T22:03:23.453Z"
   },
   {
    "duration": 6915,
    "start_time": "2024-08-31T22:03:47.513Z"
   },
   {
    "duration": 264,
    "start_time": "2024-08-31T22:03:54.431Z"
   },
   {
    "duration": 77,
    "start_time": "2024-08-31T22:03:54.697Z"
   },
   {
    "duration": 78,
    "start_time": "2024-08-31T22:03:54.777Z"
   },
   {
    "duration": 79,
    "start_time": "2024-08-31T22:03:54.858Z"
   },
   {
    "duration": 77,
    "start_time": "2024-08-31T22:03:54.940Z"
   },
   {
    "duration": 75,
    "start_time": "2024-08-31T22:03:55.020Z"
   },
   {
    "duration": 114,
    "start_time": "2024-08-31T22:03:55.097Z"
   },
   {
    "duration": 77,
    "start_time": "2024-08-31T22:03:55.212Z"
   },
   {
    "duration": 79,
    "start_time": "2024-08-31T22:03:55.291Z"
   },
   {
    "duration": 77,
    "start_time": "2024-08-31T22:03:55.372Z"
   },
   {
    "duration": 7545,
    "start_time": "2024-09-01T11:19:05.164Z"
   },
   {
    "duration": 253,
    "start_time": "2024-09-01T11:19:12.711Z"
   },
   {
    "duration": 71,
    "start_time": "2024-09-01T11:19:12.966Z"
   },
   {
    "duration": 73,
    "start_time": "2024-09-01T11:19:13.039Z"
   },
   {
    "duration": 73,
    "start_time": "2024-09-01T11:19:13.114Z"
   },
   {
    "duration": 73,
    "start_time": "2024-09-01T11:19:13.188Z"
   },
   {
    "duration": 71,
    "start_time": "2024-09-01T11:19:13.262Z"
   },
   {
    "duration": 111,
    "start_time": "2024-09-01T11:19:13.335Z"
   },
   {
    "duration": 74,
    "start_time": "2024-09-01T11:19:13.447Z"
   },
   {
    "duration": 77,
    "start_time": "2024-09-01T11:19:13.522Z"
   },
   {
    "duration": 75,
    "start_time": "2024-09-01T11:19:13.600Z"
   }
  ],
  "kernelspec": {
   "display_name": "Python 3 (ipykernel)",
   "language": "python",
   "name": "python3"
  },
  "language_info": {
   "codemirror_mode": {
    "name": "ipython",
    "version": 3
   },
   "file_extension": ".py",
   "mimetype": "text/x-python",
   "name": "python",
   "nbconvert_exporter": "python",
   "pygments_lexer": "ipython3",
   "version": "3.9.5"
  },
  "toc": {
   "base_numbering": 1,
   "nav_menu": {},
   "number_sections": true,
   "sideBar": true,
   "skip_h1_title": true,
   "title_cell": "Table of Contents",
   "title_sidebar": "Contents",
   "toc_cell": false,
   "toc_position": {},
   "toc_section_display": true,
   "toc_window_display": true
  }
 },
 "nbformat": 4,
 "nbformat_minor": 2
}
