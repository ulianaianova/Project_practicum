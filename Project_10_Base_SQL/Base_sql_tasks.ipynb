{
  "cells": [
    {
      "cell_type": "markdown",
      "id": "74282cb2",
      "metadata": {
        "id": "74282cb2"
      },
      "source": [
        "1. Отобразите все записи из таблицы company по компаниям, которые закрылись.\n",
        "\n",
        "```sql\n",
        "SELECT *\n",
        "FROM company\n",
        "WHERE status = 'closed';\n",
        "```"
      ]
    },
    {
      "cell_type": "markdown",
      "id": "9f5d6625",
      "metadata": {
        "id": "9f5d6625"
      },
      "source": [
        "2. Отобразите количество привлечённых средств для новостных компаний США. Используйте данные из таблицы `company`. Отсортируйте таблицу по убыванию значений в поле `funding_total`.\n",
        "\n",
        "Чем занимается компания, можно понять по значению в поле `category_code`. Чтобы объединить условия, используйте логический оператор.\n",
        "\n",
        "```sql\n",
        "SELECT funding_total\n",
        "FROM company\n",
        "WHERE country_code LIKE 'USA' AND  category_code LIKE '%news%'\n",
        "ORDER BY funding_total DESC;\n",
        "```"
      ]
    },
    {
      "cell_type": "markdown",
      "source": [
        "3. Найдите общую сумму сделок по покупке одних компаний другими в долларах. Отберите сделки, которые осуществлялись только за наличные с 2011 по 2013 год включительно.\n",
        "\n",
        "Всю информацию нужно взять из таблицы `acquisition`. Способ оплаты сделки указан в поле term_code.\n",
        "\n",
        "```sql\n",
        "SELECT SUM(price_amount)\n",
        "FROM acquisition\n",
        "WHERE term_code LIKE 'cash'\n",
        "AND EXTRACT(YEAR FROM CAST (acquired_at AS DATE)) IN (2011, 2012, 2013);\n",
        "```"
      ],
      "metadata": {
        "id": "RBX7XCLl1K6S"
      },
      "id": "RBX7XCLl1K6S"
    },
    {
      "cell_type": "markdown",
      "source": [
        "4. Отобразите имя, фамилию и названия аккаунтов людей в поле `network_username`, у которых названия аккаунтов начинаются на `'Silver'`.\n",
        "\n",
        "Получите срез по шаблону.\n",
        "\n",
        "```sql\n",
        "SELECT p.first_name,\n",
        "p.last_name,\n",
        "p.network_username\n",
        "FROM people AS p\n",
        "WHERE p.network_username LIKE 'Silver%';\n",
        "```"
      ],
      "metadata": {
        "id": "hS1mKxiK2x93"
      },
      "id": "hS1mKxiK2x93"
    },
    {
      "cell_type": "markdown",
      "source": [
        "5. Выведите на экран всю информацию о людях, у которых названия аккаунтов в поле network_username содержат подстроку 'money', а фамилия начинается на 'K'.\n",
        "\n",
        "```sql\n",
        "SELECT *\n",
        "FROM people\n",
        "WHERE network_username LIKE '%money%'\n",
        "AND last_name LIKE 'K%';\n",
        "```"
      ],
      "metadata": {
        "id": "k5nGA7vZ3GId"
      },
      "id": "k5nGA7vZ3GId"
    },
    {
      "cell_type": "markdown",
      "source": [
        "6. Для каждой страны отобразите общую сумму привлечённых инвестиций, которые получили компании, зарегистрированные в этой стране. Страну, в которой зарегистрирована компания, можно определить по коду страны. Отсортируйте данные по убыванию суммы.\n",
        "\n",
        "Используйте агрегирующую функцию и группировку. При сортировке тоже можно обращаться к результату агрегирующей функции.\n",
        "\n",
        "```sql\n",
        "SELECT\n",
        "country_code,\n",
        "SUM(funding_total) AS total_funding\n",
        "FROM company\n",
        "GROUP BY country_code\n",
        "ORDER BY total_funding DESC;\n",
        "```"
      ],
      "metadata": {
        "id": "tbAUaAjv3Vem"
      },
      "id": "tbAUaAjv3Vem"
    },
    {
      "cell_type": "markdown",
      "source": [
        "7. Составьте таблицу, в которую войдёт дата проведения раунда, а также минимальное и максимальное значения суммы инвестиций, привлечённых в эту дату.\n",
        "Оставьте в итоговой таблице только те записи, в которых минимальное значение суммы инвестиций не равно нулю и не равно максимальному значению.\n",
        "\n",
        "```sql\n",
        "SELECT\n",
        "fr.funded_at,\n",
        "MIN(fr.raised_amount) AS min_investment,\n",
        "MAX(fr.raised_amount) AS max_investment\n",
        "FROM\n",
        "funding_round AS fr\n",
        "\n",
        "GROUP BY\n",
        "fr.funded_at\n",
        "HAVING\n",
        "MIN(fr.raised_amount) <> 0 AND\n",
        "MIN(fr.raised_amount) <> MAX(fr.raised_amount);\n",
        "```"
      ],
      "metadata": {
        "id": "_nVoV1Zr3Vtw"
      },
      "id": "_nVoV1Zr3Vtw"
    },
    {
      "cell_type": "markdown",
      "source": [
        "8. Создайте поле с категориями:\n",
        "\n",
        "- Для фондов, которые инвестируют в 100 и более компаний, назначьте категорию `high_activity`.\n",
        "- Для фондов, которые инвестируют в 20 и более компаний до 100, назначьте категорию `middle_activity`.\n",
        "- Если количество инвестируемых компаний фонда не достигает 20, назначьте категорию `low_activity`.\n",
        "\n",
        "Отобразите все поля таблицы `fund` и новое поле с категориями.\n",
        "\n",
        "Подсказка\n",
        "\n",
        "Создать новое поле с категориями можно оператором `CASE`.\n",
        "\n",
        "```sql\n",
        "SELECT\n",
        "*,\n",
        "CASE\n",
        "WHEN invested_companies >= 100 THEN 'high_activity'\n",
        "WHEN invested_companies >= 20 THEN 'middle_activity'\n",
        "ELSE 'low_activity'\n",
        "END AS activity_category\n",
        "FROM\n",
        "fund;\n",
        "```"
      ],
      "metadata": {
        "id": "dFxbLsfT1lNC"
      },
      "id": "dFxbLsfT1lNC"
    },
    {
      "cell_type": "markdown",
      "source": [
        "9. Для каждой из категорий, назначенных в предыдущем задании, посчитайте округлённое до ближайшего целого числа среднее количество инвестиционных раундов, в которых фонд принимал участие. Выведите на экран категории и среднее число инвестиционных раундов. Отсортируйте таблицу по возрастанию среднего.\n",
        "\n",
        "```sql\n",
        "SELECT\n",
        "activity,\n",
        "ROUND(AVG(investment_rounds)) AS avg_investment_rounds\n",
        "FROM (\n",
        "SELECT\n",
        "*,\n",
        "CASE\n",
        "WHEN invested_companies >= 100 THEN 'high_activity'\n",
        "WHEN invested_companies >= 20 THEN 'middle_activity'\n",
        "ELSE 'low_activity'\n",
        "END AS activity\n",
        "FROM fund\n",
        ") AS categorized_funds\n",
        "GROUP BY\n",
        "activity\n",
        "ORDER BY\n",
        "avg_investment_rounds ASC;\n",
        "```"
      ],
      "metadata": {
        "id": "OyPyLjKs1BDV"
      },
      "id": "OyPyLjKs1BDV"
    },
    {
      "cell_type": "markdown",
      "source": [
        "10. Проанализируйте, в каких странах находятся фонды, которые чаще всего инвестируют в стартапы.\n",
        "Для каждой страны посчитайте минимальное, максимальное и среднее число компаний, в которые инвестировали фонды этой страны, основанные с 2010 по 2012 год включительно. Исключите страны с фондами, у которых минимальное число компаний, получивших инвестиции, равно нулю.\n",
        "Выгрузите десять самых активных стран-инвесторов: отсортируйте таблицу по среднему количеству компаний от большего к меньшему. Затем добавьте сортировку по коду страны в лексикографическом порядке.\n",
        "\n",
        "```sql\n",
        "SELECT\n",
        "MIN(invested_companies) AS min_invested_companies,\n",
        "MAX(invested_companies) AS max_invested_companies,\n",
        "AVG(invested_companies) AS avg_invested_companies,\n",
        "country_code\n",
        "FROM\n",
        "fund\n",
        "WHERE\n",
        "EXTRACT(YEAR FROM CAST(founded_at AS DATE)) BETWEEN 2010 AND 2012\n",
        "GROUP BY\n",
        "country_code\n",
        "HAVING\n",
        "MIN(invested_companies) !=0\n",
        "ORDER BY\n",
        "AVG(invested_companies) DESC\n",
        "LIMIT 10;\n",
        "```"
      ],
      "metadata": {
        "id": "Op8GRU7Z4Lso"
      },
      "id": "Op8GRU7Z4Lso"
    },
    {
      "cell_type": "markdown",
      "source": [
        "11. Отобразите имя и фамилию всех сотрудников стартапов. Добавьте поле с названием учебного заведения, которое окончил сотрудник, если эта информация известна.\n",
        "\n",
        "```sql\n",
        "SELECT\n",
        "p.first_name,\n",
        "p.last_name,\n",
        "e.instituition\n",
        "FROM\n",
        "people AS p\n",
        "LEFT JOIN education AS e ON p.id = e.person_id;\n",
        "```"
      ],
      "metadata": {
        "id": "gl0Tv9Te4i-E"
      },
      "id": "gl0Tv9Te4i-E"
    },
    {
      "cell_type": "markdown",
      "source": [
        "12. Для каждой компании найдите количество учебных заведений, которые окончили её сотрудники. Выведите название компании и число уникальных названий учебных заведений. Составьте топ-5 компаний по количеству университетов.\n",
        "\n",
        "```sql\n",
        "SELECT c.name,\n",
        "COUNT(DISTINCT e.instituition) as inst\n",
        "FROM company AS c\n",
        "INNER JOIN people AS p ON c.id=p.company_id\n",
        "INNER JOIN education AS e ON p.id=e.person_id\n",
        "GROUP BY c.name\n",
        "ORDER BY inst DESC\n",
        "LIMIT 5;\n",
        "```"
      ],
      "metadata": {
        "id": "j6fX6mo75jMC"
      },
      "id": "j6fX6mo75jMC"
    },
    {
      "cell_type": "markdown",
      "source": [
        "13. Составьте список с уникальными названиями закрытых компаний, для которых первый раунд финансирования оказался последним.\n",
        "\n",
        "```sql\n",
        "SELECT DISTINCT name\n",
        "FROM company\n",
        "WHERE status LIKE 'closed'\n",
        "AND id IN (SELECT company_id\n",
        "FROM funding_round\n",
        "WHERE is_first_round = 1\n",
        "AND is_last_round = 1);\n",
        "```"
      ],
      "metadata": {
        "id": "QHC8ulrL5uCM"
      },
      "id": "QHC8ulrL5uCM"
    },
    {
      "cell_type": "markdown",
      "source": [
        "14. Составьте список уникальных номеров сотрудников, которые работают в компаниях, отобранных в предыдущем задании.\n",
        "\n",
        "```sql\n",
        "SSELECT DISTINCT p.id\n",
        "FROM company AS c\n",
        "INNER JOIN people AS p ON c.id = p.company_id\n",
        "WHERE c.status LIKE 'closed'\n",
        "AND c.id IN (SELECT company_id\n",
        "FROM funding_round\n",
        "WHERE is_first_round = 1\n",
        "AND is_last_round = 1);\n",
        "```"
      ],
      "metadata": {
        "id": "nWE6P-3G57kK"
      },
      "id": "nWE6P-3G57kK"
    },
    {
      "cell_type": "markdown",
      "source": [
        "15. Составьте таблицу, куда войдут уникальные пары с номерами сотрудников из предыдущей задачи и учебным заведением, которое окончил сотрудник.\n",
        "\n",
        "Дополните предыдущий запрос.\n",
        "\n",
        "```sql\n",
        "SELECT DISTINCT p.id,\n",
        "e.instituition\n",
        "FROM company AS c\n",
        "INNER JOIN people AS p ON c.id = p.company_id\n",
        "LEFT JOIN education AS e ON p.id = e.person_id\n",
        "WHERE c.status LIKE 'closed'\n",
        "AND c.id IN (SELECT company_id\n",
        "FROM funding_round\n",
        "WHERE is_first_round = 1\n",
        "AND is_last_round = 1)\n",
        "AND e.instituition IS NOT NULL;\n",
        "```"
      ],
      "metadata": {
        "id": "NuwZ_lJR6CKP"
      },
      "id": "NuwZ_lJR6CKP"
    },
    {
      "cell_type": "markdown",
      "source": [
        "16. Посчитайте количество учебных заведений для каждого сотрудника из предыдущего задания. При подсчёте учитывайте, что некоторые сотрудники могли окончить одно и то же заведение дважды.\n",
        "\n",
        "К предыдущему запросу добавьте группировку и агрегирующую функцию.\n",
        "\n",
        "```sql\n",
        "SELECT DISTINCT p.id,\n",
        "COUNT(e.instituition)\n",
        "FROM company AS c\n",
        "INNER JOIN people AS p ON c.id = p.company_id\n",
        "LEFT JOIN education AS e ON p.id = e.person_id\n",
        "WHERE c.status LIKE 'closed'\n",
        "AND c.id IN (SELECT company_id\n",
        "FROM funding_round\n",
        "WHERE is_first_round = 1\n",
        "AND is_last_round = 1)\n",
        "AND e.instituition IS NOT NULL\n",
        "GROUP BY p.id;```"
      ],
      "metadata": {
        "id": "Foo13e-86JHq"
      },
      "id": "Foo13e-86JHq"
    },
    {
      "cell_type": "markdown",
      "source": [
        "17. Дополните предыдущий запрос и выведите среднее число учебных заведений (всех, не только уникальных), которые окончили сотрудники разных компаний. Нужно вывести только одну запись, группировка здесь не понадобится.\n",
        "\n",
        "Используйте подзапрос, чтобы найти среднее от данных, которые вы получили в результате предыдущего запроса.\n",
        "\n",
        "```sql\n",
        "SELECT AVG(tab1.count_in)\n",
        "FROM (SELECT DISTINCT p.id,\n",
        "COUNT(e.instituition) AS count_in\n",
        "FROM company AS c\n",
        "INNER JOIN people AS p ON c.id = p.company_id\n",
        "LEFT JOIN education AS e ON p.id = e.person_id\n",
        "WHERE c.status LIKE 'closed'\n",
        "AND c.id IN (SELECT company_id\n",
        "FROM funding_round\n",
        "WHERE is_first_round = 1\n",
        "AND is_last_round = 1)\n",
        "AND  e.instituition IS NOT NULL\n",
        "GROUP BY p.id) AS tab1;\n",
        "```"
      ],
      "metadata": {
        "id": "iK13MEBz6QX6"
      },
      "id": "iK13MEBz6QX6"
    },
    {
      "cell_type": "markdown",
      "source": [
        "18. Напишите похожий запрос: выведите среднее число учебных заведений (всех, не только уникальных), которые окончили сотрудники Socialnet.\n",
        "\n",
        "Этот запрос похож на предыдущий, нужно только изменить условия для среза.\n",
        "\n",
        "```sql\n",
        "SELECT AVG(tab1.count_in)\n",
        "FROM (SELECT DISTINCT p.id,\n",
        "COUNT(e.instituition) AS count_in\n",
        "FROM company AS c\n",
        "INNER JOIN people AS p ON c.id = p.company_id\n",
        "LEFT JOIN education AS e ON p.id = e.person_id\n",
        "WHERE c.name LIKE 'Socialnet'\n",
        "AND  e.instituition IS NOT NULL\n",
        "GROUP BY p.id\n",
        ") AS tab1;\n",
        "```"
      ],
      "metadata": {
        "id": "6ccDwwE86WQA"
      },
      "id": "6ccDwwE86WQA"
    },
    {
      "cell_type": "markdown",
      "source": [
        "19. Составьте таблицу из полей:\n",
        "\n",
        "- `name_of_fund` — название фонда;\n",
        "- `name_of_company` — название компании;\n",
        "- `amount` — сумма инвестиций, которую привлекла компания в раунде.\n",
        "\n",
        "В таблицу войдут данные о компаниях, в истории которых было больше шести важных этапов, а раунды финансирования проходили с 2012 по 2013 год включительно.\n",
        "\n",
        "Подсказка\n",
        "\n",
        "Начните с таблицы `investment` и присоедините к ней таблицы `company` и `fund`. Последней можете присоединить таблицу `funding_round`, но это только рекомендация. Вы можете написать запрос по-своему.\n",
        "\n",
        "```sql\n",
        "SELECT f.name AS name_of_fund,\n",
        "c.name AS name_of_company,\n",
        "fr.raised_amount AS amount\n",
        "FROM investment AS i\n",
        "JOIN company AS c ON i.company_id = c.id\n",
        "JOIN fund AS f ON i.fund_id = f.id\n",
        "JOIN funding_round AS fr ON i.funding_round_id = fr.id\n",
        "WHERE EXTRACT(YEAR FROM fr.funded_at) BETWEEN 2012 AND 2013\n",
        "AND c.milestones > 6;\n",
        "```"
      ],
      "metadata": {
        "id": "he52rtl76eUB"
      },
      "id": "he52rtl76eUB"
    },
    {
      "cell_type": "markdown",
      "source": [
        "20. Выгрузите таблицу, в которой будут такие поля:\n",
        "\n",
        "- название компании-покупателя;\n",
        "- сумма сделки;\n",
        "- название компании, которую купили;\n",
        "- сумма инвестиций, вложенных в купленную компанию;\n",
        "- доля, которая отображает, во сколько раз сумма покупки превысила сумму вложенных в компанию инвестиций, округлённая до ближайшего целого числа.\n",
        "\n",
        "Не учитывайте те сделки, в которых сумма покупки равна нулю. Если сумма инвестиций в компанию равна нулю, исключите такую компанию из таблицы.\n",
        "\n",
        "Отсортируйте таблицу по сумме сделки от большей к меньшей, а затем по названию купленной компании в лексикографическом порядке. Ограничьте таблицу первыми десятью записями.\n",
        "\n",
        "Самая важная таблица — `acquisition`. Эта таблица содержит информацию о покупках одних компаний другими, поэтому данные из неё пропасть не должны. Выбирайте способ присоединения внимательно.\n",
        "\n",
        "```sql\n",
        "SELECT company.name AS acquiring_company,\n",
        "tab2.price_amount,\n",
        "tab2.acquired_company,\n",
        "tab2.funding_total,\n",
        "ROUND(tab2.price_amount / tab2.funding_total)\n",
        "FROM\n",
        "(\n",
        "SELECT c.name AS acquired_company,\n",
        "c.funding_total,\n",
        "tab1.acquiring_company_id,\n",
        "tab1.price_amount\n",
        "FROM company AS c\n",
        "RIGHT JOIN (\n",
        "SELECT acquiring_company_id,\n",
        "acquired_company_id,\n",
        "price_amount\n",
        "FROM acquisition\n",
        "WHERE price_amount > 0\n",
        ") AS tab1 ON c.id = tab1.acquired_company_id\n",
        ") AS tab2 LEFT JOIN company ON company.id  = tab2.acquiring_company_id\n",
        "WHERE tab2.funding_total > 0\n",
        "ORDER BY  tab2.price_amount DESC, tab2.acquired_company\n",
        "LIMIT 10;\n",
        "```"
      ],
      "metadata": {
        "id": "88oWvADP6qCM"
      },
      "id": "88oWvADP6qCM"
    },
    {
      "cell_type": "markdown",
      "source": [
        "21. Выгрузите таблицу, в которую войдут названия компаний из категории `social`, получившие финансирование с 2010 по 2013 год включительно. Проверьте, что сумма инвестиций не равна нулю. Выведите также номер месяца, в котором проходил раунд финансирования.\n",
        "\n",
        "\n",
        "Отберите компании, которые участвовали в раундах с 2010 по 2013 год включительно и привлекли любую сумму инвестиций, не равную нулю. Вам понадобятся таблицы `company` и `funding_round`.\n",
        "\n",
        "```sql\n",
        "SELECT c.name,\n",
        "tab1.month\n",
        "FROM company AS c\n",
        "RIGHT JOIN (\n",
        "SELECT company_id,\n",
        "EXTRACT(MONTH FROM funded_at) AS month\n",
        "FROM funding_round\n",
        "WHERE EXTRACT(YEAR FROM funded_at) BETWEEN 2010 AND 2013\n",
        "AND raised_amount != 0) AS tab1 ON c.id = tab1.company_id\n",
        "WHERE c.category_code LIKE 'social';\n",
        "```"
      ],
      "metadata": {
        "id": "X4aUAr0dDMce"
      },
      "id": "X4aUAr0dDMce"
    },
    {
      "cell_type": "markdown",
      "source": [
        "22. Отберите данные по месяцам с 2010 по 2013 год, когда проходили инвестиционные раунды. Сгруппируйте данные по номеру месяца и получите таблицу, в которой будут поля:\n",
        "\n",
        "- номер месяца, в котором проходили раунды;\n",
        "- количество уникальных названий фондов из США, которые инвестировали в этом месяце;\n",
        "- количество компаний, купленных за этот месяц;\n",
        "- общая сумма сделок по покупкам в этом месяце.\n",
        "\n",
        "\n",
        "Чтобы вычислить номер месяца проведения раундов, используйте значения в поле `funded_at` в таблице `funding_round`. Два последних поля — с количеством купленных компаний и с суммой сделок — можно получить, взяв данные из таблицы `acquisition`. Используйте общие табличные выражения — будет легче не запутаться в присоединении.\n",
        "```sql\n",
        "WITH\n",
        "-- выбираем месяц инвестиционных раундов в 2010-2013 гг\n",
        "tab1 AS (SELECT EXTRACT(MONTH FROM funded_at) AS month,\n",
        "id AS funding_round_id\n",
        "FROM funding_round\n",
        "WHERE EXTRACT(YEAR FROM funded_at) BETWEEN 2010 AND 2013\n",
        "),\n",
        "\n",
        "- - считаем кол-во купленных и общую сумму по сделкам за 2010-2013 гг в разрезе месяца\n",
        "tab2 AS (SELECT EXTRACT(MONTH FROM acquired_at) AS month,\n",
        "COUNT(acquired_company_id) AS count_acquired,\n",
        "SUM(price_amount) AS total_amount\n",
        "FROM acquisition\n",
        "WHERE EXTRACT(YEAR FROM acquired_at) BETWEEN 2010 AND 2013\n",
        "GROUP BY EXTRACT(MONTH FROM acquired_at)\n",
        "),\n",
        "- - ищем фонды из США\n",
        "tab3 AS (SELECT i.funding_round_id,\n",
        "[f.name](http://f.name/)\n",
        "FROM investment AS i\n",
        "JOIN fund AS f ON [f.id](http://f.id/) = i.fund_id\n",
        "WHERE fund_id IN (SELECT id\n",
        "FROM fund\n",
        "WHERE country_code LIKE 'USA')\n",
        "),\n",
        "\n",
        "tab4 AS (SELECT month,\n",
        "COUNT(DISTINCT name) AS count_USA\n",
        "FROM tab1\n",
        "LEFT JOIN tab3 ON tab1.funding_round_id = tab3.funding_round_id\n",
        "GROUP BY month)\n",
        "\n",
        "SELECT tab4.month,\n",
        "tab4.count_USA,\n",
        "tab2.count_acquired,\n",
        "tab2.total_amount\n",
        "FROM tab4\n",
        "LEFT JOIN tab2 ON tab4.month = tab2.month;\n",
        "```"
      ],
      "metadata": {
        "id": "K9oCnP7GDcye"
      },
      "id": "K9oCnP7GDcye"
    },
    {
      "cell_type": "markdown",
      "source": [
        "23. Составьте сводную таблицу и выведите среднюю сумму инвестиций для стран, в которых есть стартапы, зарегистрированные в 2011, 2012 и 2013 годах. Данные за каждый год должны быть в отдельном поле. Отсортируйте таблицу по среднему значению инвестиций за 2011 год от большего к меньшему.\n",
        "\n",
        "```sql\n",
        "WITH\n",
        "inv_2011 AS (SELECT AVG(funding_total) AS inv_2011,\n",
        "country_code\n",
        "FROM company\n",
        "GROUP BY country_code,\n",
        "EXTRACT(YEAR FROM founded_at)\n",
        "HAVING EXTRACT(YEAR FROM founded_at) = 2011),\n",
        "\n",
        "inv_2012 AS (SELECT AVG(funding_total) AS  inv_2012,\n",
        "                  country_code\n",
        "           FROM company\n",
        "           GROUP BY country_code,\n",
        "           EXTRACT(YEAR FROM founded_at)\n",
        "           HAVING EXTRACT(YEAR FROM founded_at) = 2012),\n",
        "\n",
        "  inv_2013 AS (SELECT AVG(funding_total) AS inv_2013,\n",
        "                  country_code\n",
        "           FROM company\n",
        "           GROUP BY country_code,\n",
        "           EXTRACT(YEAR FROM founded_at)\n",
        "           HAVING EXTRACT(YEAR FROM founded_at) = 2013)\n",
        "SELECT inv_2011.country_code,\n",
        "inv_2011.inv_2011,\n",
        "inv_2012.inv_2012,\n",
        "inv_2013.inv_2013\n",
        "\n",
        "FROM inv_2011\n",
        "INNER JOIN inv_2012 ON inv_2011.country_code = inv_2012.country_code\n",
        "INNER JOIN inv_2013 ON inv_2011.country_code = inv_2013.country_code\n",
        "ORDER BY inv_2011.inv_2011 DESC;\n",
        "```"
      ],
      "metadata": {
        "id": "WDqfKAVSDsip"
      },
      "id": "WDqfKAVSDsip"
    }
  ],
  "metadata": {
    "colab": {
      "provenance": []
    }
  },
  "nbformat": 4,
  "nbformat_minor": 5
}