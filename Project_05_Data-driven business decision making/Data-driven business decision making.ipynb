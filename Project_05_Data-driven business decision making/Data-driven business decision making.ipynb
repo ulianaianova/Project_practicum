{
 "cells": [
  {
   "cell_type": "markdown",
   "metadata": {},
   "source": [
    "# Принятие решений в бизнесе на основе данных"
   ]
  },
  {
   "cell_type": "markdown",
   "metadata": {},
   "source": [
    "**Заказчик**"
   ]
  },
  {
   "cell_type": "markdown",
   "metadata": {},
   "source": [
    "Интернет-магазин"
   ]
  },
  {
   "cell_type": "markdown",
   "metadata": {},
   "source": [
    "**Цель проекта**"
   ]
  },
  {
   "cell_type": "markdown",
   "metadata": {},
   "source": [
    "- Необходимость приоритизировать гипотезы из списка гипотез, предоставленных отделом Маркетинга;\n",
    "\n",
    "- Анализа результатов проведенного А/В-тестирования и аргументация решения по результатам теста.\n",
    "\n",
    "Варианты решений:\n",
    "\n",
    "- Остановить тест, зафиксировать победу одной из групп.\n",
    "- Остановить тест, зафиксировать отсутствие различий между группами.\n",
    "- Продолжить тест."
   ]
  },
  {
   "cell_type": "markdown",
   "metadata": {},
   "source": [
    "**План**"
   ]
  },
  {
   "cell_type": "markdown",
   "metadata": {},
   "source": [
    "1. Подготовка данных к анализу\n",
    "- Загрузить данные из таблиц, провести первичный анализ\n",
    "- Оптимизировать данные для анализа (поиск дублей, анализ пропусков, проверка названий столбцов и т.п.)\n",
    "- Проверка/корректировка типов данных\n",
    "2. Приоритизация гипотез\n",
    "- Применить фреймворк ICE для приоритизации гипотез. Отсортировать их по убыванию приоритета.\n",
    "- Применить фреймворк RICE для приоритизации гипотез. Отсортировать их по убыванию приоритета.\n",
    "- Указать, как изменилась приоритизация гипотез при применении RICE вместо ICE. Объяснить, почему так произошло.\n",
    "3. Анализ A/B-теста\n",
    "- Построить график кумулятивной выручки по группам. Сделать выводы и предположения.\n",
    "- Построить график кумулятивного среднего чека по группам. Сделать выводы и предположения.\n",
    "- Построить график относительного изменения кумулятивного среднего чека группы B к группе A. Сделать выводы и предположения.\n",
    "- Построить график кумулятивной конверсии по группам. Сделать выводы и предположения.\n",
    "- Построить график относительного изменения кумулятивной конверсии группы B к группе A. Сделать выводы и предположения.\n",
    "- Построить точечный график количества заказов по пользователям. Сделать выводы и предположения.\n",
    "- Посчитать 95-й и 99-й перцентили количества заказов на пользователя. Выбрать границу для определения аномальных пользователей.\n",
    "- Построить точечный график стоимостей заказов. Сделать выводы и предположения.\n",
    "- Посчитать 95-й и 99-й перцентили стоимости заказов. Выбрать границу для определения аномальных заказов.\n",
    "4. Статистическая значимость\n",
    "- Посчитать статистическую значимость различий в конверсии между группами по «сырым» данным. Сделать выводы и предположения.\n",
    "- Посчитать статистическую значимость различий в среднем чеке заказа между группами по «сырым» данным. Сделать выводы и предположения.\n",
    "- Посчитать статистическую значимость различий в конверсии между группами по «очищенным» данным. Сделать выводы и предположения.\n",
    "- Посчитать статистическую значимость различий в среднем чеке заказа между группами по «очищенным» данным. Сделать выводы и предположения.\n",
    "- Принять решение по результатам теста и объяснить его. Варианты решений: 1. Остановить тест, зафиксировать победу одной из групп. 2. Остановить тест, зафиксировать отсутствие различий между группами. 3. Продолжить тест."
   ]
  },
  {
   "cell_type": "markdown",
   "metadata": {},
   "source": [
    "**Описание данных**\n",
    "\n",
    "**Данные для первой части**\n",
    "\n",
    "Файл `/datasets/hypothesis.csv`. \n",
    "\n",
    "- `Hypothesis` — краткое описание гипотезы;\n",
    "- `Reach` — охват пользователей по 10-балльной шкале;\n",
    "- `Impact` — влияние на пользователей по 10-балльной шкале;\n",
    "- `Confidence` — уверенность в гипотезе по 10-балльной шкале;\n",
    "- `Efforts` — затраты ресурсов на проверку гипотезы по 10-балльной шкале. Чем больше значение `Efforts`, тем дороже проверка гипотезы.\n",
    "\n",
    "**Данные для второй части**\n",
    "\n",
    "Файл `/datasets/orders.csv`. \n",
    "\n",
    "- `transactionId` — идентификатор заказа;\n",
    "- `visitorId` — идентификатор пользователя, совершившего заказ;\n",
    "- `date` — дата, когда был совершён заказ;\n",
    "- `revenue` — выручка заказа;\n",
    "- `group` — группа A/B-теста, в которую попал заказ.\n",
    "\n",
    "Файл `/datasets/visitors.csv`. \n",
    "\n",
    "- `date` — дата;\n",
    "- `group` — группа A/B-теста;\n",
    "- `visitors` — количество пользователей в указанную дату в указанной группе A/B-теста"
   ]
  },
  {
   "cell_type": "markdown",
   "metadata": {},
   "source": [
    "## Подготовка данных к анализу"
   ]
  },
  {
   "cell_type": "markdown",
   "metadata": {},
   "source": [
    "Осуществим импорт необходимых библиотек."
   ]
  },
  {
   "cell_type": "code",
   "execution_count": 1,
   "metadata": {},
   "outputs": [],
   "source": [
    "import pandas as pd\n",
    "import matplotlib.pyplot as plt\n",
    "import math\n",
    "import seaborn as sns\n",
    "import scipy.stats as stats\n",
    "import numpy as np\n",
    "from scipy import stats as st\n",
    "import datetime as dt\n",
    "from scipy.stats import mannwhitneyu"
   ]
  },
  {
   "cell_type": "code",
   "execution_count": 2,
   "metadata": {},
   "outputs": [],
   "source": [
    "# Установим  максимальное количество отображаемых столбцов при выводе df. \n",
    "pd.set_option('display.max_columns', None)"
   ]
  },
  {
   "cell_type": "code",
   "execution_count": 3,
   "metadata": {},
   "outputs": [],
   "source": [
    "# Установим максимальное количество отображаемых строк при выводе df.\n",
    "pd.set_option('display.max_rows', None)"
   ]
  },
  {
   "cell_type": "code",
   "execution_count": 4,
   "metadata": {},
   "outputs": [],
   "source": [
    "# Установим количество знаков после запятой для числовых данных при выводе df до двух.\n",
    "pd.set_option('display.precision',2)"
   ]
  },
  {
   "cell_type": "code",
   "execution_count": 5,
   "metadata": {},
   "outputs": [],
   "source": [
    "# Для выведения названий гипотиз целиком.\n",
    "pd.set_option('display.max_colwidth', False)"
   ]
  },
  {
   "cell_type": "markdown",
   "metadata": {},
   "source": [
    "Загрузим таблицы и проанализируем их содержимое."
   ]
  },
  {
   "cell_type": "code",
   "execution_count": 6,
   "metadata": {},
   "outputs": [],
   "source": [
    "# Данные для первой части\n",
    "hypothesis = pd.read_csv('/datasets/hypothesis.csv')"
   ]
  },
  {
   "cell_type": "code",
   "execution_count": 7,
   "metadata": {},
   "outputs": [],
   "source": [
    "# Данные для второй части\n",
    "orders = pd.read_csv('/datasets/orders.csv')"
   ]
  },
  {
   "cell_type": "code",
   "execution_count": 8,
   "metadata": {},
   "outputs": [],
   "source": [
    "# Данные для второй части\n",
    "visitors = pd.read_csv('/datasets/visitors.csv')"
   ]
  },
  {
   "cell_type": "markdown",
   "metadata": {},
   "source": [
    "**df 'hypothesis'** "
   ]
  },
  {
   "cell_type": "code",
   "execution_count": 9,
   "metadata": {},
   "outputs": [
    {
     "data": {
      "text/html": [
       "<div>\n",
       "<style scoped>\n",
       "    .dataframe tbody tr th:only-of-type {\n",
       "        vertical-align: middle;\n",
       "    }\n",
       "\n",
       "    .dataframe tbody tr th {\n",
       "        vertical-align: top;\n",
       "    }\n",
       "\n",
       "    .dataframe thead th {\n",
       "        text-align: right;\n",
       "    }\n",
       "</style>\n",
       "<table border=\"1\" class=\"dataframe\">\n",
       "  <thead>\n",
       "    <tr style=\"text-align: right;\">\n",
       "      <th></th>\n",
       "      <th>Hypothesis</th>\n",
       "      <th>Reach</th>\n",
       "      <th>Impact</th>\n",
       "      <th>Confidence</th>\n",
       "      <th>Efforts</th>\n",
       "    </tr>\n",
       "  </thead>\n",
       "  <tbody>\n",
       "    <tr>\n",
       "      <th>0</th>\n",
       "      <td>Добавить два новых канала привлечения трафика, что позволит привлекать на 30% больше пользователей</td>\n",
       "      <td>3</td>\n",
       "      <td>10</td>\n",
       "      <td>8</td>\n",
       "      <td>6</td>\n",
       "    </tr>\n",
       "    <tr>\n",
       "      <th>1</th>\n",
       "      <td>Запустить собственную службу доставки, что сократит срок доставки заказов</td>\n",
       "      <td>2</td>\n",
       "      <td>5</td>\n",
       "      <td>4</td>\n",
       "      <td>10</td>\n",
       "    </tr>\n",
       "    <tr>\n",
       "      <th>2</th>\n",
       "      <td>Добавить блоки рекомендаций товаров на сайт интернет магазина, чтобы повысить конверсию и средний чек заказа</td>\n",
       "      <td>8</td>\n",
       "      <td>3</td>\n",
       "      <td>7</td>\n",
       "      <td>3</td>\n",
       "    </tr>\n",
       "    <tr>\n",
       "      <th>3</th>\n",
       "      <td>Изменить структура категорий, что увеличит конверсию, т.к. пользователи быстрее найдут нужный товар</td>\n",
       "      <td>8</td>\n",
       "      <td>3</td>\n",
       "      <td>3</td>\n",
       "      <td>8</td>\n",
       "    </tr>\n",
       "    <tr>\n",
       "      <th>4</th>\n",
       "      <td>Изменить цвет фона главной страницы, чтобы увеличить вовлеченность пользователей</td>\n",
       "      <td>3</td>\n",
       "      <td>1</td>\n",
       "      <td>1</td>\n",
       "      <td>1</td>\n",
       "    </tr>\n",
       "  </tbody>\n",
       "</table>\n",
       "</div>"
      ],
      "text/plain": [
       "                                                                                                     Hypothesis  \\\n",
       "0  Добавить два новых канала привлечения трафика, что позволит привлекать на 30% больше пользователей             \n",
       "1  Запустить собственную службу доставки, что сократит срок доставки заказов                                      \n",
       "2  Добавить блоки рекомендаций товаров на сайт интернет магазина, чтобы повысить конверсию и средний чек заказа   \n",
       "3  Изменить структура категорий, что увеличит конверсию, т.к. пользователи быстрее найдут нужный товар            \n",
       "4  Изменить цвет фона главной страницы, чтобы увеличить вовлеченность пользователей                               \n",
       "\n",
       "   Reach  Impact  Confidence  Efforts  \n",
       "0  3      10      8           6        \n",
       "1  2      5       4           10       \n",
       "2  8      3       7           3        \n",
       "3  8      3       3           8        \n",
       "4  3      1       1           1        "
      ]
     },
     "metadata": {},
     "output_type": "display_data"
    }
   ],
   "source": [
    "# Отобразим первые пять строк df 'hypothesis'\n",
    "display(hypothesis.head())"
   ]
  },
  {
   "cell_type": "code",
   "execution_count": 10,
   "metadata": {},
   "outputs": [
    {
     "name": "stdout",
     "output_type": "stream",
     "text": [
      "<class 'pandas.core.frame.DataFrame'>\n",
      "RangeIndex: 9 entries, 0 to 8\n",
      "Data columns (total 5 columns):\n",
      " #   Column      Non-Null Count  Dtype \n",
      "---  ------      --------------  ----- \n",
      " 0   Hypothesis  9 non-null      object\n",
      " 1   Reach       9 non-null      int64 \n",
      " 2   Impact      9 non-null      int64 \n",
      " 3   Confidence  9 non-null      int64 \n",
      " 4   Efforts     9 non-null      int64 \n",
      "dtypes: int64(4), object(1)\n",
      "memory usage: 488.0+ bytes\n"
     ]
    },
    {
     "data": {
      "text/plain": [
       "None"
      ]
     },
     "metadata": {},
     "output_type": "display_data"
    }
   ],
   "source": [
    "# Выведем краткую информацию о df 'hypothesis'\n",
    "display(hypothesis.info())"
   ]
  },
  {
   "cell_type": "markdown",
   "metadata": {},
   "source": [
    "- Количество записей: 9, количество столбцов: 5\n",
    "- Столбцы: Hypothesis (тип данных: object), Reach (тип данных: int64), Impact (тип данных: int64), Confidence (тип данных: int64), Efforts (тип данных: int64)\n",
    "- Не содержат пропусков: Все столбцы имеют по 9 непустых значений.\n",
    "- В четырех столбцах (Reach, Impact, Confidence, Efforts) хранятся целочисленные значения (int64), а в одном столбце (Hypothesis) хранятся строковые значения (object).\n",
    "- Все данные представлены в корректном формате, отсутствуют пропущенные значения."
   ]
  },
  {
   "cell_type": "code",
   "execution_count": 11,
   "metadata": {},
   "outputs": [
    {
     "data": {
      "text/html": [
       "<div>\n",
       "<style scoped>\n",
       "    .dataframe tbody tr th:only-of-type {\n",
       "        vertical-align: middle;\n",
       "    }\n",
       "\n",
       "    .dataframe tbody tr th {\n",
       "        vertical-align: top;\n",
       "    }\n",
       "\n",
       "    .dataframe thead th {\n",
       "        text-align: right;\n",
       "    }\n",
       "</style>\n",
       "<table border=\"1\" class=\"dataframe\">\n",
       "  <thead>\n",
       "    <tr style=\"text-align: right;\">\n",
       "      <th></th>\n",
       "      <th>Reach</th>\n",
       "      <th>Impact</th>\n",
       "      <th>Confidence</th>\n",
       "      <th>Efforts</th>\n",
       "    </tr>\n",
       "  </thead>\n",
       "  <tbody>\n",
       "    <tr>\n",
       "      <th>count</th>\n",
       "      <td>9.00</td>\n",
       "      <td>9.00</td>\n",
       "      <td>9.00</td>\n",
       "      <td>9.00</td>\n",
       "    </tr>\n",
       "    <tr>\n",
       "      <th>mean</th>\n",
       "      <td>4.78</td>\n",
       "      <td>4.78</td>\n",
       "      <td>5.56</td>\n",
       "      <td>4.89</td>\n",
       "    </tr>\n",
       "    <tr>\n",
       "      <th>std</th>\n",
       "      <td>3.15</td>\n",
       "      <td>3.19</td>\n",
       "      <td>3.05</td>\n",
       "      <td>2.80</td>\n",
       "    </tr>\n",
       "    <tr>\n",
       "      <th>min</th>\n",
       "      <td>1.00</td>\n",
       "      <td>1.00</td>\n",
       "      <td>1.00</td>\n",
       "      <td>1.00</td>\n",
       "    </tr>\n",
       "    <tr>\n",
       "      <th>25%</th>\n",
       "      <td>3.00</td>\n",
       "      <td>3.00</td>\n",
       "      <td>3.00</td>\n",
       "      <td>3.00</td>\n",
       "    </tr>\n",
       "    <tr>\n",
       "      <th>50%</th>\n",
       "      <td>3.00</td>\n",
       "      <td>3.00</td>\n",
       "      <td>7.00</td>\n",
       "      <td>5.00</td>\n",
       "    </tr>\n",
       "    <tr>\n",
       "      <th>75%</th>\n",
       "      <td>8.00</td>\n",
       "      <td>7.00</td>\n",
       "      <td>8.00</td>\n",
       "      <td>6.00</td>\n",
       "    </tr>\n",
       "    <tr>\n",
       "      <th>max</th>\n",
       "      <td>10.00</td>\n",
       "      <td>10.00</td>\n",
       "      <td>9.00</td>\n",
       "      <td>10.00</td>\n",
       "    </tr>\n",
       "  </tbody>\n",
       "</table>\n",
       "</div>"
      ],
      "text/plain": [
       "       Reach  Impact  Confidence  Efforts\n",
       "count  9.00   9.00    9.00        9.00   \n",
       "mean   4.78   4.78    5.56        4.89   \n",
       "std    3.15   3.19    3.05        2.80   \n",
       "min    1.00   1.00    1.00        1.00   \n",
       "25%    3.00   3.00    3.00        3.00   \n",
       "50%    3.00   3.00    7.00        5.00   \n",
       "75%    8.00   7.00    8.00        6.00   \n",
       "max    10.00  10.00   9.00        10.00  "
      ]
     },
     "metadata": {},
     "output_type": "display_data"
    }
   ],
   "source": [
    "# Выведем основные статистические характеристик числовых столбцов df 'hypothesis'\n",
    "display(hypothesis.describe())"
   ]
  },
  {
   "cell_type": "markdown",
   "metadata": {},
   "source": [
    "- Во всех столбцах наблюдается большой диапазон значений от минимального до максимального (от 1 до 10). Это может указывать на наличие как очень низких, так и очень высоких значений.\n",
    "- Значения стандартных отклонений (особенно для Reach, Impact, и Efforts) довольно высоки. Это свидетельствует о большой разбросанности данных вокруг среднего значения.\n",
    "- Неравномерное распределение: Reach и Impact имеют одинаковое среднее и стандартное отклонение, а также очень широкий диапазон значений. Это может указывать на то, что в данных есть как низкие, так и высокие значения. Confidence имеет более высокий средний уровень и стандартное отклонение, что может указывать на большую вариативность уверенности в гипотезах. Efforts имеет схожие характеристики с Reach и Impact, но с меньшим стандартным отклонением.\n",
    "- Наличие значений 1 и 10 в Reach, Impact, Confidence, и Efforts указывает на потенциальные аномалии. Значения 1 (очень низкое) и 10 (очень высокое) могут быть исключениями или ошибками данных, которые стоит рассмотреть отдельно.\n",
    "- Квартильные значения показывают, что большинство данных сосредоточено в пределах квартилей 25% и 75%, но присутствуют и значения за пределами этого диапазона, что подтверждает наличие аномалий."
   ]
  },
  {
   "cell_type": "code",
   "execution_count": 12,
   "metadata": {},
   "outputs": [
    {
     "name": "stdout",
     "output_type": "stream",
     "text": [
      "Количество дубликатов: 0\n"
     ]
    }
   ],
   "source": [
    "# Проверим количество дубликатов df 'hypothesis'\n",
    "print('Количество дубликатов:', hypothesis.duplicated().sum())"
   ]
  },
  {
   "cell_type": "code",
   "execution_count": 13,
   "metadata": {},
   "outputs": [],
   "source": [
    "# Проведем замену регистра заголовков df 'hypothesis'\n",
    "hypothesis_columns = (hypothesis.columns).str.lower()"
   ]
  },
  {
   "cell_type": "code",
   "execution_count": 14,
   "metadata": {},
   "outputs": [],
   "source": [
    "hypothesis.columns=hypothesis_columns"
   ]
  },
  {
   "cell_type": "code",
   "execution_count": 15,
   "metadata": {},
   "outputs": [
    {
     "data": {
      "text/html": [
       "<div>\n",
       "<style scoped>\n",
       "    .dataframe tbody tr th:only-of-type {\n",
       "        vertical-align: middle;\n",
       "    }\n",
       "\n",
       "    .dataframe tbody tr th {\n",
       "        vertical-align: top;\n",
       "    }\n",
       "\n",
       "    .dataframe thead th {\n",
       "        text-align: right;\n",
       "    }\n",
       "</style>\n",
       "<table border=\"1\" class=\"dataframe\">\n",
       "  <thead>\n",
       "    <tr style=\"text-align: right;\">\n",
       "      <th></th>\n",
       "      <th>hypothesis</th>\n",
       "      <th>reach</th>\n",
       "      <th>impact</th>\n",
       "      <th>confidence</th>\n",
       "      <th>efforts</th>\n",
       "    </tr>\n",
       "  </thead>\n",
       "  <tbody>\n",
       "    <tr>\n",
       "      <th>4</th>\n",
       "      <td>Изменить цвет фона главной страницы, чтобы увеличить вовлеченность пользователей</td>\n",
       "      <td>3</td>\n",
       "      <td>1</td>\n",
       "      <td>1</td>\n",
       "      <td>1</td>\n",
       "    </tr>\n",
       "  </tbody>\n",
       "</table>\n",
       "</div>"
      ],
      "text/plain": [
       "                                                                         hypothesis  \\\n",
       "4  Изменить цвет фона главной страницы, чтобы увеличить вовлеченность пользователей   \n",
       "\n",
       "   reach  impact  confidence  efforts  \n",
       "4  3      1       1           1        "
      ]
     },
     "execution_count": 15,
     "metadata": {},
     "output_type": "execute_result"
    }
   ],
   "source": [
    "# Проверим проведенную замену регистра df 'hypothesis'\n",
    "hypothesis.sample()"
   ]
  },
  {
   "cell_type": "markdown",
   "metadata": {},
   "source": [
    "**df 'orders'**"
   ]
  },
  {
   "cell_type": "code",
   "execution_count": 16,
   "metadata": {},
   "outputs": [
    {
     "data": {
      "text/html": [
       "<div>\n",
       "<style scoped>\n",
       "    .dataframe tbody tr th:only-of-type {\n",
       "        vertical-align: middle;\n",
       "    }\n",
       "\n",
       "    .dataframe tbody tr th {\n",
       "        vertical-align: top;\n",
       "    }\n",
       "\n",
       "    .dataframe thead th {\n",
       "        text-align: right;\n",
       "    }\n",
       "</style>\n",
       "<table border=\"1\" class=\"dataframe\">\n",
       "  <thead>\n",
       "    <tr style=\"text-align: right;\">\n",
       "      <th></th>\n",
       "      <th>transactionId</th>\n",
       "      <th>visitorId</th>\n",
       "      <th>date</th>\n",
       "      <th>revenue</th>\n",
       "      <th>group</th>\n",
       "    </tr>\n",
       "  </thead>\n",
       "  <tbody>\n",
       "    <tr>\n",
       "      <th>0</th>\n",
       "      <td>3667963787</td>\n",
       "      <td>3312258926</td>\n",
       "      <td>2019-08-15</td>\n",
       "      <td>1650</td>\n",
       "      <td>B</td>\n",
       "    </tr>\n",
       "    <tr>\n",
       "      <th>1</th>\n",
       "      <td>2804400009</td>\n",
       "      <td>3642806036</td>\n",
       "      <td>2019-08-15</td>\n",
       "      <td>730</td>\n",
       "      <td>B</td>\n",
       "    </tr>\n",
       "    <tr>\n",
       "      <th>2</th>\n",
       "      <td>2961555356</td>\n",
       "      <td>4069496402</td>\n",
       "      <td>2019-08-15</td>\n",
       "      <td>400</td>\n",
       "      <td>A</td>\n",
       "    </tr>\n",
       "    <tr>\n",
       "      <th>3</th>\n",
       "      <td>3797467345</td>\n",
       "      <td>1196621759</td>\n",
       "      <td>2019-08-15</td>\n",
       "      <td>9759</td>\n",
       "      <td>B</td>\n",
       "    </tr>\n",
       "    <tr>\n",
       "      <th>4</th>\n",
       "      <td>2282983706</td>\n",
       "      <td>2322279887</td>\n",
       "      <td>2019-08-15</td>\n",
       "      <td>2308</td>\n",
       "      <td>B</td>\n",
       "    </tr>\n",
       "  </tbody>\n",
       "</table>\n",
       "</div>"
      ],
      "text/plain": [
       "   transactionId   visitorId        date  revenue group\n",
       "0  3667963787     3312258926  2019-08-15  1650     B   \n",
       "1  2804400009     3642806036  2019-08-15  730      B   \n",
       "2  2961555356     4069496402  2019-08-15  400      A   \n",
       "3  3797467345     1196621759  2019-08-15  9759     B   \n",
       "4  2282983706     2322279887  2019-08-15  2308     B   "
      ]
     },
     "metadata": {},
     "output_type": "display_data"
    }
   ],
   "source": [
    "# Отобразим первые пять строк df 'orders'\n",
    "display(orders.head())"
   ]
  },
  {
   "cell_type": "code",
   "execution_count": 17,
   "metadata": {},
   "outputs": [
    {
     "name": "stdout",
     "output_type": "stream",
     "text": [
      "<class 'pandas.core.frame.DataFrame'>\n",
      "RangeIndex: 1197 entries, 0 to 1196\n",
      "Data columns (total 5 columns):\n",
      " #   Column         Non-Null Count  Dtype \n",
      "---  ------         --------------  ----- \n",
      " 0   transactionId  1197 non-null   int64 \n",
      " 1   visitorId      1197 non-null   int64 \n",
      " 2   date           1197 non-null   object\n",
      " 3   revenue        1197 non-null   int64 \n",
      " 4   group          1197 non-null   object\n",
      "dtypes: int64(3), object(2)\n",
      "memory usage: 46.9+ KB\n"
     ]
    },
    {
     "data": {
      "text/plain": [
       "None"
      ]
     },
     "metadata": {},
     "output_type": "display_data"
    }
   ],
   "source": [
    "# Выведем краткую информацию о df 'orders'\n",
    "display(orders.info())"
   ]
  },
  {
   "cell_type": "markdown",
   "metadata": {},
   "source": [
    "- df имеет 1197 строк и 5 столбцов.\n",
    "- transactionId (идентификатор заказа), visitorId (идентификатор пользователя), revenue (ыручка заказа) - тип данных int64;  date (дата, когда был совершён заказ) и group (группа A/B-теста, в которую попал заказ) - тип данных object.\n",
    "- Все столбцы содержат непустые значения, что означает, что нет пропущенных данных.\n",
    "- Требуется преобразование столбца date в формат datetime."
   ]
  },
  {
   "cell_type": "code",
   "execution_count": 18,
   "metadata": {},
   "outputs": [
    {
     "data": {
      "text/html": [
       "<div>\n",
       "<style scoped>\n",
       "    .dataframe tbody tr th:only-of-type {\n",
       "        vertical-align: middle;\n",
       "    }\n",
       "\n",
       "    .dataframe tbody tr th {\n",
       "        vertical-align: top;\n",
       "    }\n",
       "\n",
       "    .dataframe thead th {\n",
       "        text-align: right;\n",
       "    }\n",
       "</style>\n",
       "<table border=\"1\" class=\"dataframe\">\n",
       "  <thead>\n",
       "    <tr style=\"text-align: right;\">\n",
       "      <th></th>\n",
       "      <th>transactionId</th>\n",
       "      <th>visitorId</th>\n",
       "      <th>revenue</th>\n",
       "    </tr>\n",
       "  </thead>\n",
       "  <tbody>\n",
       "    <tr>\n",
       "      <th>count</th>\n",
       "      <td>1.20e+03</td>\n",
       "      <td>1.20e+03</td>\n",
       "      <td>1.20e+03</td>\n",
       "    </tr>\n",
       "    <tr>\n",
       "      <th>mean</th>\n",
       "      <td>2.16e+09</td>\n",
       "      <td>2.17e+09</td>\n",
       "      <td>8.35e+03</td>\n",
       "    </tr>\n",
       "    <tr>\n",
       "      <th>std</th>\n",
       "      <td>1.23e+09</td>\n",
       "      <td>1.24e+09</td>\n",
       "      <td>3.92e+04</td>\n",
       "    </tr>\n",
       "    <tr>\n",
       "      <th>min</th>\n",
       "      <td>1.06e+06</td>\n",
       "      <td>5.11e+06</td>\n",
       "      <td>5.00e+01</td>\n",
       "    </tr>\n",
       "    <tr>\n",
       "      <th>25%</th>\n",
       "      <td>1.17e+09</td>\n",
       "      <td>1.11e+09</td>\n",
       "      <td>1.22e+03</td>\n",
       "    </tr>\n",
       "    <tr>\n",
       "      <th>50%</th>\n",
       "      <td>2.15e+09</td>\n",
       "      <td>2.22e+09</td>\n",
       "      <td>2.98e+03</td>\n",
       "    </tr>\n",
       "    <tr>\n",
       "      <th>75%</th>\n",
       "      <td>3.24e+09</td>\n",
       "      <td>3.18e+09</td>\n",
       "      <td>8.29e+03</td>\n",
       "    </tr>\n",
       "    <tr>\n",
       "      <th>max</th>\n",
       "      <td>4.29e+09</td>\n",
       "      <td>4.28e+09</td>\n",
       "      <td>1.29e+06</td>\n",
       "    </tr>\n",
       "  </tbody>\n",
       "</table>\n",
       "</div>"
      ],
      "text/plain": [
       "       transactionId  visitorId   revenue\n",
       "count  1.20e+03       1.20e+03   1.20e+03\n",
       "mean   2.16e+09       2.17e+09   8.35e+03\n",
       "std    1.23e+09       1.24e+09   3.92e+04\n",
       "min    1.06e+06       5.11e+06   5.00e+01\n",
       "25%    1.17e+09       1.11e+09   1.22e+03\n",
       "50%    2.15e+09       2.22e+09   2.98e+03\n",
       "75%    3.24e+09       3.18e+09   8.29e+03\n",
       "max    4.29e+09       4.28e+09   1.29e+06"
      ]
     },
     "metadata": {},
     "output_type": "display_data"
    }
   ],
   "source": [
    "# Выведем основные статистические характеристик числовых столбцов df 'orders'\n",
    "display(orders.describe())"
   ]
  },
  {
   "cell_type": "markdown",
   "metadata": {},
   "source": [
    "- Максимальные значения дохода значительно превышают 75% квартиль. Это указывает на наличие аномально высоких транзакций, которые могут быть результатом ошибок или уникальных событий (например, крупных заказов).\n",
    "- Значительное стандартное отклонение и широкий диапазон значений revenue (от 50 до 1,290,000) также подтверждают наличие аномалий в данных. Среднее значение больше медианного, что говорит о положительной асимметрии данных (несколько высоких значений смещают среднее значение вверх)."
   ]
  },
  {
   "cell_type": "code",
   "execution_count": 19,
   "metadata": {},
   "outputs": [
    {
     "name": "stdout",
     "output_type": "stream",
     "text": [
      "Количество дубликатов: 0\n"
     ]
    }
   ],
   "source": [
    "# Проверим количество дубликатов в df 'orders'\n",
    "print('Количество дубликатов:', orders.duplicated().sum())"
   ]
  },
  {
   "cell_type": "code",
   "execution_count": 20,
   "metadata": {},
   "outputs": [],
   "source": [
    "# Проведем замену типа даты на корректный \n",
    "orders['date'] = pd.to_datetime(orders['date'], format='%Y-%m-%d')"
   ]
  },
  {
   "cell_type": "code",
   "execution_count": 21,
   "metadata": {},
   "outputs": [
    {
     "name": "stdout",
     "output_type": "stream",
     "text": [
      "<class 'pandas.core.frame.DataFrame'>\n",
      "RangeIndex: 1197 entries, 0 to 1196\n",
      "Data columns (total 5 columns):\n",
      " #   Column         Non-Null Count  Dtype         \n",
      "---  ------         --------------  -----         \n",
      " 0   transactionId  1197 non-null   int64         \n",
      " 1   visitorId      1197 non-null   int64         \n",
      " 2   date           1197 non-null   datetime64[ns]\n",
      " 3   revenue        1197 non-null   int64         \n",
      " 4   group          1197 non-null   object        \n",
      "dtypes: datetime64[ns](1), int64(3), object(1)\n",
      "memory usage: 46.9+ KB\n"
     ]
    }
   ],
   "source": [
    "# Проверим замену типа данных \n",
    "orders.info()"
   ]
  },
  {
   "cell_type": "markdown",
   "metadata": {},
   "source": [
    "**df 'visitors'**"
   ]
  },
  {
   "cell_type": "code",
   "execution_count": 22,
   "metadata": {},
   "outputs": [
    {
     "data": {
      "text/html": [
       "<div>\n",
       "<style scoped>\n",
       "    .dataframe tbody tr th:only-of-type {\n",
       "        vertical-align: middle;\n",
       "    }\n",
       "\n",
       "    .dataframe tbody tr th {\n",
       "        vertical-align: top;\n",
       "    }\n",
       "\n",
       "    .dataframe thead th {\n",
       "        text-align: right;\n",
       "    }\n",
       "</style>\n",
       "<table border=\"1\" class=\"dataframe\">\n",
       "  <thead>\n",
       "    <tr style=\"text-align: right;\">\n",
       "      <th></th>\n",
       "      <th>date</th>\n",
       "      <th>group</th>\n",
       "      <th>visitors</th>\n",
       "    </tr>\n",
       "  </thead>\n",
       "  <tbody>\n",
       "    <tr>\n",
       "      <th>0</th>\n",
       "      <td>2019-08-01</td>\n",
       "      <td>A</td>\n",
       "      <td>719</td>\n",
       "    </tr>\n",
       "    <tr>\n",
       "      <th>1</th>\n",
       "      <td>2019-08-02</td>\n",
       "      <td>A</td>\n",
       "      <td>619</td>\n",
       "    </tr>\n",
       "    <tr>\n",
       "      <th>2</th>\n",
       "      <td>2019-08-03</td>\n",
       "      <td>A</td>\n",
       "      <td>507</td>\n",
       "    </tr>\n",
       "    <tr>\n",
       "      <th>3</th>\n",
       "      <td>2019-08-04</td>\n",
       "      <td>A</td>\n",
       "      <td>717</td>\n",
       "    </tr>\n",
       "    <tr>\n",
       "      <th>4</th>\n",
       "      <td>2019-08-05</td>\n",
       "      <td>A</td>\n",
       "      <td>756</td>\n",
       "    </tr>\n",
       "  </tbody>\n",
       "</table>\n",
       "</div>"
      ],
      "text/plain": [
       "         date group  visitors\n",
       "0  2019-08-01  A     719     \n",
       "1  2019-08-02  A     619     \n",
       "2  2019-08-03  A     507     \n",
       "3  2019-08-04  A     717     \n",
       "4  2019-08-05  A     756     "
      ]
     },
     "metadata": {},
     "output_type": "display_data"
    }
   ],
   "source": [
    "# Отобразим первые пять строк df 'visitors'\n",
    "display(visitors.head())"
   ]
  },
  {
   "cell_type": "code",
   "execution_count": 23,
   "metadata": {},
   "outputs": [
    {
     "name": "stdout",
     "output_type": "stream",
     "text": [
      "<class 'pandas.core.frame.DataFrame'>\n",
      "RangeIndex: 62 entries, 0 to 61\n",
      "Data columns (total 3 columns):\n",
      " #   Column    Non-Null Count  Dtype \n",
      "---  ------    --------------  ----- \n",
      " 0   date      62 non-null     object\n",
      " 1   group     62 non-null     object\n",
      " 2   visitors  62 non-null     int64 \n",
      "dtypes: int64(1), object(2)\n",
      "memory usage: 1.6+ KB\n"
     ]
    },
    {
     "data": {
      "text/plain": [
       "None"
      ]
     },
     "metadata": {},
     "output_type": "display_data"
    }
   ],
   "source": [
    "# Выведем краткую информацию о df 'visitors'\n",
    "display(visitors.info())"
   ]
  },
  {
   "cell_type": "markdown",
   "metadata": {},
   "source": [
    "- df содержит 62 строки и 3 столбца.\n",
    "- 62 строки имеют ненулевые значения во всех столбцах, что указывает на отсутствие пропусков в данных.\n",
    "- date (дата) имеет формат  object, group (руппа A/B-теста) имеет формат object, visitors  (количество пользователей в указанную дату в указанной группе A/B-теста) имеет формат int64. \n",
    "- Требуется преобразование столбца date в формат datetime."
   ]
  },
  {
   "cell_type": "code",
   "execution_count": 24,
   "metadata": {},
   "outputs": [
    {
     "data": {
      "text/html": [
       "<div>\n",
       "<style scoped>\n",
       "    .dataframe tbody tr th:only-of-type {\n",
       "        vertical-align: middle;\n",
       "    }\n",
       "\n",
       "    .dataframe tbody tr th {\n",
       "        vertical-align: top;\n",
       "    }\n",
       "\n",
       "    .dataframe thead th {\n",
       "        text-align: right;\n",
       "    }\n",
       "</style>\n",
       "<table border=\"1\" class=\"dataframe\">\n",
       "  <thead>\n",
       "    <tr style=\"text-align: right;\">\n",
       "      <th></th>\n",
       "      <th>visitors</th>\n",
       "    </tr>\n",
       "  </thead>\n",
       "  <tbody>\n",
       "    <tr>\n",
       "      <th>count</th>\n",
       "      <td>62.00</td>\n",
       "    </tr>\n",
       "    <tr>\n",
       "      <th>mean</th>\n",
       "      <td>607.29</td>\n",
       "    </tr>\n",
       "    <tr>\n",
       "      <th>std</th>\n",
       "      <td>114.40</td>\n",
       "    </tr>\n",
       "    <tr>\n",
       "      <th>min</th>\n",
       "      <td>361.00</td>\n",
       "    </tr>\n",
       "    <tr>\n",
       "      <th>25%</th>\n",
       "      <td>534.00</td>\n",
       "    </tr>\n",
       "    <tr>\n",
       "      <th>50%</th>\n",
       "      <td>624.50</td>\n",
       "    </tr>\n",
       "    <tr>\n",
       "      <th>75%</th>\n",
       "      <td>710.50</td>\n",
       "    </tr>\n",
       "    <tr>\n",
       "      <th>max</th>\n",
       "      <td>770.00</td>\n",
       "    </tr>\n",
       "  </tbody>\n",
       "</table>\n",
       "</div>"
      ],
      "text/plain": [
       "       visitors\n",
       "count  62.00   \n",
       "mean   607.29  \n",
       "std    114.40  \n",
       "min    361.00  \n",
       "25%    534.00  \n",
       "50%    624.50  \n",
       "75%    710.50  \n",
       "max    770.00  "
      ]
     },
     "metadata": {},
     "output_type": "display_data"
    }
   ],
   "source": [
    "# Выведем основные статистические характеристик числовых столбцов df 'visitors'\n",
    "display(visitors.describe())"
   ]
  },
  {
   "cell_type": "markdown",
   "metadata": {},
   "source": [
    "- Среднее значение количества пользователей в указанную дату в указанной группе A/B-теста составляет 607.29.\n",
    "- Стандартное отклонение составляет 114.40, что говорит о том, что количество пользователей в указанную дату в указанной группе A/B-теста варьируется достаточно сильно.\n",
    "- Минимальное количество пользователей в указанную дату в указанной группе A/B-теста в один из дней составило 361.\n",
    "- Максимальное количество пользователей в указанную дату в указанной группе A/B-теста достигло 770.\n",
    "- 25% наблюдений имеют количество пользователей в указанную дату в указанной группе A/B-теста ниже 534.\n",
    "- Значения, значительно ниже первого квартиля (534), могут считаться низкими аномалиями. В данном случае минимальное значение 361 может быть рассмотрено как аномально низкое.\n",
    "- Значения, значительно выше третьего квартиля (710.50), могут считаться высокими аномалиями. В данном случае максимальное значение 770 также может быть рассмотрено как аномально высокое."
   ]
  },
  {
   "cell_type": "code",
   "execution_count": 25,
   "metadata": {},
   "outputs": [
    {
     "name": "stdout",
     "output_type": "stream",
     "text": [
      "Количество дубликатов: 0\n"
     ]
    }
   ],
   "source": [
    "# Проверим количество дубликатов в df 'visitors'\n",
    "print('Количество дубликатов:', visitors.duplicated().sum())"
   ]
  },
  {
   "cell_type": "code",
   "execution_count": 26,
   "metadata": {},
   "outputs": [],
   "source": [
    "# Проведем замену типа даты на корректный \n",
    "visitors['date'] = visitors['date'].map(lambda x: dt.datetime.strptime(x, '%Y-%m-%d'))"
   ]
  },
  {
   "cell_type": "code",
   "execution_count": 27,
   "metadata": {},
   "outputs": [],
   "source": [
    "visitors['date'] = pd.to_datetime(visitors['date'], format='%Y-%m-%d')"
   ]
  },
  {
   "cell_type": "code",
   "execution_count": 28,
   "metadata": {},
   "outputs": [
    {
     "name": "stdout",
     "output_type": "stream",
     "text": [
      "<class 'pandas.core.frame.DataFrame'>\n",
      "RangeIndex: 62 entries, 0 to 61\n",
      "Data columns (total 3 columns):\n",
      " #   Column    Non-Null Count  Dtype         \n",
      "---  ------    --------------  -----         \n",
      " 0   date      62 non-null     datetime64[ns]\n",
      " 1   group     62 non-null     object        \n",
      " 2   visitors  62 non-null     int64         \n",
      "dtypes: datetime64[ns](1), int64(1), object(1)\n",
      "memory usage: 1.6+ KB\n"
     ]
    }
   ],
   "source": [
    "# Проверим результат проведенной замены типа даты\n",
    "visitors.info() "
   ]
  },
  {
   "cell_type": "markdown",
   "metadata": {},
   "source": [
    "**Вывод**"
   ]
  },
  {
   "cell_type": "markdown",
   "metadata": {},
   "source": [
    " - Данные загружены. \n",
    " - Проведена смена регистра в  df 'hypothesis', изменен тип данны в столбце 'date'  в df 'visitors'и df 'orders'. \n",
    " - Дубликаты отсутствуют.\n",
    " - Пропуски отсутствуют.\n",
    " - Проведен анализ  df."
   ]
  },
  {
   "cell_type": "code",
   "execution_count": 29,
   "metadata": {},
   "outputs": [
    {
     "name": "stdout",
     "output_type": "stream",
     "text": [
      "Число пользователей, попавших в обе группы: 58\n",
      "Идентификаторы этих пользователей: [   8300375  199603092  232979603  237748145  276558944  351125977\n",
      "  393266494  457167155  471551937  477780734  818047933  963407295\n",
      " 1230306981 1294878855 1316129916 1333886533 1404934699 1602967004\n",
      " 1614305549 1648269707 1668030113 1738359350 1801183820 1959144690\n",
      " 2038680547 2044997962 2378935119 2458001652 2579882178 2587333274\n",
      " 2600415354 2654030115 2686716486 2712142231 2716752286 2780786433\n",
      " 2927087541 2949041841 2954449915 3062433592 3202540741 3234906277\n",
      " 3656415546 3717692402 3766097110 3803269165 3891541246 3941795274\n",
      " 3951559397 3957174400 3963646447 3972127743 3984495233 4069496402\n",
      " 4120364173 4186807279 4256040402 4266935830]\n"
     ]
    }
   ],
   "source": [
    "# Извлечение уникальных пользователей в каждой группе\n",
    "users_in_group_a = orders[orders['group'] == 'A']['visitorId'].unique()\n",
    "users_in_group_b = orders[orders['group'] == 'B']['visitorId'].unique()\n",
    "\n",
    "# Поиск пересечений\n",
    "users_in_both_groups = np.intersect1d(users_in_group_a, users_in_group_b)\n",
    "\n",
    "# Результаты\n",
    "print(f\"Число пользователей, попавших в обе группы: {len(users_in_both_groups)}\")\n",
    "print(f\"Идентификаторы этих пользователей: {users_in_both_groups}\")"
   ]
  },
  {
   "cell_type": "markdown",
   "metadata": {},
   "source": [
    "В идеале нужно удалить пользователей, которые попали в обе группы, из анализа, так как это позволит получить более корректные результаты теста, так как обеспечит независимость выборок. Затем провести анализ на очищенных данных. "
   ]
  },
  {
   "cell_type": "markdown",
   "metadata": {},
   "source": [
    "## Приоритизация гипотез."
   ]
  },
  {
   "cell_type": "markdown",
   "metadata": {},
   "source": [
    "**Применим фреймворк ICE для приоритизации гипотез. Отсортируем их по убыванию приоритета.**\n"
   ]
  },
  {
   "cell_type": "code",
   "execution_count": 30,
   "metadata": {},
   "outputs": [],
   "source": [
    "# Проведем расчет ICE\n",
    "hypothesis['ICE'] = (\n",
    "    hypothesis['impact'] *  hypothesis['confidence']) / hypothesis['efforts']"
   ]
  },
  {
   "cell_type": "code",
   "execution_count": 31,
   "metadata": {},
   "outputs": [],
   "source": [
    "# Отсортируем по убыванию приоритета\n",
    "hypothesis.sort_values(by='ICE', ascending=False, inplace=True)"
   ]
  },
  {
   "cell_type": "code",
   "execution_count": 32,
   "metadata": {},
   "outputs": [
    {
     "data": {
      "text/html": [
       "<div>\n",
       "<style scoped>\n",
       "    .dataframe tbody tr th:only-of-type {\n",
       "        vertical-align: middle;\n",
       "    }\n",
       "\n",
       "    .dataframe tbody tr th {\n",
       "        vertical-align: top;\n",
       "    }\n",
       "\n",
       "    .dataframe thead th {\n",
       "        text-align: right;\n",
       "    }\n",
       "</style>\n",
       "<table border=\"1\" class=\"dataframe\">\n",
       "  <thead>\n",
       "    <tr style=\"text-align: right;\">\n",
       "      <th></th>\n",
       "      <th>hypothesis</th>\n",
       "      <th>reach</th>\n",
       "      <th>impact</th>\n",
       "      <th>confidence</th>\n",
       "      <th>efforts</th>\n",
       "      <th>ICE</th>\n",
       "    </tr>\n",
       "  </thead>\n",
       "  <tbody>\n",
       "    <tr>\n",
       "      <th>8</th>\n",
       "      <td>Запустить акцию, дающую скидку на товар в день рождения</td>\n",
       "      <td>1</td>\n",
       "      <td>9</td>\n",
       "      <td>9</td>\n",
       "      <td>5</td>\n",
       "      <td>16.20</td>\n",
       "    </tr>\n",
       "    <tr>\n",
       "      <th>0</th>\n",
       "      <td>Добавить два новых канала привлечения трафика, что позволит привлекать на 30% больше пользователей</td>\n",
       "      <td>3</td>\n",
       "      <td>10</td>\n",
       "      <td>8</td>\n",
       "      <td>6</td>\n",
       "      <td>13.33</td>\n",
       "    </tr>\n",
       "    <tr>\n",
       "      <th>7</th>\n",
       "      <td>Добавить форму подписки на все основные страницы, чтобы собрать базу клиентов для email-рассылок</td>\n",
       "      <td>10</td>\n",
       "      <td>7</td>\n",
       "      <td>8</td>\n",
       "      <td>5</td>\n",
       "      <td>11.20</td>\n",
       "    </tr>\n",
       "    <tr>\n",
       "      <th>6</th>\n",
       "      <td>Показать на главной странице баннеры с актуальными акциями и распродажами, чтобы увеличить конверсию</td>\n",
       "      <td>5</td>\n",
       "      <td>3</td>\n",
       "      <td>8</td>\n",
       "      <td>3</td>\n",
       "      <td>8.00</td>\n",
       "    </tr>\n",
       "    <tr>\n",
       "      <th>2</th>\n",
       "      <td>Добавить блоки рекомендаций товаров на сайт интернет магазина, чтобы повысить конверсию и средний чек заказа</td>\n",
       "      <td>8</td>\n",
       "      <td>3</td>\n",
       "      <td>7</td>\n",
       "      <td>3</td>\n",
       "      <td>7.00</td>\n",
       "    </tr>\n",
       "    <tr>\n",
       "      <th>1</th>\n",
       "      <td>Запустить собственную службу доставки, что сократит срок доставки заказов</td>\n",
       "      <td>2</td>\n",
       "      <td>5</td>\n",
       "      <td>4</td>\n",
       "      <td>10</td>\n",
       "      <td>2.00</td>\n",
       "    </tr>\n",
       "    <tr>\n",
       "      <th>5</th>\n",
       "      <td>Добавить страницу отзывов клиентов о магазине, что позволит увеличить количество заказов</td>\n",
       "      <td>3</td>\n",
       "      <td>2</td>\n",
       "      <td>2</td>\n",
       "      <td>3</td>\n",
       "      <td>1.33</td>\n",
       "    </tr>\n",
       "    <tr>\n",
       "      <th>3</th>\n",
       "      <td>Изменить структура категорий, что увеличит конверсию, т.к. пользователи быстрее найдут нужный товар</td>\n",
       "      <td>8</td>\n",
       "      <td>3</td>\n",
       "      <td>3</td>\n",
       "      <td>8</td>\n",
       "      <td>1.12</td>\n",
       "    </tr>\n",
       "    <tr>\n",
       "      <th>4</th>\n",
       "      <td>Изменить цвет фона главной страницы, чтобы увеличить вовлеченность пользователей</td>\n",
       "      <td>3</td>\n",
       "      <td>1</td>\n",
       "      <td>1</td>\n",
       "      <td>1</td>\n",
       "      <td>1.00</td>\n",
       "    </tr>\n",
       "  </tbody>\n",
       "</table>\n",
       "</div>"
      ],
      "text/plain": [
       "                                                                                                     hypothesis  \\\n",
       "8  Запустить акцию, дающую скидку на товар в день рождения                                                        \n",
       "0  Добавить два новых канала привлечения трафика, что позволит привлекать на 30% больше пользователей             \n",
       "7  Добавить форму подписки на все основные страницы, чтобы собрать базу клиентов для email-рассылок               \n",
       "6  Показать на главной странице баннеры с актуальными акциями и распродажами, чтобы увеличить конверсию           \n",
       "2  Добавить блоки рекомендаций товаров на сайт интернет магазина, чтобы повысить конверсию и средний чек заказа   \n",
       "1  Запустить собственную службу доставки, что сократит срок доставки заказов                                      \n",
       "5  Добавить страницу отзывов клиентов о магазине, что позволит увеличить количество заказов                       \n",
       "3  Изменить структура категорий, что увеличит конверсию, т.к. пользователи быстрее найдут нужный товар            \n",
       "4  Изменить цвет фона главной страницы, чтобы увеличить вовлеченность пользователей                               \n",
       "\n",
       "   reach  impact  confidence  efforts    ICE  \n",
       "8  1      9       9           5        16.20  \n",
       "0  3      10      8           6        13.33  \n",
       "7  10     7       8           5        11.20  \n",
       "6  5      3       8           3        8.00   \n",
       "2  8      3       7           3        7.00   \n",
       "1  2      5       4           10       2.00   \n",
       "5  3      2       2           3        1.33   \n",
       "3  8      3       3           8        1.12   \n",
       "4  3      1       1           1        1.00   "
      ]
     },
     "execution_count": 32,
     "metadata": {},
     "output_type": "execute_result"
    }
   ],
   "source": [
    "# Отобразим df с рассчитанным столбцом ICE\n",
    "hypothesis"
   ]
  },
  {
   "cell_type": "code",
   "execution_count": 33,
   "metadata": {},
   "outputs": [
    {
     "data": {
      "image/png": "[encoded data removed]",
      "text/plain": [
       "<Figure size 432x288 with 1 Axes>"
      ]
     },
     "metadata": {
      "needs_background": "light"
     },
     "output_type": "display_data"
    }
   ],
   "source": [
    "# Построим горизонтальную столбчатую диаграмму \n",
    "ax = (hypothesis[['hypothesis', 'ICE']]\n",
    "      .set_index('hypothesis')\n",
    "      .sort_values('ICE', ascending=False)\n",
    "      .plot(kind='barh', color='g', alpha=0.4)\n",
    "     )\n",
    "ax.grid(True)\n",
    "ax.set_xlabel('Приоритет')\n",
    "ax.set_ylabel(' ')\n",
    "ax.set_title('Приоритезация гипотез по методу ICE', loc='left')\n",
    "plt.show()"
   ]
  },
  {
   "cell_type": "markdown",
   "metadata": {},
   "source": [
    "- Гипотеза с наивысшим ICE: \"Запустить акцию, дающую скидку на товар в день рождения клиента\" имеет наивысший показатель ICE (16.20). Это обусловлено высокой оценкой по параметрам impact и confidence при относительно низких затратах усилий (efforts).\n",
    "- Гипотеза с наименьшим ICE: \"Изменить цвет фона главной страницы, чтобы увеличить восприятие текста\" имеет наименьший показатель ICE (1.00). Это связано с низкими оценками по всем параметрам, несмотря на минимальные усилия.\n",
    "- Гипотезы с высокими значениями ICE (16.20 и 13.33) имеют высокий impact и confidence при относительно низких затратах усилий.\n",
    "- Гипотезы с низкими значениями ICE (1.00 и 1.33) имеют низкие оценки по всем параметрам, что делает их менее приоритетными."
   ]
  },
  {
   "cell_type": "markdown",
   "metadata": {},
   "source": [
    "**Вывод**"
   ]
  },
  {
   "cell_type": "markdown",
   "metadata": {},
   "source": [
    "- Гипотезы с высоким ICE следует рассматривать в первую очередь, так как они обещают наибольшую отдачу при относительно низких усилиях: \"Запустить акцию, дающую скидку на товар в день рождения\",\n",
    "\"Добавить два новых канала привлечения трафика, что позволит привлекать на 30% больше пользователей\",\n",
    "\"Добавить форму подписки на все основные страницы, чтобы собрать базу клиентов для email-рассылок\".\n",
    "\n",
    "- Гипотезы с низким ICE имеют меньшую значимость и могут быть отложены или пересмотрены с точки зрения их актуальности и приоритетности."
   ]
  },
  {
   "cell_type": "markdown",
   "metadata": {},
   "source": []
  },
  {
   "cell_type": "markdown",
   "metadata": {},
   "source": [
    "**Применим фреймворк RICE для приоритизации гипотез. Отсортируем их по убыванию приоритета.**"
   ]
  },
  {
   "cell_type": "code",
   "execution_count": 34,
   "metadata": {},
   "outputs": [],
   "source": [
    "# Проведем расчет RICE\n",
    "hypothesis['RICE'] = (\n",
    "    hypothesis['reach'] * hypothesis['impact'] *\n",
    "    hypothesis['confidence']\n",
    ") / hypothesis['efforts']"
   ]
  },
  {
   "cell_type": "code",
   "execution_count": 35,
   "metadata": {},
   "outputs": [],
   "source": [
    "# Отсортируем по убыванию приоритета\n",
    "hypothesis.sort_values(by='RICE', ascending=False, inplace=True)"
   ]
  },
  {
   "cell_type": "code",
   "execution_count": 36,
   "metadata": {},
   "outputs": [
    {
     "data": {
      "text/html": [
       "<div>\n",
       "<style scoped>\n",
       "    .dataframe tbody tr th:only-of-type {\n",
       "        vertical-align: middle;\n",
       "    }\n",
       "\n",
       "    .dataframe tbody tr th {\n",
       "        vertical-align: top;\n",
       "    }\n",
       "\n",
       "    .dataframe thead th {\n",
       "        text-align: right;\n",
       "    }\n",
       "</style>\n",
       "<table border=\"1\" class=\"dataframe\">\n",
       "  <thead>\n",
       "    <tr style=\"text-align: right;\">\n",
       "      <th></th>\n",
       "      <th>hypothesis</th>\n",
       "      <th>reach</th>\n",
       "      <th>impact</th>\n",
       "      <th>confidence</th>\n",
       "      <th>efforts</th>\n",
       "      <th>ICE</th>\n",
       "      <th>RICE</th>\n",
       "    </tr>\n",
       "  </thead>\n",
       "  <tbody>\n",
       "    <tr>\n",
       "      <th>7</th>\n",
       "      <td>Добавить форму подписки на все основные страницы, чтобы собрать базу клиентов для email-рассылок</td>\n",
       "      <td>10</td>\n",
       "      <td>7</td>\n",
       "      <td>8</td>\n",
       "      <td>5</td>\n",
       "      <td>11.20</td>\n",
       "      <td>112.0</td>\n",
       "    </tr>\n",
       "    <tr>\n",
       "      <th>2</th>\n",
       "      <td>Добавить блоки рекомендаций товаров на сайт интернет магазина, чтобы повысить конверсию и средний чек заказа</td>\n",
       "      <td>8</td>\n",
       "      <td>3</td>\n",
       "      <td>7</td>\n",
       "      <td>3</td>\n",
       "      <td>7.00</td>\n",
       "      <td>56.0</td>\n",
       "    </tr>\n",
       "    <tr>\n",
       "      <th>0</th>\n",
       "      <td>Добавить два новых канала привлечения трафика, что позволит привлекать на 30% больше пользователей</td>\n",
       "      <td>3</td>\n",
       "      <td>10</td>\n",
       "      <td>8</td>\n",
       "      <td>6</td>\n",
       "      <td>13.33</td>\n",
       "      <td>40.0</td>\n",
       "    </tr>\n",
       "    <tr>\n",
       "      <th>6</th>\n",
       "      <td>Показать на главной странице баннеры с актуальными акциями и распродажами, чтобы увеличить конверсию</td>\n",
       "      <td>5</td>\n",
       "      <td>3</td>\n",
       "      <td>8</td>\n",
       "      <td>3</td>\n",
       "      <td>8.00</td>\n",
       "      <td>40.0</td>\n",
       "    </tr>\n",
       "    <tr>\n",
       "      <th>8</th>\n",
       "      <td>Запустить акцию, дающую скидку на товар в день рождения</td>\n",
       "      <td>1</td>\n",
       "      <td>9</td>\n",
       "      <td>9</td>\n",
       "      <td>5</td>\n",
       "      <td>16.20</td>\n",
       "      <td>16.2</td>\n",
       "    </tr>\n",
       "    <tr>\n",
       "      <th>3</th>\n",
       "      <td>Изменить структура категорий, что увеличит конверсию, т.к. пользователи быстрее найдут нужный товар</td>\n",
       "      <td>8</td>\n",
       "      <td>3</td>\n",
       "      <td>3</td>\n",
       "      <td>8</td>\n",
       "      <td>1.12</td>\n",
       "      <td>9.0</td>\n",
       "    </tr>\n",
       "    <tr>\n",
       "      <th>1</th>\n",
       "      <td>Запустить собственную службу доставки, что сократит срок доставки заказов</td>\n",
       "      <td>2</td>\n",
       "      <td>5</td>\n",
       "      <td>4</td>\n",
       "      <td>10</td>\n",
       "      <td>2.00</td>\n",
       "      <td>4.0</td>\n",
       "    </tr>\n",
       "    <tr>\n",
       "      <th>5</th>\n",
       "      <td>Добавить страницу отзывов клиентов о магазине, что позволит увеличить количество заказов</td>\n",
       "      <td>3</td>\n",
       "      <td>2</td>\n",
       "      <td>2</td>\n",
       "      <td>3</td>\n",
       "      <td>1.33</td>\n",
       "      <td>4.0</td>\n",
       "    </tr>\n",
       "    <tr>\n",
       "      <th>4</th>\n",
       "      <td>Изменить цвет фона главной страницы, чтобы увеличить вовлеченность пользователей</td>\n",
       "      <td>3</td>\n",
       "      <td>1</td>\n",
       "      <td>1</td>\n",
       "      <td>1</td>\n",
       "      <td>1.00</td>\n",
       "      <td>3.0</td>\n",
       "    </tr>\n",
       "  </tbody>\n",
       "</table>\n",
       "</div>"
      ],
      "text/plain": [
       "                                                                                                     hypothesis  \\\n",
       "7  Добавить форму подписки на все основные страницы, чтобы собрать базу клиентов для email-рассылок               \n",
       "2  Добавить блоки рекомендаций товаров на сайт интернет магазина, чтобы повысить конверсию и средний чек заказа   \n",
       "0  Добавить два новых канала привлечения трафика, что позволит привлекать на 30% больше пользователей             \n",
       "6  Показать на главной странице баннеры с актуальными акциями и распродажами, чтобы увеличить конверсию           \n",
       "8  Запустить акцию, дающую скидку на товар в день рождения                                                        \n",
       "3  Изменить структура категорий, что увеличит конверсию, т.к. пользователи быстрее найдут нужный товар            \n",
       "1  Запустить собственную службу доставки, что сократит срок доставки заказов                                      \n",
       "5  Добавить страницу отзывов клиентов о магазине, что позволит увеличить количество заказов                       \n",
       "4  Изменить цвет фона главной страницы, чтобы увеличить вовлеченность пользователей                               \n",
       "\n",
       "   reach  impact  confidence  efforts    ICE   RICE  \n",
       "7  10     7       8           5        11.20  112.0  \n",
       "2  8      3       7           3        7.00   56.0   \n",
       "0  3      10      8           6        13.33  40.0   \n",
       "6  5      3       8           3        8.00   40.0   \n",
       "8  1      9       9           5        16.20  16.2   \n",
       "3  8      3       3           8        1.12   9.0    \n",
       "1  2      5       4           10       2.00   4.0    \n",
       "5  3      2       2           3        1.33   4.0    \n",
       "4  3      1       1           1        1.00   3.0    "
      ]
     },
     "execution_count": 36,
     "metadata": {},
     "output_type": "execute_result"
    }
   ],
   "source": [
    "# Отобразим df с рассчитанным столбцом RICE\n",
    "hypothesis "
   ]
  },
  {
   "cell_type": "code",
   "execution_count": 37,
   "metadata": {},
   "outputs": [
    {
     "data": {
      "image/png": "[encoded data removed]",
      "text/plain": [
       "<Figure size 432x288 with 1 Axes>"
      ]
     },
     "metadata": {
      "needs_background": "light"
     },
     "output_type": "display_data"
    }
   ],
   "source": [
    "# Построим горизонтальную столбчатую диаграмму \n",
    "ax = (hypothesis[['hypothesis', 'RICE']]\n",
    "      .set_index('hypothesis')\n",
    "      .sort_values('RICE', ascending=False)\n",
    "      .plot(kind='barh', color='g', alpha=0.4)\n",
    "     )\n",
    "ax.grid(True)\n",
    "ax.set_xlabel('Приоритет')\n",
    "ax.set_ylabel(' ')\n",
    "ax.set_title('Приоритезация гипотез по методу RICE', loc='left')\n",
    "plt.show()"
   ]
  },
  {
   "cell_type": "markdown",
   "metadata": {},
   "source": [
    "- Гипотеза с наивысшим RICE: \"Добавить форму подписки на все основные страницы сайта\" имеет наивысший RICE (112.0). Это связано с высокой оценкой по всем параметрам (reach, impact, confidence) и относительно низкими усилиями (efforts).\n",
    "- Гипотеза с наименьшим RICE: \"Изменить цвет фона главной страницы, чтобы увеличить восприятие текста\" имеет наименьший RICE (3.0), так как она получила минимальные оценки по reach, impact, и confidence, несмотря на низкие усилия.\n",
    "- Аномальные значения могут быть замечены в максимальных значениях параметров reach (10), impact (10), и efforts (10). Эти высокие оценки могут существенно влиять на расчет RICE."
   ]
  },
  {
   "cell_type": "markdown",
   "metadata": {},
   "source": [
    "**Вывод**"
   ]
  },
  {
   "cell_type": "markdown",
   "metadata": {},
   "source": [
    "- Гипотезы с высоким значением RICE следует рассматривать в первую очередь, так как они обещают наибольшую отдачу при относительно низких усилиях: \"Добавить форму подписки на все основные страницы, чтобы собрать базу клиентов для email-рассылок\",\"Добавить блоки рекомендаций товаров на сайт интернет магазина, чтобы повысить конверсию и средний чек заказа\", \"Добавить два новых канала привлечения трафика, что позволит привлекать на 30% больше пользователей\".\n",
    "- Гипотезы с низким значением RICE могут быть отложены или переоценены с точки зрения их актуальности и приоритетности."
   ]
  },
  {
   "cell_type": "markdown",
   "metadata": {},
   "source": [
    "**Укажем, как изменилась приоритизация гипотез при применении RICE вместо ICE. Объясним, почему так произошло.**"
   ]
  },
  {
   "cell_type": "markdown",
   "metadata": {},
   "source": [
    "- Гипотеза с наивысшим ICE: \"Запустить акцию, дающую скидку на товар в день рождения клиента\" была на первом месте по ICE с показателем 16.20. По RICE эта гипотеза переместилась на пятое место с показателем 16.2.\n",
    "- Гипотеза с наивысшим RICE: \"Добавить форму подписки на все основные страницы сайта\" стала лидером по RICE с показателем 112.0, в то время как по ICE эта гипотеза была на третьем месте с показателем 11.20.\n",
    "- Гипотезы со значительным изменением приоритета: Гипотеза \"Запустить акцию, дающую скидку на товар в день рождения клиента\" значительно опустилась в рейтинге при использовании RICE. Гипотеза \"Добавить блоки рекомендаций товаров на сайт интернет-магазина\" поднялась со среднего места (пятое по ICE) на второе место по RICE.\n",
    "- Гипотезы с минимальными изменениями: Гипотезы с низким ICE, такие как \"Изменить цвет фона главной страницы, чтобы увеличить восприятие текста\" и \"Добавить страницу отзывов клиентов о магазине\", остались на низких местах и при использовании RICE."
   ]
  },
  {
   "cell_type": "markdown",
   "metadata": {},
   "source": [
    "**Вывод**"
   ]
  },
  {
   "cell_type": "markdown",
   "metadata": {},
   "source": [
    "- Таким образом, приоритизация гипотез существенно изменилась при использовании RICE. Гипотезы с высоким значением reach получили более высокие приоритеты, так как этот параметр учитывается в формуле RICE. В результате, гипотезы, которые изначально имели высокий reach, поднялись в рейтинге, тогда как те, у которых reach был низким, даже при высоком impact и confidence, переместились вниз.\n",
    "- Изменение приоритизации гипотез при использовании RICE вместо ICE произошло из-за включения дополнительного параметра \"Reach\" (охват), который существенно влияет на расчет приоритета гипотез.\n",
    "- RICE лучше учитывает реальное влияние гипотез на бизнес, так как включает в расчет количество пользователей, которые будут затронуты.\n",
    "- Использование RICE помогает выявить гипотезы с широким охватом, которые могут привести к значительным улучшениям ключевых метрик, даже если их влияние на каждого отдельного пользователя не столь велико."
   ]
  },
  {
   "cell_type": "markdown",
   "metadata": {},
   "source": [
    "## Анализ A/B-теста"
   ]
  },
  {
   "cell_type": "markdown",
   "metadata": {},
   "source": [
    "### Построим график кумулятивной выручки по группам. Сделаем выводы и предположения."
   ]
  },
  {
   "cell_type": "markdown",
   "metadata": {},
   "source": [
    "Чтобы построить графики по кумулятивным (накапливаемым) данным, необходимо собрать соответствующий агрегированный датафрейм, содержащий информацию о дате, группе (А или В), кумулятивных количестве заказов и пользователей их оформивших, среднем чеке и, наконец, о кумулятивном количестве посетителей магазина."
   ]
  },
  {
   "cell_type": "code",
   "execution_count": 38,
   "metadata": {},
   "outputs": [
    {
     "data": {
      "text/html": [
       "<div>\n",
       "<style scoped>\n",
       "    .dataframe tbody tr th:only-of-type {\n",
       "        vertical-align: middle;\n",
       "    }\n",
       "\n",
       "    .dataframe tbody tr th {\n",
       "        vertical-align: top;\n",
       "    }\n",
       "\n",
       "    .dataframe thead th {\n",
       "        text-align: right;\n",
       "    }\n",
       "</style>\n",
       "<table border=\"1\" class=\"dataframe\">\n",
       "  <thead>\n",
       "    <tr style=\"text-align: right;\">\n",
       "      <th></th>\n",
       "      <th>date</th>\n",
       "      <th>group</th>\n",
       "      <th>transactionId</th>\n",
       "      <th>visitorId</th>\n",
       "      <th>revenue</th>\n",
       "    </tr>\n",
       "  </thead>\n",
       "  <tbody>\n",
       "    <tr>\n",
       "      <th>55</th>\n",
       "      <td>2019-08-01</td>\n",
       "      <td>A</td>\n",
       "      <td>24</td>\n",
       "      <td>20</td>\n",
       "      <td>148579</td>\n",
       "    </tr>\n",
       "    <tr>\n",
       "      <th>66</th>\n",
       "      <td>2019-08-01</td>\n",
       "      <td>B</td>\n",
       "      <td>21</td>\n",
       "      <td>20</td>\n",
       "      <td>101217</td>\n",
       "    </tr>\n",
       "    <tr>\n",
       "      <th>175</th>\n",
       "      <td>2019-08-02</td>\n",
       "      <td>A</td>\n",
       "      <td>44</td>\n",
       "      <td>38</td>\n",
       "      <td>242401</td>\n",
       "    </tr>\n",
       "    <tr>\n",
       "      <th>173</th>\n",
       "      <td>2019-08-02</td>\n",
       "      <td>B</td>\n",
       "      <td>45</td>\n",
       "      <td>43</td>\n",
       "      <td>266748</td>\n",
       "    </tr>\n",
       "    <tr>\n",
       "      <th>291</th>\n",
       "      <td>2019-08-03</td>\n",
       "      <td>A</td>\n",
       "      <td>68</td>\n",
       "      <td>62</td>\n",
       "      <td>354874</td>\n",
       "    </tr>\n",
       "    <tr>\n",
       "      <th>310</th>\n",
       "      <td>2019-08-03</td>\n",
       "      <td>B</td>\n",
       "      <td>61</td>\n",
       "      <td>59</td>\n",
       "      <td>380996</td>\n",
       "    </tr>\n",
       "  </tbody>\n",
       "</table>\n",
       "</div>"
      ],
      "text/plain": [
       "          date group  transactionId  visitorId  revenue\n",
       "55  2019-08-01  A     24             20         148579 \n",
       "66  2019-08-01  B     21             20         101217 \n",
       "175 2019-08-02  A     44             38         242401 \n",
       "173 2019-08-02  B     45             43         266748 \n",
       "291 2019-08-03  A     68             62         354874 \n",
       "310 2019-08-03  B     61             59         380996 "
      ]
     },
     "execution_count": 38,
     "metadata": {},
     "output_type": "execute_result"
    }
   ],
   "source": [
    "# Cоздадим массив уникальных пар значений дат и групп теста\n",
    "dates_grouped = orders[['date', 'group']].drop_duplicates()\n",
    "\n",
    "# Получим агрегированные кумулятивные по дням данные о заказах \n",
    "orders_grouped = dates_grouped.apply(\n",
    "    lambda x: orders[\n",
    "        np.logical_and(\n",
    "            orders['date'] <= x['date'], orders['group'] == x['group']\n",
    "        )\n",
    "    ].agg(\n",
    "        {\n",
    "            'date': 'max',\n",
    "            'group': 'max',\n",
    "            'transactionId': 'nunique',\n",
    "            'visitorId': 'nunique',\n",
    "            'revenue': 'sum',\n",
    "        }\n",
    "    ),\n",
    "    axis=1,\n",
    ").sort_values(by=['date', 'group'])\n",
    "\n",
    "orders_grouped.head(6)"
   ]
  },
  {
   "cell_type": "code",
   "execution_count": 39,
   "metadata": {},
   "outputs": [
    {
     "data": {
      "text/html": [
       "<div>\n",
       "<style scoped>\n",
       "    .dataframe tbody tr th:only-of-type {\n",
       "        vertical-align: middle;\n",
       "    }\n",
       "\n",
       "    .dataframe tbody tr th {\n",
       "        vertical-align: top;\n",
       "    }\n",
       "\n",
       "    .dataframe thead th {\n",
       "        text-align: right;\n",
       "    }\n",
       "</style>\n",
       "<table border=\"1\" class=\"dataframe\">\n",
       "  <thead>\n",
       "    <tr style=\"text-align: right;\">\n",
       "      <th></th>\n",
       "      <th>date</th>\n",
       "      <th>group</th>\n",
       "      <th>visitors</th>\n",
       "    </tr>\n",
       "  </thead>\n",
       "  <tbody>\n",
       "    <tr>\n",
       "      <th>55</th>\n",
       "      <td>2019-08-01</td>\n",
       "      <td>A</td>\n",
       "      <td>719</td>\n",
       "    </tr>\n",
       "    <tr>\n",
       "      <th>66</th>\n",
       "      <td>2019-08-01</td>\n",
       "      <td>B</td>\n",
       "      <td>713</td>\n",
       "    </tr>\n",
       "    <tr>\n",
       "      <th>175</th>\n",
       "      <td>2019-08-02</td>\n",
       "      <td>A</td>\n",
       "      <td>1338</td>\n",
       "    </tr>\n",
       "    <tr>\n",
       "      <th>173</th>\n",
       "      <td>2019-08-02</td>\n",
       "      <td>B</td>\n",
       "      <td>1294</td>\n",
       "    </tr>\n",
       "    <tr>\n",
       "      <th>291</th>\n",
       "      <td>2019-08-03</td>\n",
       "      <td>A</td>\n",
       "      <td>1845</td>\n",
       "    </tr>\n",
       "    <tr>\n",
       "      <th>310</th>\n",
       "      <td>2019-08-03</td>\n",
       "      <td>B</td>\n",
       "      <td>1803</td>\n",
       "    </tr>\n",
       "  </tbody>\n",
       "</table>\n",
       "</div>"
      ],
      "text/plain": [
       "          date group  visitors\n",
       "55  2019-08-01  A     719     \n",
       "66  2019-08-01  B     713     \n",
       "175 2019-08-02  A     1338    \n",
       "173 2019-08-02  B     1294    \n",
       "291 2019-08-03  A     1845    \n",
       "310 2019-08-03  B     1803    "
      ]
     },
     "execution_count": 39,
     "metadata": {},
     "output_type": "execute_result"
    }
   ],
   "source": [
    "# Получим агрегированные кумулятивные по дням данные о посетителях интернет-магазина \n",
    "\n",
    "visitors_grouped = dates_grouped.apply(\n",
    "    lambda x: visitors[\n",
    "        np.logical_and(\n",
    "            visitors['date'] <= x['date'], visitors['group'] == x['group']\n",
    "        )\n",
    "    ].agg(\n",
    "        {\n",
    "            'date': 'max', \n",
    "            'group': 'max', \n",
    "            'visitors': 'sum'\n",
    "        }\n",
    "    ),\n",
    "    axis=1,\n",
    ").sort_values(by=['date', 'group'])\n",
    "\n",
    "visitors_grouped.head(6)"
   ]
  },
  {
   "cell_type": "code",
   "execution_count": 40,
   "metadata": {},
   "outputs": [],
   "source": [
    "# Объединим кумулятивные данные в одной таблице и присваиваем ее столбцам понятные названия\n",
    "\n",
    "cumulative_data = orders_grouped.merge(\n",
    "    visitors_grouped, \n",
    "    left_on=['date', 'group'], \n",
    "    right_on=['date', 'group']\n",
    ")\n",
    "\n",
    "cumulative_data.columns = ['date', 'group', 'orders', 'buyers', 'revenue', 'visitors']"
   ]
  },
  {
   "cell_type": "code",
   "execution_count": 41,
   "metadata": {},
   "outputs": [],
   "source": [
    "# Добавим колонку с конверсией\n",
    "cumulative_data['conversion'] = cumulative_data['orders'] / cumulative_data['visitors']"
   ]
  },
  {
   "cell_type": "code",
   "execution_count": 42,
   "metadata": {},
   "outputs": [
    {
     "data": {
      "text/html": [
       "<div>\n",
       "<style scoped>\n",
       "    .dataframe tbody tr th:only-of-type {\n",
       "        vertical-align: middle;\n",
       "    }\n",
       "\n",
       "    .dataframe tbody tr th {\n",
       "        vertical-align: top;\n",
       "    }\n",
       "\n",
       "    .dataframe thead th {\n",
       "        text-align: right;\n",
       "    }\n",
       "</style>\n",
       "<table border=\"1\" class=\"dataframe\">\n",
       "  <thead>\n",
       "    <tr style=\"text-align: right;\">\n",
       "      <th></th>\n",
       "      <th>date</th>\n",
       "      <th>group</th>\n",
       "      <th>orders</th>\n",
       "      <th>buyers</th>\n",
       "      <th>revenue</th>\n",
       "      <th>visitors</th>\n",
       "      <th>conversion</th>\n",
       "    </tr>\n",
       "  </thead>\n",
       "  <tbody>\n",
       "    <tr>\n",
       "      <th>0</th>\n",
       "      <td>2019-08-01</td>\n",
       "      <td>A</td>\n",
       "      <td>24</td>\n",
       "      <td>20</td>\n",
       "      <td>148579</td>\n",
       "      <td>719</td>\n",
       "      <td>0.03</td>\n",
       "    </tr>\n",
       "    <tr>\n",
       "      <th>1</th>\n",
       "      <td>2019-08-01</td>\n",
       "      <td>B</td>\n",
       "      <td>21</td>\n",
       "      <td>20</td>\n",
       "      <td>101217</td>\n",
       "      <td>713</td>\n",
       "      <td>0.03</td>\n",
       "    </tr>\n",
       "    <tr>\n",
       "      <th>2</th>\n",
       "      <td>2019-08-02</td>\n",
       "      <td>A</td>\n",
       "      <td>44</td>\n",
       "      <td>38</td>\n",
       "      <td>242401</td>\n",
       "      <td>1338</td>\n",
       "      <td>0.03</td>\n",
       "    </tr>\n",
       "    <tr>\n",
       "      <th>3</th>\n",
       "      <td>2019-08-02</td>\n",
       "      <td>B</td>\n",
       "      <td>45</td>\n",
       "      <td>43</td>\n",
       "      <td>266748</td>\n",
       "      <td>1294</td>\n",
       "      <td>0.03</td>\n",
       "    </tr>\n",
       "    <tr>\n",
       "      <th>4</th>\n",
       "      <td>2019-08-03</td>\n",
       "      <td>A</td>\n",
       "      <td>68</td>\n",
       "      <td>62</td>\n",
       "      <td>354874</td>\n",
       "      <td>1845</td>\n",
       "      <td>0.04</td>\n",
       "    </tr>\n",
       "    <tr>\n",
       "      <th>5</th>\n",
       "      <td>2019-08-03</td>\n",
       "      <td>B</td>\n",
       "      <td>61</td>\n",
       "      <td>59</td>\n",
       "      <td>380996</td>\n",
       "      <td>1803</td>\n",
       "      <td>0.03</td>\n",
       "    </tr>\n",
       "  </tbody>\n",
       "</table>\n",
       "</div>"
      ],
      "text/plain": [
       "        date group  orders  buyers  revenue  visitors  conversion\n",
       "0 2019-08-01  A     24      20      148579   719       0.03      \n",
       "1 2019-08-01  B     21      20      101217   713       0.03      \n",
       "2 2019-08-02  A     44      38      242401   1338      0.03      \n",
       "3 2019-08-02  B     45      43      266748   1294      0.03      \n",
       "4 2019-08-03  A     68      62      354874   1845      0.04      \n",
       "5 2019-08-03  B     61      59      380996   1803      0.03      "
      ]
     },
     "execution_count": 42,
     "metadata": {},
     "output_type": "execute_result"
    }
   ],
   "source": [
    "# Выведем результат\n",
    "cumulative_data.head(6)"
   ]
  },
  {
   "cell_type": "markdown",
   "metadata": {},
   "source": [
    "Построим графиу куммулятивной выручки по группам"
   ]
  },
  {
   "cell_type": "code",
   "execution_count": 43,
   "metadata": {},
   "outputs": [
    {
     "data": {
      "image/png": "[encoded data removed]",
      "text/plain": [
       "<Figure size 432x288 with 1 Axes>"
      ]
     },
     "metadata": {
      "needs_background": "light"
     },
     "output_type": "display_data"
    }
   ],
   "source": [
    "# Построим df с кумулятивным количеством заказов и кумулятивной выручкой по дням в группе А\n",
    "cumulative_revenue_a = cumulative_data[cumulative_data['group']=='A'][['date','revenue', 'orders']]\n",
    "\n",
    "# Построим df с кумулятивным количеством заказов и кумулятивной выручкой по дням в группе B\n",
    "cumulative_revenue_b = cumulative_data[cumulative_data['group']=='B'][['date','revenue', 'orders']]\n",
    "\n",
    "plt.plot(cumulative_revenue_a['date'], cumulative_revenue_a['revenue'], label='A')\n",
    "plt.plot(cumulative_revenue_b['date'], cumulative_revenue_b['revenue'], label='B')\n",
    "plt.title('График динамики кумулятивной выручки по группам А и В')\n",
    "plt.xlabel('Дата')\n",
    "plt.ylabel(\"Выручка\")\n",
    "plt.xticks(rotation=30)\n",
    "plt.legend()\n",
    "plt.show()"
   ]
  },
  {
   "cell_type": "markdown",
   "metadata": {},
   "source": [
    "- Кумулятивная выручка группы А растет плавно, и она меньше, чем у группы В.\n",
    "-  В группе В есть резкий скачок в районе 19 августа 2019 года, что может быть связано с увеличением числа заказов или о появлении дорогих заказов в выборке.    о всплесках числа заказов, либо о появлении очень дорогих заказов в выборке."
   ]
  },
  {
   "cell_type": "markdown",
   "metadata": {},
   "source": [
    "### Построим график кумулятивного среднего чека по группам. Сделаем выводы и предположения."
   ]
  },
  {
   "cell_type": "code",
   "execution_count": 44,
   "metadata": {},
   "outputs": [
    {
     "data": {
      "image/png": "[encoded data removed]",
      "text/plain": [
       "<Figure size 432x288 with 1 Axes>"
      ]
     },
     "metadata": {
      "needs_background": "light"
     },
     "output_type": "display_data"
    }
   ],
   "source": [
    "# Построим график динамики кумулятивного среднего чека по группам.\n",
    "plt.plot(cumulative_revenue_a['date'], \n",
    "         cumulative_revenue_a['revenue'] / cumulative_revenue_a['orders'],\n",
    "         label='A')\n",
    "\n",
    "plt.plot(cumulative_revenue_b['date'], \n",
    "         cumulative_revenue_b['revenue'] / cumulative_revenue_b['orders'], \n",
    "         label='B')\n",
    "\n",
    "plt.title('График динамики кумулятивного среднего чека по группам А и В')\n",
    "plt.xlabel('Дата')\n",
    "plt.ylabel(\"Выручка\")\n",
    "plt.xticks(rotation=30)\n",
    "plt.legend()\n",
    "plt.show()"
   ]
  },
  {
   "cell_type": "markdown",
   "metadata": {},
   "source": [
    "- Средний  чек в группе А  имеет резкий рост 06 августа 2019 года и 13 августа 2019 года, после чего стабилизировался. \n",
    "- Средний чек группы В показал резкий рывок 19 августа 2019 года, что говорит о появлении в выборке дорогих заказов."
   ]
  },
  {
   "cell_type": "markdown",
   "metadata": {},
   "source": [
    "### Построим график относительного изменения кумулятивного среднего чека группы B к группе A. Сделаем выводы и предположения."
   ]
  },
  {
   "cell_type": "code",
   "execution_count": 45,
   "metadata": {},
   "outputs": [
    {
     "data": {
      "image/png": "[encoded data removed]",
      "text/plain": [
       "<Figure size 432x288 with 1 Axes>"
      ]
     },
     "metadata": {
      "needs_background": "light"
     },
     "output_type": "display_data"
    }
   ],
   "source": [
    "# Соберем  данные в одном датафрейме\n",
    "cumulative_revenue_ab = cumulative_revenue_a.merge(\n",
    "    cumulative_revenue_b, \n",
    "    left_on='date', \n",
    "    right_on='date', \n",
    "    how='left', \n",
    "    suffixes=['_a', '_b']\n",
    ")\n",
    "\n",
    "# Поcтроим отношение средних чеков\n",
    "plt.plot(cumulative_revenue_ab['date'], \n",
    "         (\n",
    "             cumulative_revenue_ab['revenue_b']/cumulative_revenue_ab['orders_b']\n",
    "         )/\n",
    "         (\n",
    "             cumulative_revenue_ab['revenue_a']/cumulative_revenue_ab['orders_a']\n",
    "         )-1\n",
    "        )\n",
    "\n",
    "# Добавим ось X\n",
    "\n",
    "plt.axhline(y=0, color='black', linestyle='--')\n",
    "plt.title('График относительного изменения кумулятивного среднего чека группы B к группе A')\n",
    "plt.xlabel('Дата')\n",
    "plt.ylabel('Выручка')\n",
    "plt.xticks(rotation=30)\n",
    "plt.show()"
   ]
  },
  {
   "cell_type": "markdown",
   "metadata": {},
   "source": [
    "- Всплески показателя среднего чека 04 авгутса 2019 года, 06 августа 2019 года,19 августа 2019 года, что может быть связано с начичием крупных заказов в периоды всплесков показателей."
   ]
  },
  {
   "cell_type": "markdown",
   "metadata": {},
   "source": [
    "### Построим график кумулятивного среднего количества заказов на посетителя по группам. Сделаем выводы и предположения."
   ]
  },
  {
   "cell_type": "code",
   "execution_count": 46,
   "metadata": {},
   "outputs": [
    {
     "data": {
      "image/png": "[encoded data removed]",
      "text/plain": [
       "<Figure size 720x432 with 1 Axes>"
      ]
     },
     "metadata": {
      "needs_background": "light"
     },
     "output_type": "display_data"
    }
   ],
   "source": [
    "# Выделим данные для групп A и B\n",
    "cumulative_data_a = cumulative_data[cumulative_data['group'] == 'A'].copy()\n",
    "cumulative_data_b = cumulative_data[cumulative_data['group'] == 'B'].copy()\n",
    "\n",
    "# Рассчитаем кумулятивное среднее количество заказов на посетителя для каждой группы\n",
    "cumulative_data_a.loc[:, 'average_orders_per_visitor'] = cumulative_data_a['orders'] / cumulative_data_a['visitors']\n",
    "cumulative_data_b.loc[:, 'average_orders_per_visitor'] = cumulative_data_b['orders'] / cumulative_data_b['visitors']\n",
    "\n",
    "# Построим графики\n",
    "plt.figure(figsize=(10, 6))\n",
    "plt.plot(cumulative_data_a['date'], cumulative_data_a['conversion'], label='A')\n",
    "plt.plot(cumulative_data_b['date'], cumulative_data_b['conversion'], label='B')\n",
    "plt.legend()\n",
    "plt.title('Кумулятивное среднее количество заказов на посетителя по группам А и В')\n",
    "plt.xlabel('Дата')\n",
    "plt.ylabel('Среднее количество заказов на посетителя')\n",
    "plt.xticks(rotation=30)\n",
    "plt.grid(True)\n",
    "plt.tight_layout()\n",
    "plt.show()"
   ]
  },
  {
   "cell_type": "markdown",
   "metadata": {},
   "source": [
    "- До 10 августа 2019 года кумулятивное среднее количество заказов  сильно колебалась, после вровнялась по обеим группам. Это может быть связано с сезонностью товара, рекламными акциями,изменениями в ассортименте."
   ]
  },
  {
   "cell_type": "markdown",
   "metadata": {},
   "source": [
    "### Построим график относительного изменения кумулятивного среднего количества заказов на посетителя группы B к группе A. Сделаем выводы и предположения."
   ]
  },
  {
   "cell_type": "code",
   "execution_count": 47,
   "metadata": {},
   "outputs": [
    {
     "data": {
      "image/png": "[encoded data removed]",
      "text/plain": [
       "<Figure size 864x432 with 1 Axes>"
      ]
     },
     "metadata": {
      "needs_background": "light"
     },
     "output_type": "display_data"
    }
   ],
   "source": [
    "# Объединим данные по группам для удобства анализа\n",
    "merged_data = cumulative_data_a[['date', 'average_orders_per_visitor']].rename(\n",
    "    columns={'average_orders_per_visitor': 'A'}\n",
    ")\n",
    "merged_data = merged_data.merge(\n",
    "    cumulative_data_b[['date', 'average_orders_per_visitor']].rename(\n",
    "        columns={'average_orders_per_visitor': 'B'}\n",
    "    ),\n",
    "    on='date'\n",
    ")\n",
    "\n",
    "# Рассчитаем относительное изменение B относительно A\n",
    "merged_data['relative_change'] = (merged_data['B'] - merged_data['A']) / merged_data['A'] * 100\n",
    "\n",
    "# Построим график относительного изменения\n",
    "plt.figure(figsize=(12, 6))\n",
    "plt.plot(merged_data['date'], merged_data['relative_change'], label='Относительное изменение B к A (%)')\n",
    "\n",
    "plt.axhline(0, color='green', linestyle='-', linewidth=1)\n",
    "plt.axhline(10, color='blue', linestyle='-', linewidth=1, label='10%')\n",
    "plt.axhline(20, color='red', linestyle='-', linewidth=1, label='20%')\n",
    "plt.title('Относительное изменение кумулятивного среднего количества заказов на посетителя группы B к группе A')\n",
    "plt.xlabel('Дата')\n",
    "plt.ylabel('Относительное изменение (%)')\n",
    "plt.xticks(rotation=45)\n",
    "plt.grid(True)"
   ]
  },
  {
   "cell_type": "markdown",
   "metadata": {},
   "source": [
    "- Рассматривая периоды стабильности и колебаний: группа В сначала уступала группе А, 02 августа 2019 года был резкий всплеск относительного кумулятивного среднего количества заказов группы В и после 05 августа 2019 года резкий рост и стабилизация количества заказов, что может быть связано с  долгосрочными изменениями в поведении пользователей или влиянии маркетинговых мероприятий, сезонных факторов, появлением новых товаров. График стабилизировался между 10% и 20%.\n"
   ]
  },
  {
   "cell_type": "markdown",
   "metadata": {},
   "source": [
    "### Построим точечный график количества заказов по пользователям. Сделаем выводы и предположения."
   ]
  },
  {
   "cell_type": "code",
   "execution_count": 48,
   "metadata": {},
   "outputs": [
    {
     "data": {
      "text/plain": [
       "count    1031.00\n",
       "mean     1.16   \n",
       "std      0.72   \n",
       "min      1.00   \n",
       "25%      1.00   \n",
       "50%      1.00   \n",
       "75%      1.00   \n",
       "max      11.00  \n",
       "Name: orders, dtype: float64"
      ]
     },
     "metadata": {},
     "output_type": "display_data"
    }
   ],
   "source": [
    "# Проанализируем количество заказов (или транзакций) на одного пользователя. \n",
    "orders_by_users = (\n",
    "    orders.groupby('visitorId', as_index=False)\n",
    "    .agg({'transactionId': 'nunique'})\n",
    ")\n",
    "orders_by_users.columns =  ['visitorId', 'orders']\n",
    "display(orders_by_users['orders'].describe())"
   ]
  },
  {
   "cell_type": "markdown",
   "metadata": {},
   "source": [
    "- Судя по медиане и 25-м и 75-м процентилям, значительное количество пользователей (75%) сделали только один заказ. Это может указывать на низкий уровень повторных покупок.\n",
    "- Максимальное значение в 11 заказов указывает на то, что существует группа пользователей, которые значительно превышают средний уровень активности и делают крупные заказы."
   ]
  },
  {
   "cell_type": "code",
   "execution_count": 49,
   "metadata": {},
   "outputs": [
    {
     "data": {
      "image/png": "[encoded data removed]",
      "text/plain": [
       "<Figure size 432x288 with 1 Axes>"
      ]
     },
     "metadata": {
      "needs_background": "light"
     },
     "output_type": "display_data"
    }
   ],
   "source": [
    "# Создадим последовательность значений x для графика\n",
    "x_values = pd.Series(range(0,len(orders_by_users)))\n",
    "\n",
    "# Построим точечную диаграмму\n",
    "plt.scatter(x_values, orders_by_users['orders'], color='green', alpha=0.5)\n",
    "plt.title('Распределение количества заказов по пользователям')\n",
    "plt.xlabel('Индекс пользователя')\n",
    "plt.ylabel('Количество заказов')\n",
    "plt.grid(True)\n",
    "plt.tight_layout()\n",
    "plt.show()\n"
   ]
  },
  {
   "cell_type": "markdown",
   "metadata": {},
   "source": [
    "- Значительное количесвто пользователей сделали только один заказ.\n",
    "- Много пользователей с 2-3 заказами, но не ясна их доля, поэтому сожно понять являются ли данные по ним выбросами."
   ]
  },
  {
   "cell_type": "markdown",
   "metadata": {},
   "source": [
    "### Посчитаем 95-й и 99-й перцентили количества заказов на пользователя. Выберем границу для определения аномальных пользователей."
   ]
  },
  {
   "cell_type": "code",
   "execution_count": 50,
   "metadata": {},
   "outputs": [
    {
     "data": {
      "text/plain": [
       "array([2., 4.])"
      ]
     },
     "execution_count": 50,
     "metadata": {},
     "output_type": "execute_result"
    }
   ],
   "source": [
    "# Вычислим 95-й и 99-й процентили\n",
    "np.percentile(orders_by_users['orders'], [95, 99])"
   ]
  },
  {
   "cell_type": "markdown",
   "metadata": {},
   "source": [
    "- 95% пользователей сделали 2 или меньше заказов. Это говорит о том, что большинство пользователей находятся в нижней части распределения и делают немного заказов.\n",
    "- 99% пользователей сделали 4 или меньше заказов. Это показывает, что практически все пользователи, за исключением 1% наиболее активных, сделали не более 4 заказов.\n",
    "- Большинство пользователей (95%) делают относительно небольшое количество заказов (2 или меньше). Это подтверждает, что большинство пользователей активно не заказывают много.\n",
    "- Пользователи, которые делают более 4 заказов, составляют лишь 1% от общего числа. Это говорит о наличии небольшой группы пользователей с экстремально высоким уровнем активности.\n",
    "- Примем за верхнюю границу 4 заказа на одного пользователя."
   ]
  },
  {
   "cell_type": "markdown",
   "metadata": {},
   "source": [
    "### Построим точечный график стоимостей заказов. Сделаем выводы и предположения."
   ]
  },
  {
   "cell_type": "code",
   "execution_count": 51,
   "metadata": {},
   "outputs": [
    {
     "data": {
      "text/plain": [
       "count    1.20e+03\n",
       "mean     8.35e+03\n",
       "std      3.92e+04\n",
       "min      5.00e+01\n",
       "25%      1.22e+03\n",
       "50%      2.98e+03\n",
       "75%      8.29e+03\n",
       "max      1.29e+06\n",
       "Name: revenue, dtype: float64"
      ]
     },
     "metadata": {},
     "output_type": "display_data"
    }
   ],
   "source": [
    "display(orders['revenue'].describe())"
   ]
  },
  {
   "cell_type": "markdown",
   "metadata": {},
   "source": [
    "- Максимальная стоимость заказа (1,290,000) значительно превышает среднюю стоимость. Это может указывать на наличие нескольких очень больших заказов, которые могут быть выбросами или аномалиями в данных.\n",
    "- Медиана (2980 единиц) и 25-й/75-й процентиль (1220 и 8290 единиц) показывают, что большинство заказов сосредоточены в диапазоне от 1220 до 8290 единиц."
   ]
  },
  {
   "cell_type": "code",
   "execution_count": 52,
   "metadata": {},
   "outputs": [
    {
     "data": {
      "image/png": "[encoded data removed]",
      "text/plain": [
       "<Figure size 432x288 with 1 Axes>"
      ]
     },
     "metadata": {
      "needs_background": "light"
     },
     "output_type": "display_data"
    }
   ],
   "source": [
    "# Построение точечного графика\n",
    "plt.scatter(orders['transactionId'], orders['revenue'], color='blue', alpha=0.7)\n",
    "plt.title('Точечный график стоимостей заказов')\n",
    "plt.xlabel('Идентификатор заказа')\n",
    "plt.ylabel('Стоимость заказа')\n",
    "plt.grid(True)\n",
    "plt.tight_layout()\n",
    "plt.show()"
   ]
  },
  {
   "cell_type": "markdown",
   "metadata": {},
   "source": [
    "- График подтверждает наличие одного заказа на 1,29, что является аномалией."
   ]
  },
  {
   "cell_type": "code",
   "execution_count": 53,
   "metadata": {
    "scrolled": true
   },
   "outputs": [
    {
     "data": {
      "image/png": "[encoded data removed]",
      "text/plain": [
       "<Figure size 432x288 with 1 Axes>"
      ]
     },
     "metadata": {
      "needs_background": "light"
     },
     "output_type": "display_data"
    }
   ],
   "source": [
    "# Построим точечный график без аномалий.\n",
    "plt.ylim(0, 150000)\n",
    "plt.scatter(orders['transactionId'], orders['revenue'], color='blue', alpha=0.7)\n",
    "plt.title('Точечный график стоимостей заказов')\n",
    "plt.xlabel('Идентификатор заказа')\n",
    "plt.ylabel('Стоимость заказа')\n",
    "plt.grid(True)\n",
    "plt.tight_layout()\n",
    "plt.show()"
   ]
  },
  {
   "cell_type": "markdown",
   "metadata": {},
   "source": [
    "- Большая часть  заказов не превышает 20000."
   ]
  },
  {
   "cell_type": "markdown",
   "metadata": {},
   "source": [
    "### Посчитаем 95-й и 99-й перцентили стоимости заказов. Выберем границу для определения аномальных заказов."
   ]
  },
  {
   "cell_type": "code",
   "execution_count": 54,
   "metadata": {},
   "outputs": [
    {
     "name": "stdout",
     "output_type": "stream",
     "text": [
      "[28000.  58233.2]\n"
     ]
    }
   ],
   "source": [
    "# Вычислим 95-q и 99-q процентили\n",
    "print(np.percentile(orders['revenue'], [95, 99])) "
   ]
  },
  {
   "cell_type": "markdown",
   "metadata": {},
   "source": [
    "- 95% заказов имеют стоимость до 28,000 единиц. Это значение указывает, что 95% всех заказов стоят 28,000 единиц или меньше. Заказы, стоимость которых превышает 28,000 единиц, можно считать относительно высокими.\n",
    "- 99% заказов имеют стоимость до 58,233.2 единиц. Это значение указывает, что 99% всех заказов стоят 58,233.2 единиц или меньше. Заказы, стоимость которых превышает эту сумму, можно считать крайне высокими или аномальными.\n",
    "- Определяем границу по величине 99% перцентиля (58233)"
   ]
  },
  {
   "cell_type": "markdown",
   "metadata": {},
   "source": [
    "### Посчитаем статистическую значимость различий в среднем количестве заказов на посетителя между группами по «сырым» данным. Сделайте выводы и предположения."
   ]
  },
  {
   "cell_type": "markdown",
   "metadata": {},
   "source": [
    "- Посчитаем статистическую значимость различий в среднем числе заказов на пользователя и среднем чеке между группами по «сырым» данным — без удаления аномальных пользователей.\n",
    "- Сформулируем гипотезы: \n",
    "- Нулевая: различий в среднем количестве заказов между группами нет. \n",
    "- Альтернативная: различия в среднем между группами есть."
   ]
  },
  {
   "cell_type": "code",
   "execution_count": 55,
   "metadata": {},
   "outputs": [
    {
     "name": "stdout",
     "output_type": "stream",
     "text": [
      "        date  ordersPerDateA  revenuePerDateA  ordersPerDateB  \\\n",
      "0 2019-08-01  24              148579           21               \n",
      "1 2019-08-02  20              93822            24               \n",
      "2 2019-08-03  24              112473           16               \n",
      "3 2019-08-04  16              70825            17               \n",
      "4 2019-08-05  25              124218           23               \n",
      "\n",
      "   revenuePerDateB  ordersCummulativeA  revenueCummulativeA  \\\n",
      "0  101217           24                  148579                \n",
      "1  165531           44                  242401                \n",
      "2  114248           68                  354874                \n",
      "3  108571           84                  425699                \n",
      "4  92428            109                 549917                \n",
      "\n",
      "   ordersCummulativeB  revenueCummulativeB  visitorsPerDateA  \\\n",
      "0  21                  101217               719                \n",
      "1  45                  266748               619                \n",
      "2  61                  380996               507                \n",
      "3  78                  489567               717                \n",
      "4  101                 581995               756                \n",
      "\n",
      "   visitorsPerDateB  visitorsCummulativeA  visitorsCummulativeB  \n",
      "0  713               719                   713                   \n",
      "1  581               1338                  1294                  \n",
      "2  509               1845                  1803                  \n",
      "3  770               2562                  2573                  \n",
      "4  707               3318                  3280                  \n",
      "P-значение теста Манна-Уитни: 0.017\n",
      "Относительное изменение среднего значения между группами B и A: 0.138\n"
     ]
    }
   ],
   "source": [
    "visitorsADaily = visitors[visitors['group'] == 'A'][['date', 'visitors']]\n",
    "visitorsADaily.columns = ['date', 'visitorsPerDateA']\n",
    "\n",
    "visitorsACummulative = visitorsADaily.apply(\n",
    "lambda x: visitorsADaily[visitorsADaily['date'] <= x['date']].agg(\n",
    "{'date': 'max', 'visitorsPerDateA': 'sum'}\n",
    "),\n",
    "axis=1,\n",
    ")\n",
    "visitorsACummulative.columns = ['date', 'visitorsCummulativeA']\n",
    "\n",
    "visitorsBDaily = visitors[visitors['group'] == 'B'][['date', 'visitors']]\n",
    "visitorsBDaily.columns = ['date', 'visitorsPerDateB']\n",
    "\n",
    "visitorsBCummulative = visitorsBDaily.apply(\n",
    "lambda x: visitorsBDaily[visitorsBDaily['date'] <= x['date']].agg(\n",
    "{'date': 'max', 'visitorsPerDateB': 'sum'}\n",
    "),\n",
    "axis=1,\n",
    ")\n",
    "visitorsBCummulative.columns = ['date', 'visitorsCummulativeB']\n",
    "\n",
    "ordersADaily = (\n",
    "orders[orders['group'] == 'A'][['date', 'transactionId', 'visitorId', 'revenue']]\n",
    ".groupby('date', as_index=False)\n",
    ".agg({'transactionId': pd.Series.nunique, 'revenue': 'sum'})\n",
    ")\n",
    "ordersADaily.columns = ['date', 'ordersPerDateA', 'revenuePerDateA']\n",
    "\n",
    "ordersACummulative = ordersADaily.apply(\n",
    "lambda x: ordersADaily[ordersADaily['date'] <= x['date']].agg(\n",
    "{'date': 'max', 'ordersPerDateA': 'sum', 'revenuePerDateA': 'sum'}\n",
    "),\n",
    "axis=1,\n",
    ").sort_values(by=['date'])\n",
    "ordersACummulative.columns = [\n",
    "'date',\n",
    "'ordersCummulativeA',\n",
    "'revenueCummulativeA',\n",
    "]\n",
    "\n",
    "ordersBDaily = (\n",
    "orders[orders['group'] == 'B'][['date', 'transactionId', 'visitorId', 'revenue']]\n",
    ".groupby('date', as_index=False)\n",
    ".agg({'transactionId': pd.Series.nunique, 'revenue': 'sum'})\n",
    ")\n",
    "ordersBDaily.columns = ['date', 'ordersPerDateB', 'revenuePerDateB']\n",
    "\n",
    "ordersBCummulative = ordersBDaily.apply(\n",
    "lambda x: ordersBDaily[ordersBDaily['date'] <= x['date']].agg(\n",
    "{'date': 'max', 'ordersPerDateB': 'sum', 'revenuePerDateB': 'sum'}\n",
    "),\n",
    "axis=1,\n",
    ").sort_values(by=['date'])\n",
    "ordersBCummulative.columns = [\n",
    "'date',\n",
    "'ordersCummulativeB',\n",
    "'revenueCummulativeB',\n",
    "]\n",
    "\n",
    "data = (\n",
    "ordersADaily.merge(\n",
    "ordersBDaily, left_on='date', right_on='date', how='left'\n",
    ")\n",
    ".merge(ordersACummulative, left_on='date', right_on='date', how='left')\n",
    ".merge(ordersBCummulative, left_on='date', right_on='date', how='left')\n",
    ".merge(visitorsADaily, left_on='date', right_on='date', how='left')\n",
    ".merge(visitorsBDaily, left_on='date', right_on='date', how='left')\n",
    ".merge(visitorsACummulative, left_on='date', right_on='date', how='left')\n",
    ".merge(visitorsBCummulative, left_on='date', right_on='date', how='left')\n",
    ")\n",
    "\n",
    "print(data.head(5))\n",
    "\n",
    "ordersByUsersA = (\n",
    "orders[orders['group'] == 'A']\n",
    ".groupby('visitorId', as_index=False)\n",
    ".agg({'transactionId': pd.Series.nunique})\n",
    ")\n",
    "ordersByUsersA.columns = ['visitorId', 'orders']\n",
    "\n",
    "ordersByUsersB = (\n",
    "orders[orders['group'] == 'B']\n",
    ".groupby('visitorId', as_index=False)\n",
    ".agg({'transactionId': pd.Series.nunique})\n",
    ")\n",
    "ordersByUsersB.columns = ['visitorId', 'orders']\n",
    "\n",
    "pd.Series(0, index=np.arange(data['visitorsPerDateA'].sum() - len(ordersByUsersA['orders'])), name='orders')\n",
    "\n",
    "\n",
    "sampleA = pd.concat([ordersByUsersA['orders'],pd.Series(0, index=np.arange(data['visitorsPerDateA'].sum() - len(ordersByUsersA['orders'])), name='orders')],axis=0)\n",
    "\n",
    "sampleB = pd.concat([ordersByUsersB['orders'],pd.Series(0, index=np.arange(data['visitorsPerDateB'].sum() - len(ordersByUsersB['orders'])), name='orders')],axis=0)\n",
    "\n",
    "ordersByUsersA = (\n",
    "orders[orders['group'] == 'A']\n",
    ".groupby('visitorId', as_index=False)\n",
    ".agg({'transactionId': pd.Series.nunique})\n",
    ")\n",
    "ordersByUsersA.columns = ['visitorId', 'orders']\n",
    "\n",
    "ordersByUsersB = (\n",
    "orders[orders['group'] == 'B']\n",
    ".groupby('visitorId', as_index=False)\n",
    ".agg({'transactionId': pd.Series.nunique})\n",
    ")\n",
    "ordersByUsersB.columns = ['visitorId', 'orders']\n",
    "\n",
    "sampleA = pd.concat(\n",
    "[\n",
    "ordersByUsersA['orders'],\n",
    "pd.Series(\n",
    "0,\n",
    "index=np.arange(\n",
    "data['visitorsPerDateA'].sum() - len(ordersByUsersA['orders'])\n",
    "),\n",
    "name='orders',\n",
    "),\n",
    "],\n",
    "axis=0,\n",
    ")\n",
    "\n",
    "sampleB = pd.concat(\n",
    "[\n",
    "ordersByUsersB['orders'],\n",
    "pd.Series(\n",
    "0,\n",
    "index=np.arange(\n",
    "data['visitorsPerDateB'].sum() - len(ordersByUsersB['orders'])\n",
    "),\n",
    "name='orders',\n",
    "),\n",
    "],\n",
    "axis=0,\n",
    ")\n",
    "\n",
    "print(\"P-значение теста Манна-Уитни: {0:.3f}\".format(stats.mannwhitneyu(sampleA, sampleB)[1]))\n",
    "print(\"Относительное изменение среднего значения между группами B и A: {0:.3f}\".format(sampleB.mean() / sampleA.mean() - 1))"
   ]
  },
  {
   "cell_type": "markdown",
   "metadata": {},
   "source": [
    "- Результат теста Манна-Уитни (p-value): 0.017\n",
    "- Относительное изменение среднего чека заказа: 0.138\n",
    "- Поскольку p-value (0.017) меньше уровня значимости  (0.05), нулевая гипотеза (\"различий в среднем количестве заказов между группами нет\") отвергается."
   ]
  },
  {
   "cell_type": "markdown",
   "metadata": {},
   "source": [
    "Вывод.\n",
    "\n",
    "- Существуют статистически значимые различия в среднем количестве заказов между группами A и B по \"сырым\" данным.\n",
    "- Относительное изменение = 0.138 означает, что средний чек заказа во второй группе (или выборке B) больше, чем в первой группе (или выборке A) на 13.8%."
   ]
  },
  {
   "cell_type": "markdown",
   "metadata": {},
   "source": [
    "### Посчитаем статистическую значимость различий в среднем чеке заказа между группами по «сырым» данным. Сделаем выводы и предположения."
   ]
  },
  {
   "cell_type": "markdown",
   "metadata": {},
   "source": [
    "- Посчитаем статистическую значимость различия средних чеков между группами.\n",
    "- Выведем *p-value* для сравнения средних чеков между группами. Округлим *p-value* до трёх знаков после запятой.\n",
    "- Выведем относительный прирост среднего чека группы B, округлим до трёх знаков после запятой.\n",
    "- Сформулируем гипотезы:\n",
    "- Нулевая: различий в среднем чеке заказа между группами нет.\n",
    "- Альтернативная: различия в среднем чеке заказов между группами есть."
   ]
  },
  {
   "cell_type": "code",
   "execution_count": 56,
   "metadata": {},
   "outputs": [
    {
     "name": "stdout",
     "output_type": "stream",
     "text": [
      "P-значение теста Манна-Уитни: 0.729\n",
      "Относительное изменение среднего значения между группами B и A: 0.259\n"
     ]
    }
   ],
   "source": [
    "visitorsADaily = visitors[visitors['group'] == 'A'][['date', 'visitors']]\n",
    "visitorsADaily.columns = ['date', 'visitorsPerDateA']\n",
    "\n",
    "visitorsACummulative = visitorsADaily.apply(\n",
    "lambda x: visitorsADaily[visitorsADaily['date'] <= x['date']].agg(\n",
    "{'date': 'max', 'visitorsPerDateA': 'sum'}\n",
    "),\n",
    "axis=1,\n",
    ")\n",
    "visitorsACummulative.columns = ['date', 'visitorsCummulativeA']\n",
    "\n",
    "visitorsBDaily = visitors[visitors['group'] == 'B'][['date', 'visitors']]\n",
    "visitorsBDaily.columns = ['date', 'visitorsPerDateB']\n",
    "\n",
    "visitorsBCummulative = visitorsBDaily.apply(\n",
    "lambda x: visitorsBDaily[visitorsBDaily['date'] <= x['date']].agg(\n",
    "{'date': 'max', 'visitorsPerDateB': 'sum'}\n",
    "),\n",
    "axis=1,\n",
    ")\n",
    "visitorsBCummulative.columns = ['date', 'visitorsCummulativeB']\n",
    "\n",
    "ordersADaily = (\n",
    "orders[orders['group'] == 'A'][['date', 'transactionId', 'visitorId', 'revenue']]\n",
    ".groupby('date', as_index=False)\n",
    ".agg({'transactionId': pd.Series.nunique, 'revenue': 'sum'})\n",
    ")\n",
    "ordersADaily.columns = ['date', 'ordersPerDateA', 'revenuePerDateA']\n",
    "\n",
    "ordersACummulative = ordersADaily.apply(\n",
    "lambda x: ordersADaily[ordersADaily['date'] <= x['date']].agg(\n",
    "{'date': 'max', 'ordersPerDateA': 'sum', 'revenuePerDateA': 'sum'}\n",
    "),\n",
    "axis=1,\n",
    ").sort_values(by=['date'])\n",
    "ordersACummulative.columns = [\n",
    "'date',\n",
    "'ordersCummulativeA',\n",
    "'revenueCummulativeA',\n",
    "]\n",
    "\n",
    "ordersBDaily = (\n",
    "orders[orders['group'] == 'B'][['date', 'transactionId', 'visitorId', 'revenue']]\n",
    ".groupby('date', as_index=False)\n",
    ".agg({'transactionId': pd.Series.nunique, 'revenue': 'sum'})\n",
    ")\n",
    "ordersBDaily.columns = ['date', 'ordersPerDateB', 'revenuePerDateB']\n",
    "\n",
    "ordersBCummulative = ordersBDaily.apply(\n",
    "lambda x: ordersBDaily[ordersBDaily['date'] <= x['date']].agg(\n",
    "{'date': 'max', 'ordersPerDateB': 'sum', 'revenuePerDateB': 'sum'}\n",
    "),\n",
    "axis=1,\n",
    ").sort_values(by=['date'])\n",
    "ordersBCummulative.columns = [\n",
    "'date',\n",
    "'ordersCummulativeB',\n",
    "'revenueCummulativeB',\n",
    "]\n",
    "\n",
    "data = (\n",
    "ordersADaily.merge(\n",
    "ordersBDaily, left_on='date', right_on='date', how='left'\n",
    ")\n",
    ".merge(ordersACummulative, left_on='date', right_on='date', how='left')\n",
    ".merge(ordersBCummulative, left_on='date', right_on='date', how='left')\n",
    ".merge(visitorsADaily, left_on='date', right_on='date', how='left')\n",
    ".merge(visitorsBDaily, left_on='date', right_on='date', how='left')\n",
    ".merge(visitorsACummulative, left_on='date', right_on='date', how='left')\n",
    ".merge(visitorsBCummulative, left_on='date', right_on='date', how='left')\n",
    ")\n",
    "\n",
    "print(\"P-значение теста Манна-Уитни: {0:.3f}\".format(stats.mannwhitneyu(orders[orders['group']=='A']['revenue'], orders[orders['group']=='B']['revenue'])[1]))\n",
    "print(\"Относительное изменение среднего значения между группами B и A: {0:.3f}\".format(orders[orders['group']=='B']['revenue'].mean()/orders[orders['group']=='A']['revenue'].mean()-1))"
   ]
  },
  {
   "cell_type": "markdown",
   "metadata": {},
   "source": [
    "- p-value = 0.729: это значение значительно больше уровня значимости 0.05. Следовательно, мы не отвергаем нулевую гипотезу. Это означает, что нет статистически значимых различий в среднем чеке заказа между группами A и B.\n",
    "- Относительное изменение = 0.259: Это означает, что средний чек заказа в группе B на 25.9% выше, чем в группе A. Однако, несмотря на это значительное изменение, оно не является статистически значимым, как указано выше."
   ]
  },
  {
   "cell_type": "markdown",
   "metadata": {},
   "source": [
    "Если p-value > alpha значит средний чек группы B **равен** среднему чеку группы A (или не отличается). Наблюдаемое различие не значимо, получено случайно из-за единичных выбросов.\n"
   ]
  },
  {
   "cell_type": "markdown",
   "metadata": {},
   "source": [
    "Вывод.\n",
    "\n",
    "- Нет статистически значимых различий: различия в среднем чеке заказа между группами A и B не являются статистически значимыми (p-value = 0.729) по \"сырым\" данным.\n",
    "- Значительное относительное изменение, но не статистически значимое: хотя средний чек заказа в группе B выше на 25.9%, это изменение не подтверждается статистической значимостью."
   ]
  },
  {
   "cell_type": "markdown",
   "metadata": {},
   "source": [
    "### Посчитаем статистическую значимость различий в среднем количестве заказов на посетителя между группами по «очищенным» данным. Сделаем выводы и предположения."
   ]
  },
  {
   "cell_type": "markdown",
   "metadata": {},
   "source": [
    "- Так как  95-й и 99-й перцентили средних чеков равны 28000 и 58233.2. А 95-й и 99-й перцентили числа заказов на одного пользователя равны 2 и 4 заказам на пользователя.\n",
    "- Примем за аномальных пользователей тех, кто совершил от 5 заказов или совершил заказ дороже 58233. Так мы уберём 1% пользователей с наибольшим числом заказов и от 1% пользователей с дорогими заказами. \n",
    "- Сделаем срезы пользователей с числом заказов больше 4 — 'usersWithManyOrders' и пользователей, совершивших заказы дороже 58233 — 'usersWithExpensiveOrders'. Объединим их в таблице 'abnormalUsers', удалим дубликаты, отсортируем по возрастанию. Узнаем сколько всего аномальных пользоватеелй."
   ]
  },
  {
   "cell_type": "code",
   "execution_count": 57,
   "metadata": {},
   "outputs": [
    {
     "name": "stdout",
     "output_type": "stream",
     "text": [
      "1099    148427295 \n",
      "949     887908475 \n",
      "744     888512513 \n",
      "1103    1164614297\n",
      "1136    1307669133\n",
      "Name: visitorId, dtype: int64\n"
     ]
    },
    {
     "data": {
      "text/plain": [
       "15"
      ]
     },
     "execution_count": 57,
     "metadata": {},
     "output_type": "execute_result"
    }
   ],
   "source": [
    "ordersByUsersA = (\n",
    "orders[orders['group'] == 'A']\n",
    ".groupby('visitorId', as_index=False)\n",
    ".agg({'transactionId': pd.Series.nunique})\n",
    ")\n",
    "ordersByUsersA.columns = ['visitorId', 'orders']\n",
    "\n",
    "ordersByUsersB = (\n",
    "orders[orders['group'] == 'B']\n",
    ".groupby('visitorId', as_index=False)\n",
    ".agg({'transactionId': pd.Series.nunique})\n",
    ")\n",
    "ordersByUsersB.columns = ['visitorId', 'orders']\n",
    "\n",
    "usersWithManyOrders = pd.concat(\n",
    "[\n",
    "ordersByUsersA[ordersByUsersA['orders'] > 4]['visitorId'],\n",
    "ordersByUsersB[ordersByUsersB['orders'] > 4]['visitorId'],\n",
    "],\n",
    "axis=0,\n",
    ")\n",
    "usersWithExpensiveOrders = orders[orders['revenue'] > 58233]['visitorId']\n",
    "abnormalUsers = (\n",
    "pd.concat([usersWithManyOrders, usersWithExpensiveOrders], axis=0)\n",
    ".drop_duplicates()\n",
    ".sort_values()\n",
    ")\n",
    "print(abnormalUsers.head(5))\n",
    "abnormalUsers.shape[0]\n"
   ]
  },
  {
   "cell_type": "markdown",
   "metadata": {},
   "source": [
    "- Всего 15 аномальных пользователей."
   ]
  },
  {
   "cell_type": "markdown",
   "metadata": {},
   "source": [
    "- Посчитаем статистическую значимость различия среднего количества заказов после удаления аномальных пользователей.\n",
    "- Создадим переменные `sampleAFiltered` и `sampleBFiltered`, в которых сохраним очищенные данные о заказах — не включая аномальных пользователей.\n",
    "- Выведем *p-value* для сравнения среднего между очищенными группами. Округлим p-value до пяти знаков после запятой. Выведем относительный прирост среднего очищенной группы B, округлив до трёх знаков после запятой.\n",
    "- Сформулируем гипотезы:\n",
    "- Нулевая: различий в среднем  количестве заказов на посетителя между группами нет.\n",
    "- Альтернативная: различия в количестве заказов на посетителя между группами есть."
   ]
  },
  {
   "cell_type": "code",
   "execution_count": 58,
   "metadata": {},
   "outputs": [
    {
     "name": "stdout",
     "output_type": "stream",
     "text": [
      "P-значение теста Манна-Уитни: 0.01438\n",
      "Относительное изменение среднего значения между группами B и A: 0.153\n"
     ]
    }
   ],
   "source": [
    "visitorsADaily = visitors[visitors['group'] == 'A'][['date', 'visitors']]\n",
    "visitorsADaily.columns = ['date', 'visitorsPerDateA']\n",
    "\n",
    "visitorsACummulative = visitorsADaily.apply(\n",
    "lambda x: visitorsADaily[visitorsADaily['date'] <= x['date']].agg(\n",
    "{'date': 'max', 'visitorsPerDateA': 'sum'}\n",
    "),\n",
    "axis=1,\n",
    ")\n",
    "visitorsACummulative.columns = ['date', 'visitorsCummulativeA']\n",
    "\n",
    "visitorsBDaily = visitors[visitors['group'] == 'B'][['date', 'visitors']]\n",
    "visitorsBDaily.columns = ['date', 'visitorsPerDateB']\n",
    "\n",
    "visitorsBCummulative = visitorsBDaily.apply(\n",
    "lambda x: visitorsBDaily[visitorsBDaily['date'] <= x['date']].agg(\n",
    "{'date': 'max', 'visitorsPerDateB': 'sum'}\n",
    "),\n",
    "axis=1,\n",
    ")\n",
    "visitorsBCummulative.columns = ['date', 'visitorsCummulativeB']\n",
    "\n",
    "ordersADaily = (\n",
    "orders[orders['group'] == 'A'][['date', 'transactionId', 'visitorId', 'revenue']]\n",
    ".groupby('date', as_index=False)\n",
    ".agg({'transactionId': pd.Series.nunique, 'revenue': 'sum'})\n",
    ")\n",
    "ordersADaily.columns = ['date', 'ordersPerDateA', 'revenuePerDateA']\n",
    "\n",
    "ordersACummulative = ordersADaily.apply(\n",
    "lambda x: ordersADaily[ordersADaily['date'] <= x['date']].agg(\n",
    "{'date': 'max', 'ordersPerDateA': 'sum', 'revenuePerDateA': 'sum'}\n",
    "),\n",
    "axis=1,\n",
    ").sort_values(by=['date'])\n",
    "ordersACummulative.columns = [\n",
    "'date',\n",
    "'ordersCummulativeA',\n",
    "'revenueCummulativeA',\n",
    "]\n",
    "\n",
    "ordersBDaily = (\n",
    "orders[orders['group'] == 'B'][['date', 'transactionId', 'visitorId', 'revenue']]\n",
    ".groupby('date', as_index=False)\n",
    ".agg({'transactionId': pd.Series.nunique, 'revenue': 'sum'})\n",
    ")\n",
    "ordersBDaily.columns = ['date', 'ordersPerDateB', 'revenuePerDateB']\n",
    "\n",
    "ordersBCummulative = ordersBDaily.apply(\n",
    "lambda x: ordersBDaily[ordersBDaily['date'] <= x['date']].agg(\n",
    "{'date': 'max', 'ordersPerDateB': 'sum', 'revenuePerDateB': 'sum'}\n",
    "),\n",
    "axis=1,\n",
    ").sort_values(by=['date'])\n",
    "ordersBCummulative.columns = [\n",
    "'date',\n",
    "'ordersCummulativeB',\n",
    "'revenueCummulativeB',\n",
    "]\n",
    "\n",
    "data = (\n",
    "ordersADaily.merge(\n",
    "ordersBDaily, left_on='date', right_on='date', how='left'\n",
    ")\n",
    ".merge(ordersACummulative, left_on='date', right_on='date', how='left')\n",
    ".merge(ordersBCummulative, left_on='date', right_on='date', how='left')\n",
    ".merge(visitorsADaily, left_on='date', right_on='date', how='left')\n",
    ".merge(visitorsBDaily, left_on='date', right_on='date', how='left')\n",
    ".merge(visitorsACummulative, left_on='date', right_on='date', how='left')\n",
    ".merge(visitorsBCummulative, left_on='date', right_on='date', how='left')\n",
    ")\n",
    "\n",
    "ordersByUsersA = (\n",
    "orders[orders['group'] == 'A']\n",
    ".groupby('visitorId', as_index=False)\n",
    ".agg({'transactionId': pd.Series.nunique})\n",
    ")\n",
    "ordersByUsersA.columns = ['visitorId', 'orders']\n",
    "\n",
    "ordersByUsersB = (\n",
    "orders[orders['group'] == 'B']\n",
    ".groupby('visitorId', as_index=False)\n",
    ".agg({'transactionId': pd.Series.nunique})\n",
    ")\n",
    "ordersByUsersB.columns = ['visitorId', 'orders']\n",
    "\n",
    "usersWithManyOrders = pd.concat(\n",
    "[\n",
    "ordersByUsersA[ordersByUsersA['orders'] > 4]['visitorId'],\n",
    "ordersByUsersB[ordersByUsersB['orders'] > 4]['visitorId'],\n",
    "],\n",
    "axis=0,\n",
    ")\n",
    "usersWithExpensiveOrders = orders[orders['revenue'] > 58233]['visitorId']\n",
    "abnormalUsers = (\n",
    "pd.concat([usersWithManyOrders, usersWithExpensiveOrders], axis=0)\n",
    ".drop_duplicates()\n",
    ".sort_values()\n",
    ")\n",
    "\n",
    "sampleAFiltered = pd.concat(\n",
    "[\n",
    "ordersByUsersA[\n",
    "np.logical_not(ordersByUsersA['visitorId'].isin(abnormalUsers))\n",
    "]['orders'],\n",
    "pd.Series(\n",
    "0,\n",
    "index=np.arange(\n",
    "data['visitorsPerDateA'].sum() - len(ordersByUsersA['orders'])\n",
    "),\n",
    "name='orders',\n",
    "),\n",
    "],\n",
    "axis=0,\n",
    ")\n",
    "\n",
    "sampleBFiltered = pd.concat(\n",
    "[\n",
    "ordersByUsersB[\n",
    "np.logical_not(ordersByUsersB['visitorId'].isin(abnormalUsers))\n",
    "]['orders'],\n",
    "pd.Series(\n",
    "0,\n",
    "index=np.arange(\n",
    "data['visitorsPerDateB'].sum() - len(ordersByUsersB['orders'])\n",
    "),\n",
    "name='orders',\n",
    "),\n",
    "],\n",
    "axis=0,\n",
    ")\n",
    "\n",
    "print(\"P-значение теста Манна-Уитни: {0:.5f}\".format(stats.mannwhitneyu(sampleAFiltered, sampleBFiltered)[1]))\n",
    "print(\"Относительное изменение среднего значения между группами B и A: {0:.3f}\".format(sampleBFiltered.mean()/sampleAFiltered.mean()-1))"
   ]
  },
  {
   "cell_type": "markdown",
   "metadata": {},
   "source": [
    "- p-value = 0.014: это значение меньше уровня значимости 0.05. Следовательно, мы отвергаем нулевую гипотезу. Это означает, что существуют статистически значимые различия в среднем количестве заказов на посетителя между группами A и B.\n",
    "- Относительное изменение = 0.153: это означает, что среднее количество заказов на посетителя в группе B на 15.3% выше, чем в группе A."
   ]
  },
  {
   "cell_type": "markdown",
   "metadata": {},
   "source": [
    "Вывод. \n",
    "\n",
    "- Статистически значимые различия: различия в среднем количестве заказов на посетителя между группами A и B являются статистически значимыми (p-value < 0.05) по \"очищенным\" данным.\n",
    "- Увеличение среднего количества заказов: среднее количество заказов на посетителя в группе B на 15.3% выше, чем в группе A."
   ]
  },
  {
   "cell_type": "markdown",
   "metadata": {},
   "source": [
    "### Посчитаем статистическую значимость различий в среднем чеке заказа между группами по «очищенным» данным. Сделаем выводы и предположения."
   ]
  },
  {
   "cell_type": "markdown",
   "metadata": {},
   "source": [
    "- Узнаем, как действия аномальных пользователей повлияли на результаты теста. Посчитаем статистическую значимость различий в среднем количестве заказов между группами теста по очищенным данным. Сначала подготовим выборки количества заказов по пользователям по группам теста.\n",
    "- Сформулируем гипотезы:\n",
    "- Нулевая: различий в среднем  чеке заказа  между группами нет.\n",
    "- Альтернативная: различия в в среднем  чеке заказа  между группами есть."
   ]
  },
  {
   "cell_type": "code",
   "execution_count": 59,
   "metadata": {},
   "outputs": [
    {
     "name": "stdout",
     "output_type": "stream",
     "text": [
      "P-значение теста Манна-Уитни: 0.851\n",
      "Относительное изменение среднего значения между группами B и A: -0.006\n"
     ]
    }
   ],
   "source": [
    "print(\n",
    "    \"P-значение теста Манна-Уитни: {0:.3f}\".format(\n",
    "        stats.mannwhitneyu(\n",
    "            orders[\n",
    "                np.logical_and(\n",
    "                    orders['group'] == 'A',\n",
    "                    np.logical_not(orders['visitorId'].isin(abnormalUsers)),\n",
    "                )\n",
    "            ]['revenue'],\n",
    "            orders[\n",
    "                np.logical_and(\n",
    "                    orders['group'] == 'B',\n",
    "                    np.logical_not(orders['visitorId'].isin(abnormalUsers)),\n",
    "                )\n",
    "            ]['revenue'],\n",
    "        )[1]\n",
    "    )\n",
    ")\n",
    "\n",
    "print(\n",
    "    \"Относительное изменение среднего значения между группами B и A: {0:.3f}\".format(\n",
    "        orders[\n",
    "            np.logical_and(\n",
    "                orders['group'] == 'B',\n",
    "                np.logical_not(orders['visitorId'].isin(abnormalUsers)),\n",
    "            )\n",
    "        ]['revenue'].mean()\n",
    "        / orders[\n",
    "            np.logical_and(\n",
    "                orders['group'] == 'A',\n",
    "                np.logical_not(orders['visitorId'].isin(abnormalUsers)),\n",
    "            )\n",
    "        ]['revenue'].mean()\n",
    "        - 1\n",
    "    )\n",
    ")"
   ]
  },
  {
   "cell_type": "markdown",
   "metadata": {},
   "source": [
    "- p-value = 0.851: это значение значительно больше уровня значимости 0.05.Следовательно, мы не отвергаем нулевую гипотезу. Это означает, что нет статистически значимых различий в среднем количестве заказов на посетителя между группами A и B по \"очищенным\" данным.\n",
    "- Относительное изменение = -0.006: это означает, что среднее количество заказов на посетителя в группе B на 0.6% ниже, чем в группе A. Однако это изменение не является статистически значимым."
   ]
  },
  {
   "cell_type": "markdown",
   "metadata": {},
   "source": [
    "Вывод.\n",
    "\n",
    "Нет статистически значимых различий в среднем количестве заказов на посетителя между группами A и B по очищенным данным."
   ]
  },
  {
   "cell_type": "markdown",
   "metadata": {},
   "source": [
    "### Примем решение по результатам теста и объясним его. Варианты решений:\n",
    "1. Остановить тест, зафиксировать победу одной из групп.\n",
    "2. Остановить тест, зафиксировать отсутствие различий между группами.\n",
    "3. Продолжить тест."
   ]
  },
  {
   "cell_type": "markdown",
   "metadata": {},
   "source": [
    "Имеющиеся факты:\n",
    "1. Среднее количество заказов на посетителя по сырым данным: \n",
    "- p-value: 0.017\n",
    "- Относительное изменение: 0.138 (13.8%)\n",
    "- Существуют статистически значимые различия в среднем количестве заказов на посетителя между группами A и B (p-value < 0.05).\n",
    "- Среднее количество заказов на посетителя в группе B на 13.8% выше, чем в группе A.\n",
    "Вывод: существуют статистически значимые различия в среднем количестве заказов на посетителя между группами A и B по сырым данным.\n",
    "\n",
    "2. Средний чек заказа по сырым данным: \n",
    "- p-value: 0.729.Следовательно, мы не отвергаем нулевую гипотезу. Это означает, что нет статистически значимых различий в среднем чеке заказа между группами A и B.\n",
    "- Относительное изменение: 0.259 (25.9%). Это означает, что средний чек заказа в группе B на 25.9% выше, чем в группе A. \n",
    "- Различия в среднем чеке заказа между группами A и B не являются статистически значимыми (p-value > 0.05).\n",
    "- Средний чек заказа в группе B выше на 25.9%, но это изменение не подтверждается статистической значимостью.\n",
    "Вывод: нет статистически значимых различий в среднем чеке заказа между группами A и B по сырым данным.\n",
    "\n",
    "3. Среднее количество заказов на посетителя по очищенным данным:\n",
    "- p-value = 0.014: это значение меньше уровня значимости 0.05. Следовательно, мы отвергаем нулевую гипотезу. Это означает, что существуют статистически значимые различия в среднем количестве заказов на посетителя между группами A и B.\n",
    "- Относительное изменение = 0.153: это означает, что среднее количество заказов на посетителя в группе B на 15.3% выше, чем в группе A.\n",
    "Вывод:  различия в среднем количестве заказов на посетителя между группами A и B являются статистически значимыми (p-value < 0.05) по \"очищенным\" данным. \n",
    "\n",
    "4. Средний чек заказа по очищенным данным:\n",
    "- p-value: 0.851\n",
    "- Относительное изменение: -0.006 (-0.6%)\n",
    "- Нет статистически значимых различий в среднем количестве заказов на посетителя между группами A и B по очищенным данным (p-value > 0.05).\n",
    "- Среднее количество заказов на посетителя в группе B на 0.6% ниже, чем в группе A, но это изменение не является статистически значимым.\n",
    "Вывод: нет статистически значимых различий в среднем количестве заказов на посетителя между группами A и B по очищенным данным."
   ]
  },
  {
   "cell_type": "markdown",
   "metadata": {},
   "source": [
    "1. По сырым данным:\n",
    "Результат: Среднее количество заказов на посетителя в группе B значительно выше, чем в группе A, и это изменение статистически значимо (p-value = 0.017). Однако, изменения в среднем чеке заказа не подтверждаются статистической значимостью (p-value = 0.729).\n",
    "2. По очищенным данным:\n",
    "Результат: Среднее количество заказов на посетителя в группе B по очищенным данным также статистически значимо выше на 15.3% по сравнению с группой A (p-value = 0.014). В то же время, средний чек заказа в группе B на 0.6% ниже, и это изменение не является статистически значимым (p-value = 0.851).\n",
    "\n",
    "Решение:\n",
    "\n",
    "- Прекратить тест и зафиксировать победу группы B по метрике среднего количества заказов на посетителя.\n",
    "\n",
    "Обоснование:\n",
    "\n",
    "- По очищенным данным, различия в среднем количестве заказов на посетителя между группами A и B являются статистически значимыми (p-value = 0.014). Среднее количество заказов на посетителя в группе B на 15.3% выше, что свидетельствует о реальном улучшении в данной метрике.\n",
    "Поскольку изменения в среднем чеке заказа не являются статистически значимыми по обеим версиям данных, это не поддерживает необходимость изменения или корректировки в этой метрике.\n",
    "\n",
    "Вывод: \n",
    "\n",
    "- На основе статистически значимых различий в среднем количестве заказов на посетителя и отсутствии статистических различий в среднем чеке заказа, тест следует прекратить. Группа B показала значительное улучшение в количестве заказов на посетителя, и это изменение подтверждено статистически. Средний чек заказа, несмотря на его незначительное увеличение в группе B, не требует изменений."
   ]
  },
  {
   "cell_type": "markdown",
   "metadata": {},
   "source": [
    "## Вывод"
   ]
  },
  {
   "cell_type": "markdown",
   "metadata": {},
   "source": [
    "\n",
    "На основании входных данных, предоставленных интернет-магазином был проведено исследование и вынесены рекомендации, изложенные ниже.\n",
    "\n",
    "1. В части приоритизации гипотез из списка, предоставленных отделом Маркетинга следует в первую очередь обратить внимание на гипотезы:\n",
    "\n",
    "- \"Запустить акцию, дающую скидку на товар в день рождения\",\n",
    "- \"Добавить два новых канала привлечения трафика, что позволит привлекать на 30% больше пользователей\",\n",
    "- \"Добавить форму подписки на все основные страницы, чтобы собрать базу клиентов для email-рассылок\";\n",
    "\n",
    "\n",
    "Если ранжирование гипотез должно включать в себя широкий охват пользователей, то места необходимо распределить таким образом:\n",
    "\n",
    "- \"Добавить форму подписки на все основные страницы, чтобы собрать базу клиентов для email-рассылок\",\n",
    "- \"Добавить блоки рекомендаций товаров на сайт интернет магазина, чтобы повысить конверсию и средний чек заказа\",\n",
    "- \"Добавить два новых канала привлечения трафика, что позволит привлекать на 30% больше пользователей\".\n",
    "\n",
    "2. В части анализа А/В теста:\n",
    "\n",
    "- На основе статистически значимых различий в среднем количестве заказов на посетителя и отсутствии статистических различий в среднем чеке заказа, тест следует прекратить. \n",
    "- Группа B показала значительное улучшение в количестве заказов на посетителя, и это изменение подтверждено статистически. \n",
    "- Средний чек заказа, несмотря на его незначительное увеличение в группе B, не требует изменений."
   ]
  },
  {
   "cell_type": "code",
   "execution_count": null,
   "metadata": {},
   "outputs": [],
   "source": []
  }
 ],
 "metadata": {
  "ExecuteTimeLog": [
   {
    "duration": 3,
    "start_time": "2024-07-12T17:31:26.766Z"
   },
   {
    "duration": 3,
    "start_time": "2024-07-12T17:31:28.881Z"
   },
   {
    "duration": 431,
    "start_time": "2024-07-12T17:36:57.732Z"
   },
   {
    "duration": 409,
    "start_time": "2024-07-12T17:37:08.487Z"
   },
   {
    "duration": 3,
    "start_time": "2024-07-12T17:37:18.236Z"
   },
   {
    "duration": 568,
    "start_time": "2024-07-12T17:37:28.201Z"
   },
   {
    "duration": 3,
    "start_time": "2024-07-12T17:37:39.297Z"
   },
   {
    "duration": 2,
    "start_time": "2024-07-12T17:37:47.801Z"
   },
   {
    "duration": 2,
    "start_time": "2024-07-12T17:37:55.924Z"
   },
   {
    "duration": 3,
    "start_time": "2024-07-12T17:51:11.430Z"
   },
   {
    "duration": 2,
    "start_time": "2024-07-12T17:52:22.807Z"
   },
   {
    "duration": 3,
    "start_time": "2024-07-12T17:52:41.088Z"
   },
   {
    "duration": 74,
    "start_time": "2024-07-12T20:20:20.231Z"
   },
   {
    "duration": 102,
    "start_time": "2024-07-12T20:20:30.733Z"
   },
   {
    "duration": 79,
    "start_time": "2024-07-12T20:20:44.916Z"
   },
   {
    "duration": 17,
    "start_time": "2024-07-12T20:26:34.307Z"
   },
   {
    "duration": 13,
    "start_time": "2024-07-12T20:28:50.505Z"
   },
   {
    "duration": 20,
    "start_time": "2024-07-12T20:32:24.026Z"
   },
   {
    "duration": 4,
    "start_time": "2024-07-12T20:34:39.110Z"
   },
   {
    "duration": 3,
    "start_time": "2024-07-12T20:56:48.347Z"
   },
   {
    "duration": 3,
    "start_time": "2024-07-12T20:57:09.873Z"
   },
   {
    "duration": 11,
    "start_time": "2024-07-12T20:57:19.149Z"
   },
   {
    "duration": 56,
    "start_time": "2024-07-12T21:02:23.236Z"
   },
   {
    "duration": 8,
    "start_time": "2024-07-12T21:04:52.257Z"
   },
   {
    "duration": 12,
    "start_time": "2024-07-12T21:05:24.762Z"
   },
   {
    "duration": 18,
    "start_time": "2024-07-12T21:06:00.318Z"
   },
   {
    "duration": 5,
    "start_time": "2024-07-12T21:06:04.921Z"
   },
   {
    "duration": 5,
    "start_time": "2024-07-12T21:06:15.800Z"
   },
   {
    "duration": 6,
    "start_time": "2024-07-12T21:17:40.269Z"
   },
   {
    "duration": 11,
    "start_time": "2024-07-12T21:19:10.967Z"
   },
   {
    "duration": 74,
    "start_time": "2024-07-12T21:20:54.263Z"
   },
   {
    "duration": 7,
    "start_time": "2024-07-12T21:22:28.031Z"
   },
   {
    "duration": 11,
    "start_time": "2024-07-12T21:23:04.901Z"
   },
   {
    "duration": 11,
    "start_time": "2024-07-12T21:23:32.028Z"
   },
   {
    "duration": 5,
    "start_time": "2024-07-12T21:24:04.956Z"
   },
   {
    "duration": 5,
    "start_time": "2024-07-12T21:24:14.083Z"
   },
   {
    "duration": 5,
    "start_time": "2024-07-12T21:24:46.202Z"
   },
   {
    "duration": 5,
    "start_time": "2024-07-12T21:24:58.977Z"
   },
   {
    "duration": 9,
    "start_time": "2024-07-12T21:25:07.862Z"
   },
   {
    "duration": 7,
    "start_time": "2024-07-12T21:59:39.628Z"
   },
   {
    "duration": 68,
    "start_time": "2024-07-12T22:00:45.604Z"
   },
   {
    "duration": 3,
    "start_time": "2024-07-12T22:00:52.238Z"
   },
   {
    "duration": 64,
    "start_time": "2024-07-12T22:00:54.516Z"
   },
   {
    "duration": 3,
    "start_time": "2024-07-12T22:01:19.557Z"
   },
   {
    "duration": 13,
    "start_time": "2024-07-12T22:01:22.606Z"
   },
   {
    "duration": 4,
    "start_time": "2024-07-12T22:10:14.917Z"
   },
   {
    "duration": 5,
    "start_time": "2024-07-12T22:10:17.509Z"
   },
   {
    "duration": 13,
    "start_time": "2024-07-12T22:10:18.206Z"
   },
   {
    "duration": 4,
    "start_time": "2024-07-12T22:11:20.160Z"
   },
   {
    "duration": 4,
    "start_time": "2024-07-12T22:11:22.556Z"
   },
   {
    "duration": 444,
    "start_time": "2024-07-12T22:11:41.751Z"
   },
   {
    "duration": 244,
    "start_time": "2024-07-12T22:11:42.197Z"
   },
   {
    "duration": 2,
    "start_time": "2024-07-12T22:11:42.443Z"
   },
   {
    "duration": 544,
    "start_time": "2024-07-12T22:11:42.455Z"
   },
   {
    "duration": 2,
    "start_time": "2024-07-12T22:11:43.001Z"
   },
   {
    "duration": 42,
    "start_time": "2024-07-12T22:11:43.004Z"
   },
   {
    "duration": 18,
    "start_time": "2024-07-12T22:11:43.047Z"
   },
   {
    "duration": 10,
    "start_time": "2024-07-12T22:11:43.067Z"
   },
   {
    "duration": 11,
    "start_time": "2024-07-12T22:11:43.079Z"
   },
   {
    "duration": 5,
    "start_time": "2024-07-12T22:11:43.093Z"
   },
   {
    "duration": 32,
    "start_time": "2024-07-12T22:11:43.099Z"
   },
   {
    "duration": 38,
    "start_time": "2024-07-12T22:11:43.133Z"
   },
   {
    "duration": 16,
    "start_time": "2024-07-12T22:11:43.174Z"
   },
   {
    "duration": 12,
    "start_time": "2024-07-12T22:11:43.192Z"
   },
   {
    "duration": 13,
    "start_time": "2024-07-12T22:11:43.205Z"
   },
   {
    "duration": 26,
    "start_time": "2024-07-12T22:11:43.220Z"
   },
   {
    "duration": 8,
    "start_time": "2024-07-12T22:11:43.249Z"
   },
   {
    "duration": 6,
    "start_time": "2024-07-12T22:11:43.260Z"
   },
   {
    "duration": 4,
    "start_time": "2024-07-12T22:11:43.269Z"
   },
   {
    "duration": 21,
    "start_time": "2024-07-12T22:11:43.275Z"
   },
   {
    "duration": 9,
    "start_time": "2024-07-12T22:11:43.297Z"
   },
   {
    "duration": 14,
    "start_time": "2024-07-12T22:11:43.308Z"
   },
   {
    "duration": 43,
    "start_time": "2024-07-12T22:11:43.324Z"
   },
   {
    "duration": 8,
    "start_time": "2024-07-12T22:11:43.369Z"
   },
   {
    "duration": 17,
    "start_time": "2024-07-12T22:11:43.379Z"
   },
   {
    "duration": 10,
    "start_time": "2024-07-12T22:11:43.397Z"
   },
   {
    "duration": 11,
    "start_time": "2024-07-12T22:11:43.408Z"
   },
   {
    "duration": 11,
    "start_time": "2024-07-12T22:11:43.422Z"
   },
   {
    "duration": 17,
    "start_time": "2024-07-12T22:11:43.454Z"
   },
   {
    "duration": 6,
    "start_time": "2024-07-12T22:11:43.473Z"
   },
   {
    "duration": 6,
    "start_time": "2024-07-12T22:11:43.480Z"
   },
   {
    "duration": 8,
    "start_time": "2024-07-12T22:11:43.487Z"
   },
   {
    "duration": 12,
    "start_time": "2024-07-12T22:11:43.496Z"
   },
   {
    "duration": 6,
    "start_time": "2024-07-12T22:11:43.510Z"
   },
   {
    "duration": 38,
    "start_time": "2024-07-12T22:11:43.518Z"
   },
   {
    "duration": 50,
    "start_time": "2024-07-12T22:11:43.558Z"
   },
   {
    "duration": 27,
    "start_time": "2024-07-12T22:11:43.610Z"
   },
   {
    "duration": 25,
    "start_time": "2024-07-12T22:11:43.638Z"
   },
   {
    "duration": 17,
    "start_time": "2024-07-12T22:11:43.665Z"
   },
   {
    "duration": 50,
    "start_time": "2024-07-13T20:14:22.997Z"
   },
   {
    "duration": 8,
    "start_time": "2024-07-13T20:14:35.942Z"
   },
   {
    "duration": 466,
    "start_time": "2024-07-13T20:14:45.578Z"
   },
   {
    "duration": 409,
    "start_time": "2024-07-13T20:14:46.046Z"
   },
   {
    "duration": 3,
    "start_time": "2024-07-13T20:14:46.456Z"
   },
   {
    "duration": 588,
    "start_time": "2024-07-13T20:14:46.461Z"
   },
   {
    "duration": 3,
    "start_time": "2024-07-13T20:14:47.051Z"
   },
   {
    "duration": 10,
    "start_time": "2024-07-13T20:14:47.055Z"
   },
   {
    "duration": 4,
    "start_time": "2024-07-13T20:14:47.066Z"
   },
   {
    "duration": 34,
    "start_time": "2024-07-13T20:14:47.072Z"
   },
   {
    "duration": 3,
    "start_time": "2024-07-13T20:14:47.108Z"
   },
   {
    "duration": 9,
    "start_time": "2024-07-13T20:14:47.112Z"
   },
   {
    "duration": 83,
    "start_time": "2024-07-13T20:14:47.122Z"
   },
   {
    "duration": 88,
    "start_time": "2024-07-13T20:14:47.207Z"
   },
   {
    "duration": 67,
    "start_time": "2024-07-13T20:14:47.297Z"
   },
   {
    "duration": 11,
    "start_time": "2024-07-13T20:14:47.367Z"
   },
   {
    "duration": 12,
    "start_time": "2024-07-13T20:14:47.379Z"
   },
   {
    "duration": 22,
    "start_time": "2024-07-13T20:14:47.392Z"
   },
   {
    "duration": 5,
    "start_time": "2024-07-13T20:14:47.415Z"
   },
   {
    "duration": 8,
    "start_time": "2024-07-13T20:14:47.421Z"
   },
   {
    "duration": 5,
    "start_time": "2024-07-13T20:14:47.431Z"
   },
   {
    "duration": 15,
    "start_time": "2024-07-13T20:14:47.438Z"
   },
   {
    "duration": 9,
    "start_time": "2024-07-13T20:14:47.455Z"
   },
   {
    "duration": 113,
    "start_time": "2024-07-13T20:14:47.466Z"
   },
   {
    "duration": 21,
    "start_time": "2024-07-13T20:14:47.581Z"
   },
   {
    "duration": 5,
    "start_time": "2024-07-13T20:14:47.603Z"
   },
   {
    "duration": 4,
    "start_time": "2024-07-13T20:14:47.609Z"
   },
   {
    "duration": 10,
    "start_time": "2024-07-13T20:14:47.615Z"
   },
   {
    "duration": 7,
    "start_time": "2024-07-13T20:14:47.627Z"
   },
   {
    "duration": 11,
    "start_time": "2024-07-13T20:14:47.635Z"
   },
   {
    "duration": 10,
    "start_time": "2024-07-13T20:14:47.647Z"
   },
   {
    "duration": 10,
    "start_time": "2024-07-13T20:14:47.659Z"
   },
   {
    "duration": 37,
    "start_time": "2024-07-13T20:14:47.671Z"
   },
   {
    "duration": 12,
    "start_time": "2024-07-13T20:14:47.709Z"
   },
   {
    "duration": 14,
    "start_time": "2024-07-13T20:14:47.723Z"
   },
   {
    "duration": 12,
    "start_time": "2024-07-13T20:14:47.739Z"
   },
   {
    "duration": 15,
    "start_time": "2024-07-13T20:14:47.752Z"
   },
   {
    "duration": 18,
    "start_time": "2024-07-13T20:14:47.768Z"
   },
   {
    "duration": 108,
    "start_time": "2024-07-13T20:14:47.788Z"
   },
   {
    "duration": 0,
    "start_time": "2024-07-13T20:14:47.898Z"
   },
   {
    "duration": 0,
    "start_time": "2024-07-13T20:14:47.900Z"
   },
   {
    "duration": 0,
    "start_time": "2024-07-13T20:14:47.905Z"
   },
   {
    "duration": 14,
    "start_time": "2024-07-13T20:15:17.406Z"
   },
   {
    "duration": 302,
    "start_time": "2024-07-13T20:15:31.751Z"
   },
   {
    "duration": 272,
    "start_time": "2024-07-13T20:16:49.659Z"
   },
   {
    "duration": 422,
    "start_time": "2024-07-13T20:19:03.007Z"
   },
   {
    "duration": 231,
    "start_time": "2024-07-13T20:19:03.431Z"
   },
   {
    "duration": 2,
    "start_time": "2024-07-13T20:19:03.664Z"
   },
   {
    "duration": 558,
    "start_time": "2024-07-13T20:19:03.668Z"
   },
   {
    "duration": 2,
    "start_time": "2024-07-13T20:19:04.229Z"
   },
   {
    "duration": 51,
    "start_time": "2024-07-13T20:19:04.233Z"
   },
   {
    "duration": 3,
    "start_time": "2024-07-13T20:19:04.286Z"
   },
   {
    "duration": 4,
    "start_time": "2024-07-13T20:19:04.291Z"
   },
   {
    "duration": 10,
    "start_time": "2024-07-13T20:19:04.297Z"
   },
   {
    "duration": 9,
    "start_time": "2024-07-13T20:19:04.309Z"
   },
   {
    "duration": 28,
    "start_time": "2024-07-13T20:19:04.320Z"
   },
   {
    "duration": 36,
    "start_time": "2024-07-13T20:19:04.350Z"
   },
   {
    "duration": 15,
    "start_time": "2024-07-13T20:19:04.388Z"
   },
   {
    "duration": 11,
    "start_time": "2024-07-13T20:19:04.407Z"
   },
   {
    "duration": 17,
    "start_time": "2024-07-13T20:19:04.420Z"
   },
   {
    "duration": 23,
    "start_time": "2024-07-13T20:19:04.439Z"
   },
   {
    "duration": 4,
    "start_time": "2024-07-13T20:19:04.463Z"
   },
   {
    "duration": 5,
    "start_time": "2024-07-13T20:19:04.469Z"
   },
   {
    "duration": 10,
    "start_time": "2024-07-13T20:19:04.475Z"
   },
   {
    "duration": 8,
    "start_time": "2024-07-13T20:19:04.505Z"
   },
   {
    "duration": 22,
    "start_time": "2024-07-13T20:19:04.514Z"
   },
   {
    "duration": 23,
    "start_time": "2024-07-13T20:19:04.537Z"
   },
   {
    "duration": 22,
    "start_time": "2024-07-13T20:19:04.562Z"
   },
   {
    "duration": 5,
    "start_time": "2024-07-13T20:19:04.586Z"
   },
   {
    "duration": 5,
    "start_time": "2024-07-13T20:19:04.605Z"
   },
   {
    "duration": 22,
    "start_time": "2024-07-13T20:19:04.612Z"
   },
   {
    "duration": 26,
    "start_time": "2024-07-13T20:19:04.636Z"
   },
   {
    "duration": 13,
    "start_time": "2024-07-13T20:19:04.664Z"
   },
   {
    "duration": 30,
    "start_time": "2024-07-13T20:19:04.679Z"
   },
   {
    "duration": 9,
    "start_time": "2024-07-13T20:19:04.711Z"
   },
   {
    "duration": 6,
    "start_time": "2024-07-13T20:19:04.722Z"
   },
   {
    "duration": 6,
    "start_time": "2024-07-13T20:19:04.729Z"
   },
   {
    "duration": 10,
    "start_time": "2024-07-13T20:19:04.736Z"
   },
   {
    "duration": 6,
    "start_time": "2024-07-13T20:19:04.748Z"
   },
   {
    "duration": 27,
    "start_time": "2024-07-13T20:19:04.755Z"
   },
   {
    "duration": 13,
    "start_time": "2024-07-13T20:19:04.783Z"
   },
   {
    "duration": 286,
    "start_time": "2024-07-13T20:19:04.798Z"
   },
   {
    "duration": 5,
    "start_time": "2024-07-13T20:19:05.085Z"
   },
   {
    "duration": 14,
    "start_time": "2024-07-13T20:19:05.091Z"
   },
   {
    "duration": 9,
    "start_time": "2024-07-13T20:19:05.107Z"
   },
   {
    "duration": 267,
    "start_time": "2024-07-13T20:19:05.119Z"
   },
   {
    "duration": 120,
    "start_time": "2024-07-13T20:21:57.706Z"
   },
   {
    "duration": 169,
    "start_time": "2024-07-13T20:24:01.242Z"
   },
   {
    "duration": 129,
    "start_time": "2024-07-13T20:24:35.277Z"
   },
   {
    "duration": 8,
    "start_time": "2024-07-13T20:25:14.526Z"
   },
   {
    "duration": 8,
    "start_time": "2024-07-13T20:25:17.457Z"
   },
   {
    "duration": 11,
    "start_time": "2024-07-13T20:25:56.962Z"
   },
   {
    "duration": 4,
    "start_time": "2024-07-13T20:26:19.180Z"
   },
   {
    "duration": 9,
    "start_time": "2024-07-13T20:26:21.457Z"
   },
   {
    "duration": 279,
    "start_time": "2024-07-13T20:29:00.541Z"
   },
   {
    "duration": 183,
    "start_time": "2024-07-13T20:36:24.341Z"
   },
   {
    "duration": 307,
    "start_time": "2024-07-13T20:44:02.303Z"
   },
   {
    "duration": 295,
    "start_time": "2024-07-13T20:45:28.492Z"
   },
   {
    "duration": 199,
    "start_time": "2024-07-13T20:51:03.148Z"
   },
   {
    "duration": 461,
    "start_time": "2024-07-13T20:55:12.299Z"
   },
   {
    "duration": 373,
    "start_time": "2024-07-13T20:55:31.205Z"
   },
   {
    "duration": 367,
    "start_time": "2024-07-13T21:00:30.109Z"
   },
   {
    "duration": 441,
    "start_time": "2024-07-13T21:03:56.964Z"
   },
   {
    "duration": 317,
    "start_time": "2024-07-13T21:04:18.579Z"
   },
   {
    "duration": 190,
    "start_time": "2024-07-13T21:05:18.036Z"
   },
   {
    "duration": 189,
    "start_time": "2024-07-13T21:05:48.102Z"
   },
   {
    "duration": 187,
    "start_time": "2024-07-13T21:05:56.154Z"
   },
   {
    "duration": 345,
    "start_time": "2024-07-13T21:06:37.408Z"
   },
   {
    "duration": 390,
    "start_time": "2024-07-13T21:07:02.742Z"
   },
   {
    "duration": 292,
    "start_time": "2024-07-13T21:07:24.622Z"
   },
   {
    "duration": 288,
    "start_time": "2024-07-13T21:07:32.611Z"
   },
   {
    "duration": 380,
    "start_time": "2024-07-13T21:14:52.905Z"
   },
   {
    "duration": 391,
    "start_time": "2024-07-13T21:17:23.149Z"
   },
   {
    "duration": 415,
    "start_time": "2024-07-13T21:28:29.247Z"
   },
   {
    "duration": 255,
    "start_time": "2024-07-13T21:28:29.664Z"
   },
   {
    "duration": 2,
    "start_time": "2024-07-13T21:28:29.923Z"
   },
   {
    "duration": 533,
    "start_time": "2024-07-13T21:28:29.927Z"
   },
   {
    "duration": 3,
    "start_time": "2024-07-13T21:28:30.462Z"
   },
   {
    "duration": 92,
    "start_time": "2024-07-13T21:28:30.466Z"
   },
   {
    "duration": 59,
    "start_time": "2024-07-13T21:28:30.559Z"
   },
   {
    "duration": 97,
    "start_time": "2024-07-13T21:28:30.620Z"
   },
   {
    "duration": 38,
    "start_time": "2024-07-13T21:28:30.719Z"
   },
   {
    "duration": 54,
    "start_time": "2024-07-13T21:28:30.759Z"
   },
   {
    "duration": 54,
    "start_time": "2024-07-13T21:28:30.815Z"
   },
   {
    "duration": 69,
    "start_time": "2024-07-13T21:28:30.871Z"
   },
   {
    "duration": 76,
    "start_time": "2024-07-13T21:28:30.942Z"
   },
   {
    "duration": 34,
    "start_time": "2024-07-13T21:28:31.021Z"
   },
   {
    "duration": 50,
    "start_time": "2024-07-13T21:28:31.057Z"
   },
   {
    "duration": 89,
    "start_time": "2024-07-13T21:28:31.109Z"
   },
   {
    "duration": 107,
    "start_time": "2024-07-13T21:28:31.201Z"
   },
   {
    "duration": 67,
    "start_time": "2024-07-13T21:28:31.310Z"
   },
   {
    "duration": 37,
    "start_time": "2024-07-13T21:28:31.380Z"
   },
   {
    "duration": 31,
    "start_time": "2024-07-13T21:28:31.420Z"
   },
   {
    "duration": 39,
    "start_time": "2024-07-13T21:28:31.453Z"
   },
   {
    "duration": 66,
    "start_time": "2024-07-13T21:28:31.493Z"
   },
   {
    "duration": 35,
    "start_time": "2024-07-13T21:28:31.561Z"
   },
   {
    "duration": 6,
    "start_time": "2024-07-13T21:28:31.597Z"
   },
   {
    "duration": 12,
    "start_time": "2024-07-13T21:28:31.608Z"
   },
   {
    "duration": 37,
    "start_time": "2024-07-13T21:28:31.622Z"
   },
   {
    "duration": 16,
    "start_time": "2024-07-13T21:28:31.661Z"
   },
   {
    "duration": 83,
    "start_time": "2024-07-13T21:28:31.678Z"
   },
   {
    "duration": 39,
    "start_time": "2024-07-13T21:28:31.763Z"
   },
   {
    "duration": 32,
    "start_time": "2024-07-13T21:28:31.804Z"
   },
   {
    "duration": 13,
    "start_time": "2024-07-13T21:28:31.838Z"
   },
   {
    "duration": 23,
    "start_time": "2024-07-13T21:28:31.853Z"
   },
   {
    "duration": 47,
    "start_time": "2024-07-13T21:28:31.878Z"
   },
   {
    "duration": 18,
    "start_time": "2024-07-13T21:28:31.926Z"
   },
   {
    "duration": 57,
    "start_time": "2024-07-13T21:28:31.945Z"
   },
   {
    "duration": 23,
    "start_time": "2024-07-13T21:28:32.004Z"
   },
   {
    "duration": 310,
    "start_time": "2024-07-13T21:28:32.029Z"
   },
   {
    "duration": 4,
    "start_time": "2024-07-13T21:28:32.341Z"
   },
   {
    "duration": 39,
    "start_time": "2024-07-13T21:28:32.347Z"
   },
   {
    "duration": 40,
    "start_time": "2024-07-13T21:28:32.387Z"
   },
   {
    "duration": 329,
    "start_time": "2024-07-13T21:28:32.431Z"
   },
   {
    "duration": 194,
    "start_time": "2024-07-13T21:28:32.762Z"
   },
   {
    "duration": 163,
    "start_time": "2024-07-13T21:28:32.958Z"
   },
   {
    "duration": 7,
    "start_time": "2024-07-13T21:28:33.124Z"
   },
   {
    "duration": 7,
    "start_time": "2024-07-13T21:28:33.132Z"
   },
   {
    "duration": 11,
    "start_time": "2024-07-13T21:28:33.141Z"
   },
   {
    "duration": 293,
    "start_time": "2024-07-13T21:28:33.153Z"
   },
   {
    "duration": 209,
    "start_time": "2024-07-13T21:28:33.448Z"
   },
   {
    "duration": 300,
    "start_time": "2024-07-13T21:28:33.658Z"
   },
   {
    "duration": 394,
    "start_time": "2024-07-13T21:28:33.960Z"
   },
   {
    "duration": 351,
    "start_time": "2024-07-13T21:34:11.474Z"
   },
   {
    "duration": 13,
    "start_time": "2024-07-13T21:50:57.345Z"
   },
   {
    "duration": 197,
    "start_time": "2024-07-13T21:51:34.846Z"
   },
   {
    "duration": 5,
    "start_time": "2024-07-13T21:53:33.402Z"
   },
   {
    "duration": 262,
    "start_time": "2024-07-13T22:02:33.372Z"
   },
   {
    "duration": 284,
    "start_time": "2024-07-13T22:17:55.307Z"
   },
   {
    "duration": 8,
    "start_time": "2024-07-13T22:19:58.393Z"
   },
   {
    "duration": 56,
    "start_time": "2024-07-13T22:22:08.031Z"
   },
   {
    "duration": 238,
    "start_time": "2024-07-13T22:25:15.419Z"
   },
   {
    "duration": 242,
    "start_time": "2024-07-13T22:26:15.617Z"
   },
   {
    "duration": 84,
    "start_time": "2024-07-13T22:31:27.437Z"
   },
   {
    "duration": 5,
    "start_time": "2024-07-13T22:32:53.434Z"
   },
   {
    "duration": 5,
    "start_time": "2024-07-13T22:33:44.905Z"
   },
   {
    "duration": 1077,
    "start_time": "2024-07-13T22:52:21.757Z"
   },
   {
    "duration": 150,
    "start_time": "2024-07-13T22:58:58.384Z"
   },
   {
    "duration": 146,
    "start_time": "2024-07-13T23:00:10.245Z"
   },
   {
    "duration": 133,
    "start_time": "2024-07-13T23:01:58.759Z"
   },
   {
    "duration": 412,
    "start_time": "2024-07-13T23:02:24.413Z"
   },
   {
    "duration": 229,
    "start_time": "2024-07-13T23:02:24.828Z"
   },
   {
    "duration": 2,
    "start_time": "2024-07-13T23:02:25.059Z"
   },
   {
    "duration": 553,
    "start_time": "2024-07-13T23:02:25.062Z"
   },
   {
    "duration": 2,
    "start_time": "2024-07-13T23:02:25.617Z"
   },
   {
    "duration": 9,
    "start_time": "2024-07-13T23:02:25.621Z"
   },
   {
    "duration": 5,
    "start_time": "2024-07-13T23:02:25.631Z"
   },
   {
    "duration": 10,
    "start_time": "2024-07-13T23:02:25.638Z"
   },
   {
    "duration": 5,
    "start_time": "2024-07-13T23:02:25.649Z"
   },
   {
    "duration": 4,
    "start_time": "2024-07-13T23:02:25.655Z"
   },
   {
    "duration": 27,
    "start_time": "2024-07-13T23:02:25.661Z"
   },
   {
    "duration": 36,
    "start_time": "2024-07-13T23:02:25.690Z"
   },
   {
    "duration": 15,
    "start_time": "2024-07-13T23:02:25.727Z"
   },
   {
    "duration": 14,
    "start_time": "2024-07-13T23:02:25.744Z"
   },
   {
    "duration": 11,
    "start_time": "2024-07-13T23:02:25.760Z"
   },
   {
    "duration": 22,
    "start_time": "2024-07-13T23:02:25.773Z"
   },
   {
    "duration": 7,
    "start_time": "2024-07-13T23:02:25.796Z"
   },
   {
    "duration": 6,
    "start_time": "2024-07-13T23:02:25.804Z"
   },
   {
    "duration": 5,
    "start_time": "2024-07-13T23:02:25.811Z"
   },
   {
    "duration": 10,
    "start_time": "2024-07-13T23:02:25.817Z"
   },
   {
    "duration": 8,
    "start_time": "2024-07-13T23:02:25.828Z"
   },
   {
    "duration": 11,
    "start_time": "2024-07-13T23:02:25.838Z"
   },
   {
    "duration": 30,
    "start_time": "2024-07-13T23:02:25.850Z"
   },
   {
    "duration": 5,
    "start_time": "2024-07-13T23:02:25.881Z"
   },
   {
    "duration": 21,
    "start_time": "2024-07-13T23:02:25.888Z"
   },
   {
    "duration": 11,
    "start_time": "2024-07-13T23:02:25.911Z"
   },
   {
    "duration": 79,
    "start_time": "2024-07-13T23:02:25.924Z"
   },
   {
    "duration": 18,
    "start_time": "2024-07-13T23:02:26.004Z"
   },
   {
    "duration": 16,
    "start_time": "2024-07-13T23:02:26.024Z"
   },
   {
    "duration": 4,
    "start_time": "2024-07-13T23:02:26.043Z"
   },
   {
    "duration": 20,
    "start_time": "2024-07-13T23:02:26.049Z"
   },
   {
    "duration": 6,
    "start_time": "2024-07-13T23:02:26.071Z"
   },
   {
    "duration": 25,
    "start_time": "2024-07-13T23:02:26.081Z"
   },
   {
    "duration": 9,
    "start_time": "2024-07-13T23:02:26.107Z"
   },
   {
    "duration": 3,
    "start_time": "2024-07-13T23:02:26.118Z"
   },
   {
    "duration": 20,
    "start_time": "2024-07-13T23:02:26.123Z"
   },
   {
    "duration": 320,
    "start_time": "2024-07-13T23:02:26.145Z"
   },
   {
    "duration": 5,
    "start_time": "2024-07-13T23:02:26.466Z"
   },
   {
    "duration": 6,
    "start_time": "2024-07-13T23:02:26.473Z"
   },
   {
    "duration": 10,
    "start_time": "2024-07-13T23:02:26.480Z"
   },
   {
    "duration": 269,
    "start_time": "2024-07-13T23:02:26.508Z"
   },
   {
    "duration": 175,
    "start_time": "2024-07-13T23:02:26.779Z"
   },
   {
    "duration": 123,
    "start_time": "2024-07-13T23:02:26.956Z"
   },
   {
    "duration": 6,
    "start_time": "2024-07-13T23:02:27.081Z"
   },
   {
    "duration": 7,
    "start_time": "2024-07-13T23:02:27.088Z"
   },
   {
    "duration": 9,
    "start_time": "2024-07-13T23:02:27.105Z"
   },
   {
    "duration": 269,
    "start_time": "2024-07-13T23:02:27.115Z"
   },
   {
    "duration": 192,
    "start_time": "2024-07-13T23:02:27.386Z"
   },
   {
    "duration": 340,
    "start_time": "2024-07-13T23:02:27.579Z"
   },
   {
    "duration": 399,
    "start_time": "2024-07-13T23:02:27.921Z"
   },
   {
    "duration": 315,
    "start_time": "2024-07-13T23:02:28.321Z"
   },
   {
    "duration": 11,
    "start_time": "2024-07-13T23:02:28.638Z"
   },
   {
    "duration": 389,
    "start_time": "2024-07-13T23:02:28.650Z"
   },
   {
    "duration": 5,
    "start_time": "2024-07-13T23:02:29.040Z"
   },
   {
    "duration": 9,
    "start_time": "2024-07-13T23:02:29.046Z"
   },
   {
    "duration": 294,
    "start_time": "2024-07-13T23:02:29.056Z"
   },
   {
    "duration": 293,
    "start_time": "2024-07-13T23:02:29.351Z"
   },
   {
    "duration": 4,
    "start_time": "2024-07-13T23:02:29.646Z"
   },
   {
    "duration": 213,
    "start_time": "2024-07-13T23:02:29.651Z"
   },
   {
    "duration": 97,
    "start_time": "2024-07-13T23:07:12.940Z"
   },
   {
    "duration": 10,
    "start_time": "2024-07-13T23:10:47.150Z"
   },
   {
    "duration": 10,
    "start_time": "2024-07-13T23:12:16.310Z"
   },
   {
    "duration": 121,
    "start_time": "2024-07-13T23:16:31.829Z"
   },
   {
    "duration": 486,
    "start_time": "2024-07-13T23:18:12.380Z"
   },
   {
    "duration": 283,
    "start_time": "2024-07-13T23:18:12.869Z"
   },
   {
    "duration": 3,
    "start_time": "2024-07-13T23:18:13.153Z"
   },
   {
    "duration": 582,
    "start_time": "2024-07-13T23:18:13.157Z"
   },
   {
    "duration": 2,
    "start_time": "2024-07-13T23:18:13.741Z"
   },
   {
    "duration": 6,
    "start_time": "2024-07-13T23:18:13.745Z"
   },
   {
    "duration": 4,
    "start_time": "2024-07-13T23:18:13.753Z"
   },
   {
    "duration": 4,
    "start_time": "2024-07-13T23:18:13.758Z"
   },
   {
    "duration": 6,
    "start_time": "2024-07-13T23:18:13.763Z"
   },
   {
    "duration": 3,
    "start_time": "2024-07-13T23:18:13.772Z"
   },
   {
    "duration": 34,
    "start_time": "2024-07-13T23:18:13.776Z"
   },
   {
    "duration": 36,
    "start_time": "2024-07-13T23:18:13.820Z"
   },
   {
    "duration": 15,
    "start_time": "2024-07-13T23:18:13.858Z"
   },
   {
    "duration": 17,
    "start_time": "2024-07-13T23:18:13.874Z"
   },
   {
    "duration": 12,
    "start_time": "2024-07-13T23:18:13.893Z"
   },
   {
    "duration": 31,
    "start_time": "2024-07-13T23:18:13.907Z"
   },
   {
    "duration": 6,
    "start_time": "2024-07-13T23:18:13.940Z"
   },
   {
    "duration": 7,
    "start_time": "2024-07-13T23:18:13.948Z"
   },
   {
    "duration": 3,
    "start_time": "2024-07-13T23:18:13.957Z"
   },
   {
    "duration": 12,
    "start_time": "2024-07-13T23:18:13.962Z"
   },
   {
    "duration": 91,
    "start_time": "2024-07-13T23:18:13.976Z"
   },
   {
    "duration": 15,
    "start_time": "2024-07-13T23:18:14.069Z"
   },
   {
    "duration": 28,
    "start_time": "2024-07-13T23:18:14.085Z"
   },
   {
    "duration": 5,
    "start_time": "2024-07-13T23:18:14.114Z"
   },
   {
    "duration": 13,
    "start_time": "2024-07-13T23:18:14.121Z"
   },
   {
    "duration": 19,
    "start_time": "2024-07-13T23:18:14.135Z"
   },
   {
    "duration": 18,
    "start_time": "2024-07-13T23:18:14.156Z"
   },
   {
    "duration": 11,
    "start_time": "2024-07-13T23:18:14.178Z"
   },
   {
    "duration": 31,
    "start_time": "2024-07-13T23:18:14.191Z"
   },
   {
    "duration": 4,
    "start_time": "2024-07-13T23:18:14.225Z"
   },
   {
    "duration": 13,
    "start_time": "2024-07-13T23:18:14.231Z"
   },
   {
    "duration": 15,
    "start_time": "2024-07-13T23:18:14.245Z"
   },
   {
    "duration": 22,
    "start_time": "2024-07-13T23:18:14.262Z"
   },
   {
    "duration": 11,
    "start_time": "2024-07-13T23:18:14.285Z"
   },
   {
    "duration": 10,
    "start_time": "2024-07-13T23:18:14.298Z"
   },
   {
    "duration": 22,
    "start_time": "2024-07-13T23:18:14.310Z"
   },
   {
    "duration": 330,
    "start_time": "2024-07-13T23:18:14.334Z"
   },
   {
    "duration": 5,
    "start_time": "2024-07-13T23:18:14.666Z"
   },
   {
    "duration": 10,
    "start_time": "2024-07-13T23:18:14.673Z"
   },
   {
    "duration": 53,
    "start_time": "2024-07-13T23:18:14.684Z"
   },
   {
    "duration": 280,
    "start_time": "2024-07-13T23:18:14.739Z"
   },
   {
    "duration": 187,
    "start_time": "2024-07-13T23:18:15.022Z"
   },
   {
    "duration": 151,
    "start_time": "2024-07-13T23:18:15.211Z"
   },
   {
    "duration": 6,
    "start_time": "2024-07-13T23:18:15.364Z"
   },
   {
    "duration": 6,
    "start_time": "2024-07-13T23:18:15.372Z"
   },
   {
    "duration": 21,
    "start_time": "2024-07-13T23:18:15.379Z"
   },
   {
    "duration": 286,
    "start_time": "2024-07-13T23:18:15.401Z"
   },
   {
    "duration": 241,
    "start_time": "2024-07-13T23:18:15.689Z"
   },
   {
    "duration": 339,
    "start_time": "2024-07-13T23:18:15.932Z"
   },
   {
    "duration": 402,
    "start_time": "2024-07-13T23:18:16.273Z"
   },
   {
    "duration": 380,
    "start_time": "2024-07-13T23:18:16.677Z"
   },
   {
    "duration": 11,
    "start_time": "2024-07-13T23:18:17.058Z"
   },
   {
    "duration": 394,
    "start_time": "2024-07-13T23:18:17.070Z"
   },
   {
    "duration": 6,
    "start_time": "2024-07-13T23:18:17.466Z"
   },
   {
    "duration": 10,
    "start_time": "2024-07-13T23:18:17.473Z"
   },
   {
    "duration": 292,
    "start_time": "2024-07-13T23:18:17.485Z"
   },
   {
    "duration": 300,
    "start_time": "2024-07-13T23:18:17.779Z"
   },
   {
    "duration": 5,
    "start_time": "2024-07-13T23:18:18.080Z"
   },
   {
    "duration": 242,
    "start_time": "2024-07-13T23:18:18.086Z"
   },
   {
    "duration": 0,
    "start_time": "2024-07-13T23:18:18.330Z"
   },
   {
    "duration": 0,
    "start_time": "2024-07-13T23:18:18.331Z"
   },
   {
    "duration": 0,
    "start_time": "2024-07-13T23:18:18.331Z"
   },
   {
    "duration": 0,
    "start_time": "2024-07-13T23:18:18.332Z"
   },
   {
    "duration": 110,
    "start_time": "2024-07-13T23:22:57.616Z"
   },
   {
    "duration": 126,
    "start_time": "2024-07-13T23:24:15.073Z"
   },
   {
    "duration": 496,
    "start_time": "2024-07-13T23:26:27.488Z"
   },
   {
    "duration": 416,
    "start_time": "2024-07-13T23:26:59.747Z"
   },
   {
    "duration": 259,
    "start_time": "2024-07-13T23:27:00.166Z"
   },
   {
    "duration": 3,
    "start_time": "2024-07-13T23:27:00.427Z"
   },
   {
    "duration": 629,
    "start_time": "2024-07-13T23:27:00.432Z"
   },
   {
    "duration": 3,
    "start_time": "2024-07-13T23:27:01.063Z"
   },
   {
    "duration": 52,
    "start_time": "2024-07-13T23:27:01.068Z"
   },
   {
    "duration": 31,
    "start_time": "2024-07-13T23:27:01.122Z"
   },
   {
    "duration": 64,
    "start_time": "2024-07-13T23:27:01.155Z"
   },
   {
    "duration": 26,
    "start_time": "2024-07-13T23:27:01.221Z"
   },
   {
    "duration": 32,
    "start_time": "2024-07-13T23:27:01.249Z"
   },
   {
    "duration": 72,
    "start_time": "2024-07-13T23:27:01.282Z"
   },
   {
    "duration": 39,
    "start_time": "2024-07-13T23:27:01.356Z"
   },
   {
    "duration": 24,
    "start_time": "2024-07-13T23:27:01.397Z"
   },
   {
    "duration": 30,
    "start_time": "2024-07-13T23:27:01.423Z"
   },
   {
    "duration": 65,
    "start_time": "2024-07-13T23:27:01.455Z"
   },
   {
    "duration": 43,
    "start_time": "2024-07-13T23:27:01.522Z"
   },
   {
    "duration": 13,
    "start_time": "2024-07-13T23:27:01.567Z"
   },
   {
    "duration": 78,
    "start_time": "2024-07-13T23:27:01.581Z"
   },
   {
    "duration": 25,
    "start_time": "2024-07-13T23:27:01.661Z"
   },
   {
    "duration": 35,
    "start_time": "2024-07-13T23:27:01.688Z"
   },
   {
    "duration": 38,
    "start_time": "2024-07-13T23:27:01.725Z"
   },
   {
    "duration": 29,
    "start_time": "2024-07-13T23:27:01.765Z"
   },
   {
    "duration": 38,
    "start_time": "2024-07-13T23:27:01.796Z"
   },
   {
    "duration": 40,
    "start_time": "2024-07-13T23:27:01.835Z"
   },
   {
    "duration": 12,
    "start_time": "2024-07-13T23:27:01.877Z"
   },
   {
    "duration": 21,
    "start_time": "2024-07-13T23:27:01.890Z"
   },
   {
    "duration": 20,
    "start_time": "2024-07-13T23:27:01.914Z"
   },
   {
    "duration": 21,
    "start_time": "2024-07-13T23:27:01.937Z"
   },
   {
    "duration": 16,
    "start_time": "2024-07-13T23:27:01.959Z"
   },
   {
    "duration": 19,
    "start_time": "2024-07-13T23:27:01.977Z"
   },
   {
    "duration": 80,
    "start_time": "2024-07-13T23:27:01.997Z"
   },
   {
    "duration": 9,
    "start_time": "2024-07-13T23:27:02.079Z"
   },
   {
    "duration": 30,
    "start_time": "2024-07-13T23:27:02.090Z"
   },
   {
    "duration": 32,
    "start_time": "2024-07-13T23:27:02.122Z"
   },
   {
    "duration": 19,
    "start_time": "2024-07-13T23:27:02.156Z"
   },
   {
    "duration": 21,
    "start_time": "2024-07-13T23:27:02.176Z"
   },
   {
    "duration": 336,
    "start_time": "2024-07-13T23:27:02.199Z"
   },
   {
    "duration": 5,
    "start_time": "2024-07-13T23:27:02.536Z"
   },
   {
    "duration": 5,
    "start_time": "2024-07-13T23:27:02.543Z"
   },
   {
    "duration": 10,
    "start_time": "2024-07-13T23:27:02.550Z"
   },
   {
    "duration": 298,
    "start_time": "2024-07-13T23:27:02.562Z"
   },
   {
    "duration": 192,
    "start_time": "2024-07-13T23:27:02.862Z"
   },
   {
    "duration": 153,
    "start_time": "2024-07-13T23:27:03.056Z"
   },
   {
    "duration": 14,
    "start_time": "2024-07-13T23:27:03.211Z"
   },
   {
    "duration": 4,
    "start_time": "2024-07-13T23:27:03.226Z"
   },
   {
    "duration": 16,
    "start_time": "2024-07-13T23:27:03.232Z"
   },
   {
    "duration": 303,
    "start_time": "2024-07-13T23:27:03.250Z"
   },
   {
    "duration": 201,
    "start_time": "2024-07-13T23:27:03.555Z"
   },
   {
    "duration": 304,
    "start_time": "2024-07-13T23:27:03.758Z"
   },
   {
    "duration": 397,
    "start_time": "2024-07-13T23:27:04.063Z"
   },
   {
    "duration": 409,
    "start_time": "2024-07-13T23:27:04.462Z"
   },
   {
    "duration": 15,
    "start_time": "2024-07-13T23:27:04.873Z"
   },
   {
    "duration": 370,
    "start_time": "2024-07-13T23:27:04.890Z"
   },
   {
    "duration": 5,
    "start_time": "2024-07-13T23:27:05.261Z"
   },
   {
    "duration": 71,
    "start_time": "2024-07-13T23:27:05.267Z"
   },
   {
    "duration": 303,
    "start_time": "2024-07-13T23:27:05.339Z"
   },
   {
    "duration": 319,
    "start_time": "2024-07-13T23:27:05.643Z"
   },
   {
    "duration": 5,
    "start_time": "2024-07-13T23:27:05.964Z"
   },
   {
    "duration": 691,
    "start_time": "2024-07-13T23:27:05.971Z"
   },
   {
    "duration": 0,
    "start_time": "2024-07-13T23:27:06.664Z"
   },
   {
    "duration": 0,
    "start_time": "2024-07-13T23:27:06.665Z"
   },
   {
    "duration": 0,
    "start_time": "2024-07-13T23:27:06.666Z"
   },
   {
    "duration": 0,
    "start_time": "2024-07-13T23:27:06.667Z"
   },
   {
    "duration": 559,
    "start_time": "2024-07-13T23:27:53.986Z"
   },
   {
    "duration": 502,
    "start_time": "2024-07-13T23:30:27.745Z"
   },
   {
    "duration": 493,
    "start_time": "2024-07-13T23:35:35.401Z"
   },
   {
    "duration": 2,
    "start_time": "2024-07-13T23:36:57.343Z"
   },
   {
    "duration": 403,
    "start_time": "2024-07-13T23:37:05.045Z"
   },
   {
    "duration": 244,
    "start_time": "2024-07-13T23:37:05.450Z"
   },
   {
    "duration": 3,
    "start_time": "2024-07-13T23:37:05.696Z"
   },
   {
    "duration": 578,
    "start_time": "2024-07-13T23:37:05.701Z"
   },
   {
    "duration": 3,
    "start_time": "2024-07-13T23:37:06.281Z"
   },
   {
    "duration": 21,
    "start_time": "2024-07-13T23:37:06.285Z"
   },
   {
    "duration": 13,
    "start_time": "2024-07-13T23:37:06.308Z"
   },
   {
    "duration": 17,
    "start_time": "2024-07-13T23:37:06.323Z"
   },
   {
    "duration": 20,
    "start_time": "2024-07-13T23:37:06.342Z"
   },
   {
    "duration": 27,
    "start_time": "2024-07-13T23:37:06.365Z"
   },
   {
    "duration": 10,
    "start_time": "2024-07-13T23:37:06.393Z"
   },
   {
    "duration": 55,
    "start_time": "2024-07-13T23:37:06.405Z"
   },
   {
    "duration": 36,
    "start_time": "2024-07-13T23:37:06.462Z"
   },
   {
    "duration": 14,
    "start_time": "2024-07-13T23:37:06.500Z"
   },
   {
    "duration": 10,
    "start_time": "2024-07-13T23:37:06.516Z"
   },
   {
    "duration": 24,
    "start_time": "2024-07-13T23:37:06.528Z"
   },
   {
    "duration": 24,
    "start_time": "2024-07-13T23:37:06.553Z"
   },
   {
    "duration": 4,
    "start_time": "2024-07-13T23:37:06.578Z"
   },
   {
    "duration": 5,
    "start_time": "2024-07-13T23:37:06.584Z"
   },
   {
    "duration": 4,
    "start_time": "2024-07-13T23:37:06.604Z"
   },
   {
    "duration": 13,
    "start_time": "2024-07-13T23:37:06.610Z"
   },
   {
    "duration": 13,
    "start_time": "2024-07-13T23:37:06.625Z"
   },
   {
    "duration": 16,
    "start_time": "2024-07-13T23:37:06.640Z"
   },
   {
    "duration": 25,
    "start_time": "2024-07-13T23:37:06.658Z"
   },
   {
    "duration": 6,
    "start_time": "2024-07-13T23:37:06.706Z"
   },
   {
    "duration": 67,
    "start_time": "2024-07-13T23:37:06.715Z"
   },
   {
    "duration": 22,
    "start_time": "2024-07-13T23:37:06.784Z"
   },
   {
    "duration": 15,
    "start_time": "2024-07-13T23:37:06.811Z"
   },
   {
    "duration": 16,
    "start_time": "2024-07-13T23:37:06.828Z"
   },
   {
    "duration": 17,
    "start_time": "2024-07-13T23:37:06.846Z"
   },
   {
    "duration": 10,
    "start_time": "2024-07-13T23:37:06.865Z"
   },
   {
    "duration": 31,
    "start_time": "2024-07-13T23:37:06.877Z"
   },
   {
    "duration": 12,
    "start_time": "2024-07-13T23:37:06.910Z"
   },
   {
    "duration": 25,
    "start_time": "2024-07-13T23:37:06.924Z"
   },
   {
    "duration": 9,
    "start_time": "2024-07-13T23:37:06.951Z"
   },
   {
    "duration": 12,
    "start_time": "2024-07-13T23:37:06.961Z"
   },
   {
    "duration": 24,
    "start_time": "2024-07-13T23:37:06.975Z"
   },
   {
    "duration": 300,
    "start_time": "2024-07-13T23:37:07.000Z"
   },
   {
    "duration": 5,
    "start_time": "2024-07-13T23:37:07.302Z"
   },
   {
    "duration": 6,
    "start_time": "2024-07-13T23:37:07.308Z"
   },
   {
    "duration": 15,
    "start_time": "2024-07-13T23:37:07.315Z"
   },
   {
    "duration": 289,
    "start_time": "2024-07-13T23:37:07.332Z"
   },
   {
    "duration": 187,
    "start_time": "2024-07-13T23:37:07.623Z"
   },
   {
    "duration": 142,
    "start_time": "2024-07-13T23:37:07.812Z"
   },
   {
    "duration": 9,
    "start_time": "2024-07-13T23:37:07.957Z"
   },
   {
    "duration": 7,
    "start_time": "2024-07-13T23:37:07.968Z"
   },
   {
    "duration": 30,
    "start_time": "2024-07-13T23:37:07.977Z"
   },
   {
    "duration": 296,
    "start_time": "2024-07-13T23:37:08.009Z"
   },
   {
    "duration": 215,
    "start_time": "2024-07-13T23:37:08.307Z"
   },
   {
    "duration": 305,
    "start_time": "2024-07-13T23:37:08.523Z"
   },
   {
    "duration": 396,
    "start_time": "2024-07-13T23:37:08.830Z"
   },
   {
    "duration": 316,
    "start_time": "2024-07-13T23:37:09.228Z"
   },
   {
    "duration": 12,
    "start_time": "2024-07-13T23:37:09.546Z"
   },
   {
    "duration": 378,
    "start_time": "2024-07-13T23:37:09.559Z"
   },
   {
    "duration": 5,
    "start_time": "2024-07-13T23:37:09.938Z"
   },
   {
    "duration": 9,
    "start_time": "2024-07-13T23:37:09.945Z"
   },
   {
    "duration": 309,
    "start_time": "2024-07-13T23:37:09.956Z"
   },
   {
    "duration": 281,
    "start_time": "2024-07-13T23:37:10.267Z"
   },
   {
    "duration": 4,
    "start_time": "2024-07-13T23:37:10.550Z"
   },
   {
    "duration": 524,
    "start_time": "2024-07-13T23:37:10.555Z"
   },
   {
    "duration": 260,
    "start_time": "2024-07-13T23:37:11.081Z"
   },
   {
    "duration": 110,
    "start_time": "2024-07-13T23:37:11.343Z"
   },
   {
    "duration": 0,
    "start_time": "2024-07-13T23:37:11.454Z"
   },
   {
    "duration": 0,
    "start_time": "2024-07-13T23:37:11.455Z"
   },
   {
    "duration": 109,
    "start_time": "2024-07-13T23:54:37.433Z"
   },
   {
    "duration": 399,
    "start_time": "2024-07-13T23:55:10.036Z"
   },
   {
    "duration": 232,
    "start_time": "2024-07-13T23:55:10.437Z"
   },
   {
    "duration": 3,
    "start_time": "2024-07-13T23:55:10.670Z"
   },
   {
    "duration": 538,
    "start_time": "2024-07-13T23:55:10.674Z"
   },
   {
    "duration": 3,
    "start_time": "2024-07-13T23:55:11.213Z"
   },
   {
    "duration": 4,
    "start_time": "2024-07-13T23:55:11.217Z"
   },
   {
    "duration": 2,
    "start_time": "2024-07-13T23:55:11.223Z"
   },
   {
    "duration": 2,
    "start_time": "2024-07-13T23:55:11.227Z"
   },
   {
    "duration": 18,
    "start_time": "2024-07-13T23:55:11.230Z"
   },
   {
    "duration": 10,
    "start_time": "2024-07-13T23:55:11.251Z"
   },
   {
    "duration": 4,
    "start_time": "2024-07-13T23:55:11.262Z"
   },
   {
    "duration": 33,
    "start_time": "2024-07-13T23:55:11.267Z"
   },
   {
    "duration": 36,
    "start_time": "2024-07-13T23:55:11.301Z"
   },
   {
    "duration": 14,
    "start_time": "2024-07-13T23:55:11.338Z"
   },
   {
    "duration": 10,
    "start_time": "2024-07-13T23:55:11.354Z"
   },
   {
    "duration": 13,
    "start_time": "2024-07-13T23:55:11.366Z"
   },
   {
    "duration": 22,
    "start_time": "2024-07-13T23:55:11.380Z"
   },
   {
    "duration": 11,
    "start_time": "2024-07-13T23:55:11.403Z"
   },
   {
    "duration": 5,
    "start_time": "2024-07-13T23:55:11.416Z"
   },
   {
    "duration": 3,
    "start_time": "2024-07-13T23:55:11.423Z"
   },
   {
    "duration": 8,
    "start_time": "2024-07-13T23:55:11.427Z"
   },
   {
    "duration": 7,
    "start_time": "2024-07-13T23:55:11.437Z"
   },
   {
    "duration": 11,
    "start_time": "2024-07-13T23:55:11.445Z"
   },
   {
    "duration": 16,
    "start_time": "2024-07-13T23:55:11.458Z"
   },
   {
    "duration": 32,
    "start_time": "2024-07-13T23:55:11.475Z"
   },
   {
    "duration": 5,
    "start_time": "2024-07-13T23:55:11.508Z"
   },
   {
    "duration": 10,
    "start_time": "2024-07-13T23:55:11.515Z"
   },
   {
    "duration": 6,
    "start_time": "2024-07-13T23:55:11.529Z"
   },
   {
    "duration": 13,
    "start_time": "2024-07-13T23:55:11.536Z"
   },
   {
    "duration": 10,
    "start_time": "2024-07-13T23:55:11.551Z"
   },
   {
    "duration": 44,
    "start_time": "2024-07-13T23:55:11.562Z"
   },
   {
    "duration": 5,
    "start_time": "2024-07-13T23:55:11.608Z"
   },
   {
    "duration": 4,
    "start_time": "2024-07-13T23:55:11.614Z"
   },
   {
    "duration": 11,
    "start_time": "2024-07-13T23:55:11.619Z"
   },
   {
    "duration": 32,
    "start_time": "2024-07-13T23:55:11.631Z"
   },
   {
    "duration": 75,
    "start_time": "2024-07-13T23:55:11.664Z"
   },
   {
    "duration": 11,
    "start_time": "2024-07-13T23:55:11.741Z"
   },
   {
    "duration": 291,
    "start_time": "2024-07-13T23:55:11.753Z"
   },
   {
    "duration": 4,
    "start_time": "2024-07-13T23:55:12.046Z"
   },
   {
    "duration": 5,
    "start_time": "2024-07-13T23:55:12.051Z"
   },
   {
    "duration": 16,
    "start_time": "2024-07-13T23:55:12.058Z"
   },
   {
    "duration": 277,
    "start_time": "2024-07-13T23:55:12.075Z"
   },
   {
    "duration": 168,
    "start_time": "2024-07-13T23:55:12.353Z"
   },
   {
    "duration": 129,
    "start_time": "2024-07-13T23:55:12.522Z"
   },
   {
    "duration": 6,
    "start_time": "2024-07-13T23:55:12.652Z"
   },
   {
    "duration": 12,
    "start_time": "2024-07-13T23:55:12.659Z"
   },
   {
    "duration": 10,
    "start_time": "2024-07-13T23:55:12.672Z"
   },
   {
    "duration": 281,
    "start_time": "2024-07-13T23:55:12.683Z"
   },
   {
    "duration": 203,
    "start_time": "2024-07-13T23:55:12.966Z"
   },
   {
    "duration": 337,
    "start_time": "2024-07-13T23:55:13.171Z"
   },
   {
    "duration": 404,
    "start_time": "2024-07-13T23:55:13.510Z"
   },
   {
    "duration": 330,
    "start_time": "2024-07-13T23:55:13.916Z"
   },
   {
    "duration": 12,
    "start_time": "2024-07-13T23:55:14.248Z"
   },
   {
    "duration": 375,
    "start_time": "2024-07-13T23:55:14.262Z"
   },
   {
    "duration": 5,
    "start_time": "2024-07-13T23:55:14.639Z"
   },
   {
    "duration": 11,
    "start_time": "2024-07-13T23:55:14.645Z"
   },
   {
    "duration": 288,
    "start_time": "2024-07-13T23:55:14.657Z"
   },
   {
    "duration": 294,
    "start_time": "2024-07-13T23:55:14.946Z"
   },
   {
    "duration": 5,
    "start_time": "2024-07-13T23:55:15.241Z"
   },
   {
    "duration": 518,
    "start_time": "2024-07-13T23:55:15.247Z"
   },
   {
    "duration": 221,
    "start_time": "2024-07-13T23:55:15.767Z"
   },
   {
    "duration": 51,
    "start_time": "2024-07-14T08:05:00.429Z"
   },
   {
    "duration": 12,
    "start_time": "2024-07-14T08:07:01.620Z"
   },
   {
    "duration": 366,
    "start_time": "2024-07-14T08:07:11.126Z"
   },
   {
    "duration": 345,
    "start_time": "2024-07-14T08:07:11.494Z"
   },
   {
    "duration": 2,
    "start_time": "2024-07-14T08:07:11.841Z"
   },
   {
    "duration": 416,
    "start_time": "2024-07-14T08:07:11.845Z"
   },
   {
    "duration": 2,
    "start_time": "2024-07-14T08:07:12.262Z"
   },
   {
    "duration": 3,
    "start_time": "2024-07-14T08:07:12.265Z"
   },
   {
    "duration": 3,
    "start_time": "2024-07-14T08:07:12.269Z"
   },
   {
    "duration": 8,
    "start_time": "2024-07-14T08:07:12.273Z"
   },
   {
    "duration": 23,
    "start_time": "2024-07-14T08:07:12.282Z"
   },
   {
    "duration": 19,
    "start_time": "2024-07-14T08:07:12.307Z"
   },
   {
    "duration": 3,
    "start_time": "2024-07-14T08:07:12.327Z"
   },
   {
    "duration": 71,
    "start_time": "2024-07-14T08:07:12.331Z"
   },
   {
    "duration": 87,
    "start_time": "2024-07-14T08:07:12.403Z"
   },
   {
    "duration": 67,
    "start_time": "2024-07-14T08:07:12.491Z"
   },
   {
    "duration": 10,
    "start_time": "2024-07-14T08:07:12.560Z"
   },
   {
    "duration": 11,
    "start_time": "2024-07-14T08:07:12.571Z"
   },
   {
    "duration": 16,
    "start_time": "2024-07-14T08:07:12.583Z"
   },
   {
    "duration": 4,
    "start_time": "2024-07-14T08:07:12.600Z"
   },
   {
    "duration": 2,
    "start_time": "2024-07-14T08:07:12.606Z"
   },
   {
    "duration": 3,
    "start_time": "2024-07-14T08:07:12.609Z"
   },
   {
    "duration": 17,
    "start_time": "2024-07-14T08:07:12.614Z"
   },
   {
    "duration": 6,
    "start_time": "2024-07-14T08:07:12.632Z"
   },
   {
    "duration": 10,
    "start_time": "2024-07-14T08:07:12.639Z"
   },
   {
    "duration": 13,
    "start_time": "2024-07-14T08:07:12.650Z"
   },
   {
    "duration": 4,
    "start_time": "2024-07-14T08:07:12.664Z"
   },
   {
    "duration": 7,
    "start_time": "2024-07-14T08:07:12.669Z"
   },
   {
    "duration": 13,
    "start_time": "2024-07-14T08:07:12.677Z"
   },
   {
    "duration": 64,
    "start_time": "2024-07-14T08:07:12.693Z"
   },
   {
    "duration": 30,
    "start_time": "2024-07-14T08:07:12.758Z"
   },
   {
    "duration": 8,
    "start_time": "2024-07-14T08:07:12.790Z"
   },
   {
    "duration": 5,
    "start_time": "2024-07-14T08:07:12.799Z"
   },
   {
    "duration": 3,
    "start_time": "2024-07-14T08:07:12.805Z"
   },
   {
    "duration": 4,
    "start_time": "2024-07-14T08:07:12.810Z"
   },
   {
    "duration": 16,
    "start_time": "2024-07-14T08:07:12.815Z"
   },
   {
    "duration": 8,
    "start_time": "2024-07-14T08:07:12.833Z"
   },
   {
    "duration": 3,
    "start_time": "2024-07-14T08:07:12.842Z"
   },
   {
    "duration": 9,
    "start_time": "2024-07-14T08:07:12.846Z"
   },
   {
    "duration": 243,
    "start_time": "2024-07-14T08:07:12.856Z"
   },
   {
    "duration": 11,
    "start_time": "2024-07-14T08:07:13.101Z"
   },
   {
    "duration": 19,
    "start_time": "2024-07-14T08:07:13.114Z"
   },
   {
    "duration": 9,
    "start_time": "2024-07-14T08:07:13.134Z"
   },
   {
    "duration": 220,
    "start_time": "2024-07-14T08:07:13.144Z"
   },
   {
    "duration": 141,
    "start_time": "2024-07-14T08:07:13.365Z"
   },
   {
    "duration": 108,
    "start_time": "2024-07-14T08:07:13.512Z"
   },
   {
    "duration": 5,
    "start_time": "2024-07-14T08:07:13.621Z"
   },
   {
    "duration": 8,
    "start_time": "2024-07-14T08:07:13.627Z"
   },
   {
    "duration": 8,
    "start_time": "2024-07-14T08:07:13.636Z"
   },
   {
    "duration": 232,
    "start_time": "2024-07-14T08:07:13.645Z"
   },
   {
    "duration": 153,
    "start_time": "2024-07-14T08:07:13.879Z"
   },
   {
    "duration": 332,
    "start_time": "2024-07-14T08:07:14.034Z"
   },
   {
    "duration": 331,
    "start_time": "2024-07-14T08:07:14.368Z"
   },
   {
    "duration": 301,
    "start_time": "2024-07-14T08:07:14.700Z"
   },
   {
    "duration": 15,
    "start_time": "2024-07-14T08:07:15.002Z"
   },
   {
    "duration": 302,
    "start_time": "2024-07-14T08:07:15.019Z"
   },
   {
    "duration": 4,
    "start_time": "2024-07-14T08:07:15.322Z"
   },
   {
    "duration": 12,
    "start_time": "2024-07-14T08:07:15.327Z"
   },
   {
    "duration": 207,
    "start_time": "2024-07-14T08:07:15.340Z"
   },
   {
    "duration": 214,
    "start_time": "2024-07-14T08:07:15.548Z"
   },
   {
    "duration": 3,
    "start_time": "2024-07-14T08:07:15.763Z"
   },
   {
    "duration": 451,
    "start_time": "2024-07-14T08:07:15.768Z"
   },
   {
    "duration": 207,
    "start_time": "2024-07-14T08:07:16.220Z"
   },
   {
    "duration": 171,
    "start_time": "2024-07-14T08:08:55.457Z"
   },
   {
    "duration": 68,
    "start_time": "2024-07-14T08:10:37.426Z"
   },
   {
    "duration": 113,
    "start_time": "2024-07-14T08:22:08.487Z"
   },
   {
    "duration": 126,
    "start_time": "2024-07-14T08:22:34.857Z"
   },
   {
    "duration": 119,
    "start_time": "2024-07-14T08:22:48.652Z"
   },
   {
    "duration": 119,
    "start_time": "2024-07-14T08:29:43.750Z"
   },
   {
    "duration": 114,
    "start_time": "2024-07-14T08:31:27.455Z"
   },
   {
    "duration": 6,
    "start_time": "2024-07-14T08:36:20.945Z"
   },
   {
    "duration": 6,
    "start_time": "2024-07-14T08:37:18.943Z"
   },
   {
    "duration": 642,
    "start_time": "2024-07-14T08:52:49.909Z"
   },
   {
    "duration": 414,
    "start_time": "2024-07-14T08:54:17.834Z"
   },
   {
    "duration": 417,
    "start_time": "2024-07-14T08:54:22.531Z"
   },
   {
    "duration": 374,
    "start_time": "2024-07-14T08:54:44.206Z"
   },
   {
    "duration": 200,
    "start_time": "2024-07-14T08:54:44.581Z"
   },
   {
    "duration": 3,
    "start_time": "2024-07-14T08:54:44.782Z"
   },
   {
    "duration": 468,
    "start_time": "2024-07-14T08:54:44.786Z"
   },
   {
    "duration": 2,
    "start_time": "2024-07-14T08:54:45.255Z"
   },
   {
    "duration": 25,
    "start_time": "2024-07-14T08:54:45.258Z"
   },
   {
    "duration": 16,
    "start_time": "2024-07-14T08:54:45.285Z"
   },
   {
    "duration": 10,
    "start_time": "2024-07-14T08:54:45.302Z"
   },
   {
    "duration": 12,
    "start_time": "2024-07-14T08:54:45.313Z"
   },
   {
    "duration": 24,
    "start_time": "2024-07-14T08:54:45.327Z"
   },
   {
    "duration": 3,
    "start_time": "2024-07-14T08:54:45.352Z"
   },
   {
    "duration": 162,
    "start_time": "2024-07-14T08:54:45.357Z"
   },
   {
    "duration": 36,
    "start_time": "2024-07-14T08:54:45.521Z"
   },
   {
    "duration": 14,
    "start_time": "2024-07-14T08:54:45.558Z"
   },
   {
    "duration": 14,
    "start_time": "2024-07-14T08:54:45.573Z"
   },
   {
    "duration": 13,
    "start_time": "2024-07-14T08:54:45.589Z"
   },
   {
    "duration": 20,
    "start_time": "2024-07-14T08:54:45.603Z"
   },
   {
    "duration": 4,
    "start_time": "2024-07-14T08:54:45.624Z"
   },
   {
    "duration": 6,
    "start_time": "2024-07-14T08:54:45.629Z"
   },
   {
    "duration": 5,
    "start_time": "2024-07-14T08:54:45.636Z"
   },
   {
    "duration": 8,
    "start_time": "2024-07-14T08:54:45.642Z"
   },
   {
    "duration": 26,
    "start_time": "2024-07-14T08:54:45.651Z"
   },
   {
    "duration": 10,
    "start_time": "2024-07-14T08:54:45.678Z"
   },
   {
    "duration": 21,
    "start_time": "2024-07-14T08:54:45.689Z"
   },
   {
    "duration": 4,
    "start_time": "2024-07-14T08:54:45.711Z"
   },
   {
    "duration": 6,
    "start_time": "2024-07-14T08:54:45.716Z"
   },
   {
    "duration": 18,
    "start_time": "2024-07-14T08:54:45.723Z"
   },
   {
    "duration": 6,
    "start_time": "2024-07-14T08:54:45.745Z"
   },
   {
    "duration": 12,
    "start_time": "2024-07-14T08:54:45.753Z"
   },
   {
    "duration": 17,
    "start_time": "2024-07-14T08:54:45.766Z"
   },
   {
    "duration": 7,
    "start_time": "2024-07-14T08:54:45.785Z"
   },
   {
    "duration": 3,
    "start_time": "2024-07-14T08:54:45.793Z"
   },
   {
    "duration": 15,
    "start_time": "2024-07-14T08:54:45.797Z"
   },
   {
    "duration": 7,
    "start_time": "2024-07-14T08:54:45.813Z"
   },
   {
    "duration": 10,
    "start_time": "2024-07-14T08:54:45.821Z"
   },
   {
    "duration": 4,
    "start_time": "2024-07-14T08:54:45.832Z"
   },
   {
    "duration": 10,
    "start_time": "2024-07-14T08:54:45.837Z"
   },
   {
    "duration": 251,
    "start_time": "2024-07-14T08:54:45.848Z"
   },
   {
    "duration": 3,
    "start_time": "2024-07-14T08:54:46.101Z"
   },
   {
    "duration": 9,
    "start_time": "2024-07-14T08:54:46.112Z"
   },
   {
    "duration": 9,
    "start_time": "2024-07-14T08:54:46.122Z"
   },
   {
    "duration": 225,
    "start_time": "2024-07-14T08:54:46.132Z"
   },
   {
    "duration": 148,
    "start_time": "2024-07-14T08:54:46.358Z"
   },
   {
    "duration": 119,
    "start_time": "2024-07-14T08:54:46.507Z"
   },
   {
    "duration": 5,
    "start_time": "2024-07-14T08:54:46.627Z"
   },
   {
    "duration": 5,
    "start_time": "2024-07-14T08:54:46.634Z"
   },
   {
    "duration": 8,
    "start_time": "2024-07-14T08:54:46.640Z"
   },
   {
    "duration": 241,
    "start_time": "2024-07-14T08:54:46.649Z"
   },
   {
    "duration": 168,
    "start_time": "2024-07-14T08:54:46.891Z"
   },
   {
    "duration": 258,
    "start_time": "2024-07-14T08:54:47.061Z"
   },
   {
    "duration": 315,
    "start_time": "2024-07-14T08:54:47.321Z"
   },
   {
    "duration": 280,
    "start_time": "2024-07-14T08:54:47.637Z"
   },
   {
    "duration": 9,
    "start_time": "2024-07-14T08:54:47.918Z"
   },
   {
    "duration": 299,
    "start_time": "2024-07-14T08:54:47.928Z"
   },
   {
    "duration": 4,
    "start_time": "2024-07-14T08:54:48.228Z"
   },
   {
    "duration": 18,
    "start_time": "2024-07-14T08:54:48.233Z"
   },
   {
    "duration": 200,
    "start_time": "2024-07-14T08:54:48.252Z"
   },
   {
    "duration": 289,
    "start_time": "2024-07-14T08:54:48.453Z"
   },
   {
    "duration": 4,
    "start_time": "2024-07-14T08:54:48.743Z"
   },
   {
    "duration": 452,
    "start_time": "2024-07-14T08:54:48.749Z"
   },
   {
    "duration": 181,
    "start_time": "2024-07-14T08:54:49.203Z"
   },
   {
    "duration": 121,
    "start_time": "2024-07-14T08:54:49.386Z"
   },
   {
    "duration": 6,
    "start_time": "2024-07-14T08:54:49.512Z"
   },
   {
    "duration": 174,
    "start_time": "2024-07-14T08:54:49.519Z"
   },
   {
    "duration": 83,
    "start_time": "2024-07-14T08:58:36.329Z"
   },
   {
    "duration": 310,
    "start_time": "2024-07-14T09:00:00.932Z"
   },
   {
    "duration": 73,
    "start_time": "2024-07-14T09:04:10.661Z"
   },
   {
    "duration": 97,
    "start_time": "2024-07-14T09:04:48.771Z"
   },
   {
    "duration": 84,
    "start_time": "2024-07-14T09:11:30.859Z"
   },
   {
    "duration": 85,
    "start_time": "2024-07-14T09:12:44.099Z"
   },
   {
    "duration": 285,
    "start_time": "2024-07-14T09:13:43.708Z"
   },
   {
    "duration": 8,
    "start_time": "2024-07-14T09:27:38.359Z"
   },
   {
    "duration": 12,
    "start_time": "2024-07-14T09:29:04.565Z"
   },
   {
    "duration": 11,
    "start_time": "2024-07-14T09:32:03.677Z"
   },
   {
    "duration": 10,
    "start_time": "2024-07-14T09:32:54.989Z"
   },
   {
    "duration": 349,
    "start_time": "2024-07-14T09:33:01.263Z"
   },
   {
    "duration": 194,
    "start_time": "2024-07-14T09:33:01.613Z"
   },
   {
    "duration": 4,
    "start_time": "2024-07-14T09:33:01.808Z"
   },
   {
    "duration": 440,
    "start_time": "2024-07-14T09:33:01.814Z"
   },
   {
    "duration": 2,
    "start_time": "2024-07-14T09:33:02.256Z"
   },
   {
    "duration": 5,
    "start_time": "2024-07-14T09:33:02.259Z"
   },
   {
    "duration": 3,
    "start_time": "2024-07-14T09:33:02.265Z"
   },
   {
    "duration": 27,
    "start_time": "2024-07-14T09:33:02.269Z"
   },
   {
    "duration": 7,
    "start_time": "2024-07-14T09:33:02.298Z"
   },
   {
    "duration": 4,
    "start_time": "2024-07-14T09:33:02.307Z"
   },
   {
    "duration": 8,
    "start_time": "2024-07-14T09:33:02.312Z"
   },
   {
    "duration": 47,
    "start_time": "2024-07-14T09:33:02.321Z"
   },
   {
    "duration": 36,
    "start_time": "2024-07-14T09:33:02.369Z"
   },
   {
    "duration": 14,
    "start_time": "2024-07-14T09:33:02.406Z"
   },
   {
    "duration": 9,
    "start_time": "2024-07-14T09:33:02.421Z"
   },
   {
    "duration": 59,
    "start_time": "2024-07-14T09:33:02.431Z"
   },
   {
    "duration": 94,
    "start_time": "2024-07-14T09:33:02.491Z"
   },
   {
    "duration": 4,
    "start_time": "2024-07-14T09:33:02.586Z"
   },
   {
    "duration": 3,
    "start_time": "2024-07-14T09:33:02.591Z"
   },
   {
    "duration": 11,
    "start_time": "2024-07-14T09:33:02.595Z"
   },
   {
    "duration": 8,
    "start_time": "2024-07-14T09:33:02.607Z"
   },
   {
    "duration": 6,
    "start_time": "2024-07-14T09:33:02.617Z"
   },
   {
    "duration": 26,
    "start_time": "2024-07-14T09:33:02.625Z"
   },
   {
    "duration": 16,
    "start_time": "2024-07-14T09:33:02.652Z"
   },
   {
    "duration": 4,
    "start_time": "2024-07-14T09:33:02.669Z"
   },
   {
    "duration": 3,
    "start_time": "2024-07-14T09:33:02.674Z"
   },
   {
    "duration": 21,
    "start_time": "2024-07-14T09:33:02.678Z"
   },
   {
    "duration": 6,
    "start_time": "2024-07-14T09:33:02.702Z"
   },
   {
    "duration": 8,
    "start_time": "2024-07-14T09:33:02.709Z"
   },
   {
    "duration": 8,
    "start_time": "2024-07-14T09:33:02.718Z"
   },
   {
    "duration": 7,
    "start_time": "2024-07-14T09:33:02.727Z"
   },
   {
    "duration": 18,
    "start_time": "2024-07-14T09:33:02.736Z"
   },
   {
    "duration": 5,
    "start_time": "2024-07-14T09:33:02.755Z"
   },
   {
    "duration": 9,
    "start_time": "2024-07-14T09:33:02.761Z"
   },
   {
    "duration": 4,
    "start_time": "2024-07-14T09:33:02.771Z"
   },
   {
    "duration": 2,
    "start_time": "2024-07-14T09:33:02.776Z"
   },
   {
    "duration": 10,
    "start_time": "2024-07-14T09:33:02.780Z"
   },
   {
    "duration": 260,
    "start_time": "2024-07-14T09:33:02.791Z"
   },
   {
    "duration": 3,
    "start_time": "2024-07-14T09:33:03.053Z"
   },
   {
    "duration": 33,
    "start_time": "2024-07-14T09:33:03.058Z"
   },
   {
    "duration": 10,
    "start_time": "2024-07-14T09:33:03.092Z"
   },
   {
    "duration": 237,
    "start_time": "2024-07-14T09:33:03.103Z"
   },
   {
    "duration": 152,
    "start_time": "2024-07-14T09:33:03.341Z"
   },
   {
    "duration": 98,
    "start_time": "2024-07-14T09:33:03.502Z"
   },
   {
    "duration": 19,
    "start_time": "2024-07-14T09:33:03.601Z"
   },
   {
    "duration": 17,
    "start_time": "2024-07-14T09:33:03.621Z"
   },
   {
    "duration": 8,
    "start_time": "2024-07-14T09:33:03.639Z"
   },
   {
    "duration": 216,
    "start_time": "2024-07-14T09:33:03.649Z"
   },
   {
    "duration": 159,
    "start_time": "2024-07-14T09:33:03.866Z"
   },
   {
    "duration": 271,
    "start_time": "2024-07-14T09:33:04.026Z"
   },
   {
    "duration": 333,
    "start_time": "2024-07-14T09:33:04.298Z"
   },
   {
    "duration": 289,
    "start_time": "2024-07-14T09:33:04.632Z"
   },
   {
    "duration": 9,
    "start_time": "2024-07-14T09:33:04.922Z"
   },
   {
    "duration": 295,
    "start_time": "2024-07-14T09:33:04.932Z"
   },
   {
    "duration": 4,
    "start_time": "2024-07-14T09:33:05.229Z"
   },
   {
    "duration": 30,
    "start_time": "2024-07-14T09:33:05.234Z"
   },
   {
    "duration": 252,
    "start_time": "2024-07-14T09:33:05.265Z"
   },
   {
    "duration": 235,
    "start_time": "2024-07-14T09:33:05.518Z"
   },
   {
    "duration": 4,
    "start_time": "2024-07-14T09:33:05.755Z"
   },
   {
    "duration": 435,
    "start_time": "2024-07-14T09:33:05.761Z"
   },
   {
    "duration": 177,
    "start_time": "2024-07-14T09:33:06.198Z"
   },
   {
    "duration": 120,
    "start_time": "2024-07-14T09:33:06.376Z"
   },
   {
    "duration": 296,
    "start_time": "2024-07-14T09:33:06.497Z"
   },
   {
    "duration": 19,
    "start_time": "2024-07-14T09:33:06.795Z"
   },
   {
    "duration": 382,
    "start_time": "2024-07-14T12:19:24.870Z"
   },
   {
    "duration": 374,
    "start_time": "2024-07-14T12:19:25.254Z"
   },
   {
    "duration": 4,
    "start_time": "2024-07-14T12:19:25.630Z"
   },
   {
    "duration": 486,
    "start_time": "2024-07-14T12:19:25.635Z"
   },
   {
    "duration": 3,
    "start_time": "2024-07-14T12:19:26.122Z"
   },
   {
    "duration": 12,
    "start_time": "2024-07-14T12:19:26.126Z"
   },
   {
    "duration": 7,
    "start_time": "2024-07-14T12:19:26.139Z"
   },
   {
    "duration": 5,
    "start_time": "2024-07-14T12:19:26.148Z"
   },
   {
    "duration": 20,
    "start_time": "2024-07-14T12:19:26.154Z"
   },
   {
    "duration": 3,
    "start_time": "2024-07-14T12:19:26.178Z"
   },
   {
    "duration": 12,
    "start_time": "2024-07-14T12:19:26.182Z"
   },
   {
    "duration": 83,
    "start_time": "2024-07-14T12:19:26.195Z"
   },
   {
    "duration": 87,
    "start_time": "2024-07-14T12:19:26.280Z"
   },
   {
    "duration": 66,
    "start_time": "2024-07-14T12:19:26.369Z"
   },
   {
    "duration": 10,
    "start_time": "2024-07-14T12:19:26.437Z"
   },
   {
    "duration": 11,
    "start_time": "2024-07-14T12:19:26.449Z"
   },
   {
    "duration": 26,
    "start_time": "2024-07-14T12:19:26.461Z"
   },
   {
    "duration": 11,
    "start_time": "2024-07-14T12:19:26.488Z"
   },
   {
    "duration": 14,
    "start_time": "2024-07-14T12:19:26.500Z"
   },
   {
    "duration": 4,
    "start_time": "2024-07-14T12:19:26.516Z"
   },
   {
    "duration": 7,
    "start_time": "2024-07-14T12:19:26.522Z"
   },
   {
    "duration": 17,
    "start_time": "2024-07-14T12:19:26.531Z"
   },
   {
    "duration": 78,
    "start_time": "2024-07-14T12:19:26.549Z"
   },
   {
    "duration": 37,
    "start_time": "2024-07-14T12:19:26.628Z"
   },
   {
    "duration": 9,
    "start_time": "2024-07-14T12:19:26.668Z"
   },
   {
    "duration": 5,
    "start_time": "2024-07-14T12:19:26.679Z"
   },
   {
    "duration": 12,
    "start_time": "2024-07-14T12:19:26.685Z"
   },
   {
    "duration": 6,
    "start_time": "2024-07-14T12:19:26.700Z"
   },
   {
    "duration": 11,
    "start_time": "2024-07-14T12:19:26.707Z"
   },
   {
    "duration": 8,
    "start_time": "2024-07-14T12:19:26.719Z"
   },
   {
    "duration": 4,
    "start_time": "2024-07-14T12:19:26.728Z"
   },
   {
    "duration": 4,
    "start_time": "2024-07-14T12:19:26.757Z"
   },
   {
    "duration": 4,
    "start_time": "2024-07-14T12:19:26.763Z"
   },
   {
    "duration": 14,
    "start_time": "2024-07-14T12:19:26.768Z"
   },
   {
    "duration": 8,
    "start_time": "2024-07-14T12:19:26.784Z"
   },
   {
    "duration": 4,
    "start_time": "2024-07-14T12:19:26.793Z"
   },
   {
    "duration": 15,
    "start_time": "2024-07-14T12:19:26.798Z"
   },
   {
    "duration": 266,
    "start_time": "2024-07-14T12:19:26.814Z"
   },
   {
    "duration": 4,
    "start_time": "2024-07-14T12:19:27.081Z"
   },
   {
    "duration": 4,
    "start_time": "2024-07-14T12:19:27.087Z"
   },
   {
    "duration": 9,
    "start_time": "2024-07-14T12:19:27.092Z"
   },
   {
    "duration": 261,
    "start_time": "2024-07-14T12:19:27.102Z"
   },
   {
    "duration": 160,
    "start_time": "2024-07-14T12:19:27.364Z"
   },
   {
    "duration": 129,
    "start_time": "2024-07-14T12:19:27.526Z"
   },
   {
    "duration": 6,
    "start_time": "2024-07-14T12:19:27.658Z"
   },
   {
    "duration": 5,
    "start_time": "2024-07-14T12:19:27.666Z"
   },
   {
    "duration": 28,
    "start_time": "2024-07-14T12:19:27.675Z"
   },
   {
    "duration": 236,
    "start_time": "2024-07-14T12:19:27.704Z"
   },
   {
    "duration": 198,
    "start_time": "2024-07-14T12:19:27.941Z"
   },
   {
    "duration": 386,
    "start_time": "2024-07-14T12:19:28.141Z"
   },
   {
    "duration": 349,
    "start_time": "2024-07-14T12:19:28.528Z"
   },
   {
    "duration": 299,
    "start_time": "2024-07-14T12:19:28.879Z"
   },
   {
    "duration": 9,
    "start_time": "2024-07-14T12:19:29.179Z"
   },
   {
    "duration": 299,
    "start_time": "2024-07-14T12:19:29.190Z"
   },
   {
    "duration": 4,
    "start_time": "2024-07-14T12:19:29.490Z"
   },
   {
    "duration": 6,
    "start_time": "2024-07-14T12:19:29.496Z"
   },
   {
    "duration": 286,
    "start_time": "2024-07-14T12:19:29.503Z"
   },
   {
    "duration": 222,
    "start_time": "2024-07-14T12:19:29.790Z"
   },
   {
    "duration": 4,
    "start_time": "2024-07-14T12:19:30.014Z"
   },
   {
    "duration": 499,
    "start_time": "2024-07-14T12:19:30.019Z"
   },
   {
    "duration": 201,
    "start_time": "2024-07-14T12:19:30.520Z"
   },
   {
    "duration": 146,
    "start_time": "2024-07-14T12:19:30.722Z"
   },
   {
    "duration": 335,
    "start_time": "2024-07-14T12:19:30.870Z"
   },
   {
    "duration": 11,
    "start_time": "2024-07-14T12:19:31.206Z"
   },
   {
    "duration": 358,
    "start_time": "2024-07-14T12:29:03.191Z"
   },
   {
    "duration": 209,
    "start_time": "2024-07-14T12:29:03.550Z"
   },
   {
    "duration": 2,
    "start_time": "2024-07-14T12:29:03.760Z"
   },
   {
    "duration": 453,
    "start_time": "2024-07-14T12:29:03.764Z"
   },
   {
    "duration": 2,
    "start_time": "2024-07-14T12:29:04.219Z"
   },
   {
    "duration": 7,
    "start_time": "2024-07-14T12:29:04.222Z"
   },
   {
    "duration": 2,
    "start_time": "2024-07-14T12:29:04.230Z"
   },
   {
    "duration": 3,
    "start_time": "2024-07-14T12:29:04.233Z"
   },
   {
    "duration": 21,
    "start_time": "2024-07-14T12:29:04.237Z"
   },
   {
    "duration": 9,
    "start_time": "2024-07-14T12:29:04.259Z"
   },
   {
    "duration": 3,
    "start_time": "2024-07-14T12:29:04.270Z"
   },
   {
    "duration": 42,
    "start_time": "2024-07-14T12:29:04.275Z"
   },
   {
    "duration": 35,
    "start_time": "2024-07-14T12:29:04.318Z"
   },
   {
    "duration": 15,
    "start_time": "2024-07-14T12:29:04.355Z"
   },
   {
    "duration": 13,
    "start_time": "2024-07-14T12:29:04.372Z"
   },
   {
    "duration": 10,
    "start_time": "2024-07-14T12:29:04.387Z"
   },
   {
    "duration": 15,
    "start_time": "2024-07-14T12:29:04.399Z"
   },
   {
    "duration": 4,
    "start_time": "2024-07-14T12:29:04.415Z"
   },
   {
    "duration": 4,
    "start_time": "2024-07-14T12:29:04.420Z"
   },
   {
    "duration": 6,
    "start_time": "2024-07-14T12:29:04.425Z"
   },
   {
    "duration": 25,
    "start_time": "2024-07-14T12:29:04.433Z"
   },
   {
    "duration": 14,
    "start_time": "2024-07-14T12:29:04.460Z"
   },
   {
    "duration": 12,
    "start_time": "2024-07-14T12:29:04.476Z"
   },
   {
    "duration": 26,
    "start_time": "2024-07-14T12:29:04.490Z"
   },
   {
    "duration": 5,
    "start_time": "2024-07-14T12:29:04.518Z"
   },
   {
    "duration": 5,
    "start_time": "2024-07-14T12:29:04.524Z"
   },
   {
    "duration": 28,
    "start_time": "2024-07-14T12:29:04.530Z"
   },
   {
    "duration": 5,
    "start_time": "2024-07-14T12:29:04.559Z"
   },
   {
    "duration": 9,
    "start_time": "2024-07-14T12:29:04.566Z"
   },
   {
    "duration": 14,
    "start_time": "2024-07-14T12:29:04.577Z"
   },
   {
    "duration": 10,
    "start_time": "2024-07-14T12:29:04.592Z"
   },
   {
    "duration": 5,
    "start_time": "2024-07-14T12:29:04.603Z"
   },
   {
    "duration": 10,
    "start_time": "2024-07-14T12:29:04.609Z"
   },
   {
    "duration": 18,
    "start_time": "2024-07-14T12:29:04.620Z"
   },
   {
    "duration": 5,
    "start_time": "2024-07-14T12:29:04.640Z"
   },
   {
    "duration": 12,
    "start_time": "2024-07-14T12:29:04.646Z"
   },
   {
    "duration": 11,
    "start_time": "2024-07-14T12:29:04.660Z"
   },
   {
    "duration": 273,
    "start_time": "2024-07-14T12:29:04.672Z"
   },
   {
    "duration": 4,
    "start_time": "2024-07-14T12:29:04.947Z"
   },
   {
    "duration": 54,
    "start_time": "2024-07-14T12:29:04.952Z"
   },
   {
    "duration": 9,
    "start_time": "2024-07-14T12:29:05.010Z"
   },
   {
    "duration": 231,
    "start_time": "2024-07-14T12:29:05.020Z"
   },
   {
    "duration": 156,
    "start_time": "2024-07-14T12:29:05.252Z"
   },
   {
    "duration": 111,
    "start_time": "2024-07-14T12:29:05.409Z"
   },
   {
    "duration": 5,
    "start_time": "2024-07-14T12:29:05.521Z"
   },
   {
    "duration": 20,
    "start_time": "2024-07-14T12:29:05.527Z"
   },
   {
    "duration": 12,
    "start_time": "2024-07-14T12:29:05.548Z"
   },
   {
    "duration": 234,
    "start_time": "2024-07-14T12:29:05.562Z"
   },
   {
    "duration": 163,
    "start_time": "2024-07-14T12:29:05.797Z"
   },
   {
    "duration": 275,
    "start_time": "2024-07-14T12:29:05.963Z"
   },
   {
    "duration": 335,
    "start_time": "2024-07-14T12:29:06.240Z"
   },
   {
    "duration": 305,
    "start_time": "2024-07-14T12:29:06.576Z"
   },
   {
    "duration": 9,
    "start_time": "2024-07-14T12:29:06.882Z"
   },
   {
    "duration": 305,
    "start_time": "2024-07-14T12:29:06.893Z"
   },
   {
    "duration": 5,
    "start_time": "2024-07-14T12:29:07.200Z"
   },
   {
    "duration": 6,
    "start_time": "2024-07-14T12:29:07.206Z"
   },
   {
    "duration": 293,
    "start_time": "2024-07-14T12:29:07.213Z"
   },
   {
    "duration": 301,
    "start_time": "2024-07-14T12:29:07.507Z"
   },
   {
    "duration": 3,
    "start_time": "2024-07-14T12:29:07.810Z"
   },
   {
    "duration": 525,
    "start_time": "2024-07-14T12:29:07.815Z"
   },
   {
    "duration": 211,
    "start_time": "2024-07-14T12:29:08.341Z"
   },
   {
    "duration": 152,
    "start_time": "2024-07-14T12:29:08.556Z"
   },
   {
    "duration": 355,
    "start_time": "2024-07-14T12:29:08.710Z"
   },
   {
    "duration": 12,
    "start_time": "2024-07-14T12:29:09.067Z"
   },
   {
    "duration": 361,
    "start_time": "2024-07-14T12:33:05.093Z"
   },
   {
    "duration": 202,
    "start_time": "2024-07-14T12:33:05.456Z"
   },
   {
    "duration": 2,
    "start_time": "2024-07-14T12:33:05.660Z"
   },
   {
    "duration": 457,
    "start_time": "2024-07-14T12:33:05.663Z"
   },
   {
    "duration": 2,
    "start_time": "2024-07-14T12:33:06.122Z"
   },
   {
    "duration": 12,
    "start_time": "2024-07-14T12:33:06.125Z"
   },
   {
    "duration": 2,
    "start_time": "2024-07-14T12:33:06.139Z"
   },
   {
    "duration": 3,
    "start_time": "2024-07-14T12:33:06.142Z"
   },
   {
    "duration": 3,
    "start_time": "2024-07-14T12:33:06.146Z"
   },
   {
    "duration": 7,
    "start_time": "2024-07-14T12:33:06.151Z"
   },
   {
    "duration": 17,
    "start_time": "2024-07-14T12:33:06.160Z"
   },
   {
    "duration": 38,
    "start_time": "2024-07-14T12:33:06.179Z"
   },
   {
    "duration": 36,
    "start_time": "2024-07-14T12:33:06.218Z"
   },
   {
    "duration": 24,
    "start_time": "2024-07-14T12:33:06.255Z"
   },
   {
    "duration": 11,
    "start_time": "2024-07-14T12:33:06.281Z"
   },
   {
    "duration": 30,
    "start_time": "2024-07-14T12:33:06.293Z"
   },
   {
    "duration": 16,
    "start_time": "2024-07-14T12:33:06.325Z"
   },
   {
    "duration": 3,
    "start_time": "2024-07-14T12:33:06.342Z"
   },
   {
    "duration": 19,
    "start_time": "2024-07-14T12:33:06.346Z"
   },
   {
    "duration": 3,
    "start_time": "2024-07-14T12:33:06.366Z"
   },
   {
    "duration": 9,
    "start_time": "2024-07-14T12:33:06.370Z"
   },
   {
    "duration": 8,
    "start_time": "2024-07-14T12:33:06.380Z"
   },
   {
    "duration": 10,
    "start_time": "2024-07-14T12:33:06.389Z"
   },
   {
    "duration": 16,
    "start_time": "2024-07-14T12:33:06.400Z"
   },
   {
    "duration": 13,
    "start_time": "2024-07-14T12:33:06.417Z"
   },
   {
    "duration": 10,
    "start_time": "2024-07-14T12:33:06.431Z"
   },
   {
    "duration": 9,
    "start_time": "2024-07-14T12:33:06.443Z"
   },
   {
    "duration": 20,
    "start_time": "2024-07-14T12:33:06.457Z"
   },
   {
    "duration": 9,
    "start_time": "2024-07-14T12:33:06.478Z"
   },
   {
    "duration": 18,
    "start_time": "2024-07-14T12:33:06.489Z"
   },
   {
    "duration": 3,
    "start_time": "2024-07-14T12:33:06.508Z"
   },
   {
    "duration": 18,
    "start_time": "2024-07-14T12:33:06.512Z"
   },
   {
    "duration": 3,
    "start_time": "2024-07-14T12:33:06.532Z"
   },
   {
    "duration": 12,
    "start_time": "2024-07-14T12:33:06.536Z"
   },
   {
    "duration": 14,
    "start_time": "2024-07-14T12:33:06.549Z"
   },
   {
    "duration": 2,
    "start_time": "2024-07-14T12:33:06.565Z"
   },
   {
    "duration": 26,
    "start_time": "2024-07-14T12:33:06.568Z"
   },
   {
    "duration": 282,
    "start_time": "2024-07-14T12:33:06.595Z"
   },
   {
    "duration": 4,
    "start_time": "2024-07-14T12:33:06.879Z"
   },
   {
    "duration": 7,
    "start_time": "2024-07-14T12:33:06.885Z"
   },
   {
    "duration": 10,
    "start_time": "2024-07-14T12:33:06.893Z"
   },
   {
    "duration": 261,
    "start_time": "2024-07-14T12:33:06.905Z"
   },
   {
    "duration": 166,
    "start_time": "2024-07-14T12:33:07.167Z"
   },
   {
    "duration": 117,
    "start_time": "2024-07-14T12:33:07.334Z"
   },
   {
    "duration": 6,
    "start_time": "2024-07-14T12:33:07.457Z"
   },
   {
    "duration": 5,
    "start_time": "2024-07-14T12:33:07.465Z"
   },
   {
    "duration": 9,
    "start_time": "2024-07-14T12:33:07.471Z"
   },
   {
    "duration": 264,
    "start_time": "2024-07-14T12:33:07.481Z"
   },
   {
    "duration": 179,
    "start_time": "2024-07-14T12:33:07.746Z"
   },
   {
    "duration": 271,
    "start_time": "2024-07-14T12:33:07.926Z"
   },
   {
    "duration": 363,
    "start_time": "2024-07-14T12:33:08.198Z"
   },
   {
    "duration": 309,
    "start_time": "2024-07-14T12:33:08.562Z"
   },
   {
    "duration": 14,
    "start_time": "2024-07-14T12:33:08.872Z"
   },
   {
    "duration": 320,
    "start_time": "2024-07-14T12:33:08.887Z"
   },
   {
    "duration": 4,
    "start_time": "2024-07-14T12:33:09.209Z"
   },
   {
    "duration": 7,
    "start_time": "2024-07-14T12:33:09.214Z"
   },
   {
    "duration": 268,
    "start_time": "2024-07-14T12:33:09.222Z"
   },
   {
    "duration": 233,
    "start_time": "2024-07-14T12:33:09.491Z"
   },
   {
    "duration": 3,
    "start_time": "2024-07-14T12:33:09.726Z"
   },
   {
    "duration": 494,
    "start_time": "2024-07-14T12:33:09.730Z"
   },
   {
    "duration": 201,
    "start_time": "2024-07-14T12:33:10.225Z"
   },
   {
    "duration": 126,
    "start_time": "2024-07-14T12:33:10.427Z"
   },
   {
    "duration": 336,
    "start_time": "2024-07-14T12:33:10.554Z"
   },
   {
    "duration": 12,
    "start_time": "2024-07-14T12:33:10.891Z"
   },
   {
    "duration": 40,
    "start_time": "2024-07-14T18:58:58.913Z"
   },
   {
    "duration": 381,
    "start_time": "2024-07-14T18:59:13.387Z"
   },
   {
    "duration": 349,
    "start_time": "2024-07-14T18:59:13.769Z"
   },
   {
    "duration": 3,
    "start_time": "2024-07-14T18:59:14.119Z"
   },
   {
    "duration": 445,
    "start_time": "2024-07-14T18:59:14.124Z"
   },
   {
    "duration": 1,
    "start_time": "2024-07-14T18:59:14.571Z"
   },
   {
    "duration": 6,
    "start_time": "2024-07-14T18:59:14.573Z"
   },
   {
    "duration": 4,
    "start_time": "2024-07-14T18:59:14.579Z"
   },
   {
    "duration": 9,
    "start_time": "2024-07-14T18:59:14.584Z"
   },
   {
    "duration": 4,
    "start_time": "2024-07-14T18:59:14.594Z"
   },
   {
    "duration": 7,
    "start_time": "2024-07-14T18:59:14.600Z"
   },
   {
    "duration": 12,
    "start_time": "2024-07-14T18:59:14.611Z"
   },
   {
    "duration": 14,
    "start_time": "2024-07-14T18:59:14.624Z"
   },
   {
    "duration": 69,
    "start_time": "2024-07-14T18:59:14.640Z"
   },
   {
    "duration": 85,
    "start_time": "2024-07-14T18:59:14.710Z"
   },
   {
    "duration": 64,
    "start_time": "2024-07-14T18:59:14.796Z"
   },
   {
    "duration": 9,
    "start_time": "2024-07-14T18:59:14.861Z"
   },
   {
    "duration": 51,
    "start_time": "2024-07-14T18:59:14.871Z"
   },
   {
    "duration": 16,
    "start_time": "2024-07-14T18:59:14.923Z"
   },
   {
    "duration": 12,
    "start_time": "2024-07-14T18:59:14.940Z"
   },
   {
    "duration": 14,
    "start_time": "2024-07-14T18:59:14.953Z"
   },
   {
    "duration": 19,
    "start_time": "2024-07-14T18:59:14.968Z"
   },
   {
    "duration": 69,
    "start_time": "2024-07-14T18:59:14.988Z"
   },
   {
    "duration": 27,
    "start_time": "2024-07-14T18:59:15.058Z"
   },
   {
    "duration": 68,
    "start_time": "2024-07-14T18:59:15.086Z"
   },
   {
    "duration": 25,
    "start_time": "2024-07-14T18:59:15.155Z"
   },
   {
    "duration": 10,
    "start_time": "2024-07-14T18:59:15.182Z"
   },
   {
    "duration": 35,
    "start_time": "2024-07-14T18:59:15.193Z"
   },
   {
    "duration": 26,
    "start_time": "2024-07-14T18:59:15.231Z"
   },
   {
    "duration": 30,
    "start_time": "2024-07-14T18:59:15.258Z"
   },
   {
    "duration": 26,
    "start_time": "2024-07-14T18:59:15.290Z"
   },
   {
    "duration": 16,
    "start_time": "2024-07-14T18:59:15.318Z"
   },
   {
    "duration": 4,
    "start_time": "2024-07-14T18:59:15.336Z"
   },
   {
    "duration": 17,
    "start_time": "2024-07-14T18:59:15.342Z"
   },
   {
    "duration": 13,
    "start_time": "2024-07-14T18:59:15.360Z"
   },
   {
    "duration": 18,
    "start_time": "2024-07-14T18:59:15.375Z"
   },
   {
    "duration": 14,
    "start_time": "2024-07-14T18:59:15.394Z"
   },
   {
    "duration": 3,
    "start_time": "2024-07-14T18:59:15.410Z"
   },
   {
    "duration": 33,
    "start_time": "2024-07-14T18:59:15.414Z"
   },
   {
    "duration": 251,
    "start_time": "2024-07-14T18:59:15.448Z"
   },
   {
    "duration": 3,
    "start_time": "2024-07-14T18:59:15.700Z"
   },
   {
    "duration": 44,
    "start_time": "2024-07-14T18:59:15.704Z"
   },
   {
    "duration": 9,
    "start_time": "2024-07-14T18:59:15.750Z"
   },
   {
    "duration": 235,
    "start_time": "2024-07-14T18:59:15.760Z"
   },
   {
    "duration": 140,
    "start_time": "2024-07-14T18:59:15.997Z"
   },
   {
    "duration": 112,
    "start_time": "2024-07-14T18:59:16.138Z"
   },
   {
    "duration": 5,
    "start_time": "2024-07-14T18:59:16.251Z"
   },
   {
    "duration": 9,
    "start_time": "2024-07-14T18:59:16.257Z"
   },
   {
    "duration": 18,
    "start_time": "2024-07-14T18:59:16.267Z"
   },
   {
    "duration": 218,
    "start_time": "2024-07-14T18:59:16.287Z"
   },
   {
    "duration": 159,
    "start_time": "2024-07-14T18:59:16.506Z"
   },
   {
    "duration": 338,
    "start_time": "2024-07-14T18:59:16.667Z"
   },
   {
    "duration": 323,
    "start_time": "2024-07-14T18:59:17.007Z"
   },
   {
    "duration": 280,
    "start_time": "2024-07-14T18:59:17.332Z"
   },
   {
    "duration": 9,
    "start_time": "2024-07-14T18:59:17.613Z"
   },
   {
    "duration": 295,
    "start_time": "2024-07-14T18:59:17.623Z"
   },
   {
    "duration": 5,
    "start_time": "2024-07-14T18:59:17.919Z"
   },
   {
    "duration": 10,
    "start_time": "2024-07-14T18:59:17.926Z"
   },
   {
    "duration": 227,
    "start_time": "2024-07-14T18:59:17.937Z"
   },
   {
    "duration": 265,
    "start_time": "2024-07-14T18:59:18.166Z"
   },
   {
    "duration": 4,
    "start_time": "2024-07-14T18:59:18.432Z"
   },
   {
    "duration": 440,
    "start_time": "2024-07-14T18:59:18.438Z"
   },
   {
    "duration": 178,
    "start_time": "2024-07-14T18:59:18.879Z"
   },
   {
    "duration": 127,
    "start_time": "2024-07-14T18:59:19.059Z"
   },
   {
    "duration": 308,
    "start_time": "2024-07-14T18:59:19.187Z"
   },
   {
    "duration": 17,
    "start_time": "2024-07-14T18:59:19.497Z"
   },
   {
    "duration": 5,
    "start_time": "2024-07-14T19:04:34.433Z"
   },
   {
    "duration": 100,
    "start_time": "2024-07-14T19:25:38.889Z"
   },
   {
    "duration": 2,
    "start_time": "2024-07-14T19:26:24.412Z"
   },
   {
    "duration": 329,
    "start_time": "2024-07-14T19:26:34.261Z"
   },
   {
    "duration": 201,
    "start_time": "2024-07-14T19:26:34.591Z"
   },
   {
    "duration": 2,
    "start_time": "2024-07-14T19:26:34.794Z"
   },
   {
    "duration": 451,
    "start_time": "2024-07-14T19:26:34.797Z"
   },
   {
    "duration": 2,
    "start_time": "2024-07-14T19:26:35.250Z"
   },
   {
    "duration": 4,
    "start_time": "2024-07-14T19:26:35.253Z"
   },
   {
    "duration": 4,
    "start_time": "2024-07-14T19:26:35.258Z"
   },
   {
    "duration": 9,
    "start_time": "2024-07-14T19:26:35.263Z"
   },
   {
    "duration": 8,
    "start_time": "2024-07-14T19:26:35.273Z"
   },
   {
    "duration": 4,
    "start_time": "2024-07-14T19:26:35.282Z"
   },
   {
    "duration": 4,
    "start_time": "2024-07-14T19:26:35.287Z"
   },
   {
    "duration": 7,
    "start_time": "2024-07-14T19:26:35.292Z"
   },
   {
    "duration": 3,
    "start_time": "2024-07-14T19:26:35.300Z"
   },
   {
    "duration": 35,
    "start_time": "2024-07-14T19:26:35.306Z"
   },
   {
    "duration": 35,
    "start_time": "2024-07-14T19:26:35.342Z"
   },
   {
    "duration": 13,
    "start_time": "2024-07-14T19:26:35.378Z"
   },
   {
    "duration": 9,
    "start_time": "2024-07-14T19:26:35.393Z"
   },
   {
    "duration": 13,
    "start_time": "2024-07-14T19:26:35.403Z"
   },
   {
    "duration": 15,
    "start_time": "2024-07-14T19:26:35.418Z"
   },
   {
    "duration": 4,
    "start_time": "2024-07-14T19:26:35.434Z"
   },
   {
    "duration": 3,
    "start_time": "2024-07-14T19:26:35.439Z"
   },
   {
    "duration": 10,
    "start_time": "2024-07-14T19:26:35.444Z"
   },
   {
    "duration": 8,
    "start_time": "2024-07-14T19:26:35.455Z"
   },
   {
    "duration": 12,
    "start_time": "2024-07-14T19:26:35.464Z"
   },
   {
    "duration": 17,
    "start_time": "2024-07-14T19:26:35.477Z"
   },
   {
    "duration": 25,
    "start_time": "2024-07-14T19:26:35.496Z"
   },
   {
    "duration": 4,
    "start_time": "2024-07-14T19:26:35.522Z"
   },
   {
    "duration": 4,
    "start_time": "2024-07-14T19:26:35.527Z"
   },
   {
    "duration": 8,
    "start_time": "2024-07-14T19:26:35.532Z"
   },
   {
    "duration": 7,
    "start_time": "2024-07-14T19:26:35.541Z"
   },
   {
    "duration": 10,
    "start_time": "2024-07-14T19:26:35.549Z"
   },
   {
    "duration": 13,
    "start_time": "2024-07-14T19:26:35.560Z"
   },
   {
    "duration": 6,
    "start_time": "2024-07-14T19:26:35.574Z"
   },
   {
    "duration": 31,
    "start_time": "2024-07-14T19:26:35.581Z"
   },
   {
    "duration": 10,
    "start_time": "2024-07-14T19:26:35.614Z"
   },
   {
    "duration": 9,
    "start_time": "2024-07-14T19:26:35.625Z"
   },
   {
    "duration": 12,
    "start_time": "2024-07-14T19:26:35.635Z"
   },
   {
    "duration": 16,
    "start_time": "2024-07-14T19:26:35.648Z"
   },
   {
    "duration": 4,
    "start_time": "2024-07-14T19:26:35.665Z"
   },
   {
    "duration": 25,
    "start_time": "2024-07-14T19:26:35.670Z"
   },
   {
    "duration": 14,
    "start_time": "2024-07-14T19:26:35.698Z"
   },
   {
    "duration": 250,
    "start_time": "2024-07-14T19:26:35.713Z"
   },
   {
    "duration": 4,
    "start_time": "2024-07-14T19:26:35.964Z"
   },
   {
    "duration": 10,
    "start_time": "2024-07-14T19:26:35.969Z"
   },
   {
    "duration": 11,
    "start_time": "2024-07-14T19:26:35.980Z"
   },
   {
    "duration": 229,
    "start_time": "2024-07-14T19:26:35.992Z"
   },
   {
    "duration": 139,
    "start_time": "2024-07-14T19:26:36.222Z"
   },
   {
    "duration": 101,
    "start_time": "2024-07-14T19:26:36.363Z"
   },
   {
    "duration": 5,
    "start_time": "2024-07-14T19:26:36.466Z"
   },
   {
    "duration": 3,
    "start_time": "2024-07-14T19:26:36.472Z"
   },
   {
    "duration": 8,
    "start_time": "2024-07-14T19:26:36.476Z"
   },
   {
    "duration": 240,
    "start_time": "2024-07-14T19:26:36.485Z"
   },
   {
    "duration": 164,
    "start_time": "2024-07-14T19:26:36.726Z"
   },
   {
    "duration": 296,
    "start_time": "2024-07-14T19:26:36.891Z"
   },
   {
    "duration": 317,
    "start_time": "2024-07-14T19:26:37.188Z"
   },
   {
    "duration": 291,
    "start_time": "2024-07-14T19:26:37.511Z"
   },
   {
    "duration": 17,
    "start_time": "2024-07-14T19:26:37.803Z"
   },
   {
    "duration": 300,
    "start_time": "2024-07-14T19:26:37.822Z"
   },
   {
    "duration": 4,
    "start_time": "2024-07-14T19:26:38.123Z"
   },
   {
    "duration": 8,
    "start_time": "2024-07-14T19:26:38.128Z"
   },
   {
    "duration": 212,
    "start_time": "2024-07-14T19:26:38.137Z"
   },
   {
    "duration": 205,
    "start_time": "2024-07-14T19:26:38.351Z"
   },
   {
    "duration": 4,
    "start_time": "2024-07-14T19:26:38.557Z"
   },
   {
    "duration": 437,
    "start_time": "2024-07-14T19:26:38.562Z"
   },
   {
    "duration": 185,
    "start_time": "2024-07-14T19:26:39.000Z"
   },
   {
    "duration": 120,
    "start_time": "2024-07-14T19:26:39.186Z"
   },
   {
    "duration": 310,
    "start_time": "2024-07-14T19:26:39.308Z"
   },
   {
    "duration": 10,
    "start_time": "2024-07-14T19:26:39.619Z"
   },
   {
    "duration": 225,
    "start_time": "2024-07-14T19:36:32.082Z"
   },
   {
    "duration": 145,
    "start_time": "2024-07-14T19:36:40.193Z"
   },
   {
    "duration": 147,
    "start_time": "2024-07-14T19:36:51.866Z"
   },
   {
    "duration": 274,
    "start_time": "2024-07-14T19:37:15.470Z"
   },
   {
    "duration": 277,
    "start_time": "2024-07-14T19:37:45.265Z"
   },
   {
    "duration": 290,
    "start_time": "2024-07-14T19:47:22.407Z"
   },
   {
    "duration": 263,
    "start_time": "2024-07-14T19:47:36.064Z"
   },
   {
    "duration": 369,
    "start_time": "2024-07-14T19:52:33.028Z"
   },
   {
    "duration": 264,
    "start_time": "2024-07-14T19:53:01.341Z"
   },
   {
    "duration": 289,
    "start_time": "2024-07-14T19:53:23.812Z"
   },
   {
    "duration": 397,
    "start_time": "2024-07-14T20:02:25.092Z"
   },
   {
    "duration": 425,
    "start_time": "2024-07-14T20:11:48.046Z"
   },
   {
    "duration": 167,
    "start_time": "2024-07-14T20:13:03.347Z"
   },
   {
    "duration": 304,
    "start_time": "2024-07-14T20:19:07.199Z"
   },
   {
    "duration": 281,
    "start_time": "2024-07-14T20:19:46.336Z"
   },
   {
    "duration": 10,
    "start_time": "2024-07-14T20:21:37.242Z"
   },
   {
    "duration": 87,
    "start_time": "2024-07-14T20:29:01.837Z"
   },
   {
    "duration": 354,
    "start_time": "2024-07-14T20:31:15.722Z"
   },
   {
    "duration": 188,
    "start_time": "2024-07-14T20:31:16.077Z"
   },
   {
    "duration": 2,
    "start_time": "2024-07-14T20:31:16.267Z"
   },
   {
    "duration": 471,
    "start_time": "2024-07-14T20:31:16.270Z"
   },
   {
    "duration": 2,
    "start_time": "2024-07-14T20:31:16.743Z"
   },
   {
    "duration": 5,
    "start_time": "2024-07-14T20:31:16.746Z"
   },
   {
    "duration": 3,
    "start_time": "2024-07-14T20:31:16.752Z"
   },
   {
    "duration": 2,
    "start_time": "2024-07-14T20:31:16.756Z"
   },
   {
    "duration": 3,
    "start_time": "2024-07-14T20:31:16.759Z"
   },
   {
    "duration": 3,
    "start_time": "2024-07-14T20:31:16.763Z"
   },
   {
    "duration": 3,
    "start_time": "2024-07-14T20:31:16.767Z"
   },
   {
    "duration": 14,
    "start_time": "2024-07-14T20:31:16.771Z"
   },
   {
    "duration": 5,
    "start_time": "2024-07-14T20:31:16.786Z"
   },
   {
    "duration": 25,
    "start_time": "2024-07-14T20:31:16.793Z"
   },
   {
    "duration": 34,
    "start_time": "2024-07-14T20:31:16.819Z"
   },
   {
    "duration": 14,
    "start_time": "2024-07-14T20:31:16.854Z"
   },
   {
    "duration": 9,
    "start_time": "2024-07-14T20:31:16.869Z"
   },
   {
    "duration": 9,
    "start_time": "2024-07-14T20:31:16.879Z"
   },
   {
    "duration": 13,
    "start_time": "2024-07-14T20:31:16.889Z"
   },
   {
    "duration": 7,
    "start_time": "2024-07-14T20:31:16.903Z"
   },
   {
    "duration": 4,
    "start_time": "2024-07-14T20:31:16.911Z"
   },
   {
    "duration": 4,
    "start_time": "2024-07-14T20:31:16.917Z"
   },
   {
    "duration": 9,
    "start_time": "2024-07-14T20:31:16.922Z"
   },
   {
    "duration": 6,
    "start_time": "2024-07-14T20:31:16.932Z"
   },
   {
    "duration": 10,
    "start_time": "2024-07-14T20:31:16.939Z"
   },
   {
    "duration": 18,
    "start_time": "2024-07-14T20:31:16.950Z"
   },
   {
    "duration": 5,
    "start_time": "2024-07-14T20:31:16.969Z"
   },
   {
    "duration": 5,
    "start_time": "2024-07-14T20:31:16.975Z"
   },
   {
    "duration": 32,
    "start_time": "2024-07-14T20:31:16.982Z"
   },
   {
    "duration": 7,
    "start_time": "2024-07-14T20:31:17.015Z"
   },
   {
    "duration": 12,
    "start_time": "2024-07-14T20:31:17.023Z"
   },
   {
    "duration": 13,
    "start_time": "2024-07-14T20:31:17.037Z"
   },
   {
    "duration": 4,
    "start_time": "2024-07-14T20:31:17.052Z"
   },
   {
    "duration": 5,
    "start_time": "2024-07-14T20:31:17.058Z"
   },
   {
    "duration": 11,
    "start_time": "2024-07-14T20:31:17.065Z"
   },
   {
    "duration": 41,
    "start_time": "2024-07-14T20:31:17.077Z"
   },
   {
    "duration": 7,
    "start_time": "2024-07-14T20:31:17.120Z"
   },
   {
    "duration": 82,
    "start_time": "2024-07-14T20:31:17.129Z"
   },
   {
    "duration": 22,
    "start_time": "2024-07-14T20:31:17.212Z"
   },
   {
    "duration": 9,
    "start_time": "2024-07-14T20:31:17.235Z"
   },
   {
    "duration": 249,
    "start_time": "2024-07-14T20:31:17.248Z"
   },
   {
    "duration": 3,
    "start_time": "2024-07-14T20:31:17.499Z"
   },
   {
    "duration": 4,
    "start_time": "2024-07-14T20:31:17.504Z"
   },
   {
    "duration": 9,
    "start_time": "2024-07-14T20:31:17.512Z"
   },
   {
    "duration": 248,
    "start_time": "2024-07-14T20:31:17.523Z"
   },
   {
    "duration": 147,
    "start_time": "2024-07-14T20:31:17.772Z"
   },
   {
    "duration": 107,
    "start_time": "2024-07-14T20:31:17.920Z"
   },
   {
    "duration": 4,
    "start_time": "2024-07-14T20:31:18.029Z"
   },
   {
    "duration": 2,
    "start_time": "2024-07-14T20:31:18.035Z"
   },
   {
    "duration": 8,
    "start_time": "2024-07-14T20:31:18.039Z"
   },
   {
    "duration": 237,
    "start_time": "2024-07-14T20:31:18.048Z"
   },
   {
    "duration": 153,
    "start_time": "2024-07-14T20:31:18.287Z"
   },
   {
    "duration": 255,
    "start_time": "2024-07-14T20:31:18.441Z"
   },
   {
    "duration": 322,
    "start_time": "2024-07-14T20:31:18.697Z"
   },
   {
    "duration": 296,
    "start_time": "2024-07-14T20:31:19.020Z"
   },
   {
    "duration": 9,
    "start_time": "2024-07-14T20:31:19.318Z"
   },
   {
    "duration": 293,
    "start_time": "2024-07-14T20:31:19.328Z"
   },
   {
    "duration": 5,
    "start_time": "2024-07-14T20:31:19.622Z"
   },
   {
    "duration": 6,
    "start_time": "2024-07-14T20:31:19.628Z"
   },
   {
    "duration": 217,
    "start_time": "2024-07-14T20:31:19.635Z"
   },
   {
    "duration": 258,
    "start_time": "2024-07-14T20:31:19.854Z"
   },
   {
    "duration": 3,
    "start_time": "2024-07-14T20:31:20.113Z"
   },
   {
    "duration": 427,
    "start_time": "2024-07-14T20:31:20.118Z"
   },
   {
    "duration": 185,
    "start_time": "2024-07-14T20:31:20.546Z"
   },
   {
    "duration": 122,
    "start_time": "2024-07-14T20:31:20.733Z"
   },
   {
    "duration": 332,
    "start_time": "2024-07-14T20:31:20.856Z"
   },
   {
    "duration": 11,
    "start_time": "2024-07-14T20:31:21.189Z"
   },
   {
    "duration": 388,
    "start_time": "2024-07-14T20:33:49.478Z"
   },
   {
    "duration": 189,
    "start_time": "2024-07-14T20:33:49.868Z"
   },
   {
    "duration": 3,
    "start_time": "2024-07-14T20:33:50.058Z"
   },
   {
    "duration": 485,
    "start_time": "2024-07-14T20:33:50.062Z"
   },
   {
    "duration": 2,
    "start_time": "2024-07-14T20:33:50.549Z"
   },
   {
    "duration": 4,
    "start_time": "2024-07-14T20:33:50.552Z"
   },
   {
    "duration": 8,
    "start_time": "2024-07-14T20:33:50.557Z"
   },
   {
    "duration": 4,
    "start_time": "2024-07-14T20:33:50.567Z"
   },
   {
    "duration": 5,
    "start_time": "2024-07-14T20:33:50.573Z"
   },
   {
    "duration": 3,
    "start_time": "2024-07-14T20:33:50.579Z"
   },
   {
    "duration": 3,
    "start_time": "2024-07-14T20:33:50.583Z"
   },
   {
    "duration": 6,
    "start_time": "2024-07-14T20:33:50.587Z"
   },
   {
    "duration": 6,
    "start_time": "2024-07-14T20:33:50.595Z"
   },
   {
    "duration": 34,
    "start_time": "2024-07-14T20:33:50.604Z"
   },
   {
    "duration": 34,
    "start_time": "2024-07-14T20:33:50.639Z"
   },
   {
    "duration": 13,
    "start_time": "2024-07-14T20:33:50.675Z"
   },
   {
    "duration": 15,
    "start_time": "2024-07-14T20:33:50.689Z"
   },
   {
    "duration": 11,
    "start_time": "2024-07-14T20:33:50.705Z"
   },
   {
    "duration": 14,
    "start_time": "2024-07-14T20:33:50.718Z"
   },
   {
    "duration": 3,
    "start_time": "2024-07-14T20:33:50.734Z"
   },
   {
    "duration": 4,
    "start_time": "2024-07-14T20:33:50.738Z"
   },
   {
    "duration": 9,
    "start_time": "2024-07-14T20:33:50.743Z"
   },
   {
    "duration": 22,
    "start_time": "2024-07-14T20:33:50.753Z"
   },
   {
    "duration": 10,
    "start_time": "2024-07-14T20:33:50.776Z"
   },
   {
    "duration": 22,
    "start_time": "2024-07-14T20:33:50.788Z"
   },
   {
    "duration": 26,
    "start_time": "2024-07-14T20:33:50.812Z"
   },
   {
    "duration": 4,
    "start_time": "2024-07-14T20:33:50.840Z"
   },
   {
    "duration": 13,
    "start_time": "2024-07-14T20:33:50.845Z"
   },
   {
    "duration": 10,
    "start_time": "2024-07-14T20:33:50.859Z"
   },
   {
    "duration": 7,
    "start_time": "2024-07-14T20:33:50.870Z"
   },
   {
    "duration": 11,
    "start_time": "2024-07-14T20:33:50.878Z"
   },
   {
    "duration": 31,
    "start_time": "2024-07-14T20:33:50.890Z"
   },
   {
    "duration": 16,
    "start_time": "2024-07-14T20:33:50.923Z"
   },
   {
    "duration": 5,
    "start_time": "2024-07-14T20:33:50.941Z"
   },
   {
    "duration": 4,
    "start_time": "2024-07-14T20:33:50.947Z"
   },
   {
    "duration": 10,
    "start_time": "2024-07-14T20:33:50.952Z"
   },
   {
    "duration": 8,
    "start_time": "2024-07-14T20:33:50.963Z"
   },
   {
    "duration": 12,
    "start_time": "2024-07-14T20:33:50.973Z"
   },
   {
    "duration": 8,
    "start_time": "2024-07-14T20:33:50.986Z"
   },
   {
    "duration": 14,
    "start_time": "2024-07-14T20:33:50.995Z"
   },
   {
    "duration": 253,
    "start_time": "2024-07-14T20:33:51.013Z"
   },
   {
    "duration": 3,
    "start_time": "2024-07-14T20:33:51.268Z"
   },
   {
    "duration": 15,
    "start_time": "2024-07-14T20:33:51.272Z"
   },
   {
    "duration": 9,
    "start_time": "2024-07-14T20:33:51.288Z"
   },
   {
    "duration": 231,
    "start_time": "2024-07-14T20:33:51.298Z"
   },
   {
    "duration": 140,
    "start_time": "2024-07-14T20:33:51.530Z"
   },
   {
    "duration": 102,
    "start_time": "2024-07-14T20:33:51.671Z"
   },
   {
    "duration": 6,
    "start_time": "2024-07-14T20:33:51.774Z"
   },
   {
    "duration": 12,
    "start_time": "2024-07-14T20:33:51.781Z"
   },
   {
    "duration": 9,
    "start_time": "2024-07-14T20:33:51.795Z"
   },
   {
    "duration": 221,
    "start_time": "2024-07-14T20:33:51.806Z"
   },
   {
    "duration": 177,
    "start_time": "2024-07-14T20:33:52.028Z"
   },
   {
    "duration": 287,
    "start_time": "2024-07-14T20:33:52.211Z"
   },
   {
    "duration": 316,
    "start_time": "2024-07-14T20:33:52.499Z"
   },
   {
    "duration": 297,
    "start_time": "2024-07-14T20:33:52.817Z"
   },
   {
    "duration": 9,
    "start_time": "2024-07-14T20:33:53.115Z"
   },
   {
    "duration": 303,
    "start_time": "2024-07-14T20:33:53.125Z"
   },
   {
    "duration": 4,
    "start_time": "2024-07-14T20:33:53.429Z"
   },
   {
    "duration": 7,
    "start_time": "2024-07-14T20:33:53.434Z"
   },
   {
    "duration": 212,
    "start_time": "2024-07-14T20:33:53.442Z"
   },
   {
    "duration": 275,
    "start_time": "2024-07-14T20:33:53.655Z"
   },
   {
    "duration": 3,
    "start_time": "2024-07-14T20:33:53.931Z"
   },
   {
    "duration": 424,
    "start_time": "2024-07-14T20:33:53.936Z"
   },
   {
    "duration": 181,
    "start_time": "2024-07-14T20:33:54.361Z"
   },
   {
    "duration": 126,
    "start_time": "2024-07-14T20:33:54.543Z"
   },
   {
    "duration": 317,
    "start_time": "2024-07-14T20:33:54.670Z"
   },
   {
    "duration": 26,
    "start_time": "2024-07-14T20:33:54.988Z"
   },
   {
    "duration": 364,
    "start_time": "2024-07-14T20:36:15.653Z"
   },
   {
    "duration": 213,
    "start_time": "2024-07-14T20:36:16.019Z"
   },
   {
    "duration": 2,
    "start_time": "2024-07-14T20:36:16.234Z"
   },
   {
    "duration": 451,
    "start_time": "2024-07-14T20:36:16.238Z"
   },
   {
    "duration": 3,
    "start_time": "2024-07-14T20:36:16.690Z"
   },
   {
    "duration": 19,
    "start_time": "2024-07-14T20:36:16.694Z"
   },
   {
    "duration": 15,
    "start_time": "2024-07-14T20:36:16.715Z"
   },
   {
    "duration": 16,
    "start_time": "2024-07-14T20:36:16.732Z"
   },
   {
    "duration": 14,
    "start_time": "2024-07-14T20:36:16.749Z"
   },
   {
    "duration": 13,
    "start_time": "2024-07-14T20:36:16.765Z"
   },
   {
    "duration": 9,
    "start_time": "2024-07-14T20:36:16.779Z"
   },
   {
    "duration": 15,
    "start_time": "2024-07-14T20:36:16.789Z"
   },
   {
    "duration": 11,
    "start_time": "2024-07-14T20:36:16.806Z"
   },
   {
    "duration": 46,
    "start_time": "2024-07-14T20:36:16.818Z"
   },
   {
    "duration": 35,
    "start_time": "2024-07-14T20:36:16.865Z"
   },
   {
    "duration": 14,
    "start_time": "2024-07-14T20:36:16.901Z"
   },
   {
    "duration": 27,
    "start_time": "2024-07-14T20:36:16.917Z"
   },
   {
    "duration": 20,
    "start_time": "2024-07-14T20:36:16.945Z"
   },
   {
    "duration": 28,
    "start_time": "2024-07-14T20:36:16.967Z"
   },
   {
    "duration": 43,
    "start_time": "2024-07-14T20:36:16.996Z"
   },
   {
    "duration": 16,
    "start_time": "2024-07-14T20:36:17.041Z"
   },
   {
    "duration": 23,
    "start_time": "2024-07-14T20:36:17.059Z"
   },
   {
    "duration": 34,
    "start_time": "2024-07-14T20:36:17.083Z"
   },
   {
    "duration": 13,
    "start_time": "2024-07-14T20:36:17.119Z"
   },
   {
    "duration": 105,
    "start_time": "2024-07-14T20:36:17.134Z"
   },
   {
    "duration": 35,
    "start_time": "2024-07-14T20:36:17.240Z"
   },
   {
    "duration": 6,
    "start_time": "2024-07-14T20:36:17.276Z"
   },
   {
    "duration": 25,
    "start_time": "2024-07-14T20:36:17.285Z"
   },
   {
    "duration": 21,
    "start_time": "2024-07-14T20:36:17.311Z"
   },
   {
    "duration": 21,
    "start_time": "2024-07-14T20:36:17.333Z"
   },
   {
    "duration": 28,
    "start_time": "2024-07-14T20:36:17.356Z"
   },
   {
    "duration": 25,
    "start_time": "2024-07-14T20:36:17.386Z"
   },
   {
    "duration": 11,
    "start_time": "2024-07-14T20:36:17.412Z"
   },
   {
    "duration": 5,
    "start_time": "2024-07-14T20:36:17.425Z"
   },
   {
    "duration": 4,
    "start_time": "2024-07-14T20:36:17.431Z"
   },
   {
    "duration": 9,
    "start_time": "2024-07-14T20:36:17.437Z"
   },
   {
    "duration": 6,
    "start_time": "2024-07-14T20:36:17.447Z"
   },
   {
    "duration": 4,
    "start_time": "2024-07-14T20:36:17.455Z"
   },
   {
    "duration": 5,
    "start_time": "2024-07-14T20:36:17.460Z"
   },
   {
    "duration": 10,
    "start_time": "2024-07-14T20:36:17.466Z"
   },
   {
    "duration": 308,
    "start_time": "2024-07-14T20:36:17.478Z"
   },
   {
    "duration": 4,
    "start_time": "2024-07-14T20:36:17.788Z"
   },
   {
    "duration": 5,
    "start_time": "2024-07-14T20:36:17.794Z"
   },
   {
    "duration": 9,
    "start_time": "2024-07-14T20:36:17.811Z"
   },
   {
    "duration": 269,
    "start_time": "2024-07-14T20:36:17.822Z"
   },
   {
    "duration": 164,
    "start_time": "2024-07-14T20:36:18.092Z"
   },
   {
    "duration": 146,
    "start_time": "2024-07-14T20:36:18.258Z"
   },
   {
    "duration": 11,
    "start_time": "2024-07-14T20:36:18.405Z"
   },
   {
    "duration": 4,
    "start_time": "2024-07-14T20:36:18.417Z"
   },
   {
    "duration": 17,
    "start_time": "2024-07-14T20:36:18.422Z"
   },
   {
    "duration": 241,
    "start_time": "2024-07-14T20:36:18.440Z"
   },
   {
    "duration": 175,
    "start_time": "2024-07-14T20:36:18.682Z"
   },
   {
    "duration": 281,
    "start_time": "2024-07-14T20:36:18.859Z"
   },
   {
    "duration": 374,
    "start_time": "2024-07-14T20:36:19.142Z"
   },
   {
    "duration": 346,
    "start_time": "2024-07-14T20:36:19.517Z"
   },
   {
    "duration": 9,
    "start_time": "2024-07-14T20:36:19.865Z"
   },
   {
    "duration": 277,
    "start_time": "2024-07-14T20:36:19.876Z"
   },
   {
    "duration": 4,
    "start_time": "2024-07-14T20:36:20.154Z"
   },
   {
    "duration": 55,
    "start_time": "2024-07-14T20:36:20.160Z"
   },
   {
    "duration": 235,
    "start_time": "2024-07-14T20:36:20.216Z"
   },
   {
    "duration": 286,
    "start_time": "2024-07-14T20:36:20.452Z"
   },
   {
    "duration": 4,
    "start_time": "2024-07-14T20:36:20.739Z"
   },
   {
    "duration": 526,
    "start_time": "2024-07-14T20:36:20.745Z"
   },
   {
    "duration": 217,
    "start_time": "2024-07-14T20:36:21.273Z"
   },
   {
    "duration": 143,
    "start_time": "2024-07-14T20:36:21.492Z"
   },
   {
    "duration": 346,
    "start_time": "2024-07-14T20:36:21.636Z"
   },
   {
    "duration": 12,
    "start_time": "2024-07-14T20:36:21.984Z"
   },
   {
    "duration": 1400,
    "start_time": "2024-10-17T13:36:59.641Z"
   },
   {
    "duration": 3,
    "start_time": "2024-10-17T13:37:01.043Z"
   },
   {
    "duration": 80,
    "start_time": "2024-10-17T13:37:01.048Z"
   },
   {
    "duration": 22,
    "start_time": "2024-10-17T13:37:01.130Z"
   },
   {
    "duration": 15,
    "start_time": "2024-10-17T13:37:01.154Z"
   },
   {
    "duration": 98,
    "start_time": "2024-10-17T13:37:01.170Z"
   },
   {
    "duration": 90,
    "start_time": "2024-10-17T13:37:01.269Z"
   },
   {
    "duration": 65,
    "start_time": "2024-10-17T13:37:01.361Z"
   },
   {
    "duration": 33,
    "start_time": "2024-10-17T13:37:01.428Z"
   },
   {
    "duration": 28,
    "start_time": "2024-10-17T13:37:01.463Z"
   },
   {
    "duration": 47,
    "start_time": "2024-10-17T13:37:01.493Z"
   },
   {
    "duration": 66,
    "start_time": "2024-10-17T13:37:01.542Z"
   },
   {
    "duration": 39,
    "start_time": "2024-10-17T13:37:01.609Z"
   },
   {
    "duration": 28,
    "start_time": "2024-10-17T13:37:01.649Z"
   },
   {
    "duration": 64,
    "start_time": "2024-10-17T13:37:01.678Z"
   },
   {
    "duration": 80,
    "start_time": "2024-10-17T13:37:01.744Z"
   },
   {
    "duration": 47,
    "start_time": "2024-10-17T13:37:01.826Z"
   },
   {
    "duration": 102,
    "start_time": "2024-10-17T13:37:01.875Z"
   },
   {
    "duration": 48,
    "start_time": "2024-10-17T13:37:01.979Z"
   },
   {
    "duration": 32,
    "start_time": "2024-10-17T13:37:02.029Z"
   },
   {
    "duration": 26,
    "start_time": "2024-10-17T13:37:02.063Z"
   },
   {
    "duration": 57,
    "start_time": "2024-10-17T13:37:02.091Z"
   },
   {
    "duration": 26,
    "start_time": "2024-10-17T13:37:02.150Z"
   },
   {
    "duration": 92,
    "start_time": "2024-10-17T13:37:02.179Z"
   },
   {
    "duration": 62,
    "start_time": "2024-10-17T13:37:02.272Z"
   },
   {
    "duration": 23,
    "start_time": "2024-10-17T13:37:02.336Z"
   },
   {
    "duration": 16,
    "start_time": "2024-10-17T13:37:02.360Z"
   },
   {
    "duration": 41,
    "start_time": "2024-10-17T13:37:02.380Z"
   },
   {
    "duration": 21,
    "start_time": "2024-10-17T13:37:02.423Z"
   },
   {
    "duration": 21,
    "start_time": "2024-10-17T13:37:02.446Z"
   },
   {
    "duration": 39,
    "start_time": "2024-10-17T13:37:02.468Z"
   },
   {
    "duration": 57,
    "start_time": "2024-10-17T13:37:02.508Z"
   },
   {
    "duration": 301,
    "start_time": "2024-10-17T13:37:02.567Z"
   },
   {
    "duration": 5,
    "start_time": "2024-10-17T13:37:02.869Z"
   },
   {
    "duration": 27,
    "start_time": "2024-10-17T13:37:02.875Z"
   },
   {
    "duration": 34,
    "start_time": "2024-10-17T13:37:02.903Z"
   },
   {
    "duration": 274,
    "start_time": "2024-10-17T13:37:02.939Z"
   },
   {
    "duration": 184,
    "start_time": "2024-10-17T13:37:03.214Z"
   },
   {
    "duration": 136,
    "start_time": "2024-10-17T13:37:03.400Z"
   },
   {
    "duration": 7,
    "start_time": "2024-10-17T13:37:03.537Z"
   },
   {
    "duration": 22,
    "start_time": "2024-10-17T13:37:03.545Z"
   },
   {
    "duration": 69,
    "start_time": "2024-10-17T13:37:03.569Z"
   },
   {
    "duration": 289,
    "start_time": "2024-10-17T13:37:03.640Z"
   },
   {
    "duration": 200,
    "start_time": "2024-10-17T13:37:03.930Z"
   },
   {
    "duration": 320,
    "start_time": "2024-10-17T13:37:04.132Z"
   },
   {
    "duration": 385,
    "start_time": "2024-10-17T13:37:04.454Z"
   },
   {
    "duration": 316,
    "start_time": "2024-10-17T13:37:04.840Z"
   },
   {
    "duration": 11,
    "start_time": "2024-10-17T13:37:05.158Z"
   },
   {
    "duration": 358,
    "start_time": "2024-10-17T13:37:05.171Z"
   },
   {
    "duration": 5,
    "start_time": "2024-10-17T13:37:05.531Z"
   },
   {
    "duration": 41,
    "start_time": "2024-10-17T13:37:05.537Z"
   },
   {
    "duration": 272,
    "start_time": "2024-10-17T13:37:05.580Z"
   },
   {
    "duration": 296,
    "start_time": "2024-10-17T13:37:05.854Z"
   },
   {
    "duration": 5,
    "start_time": "2024-10-17T13:37:06.152Z"
   },
   {
    "duration": 527,
    "start_time": "2024-10-17T13:37:06.159Z"
   },
   {
    "duration": 221,
    "start_time": "2024-10-17T13:37:06.699Z"
   },
   {
    "duration": 156,
    "start_time": "2024-10-17T13:37:06.922Z"
   },
   {
    "duration": 418,
    "start_time": "2024-10-17T13:37:07.080Z"
   },
   {
    "duration": 16,
    "start_time": "2024-10-17T13:37:07.499Z"
   }
  ],
  "kernelspec": {
   "display_name": "Python 3 (ipykernel)",
   "language": "python",
   "name": "python3"
  },
  "language_info": {
   "codemirror_mode": {
    "name": "ipython",
    "version": 3
   },
   "file_extension": ".py",
   "mimetype": "text/x-python",
   "name": "python",
   "nbconvert_exporter": "python",
   "pygments_lexer": "ipython3",
   "version": "3.9.5"
  },
  "toc": {
   "base_numbering": 1,
   "nav_menu": {},
   "number_sections": true,
   "sideBar": true,
   "skip_h1_title": true,
   "title_cell": "Table of Contents",
   "title_sidebar": "Contents",
   "toc_cell": false,
   "toc_position": {},
   "toc_section_display": true,
   "toc_window_display": true
  }
 },
 "nbformat": 4,
 "nbformat_minor": 2
}
