{
 "cells": [
  {
   "cell_type": "markdown",
   "id": "929176ca",
   "metadata": {},
   "source": [
    "**Проект: Статистический анализ данных**"
   ]
  },
  {
   "cell_type": "markdown",
   "id": "017605b9",
   "metadata": {},
   "source": [
    "# Анализ данных о некоторых пользователях из нескольких городов, а также об их поездках сервиса аренды самокатов GoFast."
   ]
  },
  {
   "cell_type": "markdown",
   "id": "8abf2f09",
   "metadata": {},
   "source": [
    "Проанализируем данные и проверим некоторые гипотезы, которые могут помочь бизнесу вырасти.\n",
    "Чтобы совершать поездки по городу, пользователи сервиса GoFast пользуются мобильным приложением. \n",
    "\n",
    "Сервисом можно пользоваться:\n",
    "- без подписки:\n",
    "- абонентская плата отсутствует;\n",
    "- стоимость одной минуты поездки — 8 рублей;\n",
    "- стоимость старта (начала поездки) — 50 рублей. \n",
    "\n",
    "\n",
    "- с подпиской Ultra:\n",
    "- абонентская плата — 199 рублей в месяц;\n",
    "- стоимость одной минуты поездки — 6 рублей;\n",
    "- стоимость старта — бесплатно.\n",
    "\n"
   ]
  },
  {
   "cell_type": "markdown",
   "id": "b816f822",
   "metadata": {},
   "source": [
    "**Описание данных**"
   ]
  },
  {
   "cell_type": "markdown",
   "id": "1cfe52be",
   "metadata": {},
   "source": [
    "В основных данных есть информация о пользователях, их поездках и подписках.\n",
    "\n",
    "Пользователи — users_go.csv:\n",
    "- user_id - уникальный идентификатор пользователя,\n",
    "- name - имя пользователя,\n",
    "- age - возраст,\n",
    "- city - город,\n",
    "- subscription_type - тип подписки (free, ultra).\n",
    "\n",
    "\n",
    "Поездки — rides_go.csv:\n",
    "- user_id - уникальный идентификатор пользователя,\n",
    "- distance - расстояние, которое пользователь проехал в текущей сессии (в метрах),\n",
    "- duration - продолжительность сессии (в минутах) — время с того момента, как пользователь нажал кнопку «Начать поездку» до момента, как он нажал кнопку «Завершить поездку»,\n",
    "- date - дата совершения поездки.\n",
    "\n",
    "\n",
    "Подписки — subscriptions_go.csv:\n",
    "- subscription_type - тип подписки,\n",
    "- minute_price - стоимость одной минуты поездки по данной подписке,\n",
    "- start_ride_price - стоимость начала поездки,\n",
    "- subscription_fee - стоимость ежемесячного платежа."
   ]
  },
  {
   "cell_type": "markdown",
   "id": "4074bceb",
   "metadata": {},
   "source": [
    "**План**"
   ]
  },
  {
   "cell_type": "markdown",
   "id": "5d0fbdd1",
   "metadata": {},
   "source": [
    "1.Ознакомление с данными:\n",
    "- Загрузка данных;\n",
    "- Изучение общей информации о датафрейме.\n",
    "2.Предобработка данных:\n",
    "- Работа с пропущенными значениями и дубликатами;\n",
    "- Приведение столбцов к необходимым типам;\n",
    "- Создание нового столбца.\n",
    "3.Исследовательский анализ данных:\n",
    "- Описание и визуализация данных:частота встречаемости городов, соотношение пользователей с подпиской и без подписки, возраст пользователей, расстояние, которое пользователь преодолел за одну поездку, продолжительность поездок.\n",
    "4.Объединение данных:\n",
    "- Объедининение данных о пользователях, поездках и подписках в один датафрейм.\n",
    "- Создание двух датафреймов:c данными о пользователях без подписки, с данными о пользователях с подпиской.\n",
    "- Визуализация информации о расстоянии и времени поездок для пользователей обеих категорий.\n",
    "5.Подсчет выручки:\n",
    "- Создание датафрейма с агрегированными данными о поездках\n",
    "- Добавление столбца с помесячной выручкой, которую принёс каждый пользователь. \n",
    "6. Проверка гипотез:\n",
    "- Тратят ли пользователи с подпиской больше времени на поездки? Если да, то пользователи с подпиской могут быть «выгоднее» для компании. Проверьте гипотезу. \n",
    "- Среднее расстояние, которое проезжают пользователи с подпиской за одну поездку, не превышает 3130 метров.\n",
    "- Выше ли помесячная выручка от пользователей с подпиской по месяцам выше, чем выручка от пользователей без подписки. \n",
    "7.Распределения\n",
    "- Выяснение  минимального количества промокодов нужно разослать, чтобы вероятность не выполнить план была примерно 5 %. \n",
    "- Оценка вероятности того, что уведомление откроют не более 399,5 тыс. пользователей.\n"
   ]
  },
  {
   "cell_type": "code",
   "execution_count": 1,
   "id": "134da86a",
   "metadata": {},
   "outputs": [],
   "source": [
    "import pandas as pd"
   ]
  },
  {
   "cell_type": "code",
   "execution_count": 2,
   "id": "563d8b05",
   "metadata": {},
   "outputs": [],
   "source": [
    "import numpy as np"
   ]
  },
  {
   "cell_type": "code",
   "execution_count": 3,
   "id": "d4113013",
   "metadata": {},
   "outputs": [],
   "source": [
    "import matplotlib.pyplot as plt"
   ]
  },
  {
   "cell_type": "code",
   "execution_count": 4,
   "id": "2e66b62e",
   "metadata": {},
   "outputs": [],
   "source": [
    "from scipy import stats as st\n",
    "from scipy.stats import binom, poisson, norm\n",
    "from math import sqrt, factorial\n",
    "from IPython.display import display"
   ]
  },
  {
   "cell_type": "code",
   "execution_count": 5,
   "id": "5101fff5",
   "metadata": {},
   "outputs": [],
   "source": [
    "# Отображение всех колонок таблиц\n",
    "pd.set_option('display.max_columns', None)"
   ]
  },
  {
   "cell_type": "markdown",
   "id": "053a3e10",
   "metadata": {},
   "source": [
    "## Шаг. Загрузка данных"
   ]
  },
  {
   "cell_type": "markdown",
   "id": "1993720a",
   "metadata": {},
   "source": [
    "###  Считаем CSV-файлы с данными с помощью библиотеки pandas и сохраним их в датафреймы."
   ]
  },
  {
   "cell_type": "code",
   "execution_count": 6,
   "id": "38277c24",
   "metadata": {},
   "outputs": [],
   "source": [
    "# функция вывода информации о датасете\n",
    "def dataset_info(dataset):\n",
    "    print(dataset.info())\n",
    "    display(dataset.head())"
   ]
  },
  {
   "cell_type": "code",
   "execution_count": 7,
   "id": "8c52fd3e",
   "metadata": {},
   "outputs": [],
   "source": [
    "#Сохраним в датафреймы основные данные\n",
    "users = pd.read_csv('/datasets/users_go.csv')\n",
    "rides = pd.read_csv('/datasets/rides_go.csv')\n",
    "subs = pd.read_csv('/datasets/subscriptions_go.csv')\n"
   ]
  },
  {
   "cell_type": "markdown",
   "id": "44f011ed",
   "metadata": {},
   "source": [
    "### Выведем первые строки каждого набора данных. Изучим общую информацию о каждом датафрейме."
   ]
  },
  {
   "cell_type": "markdown",
   "id": "103903c4",
   "metadata": {},
   "source": [
    "**Пользователи — users_go.csv**"
   ]
  },
  {
   "cell_type": "code",
   "execution_count": 8,
   "id": "84cfc5fa",
   "metadata": {},
   "outputs": [
    {
     "name": "stdout",
     "output_type": "stream",
     "text": [
      "<class 'pandas.core.frame.DataFrame'>\n",
      "RangeIndex: 1565 entries, 0 to 1564\n",
      "Data columns (total 5 columns):\n",
      " #   Column             Non-Null Count  Dtype \n",
      "---  ------             --------------  ----- \n",
      " 0   user_id            1565 non-null   int64 \n",
      " 1   name               1565 non-null   object\n",
      " 2   age                1565 non-null   int64 \n",
      " 3   city               1565 non-null   object\n",
      " 4   subscription_type  1565 non-null   object\n",
      "dtypes: int64(2), object(3)\n",
      "memory usage: 61.3+ KB\n"
     ]
    },
    {
     "data": {
      "text/plain": [
       "None"
      ]
     },
     "metadata": {},
     "output_type": "display_data"
    }
   ],
   "source": [
    "# Изучим общую информацию о датафрейме users\n",
    "display(users.info())"
   ]
  },
  {
   "cell_type": "code",
   "execution_count": 9,
   "id": "1fd0f83e",
   "metadata": {},
   "outputs": [
    {
     "data": {
      "text/html": [
       "<div>\n",
       "<style scoped>\n",
       "    .dataframe tbody tr th:only-of-type {\n",
       "        vertical-align: middle;\n",
       "    }\n",
       "\n",
       "    .dataframe tbody tr th {\n",
       "        vertical-align: top;\n",
       "    }\n",
       "\n",
       "    .dataframe thead th {\n",
       "        text-align: right;\n",
       "    }\n",
       "</style>\n",
       "<table border=\"1\" class=\"dataframe\">\n",
       "  <thead>\n",
       "    <tr style=\"text-align: right;\">\n",
       "      <th></th>\n",
       "      <th>user_id</th>\n",
       "      <th>age</th>\n",
       "    </tr>\n",
       "  </thead>\n",
       "  <tbody>\n",
       "    <tr>\n",
       "      <th>count</th>\n",
       "      <td>1565.000000</td>\n",
       "      <td>1565.000000</td>\n",
       "    </tr>\n",
       "    <tr>\n",
       "      <th>mean</th>\n",
       "      <td>762.633866</td>\n",
       "      <td>24.922045</td>\n",
       "    </tr>\n",
       "    <tr>\n",
       "      <th>std</th>\n",
       "      <td>443.260155</td>\n",
       "      <td>4.553496</td>\n",
       "    </tr>\n",
       "    <tr>\n",
       "      <th>min</th>\n",
       "      <td>1.000000</td>\n",
       "      <td>12.000000</td>\n",
       "    </tr>\n",
       "    <tr>\n",
       "      <th>25%</th>\n",
       "      <td>378.000000</td>\n",
       "      <td>22.000000</td>\n",
       "    </tr>\n",
       "    <tr>\n",
       "      <th>50%</th>\n",
       "      <td>762.000000</td>\n",
       "      <td>25.000000</td>\n",
       "    </tr>\n",
       "    <tr>\n",
       "      <th>75%</th>\n",
       "      <td>1146.000000</td>\n",
       "      <td>28.000000</td>\n",
       "    </tr>\n",
       "    <tr>\n",
       "      <th>max</th>\n",
       "      <td>1534.000000</td>\n",
       "      <td>43.000000</td>\n",
       "    </tr>\n",
       "  </tbody>\n",
       "</table>\n",
       "</div>"
      ],
      "text/plain": [
       "           user_id          age\n",
       "count  1565.000000  1565.000000\n",
       "mean    762.633866    24.922045\n",
       "std     443.260155     4.553496\n",
       "min       1.000000    12.000000\n",
       "25%     378.000000    22.000000\n",
       "50%     762.000000    25.000000\n",
       "75%    1146.000000    28.000000\n",
       "max    1534.000000    43.000000"
      ]
     },
     "execution_count": 9,
     "metadata": {},
     "output_type": "execute_result"
    }
   ],
   "source": [
    "#Посмотрим общую информацию о датафрейме users по распределению значений в каждом столбце\n",
    "users.describe()"
   ]
  },
  {
   "cell_type": "code",
   "execution_count": 10,
   "id": "449a8ddc",
   "metadata": {},
   "outputs": [
    {
     "data": {
      "text/html": [
       "<div>\n",
       "<style scoped>\n",
       "    .dataframe tbody tr th:only-of-type {\n",
       "        vertical-align: middle;\n",
       "    }\n",
       "\n",
       "    .dataframe tbody tr th {\n",
       "        vertical-align: top;\n",
       "    }\n",
       "\n",
       "    .dataframe thead th {\n",
       "        text-align: right;\n",
       "    }\n",
       "</style>\n",
       "<table border=\"1\" class=\"dataframe\">\n",
       "  <thead>\n",
       "    <tr style=\"text-align: right;\">\n",
       "      <th></th>\n",
       "      <th>user_id</th>\n",
       "      <th>name</th>\n",
       "      <th>age</th>\n",
       "      <th>city</th>\n",
       "      <th>subscription_type</th>\n",
       "    </tr>\n",
       "  </thead>\n",
       "  <tbody>\n",
       "    <tr>\n",
       "      <th>0</th>\n",
       "      <td>1</td>\n",
       "      <td>Кира</td>\n",
       "      <td>22</td>\n",
       "      <td>Тюмень</td>\n",
       "      <td>ultra</td>\n",
       "    </tr>\n",
       "    <tr>\n",
       "      <th>1</th>\n",
       "      <td>2</td>\n",
       "      <td>Станислав</td>\n",
       "      <td>31</td>\n",
       "      <td>Омск</td>\n",
       "      <td>ultra</td>\n",
       "    </tr>\n",
       "    <tr>\n",
       "      <th>2</th>\n",
       "      <td>3</td>\n",
       "      <td>Алексей</td>\n",
       "      <td>20</td>\n",
       "      <td>Москва</td>\n",
       "      <td>ultra</td>\n",
       "    </tr>\n",
       "    <tr>\n",
       "      <th>3</th>\n",
       "      <td>4</td>\n",
       "      <td>Константин</td>\n",
       "      <td>26</td>\n",
       "      <td>Ростов-на-Дону</td>\n",
       "      <td>ultra</td>\n",
       "    </tr>\n",
       "    <tr>\n",
       "      <th>4</th>\n",
       "      <td>5</td>\n",
       "      <td>Адель</td>\n",
       "      <td>28</td>\n",
       "      <td>Омск</td>\n",
       "      <td>ultra</td>\n",
       "    </tr>\n",
       "    <tr>\n",
       "      <th>5</th>\n",
       "      <td>6</td>\n",
       "      <td>Регина</td>\n",
       "      <td>25</td>\n",
       "      <td>Краснодар</td>\n",
       "      <td>ultra</td>\n",
       "    </tr>\n",
       "    <tr>\n",
       "      <th>6</th>\n",
       "      <td>7</td>\n",
       "      <td>Игорь</td>\n",
       "      <td>23</td>\n",
       "      <td>Омск</td>\n",
       "      <td>ultra</td>\n",
       "    </tr>\n",
       "    <tr>\n",
       "      <th>7</th>\n",
       "      <td>8</td>\n",
       "      <td>Юрий</td>\n",
       "      <td>23</td>\n",
       "      <td>Краснодар</td>\n",
       "      <td>ultra</td>\n",
       "    </tr>\n",
       "    <tr>\n",
       "      <th>8</th>\n",
       "      <td>9</td>\n",
       "      <td>Ян</td>\n",
       "      <td>21</td>\n",
       "      <td>Пятигорск</td>\n",
       "      <td>ultra</td>\n",
       "    </tr>\n",
       "    <tr>\n",
       "      <th>9</th>\n",
       "      <td>10</td>\n",
       "      <td>Валерий</td>\n",
       "      <td>18</td>\n",
       "      <td>Екатеринбург</td>\n",
       "      <td>ultra</td>\n",
       "    </tr>\n",
       "  </tbody>\n",
       "</table>\n",
       "</div>"
      ],
      "text/plain": [
       "   user_id        name  age            city subscription_type\n",
       "0        1        Кира   22          Тюмень             ultra\n",
       "1        2   Станислав   31            Омск             ultra\n",
       "2        3     Алексей   20          Москва             ultra\n",
       "3        4  Константин   26  Ростов-на-Дону             ultra\n",
       "4        5       Адель   28            Омск             ultra\n",
       "5        6      Регина   25       Краснодар             ultra\n",
       "6        7       Игорь   23            Омск             ultra\n",
       "7        8        Юрий   23       Краснодар             ultra\n",
       "8        9          Ян   21       Пятигорск             ultra\n",
       "9       10     Валерий   18    Екатеринбург             ultra"
      ]
     },
     "execution_count": 10,
     "metadata": {},
     "output_type": "execute_result"
    }
   ],
   "source": [
    "#Посмотрим явные пропуски датафрейме users\n",
    "users.head(10)"
   ]
  },
  {
   "cell_type": "markdown",
   "id": "f8e17ce2",
   "metadata": {},
   "source": [
    "Вывод первого этапа по датафрейме users.\n",
    "\n",
    "- уникальный идентификатор пользователя (user_id) представлен целыми числами (int),\n",
    "- имя пользователя (name) представленно строковыми значениями (object),\n",
    "- возраст (age) пользователя представлен целыми числами (int),\n",
    "- город (city) пользователя представлен строковыми значениями (object),\n",
    "- тип подписки (subscription_type) пользователя представлен строковыми значениями (object).\n",
    "\n",
    "Минимальный возраст пользователя 12 лет, средний возраст - 25 лет, максимальный возраст - 43 года.\n",
    "\n",
    "Нет пропущенных значений в данных о Пользователях (датафрейм users)."
   ]
  },
  {
   "cell_type": "markdown",
   "id": "034b0ea1",
   "metadata": {},
   "source": [
    "**Поездки — rides_go.csv**"
   ]
  },
  {
   "cell_type": "code",
   "execution_count": 11,
   "id": "0fdb8404",
   "metadata": {},
   "outputs": [
    {
     "name": "stdout",
     "output_type": "stream",
     "text": [
      "<class 'pandas.core.frame.DataFrame'>\n",
      "RangeIndex: 18068 entries, 0 to 18067\n",
      "Data columns (total 4 columns):\n",
      " #   Column    Non-Null Count  Dtype  \n",
      "---  ------    --------------  -----  \n",
      " 0   user_id   18068 non-null  int64  \n",
      " 1   distance  18068 non-null  float64\n",
      " 2   duration  18068 non-null  float64\n",
      " 3   date      18068 non-null  object \n",
      "dtypes: float64(2), int64(1), object(1)\n",
      "memory usage: 564.8+ KB\n"
     ]
    },
    {
     "data": {
      "text/plain": [
       "None"
      ]
     },
     "metadata": {},
     "output_type": "display_data"
    }
   ],
   "source": [
    "# Изучим общую информацию о датафрейме rides\n",
    "display(rides.info())"
   ]
  },
  {
   "cell_type": "code",
   "execution_count": 12,
   "id": "63335cb5",
   "metadata": {},
   "outputs": [
    {
     "data": {
      "text/html": [
       "<div>\n",
       "<style scoped>\n",
       "    .dataframe tbody tr th:only-of-type {\n",
       "        vertical-align: middle;\n",
       "    }\n",
       "\n",
       "    .dataframe tbody tr th {\n",
       "        vertical-align: top;\n",
       "    }\n",
       "\n",
       "    .dataframe thead th {\n",
       "        text-align: right;\n",
       "    }\n",
       "</style>\n",
       "<table border=\"1\" class=\"dataframe\">\n",
       "  <thead>\n",
       "    <tr style=\"text-align: right;\">\n",
       "      <th></th>\n",
       "      <th>user_id</th>\n",
       "      <th>distance</th>\n",
       "      <th>duration</th>\n",
       "    </tr>\n",
       "  </thead>\n",
       "  <tbody>\n",
       "    <tr>\n",
       "      <th>count</th>\n",
       "      <td>18068.000000</td>\n",
       "      <td>18068.000000</td>\n",
       "      <td>18068.000000</td>\n",
       "    </tr>\n",
       "    <tr>\n",
       "      <th>mean</th>\n",
       "      <td>842.869936</td>\n",
       "      <td>3070.659976</td>\n",
       "      <td>17.805011</td>\n",
       "    </tr>\n",
       "    <tr>\n",
       "      <th>std</th>\n",
       "      <td>434.734317</td>\n",
       "      <td>1116.831209</td>\n",
       "      <td>6.091051</td>\n",
       "    </tr>\n",
       "    <tr>\n",
       "      <th>min</th>\n",
       "      <td>1.000000</td>\n",
       "      <td>0.855683</td>\n",
       "      <td>0.500000</td>\n",
       "    </tr>\n",
       "    <tr>\n",
       "      <th>25%</th>\n",
       "      <td>487.000000</td>\n",
       "      <td>2543.226360</td>\n",
       "      <td>13.597563</td>\n",
       "    </tr>\n",
       "    <tr>\n",
       "      <th>50%</th>\n",
       "      <td>889.000000</td>\n",
       "      <td>3133.609994</td>\n",
       "      <td>17.678395</td>\n",
       "    </tr>\n",
       "    <tr>\n",
       "      <th>75%</th>\n",
       "      <td>1213.250000</td>\n",
       "      <td>3776.222735</td>\n",
       "      <td>21.724800</td>\n",
       "    </tr>\n",
       "    <tr>\n",
       "      <th>max</th>\n",
       "      <td>1534.000000</td>\n",
       "      <td>7211.007745</td>\n",
       "      <td>40.823963</td>\n",
       "    </tr>\n",
       "  </tbody>\n",
       "</table>\n",
       "</div>"
      ],
      "text/plain": [
       "            user_id      distance      duration\n",
       "count  18068.000000  18068.000000  18068.000000\n",
       "mean     842.869936   3070.659976     17.805011\n",
       "std      434.734317   1116.831209      6.091051\n",
       "min        1.000000      0.855683      0.500000\n",
       "25%      487.000000   2543.226360     13.597563\n",
       "50%      889.000000   3133.609994     17.678395\n",
       "75%     1213.250000   3776.222735     21.724800\n",
       "max     1534.000000   7211.007745     40.823963"
      ]
     },
     "execution_count": 12,
     "metadata": {},
     "output_type": "execute_result"
    }
   ],
   "source": [
    "#Посмотрим общую информацию о датафрейме rides по распределению значений в каждом столбце\n",
    "rides.describe()"
   ]
  },
  {
   "cell_type": "code",
   "execution_count": 13,
   "id": "abdc871b",
   "metadata": {},
   "outputs": [
    {
     "data": {
      "text/html": [
       "<div>\n",
       "<style scoped>\n",
       "    .dataframe tbody tr th:only-of-type {\n",
       "        vertical-align: middle;\n",
       "    }\n",
       "\n",
       "    .dataframe tbody tr th {\n",
       "        vertical-align: top;\n",
       "    }\n",
       "\n",
       "    .dataframe thead th {\n",
       "        text-align: right;\n",
       "    }\n",
       "</style>\n",
       "<table border=\"1\" class=\"dataframe\">\n",
       "  <thead>\n",
       "    <tr style=\"text-align: right;\">\n",
       "      <th></th>\n",
       "      <th>user_id</th>\n",
       "      <th>name</th>\n",
       "      <th>age</th>\n",
       "      <th>city</th>\n",
       "      <th>subscription_type</th>\n",
       "    </tr>\n",
       "  </thead>\n",
       "  <tbody>\n",
       "    <tr>\n",
       "      <th>0</th>\n",
       "      <td>1</td>\n",
       "      <td>Кира</td>\n",
       "      <td>22</td>\n",
       "      <td>Тюмень</td>\n",
       "      <td>ultra</td>\n",
       "    </tr>\n",
       "    <tr>\n",
       "      <th>1</th>\n",
       "      <td>2</td>\n",
       "      <td>Станислав</td>\n",
       "      <td>31</td>\n",
       "      <td>Омск</td>\n",
       "      <td>ultra</td>\n",
       "    </tr>\n",
       "    <tr>\n",
       "      <th>2</th>\n",
       "      <td>3</td>\n",
       "      <td>Алексей</td>\n",
       "      <td>20</td>\n",
       "      <td>Москва</td>\n",
       "      <td>ultra</td>\n",
       "    </tr>\n",
       "    <tr>\n",
       "      <th>3</th>\n",
       "      <td>4</td>\n",
       "      <td>Константин</td>\n",
       "      <td>26</td>\n",
       "      <td>Ростов-на-Дону</td>\n",
       "      <td>ultra</td>\n",
       "    </tr>\n",
       "    <tr>\n",
       "      <th>4</th>\n",
       "      <td>5</td>\n",
       "      <td>Адель</td>\n",
       "      <td>28</td>\n",
       "      <td>Омск</td>\n",
       "      <td>ultra</td>\n",
       "    </tr>\n",
       "    <tr>\n",
       "      <th>5</th>\n",
       "      <td>6</td>\n",
       "      <td>Регина</td>\n",
       "      <td>25</td>\n",
       "      <td>Краснодар</td>\n",
       "      <td>ultra</td>\n",
       "    </tr>\n",
       "    <tr>\n",
       "      <th>6</th>\n",
       "      <td>7</td>\n",
       "      <td>Игорь</td>\n",
       "      <td>23</td>\n",
       "      <td>Омск</td>\n",
       "      <td>ultra</td>\n",
       "    </tr>\n",
       "    <tr>\n",
       "      <th>7</th>\n",
       "      <td>8</td>\n",
       "      <td>Юрий</td>\n",
       "      <td>23</td>\n",
       "      <td>Краснодар</td>\n",
       "      <td>ultra</td>\n",
       "    </tr>\n",
       "    <tr>\n",
       "      <th>8</th>\n",
       "      <td>9</td>\n",
       "      <td>Ян</td>\n",
       "      <td>21</td>\n",
       "      <td>Пятигорск</td>\n",
       "      <td>ultra</td>\n",
       "    </tr>\n",
       "    <tr>\n",
       "      <th>9</th>\n",
       "      <td>10</td>\n",
       "      <td>Валерий</td>\n",
       "      <td>18</td>\n",
       "      <td>Екатеринбург</td>\n",
       "      <td>ultra</td>\n",
       "    </tr>\n",
       "  </tbody>\n",
       "</table>\n",
       "</div>"
      ],
      "text/plain": [
       "   user_id        name  age            city subscription_type\n",
       "0        1        Кира   22          Тюмень             ultra\n",
       "1        2   Станислав   31            Омск             ultra\n",
       "2        3     Алексей   20          Москва             ultra\n",
       "3        4  Константин   26  Ростов-на-Дону             ultra\n",
       "4        5       Адель   28            Омск             ultra\n",
       "5        6      Регина   25       Краснодар             ultra\n",
       "6        7       Игорь   23            Омск             ultra\n",
       "7        8        Юрий   23       Краснодар             ultra\n",
       "8        9          Ян   21       Пятигорск             ultra\n",
       "9       10     Валерий   18    Екатеринбург             ultra"
      ]
     },
     "execution_count": 13,
     "metadata": {},
     "output_type": "execute_result"
    }
   ],
   "source": [
    "#Посмотрим явные пропуски датафрейме rides\n",
    "users.head(10)"
   ]
  },
  {
   "cell_type": "markdown",
   "id": "f2db442c",
   "metadata": {},
   "source": [
    "Вывод первого этапа по датафрейм rides.\n",
    "\n",
    "- пользователь (user_id), представлен целыми числами (int),\n",
    "- расстояние поездки (distance), представлено вещественными числами (float),\n",
    "- продолжительность поездки в минутах (duration), представлена вещественными числами (float),\n",
    "- дата поездки (date), представлена строковыми значениями (object), а не datetime.\n",
    "\n",
    "Минимальное расстояние для сессии пользователя составляет 0,85 м., максимальное - 7211 м., среднее расстояние -3070 м. \n",
    "\n",
    "Минимальная продолжительность сессии пользователя составляет 0,5 мин., максимальное - 40 мин.\n",
    "\n",
    "Нет пропущенных значений  в данных о Поездках (датафрейм rides)."
   ]
  },
  {
   "cell_type": "markdown",
   "id": "c9c964c3",
   "metadata": {},
   "source": [
    "**Подписки — subscriptions_go.csv**"
   ]
  },
  {
   "cell_type": "code",
   "execution_count": 14,
   "id": "21c25512",
   "metadata": {},
   "outputs": [
    {
     "name": "stdout",
     "output_type": "stream",
     "text": [
      "<class 'pandas.core.frame.DataFrame'>\n",
      "RangeIndex: 2 entries, 0 to 1\n",
      "Data columns (total 4 columns):\n",
      " #   Column             Non-Null Count  Dtype \n",
      "---  ------             --------------  ----- \n",
      " 0   subscription_type  2 non-null      object\n",
      " 1   minute_price       2 non-null      int64 \n",
      " 2   start_ride_price   2 non-null      int64 \n",
      " 3   subscription_fee   2 non-null      int64 \n",
      "dtypes: int64(3), object(1)\n",
      "memory usage: 192.0+ bytes\n"
     ]
    },
    {
     "data": {
      "text/plain": [
       "None"
      ]
     },
     "metadata": {},
     "output_type": "display_data"
    }
   ],
   "source": [
    "# Изучим общую информацию о датафрейме subscriptions\n",
    "display(subs.info())"
   ]
  },
  {
   "cell_type": "code",
   "execution_count": 15,
   "id": "0190fac4",
   "metadata": {},
   "outputs": [
    {
     "data": {
      "text/html": [
       "<div>\n",
       "<style scoped>\n",
       "    .dataframe tbody tr th:only-of-type {\n",
       "        vertical-align: middle;\n",
       "    }\n",
       "\n",
       "    .dataframe tbody tr th {\n",
       "        vertical-align: top;\n",
       "    }\n",
       "\n",
       "    .dataframe thead th {\n",
       "        text-align: right;\n",
       "    }\n",
       "</style>\n",
       "<table border=\"1\" class=\"dataframe\">\n",
       "  <thead>\n",
       "    <tr style=\"text-align: right;\">\n",
       "      <th></th>\n",
       "      <th>minute_price</th>\n",
       "      <th>start_ride_price</th>\n",
       "      <th>subscription_fee</th>\n",
       "    </tr>\n",
       "  </thead>\n",
       "  <tbody>\n",
       "    <tr>\n",
       "      <th>count</th>\n",
       "      <td>2.000000</td>\n",
       "      <td>2.000000</td>\n",
       "      <td>2.000000</td>\n",
       "    </tr>\n",
       "    <tr>\n",
       "      <th>mean</th>\n",
       "      <td>7.000000</td>\n",
       "      <td>25.000000</td>\n",
       "      <td>99.500000</td>\n",
       "    </tr>\n",
       "    <tr>\n",
       "      <th>std</th>\n",
       "      <td>1.414214</td>\n",
       "      <td>35.355339</td>\n",
       "      <td>140.714249</td>\n",
       "    </tr>\n",
       "    <tr>\n",
       "      <th>min</th>\n",
       "      <td>6.000000</td>\n",
       "      <td>0.000000</td>\n",
       "      <td>0.000000</td>\n",
       "    </tr>\n",
       "    <tr>\n",
       "      <th>25%</th>\n",
       "      <td>6.500000</td>\n",
       "      <td>12.500000</td>\n",
       "      <td>49.750000</td>\n",
       "    </tr>\n",
       "    <tr>\n",
       "      <th>50%</th>\n",
       "      <td>7.000000</td>\n",
       "      <td>25.000000</td>\n",
       "      <td>99.500000</td>\n",
       "    </tr>\n",
       "    <tr>\n",
       "      <th>75%</th>\n",
       "      <td>7.500000</td>\n",
       "      <td>37.500000</td>\n",
       "      <td>149.250000</td>\n",
       "    </tr>\n",
       "    <tr>\n",
       "      <th>max</th>\n",
       "      <td>8.000000</td>\n",
       "      <td>50.000000</td>\n",
       "      <td>199.000000</td>\n",
       "    </tr>\n",
       "  </tbody>\n",
       "</table>\n",
       "</div>"
      ],
      "text/plain": [
       "       minute_price  start_ride_price  subscription_fee\n",
       "count      2.000000          2.000000          2.000000\n",
       "mean       7.000000         25.000000         99.500000\n",
       "std        1.414214         35.355339        140.714249\n",
       "min        6.000000          0.000000          0.000000\n",
       "25%        6.500000         12.500000         49.750000\n",
       "50%        7.000000         25.000000         99.500000\n",
       "75%        7.500000         37.500000        149.250000\n",
       "max        8.000000         50.000000        199.000000"
      ]
     },
     "execution_count": 15,
     "metadata": {},
     "output_type": "execute_result"
    }
   ],
   "source": [
    "#Посмотрим общую информацию о датафрейме subscriptions по распределению значений в каждом столбце\n",
    "subs.describe()"
   ]
  },
  {
   "cell_type": "code",
   "execution_count": 16,
   "id": "7973894b",
   "metadata": {},
   "outputs": [
    {
     "data": {
      "text/html": [
       "<div>\n",
       "<style scoped>\n",
       "    .dataframe tbody tr th:only-of-type {\n",
       "        vertical-align: middle;\n",
       "    }\n",
       "\n",
       "    .dataframe tbody tr th {\n",
       "        vertical-align: top;\n",
       "    }\n",
       "\n",
       "    .dataframe thead th {\n",
       "        text-align: right;\n",
       "    }\n",
       "</style>\n",
       "<table border=\"1\" class=\"dataframe\">\n",
       "  <thead>\n",
       "    <tr style=\"text-align: right;\">\n",
       "      <th></th>\n",
       "      <th>subscription_type</th>\n",
       "      <th>minute_price</th>\n",
       "      <th>start_ride_price</th>\n",
       "      <th>subscription_fee</th>\n",
       "    </tr>\n",
       "  </thead>\n",
       "  <tbody>\n",
       "    <tr>\n",
       "      <th>0</th>\n",
       "      <td>free</td>\n",
       "      <td>8</td>\n",
       "      <td>50</td>\n",
       "      <td>0</td>\n",
       "    </tr>\n",
       "    <tr>\n",
       "      <th>1</th>\n",
       "      <td>ultra</td>\n",
       "      <td>6</td>\n",
       "      <td>0</td>\n",
       "      <td>199</td>\n",
       "    </tr>\n",
       "  </tbody>\n",
       "</table>\n",
       "</div>"
      ],
      "text/plain": [
       "  subscription_type  minute_price  start_ride_price  subscription_fee\n",
       "0              free             8                50                 0\n",
       "1             ultra             6                 0               199"
      ]
     },
     "execution_count": 16,
     "metadata": {},
     "output_type": "execute_result"
    }
   ],
   "source": [
    "#Посмотрим явные пропуски датафрейме subscriptions\n",
    "subs.head(10)"
   ]
  },
  {
   "cell_type": "markdown",
   "id": "d62a8822",
   "metadata": {},
   "source": [
    "Вывод первого этапа для датафрейм subscriptions.\n",
    "\n",
    "- тип подписки (subscription_type) представлен строковыми значениями (object), \n",
    "- стоимость одной минуты поездки по данной подписке (minute_price) представлена  целыми числами (int),\n",
    "- стоимость начала поездки (start_ride_price)представлена  целыми числами (int),\n",
    "- стоимость ежемесячного платежа (subscription_fee)представлена  целыми числами (int).\n",
    "\n",
    "Минимальная стоимость одной минуты составляет 6 руб., максимальная - 8 руб., среднее значение - 7 руб..\n",
    "\n",
    "Минимальная стоимость ежемесячного платежа составлет 0 руб., максимальняа - 199 руб., среднее значение - 99,5 руб..\n",
    "\n",
    "Пропусков данных в данных о Подписках (датафрейм subscriptions) нет."
   ]
  },
  {
   "cell_type": "markdown",
   "id": "c9668dc3",
   "metadata": {},
   "source": [
    "**Вывод первого шага**."
   ]
  },
  {
   "cell_type": "markdown",
   "id": "58ea4c08",
   "metadata": {},
   "source": [
    "Пользователи — users_go.csv:\n",
    "- уникальный идентификатор пользователя (user_id) представлен целыми числами (int),\n",
    "- имя пользователя (name) представленно строковыми значениями (object),\n",
    "- возраст (age) пользователя представлен целыми числами (int),\n",
    "- город (city) пользователя представлен строковыми значениями (object),\n",
    "- тип подписки (subscription_type) пользователя представлен строковыми значениями (object).\n",
    "\n",
    "Поездки — rides_go.csv:\n",
    "- пользователь (user_id), представлен целыми числами (int),\n",
    "- расстояние поездки (distance), представлено вещественными числами (float),\n",
    "- продолжительность поездки в минутах (duration), представлена вещественными числами (float),\n",
    "- дата поездки (date), представлена строковыми значениями (object), а не datetime.\n",
    "\n",
    "Подписки — subscriptions_go.csv:\n",
    "- тип подписки (subscription_type) представлен строковыми значениями (object),\n",
    "- стоимость одной минуты поездки по данной подписке (minute_price) представлена целыми числами (int),\n",
    "- стоимость начала поездки (start_ride_price)представлена целыми числами (int),\n",
    "- стоимость ежемесячного платежа (subscription_fee)представлена целыми числами (int).\n",
    "\n",
    "\n",
    "Минимальная стоимость одной минуты составляет 6 руб., максимальная - 8 руб., среднее значение - 7 руб..\n",
    "Минимальная стоимость ежемесячного платежа составлет 0 руб., максимальняа - 199 руб., среднее значение - 99,5 руб..\n",
    "Минимальное расстояние для сессии пользователя составляет 0,85 м., максимальное - 7211 м., среднее расстояние -3070 м. \n",
    "Минимальная продолжительность сессии пользователя составляет 0,5 мин., максимальное - 40 мин.\n",
    "Минимальный возраст пользователя 12 лет, средний возраст - 25 лет, максимальный возраст - 43 года.\n",
    "\n",
    "\n",
    "Все датафреймы загрузились без ошибок. В данных отсутствуют пропуски.\n",
    "\n"
   ]
  },
  {
   "cell_type": "markdown",
   "id": "1c5c679e",
   "metadata": {},
   "source": [
    "## Шаг. Предобработка данных"
   ]
  },
  {
   "cell_type": "markdown",
   "id": "7766fcc1",
   "metadata": {},
   "source": [
    "### Приведем столбец date к типу даты pandas."
   ]
  },
  {
   "cell_type": "code",
   "execution_count": 17,
   "id": "cc1e266a",
   "metadata": {},
   "outputs": [],
   "source": [
    "# Преобразование столбца 'date' в тип datetime\n",
    "rides['date'] = pd.to_datetime(rides['date'])"
   ]
  },
  {
   "cell_type": "code",
   "execution_count": 18,
   "id": "ca904baf",
   "metadata": {},
   "outputs": [
    {
     "name": "stdout",
     "output_type": "stream",
     "text": [
      "<class 'pandas.core.frame.DataFrame'>\n",
      "RangeIndex: 18068 entries, 0 to 18067\n",
      "Data columns (total 4 columns):\n",
      " #   Column    Non-Null Count  Dtype         \n",
      "---  ------    --------------  -----         \n",
      " 0   user_id   18068 non-null  int64         \n",
      " 1   distance  18068 non-null  float64       \n",
      " 2   duration  18068 non-null  float64       \n",
      " 3   date      18068 non-null  datetime64[ns]\n",
      "dtypes: datetime64[ns](1), float64(2), int64(1)\n",
      "memory usage: 564.8 KB\n"
     ]
    },
    {
     "data": {
      "text/plain": [
       "None"
      ]
     },
     "metadata": {},
     "output_type": "display_data"
    }
   ],
   "source": [
    "# Проверим проведенную замену типа в датафрейме rides\n",
    "display(rides.info())"
   ]
  },
  {
   "cell_type": "markdown",
   "id": "0854e797",
   "metadata": {},
   "source": [
    "### Создадим новый столбец с номером месяца на основе столбца date."
   ]
  },
  {
   "cell_type": "code",
   "execution_count": 19,
   "id": "73bfc80a",
   "metadata": {},
   "outputs": [
    {
     "data": {
      "text/html": [
       "<div>\n",
       "<style scoped>\n",
       "    .dataframe tbody tr th:only-of-type {\n",
       "        vertical-align: middle;\n",
       "    }\n",
       "\n",
       "    .dataframe tbody tr th {\n",
       "        vertical-align: top;\n",
       "    }\n",
       "\n",
       "    .dataframe thead th {\n",
       "        text-align: right;\n",
       "    }\n",
       "</style>\n",
       "<table border=\"1\" class=\"dataframe\">\n",
       "  <thead>\n",
       "    <tr style=\"text-align: right;\">\n",
       "      <th></th>\n",
       "      <th>user_id</th>\n",
       "      <th>distance</th>\n",
       "      <th>duration</th>\n",
       "      <th>date</th>\n",
       "      <th>month</th>\n",
       "    </tr>\n",
       "  </thead>\n",
       "  <tbody>\n",
       "    <tr>\n",
       "      <th>0</th>\n",
       "      <td>1</td>\n",
       "      <td>4409.919140</td>\n",
       "      <td>25.599769</td>\n",
       "      <td>2021-01-01</td>\n",
       "      <td>1</td>\n",
       "    </tr>\n",
       "    <tr>\n",
       "      <th>1</th>\n",
       "      <td>1</td>\n",
       "      <td>2617.592153</td>\n",
       "      <td>15.816871</td>\n",
       "      <td>2021-01-18</td>\n",
       "      <td>1</td>\n",
       "    </tr>\n",
       "    <tr>\n",
       "      <th>2</th>\n",
       "      <td>1</td>\n",
       "      <td>754.159807</td>\n",
       "      <td>6.232113</td>\n",
       "      <td>2021-04-20</td>\n",
       "      <td>4</td>\n",
       "    </tr>\n",
       "    <tr>\n",
       "      <th>3</th>\n",
       "      <td>1</td>\n",
       "      <td>2694.783254</td>\n",
       "      <td>18.511000</td>\n",
       "      <td>2021-08-11</td>\n",
       "      <td>8</td>\n",
       "    </tr>\n",
       "    <tr>\n",
       "      <th>4</th>\n",
       "      <td>1</td>\n",
       "      <td>4028.687306</td>\n",
       "      <td>26.265803</td>\n",
       "      <td>2021-08-28</td>\n",
       "      <td>8</td>\n",
       "    </tr>\n",
       "  </tbody>\n",
       "</table>\n",
       "</div>"
      ],
      "text/plain": [
       "   user_id     distance   duration       date  month\n",
       "0        1  4409.919140  25.599769 2021-01-01      1\n",
       "1        1  2617.592153  15.816871 2021-01-18      1\n",
       "2        1   754.159807   6.232113 2021-04-20      4\n",
       "3        1  2694.783254  18.511000 2021-08-11      8\n",
       "4        1  4028.687306  26.265803 2021-08-28      8"
      ]
     },
     "execution_count": 19,
     "metadata": {},
     "output_type": "execute_result"
    }
   ],
   "source": [
    "#Добавим столбец month - месяц  \n",
    "rides['month'] = rides['date'].dt.month \n",
    "rides.head()"
   ]
  },
  {
   "cell_type": "markdown",
   "id": "286233c9",
   "metadata": {},
   "source": [
    "Проверим, за какой период имеются данные.\n"
   ]
  },
  {
   "cell_type": "code",
   "execution_count": 20,
   "id": "152534b6",
   "metadata": {},
   "outputs": [
    {
     "name": "stdout",
     "output_type": "stream",
     "text": [
      "Минимальная дата: 2021-01-01 00:00:00\n",
      "Максимальная дата: 2021-12-30 00:00:00\n"
     ]
    }
   ],
   "source": [
    "# Определение минимальной и максимальной даты в датафрейме\n",
    "min_date = rides['date'].min()\n",
    "max_date = rides['date'].max()\n",
    "\n",
    "print(\"Минимальная дата:\", min_date)\n",
    "print(\"Максимальная дата:\", max_date)"
   ]
  },
  {
   "cell_type": "markdown",
   "id": "7cd47e6b",
   "metadata": {},
   "source": [
    "Данные в датафрейм rides взяты за период с 01.01.2021 по 30.12.2021."
   ]
  },
  {
   "cell_type": "markdown",
   "id": "50967dfe",
   "metadata": {},
   "source": [
    "2.3. Проверим наличие пропущенных значений и дубликатов в датафреймах. Обработаем их, если такие значения присутствуют."
   ]
  },
  {
   "cell_type": "markdown",
   "id": "9341c6aa",
   "metadata": {},
   "source": [
    "**Пользователи — users_go.csv**"
   ]
  },
  {
   "cell_type": "markdown",
   "id": "f650083a",
   "metadata": {},
   "source": [
    "- user_id - уникальный идентификатор пользователя,\n",
    "- name - имя пользователя,\n",
    "- age - возраст,\n",
    "- city - город,\n",
    "- subscription_type - тип подписки (free, ultra)."
   ]
  },
  {
   "cell_type": "code",
   "execution_count": 21,
   "id": "bbfb06c2",
   "metadata": {},
   "outputs": [
    {
     "data": {
      "text/plain": [
       "user_id              0\n",
       "name                 0\n",
       "age                  0\n",
       "city                 0\n",
       "subscription_type    0\n",
       "dtype: int64"
      ]
     },
     "execution_count": 21,
     "metadata": {},
     "output_type": "execute_result"
    }
   ],
   "source": [
    "#Выведем количество пропущенных значений для каждого столбца датафрейме users\n",
    "users.isna().sum()"
   ]
  },
  {
   "cell_type": "code",
   "execution_count": 22,
   "id": "03d70106",
   "metadata": {},
   "outputs": [
    {
     "data": {
      "text/plain": [
       "31"
      ]
     },
     "execution_count": 22,
     "metadata": {},
     "output_type": "execute_result"
    }
   ],
   "source": [
    "# Проверим количество явных дубликатов датафрейме users\n",
    "users.duplicated().sum()"
   ]
  },
  {
   "cell_type": "code",
   "execution_count": 23,
   "id": "f74fba06",
   "metadata": {},
   "outputs": [
    {
     "name": "stdout",
     "output_type": "stream",
     "text": [
      "Количество явных дубликатов в датафрейме users: 0\n"
     ]
    }
   ],
   "source": [
    "#Удалим дубликаты в датафрейме users\n",
    "users = users.drop_duplicates()\n",
    "print('Количество явных дубликатов в датафрейме users:', users.duplicated().sum())"
   ]
  },
  {
   "cell_type": "markdown",
   "id": "bacfb930",
   "metadata": {},
   "source": [
    "Пропущенные значения и явные дубликаты в данных о Пользователях (датафрейм users) отсутствуют."
   ]
  },
  {
   "cell_type": "markdown",
   "id": "a29a6d3d",
   "metadata": {},
   "source": [
    "**Поездки — rides_go.csv**"
   ]
  },
  {
   "cell_type": "markdown",
   "id": "a674bc74",
   "metadata": {},
   "source": [
    "- user_id - уникальный идентификатор пользователя,\n",
    "- distance - расстояние, которое пользователь проехал в текущей сессии (в метрах),\n",
    "- duration - продолжительность сессии (в минутах) — время с того момента, как пользователь нажал кнопку «Начать поездку» до момента, как он нажал кнопку «Завершить поездку»,\n",
    "- date - дата совершения поездки."
   ]
  },
  {
   "cell_type": "code",
   "execution_count": 24,
   "id": "1363e186",
   "metadata": {},
   "outputs": [
    {
     "data": {
      "text/plain": [
       "user_id     0\n",
       "distance    0\n",
       "duration    0\n",
       "date        0\n",
       "month       0\n",
       "dtype: int64"
      ]
     },
     "execution_count": 24,
     "metadata": {},
     "output_type": "execute_result"
    }
   ],
   "source": [
    "#Выведем количество пропущенных значений для каждого столбца датафрейме rides\n",
    "rides.isna().sum()"
   ]
  },
  {
   "cell_type": "code",
   "execution_count": 25,
   "id": "fccbd165",
   "metadata": {},
   "outputs": [
    {
     "data": {
      "text/plain": [
       "0"
      ]
     },
     "execution_count": 25,
     "metadata": {},
     "output_type": "execute_result"
    }
   ],
   "source": [
    "# Проверим количество явных дубликатов датафрейме rides\n",
    "rides.duplicated().sum()"
   ]
  },
  {
   "cell_type": "markdown",
   "id": "29a6d8fe",
   "metadata": {},
   "source": [
    "Пропущенные значения и явные дубликаты в данных о Поездках (датафрейм rides) отсутствуют."
   ]
  },
  {
   "cell_type": "markdown",
   "id": "c975c51e",
   "metadata": {},
   "source": [
    "**Подписки — subscriptions_go.csv**"
   ]
  },
  {
   "cell_type": "markdown",
   "id": "f5bb6237",
   "metadata": {},
   "source": [
    "- subscription_type - тип подписки,\n",
    "- minute_price - стоимость одной минуты поездки по данной подписке,\n",
    "- start_ride_price - стоимость начала поездки,\n",
    "- subscription_fee - стоимость ежемесячного платежа."
   ]
  },
  {
   "cell_type": "code",
   "execution_count": 26,
   "id": "dbe8a41f",
   "metadata": {},
   "outputs": [
    {
     "data": {
      "text/plain": [
       "subscription_type    0\n",
       "minute_price         0\n",
       "start_ride_price     0\n",
       "subscription_fee     0\n",
       "dtype: int64"
      ]
     },
     "execution_count": 26,
     "metadata": {},
     "output_type": "execute_result"
    }
   ],
   "source": [
    "#Выведем количество пропущенных значений для каждого столбца датафрейме subs\n",
    "subs.isna().sum()"
   ]
  },
  {
   "cell_type": "code",
   "execution_count": 27,
   "id": "65ddd619",
   "metadata": {},
   "outputs": [
    {
     "data": {
      "text/plain": [
       "0"
      ]
     },
     "execution_count": 27,
     "metadata": {},
     "output_type": "execute_result"
    }
   ],
   "source": [
    "# Проверим количество явных дубликатов датафрейме subs\n",
    "rides.duplicated().sum()"
   ]
  },
  {
   "cell_type": "markdown",
   "id": "c5b9c6fb",
   "metadata": {},
   "source": [
    "Пропущенные значения и явные дубликаты в данных о Подписках (датафрейм subs) отсутствуют."
   ]
  },
  {
   "cell_type": "markdown",
   "id": "3415debe",
   "metadata": {},
   "source": [
    "**Вывод второго шага.**"
   ]
  },
  {
   "cell_type": "markdown",
   "id": "a623f978",
   "metadata": {},
   "source": [
    "- Провели предобработку данных.\n",
    "- Обнаружили и удалили дубликаты в датафрейме Пользователи.\n",
    "- Изменили тип в столбце date на datetime.\n",
    "- Создали новый столбец month с номером месяца на основе столбца date."
   ]
  },
  {
   "cell_type": "markdown",
   "id": "4d1d8732",
   "metadata": {},
   "source": [
    "## Шаг. Исследовательский анализ данных"
   ]
  },
  {
   "cell_type": "markdown",
   "id": "6c7b47ae",
   "metadata": {},
   "source": [
    "Опишем и визуализируем общую информацию о пользователях и поездках."
   ]
  },
  {
   "cell_type": "markdown",
   "id": "da482633",
   "metadata": {},
   "source": [
    "###  Опишем и визуализируем частоту встречаемости городов."
   ]
  },
  {
   "cell_type": "code",
   "execution_count": 28,
   "id": "ce99999c",
   "metadata": {},
   "outputs": [
    {
     "name": "stdout",
     "output_type": "stream",
     "text": [
      "Список уникальных наименований населенных пунктов: 8\n",
      "Пятигорск         219\n",
      "Екатеринбург      204\n",
      "Ростов-на-Дону    198\n",
      "Краснодар         193\n",
      "Сочи              189\n",
      "Омск              183\n",
      "Тюмень            180\n",
      "Москва            168\n",
      "Name: city, dtype: int64\n"
     ]
    }
   ],
   "source": [
    "#Оценим данные в столбце city\n",
    "print('Список уникальных наименований населенных пунктов:', len(users['city'].unique()))\n",
    "print(users['city'].value_counts())"
   ]
  },
  {
   "cell_type": "code",
   "execution_count": 29,
   "id": "86b6d678",
   "metadata": {},
   "outputs": [
    {
     "data": {
      "image/png": "[encoded data removed]",
      "text/plain": [
       "<Figure size 432x216 with 1 Axes>"
      ]
     },
     "metadata": {
      "needs_background": "light"
     },
     "output_type": "display_data"
    }
   ],
   "source": [
    "#Выведем горизонтальную столбчатую диаграмму\n",
    "users_city = users.pivot_table(index='city', values='user_id', aggfunc='count')\n",
    "users_city = users_city.sort_values(by='user_id', ascending=True)\n",
    "users_city.plot(kind='barh', figsize=(6, 3), grid=True)\n",
    "plt.title('Частота встречаемости городов')\n",
    "plt.xlabel('Количество пользователей')\n",
    "plt.ylabel('Города')\n",
    "plt.legend(loc='lower left')\n",
    "plt.show()\n"
   ]
  },
  {
   "cell_type": "code",
   "execution_count": 30,
   "id": "2e50ace6",
   "metadata": {},
   "outputs": [
    {
     "data": {
      "text/html": [
       "<div>\n",
       "<style scoped>\n",
       "    .dataframe tbody tr th:only-of-type {\n",
       "        vertical-align: middle;\n",
       "    }\n",
       "\n",
       "    .dataframe tbody tr th {\n",
       "        vertical-align: top;\n",
       "    }\n",
       "\n",
       "    .dataframe thead th {\n",
       "        text-align: right;\n",
       "    }\n",
       "</style>\n",
       "<table border=\"1\" class=\"dataframe\">\n",
       "  <thead>\n",
       "    <tr style=\"text-align: right;\">\n",
       "      <th></th>\n",
       "      <th>user_id</th>\n",
       "    </tr>\n",
       "    <tr>\n",
       "      <th>city</th>\n",
       "      <th></th>\n",
       "    </tr>\n",
       "  </thead>\n",
       "  <tbody>\n",
       "    <tr>\n",
       "      <th>Пятигорск</th>\n",
       "      <td>219</td>\n",
       "    </tr>\n",
       "    <tr>\n",
       "      <th>Екатеринбург</th>\n",
       "      <td>204</td>\n",
       "    </tr>\n",
       "    <tr>\n",
       "      <th>Ростов-на-Дону</th>\n",
       "      <td>198</td>\n",
       "    </tr>\n",
       "    <tr>\n",
       "      <th>Краснодар</th>\n",
       "      <td>193</td>\n",
       "    </tr>\n",
       "    <tr>\n",
       "      <th>Сочи</th>\n",
       "      <td>189</td>\n",
       "    </tr>\n",
       "    <tr>\n",
       "      <th>Омск</th>\n",
       "      <td>183</td>\n",
       "    </tr>\n",
       "    <tr>\n",
       "      <th>Тюмень</th>\n",
       "      <td>180</td>\n",
       "    </tr>\n",
       "    <tr>\n",
       "      <th>Москва</th>\n",
       "      <td>168</td>\n",
       "    </tr>\n",
       "  </tbody>\n",
       "</table>\n",
       "</div>"
      ],
      "text/plain": [
       "                user_id\n",
       "city                   \n",
       "Пятигорск           219\n",
       "Екатеринбург        204\n",
       "Ростов-на-Дону      198\n",
       "Краснодар           193\n",
       "Сочи                189\n",
       "Омск                183\n",
       "Тюмень              180\n",
       "Москва              168"
      ]
     },
     "metadata": {},
     "output_type": "display_data"
    }
   ],
   "source": [
    "#Отсортирует пользователей в порядке убывания \n",
    "display(users_city.sort_values(by='user_id', ascending = False))"
   ]
  },
  {
   "cell_type": "markdown",
   "id": "a9c5cd4d",
   "metadata": {},
   "source": [
    "Информация предоставлена по 8 городам, из которых самое большое количество пользователей в Пятигорске (219 пользователей), наименьшее количество - в Москве (168 пользователй)."
   ]
  },
  {
   "cell_type": "markdown",
   "id": "606959d0",
   "metadata": {},
   "source": [
    "### Опишем и визуализируем соотношение пользователей с подпиской и без подписки."
   ]
  },
  {
   "cell_type": "code",
   "execution_count": 31,
   "id": "2e437f94",
   "metadata": {},
   "outputs": [
    {
     "data": {
      "image/png": "[encoded data removed]",
      "text/plain": [
       "<Figure size 432x144 with 1 Axes>"
      ]
     },
     "metadata": {
      "needs_background": "light"
     },
     "output_type": "display_data"
    }
   ],
   "source": [
    "#Создадим горизонтальную столбчатую диаграмму с соотношением пользователей с разными типами подписок\n",
    "users_subscriptions = users.pivot_table(index = 'subscription_type', values = 'user_id', aggfunc = 'count').reset_index()\n",
    "users_subscriptions.plot(x = 'subscription_type', kind='barh', figsize = (6,2), grid = True )\n",
    "plt.title('Соотношение пользователей с типом подписки')\n",
    "plt.xlabel('Количество пользователей')\n",
    "plt.ylabel('Тип подписки')\n",
    "plt.show()"
   ]
  },
  {
   "cell_type": "markdown",
   "id": "1c9950f4",
   "metadata": {},
   "source": [
    "Создадим круговую диаграмму с отображением соотношения групп пользователей."
   ]
  },
  {
   "cell_type": "code",
   "execution_count": 32,
   "id": "e8c53de5",
   "metadata": {},
   "outputs": [
    {
     "data": {
      "image/png": "[encoded data removed]",
      "text/plain": [
       "<Figure size 432x432 with 1 Axes>"
      ]
     },
     "metadata": {},
     "output_type": "display_data"
    }
   ],
   "source": [
    "labels = users_subscriptions['subscription_type']\n",
    "# Создание данных для круговой диаграммы\n",
    "sizes = users_subscriptions['user_id']\n",
    "\n",
    "# Создание круговой диаграммы\n",
    "plt.figure(figsize=(6, 6))\n",
    "plt.pie(sizes, labels=labels, autopct='%1.1f%%', startangle=140)\n",
    "plt.title('Соотношение пользователей с типом подписки')\n",
    "plt.axis('equal')  \n",
    "\n",
    "# Отображение круговой диаграммы\n",
    "plt.show()"
   ]
  },
  {
   "cell_type": "code",
   "execution_count": 33,
   "id": "d3b1b3b2",
   "metadata": {},
   "outputs": [
    {
     "data": {
      "text/html": [
       "<div>\n",
       "<style scoped>\n",
       "    .dataframe tbody tr th:only-of-type {\n",
       "        vertical-align: middle;\n",
       "    }\n",
       "\n",
       "    .dataframe tbody tr th {\n",
       "        vertical-align: top;\n",
       "    }\n",
       "\n",
       "    .dataframe thead th {\n",
       "        text-align: right;\n",
       "    }\n",
       "</style>\n",
       "<table border=\"1\" class=\"dataframe\">\n",
       "  <thead>\n",
       "    <tr style=\"text-align: right;\">\n",
       "      <th></th>\n",
       "      <th>subscription_type</th>\n",
       "      <th>user_id</th>\n",
       "    </tr>\n",
       "  </thead>\n",
       "  <tbody>\n",
       "    <tr>\n",
       "      <th>0</th>\n",
       "      <td>free</td>\n",
       "      <td>835</td>\n",
       "    </tr>\n",
       "    <tr>\n",
       "      <th>1</th>\n",
       "      <td>ultra</td>\n",
       "      <td>699</td>\n",
       "    </tr>\n",
       "  </tbody>\n",
       "</table>\n",
       "</div>"
      ],
      "text/plain": [
       "  subscription_type  user_id\n",
       "0              free      835\n",
       "1             ultra      699"
      ]
     },
     "metadata": {},
     "output_type": "display_data"
    }
   ],
   "source": [
    "display(users_subscriptions)"
   ]
  },
  {
   "cell_type": "markdown",
   "id": "3a90b61d",
   "metadata": {},
   "source": [
    "Пользователей с типом подписки \"без подписки\" больше (835 или 54.4% подписчиков), чем с \"с подпиской Ultra\" (699 или 45.6% подписчиков)."
   ]
  },
  {
   "cell_type": "markdown",
   "id": "c59b5c81",
   "metadata": {},
   "source": [
    "### Опишем и визуализируем возраст пользователей."
   ]
  },
  {
   "cell_type": "code",
   "execution_count": 34,
   "id": "a821e432",
   "metadata": {},
   "outputs": [
    {
     "data": {
      "image/png": "[encoded data removed]",
      "text/plain": [
       "<Figure size 504x216 with 1 Axes>"
      ]
     },
     "metadata": {
      "needs_background": "light"
     },
     "output_type": "display_data"
    }
   ],
   "source": [
    "#Создадим гистограмму, которая покажет распределение возраста пользователей\n",
    "users['age'].plot(kind = 'hist', grid=True, figsize = (7,3), bins = 30)\n",
    "plt.title('Возраст пользователей')\n",
    "plt.xlabel('Возраст')\n",
    "plt.ylabel('Количество пользователей')\n",
    "plt.show()"
   ]
  },
  {
   "cell_type": "code",
   "execution_count": 35,
   "id": "493a6a87",
   "metadata": {},
   "outputs": [
    {
     "data": {
      "text/plain": [
       "count    1534.000000\n",
       "mean       24.903520\n",
       "std         4.572367\n",
       "min        12.000000\n",
       "25%        22.000000\n",
       "50%        25.000000\n",
       "75%        28.000000\n",
       "max        43.000000\n",
       "Name: age, dtype: float64"
      ]
     },
     "execution_count": 35,
     "metadata": {},
     "output_type": "execute_result"
    }
   ],
   "source": [
    "users['age'].describe()"
   ]
  },
  {
   "cell_type": "markdown",
   "id": "3e01e0aa",
   "metadata": {},
   "source": [
    "Наименьший возраст пользователя - 12 лет, наибольший возраст - 43 года, средний возраст 24,9 лет. Медиана 25 лет и средний возраст 24,9 лет практически совпадают."
   ]
  },
  {
   "cell_type": "markdown",
   "id": "5856b89d",
   "metadata": {},
   "source": [
    "### Опишем и визуализируем расстояние, которое пользователь преодолел за одну поездку."
   ]
  },
  {
   "cell_type": "code",
   "execution_count": 36,
   "id": "9be0bee7",
   "metadata": {},
   "outputs": [
    {
     "data": {
      "image/png": "[encoded data removed]",
      "text/plain": [
       "<Figure size 504x216 with 1 Axes>"
      ]
     },
     "metadata": {
      "needs_background": "light"
     },
     "output_type": "display_data"
    }
   ],
   "source": [
    "#Создадим гистограмму, которая покажет расстояние, которое преодолел пользователь за одну сессию\n",
    "rides['distance'].plot(kind = 'hist', grid=True, figsize = (7,3), bins = 30)\n",
    "plt.title('Расстояние одной сессии')\n",
    "plt.xlabel('Расстояние, метры')\n",
    "plt.ylabel('Количество пользователей')\n",
    "plt.show()"
   ]
  },
  {
   "cell_type": "code",
   "execution_count": 37,
   "id": "f6b6eb6f",
   "metadata": {},
   "outputs": [
    {
     "data": {
      "image/png": "[encoded data removed]",
      "text/plain": [
       "<Figure size 504x216 with 1 Axes>"
      ]
     },
     "metadata": {
      "needs_background": "light"
     },
     "output_type": "display_data"
    }
   ],
   "source": [
    "# Создаем ящик с усами для расстояний одной сессии\n",
    "plt.figure(figsize=(7, 3))\n",
    "plt.boxplot(rides['distance'], vert=False)\n",
    "\n",
    "plt.title('Расстояние одной сессии')\n",
    "plt.xlabel('Расстояние, метры')\n",
    "plt.ylabel('Количество пользователей')\n",
    "plt.show()"
   ]
  },
  {
   "cell_type": "code",
   "execution_count": 38,
   "id": "f3ca6e39",
   "metadata": {},
   "outputs": [
    {
     "data": {
      "image/png": "[encoded data removed]",
      "text/plain": [
       "<Figure size 432x288 with 1 Axes>"
      ]
     },
     "metadata": {
      "needs_background": "light"
     },
     "output_type": "display_data"
    }
   ],
   "source": [
    "rides['distance'].hist()\n",
    "plt.title('Расстояние одной сессии')\n",
    "plt.xlabel('Расстояние, метры')\n",
    "plt.ylabel('Количество пользователей')\n",
    "plt.show()"
   ]
  },
  {
   "cell_type": "code",
   "execution_count": 39,
   "id": "ca9b7b60",
   "metadata": {},
   "outputs": [
    {
     "data": {
      "text/plain": [
       "count    18068.000000\n",
       "mean      3070.659976\n",
       "std       1116.831209\n",
       "min          0.855683\n",
       "25%       2543.226360\n",
       "50%       3133.609994\n",
       "75%       3776.222735\n",
       "max       7211.007745\n",
       "Name: distance, dtype: float64"
      ]
     },
     "execution_count": 39,
     "metadata": {},
     "output_type": "execute_result"
    }
   ],
   "source": [
    "rides['distance'].describe()"
   ]
  },
  {
   "cell_type": "markdown",
   "id": "39d5040a",
   "metadata": {},
   "source": [
    "Максимальное расстояние, которое преодолели пользователи за одну сессию составляет 7211 м., минимальное - 0,85 м., среднее - 3070 м.Есть небольшой всплеск на дистанции 600 м., а так же большое средне отклонение, по которому можно предположить, что на длину сессии могут оказывать влияние маршрут (поездка до метро или остановки общественного транспорта, стоянки самокатов), погодные условия (использовали самокат для дистанции от остановки до остановки около дома), работоспособность самоката (самокат оказался с дефектом в работе и был возвращен на стоянку, заряд батареи), время суток (время в часы пик)."
   ]
  },
  {
   "cell_type": "markdown",
   "id": "1d56b709",
   "metadata": {},
   "source": [
    "### Опишем и визуализируем продолжительность поездок."
   ]
  },
  {
   "cell_type": "code",
   "execution_count": 40,
   "id": "aaa6515e",
   "metadata": {},
   "outputs": [
    {
     "data": {
      "image/png": "[encoded data removed]",
      "text/plain": [
       "<Figure size 504x216 with 1 Axes>"
      ]
     },
     "metadata": {
      "needs_background": "light"
     },
     "output_type": "display_data"
    }
   ],
   "source": [
    "#Создадим гистограмму, которая покажет продолжительность сессии пользователей\n",
    "rides['duration'].plot(kind = 'hist', grid=True, figsize = (7,3), bins = 30)\n",
    "plt.title('Продолжительность одной сессии')\n",
    "plt.xlabel('Время, минуты')\n",
    "plt.ylabel('Количество пользователей')\n",
    "plt.show()"
   ]
  },
  {
   "cell_type": "markdown",
   "id": "505c2391",
   "metadata": {},
   "source": [
    "Увеличим значение bins до 100 и построим гистограмму, оценим данные и уточним вывод."
   ]
  },
  {
   "cell_type": "code",
   "execution_count": 41,
   "id": "ed4f2fd4",
   "metadata": {},
   "outputs": [
    {
     "data": {
      "image/png": "[encoded data removed]",
      "text/plain": [
       "<Figure size 504x216 with 1 Axes>"
      ]
     },
     "metadata": {
      "needs_background": "light"
     },
     "output_type": "display_data"
    }
   ],
   "source": [
    "# Увеличиваем значение параметра bins\n",
    "rides['duration'].plot(kind='hist', grid=True, figsize=(7, 3), bins=100)\n",
    "\n",
    "# Добавляем заголовок графика\n",
    "plt.title('Продолжительность одной сессии')\n",
    "\n",
    "# Добавляем подписи к осям\n",
    "plt.xlabel('Время, минуты')\n",
    "plt.ylabel('Количество пользователей')\n",
    "\n",
    "# Отображаем график\n",
    "plt.show()"
   ]
  },
  {
   "cell_type": "markdown",
   "id": "4e9ff89b",
   "metadata": {},
   "source": [
    "На гистограмме виден всплеск в районе первых нескольких минут. Можно предположить, что пользователь оценил работоспособность самоката и прекратил сессию. Таким образом, около 100 пользователей в течение года приостановили сессию в течение первых двух минут. "
   ]
  },
  {
   "cell_type": "markdown",
   "id": "7c73a65b",
   "metadata": {},
   "source": [
    " Проверим предположение, что пользователи без подписки приостанавливали сессию по причине не работоспособности самоката. "
   ]
  },
  {
   "cell_type": "code",
   "execution_count": 42,
   "id": "777cf8b5",
   "metadata": {},
   "outputs": [
    {
     "data": {
      "text/html": [
       "<div>\n",
       "<style scoped>\n",
       "    .dataframe tbody tr th:only-of-type {\n",
       "        vertical-align: middle;\n",
       "    }\n",
       "\n",
       "    .dataframe tbody tr th {\n",
       "        vertical-align: top;\n",
       "    }\n",
       "\n",
       "    .dataframe thead th {\n",
       "        text-align: right;\n",
       "    }\n",
       "</style>\n",
       "<table border=\"1\" class=\"dataframe\">\n",
       "  <thead>\n",
       "    <tr style=\"text-align: right;\">\n",
       "      <th></th>\n",
       "      <th>user_id</th>\n",
       "      <th>distance</th>\n",
       "      <th>duration</th>\n",
       "      <th>date</th>\n",
       "      <th>month</th>\n",
       "      <th>name</th>\n",
       "      <th>age</th>\n",
       "      <th>city</th>\n",
       "      <th>subscription_type</th>\n",
       "    </tr>\n",
       "  </thead>\n",
       "  <tbody>\n",
       "    <tr>\n",
       "      <th>0</th>\n",
       "      <td>1</td>\n",
       "      <td>4409.919140</td>\n",
       "      <td>25.599769</td>\n",
       "      <td>2021-01-01</td>\n",
       "      <td>1</td>\n",
       "      <td>Кира</td>\n",
       "      <td>22</td>\n",
       "      <td>Тюмень</td>\n",
       "      <td>ultra</td>\n",
       "    </tr>\n",
       "    <tr>\n",
       "      <th>1</th>\n",
       "      <td>1</td>\n",
       "      <td>2617.592153</td>\n",
       "      <td>15.816871</td>\n",
       "      <td>2021-01-18</td>\n",
       "      <td>1</td>\n",
       "      <td>Кира</td>\n",
       "      <td>22</td>\n",
       "      <td>Тюмень</td>\n",
       "      <td>ultra</td>\n",
       "    </tr>\n",
       "    <tr>\n",
       "      <th>2</th>\n",
       "      <td>1</td>\n",
       "      <td>754.159807</td>\n",
       "      <td>6.232113</td>\n",
       "      <td>2021-04-20</td>\n",
       "      <td>4</td>\n",
       "      <td>Кира</td>\n",
       "      <td>22</td>\n",
       "      <td>Тюмень</td>\n",
       "      <td>ultra</td>\n",
       "    </tr>\n",
       "    <tr>\n",
       "      <th>3</th>\n",
       "      <td>1</td>\n",
       "      <td>2694.783254</td>\n",
       "      <td>18.511000</td>\n",
       "      <td>2021-08-11</td>\n",
       "      <td>8</td>\n",
       "      <td>Кира</td>\n",
       "      <td>22</td>\n",
       "      <td>Тюмень</td>\n",
       "      <td>ultra</td>\n",
       "    </tr>\n",
       "    <tr>\n",
       "      <th>4</th>\n",
       "      <td>1</td>\n",
       "      <td>4028.687306</td>\n",
       "      <td>26.265803</td>\n",
       "      <td>2021-08-28</td>\n",
       "      <td>8</td>\n",
       "      <td>Кира</td>\n",
       "      <td>22</td>\n",
       "      <td>Тюмень</td>\n",
       "      <td>ultra</td>\n",
       "    </tr>\n",
       "    <tr>\n",
       "      <th>...</th>\n",
       "      <td>...</td>\n",
       "      <td>...</td>\n",
       "      <td>...</td>\n",
       "      <td>...</td>\n",
       "      <td>...</td>\n",
       "      <td>...</td>\n",
       "      <td>...</td>\n",
       "      <td>...</td>\n",
       "      <td>...</td>\n",
       "    </tr>\n",
       "    <tr>\n",
       "      <th>18063</th>\n",
       "      <td>1534</td>\n",
       "      <td>3781.098080</td>\n",
       "      <td>19.822962</td>\n",
       "      <td>2021-11-04</td>\n",
       "      <td>11</td>\n",
       "      <td>Альберт</td>\n",
       "      <td>25</td>\n",
       "      <td>Краснодар</td>\n",
       "      <td>free</td>\n",
       "    </tr>\n",
       "    <tr>\n",
       "      <th>18064</th>\n",
       "      <td>1534</td>\n",
       "      <td>2840.423057</td>\n",
       "      <td>21.409799</td>\n",
       "      <td>2021-11-16</td>\n",
       "      <td>11</td>\n",
       "      <td>Альберт</td>\n",
       "      <td>25</td>\n",
       "      <td>Краснодар</td>\n",
       "      <td>free</td>\n",
       "    </tr>\n",
       "    <tr>\n",
       "      <th>18065</th>\n",
       "      <td>1534</td>\n",
       "      <td>3826.185507</td>\n",
       "      <td>18.435051</td>\n",
       "      <td>2021-11-18</td>\n",
       "      <td>11</td>\n",
       "      <td>Альберт</td>\n",
       "      <td>25</td>\n",
       "      <td>Краснодар</td>\n",
       "      <td>free</td>\n",
       "    </tr>\n",
       "    <tr>\n",
       "      <th>18066</th>\n",
       "      <td>1534</td>\n",
       "      <td>2902.308661</td>\n",
       "      <td>16.674362</td>\n",
       "      <td>2021-11-27</td>\n",
       "      <td>11</td>\n",
       "      <td>Альберт</td>\n",
       "      <td>25</td>\n",
       "      <td>Краснодар</td>\n",
       "      <td>free</td>\n",
       "    </tr>\n",
       "    <tr>\n",
       "      <th>18067</th>\n",
       "      <td>1534</td>\n",
       "      <td>2371.711192</td>\n",
       "      <td>15.893917</td>\n",
       "      <td>2021-12-29</td>\n",
       "      <td>12</td>\n",
       "      <td>Альберт</td>\n",
       "      <td>25</td>\n",
       "      <td>Краснодар</td>\n",
       "      <td>free</td>\n",
       "    </tr>\n",
       "  </tbody>\n",
       "</table>\n",
       "<p>18068 rows × 9 columns</p>\n",
       "</div>"
      ],
      "text/plain": [
       "       user_id     distance   duration       date  month     name  age  \\\n",
       "0            1  4409.919140  25.599769 2021-01-01      1     Кира   22   \n",
       "1            1  2617.592153  15.816871 2021-01-18      1     Кира   22   \n",
       "2            1   754.159807   6.232113 2021-04-20      4     Кира   22   \n",
       "3            1  2694.783254  18.511000 2021-08-11      8     Кира   22   \n",
       "4            1  4028.687306  26.265803 2021-08-28      8     Кира   22   \n",
       "...        ...          ...        ...        ...    ...      ...  ...   \n",
       "18063     1534  3781.098080  19.822962 2021-11-04     11  Альберт   25   \n",
       "18064     1534  2840.423057  21.409799 2021-11-16     11  Альберт   25   \n",
       "18065     1534  3826.185507  18.435051 2021-11-18     11  Альберт   25   \n",
       "18066     1534  2902.308661  16.674362 2021-11-27     11  Альберт   25   \n",
       "18067     1534  2371.711192  15.893917 2021-12-29     12  Альберт   25   \n",
       "\n",
       "            city subscription_type  \n",
       "0         Тюмень             ultra  \n",
       "1         Тюмень             ultra  \n",
       "2         Тюмень             ultra  \n",
       "3         Тюмень             ultra  \n",
       "4         Тюмень             ultra  \n",
       "...          ...               ...  \n",
       "18063  Краснодар              free  \n",
       "18064  Краснодар              free  \n",
       "18065  Краснодар              free  \n",
       "18066  Краснодар              free  \n",
       "18067  Краснодар              free  \n",
       "\n",
       "[18068 rows x 9 columns]"
      ]
     },
     "metadata": {},
     "output_type": "display_data"
    }
   ],
   "source": [
    "#Объединим два датафрейма чтобы посчитать дистанцию в первые 3 мин.для пользователй без подписки\n",
    "data_mrg_duration = rides.copy()\n",
    "data_mrg_duration = data_mrg_duration.merge(users, how = 'left', on = 'user_id' )\n",
    "display(data_mrg_duration)"
   ]
  },
  {
   "cell_type": "code",
   "execution_count": 43,
   "id": "1b4e0481",
   "metadata": {},
   "outputs": [
    {
     "name": "stdout",
     "output_type": "stream",
     "text": [
      "Средняя дистанция за первые 3 минуты для пользователей без подписки: 3848.920522045692\n"
     ]
    }
   ],
   "source": [
    "# Фильтрация данных поездок для пользователей без подписки и длительности поездок не более 3 минут\n",
    "short_rides_free_users = data_mrg_duration[(data_mrg_duration['duration'] <= 3) & (data_mrg_duration['subscription_type'] == 'free')]\n",
    "# Определение средней дистанции за первые 3 минуты для каждой поездки пользователей без подписки\n",
    "distance_in_first_3_min_free = short_rides_free_users['distance'].mean()\n",
    "print(\"Средняя дистанция за первые 3 минуты для пользователей без подписки:\", distance_in_first_3_min_free)"
   ]
  },
  {
   "cell_type": "markdown",
   "id": "8e673846",
   "metadata": {},
   "source": [
    "Предположение, что пользователи без подписки, заканчивали сессию в первые 3 минуты из-за не работоспособности самоката не состоятелен, потому что средняя дистанция составила 3848 м. Предположим, что самокат использовался на короткие дистанции (до метро, до общественного транспорта)."
   ]
  },
  {
   "cell_type": "code",
   "execution_count": 44,
   "id": "e0c5ef5c",
   "metadata": {},
   "outputs": [
    {
     "name": "stdout",
     "output_type": "stream",
     "text": [
      "Средняя дистанция за первую минуту для пользователей без подписки: 5113.176548536017\n"
     ]
    }
   ],
   "source": [
    "# Фильтрация данных поездок для пользователей без подписки и длительности поездок не более 1 минуты\n",
    "short_rides_free_users = data_mrg_duration[(data_mrg_duration['duration'] <= 1) & (data_mrg_duration['subscription_type'] == 'free')]\n",
    "distance_in_first_3_min_free = short_rides_free_users['distance'].mean()\n",
    "print(\"Средняя дистанция за первую минуту для пользователей без подписки:\", distance_in_first_3_min_free)"
   ]
  },
  {
   "cell_type": "markdown",
   "id": "37e901c2",
   "metadata": {},
   "source": [
    "Предположим, что пользователь без подписки старался проехать максимальную дистанцию за одну минуту, потому что данный тариф предлагает \"первую минуту бесплатно\". Этим может быть объяснен данный пик в  данных."
   ]
  },
  {
   "cell_type": "code",
   "execution_count": 45,
   "id": "0a65e0d4",
   "metadata": {},
   "outputs": [
    {
     "data": {
      "image/png": "[encoded data removed]",
      "text/plain": [
       "<Figure size 504x216 with 1 Axes>"
      ]
     },
     "metadata": {
      "needs_background": "light"
     },
     "output_type": "display_data"
    }
   ],
   "source": [
    "# Создаем ящик с усами для расстояний одной сессии\n",
    "plt.figure(figsize=(7, 3))\n",
    "plt.boxplot(rides['duration'], vert=False)\n",
    "\n",
    "plt.title('Продолжительность одной поездки')\n",
    "plt.xlabel('Время, минуты')\n",
    "plt.ylabel('Количество пользователей')\n",
    "plt.show()"
   ]
  },
  {
   "cell_type": "code",
   "execution_count": 46,
   "id": "238a3189",
   "metadata": {},
   "outputs": [
    {
     "data": {
      "image/png": "[encoded data removed]",
      "text/plain": [
       "<Figure size 432x288 with 1 Axes>"
      ]
     },
     "metadata": {
      "needs_background": "light"
     },
     "output_type": "display_data"
    }
   ],
   "source": [
    "rides['duration'].hist()\n",
    "plt.title('Продолжительность одной сессии')\n",
    "plt.xlabel('Время, минуты')\n",
    "plt.ylabel('Количество пользователей')\n",
    "plt.show()"
   ]
  },
  {
   "cell_type": "code",
   "execution_count": 47,
   "id": "77fa0cfc",
   "metadata": {},
   "outputs": [
    {
     "data": {
      "text/plain": [
       "count    18068.000000\n",
       "mean        17.805011\n",
       "std          6.091051\n",
       "min          0.500000\n",
       "25%         13.597563\n",
       "50%         17.678395\n",
       "75%         21.724800\n",
       "max         40.823963\n",
       "Name: duration, dtype: float64"
      ]
     },
     "execution_count": 47,
     "metadata": {},
     "output_type": "execute_result"
    }
   ],
   "source": [
    "rides['duration'].describe()"
   ]
  },
  {
   "cell_type": "markdown",
   "id": "f45eba8f",
   "metadata": {},
   "source": [
    "Максимальная продолжительность одной сессии составляет 40 минут, минимальная продолжительность - 0,5 минут, средняя продолжительность - 17,8 минут. Есть отклонение в 6, которое возникло по наличию небольшого количества длительных сессии. Но в основном самокат используют до 20 минут.\n",
    "Виден всплеск в районе первых нескольких минут сесии. Таким образом, около 100 пользователей в течение года приостановили сессию в течение первых двух минут."
   ]
  },
  {
   "cell_type": "markdown",
   "id": "4f6d8093",
   "metadata": {},
   "source": [
    "**Вывод третьего шага.**"
   ]
  },
  {
   "cell_type": "markdown",
   "id": "3a7a99f4",
   "metadata": {},
   "source": [
    "- Информация в датафреймах предоставлена по 8 городам, из которых самое большое количество пользователей в Пятигорске (219 пользователей), наименьшее количество - в Москве (168 пользователй).\n",
    "- Пользователей с типом подписки \"без подписки\" больше (835 подписчиков), чем с \"с подпиской Ultra\" (699 подписчиков).\n",
    "- Наименьший возраст пользователя - 12 лет, наибольший возраст - 43 года, средний возраст 24,9 лет. Медиана 25 лет и средний возраст 24,9 лет практически совпадают.\n",
    "- Максимальное расстояние, которое преодолели пользователи за сессию составляет 7211 м., минимальное - 0,85 м., среднее - 3070 м.Есть небольшой всплеск на дистанции 600 м., а так же большое средне отклонение, по которому можно предположить, что на длину сессии могут оказывать влияние маршрут (поездка до метро или остановки общественного транспорта, стоянки самокатов), погодные условия (использовали самокат для дистанции от остановки до остановки около дома), работоспособность самоката (самокат оказался с дефектом в работе и был возвращен на стоянку, не заряженная батарея), время суток (время в часы пик).\n",
    "- Максимальная продолжительность одной сессии составляет 40 минут, минимальная продолжительность - 0,5 минут, средняя продолжительность - 17,8 минут. Есть отклонение в 6, которое возникло по наличию небольшого количества длительных сессии. Но в основном самокат используют до 20 минут. Около 100 пользователей в течение года приостановили сессию в течение первых двух минут, предположим, что пользователь без подписки старался проехать максимальную дистанцию за одну минуту, потому что данный тариф предлагает \"первую минуту бесплатно\". Этим может быть объяснен данный пик в данных."
   ]
  },
  {
   "cell_type": "markdown",
   "id": "f74acdb9",
   "metadata": {},
   "source": [
    "## Шаг. Объединение данных"
   ]
  },
  {
   "cell_type": "markdown",
   "id": "6e286727",
   "metadata": {},
   "source": [
    "###  Объединим данные о пользователях, поездках и подписках в один датафрейм. Для этого воспользуемся методом merge()."
   ]
  },
  {
   "cell_type": "code",
   "execution_count": 48,
   "id": "b3db2fd1",
   "metadata": {},
   "outputs": [
    {
     "data": {
      "text/html": [
       "<div>\n",
       "<style scoped>\n",
       "    .dataframe tbody tr th:only-of-type {\n",
       "        vertical-align: middle;\n",
       "    }\n",
       "\n",
       "    .dataframe tbody tr th {\n",
       "        vertical-align: top;\n",
       "    }\n",
       "\n",
       "    .dataframe thead th {\n",
       "        text-align: right;\n",
       "    }\n",
       "</style>\n",
       "<table border=\"1\" class=\"dataframe\">\n",
       "  <thead>\n",
       "    <tr style=\"text-align: right;\">\n",
       "      <th></th>\n",
       "      <th>user_id</th>\n",
       "      <th>distance</th>\n",
       "      <th>duration</th>\n",
       "      <th>date</th>\n",
       "      <th>month</th>\n",
       "      <th>name</th>\n",
       "      <th>age</th>\n",
       "      <th>city</th>\n",
       "      <th>subscription_type</th>\n",
       "      <th>minute_price</th>\n",
       "      <th>start_ride_price</th>\n",
       "      <th>subscription_fee</th>\n",
       "    </tr>\n",
       "  </thead>\n",
       "  <tbody>\n",
       "    <tr>\n",
       "      <th>0</th>\n",
       "      <td>1</td>\n",
       "      <td>4409.919140</td>\n",
       "      <td>25.599769</td>\n",
       "      <td>2021-01-01</td>\n",
       "      <td>1</td>\n",
       "      <td>Кира</td>\n",
       "      <td>22</td>\n",
       "      <td>Тюмень</td>\n",
       "      <td>ultra</td>\n",
       "      <td>6</td>\n",
       "      <td>0</td>\n",
       "      <td>199</td>\n",
       "    </tr>\n",
       "    <tr>\n",
       "      <th>1</th>\n",
       "      <td>1</td>\n",
       "      <td>2617.592153</td>\n",
       "      <td>15.816871</td>\n",
       "      <td>2021-01-18</td>\n",
       "      <td>1</td>\n",
       "      <td>Кира</td>\n",
       "      <td>22</td>\n",
       "      <td>Тюмень</td>\n",
       "      <td>ultra</td>\n",
       "      <td>6</td>\n",
       "      <td>0</td>\n",
       "      <td>199</td>\n",
       "    </tr>\n",
       "    <tr>\n",
       "      <th>2</th>\n",
       "      <td>1</td>\n",
       "      <td>754.159807</td>\n",
       "      <td>6.232113</td>\n",
       "      <td>2021-04-20</td>\n",
       "      <td>4</td>\n",
       "      <td>Кира</td>\n",
       "      <td>22</td>\n",
       "      <td>Тюмень</td>\n",
       "      <td>ultra</td>\n",
       "      <td>6</td>\n",
       "      <td>0</td>\n",
       "      <td>199</td>\n",
       "    </tr>\n",
       "    <tr>\n",
       "      <th>3</th>\n",
       "      <td>1</td>\n",
       "      <td>2694.783254</td>\n",
       "      <td>18.511000</td>\n",
       "      <td>2021-08-11</td>\n",
       "      <td>8</td>\n",
       "      <td>Кира</td>\n",
       "      <td>22</td>\n",
       "      <td>Тюмень</td>\n",
       "      <td>ultra</td>\n",
       "      <td>6</td>\n",
       "      <td>0</td>\n",
       "      <td>199</td>\n",
       "    </tr>\n",
       "    <tr>\n",
       "      <th>4</th>\n",
       "      <td>1</td>\n",
       "      <td>4028.687306</td>\n",
       "      <td>26.265803</td>\n",
       "      <td>2021-08-28</td>\n",
       "      <td>8</td>\n",
       "      <td>Кира</td>\n",
       "      <td>22</td>\n",
       "      <td>Тюмень</td>\n",
       "      <td>ultra</td>\n",
       "      <td>6</td>\n",
       "      <td>0</td>\n",
       "      <td>199</td>\n",
       "    </tr>\n",
       "    <tr>\n",
       "      <th>...</th>\n",
       "      <td>...</td>\n",
       "      <td>...</td>\n",
       "      <td>...</td>\n",
       "      <td>...</td>\n",
       "      <td>...</td>\n",
       "      <td>...</td>\n",
       "      <td>...</td>\n",
       "      <td>...</td>\n",
       "      <td>...</td>\n",
       "      <td>...</td>\n",
       "      <td>...</td>\n",
       "      <td>...</td>\n",
       "    </tr>\n",
       "    <tr>\n",
       "      <th>18063</th>\n",
       "      <td>1534</td>\n",
       "      <td>3781.098080</td>\n",
       "      <td>19.822962</td>\n",
       "      <td>2021-11-04</td>\n",
       "      <td>11</td>\n",
       "      <td>Альберт</td>\n",
       "      <td>25</td>\n",
       "      <td>Краснодар</td>\n",
       "      <td>free</td>\n",
       "      <td>8</td>\n",
       "      <td>50</td>\n",
       "      <td>0</td>\n",
       "    </tr>\n",
       "    <tr>\n",
       "      <th>18064</th>\n",
       "      <td>1534</td>\n",
       "      <td>2840.423057</td>\n",
       "      <td>21.409799</td>\n",
       "      <td>2021-11-16</td>\n",
       "      <td>11</td>\n",
       "      <td>Альберт</td>\n",
       "      <td>25</td>\n",
       "      <td>Краснодар</td>\n",
       "      <td>free</td>\n",
       "      <td>8</td>\n",
       "      <td>50</td>\n",
       "      <td>0</td>\n",
       "    </tr>\n",
       "    <tr>\n",
       "      <th>18065</th>\n",
       "      <td>1534</td>\n",
       "      <td>3826.185507</td>\n",
       "      <td>18.435051</td>\n",
       "      <td>2021-11-18</td>\n",
       "      <td>11</td>\n",
       "      <td>Альберт</td>\n",
       "      <td>25</td>\n",
       "      <td>Краснодар</td>\n",
       "      <td>free</td>\n",
       "      <td>8</td>\n",
       "      <td>50</td>\n",
       "      <td>0</td>\n",
       "    </tr>\n",
       "    <tr>\n",
       "      <th>18066</th>\n",
       "      <td>1534</td>\n",
       "      <td>2902.308661</td>\n",
       "      <td>16.674362</td>\n",
       "      <td>2021-11-27</td>\n",
       "      <td>11</td>\n",
       "      <td>Альберт</td>\n",
       "      <td>25</td>\n",
       "      <td>Краснодар</td>\n",
       "      <td>free</td>\n",
       "      <td>8</td>\n",
       "      <td>50</td>\n",
       "      <td>0</td>\n",
       "    </tr>\n",
       "    <tr>\n",
       "      <th>18067</th>\n",
       "      <td>1534</td>\n",
       "      <td>2371.711192</td>\n",
       "      <td>15.893917</td>\n",
       "      <td>2021-12-29</td>\n",
       "      <td>12</td>\n",
       "      <td>Альберт</td>\n",
       "      <td>25</td>\n",
       "      <td>Краснодар</td>\n",
       "      <td>free</td>\n",
       "      <td>8</td>\n",
       "      <td>50</td>\n",
       "      <td>0</td>\n",
       "    </tr>\n",
       "  </tbody>\n",
       "</table>\n",
       "<p>18068 rows × 12 columns</p>\n",
       "</div>"
      ],
      "text/plain": [
       "       user_id     distance   duration       date  month     name  age  \\\n",
       "0            1  4409.919140  25.599769 2021-01-01      1     Кира   22   \n",
       "1            1  2617.592153  15.816871 2021-01-18      1     Кира   22   \n",
       "2            1   754.159807   6.232113 2021-04-20      4     Кира   22   \n",
       "3            1  2694.783254  18.511000 2021-08-11      8     Кира   22   \n",
       "4            1  4028.687306  26.265803 2021-08-28      8     Кира   22   \n",
       "...        ...          ...        ...        ...    ...      ...  ...   \n",
       "18063     1534  3781.098080  19.822962 2021-11-04     11  Альберт   25   \n",
       "18064     1534  2840.423057  21.409799 2021-11-16     11  Альберт   25   \n",
       "18065     1534  3826.185507  18.435051 2021-11-18     11  Альберт   25   \n",
       "18066     1534  2902.308661  16.674362 2021-11-27     11  Альберт   25   \n",
       "18067     1534  2371.711192  15.893917 2021-12-29     12  Альберт   25   \n",
       "\n",
       "            city subscription_type  minute_price  start_ride_price  \\\n",
       "0         Тюмень             ultra             6                 0   \n",
       "1         Тюмень             ultra             6                 0   \n",
       "2         Тюмень             ultra             6                 0   \n",
       "3         Тюмень             ultra             6                 0   \n",
       "4         Тюмень             ultra             6                 0   \n",
       "...          ...               ...           ...               ...   \n",
       "18063  Краснодар              free             8                50   \n",
       "18064  Краснодар              free             8                50   \n",
       "18065  Краснодар              free             8                50   \n",
       "18066  Краснодар              free             8                50   \n",
       "18067  Краснодар              free             8                50   \n",
       "\n",
       "       subscription_fee  \n",
       "0                   199  \n",
       "1                   199  \n",
       "2                   199  \n",
       "3                   199  \n",
       "4                   199  \n",
       "...                 ...  \n",
       "18063                 0  \n",
       "18064                 0  \n",
       "18065                 0  \n",
       "18066                 0  \n",
       "18067                 0  \n",
       "\n",
       "[18068 rows x 12 columns]"
      ]
     },
     "metadata": {},
     "output_type": "display_data"
    }
   ],
   "source": [
    "data_mrg = rides.copy()\n",
    "data_mrg = data_mrg.merge(users, how = 'left', on = 'user_id' )\n",
    "data_mrg = data_mrg.merge(subs, how = 'left', on='subscription_type')\n",
    "display(data_mrg)"
   ]
  },
  {
   "cell_type": "markdown",
   "id": "cdf83f67",
   "metadata": {},
   "source": [
    "Получили объединенный датафрейм с 12 колонками и 18068 строками."
   ]
  },
  {
   "cell_type": "markdown",
   "id": "7c222354",
   "metadata": {},
   "source": [
    "Сравним количество строк полученной таблицы с количеством строк таблиц до объединения, проверим наличие пропусков."
   ]
  },
  {
   "cell_type": "code",
   "execution_count": 49,
   "id": "b71eaed9",
   "metadata": {
    "scrolled": true
   },
   "outputs": [
    {
     "data": {
      "text/plain": [
       "'Количество строк в датафрейме users:'"
      ]
     },
     "metadata": {},
     "output_type": "display_data"
    },
    {
     "data": {
      "text/plain": [
       "1534"
      ]
     },
     "metadata": {},
     "output_type": "display_data"
    },
    {
     "data": {
      "text/plain": [
       "'Количество строк в датафрейме rides:'"
      ]
     },
     "metadata": {},
     "output_type": "display_data"
    },
    {
     "data": {
      "text/plain": [
       "18068"
      ]
     },
     "metadata": {},
     "output_type": "display_data"
    },
    {
     "data": {
      "text/plain": [
       "'Количество строк в датафрейме subs:'"
      ]
     },
     "metadata": {},
     "output_type": "display_data"
    },
    {
     "data": {
      "text/plain": [
       "2"
      ]
     },
     "metadata": {},
     "output_type": "display_data"
    }
   ],
   "source": [
    "num_rows_users = users.shape[0]\n",
    "num_rows_rides = rides.shape[0]\n",
    "num_rows_subs = subs.shape[0]\n",
    "display(\"Количество строк в датафрейме users:\", num_rows_users)\n",
    "display(\"Количество строк в датафрейме rides:\", num_rows_rides)\n",
    "display(\"Количество строк в датафрейме subs:\", num_rows_subs)"
   ]
  },
  {
   "cell_type": "markdown",
   "id": "55d10be9",
   "metadata": {},
   "source": [
    "Количество строк в объединенном датафрейме data_mrg составляет 18068 строк, исходный датафрейм rides содержал больше строк, чем датафреймы users и subs, и при объединении создались дополнительные строки для соответствия каждой строке из rides строкой из users и subs."
   ]
  },
  {
   "cell_type": "code",
   "execution_count": 50,
   "id": "f7a694ef",
   "metadata": {},
   "outputs": [
    {
     "name": "stdout",
     "output_type": "stream",
     "text": [
      "В data_mrg нет дубликатов.\n"
     ]
    }
   ],
   "source": [
    "# Проверка наличия дубликатов в DataFrame\n",
    "if data_mrg.duplicated().any():\n",
    "    print(\"В data_mrg есть дубликаты.\")\n",
    "else:\n",
    "    print(\"В data_mrg нет дубликатов.\")"
   ]
  },
  {
   "cell_type": "code",
   "execution_count": 51,
   "id": "96932f25",
   "metadata": {},
   "outputs": [
    {
     "name": "stdout",
     "output_type": "stream",
     "text": [
      "В data_mrg нет пропусков.\n"
     ]
    }
   ],
   "source": [
    "# Проверка наличия пропусков в DataFrame\n",
    "if data_mrg.isnull().any().any():\n",
    "    print(\"В data_mrg есть пропуски.\")\n",
    "else:\n",
    "    print(\"В data_mrg нет пропусков.\")"
   ]
  },
  {
   "cell_type": "markdown",
   "id": "df839b40",
   "metadata": {},
   "source": [
    "### Создадим ещё два датафрейма из датафрейма, созданного на этапе 4.1: c данными о пользователях без подписки, с данными о пользователях с подпиской."
   ]
  },
  {
   "cell_type": "code",
   "execution_count": 52,
   "id": "37e14139",
   "metadata": {},
   "outputs": [
    {
     "data": {
      "text/html": [
       "<div>\n",
       "<style scoped>\n",
       "    .dataframe tbody tr th:only-of-type {\n",
       "        vertical-align: middle;\n",
       "    }\n",
       "\n",
       "    .dataframe tbody tr th {\n",
       "        vertical-align: top;\n",
       "    }\n",
       "\n",
       "    .dataframe thead th {\n",
       "        text-align: right;\n",
       "    }\n",
       "</style>\n",
       "<table border=\"1\" class=\"dataframe\">\n",
       "  <thead>\n",
       "    <tr style=\"text-align: right;\">\n",
       "      <th></th>\n",
       "      <th>user_id</th>\n",
       "      <th>distance</th>\n",
       "      <th>duration</th>\n",
       "      <th>date</th>\n",
       "      <th>month</th>\n",
       "      <th>name</th>\n",
       "      <th>age</th>\n",
       "      <th>city</th>\n",
       "      <th>subscription_type</th>\n",
       "      <th>minute_price</th>\n",
       "      <th>start_ride_price</th>\n",
       "      <th>subscription_fee</th>\n",
       "    </tr>\n",
       "  </thead>\n",
       "  <tbody>\n",
       "    <tr>\n",
       "      <th>6500</th>\n",
       "      <td>700</td>\n",
       "      <td>2515.690719</td>\n",
       "      <td>14.944286</td>\n",
       "      <td>2021-01-02</td>\n",
       "      <td>1</td>\n",
       "      <td>Айдар</td>\n",
       "      <td>22</td>\n",
       "      <td>Омск</td>\n",
       "      <td>free</td>\n",
       "      <td>8</td>\n",
       "      <td>50</td>\n",
       "      <td>0</td>\n",
       "    </tr>\n",
       "    <tr>\n",
       "      <th>6501</th>\n",
       "      <td>700</td>\n",
       "      <td>846.932642</td>\n",
       "      <td>16.234663</td>\n",
       "      <td>2021-02-01</td>\n",
       "      <td>2</td>\n",
       "      <td>Айдар</td>\n",
       "      <td>22</td>\n",
       "      <td>Омск</td>\n",
       "      <td>free</td>\n",
       "      <td>8</td>\n",
       "      <td>50</td>\n",
       "      <td>0</td>\n",
       "    </tr>\n",
       "    <tr>\n",
       "      <th>6502</th>\n",
       "      <td>700</td>\n",
       "      <td>4004.434142</td>\n",
       "      <td>20.016628</td>\n",
       "      <td>2021-02-04</td>\n",
       "      <td>2</td>\n",
       "      <td>Айдар</td>\n",
       "      <td>22</td>\n",
       "      <td>Омск</td>\n",
       "      <td>free</td>\n",
       "      <td>8</td>\n",
       "      <td>50</td>\n",
       "      <td>0</td>\n",
       "    </tr>\n",
       "    <tr>\n",
       "      <th>6503</th>\n",
       "      <td>700</td>\n",
       "      <td>1205.911290</td>\n",
       "      <td>9.782872</td>\n",
       "      <td>2021-02-10</td>\n",
       "      <td>2</td>\n",
       "      <td>Айдар</td>\n",
       "      <td>22</td>\n",
       "      <td>Омск</td>\n",
       "      <td>free</td>\n",
       "      <td>8</td>\n",
       "      <td>50</td>\n",
       "      <td>0</td>\n",
       "    </tr>\n",
       "    <tr>\n",
       "      <th>6504</th>\n",
       "      <td>700</td>\n",
       "      <td>3047.379435</td>\n",
       "      <td>17.427673</td>\n",
       "      <td>2021-02-14</td>\n",
       "      <td>2</td>\n",
       "      <td>Айдар</td>\n",
       "      <td>22</td>\n",
       "      <td>Омск</td>\n",
       "      <td>free</td>\n",
       "      <td>8</td>\n",
       "      <td>50</td>\n",
       "      <td>0</td>\n",
       "    </tr>\n",
       "  </tbody>\n",
       "</table>\n",
       "</div>"
      ],
      "text/plain": [
       "      user_id     distance   duration       date  month   name  age  city  \\\n",
       "6500      700  2515.690719  14.944286 2021-01-02      1  Айдар   22  Омск   \n",
       "6501      700   846.932642  16.234663 2021-02-01      2  Айдар   22  Омск   \n",
       "6502      700  4004.434142  20.016628 2021-02-04      2  Айдар   22  Омск   \n",
       "6503      700  1205.911290   9.782872 2021-02-10      2  Айдар   22  Омск   \n",
       "6504      700  3047.379435  17.427673 2021-02-14      2  Айдар   22  Омск   \n",
       "\n",
       "     subscription_type  minute_price  start_ride_price  subscription_fee  \n",
       "6500              free             8                50                 0  \n",
       "6501              free             8                50                 0  \n",
       "6502              free             8                50                 0  \n",
       "6503              free             8                50                 0  \n",
       "6504              free             8                50                 0  "
      ]
     },
     "metadata": {},
     "output_type": "display_data"
    },
    {
     "name": "stdout",
     "output_type": "stream",
     "text": [
      "Количество строк в датафрейме data_mrg_free: 11568\n"
     ]
    }
   ],
   "source": [
    "#Создадим датафрейм о пользователях без подписки\n",
    "data_mrg_free = data_mrg[data_mrg['subscription_type'] == 'free']\n",
    "display(data_mrg_free.head())\n",
    "print('Количество строк в датафрейме data_mrg_free:', data_mrg_free.shape[0])"
   ]
  },
  {
   "cell_type": "code",
   "execution_count": 53,
   "id": "f60767c4",
   "metadata": {},
   "outputs": [
    {
     "data": {
      "text/html": [
       "<div>\n",
       "<style scoped>\n",
       "    .dataframe tbody tr th:only-of-type {\n",
       "        vertical-align: middle;\n",
       "    }\n",
       "\n",
       "    .dataframe tbody tr th {\n",
       "        vertical-align: top;\n",
       "    }\n",
       "\n",
       "    .dataframe thead th {\n",
       "        text-align: right;\n",
       "    }\n",
       "</style>\n",
       "<table border=\"1\" class=\"dataframe\">\n",
       "  <thead>\n",
       "    <tr style=\"text-align: right;\">\n",
       "      <th></th>\n",
       "      <th>user_id</th>\n",
       "      <th>distance</th>\n",
       "      <th>duration</th>\n",
       "      <th>date</th>\n",
       "      <th>month</th>\n",
       "      <th>name</th>\n",
       "      <th>age</th>\n",
       "      <th>city</th>\n",
       "      <th>subscription_type</th>\n",
       "      <th>minute_price</th>\n",
       "      <th>start_ride_price</th>\n",
       "      <th>subscription_fee</th>\n",
       "    </tr>\n",
       "  </thead>\n",
       "  <tbody>\n",
       "    <tr>\n",
       "      <th>0</th>\n",
       "      <td>1</td>\n",
       "      <td>4409.919140</td>\n",
       "      <td>25.599769</td>\n",
       "      <td>2021-01-01</td>\n",
       "      <td>1</td>\n",
       "      <td>Кира</td>\n",
       "      <td>22</td>\n",
       "      <td>Тюмень</td>\n",
       "      <td>ultra</td>\n",
       "      <td>6</td>\n",
       "      <td>0</td>\n",
       "      <td>199</td>\n",
       "    </tr>\n",
       "    <tr>\n",
       "      <th>1</th>\n",
       "      <td>1</td>\n",
       "      <td>2617.592153</td>\n",
       "      <td>15.816871</td>\n",
       "      <td>2021-01-18</td>\n",
       "      <td>1</td>\n",
       "      <td>Кира</td>\n",
       "      <td>22</td>\n",
       "      <td>Тюмень</td>\n",
       "      <td>ultra</td>\n",
       "      <td>6</td>\n",
       "      <td>0</td>\n",
       "      <td>199</td>\n",
       "    </tr>\n",
       "    <tr>\n",
       "      <th>2</th>\n",
       "      <td>1</td>\n",
       "      <td>754.159807</td>\n",
       "      <td>6.232113</td>\n",
       "      <td>2021-04-20</td>\n",
       "      <td>4</td>\n",
       "      <td>Кира</td>\n",
       "      <td>22</td>\n",
       "      <td>Тюмень</td>\n",
       "      <td>ultra</td>\n",
       "      <td>6</td>\n",
       "      <td>0</td>\n",
       "      <td>199</td>\n",
       "    </tr>\n",
       "    <tr>\n",
       "      <th>3</th>\n",
       "      <td>1</td>\n",
       "      <td>2694.783254</td>\n",
       "      <td>18.511000</td>\n",
       "      <td>2021-08-11</td>\n",
       "      <td>8</td>\n",
       "      <td>Кира</td>\n",
       "      <td>22</td>\n",
       "      <td>Тюмень</td>\n",
       "      <td>ultra</td>\n",
       "      <td>6</td>\n",
       "      <td>0</td>\n",
       "      <td>199</td>\n",
       "    </tr>\n",
       "    <tr>\n",
       "      <th>4</th>\n",
       "      <td>1</td>\n",
       "      <td>4028.687306</td>\n",
       "      <td>26.265803</td>\n",
       "      <td>2021-08-28</td>\n",
       "      <td>8</td>\n",
       "      <td>Кира</td>\n",
       "      <td>22</td>\n",
       "      <td>Тюмень</td>\n",
       "      <td>ultra</td>\n",
       "      <td>6</td>\n",
       "      <td>0</td>\n",
       "      <td>199</td>\n",
       "    </tr>\n",
       "  </tbody>\n",
       "</table>\n",
       "</div>"
      ],
      "text/plain": [
       "   user_id     distance   duration       date  month  name  age    city  \\\n",
       "0        1  4409.919140  25.599769 2021-01-01      1  Кира   22  Тюмень   \n",
       "1        1  2617.592153  15.816871 2021-01-18      1  Кира   22  Тюмень   \n",
       "2        1   754.159807   6.232113 2021-04-20      4  Кира   22  Тюмень   \n",
       "3        1  2694.783254  18.511000 2021-08-11      8  Кира   22  Тюмень   \n",
       "4        1  4028.687306  26.265803 2021-08-28      8  Кира   22  Тюмень   \n",
       "\n",
       "  subscription_type  minute_price  start_ride_price  subscription_fee  \n",
       "0             ultra             6                 0               199  \n",
       "1             ultra             6                 0               199  \n",
       "2             ultra             6                 0               199  \n",
       "3             ultra             6                 0               199  \n",
       "4             ultra             6                 0               199  "
      ]
     },
     "metadata": {},
     "output_type": "display_data"
    },
    {
     "name": "stdout",
     "output_type": "stream",
     "text": [
      "Количество строк в датафрейме data_mrg_ultra: 6500\n"
     ]
    }
   ],
   "source": [
    "#Создадим датафрейм о пользователях с подпиской \n",
    "data_mrg_ultra = data_mrg[data_mrg['subscription_type'] == 'ultra']\n",
    "display(data_mrg_ultra.head())\n",
    "print('Количество строк в датафрейме data_mrg_ultra:', data_mrg_ultra.shape[0])"
   ]
  },
  {
   "cell_type": "markdown",
   "id": "fc985d6a",
   "metadata": {},
   "source": [
    "### Визуализируем информацию о расстоянии и времени поездок для пользователей обеих категорий."
   ]
  },
  {
   "cell_type": "code",
   "execution_count": 54,
   "id": "836870d9",
   "metadata": {},
   "outputs": [
    {
     "data": {
      "image/png": "[encoded data removed]",
      "text/plain": [
       "<Figure size 504x216 with 1 Axes>"
      ]
     },
     "metadata": {
      "needs_background": "light"
     },
     "output_type": "display_data"
    }
   ],
   "source": [
    "#Построим гистограмму для продолжительности одной сессии с подпиской и без подписки, в минутах\n",
    "data_mrg_free['duration'].plot(kind = 'hist', grid=True, figsize = (7,3), bins = 30, label='без подписки', color='blue')\n",
    "data_mrg_ultra['duration'].plot(kind = 'hist', grid=True, figsize = (7,3), bins = 30, label='с подпиской Ultra', color='red')\n",
    "\n",
    "plt.title('Продолжительность одной сессии с подпиской Ultra, без подписки')\n",
    "plt.xlabel('Время, минуты')\n",
    "plt.ylabel('Количество пользователей')\n",
    "plt.legend(loc='upper right')\n",
    "plt.show()"
   ]
  },
  {
   "cell_type": "code",
   "execution_count": 55,
   "id": "bae5f28e",
   "metadata": {},
   "outputs": [
    {
     "data": {
      "image/png": "[encoded data removed]",
      "text/plain": [
       "<Figure size 504x216 with 1 Axes>"
      ]
     },
     "metadata": {
      "needs_background": "light"
     },
     "output_type": "display_data"
    }
   ],
   "source": [
    "#Построим гистограмму для Расстояния одной сессии,в метрах\n",
    "data_mrg_free['distance'].plot(kind = 'hist', grid=True, figsize = (7,3), bins = 30, label='без подписки', color='green')\n",
    "data_mrg_ultra['distance'].plot(kind = 'hist', grid=True, figsize = (7,3), bins = 30, label='с подпиской Ultra', color='yellow')\n",
    "\n",
    "plt.title('Расстояние с одной поездки с подпиской Ultra, без подписки')\n",
    "plt.xlabel('Расстояние, метры')\n",
    "plt.ylabel('Количество пользователей')\n",
    "plt.legend(loc='upper right')\n",
    "plt.show()"
   ]
  },
  {
   "cell_type": "markdown",
   "id": "db73b550",
   "metadata": {},
   "source": [
    "При анализе гистограммы \"Продолжительность одной сессии с подпиской Ultra, без подписки\" отмечаем на симетричное распределение гистограмм \"с подпиской\" и \"без подписки\". На гистограмме \"без подписки\" видны два пика: один из них в первые 2 минуты, второй в районе 17 минут. По первому пику можно отметить быстрое прекращение сесии в тарифе \"без подписки\" обосновав, что пользователь изначально не планировал длительное использование самоката или были дефекты в работе самоката, есть предположение, что в тарифе \"по подписке\" есть опция о работоспобности самокатов (заряде батареи).\n",
    "\n",
    "При анализе гистограммы \"Расстояние с одной поездки с подпиской Ultra, без подписки\" отмечаем наличие двух пиков \"колоколов\", один из которых намного меньше или больше другого. Это может указывать на наличие двух или более различных групп в данных. Одна часть данных имеет более высокие или более низкие значения, чем другая часть. То есть это может указывать на наличие группы подписчиков, которые ездят на короткие дистанции, а часть подписчиков ездит на более длинные дистанции. Количество пользователей, использующих самокаты на длинные расстояния больше как среди пользователй \"по подписке\" и \"без подписки\"."
   ]
  },
  {
   "cell_type": "markdown",
   "id": "c441cf6b",
   "metadata": {},
   "source": [
    "**Вывод 4 шага.**"
   ]
  },
  {
   "cell_type": "markdown",
   "id": "7b602bc2",
   "metadata": {},
   "source": [
    "- Объединили данные о пользователях, поездках и подписках в один датафрейм. Всего 18068 пользователй.\n",
    "- Создали два датафрейма для двух пользователей из созданного датафрейма.\n",
    "- Построили гистограммы по информации о расстоянии и времени поездок для пользователей обеих категорий. Большая разница в количестве пользователй в зависимости от подписки явно видна на гистограммах.\n",
    "- Среди пользователей \"без подписки\" около 100 пользователей в год имеют длительность  сесии около 2-х минут. Можно предположить, что пользователь изначально не планировал длительное использование самоката или были дефекты в работе самоката, так же есть предположение, что в тарифе \"по подписке\" есть опция о работоспобности самокатов (заряде батареи).\n",
    "- Можем предположить на наличие группы подписчиков, которые ездят на короткие дистанции, и группы подписчиков, которые ездят на более длинные дистанции. Количество пользователей, использующих самокаты на длинные расстояния больше как среди пользователй \"по подписке\" и \"без подписки\". Возможно проведение дополнительного анализа двух данных групп среди обоих видов пользователей."
   ]
  },
  {
   "cell_type": "markdown",
   "id": "6c627021",
   "metadata": {},
   "source": [
    "## Шаг. Подсчёт выручки"
   ]
  },
  {
   "cell_type": "markdown",
   "id": "29c8db37",
   "metadata": {},
   "source": [
    "###  Создадим датафрейм с агрегированными данными о поездках на основе датафрейма с объединёнными данными из шага 4: найдем суммарное расстояние, количество поездок и суммарное время для каждого пользователя за каждый месяц."
   ]
  },
  {
   "cell_type": "code",
   "execution_count": 56,
   "id": "064f4b45",
   "metadata": {},
   "outputs": [
    {
     "data": {
      "text/html": [
       "<div>\n",
       "<style scoped>\n",
       "    .dataframe tbody tr th:only-of-type {\n",
       "        vertical-align: middle;\n",
       "    }\n",
       "\n",
       "    .dataframe tbody tr th {\n",
       "        vertical-align: top;\n",
       "    }\n",
       "\n",
       "    .dataframe thead th {\n",
       "        text-align: right;\n",
       "    }\n",
       "</style>\n",
       "<table border=\"1\" class=\"dataframe\">\n",
       "  <thead>\n",
       "    <tr style=\"text-align: right;\">\n",
       "      <th></th>\n",
       "      <th>user_id</th>\n",
       "      <th>distance</th>\n",
       "      <th>duration</th>\n",
       "      <th>date</th>\n",
       "      <th>month</th>\n",
       "      <th>name</th>\n",
       "      <th>age</th>\n",
       "      <th>city</th>\n",
       "      <th>subscription_type</th>\n",
       "      <th>minute_price</th>\n",
       "      <th>start_ride_price</th>\n",
       "      <th>subscription_fee</th>\n",
       "    </tr>\n",
       "  </thead>\n",
       "  <tbody>\n",
       "    <tr>\n",
       "      <th>0</th>\n",
       "      <td>1</td>\n",
       "      <td>4409.919140</td>\n",
       "      <td>26</td>\n",
       "      <td>2021-01-01</td>\n",
       "      <td>1</td>\n",
       "      <td>Кира</td>\n",
       "      <td>22</td>\n",
       "      <td>Тюмень</td>\n",
       "      <td>ultra</td>\n",
       "      <td>6</td>\n",
       "      <td>0</td>\n",
       "      <td>199</td>\n",
       "    </tr>\n",
       "    <tr>\n",
       "      <th>1</th>\n",
       "      <td>1</td>\n",
       "      <td>2617.592153</td>\n",
       "      <td>16</td>\n",
       "      <td>2021-01-18</td>\n",
       "      <td>1</td>\n",
       "      <td>Кира</td>\n",
       "      <td>22</td>\n",
       "      <td>Тюмень</td>\n",
       "      <td>ultra</td>\n",
       "      <td>6</td>\n",
       "      <td>0</td>\n",
       "      <td>199</td>\n",
       "    </tr>\n",
       "    <tr>\n",
       "      <th>2</th>\n",
       "      <td>1</td>\n",
       "      <td>754.159807</td>\n",
       "      <td>7</td>\n",
       "      <td>2021-04-20</td>\n",
       "      <td>4</td>\n",
       "      <td>Кира</td>\n",
       "      <td>22</td>\n",
       "      <td>Тюмень</td>\n",
       "      <td>ultra</td>\n",
       "      <td>6</td>\n",
       "      <td>0</td>\n",
       "      <td>199</td>\n",
       "    </tr>\n",
       "    <tr>\n",
       "      <th>3</th>\n",
       "      <td>1</td>\n",
       "      <td>2694.783254</td>\n",
       "      <td>19</td>\n",
       "      <td>2021-08-11</td>\n",
       "      <td>8</td>\n",
       "      <td>Кира</td>\n",
       "      <td>22</td>\n",
       "      <td>Тюмень</td>\n",
       "      <td>ultra</td>\n",
       "      <td>6</td>\n",
       "      <td>0</td>\n",
       "      <td>199</td>\n",
       "    </tr>\n",
       "    <tr>\n",
       "      <th>4</th>\n",
       "      <td>1</td>\n",
       "      <td>4028.687306</td>\n",
       "      <td>27</td>\n",
       "      <td>2021-08-28</td>\n",
       "      <td>8</td>\n",
       "      <td>Кира</td>\n",
       "      <td>22</td>\n",
       "      <td>Тюмень</td>\n",
       "      <td>ultra</td>\n",
       "      <td>6</td>\n",
       "      <td>0</td>\n",
       "      <td>199</td>\n",
       "    </tr>\n",
       "    <tr>\n",
       "      <th>...</th>\n",
       "      <td>...</td>\n",
       "      <td>...</td>\n",
       "      <td>...</td>\n",
       "      <td>...</td>\n",
       "      <td>...</td>\n",
       "      <td>...</td>\n",
       "      <td>...</td>\n",
       "      <td>...</td>\n",
       "      <td>...</td>\n",
       "      <td>...</td>\n",
       "      <td>...</td>\n",
       "      <td>...</td>\n",
       "    </tr>\n",
       "    <tr>\n",
       "      <th>18063</th>\n",
       "      <td>1534</td>\n",
       "      <td>3781.098080</td>\n",
       "      <td>20</td>\n",
       "      <td>2021-11-04</td>\n",
       "      <td>11</td>\n",
       "      <td>Альберт</td>\n",
       "      <td>25</td>\n",
       "      <td>Краснодар</td>\n",
       "      <td>free</td>\n",
       "      <td>8</td>\n",
       "      <td>50</td>\n",
       "      <td>0</td>\n",
       "    </tr>\n",
       "    <tr>\n",
       "      <th>18064</th>\n",
       "      <td>1534</td>\n",
       "      <td>2840.423057</td>\n",
       "      <td>22</td>\n",
       "      <td>2021-11-16</td>\n",
       "      <td>11</td>\n",
       "      <td>Альберт</td>\n",
       "      <td>25</td>\n",
       "      <td>Краснодар</td>\n",
       "      <td>free</td>\n",
       "      <td>8</td>\n",
       "      <td>50</td>\n",
       "      <td>0</td>\n",
       "    </tr>\n",
       "    <tr>\n",
       "      <th>18065</th>\n",
       "      <td>1534</td>\n",
       "      <td>3826.185507</td>\n",
       "      <td>19</td>\n",
       "      <td>2021-11-18</td>\n",
       "      <td>11</td>\n",
       "      <td>Альберт</td>\n",
       "      <td>25</td>\n",
       "      <td>Краснодар</td>\n",
       "      <td>free</td>\n",
       "      <td>8</td>\n",
       "      <td>50</td>\n",
       "      <td>0</td>\n",
       "    </tr>\n",
       "    <tr>\n",
       "      <th>18066</th>\n",
       "      <td>1534</td>\n",
       "      <td>2902.308661</td>\n",
       "      <td>17</td>\n",
       "      <td>2021-11-27</td>\n",
       "      <td>11</td>\n",
       "      <td>Альберт</td>\n",
       "      <td>25</td>\n",
       "      <td>Краснодар</td>\n",
       "      <td>free</td>\n",
       "      <td>8</td>\n",
       "      <td>50</td>\n",
       "      <td>0</td>\n",
       "    </tr>\n",
       "    <tr>\n",
       "      <th>18067</th>\n",
       "      <td>1534</td>\n",
       "      <td>2371.711192</td>\n",
       "      <td>16</td>\n",
       "      <td>2021-12-29</td>\n",
       "      <td>12</td>\n",
       "      <td>Альберт</td>\n",
       "      <td>25</td>\n",
       "      <td>Краснодар</td>\n",
       "      <td>free</td>\n",
       "      <td>8</td>\n",
       "      <td>50</td>\n",
       "      <td>0</td>\n",
       "    </tr>\n",
       "  </tbody>\n",
       "</table>\n",
       "<p>18068 rows × 12 columns</p>\n",
       "</div>"
      ],
      "text/plain": [
       "       user_id     distance  duration       date  month     name  age  \\\n",
       "0            1  4409.919140        26 2021-01-01      1     Кира   22   \n",
       "1            1  2617.592153        16 2021-01-18      1     Кира   22   \n",
       "2            1   754.159807         7 2021-04-20      4     Кира   22   \n",
       "3            1  2694.783254        19 2021-08-11      8     Кира   22   \n",
       "4            1  4028.687306        27 2021-08-28      8     Кира   22   \n",
       "...        ...          ...       ...        ...    ...      ...  ...   \n",
       "18063     1534  3781.098080        20 2021-11-04     11  Альберт   25   \n",
       "18064     1534  2840.423057        22 2021-11-16     11  Альберт   25   \n",
       "18065     1534  3826.185507        19 2021-11-18     11  Альберт   25   \n",
       "18066     1534  2902.308661        17 2021-11-27     11  Альберт   25   \n",
       "18067     1534  2371.711192        16 2021-12-29     12  Альберт   25   \n",
       "\n",
       "            city subscription_type  minute_price  start_ride_price  \\\n",
       "0         Тюмень             ultra             6                 0   \n",
       "1         Тюмень             ultra             6                 0   \n",
       "2         Тюмень             ultra             6                 0   \n",
       "3         Тюмень             ultra             6                 0   \n",
       "4         Тюмень             ultra             6                 0   \n",
       "...          ...               ...           ...               ...   \n",
       "18063  Краснодар              free             8                50   \n",
       "18064  Краснодар              free             8                50   \n",
       "18065  Краснодар              free             8                50   \n",
       "18066  Краснодар              free             8                50   \n",
       "18067  Краснодар              free             8                50   \n",
       "\n",
       "       subscription_fee  \n",
       "0                   199  \n",
       "1                   199  \n",
       "2                   199  \n",
       "3                   199  \n",
       "4                   199  \n",
       "...                 ...  \n",
       "18063                 0  \n",
       "18064                 0  \n",
       "18065                 0  \n",
       "18066                 0  \n",
       "18067                 0  \n",
       "\n",
       "[18068 rows x 12 columns]"
      ]
     },
     "metadata": {},
     "output_type": "display_data"
    }
   ],
   "source": [
    "# Округим каждое значение из столбца duration с помощью «потолка»: \n",
    "data_mrg['duration'] = np.ceil(data_mrg['duration'])\n",
    "data_mrg['duration'] = data_mrg['duration'].astype('int')\n",
    "display(data_mrg)"
   ]
  },
  {
   "cell_type": "code",
   "execution_count": 57,
   "id": "b9c5577c",
   "metadata": {},
   "outputs": [
    {
     "data": {
      "text/html": [
       "<div>\n",
       "<style scoped>\n",
       "    .dataframe tbody tr th:only-of-type {\n",
       "        vertical-align: middle;\n",
       "    }\n",
       "\n",
       "    .dataframe tbody tr th {\n",
       "        vertical-align: top;\n",
       "    }\n",
       "\n",
       "    .dataframe thead th {\n",
       "        text-align: right;\n",
       "    }\n",
       "</style>\n",
       "<table border=\"1\" class=\"dataframe\">\n",
       "  <thead>\n",
       "    <tr style=\"text-align: right;\">\n",
       "      <th></th>\n",
       "      <th>user_id</th>\n",
       "      <th>month</th>\n",
       "      <th>count_distance</th>\n",
       "      <th>sum_distance</th>\n",
       "      <th>sum_duration</th>\n",
       "    </tr>\n",
       "  </thead>\n",
       "  <tbody>\n",
       "    <tr>\n",
       "      <th>0</th>\n",
       "      <td>1</td>\n",
       "      <td>1</td>\n",
       "      <td>2</td>\n",
       "      <td>7027.511294</td>\n",
       "      <td>42</td>\n",
       "    </tr>\n",
       "    <tr>\n",
       "      <th>1</th>\n",
       "      <td>1</td>\n",
       "      <td>4</td>\n",
       "      <td>1</td>\n",
       "      <td>754.159807</td>\n",
       "      <td>7</td>\n",
       "    </tr>\n",
       "    <tr>\n",
       "      <th>2</th>\n",
       "      <td>1</td>\n",
       "      <td>8</td>\n",
       "      <td>2</td>\n",
       "      <td>6723.470560</td>\n",
       "      <td>46</td>\n",
       "    </tr>\n",
       "    <tr>\n",
       "      <th>3</th>\n",
       "      <td>1</td>\n",
       "      <td>10</td>\n",
       "      <td>2</td>\n",
       "      <td>5809.911100</td>\n",
       "      <td>32</td>\n",
       "    </tr>\n",
       "    <tr>\n",
       "      <th>4</th>\n",
       "      <td>1</td>\n",
       "      <td>11</td>\n",
       "      <td>3</td>\n",
       "      <td>7003.499363</td>\n",
       "      <td>56</td>\n",
       "    </tr>\n",
       "    <tr>\n",
       "      <th>...</th>\n",
       "      <td>...</td>\n",
       "      <td>...</td>\n",
       "      <td>...</td>\n",
       "      <td>...</td>\n",
       "      <td>...</td>\n",
       "    </tr>\n",
       "    <tr>\n",
       "      <th>11326</th>\n",
       "      <td>1534</td>\n",
       "      <td>6</td>\n",
       "      <td>2</td>\n",
       "      <td>3409.468534</td>\n",
       "      <td>26</td>\n",
       "    </tr>\n",
       "    <tr>\n",
       "      <th>11327</th>\n",
       "      <td>1534</td>\n",
       "      <td>8</td>\n",
       "      <td>2</td>\n",
       "      <td>7622.453034</td>\n",
       "      <td>48</td>\n",
       "    </tr>\n",
       "    <tr>\n",
       "      <th>11328</th>\n",
       "      <td>1534</td>\n",
       "      <td>9</td>\n",
       "      <td>1</td>\n",
       "      <td>4928.173852</td>\n",
       "      <td>23</td>\n",
       "    </tr>\n",
       "    <tr>\n",
       "      <th>11329</th>\n",
       "      <td>1534</td>\n",
       "      <td>11</td>\n",
       "      <td>4</td>\n",
       "      <td>13350.015305</td>\n",
       "      <td>78</td>\n",
       "    </tr>\n",
       "    <tr>\n",
       "      <th>11330</th>\n",
       "      <td>1534</td>\n",
       "      <td>12</td>\n",
       "      <td>1</td>\n",
       "      <td>2371.711192</td>\n",
       "      <td>16</td>\n",
       "    </tr>\n",
       "  </tbody>\n",
       "</table>\n",
       "<p>11331 rows × 5 columns</p>\n",
       "</div>"
      ],
      "text/plain": [
       "       user_id  month  count_distance  sum_distance  sum_duration\n",
       "0            1      1               2   7027.511294            42\n",
       "1            1      4               1    754.159807             7\n",
       "2            1      8               2   6723.470560            46\n",
       "3            1     10               2   5809.911100            32\n",
       "4            1     11               3   7003.499363            56\n",
       "...        ...    ...             ...           ...           ...\n",
       "11326     1534      6               2   3409.468534            26\n",
       "11327     1534      8               2   7622.453034            48\n",
       "11328     1534      9               1   4928.173852            23\n",
       "11329     1534     11               4  13350.015305            78\n",
       "11330     1534     12               1   2371.711192            16\n",
       "\n",
       "[11331 rows x 5 columns]"
      ]
     },
     "metadata": {},
     "output_type": "display_data"
    }
   ],
   "source": [
    "#Создадим сводную таблицу mrg_agg\n",
    "mrg_agg = data_mrg.pivot_table(index= ['user_id', 'month'], values = ['distance', 'duration'], aggfunc = ['count', 'sum'])\n",
    "mrg_agg.columns = ['_'.join(col) for col in mrg_agg.columns.values]\n",
    "mrg_agg = mrg_agg.drop(columns=['count_duration'])\n",
    "mrg_agg = mrg_agg.reset_index()\n",
    "display(mrg_agg)"
   ]
  },
  {
   "cell_type": "markdown",
   "id": "8451bed7",
   "metadata": {},
   "source": [
    "###  В этот же датафрейм добавим столбец с помесячной выручкой, которую принёс каждый пользователь. Для этого обратимся к информации об условиях оплаты для подписчиков и тех, у кого нет подписки."
   ]
  },
  {
   "cell_type": "code",
   "execution_count": 58,
   "id": "dd5ac803",
   "metadata": {
    "scrolled": true
   },
   "outputs": [
    {
     "data": {
      "text/html": [
       "<div>\n",
       "<style scoped>\n",
       "    .dataframe tbody tr th:only-of-type {\n",
       "        vertical-align: middle;\n",
       "    }\n",
       "\n",
       "    .dataframe tbody tr th {\n",
       "        vertical-align: top;\n",
       "    }\n",
       "\n",
       "    .dataframe thead th {\n",
       "        text-align: right;\n",
       "    }\n",
       "</style>\n",
       "<table border=\"1\" class=\"dataframe\">\n",
       "  <thead>\n",
       "    <tr style=\"text-align: right;\">\n",
       "      <th></th>\n",
       "      <th>user_id</th>\n",
       "      <th>month</th>\n",
       "      <th>count_distance</th>\n",
       "      <th>sum_distance</th>\n",
       "      <th>sum_duration</th>\n",
       "      <th>name</th>\n",
       "      <th>age</th>\n",
       "      <th>city</th>\n",
       "      <th>subscription_type</th>\n",
       "      <th>minute_price</th>\n",
       "      <th>start_ride_price</th>\n",
       "      <th>subscription_fee</th>\n",
       "    </tr>\n",
       "  </thead>\n",
       "  <tbody>\n",
       "    <tr>\n",
       "      <th>0</th>\n",
       "      <td>1</td>\n",
       "      <td>1</td>\n",
       "      <td>2</td>\n",
       "      <td>7027.511294</td>\n",
       "      <td>42</td>\n",
       "      <td>Кира</td>\n",
       "      <td>22</td>\n",
       "      <td>Тюмень</td>\n",
       "      <td>ultra</td>\n",
       "      <td>6</td>\n",
       "      <td>0</td>\n",
       "      <td>199</td>\n",
       "    </tr>\n",
       "    <tr>\n",
       "      <th>1</th>\n",
       "      <td>1</td>\n",
       "      <td>4</td>\n",
       "      <td>1</td>\n",
       "      <td>754.159807</td>\n",
       "      <td>7</td>\n",
       "      <td>Кира</td>\n",
       "      <td>22</td>\n",
       "      <td>Тюмень</td>\n",
       "      <td>ultra</td>\n",
       "      <td>6</td>\n",
       "      <td>0</td>\n",
       "      <td>199</td>\n",
       "    </tr>\n",
       "    <tr>\n",
       "      <th>2</th>\n",
       "      <td>1</td>\n",
       "      <td>8</td>\n",
       "      <td>2</td>\n",
       "      <td>6723.470560</td>\n",
       "      <td>46</td>\n",
       "      <td>Кира</td>\n",
       "      <td>22</td>\n",
       "      <td>Тюмень</td>\n",
       "      <td>ultra</td>\n",
       "      <td>6</td>\n",
       "      <td>0</td>\n",
       "      <td>199</td>\n",
       "    </tr>\n",
       "    <tr>\n",
       "      <th>3</th>\n",
       "      <td>1</td>\n",
       "      <td>10</td>\n",
       "      <td>2</td>\n",
       "      <td>5809.911100</td>\n",
       "      <td>32</td>\n",
       "      <td>Кира</td>\n",
       "      <td>22</td>\n",
       "      <td>Тюмень</td>\n",
       "      <td>ultra</td>\n",
       "      <td>6</td>\n",
       "      <td>0</td>\n",
       "      <td>199</td>\n",
       "    </tr>\n",
       "    <tr>\n",
       "      <th>4</th>\n",
       "      <td>1</td>\n",
       "      <td>11</td>\n",
       "      <td>3</td>\n",
       "      <td>7003.499363</td>\n",
       "      <td>56</td>\n",
       "      <td>Кира</td>\n",
       "      <td>22</td>\n",
       "      <td>Тюмень</td>\n",
       "      <td>ultra</td>\n",
       "      <td>6</td>\n",
       "      <td>0</td>\n",
       "      <td>199</td>\n",
       "    </tr>\n",
       "    <tr>\n",
       "      <th>...</th>\n",
       "      <td>...</td>\n",
       "      <td>...</td>\n",
       "      <td>...</td>\n",
       "      <td>...</td>\n",
       "      <td>...</td>\n",
       "      <td>...</td>\n",
       "      <td>...</td>\n",
       "      <td>...</td>\n",
       "      <td>...</td>\n",
       "      <td>...</td>\n",
       "      <td>...</td>\n",
       "      <td>...</td>\n",
       "    </tr>\n",
       "    <tr>\n",
       "      <th>11326</th>\n",
       "      <td>1534</td>\n",
       "      <td>6</td>\n",
       "      <td>2</td>\n",
       "      <td>3409.468534</td>\n",
       "      <td>26</td>\n",
       "      <td>Альберт</td>\n",
       "      <td>25</td>\n",
       "      <td>Краснодар</td>\n",
       "      <td>free</td>\n",
       "      <td>8</td>\n",
       "      <td>50</td>\n",
       "      <td>0</td>\n",
       "    </tr>\n",
       "    <tr>\n",
       "      <th>11327</th>\n",
       "      <td>1534</td>\n",
       "      <td>8</td>\n",
       "      <td>2</td>\n",
       "      <td>7622.453034</td>\n",
       "      <td>48</td>\n",
       "      <td>Альберт</td>\n",
       "      <td>25</td>\n",
       "      <td>Краснодар</td>\n",
       "      <td>free</td>\n",
       "      <td>8</td>\n",
       "      <td>50</td>\n",
       "      <td>0</td>\n",
       "    </tr>\n",
       "    <tr>\n",
       "      <th>11328</th>\n",
       "      <td>1534</td>\n",
       "      <td>9</td>\n",
       "      <td>1</td>\n",
       "      <td>4928.173852</td>\n",
       "      <td>23</td>\n",
       "      <td>Альберт</td>\n",
       "      <td>25</td>\n",
       "      <td>Краснодар</td>\n",
       "      <td>free</td>\n",
       "      <td>8</td>\n",
       "      <td>50</td>\n",
       "      <td>0</td>\n",
       "    </tr>\n",
       "    <tr>\n",
       "      <th>11329</th>\n",
       "      <td>1534</td>\n",
       "      <td>11</td>\n",
       "      <td>4</td>\n",
       "      <td>13350.015305</td>\n",
       "      <td>78</td>\n",
       "      <td>Альберт</td>\n",
       "      <td>25</td>\n",
       "      <td>Краснодар</td>\n",
       "      <td>free</td>\n",
       "      <td>8</td>\n",
       "      <td>50</td>\n",
       "      <td>0</td>\n",
       "    </tr>\n",
       "    <tr>\n",
       "      <th>11330</th>\n",
       "      <td>1534</td>\n",
       "      <td>12</td>\n",
       "      <td>1</td>\n",
       "      <td>2371.711192</td>\n",
       "      <td>16</td>\n",
       "      <td>Альберт</td>\n",
       "      <td>25</td>\n",
       "      <td>Краснодар</td>\n",
       "      <td>free</td>\n",
       "      <td>8</td>\n",
       "      <td>50</td>\n",
       "      <td>0</td>\n",
       "    </tr>\n",
       "  </tbody>\n",
       "</table>\n",
       "<p>11331 rows × 12 columns</p>\n",
       "</div>"
      ],
      "text/plain": [
       "       user_id  month  count_distance  sum_distance  sum_duration     name  \\\n",
       "0            1      1               2   7027.511294            42     Кира   \n",
       "1            1      4               1    754.159807             7     Кира   \n",
       "2            1      8               2   6723.470560            46     Кира   \n",
       "3            1     10               2   5809.911100            32     Кира   \n",
       "4            1     11               3   7003.499363            56     Кира   \n",
       "...        ...    ...             ...           ...           ...      ...   \n",
       "11326     1534      6               2   3409.468534            26  Альберт   \n",
       "11327     1534      8               2   7622.453034            48  Альберт   \n",
       "11328     1534      9               1   4928.173852            23  Альберт   \n",
       "11329     1534     11               4  13350.015305            78  Альберт   \n",
       "11330     1534     12               1   2371.711192            16  Альберт   \n",
       "\n",
       "       age       city subscription_type  minute_price  start_ride_price  \\\n",
       "0       22     Тюмень             ultra             6                 0   \n",
       "1       22     Тюмень             ultra             6                 0   \n",
       "2       22     Тюмень             ultra             6                 0   \n",
       "3       22     Тюмень             ultra             6                 0   \n",
       "4       22     Тюмень             ultra             6                 0   \n",
       "...    ...        ...               ...           ...               ...   \n",
       "11326   25  Краснодар              free             8                50   \n",
       "11327   25  Краснодар              free             8                50   \n",
       "11328   25  Краснодар              free             8                50   \n",
       "11329   25  Краснодар              free             8                50   \n",
       "11330   25  Краснодар              free             8                50   \n",
       "\n",
       "       subscription_fee  \n",
       "0                   199  \n",
       "1                   199  \n",
       "2                   199  \n",
       "3                   199  \n",
       "4                   199  \n",
       "...                 ...  \n",
       "11326                 0  \n",
       "11327                 0  \n",
       "11328                 0  \n",
       "11329                 0  \n",
       "11330                 0  \n",
       "\n",
       "[11331 rows x 12 columns]"
      ]
     },
     "metadata": {},
     "output_type": "display_data"
    }
   ],
   "source": [
    "mrg_agg = mrg_agg.merge(users, how='left', on='user_id')\n",
    "mrg_agg = mrg_agg.merge(subs, how = 'left', on='subscription_type')\n",
    "display(mrg_agg)"
   ]
  },
  {
   "cell_type": "code",
   "execution_count": 59,
   "id": "75be2251",
   "metadata": {},
   "outputs": [],
   "source": [
    "# Добавляем столбец с помесячной выручкой, которую принёс каждый пользователь\n",
    "def revenue(row):\n",
    "    subscription_type = row['subscription_type'] \n",
    "    count = row['count_distance']\n",
    "    duration = row['sum_duration']\n",
    "    \n",
    "    if subscription_type == 'ultra':\n",
    "        rev = 0 * count + 6 * duration + 199\n",
    "        return rev\n",
    "    else:\n",
    "        rev = 50 * count + 8 * duration + 0\n",
    "        return rev\n",
    "   \n"
   ]
  },
  {
   "cell_type": "code",
   "execution_count": 60,
   "id": "4a873766",
   "metadata": {},
   "outputs": [],
   "source": [
    "mrg_agg['revenue'] = mrg_agg.apply(revenue, axis=1)"
   ]
  },
  {
   "cell_type": "code",
   "execution_count": 61,
   "id": "7f6e5f34",
   "metadata": {},
   "outputs": [
    {
     "data": {
      "text/html": [
       "<div>\n",
       "<style scoped>\n",
       "    .dataframe tbody tr th:only-of-type {\n",
       "        vertical-align: middle;\n",
       "    }\n",
       "\n",
       "    .dataframe tbody tr th {\n",
       "        vertical-align: top;\n",
       "    }\n",
       "\n",
       "    .dataframe thead th {\n",
       "        text-align: right;\n",
       "    }\n",
       "</style>\n",
       "<table border=\"1\" class=\"dataframe\">\n",
       "  <thead>\n",
       "    <tr style=\"text-align: right;\">\n",
       "      <th></th>\n",
       "      <th>user_id</th>\n",
       "      <th>month</th>\n",
       "      <th>count_distance</th>\n",
       "      <th>sum_distance</th>\n",
       "      <th>sum_duration</th>\n",
       "      <th>name</th>\n",
       "      <th>age</th>\n",
       "      <th>city</th>\n",
       "      <th>subscription_type</th>\n",
       "      <th>minute_price</th>\n",
       "      <th>start_ride_price</th>\n",
       "      <th>subscription_fee</th>\n",
       "      <th>revenue</th>\n",
       "    </tr>\n",
       "  </thead>\n",
       "  <tbody>\n",
       "    <tr>\n",
       "      <th>0</th>\n",
       "      <td>1</td>\n",
       "      <td>1</td>\n",
       "      <td>2</td>\n",
       "      <td>7027.511294</td>\n",
       "      <td>42</td>\n",
       "      <td>Кира</td>\n",
       "      <td>22</td>\n",
       "      <td>Тюмень</td>\n",
       "      <td>ultra</td>\n",
       "      <td>6</td>\n",
       "      <td>0</td>\n",
       "      <td>199</td>\n",
       "      <td>451</td>\n",
       "    </tr>\n",
       "    <tr>\n",
       "      <th>1</th>\n",
       "      <td>1</td>\n",
       "      <td>4</td>\n",
       "      <td>1</td>\n",
       "      <td>754.159807</td>\n",
       "      <td>7</td>\n",
       "      <td>Кира</td>\n",
       "      <td>22</td>\n",
       "      <td>Тюмень</td>\n",
       "      <td>ultra</td>\n",
       "      <td>6</td>\n",
       "      <td>0</td>\n",
       "      <td>199</td>\n",
       "      <td>241</td>\n",
       "    </tr>\n",
       "    <tr>\n",
       "      <th>2</th>\n",
       "      <td>1</td>\n",
       "      <td>8</td>\n",
       "      <td>2</td>\n",
       "      <td>6723.470560</td>\n",
       "      <td>46</td>\n",
       "      <td>Кира</td>\n",
       "      <td>22</td>\n",
       "      <td>Тюмень</td>\n",
       "      <td>ultra</td>\n",
       "      <td>6</td>\n",
       "      <td>0</td>\n",
       "      <td>199</td>\n",
       "      <td>475</td>\n",
       "    </tr>\n",
       "    <tr>\n",
       "      <th>3</th>\n",
       "      <td>1</td>\n",
       "      <td>10</td>\n",
       "      <td>2</td>\n",
       "      <td>5809.911100</td>\n",
       "      <td>32</td>\n",
       "      <td>Кира</td>\n",
       "      <td>22</td>\n",
       "      <td>Тюмень</td>\n",
       "      <td>ultra</td>\n",
       "      <td>6</td>\n",
       "      <td>0</td>\n",
       "      <td>199</td>\n",
       "      <td>391</td>\n",
       "    </tr>\n",
       "    <tr>\n",
       "      <th>4</th>\n",
       "      <td>1</td>\n",
       "      <td>11</td>\n",
       "      <td>3</td>\n",
       "      <td>7003.499363</td>\n",
       "      <td>56</td>\n",
       "      <td>Кира</td>\n",
       "      <td>22</td>\n",
       "      <td>Тюмень</td>\n",
       "      <td>ultra</td>\n",
       "      <td>6</td>\n",
       "      <td>0</td>\n",
       "      <td>199</td>\n",
       "      <td>535</td>\n",
       "    </tr>\n",
       "    <tr>\n",
       "      <th>...</th>\n",
       "      <td>...</td>\n",
       "      <td>...</td>\n",
       "      <td>...</td>\n",
       "      <td>...</td>\n",
       "      <td>...</td>\n",
       "      <td>...</td>\n",
       "      <td>...</td>\n",
       "      <td>...</td>\n",
       "      <td>...</td>\n",
       "      <td>...</td>\n",
       "      <td>...</td>\n",
       "      <td>...</td>\n",
       "      <td>...</td>\n",
       "    </tr>\n",
       "    <tr>\n",
       "      <th>11326</th>\n",
       "      <td>1534</td>\n",
       "      <td>6</td>\n",
       "      <td>2</td>\n",
       "      <td>3409.468534</td>\n",
       "      <td>26</td>\n",
       "      <td>Альберт</td>\n",
       "      <td>25</td>\n",
       "      <td>Краснодар</td>\n",
       "      <td>free</td>\n",
       "      <td>8</td>\n",
       "      <td>50</td>\n",
       "      <td>0</td>\n",
       "      <td>308</td>\n",
       "    </tr>\n",
       "    <tr>\n",
       "      <th>11327</th>\n",
       "      <td>1534</td>\n",
       "      <td>8</td>\n",
       "      <td>2</td>\n",
       "      <td>7622.453034</td>\n",
       "      <td>48</td>\n",
       "      <td>Альберт</td>\n",
       "      <td>25</td>\n",
       "      <td>Краснодар</td>\n",
       "      <td>free</td>\n",
       "      <td>8</td>\n",
       "      <td>50</td>\n",
       "      <td>0</td>\n",
       "      <td>484</td>\n",
       "    </tr>\n",
       "    <tr>\n",
       "      <th>11328</th>\n",
       "      <td>1534</td>\n",
       "      <td>9</td>\n",
       "      <td>1</td>\n",
       "      <td>4928.173852</td>\n",
       "      <td>23</td>\n",
       "      <td>Альберт</td>\n",
       "      <td>25</td>\n",
       "      <td>Краснодар</td>\n",
       "      <td>free</td>\n",
       "      <td>8</td>\n",
       "      <td>50</td>\n",
       "      <td>0</td>\n",
       "      <td>234</td>\n",
       "    </tr>\n",
       "    <tr>\n",
       "      <th>11329</th>\n",
       "      <td>1534</td>\n",
       "      <td>11</td>\n",
       "      <td>4</td>\n",
       "      <td>13350.015305</td>\n",
       "      <td>78</td>\n",
       "      <td>Альберт</td>\n",
       "      <td>25</td>\n",
       "      <td>Краснодар</td>\n",
       "      <td>free</td>\n",
       "      <td>8</td>\n",
       "      <td>50</td>\n",
       "      <td>0</td>\n",
       "      <td>824</td>\n",
       "    </tr>\n",
       "    <tr>\n",
       "      <th>11330</th>\n",
       "      <td>1534</td>\n",
       "      <td>12</td>\n",
       "      <td>1</td>\n",
       "      <td>2371.711192</td>\n",
       "      <td>16</td>\n",
       "      <td>Альберт</td>\n",
       "      <td>25</td>\n",
       "      <td>Краснодар</td>\n",
       "      <td>free</td>\n",
       "      <td>8</td>\n",
       "      <td>50</td>\n",
       "      <td>0</td>\n",
       "      <td>178</td>\n",
       "    </tr>\n",
       "  </tbody>\n",
       "</table>\n",
       "<p>11331 rows × 13 columns</p>\n",
       "</div>"
      ],
      "text/plain": [
       "       user_id  month  count_distance  sum_distance  sum_duration     name  \\\n",
       "0            1      1               2   7027.511294            42     Кира   \n",
       "1            1      4               1    754.159807             7     Кира   \n",
       "2            1      8               2   6723.470560            46     Кира   \n",
       "3            1     10               2   5809.911100            32     Кира   \n",
       "4            1     11               3   7003.499363            56     Кира   \n",
       "...        ...    ...             ...           ...           ...      ...   \n",
       "11326     1534      6               2   3409.468534            26  Альберт   \n",
       "11327     1534      8               2   7622.453034            48  Альберт   \n",
       "11328     1534      9               1   4928.173852            23  Альберт   \n",
       "11329     1534     11               4  13350.015305            78  Альберт   \n",
       "11330     1534     12               1   2371.711192            16  Альберт   \n",
       "\n",
       "       age       city subscription_type  minute_price  start_ride_price  \\\n",
       "0       22     Тюмень             ultra             6                 0   \n",
       "1       22     Тюмень             ultra             6                 0   \n",
       "2       22     Тюмень             ultra             6                 0   \n",
       "3       22     Тюмень             ultra             6                 0   \n",
       "4       22     Тюмень             ultra             6                 0   \n",
       "...    ...        ...               ...           ...               ...   \n",
       "11326   25  Краснодар              free             8                50   \n",
       "11327   25  Краснодар              free             8                50   \n",
       "11328   25  Краснодар              free             8                50   \n",
       "11329   25  Краснодар              free             8                50   \n",
       "11330   25  Краснодар              free             8                50   \n",
       "\n",
       "       subscription_fee  revenue  \n",
       "0                   199      451  \n",
       "1                   199      241  \n",
       "2                   199      475  \n",
       "3                   199      391  \n",
       "4                   199      535  \n",
       "...                 ...      ...  \n",
       "11326                 0      308  \n",
       "11327                 0      484  \n",
       "11328                 0      234  \n",
       "11329                 0      824  \n",
       "11330                 0      178  \n",
       "\n",
       "[11331 rows x 13 columns]"
      ]
     },
     "execution_count": 61,
     "metadata": {},
     "output_type": "execute_result"
    }
   ],
   "source": [
    "mrg_agg"
   ]
  },
  {
   "cell_type": "markdown",
   "id": "f2dbb14d",
   "metadata": {},
   "source": [
    "<div class=\"alert alert-block alert-warning\">\n",
    "<b>🔁Комментарий ревьюера:</b> \n",
    "\n",
    "Метод apply применяет функцию построчно, это может быть критично на больших данных, код будет работать очень долго. Тут оптимальнее будет посчитать выручку с помощью простых векторных операций со столбцами (арифметические действия).\n",
    "\n",
    "\n",
    "Код всегда стоит писать более универсальным, без ручного внесения значений. В сводной таблице у нас уже есть все значения по тарифам для расчета выручки, мы сможем посчитать выручку простыми арифметическими действиями со столбцами сводной таблицы и формула будет единой для обеих групп пользователей.</div>"
   ]
  },
  {
   "cell_type": "markdown",
   "id": "2b60d8bc",
   "metadata": {},
   "source": [
    "<div class=\"alert alert-block alert-info\">\n",
    "<b>🔄Комментарий студента:</b> \n",
    "Вариант кода:\n",
    "\n",
    "    def revenue(row):\n",
    "    count = row['count_distance']\n",
    "    duration = row['sum_duration']\n",
    "    ultra_revenue = 6 * duration + 199\n",
    "    free_revenue = 8 * duration\n",
    "    return 0 if pd.isnull(row['subscription_type']) else (ultra_revenue if row['subscription_type'] == 'ultra' else free_revenue) * count\n",
    "    </div>"
   ]
  },
  {
   "cell_type": "code",
   "execution_count": 62,
   "id": "29e059dd",
   "metadata": {},
   "outputs": [
    {
     "data": {
      "text/html": [
       "<div>\n",
       "<style scoped>\n",
       "    .dataframe tbody tr th:only-of-type {\n",
       "        vertical-align: middle;\n",
       "    }\n",
       "\n",
       "    .dataframe tbody tr th {\n",
       "        vertical-align: top;\n",
       "    }\n",
       "\n",
       "    .dataframe thead th {\n",
       "        text-align: right;\n",
       "    }\n",
       "</style>\n",
       "<table border=\"1\" class=\"dataframe\">\n",
       "  <thead>\n",
       "    <tr style=\"text-align: right;\">\n",
       "      <th></th>\n",
       "      <th>user_id</th>\n",
       "      <th>month</th>\n",
       "      <th>count_distance</th>\n",
       "      <th>sum_distance</th>\n",
       "      <th>sum_duration</th>\n",
       "      <th>name</th>\n",
       "      <th>age</th>\n",
       "      <th>city</th>\n",
       "      <th>subscription_type</th>\n",
       "      <th>minute_price</th>\n",
       "      <th>start_ride_price</th>\n",
       "      <th>subscription_fee</th>\n",
       "      <th>revenue</th>\n",
       "    </tr>\n",
       "  </thead>\n",
       "  <tbody>\n",
       "    <tr>\n",
       "      <th>0</th>\n",
       "      <td>1</td>\n",
       "      <td>1</td>\n",
       "      <td>2</td>\n",
       "      <td>7027.511294</td>\n",
       "      <td>42</td>\n",
       "      <td>Кира</td>\n",
       "      <td>22</td>\n",
       "      <td>Тюмень</td>\n",
       "      <td>ultra</td>\n",
       "      <td>6</td>\n",
       "      <td>0</td>\n",
       "      <td>199</td>\n",
       "      <td>451</td>\n",
       "    </tr>\n",
       "    <tr>\n",
       "      <th>1</th>\n",
       "      <td>1</td>\n",
       "      <td>4</td>\n",
       "      <td>1</td>\n",
       "      <td>754.159807</td>\n",
       "      <td>7</td>\n",
       "      <td>Кира</td>\n",
       "      <td>22</td>\n",
       "      <td>Тюмень</td>\n",
       "      <td>ultra</td>\n",
       "      <td>6</td>\n",
       "      <td>0</td>\n",
       "      <td>199</td>\n",
       "      <td>241</td>\n",
       "    </tr>\n",
       "    <tr>\n",
       "      <th>2</th>\n",
       "      <td>1</td>\n",
       "      <td>8</td>\n",
       "      <td>2</td>\n",
       "      <td>6723.470560</td>\n",
       "      <td>46</td>\n",
       "      <td>Кира</td>\n",
       "      <td>22</td>\n",
       "      <td>Тюмень</td>\n",
       "      <td>ultra</td>\n",
       "      <td>6</td>\n",
       "      <td>0</td>\n",
       "      <td>199</td>\n",
       "      <td>475</td>\n",
       "    </tr>\n",
       "    <tr>\n",
       "      <th>3</th>\n",
       "      <td>1</td>\n",
       "      <td>10</td>\n",
       "      <td>2</td>\n",
       "      <td>5809.911100</td>\n",
       "      <td>32</td>\n",
       "      <td>Кира</td>\n",
       "      <td>22</td>\n",
       "      <td>Тюмень</td>\n",
       "      <td>ultra</td>\n",
       "      <td>6</td>\n",
       "      <td>0</td>\n",
       "      <td>199</td>\n",
       "      <td>391</td>\n",
       "    </tr>\n",
       "    <tr>\n",
       "      <th>4</th>\n",
       "      <td>1</td>\n",
       "      <td>11</td>\n",
       "      <td>3</td>\n",
       "      <td>7003.499363</td>\n",
       "      <td>56</td>\n",
       "      <td>Кира</td>\n",
       "      <td>22</td>\n",
       "      <td>Тюмень</td>\n",
       "      <td>ultra</td>\n",
       "      <td>6</td>\n",
       "      <td>0</td>\n",
       "      <td>199</td>\n",
       "      <td>535</td>\n",
       "    </tr>\n",
       "    <tr>\n",
       "      <th>...</th>\n",
       "      <td>...</td>\n",
       "      <td>...</td>\n",
       "      <td>...</td>\n",
       "      <td>...</td>\n",
       "      <td>...</td>\n",
       "      <td>...</td>\n",
       "      <td>...</td>\n",
       "      <td>...</td>\n",
       "      <td>...</td>\n",
       "      <td>...</td>\n",
       "      <td>...</td>\n",
       "      <td>...</td>\n",
       "      <td>...</td>\n",
       "    </tr>\n",
       "    <tr>\n",
       "      <th>11326</th>\n",
       "      <td>1534</td>\n",
       "      <td>6</td>\n",
       "      <td>2</td>\n",
       "      <td>3409.468534</td>\n",
       "      <td>26</td>\n",
       "      <td>Альберт</td>\n",
       "      <td>25</td>\n",
       "      <td>Краснодар</td>\n",
       "      <td>free</td>\n",
       "      <td>8</td>\n",
       "      <td>50</td>\n",
       "      <td>0</td>\n",
       "      <td>308</td>\n",
       "    </tr>\n",
       "    <tr>\n",
       "      <th>11327</th>\n",
       "      <td>1534</td>\n",
       "      <td>8</td>\n",
       "      <td>2</td>\n",
       "      <td>7622.453034</td>\n",
       "      <td>48</td>\n",
       "      <td>Альберт</td>\n",
       "      <td>25</td>\n",
       "      <td>Краснодар</td>\n",
       "      <td>free</td>\n",
       "      <td>8</td>\n",
       "      <td>50</td>\n",
       "      <td>0</td>\n",
       "      <td>484</td>\n",
       "    </tr>\n",
       "    <tr>\n",
       "      <th>11328</th>\n",
       "      <td>1534</td>\n",
       "      <td>9</td>\n",
       "      <td>1</td>\n",
       "      <td>4928.173852</td>\n",
       "      <td>23</td>\n",
       "      <td>Альберт</td>\n",
       "      <td>25</td>\n",
       "      <td>Краснодар</td>\n",
       "      <td>free</td>\n",
       "      <td>8</td>\n",
       "      <td>50</td>\n",
       "      <td>0</td>\n",
       "      <td>234</td>\n",
       "    </tr>\n",
       "    <tr>\n",
       "      <th>11329</th>\n",
       "      <td>1534</td>\n",
       "      <td>11</td>\n",
       "      <td>4</td>\n",
       "      <td>13350.015305</td>\n",
       "      <td>78</td>\n",
       "      <td>Альберт</td>\n",
       "      <td>25</td>\n",
       "      <td>Краснодар</td>\n",
       "      <td>free</td>\n",
       "      <td>8</td>\n",
       "      <td>50</td>\n",
       "      <td>0</td>\n",
       "      <td>824</td>\n",
       "    </tr>\n",
       "    <tr>\n",
       "      <th>11330</th>\n",
       "      <td>1534</td>\n",
       "      <td>12</td>\n",
       "      <td>1</td>\n",
       "      <td>2371.711192</td>\n",
       "      <td>16</td>\n",
       "      <td>Альберт</td>\n",
       "      <td>25</td>\n",
       "      <td>Краснодар</td>\n",
       "      <td>free</td>\n",
       "      <td>8</td>\n",
       "      <td>50</td>\n",
       "      <td>0</td>\n",
       "      <td>178</td>\n",
       "    </tr>\n",
       "  </tbody>\n",
       "</table>\n",
       "<p>11331 rows × 13 columns</p>\n",
       "</div>"
      ],
      "text/plain": [
       "       user_id  month  count_distance  sum_distance  sum_duration     name  \\\n",
       "0            1      1               2   7027.511294            42     Кира   \n",
       "1            1      4               1    754.159807             7     Кира   \n",
       "2            1      8               2   6723.470560            46     Кира   \n",
       "3            1     10               2   5809.911100            32     Кира   \n",
       "4            1     11               3   7003.499363            56     Кира   \n",
       "...        ...    ...             ...           ...           ...      ...   \n",
       "11326     1534      6               2   3409.468534            26  Альберт   \n",
       "11327     1534      8               2   7622.453034            48  Альберт   \n",
       "11328     1534      9               1   4928.173852            23  Альберт   \n",
       "11329     1534     11               4  13350.015305            78  Альберт   \n",
       "11330     1534     12               1   2371.711192            16  Альберт   \n",
       "\n",
       "       age       city subscription_type  minute_price  start_ride_price  \\\n",
       "0       22     Тюмень             ultra             6                 0   \n",
       "1       22     Тюмень             ultra             6                 0   \n",
       "2       22     Тюмень             ultra             6                 0   \n",
       "3       22     Тюмень             ultra             6                 0   \n",
       "4       22     Тюмень             ultra             6                 0   \n",
       "...    ...        ...               ...           ...               ...   \n",
       "11326   25  Краснодар              free             8                50   \n",
       "11327   25  Краснодар              free             8                50   \n",
       "11328   25  Краснодар              free             8                50   \n",
       "11329   25  Краснодар              free             8                50   \n",
       "11330   25  Краснодар              free             8                50   \n",
       "\n",
       "       subscription_fee  revenue  \n",
       "0                   199      451  \n",
       "1                   199      241  \n",
       "2                   199      475  \n",
       "3                   199      391  \n",
       "4                   199      535  \n",
       "...                 ...      ...  \n",
       "11326                 0      308  \n",
       "11327                 0      484  \n",
       "11328                 0      234  \n",
       "11329                 0      824  \n",
       "11330                 0      178  \n",
       "\n",
       "[11331 rows x 13 columns]"
      ]
     },
     "metadata": {},
     "output_type": "display_data"
    }
   ],
   "source": [
    "display(mrg_agg)\n"
   ]
  },
  {
   "cell_type": "markdown",
   "id": "73e21cdd",
   "metadata": {},
   "source": [
    "**Вывод 5 шага.**"
   ]
  },
  {
   "cell_type": "markdown",
   "id": "9ad6883a",
   "metadata": {},
   "source": [
    "- Создан датафрейм с агрегированными данными о поездках на основе датафрейма с объединёнными данными из шага 4, найдено суммарное расстояние, количество поездок и суммарное время для каждого пользователя за каждый месяц.\n",
    "- Добавлен столбец с помесячной выручкой, которую принес каждый пользователь."
   ]
  },
  {
   "cell_type": "markdown",
   "id": "a2705187",
   "metadata": {},
   "source": [
    "## Шаг. Проверка гипотез"
   ]
  },
  {
   "cell_type": "markdown",
   "id": "ad0fdbe6",
   "metadata": {},
   "source": [
    "### Проверим, тратят ли пользователи с подпиской больше времени на поездки? Если да, то пользователи с подпиской могут быть «выгоднее» для компании. Проверим гипотезу. Используем исходные данные о продолжительности каждой сессии — отдельно для подписчиков и тех, у кого нет подписки."
   ]
  },
  {
   "cell_type": "markdown",
   "id": "a797a6fe",
   "metadata": {},
   "source": [
    "- Используем датафреймы data_mrg_free и data_mrg_ultra. \n",
    "- Нулевая гипотеза: среднее время сесии пользователей с подпиской и пользователей без подписки равно.\n",
    "- Альтернативная гипотеза: пользователи с подпиской тратят больше времени на поездки."
   ]
  },
  {
   "cell_type": "code",
   "execution_count": 63,
   "id": "1f474dc3",
   "metadata": {},
   "outputs": [
    {
     "name": "stdout",
     "output_type": "stream",
     "text": [
      "Среднее время сессии без подписки: 17.39090929866399\n",
      "Среднее время сессии по подписке: 18.54198516280583\n",
      "p-значение: 1.2804098316645618e-34\n",
      "Отвергаем нулевую гипотезу\n"
     ]
    }
   ],
   "source": [
    "#Проведем двухвыборочный t-тест для независимых выборок\n",
    "duration_free = data_mrg_free['duration']\n",
    "duration_ultra = data_mrg_ultra['duration']\n",
    "\n",
    "print(f'Среднее время сессии без подписки: {np.mean(duration_free)}')\n",
    "print(f'Среднее время сессии по подписке: {np.mean(duration_ultra)}')\n",
    "\n",
    "# уровень статистической значимости\n",
    "alpha = 0.05\n",
    "\n",
    "results = st.ttest_ind(duration_free, duration_ultra, alternative='less')\n",
    "print(f'p-значение: {results.pvalue}')\n",
    "\n",
    "\n",
    "if results.pvalue < alpha:\n",
    "    print('Отвергаем нулевую гипотезу')\n",
    "else:\n",
    "    print('Нет оснований отвергнуть нулевую гипотезу')"
   ]
  },
  {
   "cell_type": "markdown",
   "id": "80b2935d",
   "metadata": {},
   "source": [
    "Вывод: пользователи с подпиской тратят больше времени на поездки."
   ]
  },
  {
   "cell_type": "markdown",
   "id": "0e108fdf",
   "metadata": {},
   "source": [
    "### Расстояние одной поездки в 3130 метров — оптимальное с точки зрения износа самоката. Можно ли  ли сказать, что среднее расстояние, которое проезжают пользователи с подпиской за одну поездку, не превышает 3130 метров? Проверим гипотезу и сделаем выводы."
   ]
  },
  {
   "cell_type": "markdown",
   "id": "7524650c",
   "metadata": {},
   "source": [
    "- Используем датафреймы data_mrg_free и data_mrg_ultra.\n",
    "- Нулевая гипотеза: среднее расстояние поездки пользователи с подпиской не превышает 3130 метров.\n",
    "- Альтернативная гипотеза: среднее расстояние поездки пользователи с подпиской превышает 3130 метров."
   ]
  },
  {
   "cell_type": "code",
   "execution_count": 64,
   "id": "a2438516",
   "metadata": {},
   "outputs": [
    {
     "name": "stdout",
     "output_type": "stream",
     "text": [
      "p-значение: 0.9195368847849785\n",
      "Не получилось отвергнуть нулевую гипотезу\n"
     ]
    }
   ],
   "source": [
    "#Проведем одновыборочный t-тест\n",
    "#Среднее расстояние поездки пользователей по подписке\n",
    "duration_mean = 3130\n",
    "\n",
    "# уровень статистической значимости\n",
    "alpha = 0.05\n",
    "\n",
    "results = st.ttest_1samp(data_mrg_ultra['distance'], duration_mean, alternative='greater')\n",
    "\n",
    "print('p-значение:', results.pvalue)\n",
    "\n",
    "if results.pvalue < alpha:\n",
    "    print('Отвергаем нулевую гипотезу')\n",
    "else:\n",
    "    print('Не получилось отвергнуть нулевую гипотезу')"
   ]
  },
  {
   "cell_type": "code",
   "execution_count": 65,
   "id": "b496fe06",
   "metadata": {},
   "outputs": [
    {
     "name": "stdout",
     "output_type": "stream",
     "text": [
      "Среднее расстояние поездки пользователей по подписке: 3115.0\n"
     ]
    }
   ],
   "source": [
    "#Проверим значение дистанции пользователя по подписке\n",
    "print('Среднее расстояние поездки пользователей по подписке:', round(data_mrg_ultra['distance'].mean(),0))"
   ]
  },
  {
   "cell_type": "markdown",
   "id": "6516d4a9",
   "metadata": {},
   "source": [
    "Вывод: среднее расстояние пользователя с подпиской за одну поездку действительно не превышает 3130 м."
   ]
  },
  {
   "cell_type": "markdown",
   "id": "0c9fb36d",
   "metadata": {},
   "source": [
    "### Проверим гипотезу о том, будет ли помесячная выручка от пользователей с подпиской по месяцам выше, чем выручка от пользователей без подписки. Сделаем вывод."
   ]
  },
  {
   "cell_type": "markdown",
   "id": "769fffb1",
   "metadata": {},
   "source": [
    "- Используем датафрейм mrg_agg.\n",
    "- Нулевая гипотеза: помесячная выручка от пользователей с подпиской и без равны.\n",
    "- Альтернативная гипотеза: помесячная выручка от пользователей с подпиской выше чем выручка от пользователей без подписки."
   ]
  },
  {
   "cell_type": "code",
   "execution_count": 66,
   "id": "bcc1e797",
   "metadata": {},
   "outputs": [
    {
     "name": "stdout",
     "output_type": "stream",
     "text": [
      "p-значение: 1.8850394384715216e-31\n",
      "Отвергаем нулевую гипотезу\n"
     ]
    }
   ],
   "source": [
    "#Проведем двухвыборочный t-тест для независимых выборок\n",
    "# уровень статистической значимости\n",
    "alpha = 0.05\n",
    "\n",
    "results = st.ttest_ind(\n",
    "    mrg_agg.loc[mrg_agg['subscription_type'] == 'ultra', 'revenue'], \n",
    "    mrg_agg.loc[mrg_agg['subscription_type'] == 'free', 'revenue'], \n",
    "    alternative='greater')\n",
    "\n",
    "print(f'p-значение: {results.pvalue}')\n",
    "\n",
    "\n",
    "if results.pvalue < alpha:\n",
    "    print('Отвергаем нулевую гипотезу')\n",
    "else:\n",
    "    print('Нет оснований отвергнуть нулевую гипотезу')"
   ]
  },
  {
   "cell_type": "code",
   "execution_count": 67,
   "id": "d8e539e4",
   "metadata": {},
   "outputs": [
    {
     "name": "stdout",
     "output_type": "stream",
     "text": [
      "Средняя помесячная выручка от пользователей с подпиской: 362.79\n",
      "Средняя помесячная выручка от пользователей без подпски: 328.64\n"
     ]
    }
   ],
   "source": [
    "#Проверим вывод \n",
    "# Выберем данные только по пользователям с подпиской 'ultra'\n",
    "ultra_data = mrg_agg[mrg_agg['subscription_type'] == 'ultra']\n",
    "average_revenue_ultra = ultra_data['revenue'].mean()\n",
    "print('Средняя помесячная выручка от пользователей с подпиской:', round(average_revenue_ultra, 2))\n",
    "# Выберем данные только по пользователям без подписки\n",
    "free_data = mrg_agg[mrg_agg['subscription_type'] == 'free']\n",
    "average_revenue_free = free_data['revenue'].mean()\n",
    "print('Средняя помесячная выручка от пользователей без подпски:', round(average_revenue_free, 2))"
   ]
  },
  {
   "cell_type": "markdown",
   "id": "cad29188",
   "metadata": {},
   "source": [
    "Вывод: помесячная выручка от пользователей с подпиской выше чем выручка от пользователей без подписки."
   ]
  },
  {
   "cell_type": "markdown",
   "id": "1a852390",
   "metadata": {},
   "source": [
    "### Представим такую ситуацию: техническая команда сервиса обновила сервера, с которыми взаимодействует мобильное приложение. Она надеется, что из-за этого количество обращений в техподдержку значимо снизилось. Некоторый файл содержит для каждого пользователя данные о количестве обращений до обновления и после него. Какой тест вам понадобился бы для проверки этой гипотезы?"
   ]
  },
  {
   "cell_type": "markdown",
   "id": "4a035348",
   "metadata": {},
   "source": [
    "Для проверки этой гипотезы о снижении количества обращений в техподдержку после обновления серверов можно воспользоваться двусторонним t-тестом для зависимых выборок. Двустоонний t-тест позволяет сравнивать средние значения двух связанных групп, например, до и после вмешательства или изменений."
   ]
  },
  {
   "cell_type": "markdown",
   "id": "2547b8b4",
   "metadata": {},
   "source": [
    "**Вывод 6 шага.**"
   ]
  },
  {
   "cell_type": "markdown",
   "id": "1383b08f",
   "metadata": {},
   "source": [
    " - пользователи с подпиской тратят больше времени на поездки;\n",
    " \n",
    " \n",
    " - среднее расстояние пользователей с подпиской за одну поездку действительно не превышает 3130 м.:\n",
    " - среднее расстояние поездки пользователей по подписке: 3115 м.;\n",
    " \n",
    " \n",
    " - помесячная выручка от пользователей с подпиской выше чем выручка от пользователей без подписки: \n",
    " - от пользователя с подпиской - 362,79 руб., \n",
    " - от пользователя без подписки - 328,64 руб.."
   ]
  },
  {
   "cell_type": "markdown",
   "id": "f13993ac",
   "metadata": {},
   "source": [
    "**Общий вывод**"
   ]
  },
  {
   "cell_type": "markdown",
   "id": "8a19a9a6",
   "metadata": {},
   "source": [
    "- Получили данные, что информация в датафреймах предоставлена по 8 городам, из которых самое большое количество пользователей в Пятигорске, наименьшее количество - в Москве.\n",
    "\n",
    "- Пользователей с типом подписки \"без подписки\" больше, чем с \"с подпиской Ultra\".\n",
    "\n",
    "- Наименьший возраст пользователя - 12 лет, наибольший возраст - 43 года, средний возраст 24,9 лет. \n",
    "\n",
    "- Максимальное расстояние, которое преодолели пользователи за сессию составляет 7211 м., минимальное - 0,85 м., среднее - 3070 м.Есть небольшой всплеск на дистанции 600 м., а так же большое средне отклонение, по которому можно предположить, что на длину сессии могут оказывать влияние маршрут (поездка до метро или остановки общественного транспорта, стоянки самокатов), погодные условия (использовали самокат для дистанции от остановки до остановки около дома), работоспособность самоката (самокат оказался с дефектом в работе и был возвращен на стоянку, не заряженная батарея), время суток (время в часы пик) и т.д.\n",
    "\n",
    "- Максимальная продолжительность одной сессии составляет 40 минут, минимальная продолжительность - 0,5 минут, средняя продолжительность - 17,8 минут. Есть отклонение в 6, которое возникло по наличию небольшого количества длительных сессии. Но в основном самокат используют до 20 минут.\n",
    "\n",
    "- Среди пользователей \"без подписки\" около 100 пользователей в год имеют длительность  сесии около 2-х минут. Предположим, что пользователь без подписки старался проехать максимальную дистанцию за одну минуту, потому что данный тариф предлагает \"первую минуту бесплатно\". Этим может быть объяснен данный пик в данных.\n",
    "\n",
    "- Можем предположить на наличие группы подписчиков, которые ездят на короткие дистанции, и группы подписчиков, которые ездят на более длинные дистанции. Количество пользователей, использующих самокаты на длинные расстояния больше как среди пользователй \"по подписке\" и \"без подписки\". Возможно проведение дополнительного анализа двух данных групп среди обоих видов пользователей.\n",
    "\n",
    "- Проверены гипотезы:\n",
    "- пользователи с подпиской тратят больше времени на поездки;\n",
    "\n",
    "- среднее расстояние пользователей с подпиской за одну поездку действительно не превышает 3130 м.:\n",
    "- среднее расстояние поездки пользователей по подписке: 3115 м.;\n",
    "    \n",
    "- помесячная выручка от пользователей с подпиской выше чем выручка от пользователей без подписки:\n",
    "- от пользователя с подпиской - 362,79 руб.,\n",
    "- от пользователя без подписки - 328,64 руб.."
   ]
  },
  {
   "cell_type": "markdown",
   "id": "d9799a45",
   "metadata": {},
   "source": [
    "## Шаг. Распределения"
   ]
  },
  {
   "cell_type": "markdown",
   "id": "be8bc10f",
   "metadata": {},
   "source": [
    "### Отделу маркетинга GoFast поставили задачу: нужно провести акцию с раздачей промокодов на один бесплатный месяц подписки, в рамках которой как минимум 100 существующих клиентов должны продлить эту подписку. То есть по завершении периода действия подписки пользователь может либо отказаться от неё, либо продлить, совершив соответствующий платёж. Эта акция уже проводилась ранее и по итогу выяснилось, что после бесплатного пробного периода подписку продлевают 10 % пользователей. Выясним, какое минимальное количество промокодов нужно разослать, чтобы вероятность не выполнить план была примерно 5 %. Подберем параметры распределения, описывающего эту ситуацию, построим график распределения и сформулируем ответ на вопрос о количестве промокодов."
   ]
  },
  {
   "cell_type": "code",
   "execution_count": 68,
   "id": "2f186057",
   "metadata": {},
   "outputs": [
    {
     "data": {
      "image/png": "[encoded data removed]",
      "text/plain": [
       "<Figure size 432x288 with 1 Axes>"
      ]
     },
     "metadata": {
      "needs_background": "light"
     },
     "output_type": "display_data"
    }
   ],
   "source": [
    "n = 100  # количество попыток\n",
    "p = 0.1  # вероятность успеха\n",
    "\n",
    "distr = [binom.pmf(k, n, p) for k in range(n + 1)]\n",
    "\n",
    "plt.bar(range(n + 1), distr)\n",
    "plt.title('Биномиальное распределение с n=100, p=0.1')\n",
    "plt.xlabel('Количество успехов')\n",
    "plt.ylabel('Вероятность')\n",
    "plt.show()"
   ]
  },
  {
   "cell_type": "code",
   "execution_count": 69,
   "id": "c5d6f91c",
   "metadata": {},
   "outputs": [
    {
     "data": {
      "image/png": "[encoded data removed]",
      "text/plain": [
       "<Figure size 432x288 with 1 Axes>"
      ]
     },
     "metadata": {
      "needs_background": "light"
     },
     "output_type": "display_data"
    }
   ],
   "source": [
    "from math import factorial\n",
    "\n",
    "n = 1000  # количество попыток\n",
    "p = 0.1  # вероятность успеха\n",
    "distr = []\n",
    "\n",
    "for k in range(0, n + 1):\n",
    "    choose = factorial(n) / (factorial(k) * factorial(n - k))\n",
    "    prob = choose * p**k * (1 - p)**(n - k)\n",
    "    distr.append(prob)\n",
    "\n",
    "plt.plot(range(n+1), distr, marker='o')\n",
    "plt.xlabel('Количество успехов (k)')\n",
    "plt.ylabel('Вероятность')\n",
    "plt.title('Биномиальное распределение')\n",
    "plt.show()"
   ]
  },
  {
   "cell_type": "markdown",
   "id": "c0d22bc2",
   "metadata": {},
   "source": [
    "Пик графика с вероятностью 5% при количестве успехов близким к 500 более вероятно не выполнить план."
   ]
  },
  {
   "cell_type": "code",
   "execution_count": 70,
   "id": "9db4d89d",
   "metadata": {},
   "outputs": [
    {
     "name": "stdout",
     "output_type": "stream",
     "text": [
      "Минимальное число промокодов: 1161\n"
     ]
    }
   ],
   "source": [
    "for n in range (500,1500):\n",
    "    if binom.cdf(99, n, p) < 0.05:\n",
    "        print(\"Минимальное число промокодов:\", n)\n",
    "        break"
   ]
  },
  {
   "cell_type": "markdown",
   "id": "42985f46",
   "metadata": {},
   "source": [
    "Вывод: для вероятности не выполнения плана менее 5% необходимо разослать минимум 1161 промокодов."
   ]
  },
  {
   "cell_type": "markdown",
   "id": "a5d4a6cd",
   "metadata": {},
   "source": [
    "### Отдел маркетинга рассылает клиентам push-уведомления в мобильном приложении. Клиенты могут открыть его или не открывать. Известно, что уведомления открывают около 40 % получивших клиентов. Отдел планирует разослать 1 млн уведомлений. С помощью аппроксимации построим примерный график распределения и оценим вероятность того, что уведомление откроют не более 399,5 тыс. пользователей."
   ]
  },
  {
   "cell_type": "code",
   "execution_count": 71,
   "id": "f447a172",
   "metadata": {
    "scrolled": false
   },
   "outputs": [
    {
     "data": {
      "image/png": "[encoded data removed]",
      "text/plain": [
       "<Figure size 432x288 with 1 Axes>"
      ]
     },
     "metadata": {
      "needs_background": "light"
     },
     "output_type": "display_data"
    },
    {
     "name": "stdout",
     "output_type": "stream",
     "text": [
      "Вероятность того, что уведомление откроют не более 399500 пользователей: 0.1537\n"
     ]
    }
   ],
   "source": [
    "from scipy.stats import norm\n",
    "\n",
    "n = 1000000  # количество уведомлений\n",
    "p = 0.4      # вероятность открытия уведомления\n",
    "mu = n * p\n",
    "sigma = np.sqrt(n * p * (1 - p))\n",
    "\n",
    "# Оценка вероятности\n",
    "x = 399500\n",
    "prob = norm.cdf(x, mu, sigma)\n",
    "\n",
    "# Построение графика\n",
    "x_values = np.linspace(0, n, 1000)\n",
    "y_values = norm.pdf(x_values, mu, sigma)\n",
    "\n",
    "plt.plot(x_values, y_values, color='blue')\n",
    "plt.fill_between(x_values, y_values, where=(x_values <= x), color='skyblue', alpha=0.5)\n",
    "plt.axvline(x, color='red', linestyle='--')\n",
    "plt.xlabel('Количество открывших пользователей')\n",
    "plt.ylabel('Плотность вероятности')\n",
    "plt.title('Аппроксимация биномиального распределения нормальным')\n",
    "plt.grid(True)\n",
    "plt.show()\n",
    "\n",
    "print(f'Вероятность того, что уведомление откроют не более {x} пользователей: {prob:.4f}')\n"
   ]
  },
  {
   "cell_type": "code",
   "execution_count": 72,
   "id": "2881ac59",
   "metadata": {},
   "outputs": [
    {
     "data": {
      "image/png": "[encoded data removed]",
      "text/plain": [
       "<Figure size 432x288 with 1 Axes>"
      ]
     },
     "metadata": {
      "needs_background": "light"
     },
     "output_type": "display_data"
    }
   ],
   "source": [
    "# Код, предложенный  ревьюером\n",
    "\n",
    "s = np.random.normal(mu, sigma, 1000) # генерируем значения для нормального распределения\n",
    "\n",
    "\n",
    "plt.hist(s, 30) # строим гистограмму\n",
    "plt.axvline(399500, color='red', linestyle='--')\n",
    "plt.title('Название графика')\n",
    "plt.ylabel('Подпись оси y')\n",
    "plt.xlabel('Подпись оси х')\n",
    "\n",
    "plt.show()"
   ]
  },
  {
   "cell_type": "markdown",
   "id": "4e72be6b",
   "metadata": {},
   "source": [
    "Вывод: вероятность того, что уведомление откроют не более 399,5 тыс. пользователей при рассылке 1 млн.уведомлений составляет 15%."
   ]
  },
  {
   "cell_type": "code",
   "execution_count": null,
   "id": "50c8d093",
   "metadata": {},
   "outputs": [],
   "source": []
  }
 ],
 "metadata": {
  "ExecuteTimeLog": [
   {
    "duration": 1372,
    "start_time": "2024-04-10T16:09:48.097Z"
   },
   {
    "duration": 3,
    "start_time": "2024-04-10T16:09:50.577Z"
   },
   {
    "duration": 103,
    "start_time": "2024-04-10T16:13:00.020Z"
   },
   {
    "duration": 168,
    "start_time": "2024-04-10T16:13:21.663Z"
   },
   {
    "duration": 78,
    "start_time": "2024-04-10T16:14:03.363Z"
   },
   {
    "duration": 68,
    "start_time": "2024-04-10T16:27:38.271Z"
   },
   {
    "duration": 66,
    "start_time": "2024-04-10T16:27:41.715Z"
   },
   {
    "duration": 16,
    "start_time": "2024-04-10T16:32:25.532Z"
   },
   {
    "duration": 22,
    "start_time": "2024-04-10T16:34:59.480Z"
   },
   {
    "duration": 17,
    "start_time": "2024-04-10T16:45:09.891Z"
   },
   {
    "duration": 9,
    "start_time": "2024-04-10T16:45:21.845Z"
   },
   {
    "duration": 49,
    "start_time": "2024-04-10T16:57:13.027Z"
   },
   {
    "duration": 49,
    "start_time": "2024-04-10T16:57:28.094Z"
   },
   {
    "duration": 7,
    "start_time": "2024-04-10T16:57:44.134Z"
   },
   {
    "duration": 1156,
    "start_time": "2024-04-10T16:57:51.904Z"
   },
   {
    "duration": 71,
    "start_time": "2024-04-10T16:57:53.063Z"
   },
   {
    "duration": 16,
    "start_time": "2024-04-10T16:57:53.135Z"
   },
   {
    "duration": 16,
    "start_time": "2024-04-10T16:57:53.153Z"
   },
   {
    "duration": 14,
    "start_time": "2024-04-10T16:57:53.171Z"
   },
   {
    "duration": 11,
    "start_time": "2024-04-10T16:58:14.815Z"
   },
   {
    "duration": 7,
    "start_time": "2024-04-10T17:00:10.963Z"
   },
   {
    "duration": 13,
    "start_time": "2024-04-10T17:16:44.273Z"
   },
   {
    "duration": 20,
    "start_time": "2024-04-10T17:25:28.293Z"
   },
   {
    "duration": 10,
    "start_time": "2024-04-10T17:26:11.850Z"
   },
   {
    "duration": 12,
    "start_time": "2024-04-10T17:46:32.928Z"
   },
   {
    "duration": 25,
    "start_time": "2024-04-10T17:46:40.712Z"
   },
   {
    "duration": 7,
    "start_time": "2024-04-10T17:46:49.212Z"
   },
   {
    "duration": 8,
    "start_time": "2024-04-10T18:57:37.739Z"
   },
   {
    "duration": 12,
    "start_time": "2024-04-10T18:58:53.154Z"
   },
   {
    "duration": 1292,
    "start_time": "2024-04-10T19:06:37.155Z"
   },
   {
    "duration": 13,
    "start_time": "2024-04-10T19:06:51.880Z"
   },
   {
    "duration": 3,
    "start_time": "2024-04-10T19:08:21.802Z"
   },
   {
    "duration": 101,
    "start_time": "2024-04-10T19:08:21.810Z"
   },
   {
    "duration": 11,
    "start_time": "2024-04-10T19:08:21.913Z"
   },
   {
    "duration": 14,
    "start_time": "2024-04-10T19:08:21.926Z"
   },
   {
    "duration": 26,
    "start_time": "2024-04-10T19:08:21.942Z"
   },
   {
    "duration": 19,
    "start_time": "2024-04-10T19:08:21.970Z"
   },
   {
    "duration": 25,
    "start_time": "2024-04-10T19:08:21.991Z"
   },
   {
    "duration": 8,
    "start_time": "2024-04-10T19:08:22.019Z"
   },
   {
    "duration": 16,
    "start_time": "2024-04-10T19:08:22.029Z"
   },
   {
    "duration": 35,
    "start_time": "2024-04-10T19:08:22.047Z"
   },
   {
    "duration": 19,
    "start_time": "2024-04-10T19:08:22.084Z"
   },
   {
    "duration": 22,
    "start_time": "2024-04-10T19:08:22.105Z"
   },
   {
    "duration": 19,
    "start_time": "2024-04-10T19:08:22.129Z"
   },
   {
    "duration": 34,
    "start_time": "2024-04-10T19:08:22.150Z"
   },
   {
    "duration": 0,
    "start_time": "2024-04-10T19:08:22.186Z"
   },
   {
    "duration": 12,
    "start_time": "2024-04-10T19:08:27.007Z"
   },
   {
    "duration": 14,
    "start_time": "2024-04-10T19:08:49.578Z"
   },
   {
    "duration": 12,
    "start_time": "2024-04-10T19:08:53.714Z"
   },
   {
    "duration": 13,
    "start_time": "2024-04-10T19:08:55.625Z"
   },
   {
    "duration": 11,
    "start_time": "2024-04-10T19:08:59.400Z"
   },
   {
    "duration": 11,
    "start_time": "2024-04-10T19:10:59.864Z"
   },
   {
    "duration": 10,
    "start_time": "2024-04-10T19:11:24.928Z"
   },
   {
    "duration": 11,
    "start_time": "2024-04-10T19:11:44.365Z"
   },
   {
    "duration": 11,
    "start_time": "2024-04-10T19:11:56.301Z"
   },
   {
    "duration": 1182,
    "start_time": "2024-04-10T19:14:29.700Z"
   },
   {
    "duration": 69,
    "start_time": "2024-04-10T19:14:30.884Z"
   },
   {
    "duration": 15,
    "start_time": "2024-04-10T19:14:30.955Z"
   },
   {
    "duration": 37,
    "start_time": "2024-04-10T19:14:30.971Z"
   },
   {
    "duration": 41,
    "start_time": "2024-04-10T19:14:31.010Z"
   },
   {
    "duration": 41,
    "start_time": "2024-04-10T19:14:31.053Z"
   },
   {
    "duration": 31,
    "start_time": "2024-04-10T19:14:31.096Z"
   },
   {
    "duration": 103,
    "start_time": "2024-04-10T19:14:31.129Z"
   },
   {
    "duration": 115,
    "start_time": "2024-04-10T19:14:31.234Z"
   },
   {
    "duration": 180,
    "start_time": "2024-04-10T19:14:31.352Z"
   },
   {
    "duration": 87,
    "start_time": "2024-04-10T19:14:31.534Z"
   },
   {
    "duration": 92,
    "start_time": "2024-04-10T19:14:31.623Z"
   },
   {
    "duration": 61,
    "start_time": "2024-04-10T19:14:31.718Z"
   },
   {
    "duration": 50,
    "start_time": "2024-04-10T19:14:31.781Z"
   },
   {
    "duration": 18,
    "start_time": "2024-04-10T19:14:31.833Z"
   },
   {
    "duration": 11,
    "start_time": "2024-04-10T19:16:29.412Z"
   },
   {
    "duration": 7,
    "start_time": "2024-04-10T19:18:03.799Z"
   },
   {
    "duration": 6,
    "start_time": "2024-04-10T19:23:15.262Z"
   },
   {
    "duration": 9,
    "start_time": "2024-04-10T19:34:12.403Z"
   },
   {
    "duration": 3,
    "start_time": "2024-04-10T19:35:22.718Z"
   },
   {
    "duration": 1336,
    "start_time": "2024-04-10T19:37:20.348Z"
   },
   {
    "duration": 5,
    "start_time": "2024-04-10T19:37:55.329Z"
   },
   {
    "duration": 108,
    "start_time": "2024-04-10T19:39:17.116Z"
   },
   {
    "duration": 7,
    "start_time": "2024-04-10T19:39:29.047Z"
   },
   {
    "duration": 1141,
    "start_time": "2024-04-10T19:39:51.248Z"
   },
   {
    "duration": 68,
    "start_time": "2024-04-10T19:39:52.392Z"
   },
   {
    "duration": 16,
    "start_time": "2024-04-10T19:39:52.462Z"
   },
   {
    "duration": 30,
    "start_time": "2024-04-10T19:39:52.480Z"
   },
   {
    "duration": 9,
    "start_time": "2024-04-10T19:39:52.513Z"
   },
   {
    "duration": 29,
    "start_time": "2024-04-10T19:39:52.523Z"
   },
   {
    "duration": 39,
    "start_time": "2024-04-10T19:39:52.553Z"
   },
   {
    "duration": 8,
    "start_time": "2024-04-10T19:39:52.594Z"
   },
   {
    "duration": 16,
    "start_time": "2024-04-10T19:39:52.604Z"
   },
   {
    "duration": 25,
    "start_time": "2024-04-10T19:39:52.621Z"
   },
   {
    "duration": 21,
    "start_time": "2024-04-10T19:39:52.647Z"
   },
   {
    "duration": 21,
    "start_time": "2024-04-10T19:39:52.670Z"
   },
   {
    "duration": 18,
    "start_time": "2024-04-10T19:39:52.692Z"
   },
   {
    "duration": 17,
    "start_time": "2024-04-10T19:39:52.712Z"
   },
   {
    "duration": 24,
    "start_time": "2024-04-10T19:39:52.731Z"
   },
   {
    "duration": 21,
    "start_time": "2024-04-10T19:39:52.757Z"
   },
   {
    "duration": 27,
    "start_time": "2024-04-10T19:39:52.779Z"
   },
   {
    "duration": 93,
    "start_time": "2024-04-10T19:39:52.809Z"
   },
   {
    "duration": 8,
    "start_time": "2024-04-10T19:52:36.294Z"
   },
   {
    "duration": 7,
    "start_time": "2024-04-10T19:55:38.245Z"
   },
   {
    "duration": 10,
    "start_time": "2024-04-10T19:56:11.590Z"
   },
   {
    "duration": 6,
    "start_time": "2024-04-10T20:00:18.726Z"
   },
   {
    "duration": 9,
    "start_time": "2024-04-10T20:00:41.420Z"
   },
   {
    "duration": 7,
    "start_time": "2024-04-10T20:08:35.946Z"
   },
   {
    "duration": 6,
    "start_time": "2024-04-10T20:08:39.095Z"
   },
   {
    "duration": 5,
    "start_time": "2024-04-10T20:12:01.906Z"
   },
   {
    "duration": 108,
    "start_time": "2024-04-10T20:12:01.913Z"
   },
   {
    "duration": 13,
    "start_time": "2024-04-10T20:12:02.024Z"
   },
   {
    "duration": 33,
    "start_time": "2024-04-10T20:12:02.040Z"
   },
   {
    "duration": 25,
    "start_time": "2024-04-10T20:12:02.075Z"
   },
   {
    "duration": 30,
    "start_time": "2024-04-10T20:12:02.102Z"
   },
   {
    "duration": 58,
    "start_time": "2024-04-10T20:12:02.134Z"
   },
   {
    "duration": 10,
    "start_time": "2024-04-10T20:12:02.194Z"
   },
   {
    "duration": 54,
    "start_time": "2024-04-10T20:12:02.208Z"
   },
   {
    "duration": 48,
    "start_time": "2024-04-10T20:12:02.264Z"
   },
   {
    "duration": 48,
    "start_time": "2024-04-10T20:12:02.314Z"
   },
   {
    "duration": 33,
    "start_time": "2024-04-10T20:12:02.364Z"
   },
   {
    "duration": 32,
    "start_time": "2024-04-10T20:12:02.398Z"
   },
   {
    "duration": 39,
    "start_time": "2024-04-10T20:12:02.431Z"
   },
   {
    "duration": 16,
    "start_time": "2024-04-10T20:12:02.472Z"
   },
   {
    "duration": 22,
    "start_time": "2024-04-10T20:12:02.489Z"
   },
   {
    "duration": 21,
    "start_time": "2024-04-10T20:12:02.513Z"
   },
   {
    "duration": 39,
    "start_time": "2024-04-10T20:12:02.536Z"
   },
   {
    "duration": 34,
    "start_time": "2024-04-10T20:12:02.577Z"
   },
   {
    "duration": 61,
    "start_time": "2024-04-10T20:12:02.613Z"
   },
   {
    "duration": 23,
    "start_time": "2024-04-10T20:12:02.676Z"
   },
   {
    "duration": 16,
    "start_time": "2024-04-10T20:12:02.701Z"
   },
   {
    "duration": 109,
    "start_time": "2024-04-10T20:14:24.651Z"
   },
   {
    "duration": 6,
    "start_time": "2024-04-10T20:14:47.175Z"
   },
   {
    "duration": 7,
    "start_time": "2024-04-10T20:14:51.601Z"
   },
   {
    "duration": 8,
    "start_time": "2024-04-10T20:15:35.848Z"
   },
   {
    "duration": 3,
    "start_time": "2024-04-10T20:15:49.378Z"
   },
   {
    "duration": 72,
    "start_time": "2024-04-10T20:15:49.383Z"
   },
   {
    "duration": 12,
    "start_time": "2024-04-10T20:15:49.457Z"
   },
   {
    "duration": 15,
    "start_time": "2024-04-10T20:15:49.470Z"
   },
   {
    "duration": 9,
    "start_time": "2024-04-10T20:15:49.487Z"
   },
   {
    "duration": 13,
    "start_time": "2024-04-10T20:15:49.498Z"
   },
   {
    "duration": 26,
    "start_time": "2024-04-10T20:15:49.513Z"
   },
   {
    "duration": 13,
    "start_time": "2024-04-10T20:15:49.541Z"
   },
   {
    "duration": 44,
    "start_time": "2024-04-10T20:15:49.557Z"
   },
   {
    "duration": 23,
    "start_time": "2024-04-10T20:15:49.603Z"
   },
   {
    "duration": 7,
    "start_time": "2024-04-10T20:15:49.628Z"
   },
   {
    "duration": 9,
    "start_time": "2024-04-10T20:15:49.637Z"
   },
   {
    "duration": 11,
    "start_time": "2024-04-10T20:15:49.648Z"
   },
   {
    "duration": 41,
    "start_time": "2024-04-10T20:15:49.661Z"
   },
   {
    "duration": 7,
    "start_time": "2024-04-10T20:15:49.703Z"
   },
   {
    "duration": 18,
    "start_time": "2024-04-10T20:15:49.711Z"
   },
   {
    "duration": 24,
    "start_time": "2024-04-10T20:15:49.730Z"
   },
   {
    "duration": 12,
    "start_time": "2024-04-10T20:15:49.756Z"
   },
   {
    "duration": 4,
    "start_time": "2024-04-10T20:15:49.769Z"
   },
   {
    "duration": 16,
    "start_time": "2024-04-10T20:15:49.775Z"
   },
   {
    "duration": 8,
    "start_time": "2024-04-10T20:15:49.793Z"
   },
   {
    "duration": 10,
    "start_time": "2024-04-10T20:15:49.803Z"
   },
   {
    "duration": 7,
    "start_time": "2024-04-10T20:15:49.815Z"
   },
   {
    "duration": 15,
    "start_time": "2024-04-10T20:15:49.824Z"
   },
   {
    "duration": 8,
    "start_time": "2024-04-10T20:16:53.566Z"
   },
   {
    "duration": 5,
    "start_time": "2024-04-10T20:35:14.902Z"
   },
   {
    "duration": 70,
    "start_time": "2024-04-10T20:35:14.909Z"
   },
   {
    "duration": 12,
    "start_time": "2024-04-10T20:35:14.981Z"
   },
   {
    "duration": 17,
    "start_time": "2024-04-10T20:35:14.995Z"
   },
   {
    "duration": 159,
    "start_time": "2024-04-10T20:35:15.014Z"
   },
   {
    "duration": 156,
    "start_time": "2024-04-10T20:35:15.175Z"
   },
   {
    "duration": 21,
    "start_time": "2024-04-10T20:35:15.334Z"
   },
   {
    "duration": 14,
    "start_time": "2024-04-10T20:35:15.357Z"
   },
   {
    "duration": 30,
    "start_time": "2024-04-10T20:35:15.373Z"
   },
   {
    "duration": 21,
    "start_time": "2024-04-10T20:35:15.405Z"
   },
   {
    "duration": 44,
    "start_time": "2024-04-10T20:35:15.428Z"
   },
   {
    "duration": 33,
    "start_time": "2024-04-10T20:35:15.473Z"
   },
   {
    "duration": 19,
    "start_time": "2024-04-10T20:35:15.508Z"
   },
   {
    "duration": 24,
    "start_time": "2024-04-10T20:35:15.529Z"
   },
   {
    "duration": 8,
    "start_time": "2024-04-10T20:35:15.555Z"
   },
   {
    "duration": 26,
    "start_time": "2024-04-10T20:35:15.565Z"
   },
   {
    "duration": 23,
    "start_time": "2024-04-10T20:35:15.593Z"
   },
   {
    "duration": 95,
    "start_time": "2024-04-10T20:35:15.618Z"
   },
   {
    "duration": 0,
    "start_time": "2024-04-10T20:35:15.714Z"
   },
   {
    "duration": 0,
    "start_time": "2024-04-10T20:35:15.715Z"
   },
   {
    "duration": 0,
    "start_time": "2024-04-10T20:35:15.716Z"
   },
   {
    "duration": 0,
    "start_time": "2024-04-10T20:35:15.717Z"
   },
   {
    "duration": 3,
    "start_time": "2024-04-10T20:37:33.350Z"
   },
   {
    "duration": 71,
    "start_time": "2024-04-10T20:37:33.357Z"
   },
   {
    "duration": 12,
    "start_time": "2024-04-10T20:37:33.430Z"
   },
   {
    "duration": 15,
    "start_time": "2024-04-10T20:37:33.444Z"
   },
   {
    "duration": 10,
    "start_time": "2024-04-10T20:37:33.460Z"
   },
   {
    "duration": 19,
    "start_time": "2024-04-10T20:37:33.472Z"
   },
   {
    "duration": 18,
    "start_time": "2024-04-10T20:37:33.493Z"
   },
   {
    "duration": 9,
    "start_time": "2024-04-10T20:37:33.513Z"
   },
   {
    "duration": 22,
    "start_time": "2024-04-10T20:37:33.523Z"
   },
   {
    "duration": 21,
    "start_time": "2024-04-10T20:37:33.547Z"
   },
   {
    "duration": 7,
    "start_time": "2024-04-10T20:37:33.591Z"
   },
   {
    "duration": 11,
    "start_time": "2024-04-10T20:37:33.600Z"
   },
   {
    "duration": 14,
    "start_time": "2024-04-10T20:37:33.613Z"
   },
   {
    "duration": 20,
    "start_time": "2024-04-10T20:37:33.628Z"
   },
   {
    "duration": 6,
    "start_time": "2024-04-10T20:37:33.650Z"
   },
   {
    "duration": 22,
    "start_time": "2024-04-10T20:37:33.658Z"
   },
   {
    "duration": 7,
    "start_time": "2024-04-10T20:37:33.692Z"
   },
   {
    "duration": 6,
    "start_time": "2024-04-10T20:37:33.701Z"
   },
   {
    "duration": 20,
    "start_time": "2024-04-10T20:37:33.709Z"
   },
   {
    "duration": 6,
    "start_time": "2024-04-10T20:37:33.731Z"
   },
   {
    "duration": 15,
    "start_time": "2024-04-10T20:37:33.739Z"
   },
   {
    "duration": 5,
    "start_time": "2024-04-10T20:40:28.433Z"
   },
   {
    "duration": 1140,
    "start_time": "2024-04-10T20:47:25.852Z"
   },
   {
    "duration": 69,
    "start_time": "2024-04-10T20:47:26.994Z"
   },
   {
    "duration": 17,
    "start_time": "2024-04-10T20:47:27.065Z"
   },
   {
    "duration": 44,
    "start_time": "2024-04-10T20:47:27.084Z"
   },
   {
    "duration": 10,
    "start_time": "2024-04-10T20:47:27.130Z"
   },
   {
    "duration": 23,
    "start_time": "2024-04-10T20:47:27.141Z"
   },
   {
    "duration": 20,
    "start_time": "2024-04-10T20:47:27.166Z"
   },
   {
    "duration": 10,
    "start_time": "2024-04-10T20:47:27.188Z"
   },
   {
    "duration": 14,
    "start_time": "2024-04-10T20:47:27.200Z"
   },
   {
    "duration": 18,
    "start_time": "2024-04-10T20:47:27.217Z"
   },
   {
    "duration": 8,
    "start_time": "2024-04-10T20:47:27.236Z"
   },
   {
    "duration": 7,
    "start_time": "2024-04-10T20:47:27.247Z"
   },
   {
    "duration": 40,
    "start_time": "2024-04-10T20:47:27.256Z"
   },
   {
    "duration": 12,
    "start_time": "2024-04-10T20:47:27.298Z"
   },
   {
    "duration": 6,
    "start_time": "2024-04-10T20:47:27.312Z"
   },
   {
    "duration": 7,
    "start_time": "2024-04-10T20:47:27.320Z"
   },
   {
    "duration": 7,
    "start_time": "2024-04-10T20:47:27.328Z"
   },
   {
    "duration": 6,
    "start_time": "2024-04-10T20:47:27.336Z"
   },
   {
    "duration": 49,
    "start_time": "2024-04-10T20:47:27.344Z"
   },
   {
    "duration": 6,
    "start_time": "2024-04-10T20:47:27.395Z"
   },
   {
    "duration": 18,
    "start_time": "2024-04-10T20:47:27.402Z"
   },
   {
    "duration": 5,
    "start_time": "2024-04-10T20:47:27.421Z"
   },
   {
    "duration": 17,
    "start_time": "2024-04-10T20:47:49.087Z"
   },
   {
    "duration": 21599,
    "start_time": "2024-04-10T20:47:49.107Z"
   },
   {
    "duration": 22228,
    "start_time": "2024-04-10T20:48:32.905Z"
   },
   {
    "duration": 3,
    "start_time": "2024-04-10T20:50:35.133Z"
   },
   {
    "duration": 85,
    "start_time": "2024-04-10T20:50:35.138Z"
   },
   {
    "duration": 13,
    "start_time": "2024-04-10T20:50:35.226Z"
   },
   {
    "duration": 31,
    "start_time": "2024-04-10T20:50:35.241Z"
   },
   {
    "duration": 21,
    "start_time": "2024-04-10T20:50:35.274Z"
   },
   {
    "duration": 27,
    "start_time": "2024-04-10T20:50:35.296Z"
   },
   {
    "duration": 18,
    "start_time": "2024-04-10T20:50:35.325Z"
   },
   {
    "duration": 8,
    "start_time": "2024-04-10T20:50:35.345Z"
   },
   {
    "duration": 47,
    "start_time": "2024-04-10T20:50:35.356Z"
   },
   {
    "duration": 21,
    "start_time": "2024-04-10T20:50:35.404Z"
   },
   {
    "duration": 8,
    "start_time": "2024-04-10T20:50:35.427Z"
   },
   {
    "duration": 12,
    "start_time": "2024-04-10T20:50:35.436Z"
   },
   {
    "duration": 23,
    "start_time": "2024-04-10T20:50:35.450Z"
   },
   {
    "duration": 17,
    "start_time": "2024-04-10T20:50:35.475Z"
   },
   {
    "duration": 6,
    "start_time": "2024-04-10T20:50:35.494Z"
   },
   {
    "duration": 24,
    "start_time": "2024-04-10T20:50:35.501Z"
   },
   {
    "duration": 10,
    "start_time": "2024-04-10T20:50:35.527Z"
   },
   {
    "duration": 12,
    "start_time": "2024-04-10T20:50:35.539Z"
   },
   {
    "duration": 10,
    "start_time": "2024-04-10T20:50:35.553Z"
   },
   {
    "duration": 31,
    "start_time": "2024-04-10T20:50:35.565Z"
   },
   {
    "duration": 11,
    "start_time": "2024-04-10T20:50:35.597Z"
   },
   {
    "duration": 16,
    "start_time": "2024-04-10T20:50:35.609Z"
   },
   {
    "duration": 18,
    "start_time": "2024-04-10T20:50:57.693Z"
   },
   {
    "duration": 21806,
    "start_time": "2024-04-10T20:50:57.712Z"
   },
   {
    "duration": 579,
    "start_time": "2024-04-10T20:54:14.073Z"
   },
   {
    "duration": 7,
    "start_time": "2024-04-10T21:02:49.903Z"
   },
   {
    "duration": 6,
    "start_time": "2024-04-10T21:04:18.739Z"
   },
   {
    "duration": 147,
    "start_time": "2024-04-10T21:08:36.285Z"
   },
   {
    "duration": 7,
    "start_time": "2024-04-10T21:08:41.932Z"
   },
   {
    "duration": 142,
    "start_time": "2024-04-10T21:13:00.778Z"
   },
   {
    "duration": 221,
    "start_time": "2024-04-10T21:13:45.999Z"
   },
   {
    "duration": 8,
    "start_time": "2024-04-10T21:13:54.286Z"
   },
   {
    "duration": 278,
    "start_time": "2024-04-10T21:19:55.420Z"
   },
   {
    "duration": 188,
    "start_time": "2024-04-10T21:20:11.071Z"
   },
   {
    "duration": 8,
    "start_time": "2024-04-10T21:20:20.986Z"
   },
   {
    "duration": 180,
    "start_time": "2024-04-10T21:29:33.452Z"
   },
   {
    "duration": 184,
    "start_time": "2024-04-10T21:32:06.157Z"
   },
   {
    "duration": 171,
    "start_time": "2024-04-10T21:32:23.320Z"
   },
   {
    "duration": 186,
    "start_time": "2024-04-10T21:32:48.923Z"
   },
   {
    "duration": 9,
    "start_time": "2024-04-10T21:33:18.125Z"
   },
   {
    "duration": 99,
    "start_time": "2024-04-10T21:49:12.462Z"
   },
   {
    "duration": 214,
    "start_time": "2024-04-10T21:50:57.572Z"
   },
   {
    "duration": 106,
    "start_time": "2024-04-10T21:52:12.598Z"
   },
   {
    "duration": 96,
    "start_time": "2024-04-10T21:52:39.331Z"
   },
   {
    "duration": 569,
    "start_time": "2024-04-10T22:01:36.212Z"
   },
   {
    "duration": 132,
    "start_time": "2024-04-10T22:02:23.581Z"
   },
   {
    "duration": 132,
    "start_time": "2024-04-10T22:11:32.008Z"
   },
   {
    "duration": 136,
    "start_time": "2024-04-10T22:12:06.391Z"
   },
   {
    "duration": 14,
    "start_time": "2024-04-10T22:20:28.832Z"
   },
   {
    "duration": 7,
    "start_time": "2024-04-10T22:21:11.231Z"
   },
   {
    "duration": 6,
    "start_time": "2024-04-10T22:21:21.466Z"
   },
   {
    "duration": 6,
    "start_time": "2024-04-10T22:21:27.566Z"
   },
   {
    "duration": 6,
    "start_time": "2024-04-10T22:22:26.243Z"
   },
   {
    "duration": 6,
    "start_time": "2024-04-10T22:22:48.812Z"
   },
   {
    "duration": 1291,
    "start_time": "2024-04-11T08:14:14.146Z"
   },
   {
    "duration": 294,
    "start_time": "2024-04-11T08:14:15.439Z"
   },
   {
    "duration": 21,
    "start_time": "2024-04-11T08:14:15.735Z"
   },
   {
    "duration": 21,
    "start_time": "2024-04-11T08:14:15.757Z"
   },
   {
    "duration": 7,
    "start_time": "2024-04-11T08:14:15.780Z"
   },
   {
    "duration": 30,
    "start_time": "2024-04-11T08:14:15.789Z"
   },
   {
    "duration": 44,
    "start_time": "2024-04-11T08:14:15.821Z"
   },
   {
    "duration": 24,
    "start_time": "2024-04-11T08:14:15.866Z"
   },
   {
    "duration": 28,
    "start_time": "2024-04-11T08:14:15.891Z"
   },
   {
    "duration": 22,
    "start_time": "2024-04-11T08:14:15.920Z"
   },
   {
    "duration": 18,
    "start_time": "2024-04-11T08:14:15.943Z"
   },
   {
    "duration": 20,
    "start_time": "2024-04-11T08:14:15.963Z"
   },
   {
    "duration": 12,
    "start_time": "2024-04-11T08:14:15.984Z"
   },
   {
    "duration": 22,
    "start_time": "2024-04-11T08:14:15.999Z"
   },
   {
    "duration": 7,
    "start_time": "2024-04-11T08:14:16.022Z"
   },
   {
    "duration": 21,
    "start_time": "2024-04-11T08:14:16.030Z"
   },
   {
    "duration": 20,
    "start_time": "2024-04-11T08:14:16.052Z"
   },
   {
    "duration": 12,
    "start_time": "2024-04-11T08:14:16.073Z"
   },
   {
    "duration": 14,
    "start_time": "2024-04-11T08:14:16.086Z"
   },
   {
    "duration": 7,
    "start_time": "2024-04-11T08:14:16.101Z"
   },
   {
    "duration": 31,
    "start_time": "2024-04-11T08:14:16.109Z"
   },
   {
    "duration": 15,
    "start_time": "2024-04-11T08:14:16.142Z"
   },
   {
    "duration": 167,
    "start_time": "2024-04-11T08:14:16.158Z"
   },
   {
    "duration": 6,
    "start_time": "2024-04-11T08:14:16.327Z"
   },
   {
    "duration": 143,
    "start_time": "2024-04-11T08:14:16.334Z"
   },
   {
    "duration": 6,
    "start_time": "2024-04-11T08:14:16.479Z"
   },
   {
    "duration": 168,
    "start_time": "2024-04-11T08:14:16.486Z"
   },
   {
    "duration": 7,
    "start_time": "2024-04-11T08:14:16.658Z"
   },
   {
    "duration": 190,
    "start_time": "2024-04-11T08:14:16.666Z"
   },
   {
    "duration": 105,
    "start_time": "2024-04-11T08:14:16.857Z"
   },
   {
    "duration": 141,
    "start_time": "2024-04-11T08:14:16.963Z"
   },
   {
    "duration": 9,
    "start_time": "2024-04-11T08:14:17.105Z"
   },
   {
    "duration": 179,
    "start_time": "2024-04-11T08:14:17.115Z"
   },
   {
    "duration": 108,
    "start_time": "2024-04-11T08:14:17.296Z"
   },
   {
    "duration": 141,
    "start_time": "2024-04-11T08:14:17.405Z"
   },
   {
    "duration": 12,
    "start_time": "2024-04-11T08:14:17.548Z"
   },
   {
    "duration": 6,
    "start_time": "2024-04-11T08:14:17.561Z"
   },
   {
    "duration": 6,
    "start_time": "2024-04-11T08:15:00.504Z"
   },
   {
    "duration": 32,
    "start_time": "2024-04-11T08:23:31.596Z"
   },
   {
    "duration": 17,
    "start_time": "2024-04-11T08:26:42.382Z"
   },
   {
    "duration": 15,
    "start_time": "2024-04-11T08:28:47.284Z"
   },
   {
    "duration": 293,
    "start_time": "2024-04-11T08:39:59.103Z"
   },
   {
    "duration": 219,
    "start_time": "2024-04-11T08:42:39.973Z"
   },
   {
    "duration": 239,
    "start_time": "2024-04-11T08:46:03.306Z"
   },
   {
    "duration": 225,
    "start_time": "2024-04-11T08:47:20.485Z"
   },
   {
    "duration": 175,
    "start_time": "2024-04-11T08:50:37.022Z"
   },
   {
    "duration": 160,
    "start_time": "2024-04-11T08:52:04.715Z"
   },
   {
    "duration": 101,
    "start_time": "2024-04-11T08:52:23.847Z"
   },
   {
    "duration": 190,
    "start_time": "2024-04-11T08:53:57.637Z"
   },
   {
    "duration": 226,
    "start_time": "2024-04-11T08:56:07.088Z"
   },
   {
    "duration": 217,
    "start_time": "2024-04-11T08:56:42.585Z"
   },
   {
    "duration": 236,
    "start_time": "2024-04-11T08:56:57.542Z"
   },
   {
    "duration": 213,
    "start_time": "2024-04-11T08:57:28.048Z"
   },
   {
    "duration": 223,
    "start_time": "2024-04-11T08:57:40.892Z"
   },
   {
    "duration": 309,
    "start_time": "2024-04-11T08:57:46.212Z"
   },
   {
    "duration": 232,
    "start_time": "2024-04-11T08:58:03.454Z"
   },
   {
    "duration": 239,
    "start_time": "2024-04-11T09:01:29.867Z"
   },
   {
    "duration": 236,
    "start_time": "2024-04-11T09:01:44.230Z"
   },
   {
    "duration": 91,
    "start_time": "2024-04-11T09:54:38.206Z"
   },
   {
    "duration": 93,
    "start_time": "2024-04-11T09:56:49.096Z"
   },
   {
    "duration": 4,
    "start_time": "2024-04-11T10:05:35.171Z"
   },
   {
    "duration": 20,
    "start_time": "2024-04-11T10:06:05.910Z"
   },
   {
    "duration": 22,
    "start_time": "2024-04-11T10:09:10.199Z"
   },
   {
    "duration": 106,
    "start_time": "2024-04-11T10:18:25.693Z"
   },
   {
    "duration": 3,
    "start_time": "2024-04-11T10:18:48.764Z"
   },
   {
    "duration": 67,
    "start_time": "2024-04-11T10:18:48.769Z"
   },
   {
    "duration": 12,
    "start_time": "2024-04-11T10:18:48.837Z"
   },
   {
    "duration": 17,
    "start_time": "2024-04-11T10:18:48.851Z"
   },
   {
    "duration": 9,
    "start_time": "2024-04-11T10:18:48.870Z"
   },
   {
    "duration": 11,
    "start_time": "2024-04-11T10:18:48.880Z"
   },
   {
    "duration": 17,
    "start_time": "2024-04-11T10:18:48.892Z"
   },
   {
    "duration": 7,
    "start_time": "2024-04-11T10:18:48.910Z"
   },
   {
    "duration": 13,
    "start_time": "2024-04-11T10:18:48.918Z"
   },
   {
    "duration": 17,
    "start_time": "2024-04-11T10:18:48.958Z"
   },
   {
    "duration": 17,
    "start_time": "2024-04-11T10:18:48.976Z"
   },
   {
    "duration": 8,
    "start_time": "2024-04-11T10:18:48.994Z"
   },
   {
    "duration": 22,
    "start_time": "2024-04-11T10:18:49.005Z"
   },
   {
    "duration": 10,
    "start_time": "2024-04-11T10:18:49.029Z"
   },
   {
    "duration": 19,
    "start_time": "2024-04-11T10:18:49.041Z"
   },
   {
    "duration": 6,
    "start_time": "2024-04-11T10:18:49.061Z"
   },
   {
    "duration": 10,
    "start_time": "2024-04-11T10:18:49.069Z"
   },
   {
    "duration": 5,
    "start_time": "2024-04-11T10:18:49.081Z"
   },
   {
    "duration": 7,
    "start_time": "2024-04-11T10:18:49.088Z"
   },
   {
    "duration": 5,
    "start_time": "2024-04-11T10:18:49.097Z"
   },
   {
    "duration": 10,
    "start_time": "2024-04-11T10:18:49.104Z"
   },
   {
    "duration": 10,
    "start_time": "2024-04-11T10:18:49.116Z"
   },
   {
    "duration": 186,
    "start_time": "2024-04-11T10:18:49.127Z"
   },
   {
    "duration": 7,
    "start_time": "2024-04-11T10:18:49.315Z"
   },
   {
    "duration": 148,
    "start_time": "2024-04-11T10:18:49.324Z"
   },
   {
    "duration": 6,
    "start_time": "2024-04-11T10:18:49.474Z"
   },
   {
    "duration": 174,
    "start_time": "2024-04-11T10:18:49.481Z"
   },
   {
    "duration": 7,
    "start_time": "2024-04-11T10:18:49.656Z"
   },
   {
    "duration": 271,
    "start_time": "2024-04-11T10:18:49.664Z"
   },
   {
    "duration": 112,
    "start_time": "2024-04-11T10:18:49.936Z"
   },
   {
    "duration": 140,
    "start_time": "2024-04-11T10:18:50.049Z"
   },
   {
    "duration": 8,
    "start_time": "2024-04-11T10:18:50.191Z"
   },
   {
    "duration": 198,
    "start_time": "2024-04-11T10:18:50.200Z"
   },
   {
    "duration": 109,
    "start_time": "2024-04-11T10:18:50.399Z"
   },
   {
    "duration": 148,
    "start_time": "2024-04-11T10:18:50.510Z"
   },
   {
    "duration": 9,
    "start_time": "2024-04-11T10:18:50.659Z"
   },
   {
    "duration": 76,
    "start_time": "2024-04-11T10:18:50.671Z"
   },
   {
    "duration": 17,
    "start_time": "2024-04-11T10:18:50.748Z"
   },
   {
    "duration": 15,
    "start_time": "2024-04-11T10:18:50.766Z"
   },
   {
    "duration": 245,
    "start_time": "2024-04-11T10:18:50.782Z"
   },
   {
    "duration": 253,
    "start_time": "2024-04-11T10:18:51.029Z"
   },
   {
    "duration": 19,
    "start_time": "2024-04-11T10:18:51.284Z"
   },
   {
    "duration": 13,
    "start_time": "2024-04-11T10:18:51.304Z"
   },
   {
    "duration": 28,
    "start_time": "2024-04-11T11:11:54.612Z"
   },
   {
    "duration": 32,
    "start_time": "2024-04-11T11:13:16.767Z"
   },
   {
    "duration": 34,
    "start_time": "2024-04-11T11:26:04.002Z"
   },
   {
    "duration": 12,
    "start_time": "2024-04-11T11:27:51.829Z"
   },
   {
    "duration": 1458,
    "start_time": "2024-04-11T11:28:53.299Z"
   },
   {
    "duration": 1426,
    "start_time": "2024-04-11T11:29:49.752Z"
   },
   {
    "duration": 338,
    "start_time": "2024-04-11T11:34:55.232Z"
   },
   {
    "duration": 36,
    "start_time": "2024-04-11T11:35:14.254Z"
   },
   {
    "duration": 343,
    "start_time": "2024-04-11T14:54:34.701Z"
   },
   {
    "duration": 3,
    "start_time": "2024-04-11T14:55:20.285Z"
   },
   {
    "duration": 15,
    "start_time": "2024-04-11T14:55:44.623Z"
   },
   {
    "duration": 1387,
    "start_time": "2024-04-11T15:00:16.976Z"
   },
   {
    "duration": 1391,
    "start_time": "2024-04-11T15:00:25.462Z"
   },
   {
    "duration": 3,
    "start_time": "2024-04-11T15:00:36.100Z"
   },
   {
    "duration": 84,
    "start_time": "2024-04-11T15:00:36.105Z"
   },
   {
    "duration": 12,
    "start_time": "2024-04-11T15:00:36.191Z"
   },
   {
    "duration": 16,
    "start_time": "2024-04-11T15:00:36.205Z"
   },
   {
    "duration": 13,
    "start_time": "2024-04-11T15:00:36.223Z"
   },
   {
    "duration": 28,
    "start_time": "2024-04-11T15:00:36.237Z"
   },
   {
    "duration": 25,
    "start_time": "2024-04-11T15:00:36.266Z"
   },
   {
    "duration": 8,
    "start_time": "2024-04-11T15:00:36.293Z"
   },
   {
    "duration": 12,
    "start_time": "2024-04-11T15:00:36.302Z"
   },
   {
    "duration": 44,
    "start_time": "2024-04-11T15:00:36.315Z"
   },
   {
    "duration": 9,
    "start_time": "2024-04-11T15:00:36.363Z"
   },
   {
    "duration": 10,
    "start_time": "2024-04-11T15:00:36.374Z"
   },
   {
    "duration": 32,
    "start_time": "2024-04-11T15:00:36.385Z"
   },
   {
    "duration": 11,
    "start_time": "2024-04-11T15:00:36.419Z"
   },
   {
    "duration": 6,
    "start_time": "2024-04-11T15:00:36.432Z"
   },
   {
    "duration": 25,
    "start_time": "2024-04-11T15:00:36.440Z"
   },
   {
    "duration": 8,
    "start_time": "2024-04-11T15:00:36.467Z"
   },
   {
    "duration": 10,
    "start_time": "2024-04-11T15:00:36.477Z"
   },
   {
    "duration": 9,
    "start_time": "2024-04-11T15:00:36.489Z"
   },
   {
    "duration": 18,
    "start_time": "2024-04-11T15:00:36.499Z"
   },
   {
    "duration": 10,
    "start_time": "2024-04-11T15:00:36.519Z"
   },
   {
    "duration": 6,
    "start_time": "2024-04-11T15:00:36.531Z"
   },
   {
    "duration": 167,
    "start_time": "2024-04-11T15:00:36.559Z"
   },
   {
    "duration": 6,
    "start_time": "2024-04-11T15:00:36.728Z"
   },
   {
    "duration": 143,
    "start_time": "2024-04-11T15:00:36.735Z"
   },
   {
    "duration": 6,
    "start_time": "2024-04-11T15:00:36.879Z"
   },
   {
    "duration": 183,
    "start_time": "2024-04-11T15:00:36.886Z"
   },
   {
    "duration": 7,
    "start_time": "2024-04-11T15:00:37.071Z"
   },
   {
    "duration": 278,
    "start_time": "2024-04-11T15:00:37.081Z"
   },
   {
    "duration": 122,
    "start_time": "2024-04-11T15:00:37.360Z"
   },
   {
    "duration": 144,
    "start_time": "2024-04-11T15:00:37.484Z"
   },
   {
    "duration": 9,
    "start_time": "2024-04-11T15:00:37.629Z"
   },
   {
    "duration": 202,
    "start_time": "2024-04-11T15:00:37.639Z"
   },
   {
    "duration": 116,
    "start_time": "2024-04-11T15:00:37.843Z"
   },
   {
    "duration": 131,
    "start_time": "2024-04-11T15:00:37.960Z"
   },
   {
    "duration": 8,
    "start_time": "2024-04-11T15:00:38.092Z"
   },
   {
    "duration": 29,
    "start_time": "2024-04-11T15:00:38.101Z"
   },
   {
    "duration": 34,
    "start_time": "2024-04-11T15:00:38.132Z"
   },
   {
    "duration": 19,
    "start_time": "2024-04-11T15:00:38.167Z"
   },
   {
    "duration": 251,
    "start_time": "2024-04-11T15:00:38.188Z"
   },
   {
    "duration": 226,
    "start_time": "2024-04-11T15:00:38.441Z"
   },
   {
    "duration": 18,
    "start_time": "2024-04-11T15:00:38.668Z"
   },
   {
    "duration": 29,
    "start_time": "2024-04-11T15:00:38.687Z"
   },
   {
    "duration": 12,
    "start_time": "2024-04-11T15:00:38.718Z"
   },
   {
    "duration": 1618,
    "start_time": "2024-04-11T15:00:38.731Z"
   },
   {
    "duration": 15,
    "start_time": "2024-04-11T15:06:13.554Z"
   },
   {
    "duration": 3,
    "start_time": "2024-04-11T15:07:20.115Z"
   },
   {
    "duration": 77,
    "start_time": "2024-04-11T15:07:20.119Z"
   },
   {
    "duration": 10,
    "start_time": "2024-04-11T15:07:20.198Z"
   },
   {
    "duration": 17,
    "start_time": "2024-04-11T15:07:20.209Z"
   },
   {
    "duration": 8,
    "start_time": "2024-04-11T15:07:20.227Z"
   },
   {
    "duration": 27,
    "start_time": "2024-04-11T15:07:20.236Z"
   },
   {
    "duration": 20,
    "start_time": "2024-04-11T15:07:20.264Z"
   },
   {
    "duration": 8,
    "start_time": "2024-04-11T15:07:20.286Z"
   },
   {
    "duration": 13,
    "start_time": "2024-04-11T15:07:20.296Z"
   },
   {
    "duration": 15,
    "start_time": "2024-04-11T15:07:20.310Z"
   },
   {
    "duration": 7,
    "start_time": "2024-04-11T15:07:20.358Z"
   },
   {
    "duration": 10,
    "start_time": "2024-04-11T15:07:20.366Z"
   },
   {
    "duration": 11,
    "start_time": "2024-04-11T15:07:20.377Z"
   },
   {
    "duration": 10,
    "start_time": "2024-04-11T15:07:20.389Z"
   },
   {
    "duration": 5,
    "start_time": "2024-04-11T15:07:20.400Z"
   },
   {
    "duration": 10,
    "start_time": "2024-04-11T15:07:20.407Z"
   },
   {
    "duration": 6,
    "start_time": "2024-04-11T15:07:20.418Z"
   },
   {
    "duration": 34,
    "start_time": "2024-04-11T15:07:20.425Z"
   },
   {
    "duration": 8,
    "start_time": "2024-04-11T15:07:20.460Z"
   },
   {
    "duration": 8,
    "start_time": "2024-04-11T15:07:20.469Z"
   },
   {
    "duration": 12,
    "start_time": "2024-04-11T15:07:20.478Z"
   },
   {
    "duration": 5,
    "start_time": "2024-04-11T15:07:20.491Z"
   },
   {
    "duration": 181,
    "start_time": "2024-04-11T15:07:20.497Z"
   },
   {
    "duration": 7,
    "start_time": "2024-04-11T15:07:20.679Z"
   },
   {
    "duration": 162,
    "start_time": "2024-04-11T15:07:20.687Z"
   },
   {
    "duration": 9,
    "start_time": "2024-04-11T15:07:20.851Z"
   },
   {
    "duration": 183,
    "start_time": "2024-04-11T15:07:20.862Z"
   },
   {
    "duration": 7,
    "start_time": "2024-04-11T15:07:21.047Z"
   },
   {
    "duration": 174,
    "start_time": "2024-04-11T15:07:21.060Z"
   },
   {
    "duration": 106,
    "start_time": "2024-04-11T15:07:21.236Z"
   },
   {
    "duration": 138,
    "start_time": "2024-04-11T15:07:21.344Z"
   },
   {
    "duration": 8,
    "start_time": "2024-04-11T15:07:21.483Z"
   },
   {
    "duration": 184,
    "start_time": "2024-04-11T15:07:21.493Z"
   },
   {
    "duration": 106,
    "start_time": "2024-04-11T15:07:21.679Z"
   },
   {
    "duration": 134,
    "start_time": "2024-04-11T15:07:21.787Z"
   },
   {
    "duration": 8,
    "start_time": "2024-04-11T15:07:21.923Z"
   },
   {
    "duration": 44,
    "start_time": "2024-04-11T15:07:21.932Z"
   },
   {
    "duration": 17,
    "start_time": "2024-04-11T15:07:21.978Z"
   },
   {
    "duration": 29,
    "start_time": "2024-04-11T15:07:21.997Z"
   },
   {
    "duration": 266,
    "start_time": "2024-04-11T15:07:22.028Z"
   },
   {
    "duration": 333,
    "start_time": "2024-04-11T15:07:22.296Z"
   },
   {
    "duration": 18,
    "start_time": "2024-04-11T15:07:22.631Z"
   },
   {
    "duration": 35,
    "start_time": "2024-04-11T15:07:22.651Z"
   },
   {
    "duration": 35,
    "start_time": "2024-04-11T15:07:22.688Z"
   },
   {
    "duration": 48,
    "start_time": "2024-04-11T15:07:22.725Z"
   },
   {
    "duration": 30,
    "start_time": "2024-04-11T15:08:46.508Z"
   },
   {
    "duration": 4,
    "start_time": "2024-04-11T16:00:20.223Z"
   },
   {
    "duration": 99,
    "start_time": "2024-04-11T16:00:20.228Z"
   },
   {
    "duration": 12,
    "start_time": "2024-04-11T16:00:20.329Z"
   },
   {
    "duration": 57,
    "start_time": "2024-04-11T16:00:20.342Z"
   },
   {
    "duration": 10,
    "start_time": "2024-04-11T16:00:20.401Z"
   },
   {
    "duration": 23,
    "start_time": "2024-04-11T16:00:20.412Z"
   },
   {
    "duration": 18,
    "start_time": "2024-04-11T16:00:20.436Z"
   },
   {
    "duration": 7,
    "start_time": "2024-04-11T16:00:20.456Z"
   },
   {
    "duration": 32,
    "start_time": "2024-04-11T16:00:20.464Z"
   },
   {
    "duration": 25,
    "start_time": "2024-04-11T16:00:20.498Z"
   },
   {
    "duration": 6,
    "start_time": "2024-04-11T16:00:20.526Z"
   },
   {
    "duration": 12,
    "start_time": "2024-04-11T16:00:20.534Z"
   },
   {
    "duration": 12,
    "start_time": "2024-04-11T16:00:20.548Z"
   },
   {
    "duration": 19,
    "start_time": "2024-04-11T16:00:20.562Z"
   },
   {
    "duration": 6,
    "start_time": "2024-04-11T16:00:20.583Z"
   },
   {
    "duration": 17,
    "start_time": "2024-04-11T16:00:20.590Z"
   },
   {
    "duration": 8,
    "start_time": "2024-04-11T16:00:20.609Z"
   },
   {
    "duration": 8,
    "start_time": "2024-04-11T16:00:20.618Z"
   },
   {
    "duration": 22,
    "start_time": "2024-04-11T16:00:20.627Z"
   },
   {
    "duration": 7,
    "start_time": "2024-04-11T16:00:20.651Z"
   },
   {
    "duration": 18,
    "start_time": "2024-04-11T16:00:20.660Z"
   },
   {
    "duration": 14,
    "start_time": "2024-04-11T16:00:20.679Z"
   },
   {
    "duration": 175,
    "start_time": "2024-04-11T16:00:20.695Z"
   },
   {
    "duration": 6,
    "start_time": "2024-04-11T16:00:20.872Z"
   },
   {
    "duration": 180,
    "start_time": "2024-04-11T16:00:20.880Z"
   },
   {
    "duration": 6,
    "start_time": "2024-04-11T16:00:21.062Z"
   },
   {
    "duration": 207,
    "start_time": "2024-04-11T16:00:21.070Z"
   },
   {
    "duration": 9,
    "start_time": "2024-04-11T16:00:21.279Z"
   },
   {
    "duration": 194,
    "start_time": "2024-04-11T16:00:21.292Z"
   },
   {
    "duration": 116,
    "start_time": "2024-04-11T16:00:21.487Z"
   },
   {
    "duration": 135,
    "start_time": "2024-04-11T16:00:21.605Z"
   },
   {
    "duration": 9,
    "start_time": "2024-04-11T16:00:21.741Z"
   },
   {
    "duration": 181,
    "start_time": "2024-04-11T16:00:21.759Z"
   },
   {
    "duration": 131,
    "start_time": "2024-04-11T16:00:21.942Z"
   },
   {
    "duration": 145,
    "start_time": "2024-04-11T16:00:22.074Z"
   },
   {
    "duration": 8,
    "start_time": "2024-04-11T16:00:22.221Z"
   },
   {
    "duration": 37,
    "start_time": "2024-04-11T16:00:22.231Z"
   },
   {
    "duration": 21,
    "start_time": "2024-04-11T16:00:22.269Z"
   },
   {
    "duration": 17,
    "start_time": "2024-04-11T16:00:22.293Z"
   },
   {
    "duration": 369,
    "start_time": "2024-04-11T16:00:22.311Z"
   },
   {
    "duration": 244,
    "start_time": "2024-04-11T16:00:22.681Z"
   },
   {
    "duration": 19,
    "start_time": "2024-04-11T16:00:22.927Z"
   },
   {
    "duration": 40,
    "start_time": "2024-04-11T16:00:22.948Z"
   },
   {
    "duration": 13,
    "start_time": "2024-04-11T16:00:22.989Z"
   },
   {
    "duration": 23,
    "start_time": "2024-04-11T16:00:23.004Z"
   },
   {
    "duration": 0,
    "start_time": "2024-04-11T16:00:23.028Z"
   },
   {
    "duration": 33,
    "start_time": "2024-04-11T16:01:44.942Z"
   },
   {
    "duration": 204,
    "start_time": "2024-04-11T16:01:51.259Z"
   },
   {
    "duration": 189,
    "start_time": "2024-04-11T16:06:30.396Z"
   },
   {
    "duration": 353,
    "start_time": "2024-04-11T16:13:21.106Z"
   },
   {
    "duration": 3,
    "start_time": "2024-04-11T16:13:25.410Z"
   },
   {
    "duration": 79,
    "start_time": "2024-04-11T16:13:25.416Z"
   },
   {
    "duration": 13,
    "start_time": "2024-04-11T16:13:25.498Z"
   },
   {
    "duration": 26,
    "start_time": "2024-04-11T16:13:25.513Z"
   },
   {
    "duration": 9,
    "start_time": "2024-04-11T16:13:25.541Z"
   },
   {
    "duration": 15,
    "start_time": "2024-04-11T16:13:25.559Z"
   },
   {
    "duration": 17,
    "start_time": "2024-04-11T16:13:25.576Z"
   },
   {
    "duration": 16,
    "start_time": "2024-04-11T16:13:25.594Z"
   },
   {
    "duration": 14,
    "start_time": "2024-04-11T16:13:25.612Z"
   },
   {
    "duration": 33,
    "start_time": "2024-04-11T16:13:25.627Z"
   },
   {
    "duration": 7,
    "start_time": "2024-04-11T16:13:25.662Z"
   },
   {
    "duration": 8,
    "start_time": "2024-04-11T16:13:25.670Z"
   },
   {
    "duration": 10,
    "start_time": "2024-04-11T16:13:25.679Z"
   },
   {
    "duration": 9,
    "start_time": "2024-04-11T16:13:25.690Z"
   },
   {
    "duration": 5,
    "start_time": "2024-04-11T16:13:25.700Z"
   },
   {
    "duration": 10,
    "start_time": "2024-04-11T16:13:25.706Z"
   },
   {
    "duration": 8,
    "start_time": "2024-04-11T16:13:25.717Z"
   },
   {
    "duration": 34,
    "start_time": "2024-04-11T16:13:25.726Z"
   },
   {
    "duration": 8,
    "start_time": "2024-04-11T16:13:25.761Z"
   },
   {
    "duration": 6,
    "start_time": "2024-04-11T16:13:25.770Z"
   },
   {
    "duration": 12,
    "start_time": "2024-04-11T16:13:25.777Z"
   },
   {
    "duration": 5,
    "start_time": "2024-04-11T16:13:25.790Z"
   },
   {
    "duration": 179,
    "start_time": "2024-04-11T16:13:25.796Z"
   },
   {
    "duration": 6,
    "start_time": "2024-04-11T16:13:25.976Z"
   },
   {
    "duration": 137,
    "start_time": "2024-04-11T16:13:25.984Z"
   },
   {
    "duration": 6,
    "start_time": "2024-04-11T16:13:26.122Z"
   },
   {
    "duration": 168,
    "start_time": "2024-04-11T16:13:26.129Z"
   },
   {
    "duration": 7,
    "start_time": "2024-04-11T16:13:26.299Z"
   },
   {
    "duration": 177,
    "start_time": "2024-04-11T16:13:26.309Z"
   },
   {
    "duration": 111,
    "start_time": "2024-04-11T16:13:26.487Z"
   },
   {
    "duration": 144,
    "start_time": "2024-04-11T16:13:26.599Z"
   },
   {
    "duration": 14,
    "start_time": "2024-04-11T16:13:26.745Z"
   },
   {
    "duration": 200,
    "start_time": "2024-04-11T16:13:26.761Z"
   },
   {
    "duration": 111,
    "start_time": "2024-04-11T16:13:26.962Z"
   },
   {
    "duration": 251,
    "start_time": "2024-04-11T16:13:27.074Z"
   },
   {
    "duration": 7,
    "start_time": "2024-04-11T16:13:27.327Z"
   },
   {
    "duration": 39,
    "start_time": "2024-04-11T16:13:27.336Z"
   },
   {
    "duration": 15,
    "start_time": "2024-04-11T16:13:27.376Z"
   },
   {
    "duration": 19,
    "start_time": "2024-04-11T16:13:27.392Z"
   },
   {
    "duration": 269,
    "start_time": "2024-04-11T16:13:27.412Z"
   },
   {
    "duration": 244,
    "start_time": "2024-04-11T16:13:27.682Z"
   },
   {
    "duration": 19,
    "start_time": "2024-04-11T16:13:27.928Z"
   },
   {
    "duration": 52,
    "start_time": "2024-04-11T16:13:27.959Z"
   },
   {
    "duration": 13,
    "start_time": "2024-04-11T16:13:28.013Z"
   },
   {
    "duration": 20,
    "start_time": "2024-04-11T16:13:28.027Z"
   },
   {
    "duration": 0,
    "start_time": "2024-04-11T16:13:28.048Z"
   },
   {
    "duration": 32,
    "start_time": "2024-04-11T16:13:46.269Z"
   },
   {
    "duration": 4,
    "start_time": "2024-04-11T16:22:08.174Z"
   },
   {
    "duration": 949,
    "start_time": "2024-04-11T16:23:43.516Z"
   },
   {
    "duration": 4,
    "start_time": "2024-04-11T16:24:06.354Z"
   },
   {
    "duration": 68,
    "start_time": "2024-04-11T16:24:06.359Z"
   },
   {
    "duration": 13,
    "start_time": "2024-04-11T16:24:06.429Z"
   },
   {
    "duration": 18,
    "start_time": "2024-04-11T16:24:06.443Z"
   },
   {
    "duration": 8,
    "start_time": "2024-04-11T16:24:06.464Z"
   },
   {
    "duration": 16,
    "start_time": "2024-04-11T16:24:06.473Z"
   },
   {
    "duration": 17,
    "start_time": "2024-04-11T16:24:06.490Z"
   },
   {
    "duration": 8,
    "start_time": "2024-04-11T16:24:06.508Z"
   },
   {
    "duration": 34,
    "start_time": "2024-04-11T16:24:06.517Z"
   },
   {
    "duration": 17,
    "start_time": "2024-04-11T16:24:06.559Z"
   },
   {
    "duration": 6,
    "start_time": "2024-04-11T16:24:06.579Z"
   },
   {
    "duration": 9,
    "start_time": "2024-04-11T16:24:06.586Z"
   },
   {
    "duration": 19,
    "start_time": "2024-04-11T16:24:06.596Z"
   },
   {
    "duration": 9,
    "start_time": "2024-04-11T16:24:06.616Z"
   },
   {
    "duration": 5,
    "start_time": "2024-04-11T16:24:06.627Z"
   },
   {
    "duration": 29,
    "start_time": "2024-04-11T16:24:06.633Z"
   },
   {
    "duration": 24,
    "start_time": "2024-04-11T16:24:06.663Z"
   },
   {
    "duration": 15,
    "start_time": "2024-04-11T16:24:06.688Z"
   },
   {
    "duration": 11,
    "start_time": "2024-04-11T16:24:06.704Z"
   },
   {
    "duration": 5,
    "start_time": "2024-04-11T16:24:06.717Z"
   },
   {
    "duration": 9,
    "start_time": "2024-04-11T16:24:06.723Z"
   },
   {
    "duration": 5,
    "start_time": "2024-04-11T16:24:06.733Z"
   },
   {
    "duration": 156,
    "start_time": "2024-04-11T16:24:06.739Z"
   },
   {
    "duration": 6,
    "start_time": "2024-04-11T16:24:06.897Z"
   },
   {
    "duration": 143,
    "start_time": "2024-04-11T16:24:06.905Z"
   },
   {
    "duration": 10,
    "start_time": "2024-04-11T16:24:07.050Z"
   },
   {
    "duration": 176,
    "start_time": "2024-04-11T16:24:07.061Z"
   },
   {
    "duration": 10,
    "start_time": "2024-04-11T16:24:07.239Z"
   },
   {
    "duration": 182,
    "start_time": "2024-04-11T16:24:07.262Z"
   },
   {
    "duration": 129,
    "start_time": "2024-04-11T16:24:07.446Z"
   },
   {
    "duration": 148,
    "start_time": "2024-04-11T16:24:07.577Z"
   },
   {
    "duration": 9,
    "start_time": "2024-04-11T16:24:07.727Z"
   },
   {
    "duration": 287,
    "start_time": "2024-04-11T16:24:07.737Z"
   },
   {
    "duration": 121,
    "start_time": "2024-04-11T16:24:08.026Z"
   },
   {
    "duration": 137,
    "start_time": "2024-04-11T16:24:08.149Z"
   },
   {
    "duration": 8,
    "start_time": "2024-04-11T16:24:08.288Z"
   },
   {
    "duration": 27,
    "start_time": "2024-04-11T16:24:08.297Z"
   },
   {
    "duration": 14,
    "start_time": "2024-04-11T16:24:08.325Z"
   },
   {
    "duration": 14,
    "start_time": "2024-04-11T16:24:08.358Z"
   },
   {
    "duration": 232,
    "start_time": "2024-04-11T16:24:08.374Z"
   },
   {
    "duration": 243,
    "start_time": "2024-04-11T16:24:08.607Z"
   },
   {
    "duration": 33,
    "start_time": "2024-04-11T16:24:08.852Z"
   },
   {
    "duration": 32,
    "start_time": "2024-04-11T16:24:08.886Z"
   },
   {
    "duration": 13,
    "start_time": "2024-04-11T16:24:08.920Z"
   },
   {
    "duration": 40,
    "start_time": "2024-04-11T16:24:08.935Z"
   },
   {
    "duration": 0,
    "start_time": "2024-04-11T16:24:08.976Z"
   },
   {
    "duration": 0,
    "start_time": "2024-04-11T16:24:08.977Z"
   },
   {
    "duration": 33,
    "start_time": "2024-04-11T16:24:26.783Z"
   },
   {
    "duration": 4,
    "start_time": "2024-04-11T16:24:35.121Z"
   },
   {
    "duration": 954,
    "start_time": "2024-04-11T16:24:38.189Z"
   },
   {
    "duration": 20,
    "start_time": "2024-04-11T16:25:44.799Z"
   },
   {
    "duration": 4,
    "start_time": "2024-04-11T16:28:25.499Z"
   },
   {
    "duration": 133,
    "start_time": "2024-04-11T16:28:30.746Z"
   },
   {
    "duration": 127,
    "start_time": "2024-04-11T16:28:35.113Z"
   },
   {
    "duration": 3,
    "start_time": "2024-04-11T16:28:40.890Z"
   },
   {
    "duration": 22,
    "start_time": "2024-04-11T16:28:56.417Z"
   },
   {
    "duration": 12,
    "start_time": "2024-04-11T16:32:50.227Z"
   },
   {
    "duration": 11,
    "start_time": "2024-04-11T16:32:52.507Z"
   },
   {
    "duration": 146,
    "start_time": "2024-04-11T16:33:06.391Z"
   },
   {
    "duration": 11,
    "start_time": "2024-04-11T16:33:09.827Z"
   },
   {
    "duration": 3,
    "start_time": "2024-04-11T16:33:49.955Z"
   },
   {
    "duration": 71,
    "start_time": "2024-04-11T16:33:49.960Z"
   },
   {
    "duration": 13,
    "start_time": "2024-04-11T16:33:50.033Z"
   },
   {
    "duration": 23,
    "start_time": "2024-04-11T16:33:50.047Z"
   },
   {
    "duration": 14,
    "start_time": "2024-04-11T16:33:50.072Z"
   },
   {
    "duration": 13,
    "start_time": "2024-04-11T16:33:50.087Z"
   },
   {
    "duration": 19,
    "start_time": "2024-04-11T16:33:50.101Z"
   },
   {
    "duration": 8,
    "start_time": "2024-04-11T16:33:50.121Z"
   },
   {
    "duration": 37,
    "start_time": "2024-04-11T16:33:50.130Z"
   },
   {
    "duration": 15,
    "start_time": "2024-04-11T16:33:50.169Z"
   },
   {
    "duration": 6,
    "start_time": "2024-04-11T16:33:50.187Z"
   },
   {
    "duration": 12,
    "start_time": "2024-04-11T16:33:50.195Z"
   },
   {
    "duration": 16,
    "start_time": "2024-04-11T16:33:50.209Z"
   },
   {
    "duration": 32,
    "start_time": "2024-04-11T16:33:50.227Z"
   },
   {
    "duration": 6,
    "start_time": "2024-04-11T16:33:50.261Z"
   },
   {
    "duration": 5,
    "start_time": "2024-04-11T16:33:50.268Z"
   },
   {
    "duration": 7,
    "start_time": "2024-04-11T16:33:50.274Z"
   },
   {
    "duration": 17,
    "start_time": "2024-04-11T16:33:50.283Z"
   },
   {
    "duration": 21,
    "start_time": "2024-04-11T16:33:50.302Z"
   },
   {
    "duration": 9,
    "start_time": "2024-04-11T16:33:50.324Z"
   },
   {
    "duration": 8,
    "start_time": "2024-04-11T16:33:50.335Z"
   },
   {
    "duration": 18,
    "start_time": "2024-04-11T16:33:50.344Z"
   },
   {
    "duration": 164,
    "start_time": "2024-04-11T16:33:50.364Z"
   },
   {
    "duration": 6,
    "start_time": "2024-04-11T16:33:50.530Z"
   },
   {
    "duration": 146,
    "start_time": "2024-04-11T16:33:50.538Z"
   },
   {
    "duration": 6,
    "start_time": "2024-04-11T16:33:50.685Z"
   },
   {
    "duration": 167,
    "start_time": "2024-04-11T16:33:50.692Z"
   },
   {
    "duration": 7,
    "start_time": "2024-04-11T16:33:50.861Z"
   },
   {
    "duration": 185,
    "start_time": "2024-04-11T16:33:50.871Z"
   },
   {
    "duration": 242,
    "start_time": "2024-04-11T16:33:51.058Z"
   },
   {
    "duration": 161,
    "start_time": "2024-04-11T16:33:51.301Z"
   },
   {
    "duration": 8,
    "start_time": "2024-04-11T16:33:51.464Z"
   },
   {
    "duration": 188,
    "start_time": "2024-04-11T16:33:51.473Z"
   },
   {
    "duration": 110,
    "start_time": "2024-04-11T16:33:51.662Z"
   },
   {
    "duration": 135,
    "start_time": "2024-04-11T16:33:51.774Z"
   },
   {
    "duration": 10,
    "start_time": "2024-04-11T16:33:51.911Z"
   },
   {
    "duration": 45,
    "start_time": "2024-04-11T16:33:51.923Z"
   },
   {
    "duration": 16,
    "start_time": "2024-04-11T16:33:51.970Z"
   },
   {
    "duration": 15,
    "start_time": "2024-04-11T16:33:51.988Z"
   },
   {
    "duration": 258,
    "start_time": "2024-04-11T16:33:52.005Z"
   },
   {
    "duration": 228,
    "start_time": "2024-04-11T16:33:52.265Z"
   },
   {
    "duration": 20,
    "start_time": "2024-04-11T16:33:52.494Z"
   },
   {
    "duration": 47,
    "start_time": "2024-04-11T16:33:52.516Z"
   },
   {
    "duration": 12,
    "start_time": "2024-04-11T16:33:52.565Z"
   },
   {
    "duration": 30,
    "start_time": "2024-04-11T16:33:52.579Z"
   },
   {
    "duration": 0,
    "start_time": "2024-04-11T16:33:52.611Z"
   },
   {
    "duration": 0,
    "start_time": "2024-04-11T16:33:52.612Z"
   },
   {
    "duration": 0,
    "start_time": "2024-04-11T16:33:52.613Z"
   },
   {
    "duration": 3,
    "start_time": "2024-04-11T16:34:16.209Z"
   },
   {
    "duration": 65,
    "start_time": "2024-04-11T16:34:16.215Z"
   },
   {
    "duration": 12,
    "start_time": "2024-04-11T16:34:16.282Z"
   },
   {
    "duration": 19,
    "start_time": "2024-04-11T16:34:16.295Z"
   },
   {
    "duration": 11,
    "start_time": "2024-04-11T16:34:16.316Z"
   },
   {
    "duration": 36,
    "start_time": "2024-04-11T16:34:16.328Z"
   },
   {
    "duration": 18,
    "start_time": "2024-04-11T16:34:16.366Z"
   },
   {
    "duration": 7,
    "start_time": "2024-04-11T16:34:16.386Z"
   },
   {
    "duration": 23,
    "start_time": "2024-04-11T16:34:16.395Z"
   },
   {
    "duration": 17,
    "start_time": "2024-04-11T16:34:16.419Z"
   },
   {
    "duration": 8,
    "start_time": "2024-04-11T16:34:16.459Z"
   },
   {
    "duration": 13,
    "start_time": "2024-04-11T16:34:16.469Z"
   },
   {
    "duration": 11,
    "start_time": "2024-04-11T16:34:16.483Z"
   },
   {
    "duration": 12,
    "start_time": "2024-04-11T16:34:16.495Z"
   },
   {
    "duration": 5,
    "start_time": "2024-04-11T16:34:16.508Z"
   },
   {
    "duration": 22,
    "start_time": "2024-04-11T16:34:16.515Z"
   },
   {
    "duration": 11,
    "start_time": "2024-04-11T16:34:16.538Z"
   },
   {
    "duration": 12,
    "start_time": "2024-04-11T16:34:16.551Z"
   },
   {
    "duration": 10,
    "start_time": "2024-04-11T16:34:16.564Z"
   },
   {
    "duration": 5,
    "start_time": "2024-04-11T16:34:16.575Z"
   },
   {
    "duration": 8,
    "start_time": "2024-04-11T16:34:16.581Z"
   },
   {
    "duration": 23,
    "start_time": "2024-04-11T16:34:16.590Z"
   },
   {
    "duration": 154,
    "start_time": "2024-04-11T16:34:16.615Z"
   },
   {
    "duration": 7,
    "start_time": "2024-04-11T16:34:16.770Z"
   },
   {
    "duration": 130,
    "start_time": "2024-04-11T16:34:16.778Z"
   },
   {
    "duration": 6,
    "start_time": "2024-04-11T16:34:16.910Z"
   },
   {
    "duration": 172,
    "start_time": "2024-04-11T16:34:16.917Z"
   },
   {
    "duration": 8,
    "start_time": "2024-04-11T16:34:17.090Z"
   },
   {
    "duration": 281,
    "start_time": "2024-04-11T16:34:17.101Z"
   },
   {
    "duration": 122,
    "start_time": "2024-04-11T16:34:17.385Z"
   },
   {
    "duration": 150,
    "start_time": "2024-04-11T16:34:17.509Z"
   },
   {
    "duration": 9,
    "start_time": "2024-04-11T16:34:17.660Z"
   },
   {
    "duration": 191,
    "start_time": "2024-04-11T16:34:17.670Z"
   },
   {
    "duration": 102,
    "start_time": "2024-04-11T16:34:17.863Z"
   },
   {
    "duration": 125,
    "start_time": "2024-04-11T16:34:17.967Z"
   },
   {
    "duration": 8,
    "start_time": "2024-04-11T16:34:18.093Z"
   },
   {
    "duration": 28,
    "start_time": "2024-04-11T16:34:18.102Z"
   },
   {
    "duration": 31,
    "start_time": "2024-04-11T16:34:18.131Z"
   },
   {
    "duration": 14,
    "start_time": "2024-04-11T16:34:18.163Z"
   },
   {
    "duration": 238,
    "start_time": "2024-04-11T16:34:18.179Z"
   },
   {
    "duration": 229,
    "start_time": "2024-04-11T16:34:18.418Z"
   },
   {
    "duration": 27,
    "start_time": "2024-04-11T16:34:18.648Z"
   },
   {
    "duration": 32,
    "start_time": "2024-04-11T16:34:18.676Z"
   },
   {
    "duration": 14,
    "start_time": "2024-04-11T16:34:18.709Z"
   },
   {
    "duration": 43,
    "start_time": "2024-04-11T16:34:18.724Z"
   },
   {
    "duration": 0,
    "start_time": "2024-04-11T16:34:18.768Z"
   },
   {
    "duration": 0,
    "start_time": "2024-04-11T16:34:18.769Z"
   },
   {
    "duration": 0,
    "start_time": "2024-04-11T16:34:18.770Z"
   },
   {
    "duration": 49,
    "start_time": "2024-04-11T16:34:55.822Z"
   },
   {
    "duration": 6,
    "start_time": "2024-04-11T16:35:12.366Z"
   },
   {
    "duration": 1021,
    "start_time": "2024-04-11T16:35:16.500Z"
   },
   {
    "duration": 68,
    "start_time": "2024-04-11T16:35:17.523Z"
   },
   {
    "duration": 14,
    "start_time": "2024-04-11T16:35:17.592Z"
   },
   {
    "duration": 36,
    "start_time": "2024-04-11T16:35:17.607Z"
   },
   {
    "duration": 7,
    "start_time": "2024-04-11T16:35:17.645Z"
   },
   {
    "duration": 12,
    "start_time": "2024-04-11T16:35:17.653Z"
   },
   {
    "duration": 16,
    "start_time": "2024-04-11T16:35:17.666Z"
   },
   {
    "duration": 12,
    "start_time": "2024-04-11T16:35:17.683Z"
   },
   {
    "duration": 27,
    "start_time": "2024-04-11T16:35:17.697Z"
   },
   {
    "duration": 16,
    "start_time": "2024-04-11T16:35:17.726Z"
   },
   {
    "duration": 7,
    "start_time": "2024-04-11T16:35:17.743Z"
   },
   {
    "duration": 11,
    "start_time": "2024-04-11T16:35:17.751Z"
   },
   {
    "duration": 11,
    "start_time": "2024-04-11T16:35:17.763Z"
   },
   {
    "duration": 10,
    "start_time": "2024-04-11T16:35:17.776Z"
   },
   {
    "duration": 6,
    "start_time": "2024-04-11T16:35:17.787Z"
   },
   {
    "duration": 6,
    "start_time": "2024-04-11T16:35:17.794Z"
   },
   {
    "duration": 7,
    "start_time": "2024-04-11T16:35:17.802Z"
   },
   {
    "duration": 7,
    "start_time": "2024-04-11T16:35:17.810Z"
   },
   {
    "duration": 41,
    "start_time": "2024-04-11T16:35:17.818Z"
   },
   {
    "duration": 6,
    "start_time": "2024-04-11T16:35:17.861Z"
   },
   {
    "duration": 11,
    "start_time": "2024-04-11T16:35:17.869Z"
   },
   {
    "duration": 6,
    "start_time": "2024-04-11T16:35:17.881Z"
   },
   {
    "duration": 190,
    "start_time": "2024-04-11T16:35:17.889Z"
   },
   {
    "duration": 7,
    "start_time": "2024-04-11T16:35:18.081Z"
   },
   {
    "duration": 153,
    "start_time": "2024-04-11T16:35:18.089Z"
   },
   {
    "duration": 16,
    "start_time": "2024-04-11T16:35:18.243Z"
   },
   {
    "duration": 172,
    "start_time": "2024-04-11T16:35:18.261Z"
   },
   {
    "duration": 7,
    "start_time": "2024-04-11T16:35:18.434Z"
   },
   {
    "duration": 181,
    "start_time": "2024-04-11T16:35:18.442Z"
   },
   {
    "duration": 100,
    "start_time": "2024-04-11T16:35:18.624Z"
   },
   {
    "duration": 135,
    "start_time": "2024-04-11T16:35:18.725Z"
   },
   {
    "duration": 9,
    "start_time": "2024-04-11T16:35:18.861Z"
   },
   {
    "duration": 198,
    "start_time": "2024-04-11T16:35:18.871Z"
   },
   {
    "duration": 104,
    "start_time": "2024-04-11T16:35:19.070Z"
   },
   {
    "duration": 149,
    "start_time": "2024-04-11T16:35:19.175Z"
   },
   {
    "duration": 9,
    "start_time": "2024-04-11T16:35:19.325Z"
   },
   {
    "duration": 38,
    "start_time": "2024-04-11T16:35:19.335Z"
   },
   {
    "duration": 15,
    "start_time": "2024-04-11T16:35:19.375Z"
   },
   {
    "duration": 21,
    "start_time": "2024-04-11T16:35:19.393Z"
   },
   {
    "duration": 336,
    "start_time": "2024-04-11T16:35:19.415Z"
   },
   {
    "duration": 224,
    "start_time": "2024-04-11T16:35:19.758Z"
   },
   {
    "duration": 19,
    "start_time": "2024-04-11T16:35:19.984Z"
   },
   {
    "duration": 32,
    "start_time": "2024-04-11T16:35:20.004Z"
   },
   {
    "duration": 30,
    "start_time": "2024-04-11T16:35:20.038Z"
   },
   {
    "duration": 88,
    "start_time": "2024-04-11T16:35:20.070Z"
   },
   {
    "duration": 0,
    "start_time": "2024-04-11T16:35:20.159Z"
   },
   {
    "duration": 0,
    "start_time": "2024-04-11T16:35:20.160Z"
   },
   {
    "duration": 0,
    "start_time": "2024-04-11T16:35:20.161Z"
   },
   {
    "duration": 32,
    "start_time": "2024-04-11T16:36:10.292Z"
   },
   {
    "duration": 4,
    "start_time": "2024-04-11T16:36:22.244Z"
   },
   {
    "duration": 131,
    "start_time": "2024-04-11T16:36:27.663Z"
   },
   {
    "duration": 12,
    "start_time": "2024-04-11T16:36:33.645Z"
   },
   {
    "duration": 23,
    "start_time": "2024-04-11T16:36:45.777Z"
   },
   {
    "duration": 65,
    "start_time": "2024-04-11T16:52:18.697Z"
   },
   {
    "duration": 61,
    "start_time": "2024-04-11T16:54:41.360Z"
   },
   {
    "duration": 5,
    "start_time": "2024-04-11T16:57:17.190Z"
   },
   {
    "duration": 6,
    "start_time": "2024-04-11T17:03:17.632Z"
   },
   {
    "duration": 11,
    "start_time": "2024-04-11T17:11:54.203Z"
   },
   {
    "duration": 6,
    "start_time": "2024-04-11T17:12:04.819Z"
   },
   {
    "duration": 6,
    "start_time": "2024-04-11T17:16:06.794Z"
   },
   {
    "duration": 11,
    "start_time": "2024-04-11T17:17:35.070Z"
   },
   {
    "duration": 707,
    "start_time": "2024-04-11T19:06:45.371Z"
   },
   {
    "duration": 577,
    "start_time": "2024-04-11T19:07:42.686Z"
   },
   {
    "duration": 274,
    "start_time": "2024-04-11T19:07:43.266Z"
   },
   {
    "duration": 15,
    "start_time": "2024-04-11T19:07:43.541Z"
   },
   {
    "duration": 34,
    "start_time": "2024-04-11T19:07:43.558Z"
   },
   {
    "duration": 26,
    "start_time": "2024-04-11T19:07:43.594Z"
   },
   {
    "duration": 33,
    "start_time": "2024-04-11T19:07:43.622Z"
   },
   {
    "duration": 36,
    "start_time": "2024-04-11T19:07:43.656Z"
   },
   {
    "duration": 21,
    "start_time": "2024-04-11T19:07:43.694Z"
   },
   {
    "duration": 43,
    "start_time": "2024-04-11T19:07:43.716Z"
   },
   {
    "duration": 55,
    "start_time": "2024-04-11T19:07:43.762Z"
   },
   {
    "duration": 40,
    "start_time": "2024-04-11T19:07:43.818Z"
   },
   {
    "duration": 40,
    "start_time": "2024-04-11T19:07:43.859Z"
   },
   {
    "duration": 37,
    "start_time": "2024-04-11T19:07:43.900Z"
   },
   {
    "duration": 44,
    "start_time": "2024-04-11T19:07:43.939Z"
   },
   {
    "duration": 25,
    "start_time": "2024-04-11T19:07:43.984Z"
   },
   {
    "duration": 44,
    "start_time": "2024-04-11T19:07:44.011Z"
   },
   {
    "duration": 45,
    "start_time": "2024-04-11T19:07:44.056Z"
   },
   {
    "duration": 24,
    "start_time": "2024-04-11T19:07:44.102Z"
   },
   {
    "duration": 50,
    "start_time": "2024-04-11T19:07:44.128Z"
   },
   {
    "duration": 28,
    "start_time": "2024-04-11T19:07:44.180Z"
   },
   {
    "duration": 27,
    "start_time": "2024-04-11T19:07:44.210Z"
   },
   {
    "duration": 29,
    "start_time": "2024-04-11T19:07:44.239Z"
   },
   {
    "duration": 201,
    "start_time": "2024-04-11T19:07:44.269Z"
   },
   {
    "duration": 6,
    "start_time": "2024-04-11T19:07:44.472Z"
   },
   {
    "duration": 149,
    "start_time": "2024-04-11T19:07:44.480Z"
   },
   {
    "duration": 8,
    "start_time": "2024-04-11T19:07:44.631Z"
   },
   {
    "duration": 210,
    "start_time": "2024-04-11T19:07:44.640Z"
   },
   {
    "duration": 12,
    "start_time": "2024-04-11T19:07:44.854Z"
   },
   {
    "duration": 172,
    "start_time": "2024-04-11T19:07:44.867Z"
   },
   {
    "duration": 108,
    "start_time": "2024-04-11T19:07:45.040Z"
   },
   {
    "duration": 138,
    "start_time": "2024-04-11T19:07:45.149Z"
   },
   {
    "duration": 8,
    "start_time": "2024-04-11T19:07:45.289Z"
   },
   {
    "duration": 192,
    "start_time": "2024-04-11T19:07:45.298Z"
   },
   {
    "duration": 116,
    "start_time": "2024-04-11T19:07:45.492Z"
   },
   {
    "duration": 157,
    "start_time": "2024-04-11T19:07:45.609Z"
   },
   {
    "duration": 8,
    "start_time": "2024-04-11T19:07:45.767Z"
   },
   {
    "duration": 32,
    "start_time": "2024-04-11T19:07:45.777Z"
   },
   {
    "duration": 17,
    "start_time": "2024-04-11T19:07:45.811Z"
   },
   {
    "duration": 38,
    "start_time": "2024-04-11T19:07:45.830Z"
   },
   {
    "duration": 357,
    "start_time": "2024-04-11T19:07:45.870Z"
   },
   {
    "duration": 240,
    "start_time": "2024-04-11T19:07:46.229Z"
   },
   {
    "duration": 19,
    "start_time": "2024-04-11T19:07:46.471Z"
   },
   {
    "duration": 64,
    "start_time": "2024-04-11T19:07:46.492Z"
   },
   {
    "duration": 12,
    "start_time": "2024-04-11T19:07:46.558Z"
   },
   {
    "duration": 43,
    "start_time": "2024-04-11T19:07:46.571Z"
   },
   {
    "duration": 0,
    "start_time": "2024-04-11T19:07:46.616Z"
   },
   {
    "duration": 0,
    "start_time": "2024-04-11T19:07:46.617Z"
   },
   {
    "duration": 0,
    "start_time": "2024-04-11T19:07:46.618Z"
   },
   {
    "duration": 0,
    "start_time": "2024-04-11T19:07:46.618Z"
   },
   {
    "duration": 0,
    "start_time": "2024-04-11T19:07:46.620Z"
   },
   {
    "duration": 12,
    "start_time": "2024-04-11T19:07:57.656Z"
   },
   {
    "duration": 36,
    "start_time": "2024-04-11T19:09:08.682Z"
   },
   {
    "duration": 4,
    "start_time": "2024-04-11T19:09:15.153Z"
   },
   {
    "duration": 130,
    "start_time": "2024-04-11T19:09:19.201Z"
   },
   {
    "duration": 23,
    "start_time": "2024-04-11T19:09:21.731Z"
   },
   {
    "duration": 70,
    "start_time": "2024-04-11T19:17:03.673Z"
   },
   {
    "duration": 11,
    "start_time": "2024-04-11T19:17:35.451Z"
   },
   {
    "duration": 7,
    "start_time": "2024-04-11T19:17:47.392Z"
   },
   {
    "duration": 7,
    "start_time": "2024-04-11T19:18:25.530Z"
   },
   {
    "duration": 6,
    "start_time": "2024-04-11T19:19:19.419Z"
   },
   {
    "duration": 6,
    "start_time": "2024-04-11T19:21:20.415Z"
   },
   {
    "duration": 7,
    "start_time": "2024-04-11T19:26:44.164Z"
   },
   {
    "duration": 5,
    "start_time": "2024-04-11T19:30:55.438Z"
   },
   {
    "duration": 5,
    "start_time": "2024-04-11T19:31:04.550Z"
   },
   {
    "duration": 5,
    "start_time": "2024-04-11T19:41:52.360Z"
   },
   {
    "duration": 5,
    "start_time": "2024-04-11T19:44:04.189Z"
   },
   {
    "duration": 6,
    "start_time": "2024-04-11T19:46:02.050Z"
   },
   {
    "duration": 6,
    "start_time": "2024-04-11T19:46:26.057Z"
   },
   {
    "duration": 5,
    "start_time": "2024-04-11T19:50:59.630Z"
   },
   {
    "duration": 15,
    "start_time": "2024-04-11T20:08:32.496Z"
   },
   {
    "duration": 8,
    "start_time": "2024-04-11T20:14:16.380Z"
   },
   {
    "duration": 5,
    "start_time": "2024-04-11T20:17:04.905Z"
   },
   {
    "duration": 8,
    "start_time": "2024-04-11T20:18:26.330Z"
   },
   {
    "duration": 3,
    "start_time": "2024-04-11T20:20:10.783Z"
   },
   {
    "duration": 89,
    "start_time": "2024-04-11T20:20:10.788Z"
   },
   {
    "duration": 12,
    "start_time": "2024-04-11T20:20:10.879Z"
   },
   {
    "duration": 19,
    "start_time": "2024-04-11T20:20:10.892Z"
   },
   {
    "duration": 18,
    "start_time": "2024-04-11T20:20:10.913Z"
   },
   {
    "duration": 16,
    "start_time": "2024-04-11T20:20:10.933Z"
   },
   {
    "duration": 31,
    "start_time": "2024-04-11T20:20:10.950Z"
   },
   {
    "duration": 8,
    "start_time": "2024-04-11T20:20:10.983Z"
   },
   {
    "duration": 15,
    "start_time": "2024-04-11T20:20:10.992Z"
   },
   {
    "duration": 25,
    "start_time": "2024-04-11T20:20:11.008Z"
   },
   {
    "duration": 9,
    "start_time": "2024-04-11T20:20:11.035Z"
   },
   {
    "duration": 7,
    "start_time": "2024-04-11T20:20:11.066Z"
   },
   {
    "duration": 17,
    "start_time": "2024-04-11T20:20:11.074Z"
   },
   {
    "duration": 20,
    "start_time": "2024-04-11T20:20:11.093Z"
   },
   {
    "duration": 7,
    "start_time": "2024-04-11T20:20:11.115Z"
   },
   {
    "duration": 35,
    "start_time": "2024-04-11T20:20:11.123Z"
   },
   {
    "duration": 35,
    "start_time": "2024-04-11T20:20:11.159Z"
   },
   {
    "duration": 22,
    "start_time": "2024-04-11T20:20:11.195Z"
   },
   {
    "duration": 29,
    "start_time": "2024-04-11T20:20:11.219Z"
   },
   {
    "duration": 16,
    "start_time": "2024-04-11T20:20:11.250Z"
   },
   {
    "duration": 23,
    "start_time": "2024-04-11T20:20:11.268Z"
   },
   {
    "duration": 17,
    "start_time": "2024-04-11T20:20:11.292Z"
   },
   {
    "duration": 161,
    "start_time": "2024-04-11T20:20:11.311Z"
   },
   {
    "duration": 7,
    "start_time": "2024-04-11T20:20:11.474Z"
   },
   {
    "duration": 158,
    "start_time": "2024-04-11T20:20:11.483Z"
   },
   {
    "duration": 6,
    "start_time": "2024-04-11T20:20:11.643Z"
   },
   {
    "duration": 172,
    "start_time": "2024-04-11T20:20:11.651Z"
   },
   {
    "duration": 8,
    "start_time": "2024-04-11T20:20:11.825Z"
   },
   {
    "duration": 182,
    "start_time": "2024-04-11T20:20:11.838Z"
   },
   {
    "duration": 106,
    "start_time": "2024-04-11T20:20:12.022Z"
   },
   {
    "duration": 139,
    "start_time": "2024-04-11T20:20:12.130Z"
   },
   {
    "duration": 9,
    "start_time": "2024-04-11T20:20:12.271Z"
   },
   {
    "duration": 193,
    "start_time": "2024-04-11T20:20:12.281Z"
   },
   {
    "duration": 110,
    "start_time": "2024-04-11T20:20:12.476Z"
   },
   {
    "duration": 270,
    "start_time": "2024-04-11T20:20:12.587Z"
   },
   {
    "duration": 12,
    "start_time": "2024-04-11T20:20:12.859Z"
   },
   {
    "duration": 34,
    "start_time": "2024-04-11T20:20:12.873Z"
   },
   {
    "duration": 16,
    "start_time": "2024-04-11T20:20:12.908Z"
   },
   {
    "duration": 15,
    "start_time": "2024-04-11T20:20:12.925Z"
   },
   {
    "duration": 239,
    "start_time": "2024-04-11T20:20:12.965Z"
   },
   {
    "duration": 240,
    "start_time": "2024-04-11T20:20:13.206Z"
   },
   {
    "duration": 29,
    "start_time": "2024-04-11T20:20:13.448Z"
   },
   {
    "duration": 34,
    "start_time": "2024-04-11T20:20:13.479Z"
   },
   {
    "duration": 13,
    "start_time": "2024-04-11T20:20:13.516Z"
   },
   {
    "duration": 47,
    "start_time": "2024-04-11T20:20:13.531Z"
   },
   {
    "duration": 0,
    "start_time": "2024-04-11T20:20:13.580Z"
   },
   {
    "duration": 0,
    "start_time": "2024-04-11T20:20:13.581Z"
   },
   {
    "duration": 0,
    "start_time": "2024-04-11T20:20:13.583Z"
   },
   {
    "duration": 0,
    "start_time": "2024-04-11T20:20:13.584Z"
   },
   {
    "duration": 0,
    "start_time": "2024-04-11T20:20:13.586Z"
   },
   {
    "duration": 0,
    "start_time": "2024-04-11T20:20:13.587Z"
   },
   {
    "duration": 0,
    "start_time": "2024-04-11T20:20:13.588Z"
   },
   {
    "duration": 0,
    "start_time": "2024-04-11T20:20:13.590Z"
   },
   {
    "duration": 32,
    "start_time": "2024-04-11T20:20:46.530Z"
   },
   {
    "duration": 4,
    "start_time": "2024-04-11T20:20:56.646Z"
   },
   {
    "duration": 1269,
    "start_time": "2024-04-12T08:14:52.429Z"
   },
   {
    "duration": 302,
    "start_time": "2024-04-12T08:14:53.699Z"
   },
   {
    "duration": 14,
    "start_time": "2024-04-12T08:14:54.003Z"
   },
   {
    "duration": 33,
    "start_time": "2024-04-12T08:14:54.019Z"
   },
   {
    "duration": 14,
    "start_time": "2024-04-12T08:14:54.053Z"
   },
   {
    "duration": 35,
    "start_time": "2024-04-12T08:14:54.068Z"
   },
   {
    "duration": 38,
    "start_time": "2024-04-12T08:14:54.104Z"
   },
   {
    "duration": 11,
    "start_time": "2024-04-12T08:14:54.144Z"
   },
   {
    "duration": 18,
    "start_time": "2024-04-12T08:14:54.157Z"
   },
   {
    "duration": 43,
    "start_time": "2024-04-12T08:14:54.178Z"
   },
   {
    "duration": 95,
    "start_time": "2024-04-12T08:14:54.222Z"
   },
   {
    "duration": 26,
    "start_time": "2024-04-12T08:14:54.318Z"
   },
   {
    "duration": 35,
    "start_time": "2024-04-12T08:14:54.346Z"
   },
   {
    "duration": 25,
    "start_time": "2024-04-12T08:14:54.382Z"
   },
   {
    "duration": 13,
    "start_time": "2024-04-12T08:14:54.409Z"
   },
   {
    "duration": 54,
    "start_time": "2024-04-12T08:14:54.424Z"
   },
   {
    "duration": 71,
    "start_time": "2024-04-12T08:14:54.479Z"
   },
   {
    "duration": 15,
    "start_time": "2024-04-12T08:14:54.552Z"
   },
   {
    "duration": 33,
    "start_time": "2024-04-12T08:14:54.568Z"
   },
   {
    "duration": 28,
    "start_time": "2024-04-12T08:14:54.603Z"
   },
   {
    "duration": 21,
    "start_time": "2024-04-12T08:14:54.632Z"
   },
   {
    "duration": 26,
    "start_time": "2024-04-12T08:14:54.654Z"
   },
   {
    "duration": 164,
    "start_time": "2024-04-12T08:14:54.681Z"
   },
   {
    "duration": 5,
    "start_time": "2024-04-12T08:14:54.847Z"
   },
   {
    "duration": 159,
    "start_time": "2024-04-12T08:14:54.854Z"
   },
   {
    "duration": 7,
    "start_time": "2024-04-12T08:14:55.015Z"
   },
   {
    "duration": 193,
    "start_time": "2024-04-12T08:14:55.023Z"
   },
   {
    "duration": 7,
    "start_time": "2024-04-12T08:14:55.220Z"
   },
   {
    "duration": 171,
    "start_time": "2024-04-12T08:14:55.229Z"
   },
   {
    "duration": 123,
    "start_time": "2024-04-12T08:14:55.402Z"
   },
   {
    "duration": 146,
    "start_time": "2024-04-12T08:14:55.527Z"
   },
   {
    "duration": 20,
    "start_time": "2024-04-12T08:14:55.675Z"
   },
   {
    "duration": 180,
    "start_time": "2024-04-12T08:14:55.696Z"
   },
   {
    "duration": 104,
    "start_time": "2024-04-12T08:14:55.878Z"
   },
   {
    "duration": 132,
    "start_time": "2024-04-12T08:14:55.993Z"
   },
   {
    "duration": 8,
    "start_time": "2024-04-12T08:14:56.126Z"
   },
   {
    "duration": 45,
    "start_time": "2024-04-12T08:14:56.136Z"
   },
   {
    "duration": 20,
    "start_time": "2024-04-12T08:14:56.182Z"
   },
   {
    "duration": 14,
    "start_time": "2024-04-12T08:14:56.204Z"
   },
   {
    "duration": 323,
    "start_time": "2024-04-12T08:14:56.220Z"
   },
   {
    "duration": 228,
    "start_time": "2024-04-12T08:14:56.545Z"
   },
   {
    "duration": 26,
    "start_time": "2024-04-12T08:14:56.775Z"
   },
   {
    "duration": 34,
    "start_time": "2024-04-12T08:14:56.802Z"
   },
   {
    "duration": 13,
    "start_time": "2024-04-12T08:14:56.837Z"
   },
   {
    "duration": 122,
    "start_time": "2024-04-12T08:14:56.852Z"
   },
   {
    "duration": 0,
    "start_time": "2024-04-12T08:14:56.976Z"
   },
   {
    "duration": 0,
    "start_time": "2024-04-12T08:14:56.977Z"
   },
   {
    "duration": 0,
    "start_time": "2024-04-12T08:14:56.979Z"
   },
   {
    "duration": 0,
    "start_time": "2024-04-12T08:14:56.981Z"
   },
   {
    "duration": 0,
    "start_time": "2024-04-12T08:14:56.994Z"
   },
   {
    "duration": 0,
    "start_time": "2024-04-12T08:14:56.996Z"
   },
   {
    "duration": 0,
    "start_time": "2024-04-12T08:14:56.997Z"
   },
   {
    "duration": 0,
    "start_time": "2024-04-12T08:14:56.999Z"
   },
   {
    "duration": 1169,
    "start_time": "2024-04-12T09:01:00.603Z"
   },
   {
    "duration": 68,
    "start_time": "2024-04-12T09:01:01.773Z"
   },
   {
    "duration": 23,
    "start_time": "2024-04-12T09:01:01.843Z"
   },
   {
    "duration": 162,
    "start_time": "2024-04-12T09:01:01.868Z"
   },
   {
    "duration": 268,
    "start_time": "2024-04-12T09:01:02.031Z"
   },
   {
    "duration": 121,
    "start_time": "2024-04-12T09:01:02.300Z"
   },
   {
    "duration": 163,
    "start_time": "2024-04-12T09:01:02.422Z"
   },
   {
    "duration": 78,
    "start_time": "2024-04-12T09:01:02.586Z"
   },
   {
    "duration": 66,
    "start_time": "2024-04-12T09:01:02.665Z"
   },
   {
    "duration": 50,
    "start_time": "2024-04-12T09:01:02.733Z"
   },
   {
    "duration": 39,
    "start_time": "2024-04-12T09:01:02.785Z"
   },
   {
    "duration": 38,
    "start_time": "2024-04-12T09:01:02.826Z"
   },
   {
    "duration": 40,
    "start_time": "2024-04-12T09:01:02.866Z"
   },
   {
    "duration": 43,
    "start_time": "2024-04-12T09:01:02.907Z"
   },
   {
    "duration": 48,
    "start_time": "2024-04-12T09:01:02.951Z"
   },
   {
    "duration": 98,
    "start_time": "2024-04-12T09:01:03.000Z"
   },
   {
    "duration": 10,
    "start_time": "2024-04-12T09:01:03.100Z"
   },
   {
    "duration": 56,
    "start_time": "2024-04-12T09:01:03.111Z"
   },
   {
    "duration": 55,
    "start_time": "2024-04-12T09:01:03.169Z"
   },
   {
    "duration": 80,
    "start_time": "2024-04-12T09:01:03.226Z"
   },
   {
    "duration": 34,
    "start_time": "2024-04-12T09:01:03.308Z"
   },
   {
    "duration": 45,
    "start_time": "2024-04-12T09:01:03.343Z"
   },
   {
    "duration": 217,
    "start_time": "2024-04-12T09:01:03.389Z"
   },
   {
    "duration": 6,
    "start_time": "2024-04-12T09:01:03.607Z"
   },
   {
    "duration": 226,
    "start_time": "2024-04-12T09:01:03.615Z"
   },
   {
    "duration": 6,
    "start_time": "2024-04-12T09:01:03.842Z"
   },
   {
    "duration": 665,
    "start_time": "2024-04-12T09:01:03.849Z"
   },
   {
    "duration": 7,
    "start_time": "2024-04-12T09:01:04.517Z"
   },
   {
    "duration": 186,
    "start_time": "2024-04-12T09:01:04.526Z"
   },
   {
    "duration": 94,
    "start_time": "2024-04-12T09:01:04.713Z"
   },
   {
    "duration": 132,
    "start_time": "2024-04-12T09:01:04.808Z"
   },
   {
    "duration": 7,
    "start_time": "2024-04-12T09:01:04.941Z"
   },
   {
    "duration": 230,
    "start_time": "2024-04-12T09:01:04.950Z"
   },
   {
    "duration": 103,
    "start_time": "2024-04-12T09:01:05.181Z"
   },
   {
    "duration": 132,
    "start_time": "2024-04-12T09:01:05.285Z"
   },
   {
    "duration": 8,
    "start_time": "2024-04-12T09:01:05.419Z"
   },
   {
    "duration": 54,
    "start_time": "2024-04-12T09:01:05.429Z"
   },
   {
    "duration": 17,
    "start_time": "2024-04-12T09:01:05.485Z"
   },
   {
    "duration": 30,
    "start_time": "2024-04-12T09:01:05.503Z"
   },
   {
    "duration": 344,
    "start_time": "2024-04-12T09:01:05.535Z"
   },
   {
    "duration": 220,
    "start_time": "2024-04-12T09:01:05.881Z"
   },
   {
    "duration": 18,
    "start_time": "2024-04-12T09:01:06.102Z"
   },
   {
    "duration": 49,
    "start_time": "2024-04-12T09:01:06.121Z"
   },
   {
    "duration": 39,
    "start_time": "2024-04-12T09:01:06.171Z"
   },
   {
    "duration": 126,
    "start_time": "2024-04-12T09:01:06.211Z"
   },
   {
    "duration": 0,
    "start_time": "2024-04-12T09:01:06.338Z"
   },
   {
    "duration": 0,
    "start_time": "2024-04-12T09:01:06.339Z"
   },
   {
    "duration": 0,
    "start_time": "2024-04-12T09:01:06.340Z"
   },
   {
    "duration": 0,
    "start_time": "2024-04-12T09:01:06.341Z"
   },
   {
    "duration": 0,
    "start_time": "2024-04-12T09:01:06.342Z"
   },
   {
    "duration": 0,
    "start_time": "2024-04-12T09:01:06.343Z"
   },
   {
    "duration": 0,
    "start_time": "2024-04-12T09:01:06.344Z"
   },
   {
    "duration": 0,
    "start_time": "2024-04-12T09:01:06.345Z"
   },
   {
    "duration": 32,
    "start_time": "2024-04-12T09:01:55.961Z"
   },
   {
    "duration": 4,
    "start_time": "2024-04-12T09:02:05.934Z"
   },
   {
    "duration": 156,
    "start_time": "2024-04-12T09:02:15.329Z"
   },
   {
    "duration": 20,
    "start_time": "2024-04-12T09:02:17.286Z"
   },
   {
    "duration": 8,
    "start_time": "2024-04-12T09:04:47.098Z"
   },
   {
    "duration": 11,
    "start_time": "2024-04-12T09:06:30.229Z"
   },
   {
    "duration": 4,
    "start_time": "2024-04-12T09:06:38.012Z"
   },
   {
    "duration": 15,
    "start_time": "2024-04-12T09:13:42.469Z"
   },
   {
    "duration": 1365,
    "start_time": "2024-04-12T09:16:06.927Z"
   },
   {
    "duration": 10,
    "start_time": "2024-04-12T09:24:15.843Z"
   },
   {
    "duration": 8,
    "start_time": "2024-04-12T09:25:45.600Z"
   },
   {
    "duration": 9,
    "start_time": "2024-04-12T09:28:24.459Z"
   },
   {
    "duration": 3,
    "start_time": "2024-04-12T09:40:01.909Z"
   },
   {
    "duration": 276,
    "start_time": "2024-04-12T09:52:20.058Z"
   },
   {
    "duration": 279,
    "start_time": "2024-04-12T09:54:06.823Z"
   },
   {
    "duration": 51,
    "start_time": "2024-04-12T12:10:05.468Z"
   },
   {
    "duration": 1204,
    "start_time": "2024-04-12T12:10:30.315Z"
   },
   {
    "duration": 220,
    "start_time": "2024-04-12T12:10:31.528Z"
   },
   {
    "duration": 13,
    "start_time": "2024-04-12T12:10:31.750Z"
   },
   {
    "duration": 34,
    "start_time": "2024-04-12T12:10:31.764Z"
   },
   {
    "duration": 37,
    "start_time": "2024-04-12T12:10:31.800Z"
   },
   {
    "duration": 10,
    "start_time": "2024-04-12T12:10:31.843Z"
   },
   {
    "duration": 14,
    "start_time": "2024-04-12T12:10:31.854Z"
   },
   {
    "duration": 7,
    "start_time": "2024-04-12T12:10:31.869Z"
   },
   {
    "duration": 46,
    "start_time": "2024-04-12T12:10:31.877Z"
   },
   {
    "duration": 37,
    "start_time": "2024-04-12T12:10:31.924Z"
   },
   {
    "duration": 71,
    "start_time": "2024-04-12T12:10:31.963Z"
   },
   {
    "duration": 7,
    "start_time": "2024-04-12T12:10:32.035Z"
   },
   {
    "duration": 14,
    "start_time": "2024-04-12T12:10:32.043Z"
   },
   {
    "duration": 15,
    "start_time": "2024-04-12T12:10:32.059Z"
   },
   {
    "duration": 4,
    "start_time": "2024-04-12T12:10:32.075Z"
   },
   {
    "duration": 47,
    "start_time": "2024-04-12T12:10:32.080Z"
   },
   {
    "duration": 7,
    "start_time": "2024-04-12T12:10:32.128Z"
   },
   {
    "duration": 6,
    "start_time": "2024-04-12T12:10:32.136Z"
   },
   {
    "duration": 7,
    "start_time": "2024-04-12T12:10:32.143Z"
   },
   {
    "duration": 8,
    "start_time": "2024-04-12T12:10:32.151Z"
   },
   {
    "duration": 6,
    "start_time": "2024-04-12T12:10:32.160Z"
   },
   {
    "duration": 3,
    "start_time": "2024-04-12T12:10:32.167Z"
   },
   {
    "duration": 165,
    "start_time": "2024-04-12T12:10:32.172Z"
   },
   {
    "duration": 6,
    "start_time": "2024-04-12T12:10:32.338Z"
   },
   {
    "duration": 126,
    "start_time": "2024-04-12T12:10:32.345Z"
   },
   {
    "duration": 5,
    "start_time": "2024-04-12T12:10:32.473Z"
   },
   {
    "duration": 167,
    "start_time": "2024-04-12T12:10:32.479Z"
   },
   {
    "duration": 7,
    "start_time": "2024-04-12T12:10:32.647Z"
   },
   {
    "duration": 205,
    "start_time": "2024-04-12T12:10:32.655Z"
   },
   {
    "duration": 104,
    "start_time": "2024-04-12T12:10:32.862Z"
   },
   {
    "duration": 115,
    "start_time": "2024-04-12T12:10:32.967Z"
   },
   {
    "duration": 7,
    "start_time": "2024-04-12T12:10:33.084Z"
   },
   {
    "duration": 178,
    "start_time": "2024-04-12T12:10:33.092Z"
   },
   {
    "duration": 103,
    "start_time": "2024-04-12T12:10:33.272Z"
   },
   {
    "duration": 123,
    "start_time": "2024-04-12T12:10:33.376Z"
   },
   {
    "duration": 24,
    "start_time": "2024-04-12T12:10:33.500Z"
   },
   {
    "duration": 39,
    "start_time": "2024-04-12T12:10:33.525Z"
   },
   {
    "duration": 13,
    "start_time": "2024-04-12T12:10:33.566Z"
   },
   {
    "duration": 11,
    "start_time": "2024-04-12T12:10:33.580Z"
   },
   {
    "duration": 260,
    "start_time": "2024-04-12T12:10:33.593Z"
   },
   {
    "duration": 210,
    "start_time": "2024-04-12T12:10:33.857Z"
   },
   {
    "duration": 16,
    "start_time": "2024-04-12T12:10:34.069Z"
   },
   {
    "duration": 42,
    "start_time": "2024-04-12T12:10:34.087Z"
   },
   {
    "duration": 11,
    "start_time": "2024-04-12T12:10:34.131Z"
   },
   {
    "duration": 88,
    "start_time": "2024-04-12T12:10:34.144Z"
   },
   {
    "duration": 0,
    "start_time": "2024-04-12T12:10:34.233Z"
   },
   {
    "duration": 0,
    "start_time": "2024-04-12T12:10:34.234Z"
   },
   {
    "duration": 0,
    "start_time": "2024-04-12T12:10:34.235Z"
   },
   {
    "duration": 0,
    "start_time": "2024-04-12T12:10:34.236Z"
   },
   {
    "duration": 0,
    "start_time": "2024-04-12T12:10:34.237Z"
   },
   {
    "duration": 0,
    "start_time": "2024-04-12T12:10:34.238Z"
   },
   {
    "duration": 0,
    "start_time": "2024-04-12T12:10:34.239Z"
   },
   {
    "duration": 0,
    "start_time": "2024-04-12T12:10:34.240Z"
   },
   {
    "duration": 0,
    "start_time": "2024-04-12T12:10:34.241Z"
   },
   {
    "duration": 914,
    "start_time": "2024-04-12T12:10:37.968Z"
   },
   {
    "duration": 6,
    "start_time": "2024-04-12T12:34:07.419Z"
   },
   {
    "duration": 5,
    "start_time": "2024-04-12T12:34:13.306Z"
   },
   {
    "duration": 1297,
    "start_time": "2024-04-12T12:34:17.107Z"
   },
   {
    "duration": 10,
    "start_time": "2024-04-12T12:34:31.971Z"
   },
   {
    "duration": 29,
    "start_time": "2024-04-12T12:34:51.705Z"
   },
   {
    "duration": 3,
    "start_time": "2024-04-12T12:34:57.223Z"
   },
   {
    "duration": 116,
    "start_time": "2024-04-12T12:34:58.968Z"
   },
   {
    "duration": 18,
    "start_time": "2024-04-12T12:35:00.739Z"
   },
   {
    "duration": 8,
    "start_time": "2024-04-12T12:35:40.950Z"
   },
   {
    "duration": 6,
    "start_time": "2024-04-12T12:37:34.794Z"
   },
   {
    "duration": 7,
    "start_time": "2024-04-12T12:37:39.704Z"
   },
   {
    "duration": 8,
    "start_time": "2024-04-12T12:37:53.911Z"
   },
   {
    "duration": 9,
    "start_time": "2024-04-12T16:04:38.412Z"
   },
   {
    "duration": 8,
    "start_time": "2024-04-12T16:05:11.934Z"
   },
   {
    "duration": 56,
    "start_time": "2024-04-12T16:15:21.173Z"
   },
   {
    "duration": 1205,
    "start_time": "2024-04-12T16:20:19.611Z"
   },
   {
    "duration": 196,
    "start_time": "2024-04-12T16:21:07.437Z"
   },
   {
    "duration": 66,
    "start_time": "2024-04-12T16:33:31.868Z"
   },
   {
    "duration": 4,
    "start_time": "2024-04-12T16:50:08.273Z"
   },
   {
    "duration": 64,
    "start_time": "2024-04-12T17:03:48.476Z"
   },
   {
    "duration": 3,
    "start_time": "2024-04-12T17:06:12.816Z"
   },
   {
    "duration": 3,
    "start_time": "2024-04-12T17:08:08.920Z"
   },
   {
    "duration": 110,
    "start_time": "2024-04-12T17:08:29.089Z"
   },
   {
    "duration": 4,
    "start_time": "2024-04-12T17:17:06.463Z"
   },
   {
    "duration": 163,
    "start_time": "2024-04-12T17:26:07.669Z"
   },
   {
    "duration": 78,
    "start_time": "2024-04-12T17:27:17.567Z"
   },
   {
    "duration": 4,
    "start_time": "2024-04-12T17:36:31.828Z"
   },
   {
    "duration": 63,
    "start_time": "2024-04-12T17:43:16.068Z"
   },
   {
    "duration": 93,
    "start_time": "2024-04-12T17:45:05.201Z"
   },
   {
    "duration": 74964,
    "start_time": "2024-04-12T17:47:59.070Z"
   },
   {
    "duration": 226,
    "start_time": "2024-04-12T17:49:14.336Z"
   },
   {
    "duration": 1219,
    "start_time": "2024-04-13T04:35:22.016Z"
   },
   {
    "duration": 198,
    "start_time": "2024-04-13T04:35:23.237Z"
   },
   {
    "duration": 13,
    "start_time": "2024-04-13T04:35:23.436Z"
   },
   {
    "duration": 23,
    "start_time": "2024-04-13T04:35:23.451Z"
   },
   {
    "duration": 8,
    "start_time": "2024-04-13T04:35:23.475Z"
   },
   {
    "duration": 19,
    "start_time": "2024-04-13T04:35:23.484Z"
   },
   {
    "duration": 17,
    "start_time": "2024-04-13T04:35:23.504Z"
   },
   {
    "duration": 8,
    "start_time": "2024-04-13T04:35:23.522Z"
   },
   {
    "duration": 34,
    "start_time": "2024-04-13T04:35:23.531Z"
   },
   {
    "duration": 15,
    "start_time": "2024-04-13T04:35:23.567Z"
   },
   {
    "duration": 17,
    "start_time": "2024-04-13T04:35:23.583Z"
   },
   {
    "duration": 11,
    "start_time": "2024-04-13T04:35:23.602Z"
   },
   {
    "duration": 12,
    "start_time": "2024-04-13T04:35:23.615Z"
   },
   {
    "duration": 10,
    "start_time": "2024-04-13T04:35:23.629Z"
   },
   {
    "duration": 8,
    "start_time": "2024-04-13T04:35:23.640Z"
   },
   {
    "duration": 20,
    "start_time": "2024-04-13T04:35:23.649Z"
   },
   {
    "duration": 9,
    "start_time": "2024-04-13T04:35:23.670Z"
   },
   {
    "duration": 6,
    "start_time": "2024-04-13T04:35:23.681Z"
   },
   {
    "duration": 9,
    "start_time": "2024-04-13T04:35:23.688Z"
   },
   {
    "duration": 5,
    "start_time": "2024-04-13T04:35:23.699Z"
   },
   {
    "duration": 12,
    "start_time": "2024-04-13T04:35:23.705Z"
   },
   {
    "duration": 5,
    "start_time": "2024-04-13T04:35:23.718Z"
   },
   {
    "duration": 220,
    "start_time": "2024-04-13T04:35:23.725Z"
   },
   {
    "duration": 6,
    "start_time": "2024-04-13T04:35:23.947Z"
   },
   {
    "duration": 158,
    "start_time": "2024-04-13T04:35:23.965Z"
   },
   {
    "duration": 6,
    "start_time": "2024-04-13T04:35:24.125Z"
   },
   {
    "duration": 172,
    "start_time": "2024-04-13T04:35:24.132Z"
   },
   {
    "duration": 8,
    "start_time": "2024-04-13T04:35:24.308Z"
   },
   {
    "duration": 185,
    "start_time": "2024-04-13T04:35:24.317Z"
   },
   {
    "duration": 111,
    "start_time": "2024-04-13T04:35:24.503Z"
   },
   {
    "duration": 137,
    "start_time": "2024-04-13T04:35:24.616Z"
   },
   {
    "duration": 17,
    "start_time": "2024-04-13T04:35:24.754Z"
   },
   {
    "duration": 179,
    "start_time": "2024-04-13T04:35:24.772Z"
   },
   {
    "duration": 104,
    "start_time": "2024-04-13T04:35:24.953Z"
   },
   {
    "duration": 202,
    "start_time": "2024-04-13T04:35:25.064Z"
   },
   {
    "duration": 9,
    "start_time": "2024-04-13T04:35:25.268Z"
   },
   {
    "duration": 35,
    "start_time": "2024-04-13T04:35:25.278Z"
   },
   {
    "duration": 17,
    "start_time": "2024-04-13T04:35:25.314Z"
   },
   {
    "duration": 42,
    "start_time": "2024-04-13T04:35:25.333Z"
   },
   {
    "duration": 256,
    "start_time": "2024-04-13T04:35:25.377Z"
   },
   {
    "duration": 244,
    "start_time": "2024-04-13T04:35:25.635Z"
   },
   {
    "duration": 19,
    "start_time": "2024-04-13T04:35:25.881Z"
   },
   {
    "duration": 33,
    "start_time": "2024-04-13T04:35:25.901Z"
   },
   {
    "duration": 41,
    "start_time": "2024-04-13T04:35:25.936Z"
   },
   {
    "duration": 104,
    "start_time": "2024-04-13T04:35:25.979Z"
   },
   {
    "duration": 0,
    "start_time": "2024-04-13T04:35:26.085Z"
   },
   {
    "duration": 0,
    "start_time": "2024-04-13T04:35:26.086Z"
   },
   {
    "duration": 0,
    "start_time": "2024-04-13T04:35:26.088Z"
   },
   {
    "duration": 0,
    "start_time": "2024-04-13T04:35:26.088Z"
   },
   {
    "duration": 0,
    "start_time": "2024-04-13T04:35:26.090Z"
   },
   {
    "duration": 0,
    "start_time": "2024-04-13T04:35:26.091Z"
   },
   {
    "duration": 0,
    "start_time": "2024-04-13T04:35:26.092Z"
   },
   {
    "duration": 0,
    "start_time": "2024-04-13T04:35:26.093Z"
   },
   {
    "duration": 0,
    "start_time": "2024-04-13T04:35:26.094Z"
   },
   {
    "duration": 0,
    "start_time": "2024-04-13T04:35:26.095Z"
   },
   {
    "duration": 0,
    "start_time": "2024-04-13T04:35:26.096Z"
   },
   {
    "duration": 0,
    "start_time": "2024-04-13T04:35:26.097Z"
   },
   {
    "duration": 18,
    "start_time": "2024-04-13T04:35:51.727Z"
   },
   {
    "duration": 1070,
    "start_time": "2024-04-13T04:42:27.746Z"
   },
   {
    "duration": 66,
    "start_time": "2024-04-13T04:42:28.818Z"
   },
   {
    "duration": 17,
    "start_time": "2024-04-13T04:42:28.885Z"
   },
   {
    "duration": 23,
    "start_time": "2024-04-13T04:42:28.904Z"
   },
   {
    "duration": 9,
    "start_time": "2024-04-13T04:42:28.929Z"
   },
   {
    "duration": 24,
    "start_time": "2024-04-13T04:42:28.941Z"
   },
   {
    "duration": 20,
    "start_time": "2024-04-13T04:42:28.966Z"
   },
   {
    "duration": 8,
    "start_time": "2024-04-13T04:42:28.987Z"
   },
   {
    "duration": 13,
    "start_time": "2024-04-13T04:42:28.997Z"
   },
   {
    "duration": 22,
    "start_time": "2024-04-13T04:42:29.011Z"
   },
   {
    "duration": 8,
    "start_time": "2024-04-13T04:42:29.034Z"
   },
   {
    "duration": 14,
    "start_time": "2024-04-13T04:42:29.065Z"
   },
   {
    "duration": 21,
    "start_time": "2024-04-13T04:42:29.081Z"
   },
   {
    "duration": 11,
    "start_time": "2024-04-13T04:42:29.105Z"
   },
   {
    "duration": 5,
    "start_time": "2024-04-13T04:42:29.117Z"
   },
   {
    "duration": 24,
    "start_time": "2024-04-13T04:42:29.124Z"
   },
   {
    "duration": 7,
    "start_time": "2024-04-13T04:42:29.150Z"
   },
   {
    "duration": 8,
    "start_time": "2024-04-13T04:42:29.158Z"
   },
   {
    "duration": 23,
    "start_time": "2024-04-13T04:42:29.167Z"
   },
   {
    "duration": 19,
    "start_time": "2024-04-13T04:42:29.192Z"
   },
   {
    "duration": 12,
    "start_time": "2024-04-13T04:42:29.212Z"
   },
   {
    "duration": 9,
    "start_time": "2024-04-13T04:42:29.226Z"
   },
   {
    "duration": 161,
    "start_time": "2024-04-13T04:42:29.236Z"
   },
   {
    "duration": 6,
    "start_time": "2024-04-13T04:42:29.398Z"
   },
   {
    "duration": 144,
    "start_time": "2024-04-13T04:42:29.406Z"
   },
   {
    "duration": 13,
    "start_time": "2024-04-13T04:42:29.552Z"
   },
   {
    "duration": 164,
    "start_time": "2024-04-13T04:42:29.566Z"
   },
   {
    "duration": 9,
    "start_time": "2024-04-13T04:42:29.731Z"
   },
   {
    "duration": 176,
    "start_time": "2024-04-13T04:42:29.742Z"
   },
   {
    "duration": 103,
    "start_time": "2024-04-13T04:42:29.919Z"
   },
   {
    "duration": 128,
    "start_time": "2024-04-13T04:42:30.024Z"
   },
   {
    "duration": 18,
    "start_time": "2024-04-13T04:42:30.153Z"
   },
   {
    "duration": 202,
    "start_time": "2024-04-13T04:42:30.172Z"
   },
   {
    "duration": 96,
    "start_time": "2024-04-13T04:42:30.376Z"
   },
   {
    "duration": 144,
    "start_time": "2024-04-13T04:42:30.473Z"
   },
   {
    "duration": 8,
    "start_time": "2024-04-13T04:42:30.619Z"
   },
   {
    "duration": 97,
    "start_time": "2024-04-13T04:42:30.628Z"
   },
   {
    "duration": 70,
    "start_time": "2024-04-13T04:42:30.727Z"
   },
   {
    "duration": 68,
    "start_time": "2024-04-13T04:42:30.798Z"
   },
   {
    "duration": 398,
    "start_time": "2024-04-13T04:42:30.867Z"
   },
   {
    "duration": 231,
    "start_time": "2024-04-13T04:42:31.268Z"
   },
   {
    "duration": 19,
    "start_time": "2024-04-13T04:42:31.502Z"
   },
   {
    "duration": 46,
    "start_time": "2024-04-13T04:42:31.523Z"
   },
   {
    "duration": 39,
    "start_time": "2024-04-13T04:42:31.570Z"
   },
   {
    "duration": 171,
    "start_time": "2024-04-13T04:42:31.611Z"
   },
   {
    "duration": 0,
    "start_time": "2024-04-13T04:42:31.784Z"
   },
   {
    "duration": 0,
    "start_time": "2024-04-13T04:42:31.785Z"
   },
   {
    "duration": 0,
    "start_time": "2024-04-13T04:42:31.786Z"
   },
   {
    "duration": 0,
    "start_time": "2024-04-13T04:42:31.787Z"
   },
   {
    "duration": 0,
    "start_time": "2024-04-13T04:42:31.788Z"
   },
   {
    "duration": 0,
    "start_time": "2024-04-13T04:42:31.789Z"
   },
   {
    "duration": 0,
    "start_time": "2024-04-13T04:42:31.790Z"
   },
   {
    "duration": 0,
    "start_time": "2024-04-13T04:42:31.791Z"
   },
   {
    "duration": 0,
    "start_time": "2024-04-13T04:42:31.792Z"
   },
   {
    "duration": 0,
    "start_time": "2024-04-13T04:42:31.793Z"
   },
   {
    "duration": 0,
    "start_time": "2024-04-13T04:42:31.794Z"
   },
   {
    "duration": 0,
    "start_time": "2024-04-13T04:42:31.795Z"
   },
   {
    "duration": 95,
    "start_time": "2024-04-14T09:44:16.021Z"
   },
   {
    "duration": 113,
    "start_time": "2024-04-14T09:45:44.249Z"
   },
   {
    "duration": 41,
    "start_time": "2024-04-14T09:47:23.172Z"
   },
   {
    "duration": 6,
    "start_time": "2024-04-14T09:48:10.235Z"
   },
   {
    "duration": 6,
    "start_time": "2024-04-14T09:51:48.453Z"
   },
   {
    "duration": 1431,
    "start_time": "2024-04-14T09:52:04.249Z"
   },
   {
    "duration": 300,
    "start_time": "2024-04-14T09:52:05.683Z"
   },
   {
    "duration": 16,
    "start_time": "2024-04-14T09:52:05.985Z"
   },
   {
    "duration": 20,
    "start_time": "2024-04-14T09:52:06.003Z"
   },
   {
    "duration": 21,
    "start_time": "2024-04-14T09:52:06.024Z"
   },
   {
    "duration": 20,
    "start_time": "2024-04-14T09:52:06.047Z"
   },
   {
    "duration": 24,
    "start_time": "2024-04-14T09:52:06.069Z"
   },
   {
    "duration": 9,
    "start_time": "2024-04-14T09:52:06.094Z"
   },
   {
    "duration": 20,
    "start_time": "2024-04-14T09:52:06.105Z"
   },
   {
    "duration": 33,
    "start_time": "2024-04-14T09:52:06.129Z"
   },
   {
    "duration": 21,
    "start_time": "2024-04-14T09:52:06.164Z"
   },
   {
    "duration": 16,
    "start_time": "2024-04-14T09:52:06.186Z"
   },
   {
    "duration": 11,
    "start_time": "2024-04-14T09:52:06.204Z"
   },
   {
    "duration": 16,
    "start_time": "2024-04-14T09:52:06.216Z"
   },
   {
    "duration": 21,
    "start_time": "2024-04-14T09:52:06.234Z"
   },
   {
    "duration": 9,
    "start_time": "2024-04-14T09:52:06.257Z"
   },
   {
    "duration": 11,
    "start_time": "2024-04-14T09:52:06.268Z"
   },
   {
    "duration": 26,
    "start_time": "2024-04-14T09:52:06.282Z"
   },
   {
    "duration": 7,
    "start_time": "2024-04-14T09:52:06.309Z"
   },
   {
    "duration": 9,
    "start_time": "2024-04-14T09:52:06.317Z"
   },
   {
    "duration": 8,
    "start_time": "2024-04-14T09:52:06.327Z"
   },
   {
    "duration": 38,
    "start_time": "2024-04-14T09:52:06.337Z"
   },
   {
    "duration": 13,
    "start_time": "2024-04-14T09:52:06.377Z"
   },
   {
    "duration": 171,
    "start_time": "2024-04-14T09:52:06.394Z"
   },
   {
    "duration": 6,
    "start_time": "2024-04-14T09:52:06.567Z"
   },
   {
    "duration": 153,
    "start_time": "2024-04-14T09:52:06.586Z"
   },
   {
    "duration": 8,
    "start_time": "2024-04-14T09:52:06.740Z"
   },
   {
    "duration": 214,
    "start_time": "2024-04-14T09:52:06.751Z"
   },
   {
    "duration": 15,
    "start_time": "2024-04-14T09:52:06.966Z"
   },
   {
    "duration": 217,
    "start_time": "2024-04-14T09:52:06.983Z"
   },
   {
    "duration": 149,
    "start_time": "2024-04-14T09:52:07.201Z"
   },
   {
    "duration": 174,
    "start_time": "2024-04-14T09:52:07.352Z"
   },
   {
    "duration": 9,
    "start_time": "2024-04-14T09:52:07.527Z"
   },
   {
    "duration": 189,
    "start_time": "2024-04-14T09:52:07.538Z"
   },
   {
    "duration": 114,
    "start_time": "2024-04-14T09:52:07.729Z"
   },
   {
    "duration": 156,
    "start_time": "2024-04-14T09:52:07.845Z"
   },
   {
    "duration": 9,
    "start_time": "2024-04-14T09:52:08.002Z"
   },
   {
    "duration": 33,
    "start_time": "2024-04-14T09:52:08.012Z"
   },
   {
    "duration": 36,
    "start_time": "2024-04-14T09:52:08.047Z"
   },
   {
    "duration": 19,
    "start_time": "2024-04-14T09:52:08.085Z"
   },
   {
    "duration": 334,
    "start_time": "2024-04-14T09:52:08.106Z"
   },
   {
    "duration": 274,
    "start_time": "2024-04-14T09:52:08.441Z"
   },
   {
    "duration": 25,
    "start_time": "2024-04-14T09:52:08.717Z"
   },
   {
    "duration": 69,
    "start_time": "2024-04-14T09:52:08.744Z"
   },
   {
    "duration": 17,
    "start_time": "2024-04-14T09:52:08.815Z"
   },
   {
    "duration": 102,
    "start_time": "2024-04-14T09:52:08.833Z"
   },
   {
    "duration": 0,
    "start_time": "2024-04-14T09:52:08.938Z"
   },
   {
    "duration": 0,
    "start_time": "2024-04-14T09:52:08.939Z"
   },
   {
    "duration": 0,
    "start_time": "2024-04-14T09:52:08.941Z"
   },
   {
    "duration": 0,
    "start_time": "2024-04-14T09:52:08.944Z"
   },
   {
    "duration": 0,
    "start_time": "2024-04-14T09:52:08.945Z"
   },
   {
    "duration": 0,
    "start_time": "2024-04-14T09:52:08.946Z"
   },
   {
    "duration": 0,
    "start_time": "2024-04-14T09:52:08.948Z"
   },
   {
    "duration": 0,
    "start_time": "2024-04-14T09:52:08.950Z"
   },
   {
    "duration": 0,
    "start_time": "2024-04-14T09:52:08.951Z"
   },
   {
    "duration": 0,
    "start_time": "2024-04-14T09:52:08.979Z"
   },
   {
    "duration": 0,
    "start_time": "2024-04-14T09:52:08.981Z"
   },
   {
    "duration": 0,
    "start_time": "2024-04-14T09:52:08.982Z"
   },
   {
    "duration": 8,
    "start_time": "2024-04-14T09:54:16.313Z"
   },
   {
    "duration": 91,
    "start_time": "2024-04-14T09:58:56.881Z"
   },
   {
    "duration": 153,
    "start_time": "2024-04-14T10:04:36.033Z"
   },
   {
    "duration": 126,
    "start_time": "2024-04-14T10:05:42.925Z"
   },
   {
    "duration": 159,
    "start_time": "2024-04-14T10:06:46.027Z"
   },
   {
    "duration": 134,
    "start_time": "2024-04-14T10:07:02.083Z"
   },
   {
    "duration": 156,
    "start_time": "2024-04-14T10:07:04.774Z"
   },
   {
    "duration": 394,
    "start_time": "2024-04-14T11:04:22.837Z"
   },
   {
    "duration": 49,
    "start_time": "2024-04-14T18:35:40.396Z"
   },
   {
    "duration": 6,
    "start_time": "2024-04-14T18:36:33.919Z"
   },
   {
    "duration": 70,
    "start_time": "2024-04-14T19:16:59.542Z"
   },
   {
    "duration": 1394,
    "start_time": "2024-04-14T19:23:58.667Z"
   },
   {
    "duration": 3,
    "start_time": "2024-04-14T19:24:00.746Z"
   },
   {
    "duration": 3,
    "start_time": "2024-04-14T19:24:03.317Z"
   },
   {
    "duration": 5,
    "start_time": "2024-04-14T19:26:27.785Z"
   },
   {
    "duration": 6,
    "start_time": "2024-04-14T19:26:31.483Z"
   },
   {
    "duration": 5,
    "start_time": "2024-04-14T19:27:17.988Z"
   },
   {
    "duration": 4,
    "start_time": "2024-04-14T19:27:21.801Z"
   },
   {
    "duration": 4,
    "start_time": "2024-04-14T19:27:25.337Z"
   },
   {
    "duration": 61,
    "start_time": "2024-04-14T19:29:52.272Z"
   },
   {
    "duration": 448,
    "start_time": "2024-04-14T19:30:30.758Z"
   },
   {
    "duration": 6,
    "start_time": "2024-04-14T19:30:42.614Z"
   },
   {
    "duration": 283,
    "start_time": "2024-04-14T19:30:54.981Z"
   },
   {
    "duration": 475,
    "start_time": "2024-04-14T19:31:04.616Z"
   },
   {
    "duration": 4,
    "start_time": "2024-04-14T19:31:08.661Z"
   },
   {
    "duration": 3,
    "start_time": "2024-04-14T19:31:12.103Z"
   },
   {
    "duration": 60,
    "start_time": "2024-04-14T19:31:48.369Z"
   },
   {
    "duration": 3054,
    "start_time": "2024-04-14T19:33:07.860Z"
   },
   {
    "duration": 2745,
    "start_time": "2024-04-14T19:33:47.007Z"
   },
   {
    "duration": 55,
    "start_time": "2024-04-14T19:34:02.601Z"
   },
   {
    "duration": 102,
    "start_time": "2024-04-14T19:40:32.025Z"
   },
   {
    "duration": 12,
    "start_time": "2024-04-14T19:40:56.779Z"
   },
   {
    "duration": 7,
    "start_time": "2024-04-14T19:44:41.718Z"
   },
   {
    "duration": 680,
    "start_time": "2024-04-14T19:50:56.030Z"
   },
   {
    "duration": 208,
    "start_time": "2024-04-14T19:51:00.357Z"
   },
   {
    "duration": 5,
    "start_time": "2024-04-14T19:51:02.654Z"
   },
   {
    "duration": 236,
    "start_time": "2024-04-14T19:51:03.921Z"
   },
   {
    "duration": 3,
    "start_time": "2024-04-14T19:51:05.024Z"
   },
   {
    "duration": 3,
    "start_time": "2024-04-14T19:51:06.491Z"
   },
   {
    "duration": 4,
    "start_time": "2024-04-14T19:51:10.142Z"
   },
   {
    "duration": 361,
    "start_time": "2024-04-14T19:51:12.621Z"
   },
   {
    "duration": 69,
    "start_time": "2024-04-14T19:51:15.795Z"
   },
   {
    "duration": 2,
    "start_time": "2024-04-14T19:51:24.362Z"
   },
   {
    "duration": 8,
    "start_time": "2024-04-14T19:51:24.366Z"
   },
   {
    "duration": 7,
    "start_time": "2024-04-14T19:51:24.375Z"
   },
   {
    "duration": 9,
    "start_time": "2024-04-14T19:51:24.388Z"
   },
   {
    "duration": 6,
    "start_time": "2024-04-14T19:51:24.398Z"
   },
   {
    "duration": 10,
    "start_time": "2024-04-14T19:51:24.405Z"
   },
   {
    "duration": 70,
    "start_time": "2024-04-14T19:51:24.417Z"
   },
   {
    "duration": 17,
    "start_time": "2024-04-14T19:51:24.489Z"
   },
   {
    "duration": 18,
    "start_time": "2024-04-14T19:51:24.508Z"
   },
   {
    "duration": 10,
    "start_time": "2024-04-14T19:51:24.528Z"
   },
   {
    "duration": 57,
    "start_time": "2024-04-14T19:51:24.542Z"
   },
   {
    "duration": 23,
    "start_time": "2024-04-14T19:51:24.600Z"
   },
   {
    "duration": 11,
    "start_time": "2024-04-14T19:51:24.625Z"
   },
   {
    "duration": 93,
    "start_time": "2024-04-14T19:51:24.638Z"
   },
   {
    "duration": 0,
    "start_time": "2024-04-14T19:51:24.734Z"
   },
   {
    "duration": 0,
    "start_time": "2024-04-14T19:51:24.735Z"
   },
   {
    "duration": 0,
    "start_time": "2024-04-14T19:51:24.736Z"
   },
   {
    "duration": 0,
    "start_time": "2024-04-14T19:51:24.737Z"
   },
   {
    "duration": 0,
    "start_time": "2024-04-14T19:51:24.738Z"
   },
   {
    "duration": 0,
    "start_time": "2024-04-14T19:51:24.739Z"
   },
   {
    "duration": 0,
    "start_time": "2024-04-14T19:51:24.740Z"
   },
   {
    "duration": 0,
    "start_time": "2024-04-14T19:51:24.741Z"
   },
   {
    "duration": 0,
    "start_time": "2024-04-14T19:51:24.742Z"
   },
   {
    "duration": 0,
    "start_time": "2024-04-14T19:51:24.743Z"
   },
   {
    "duration": 0,
    "start_time": "2024-04-14T19:51:24.744Z"
   },
   {
    "duration": 0,
    "start_time": "2024-04-14T19:51:24.745Z"
   },
   {
    "duration": 0,
    "start_time": "2024-04-14T19:51:24.746Z"
   },
   {
    "duration": 0,
    "start_time": "2024-04-14T19:51:24.747Z"
   },
   {
    "duration": 0,
    "start_time": "2024-04-14T19:51:24.748Z"
   },
   {
    "duration": 0,
    "start_time": "2024-04-14T19:51:24.781Z"
   },
   {
    "duration": 0,
    "start_time": "2024-04-14T19:51:24.782Z"
   },
   {
    "duration": 0,
    "start_time": "2024-04-14T19:51:24.783Z"
   },
   {
    "duration": 0,
    "start_time": "2024-04-14T19:51:24.784Z"
   },
   {
    "duration": 0,
    "start_time": "2024-04-14T19:51:24.785Z"
   },
   {
    "duration": 0,
    "start_time": "2024-04-14T19:51:24.786Z"
   },
   {
    "duration": 0,
    "start_time": "2024-04-14T19:51:24.788Z"
   },
   {
    "duration": 0,
    "start_time": "2024-04-14T19:51:24.789Z"
   },
   {
    "duration": 0,
    "start_time": "2024-04-14T19:51:24.790Z"
   },
   {
    "duration": 0,
    "start_time": "2024-04-14T19:51:24.791Z"
   },
   {
    "duration": 0,
    "start_time": "2024-04-14T19:51:24.791Z"
   },
   {
    "duration": 0,
    "start_time": "2024-04-14T19:51:24.792Z"
   },
   {
    "duration": 0,
    "start_time": "2024-04-14T19:51:24.793Z"
   },
   {
    "duration": 0,
    "start_time": "2024-04-14T19:51:24.794Z"
   },
   {
    "duration": 0,
    "start_time": "2024-04-14T19:51:24.795Z"
   },
   {
    "duration": 0,
    "start_time": "2024-04-14T19:51:24.795Z"
   },
   {
    "duration": 0,
    "start_time": "2024-04-14T19:51:24.797Z"
   },
   {
    "duration": 0,
    "start_time": "2024-04-14T19:51:24.797Z"
   },
   {
    "duration": 0,
    "start_time": "2024-04-14T19:51:24.798Z"
   },
   {
    "duration": 0,
    "start_time": "2024-04-14T19:51:24.799Z"
   },
   {
    "duration": 0,
    "start_time": "2024-04-14T19:51:24.800Z"
   },
   {
    "duration": 0,
    "start_time": "2024-04-14T19:51:24.800Z"
   },
   {
    "duration": 0,
    "start_time": "2024-04-14T19:51:24.801Z"
   },
   {
    "duration": 0,
    "start_time": "2024-04-14T19:51:24.802Z"
   },
   {
    "duration": 0,
    "start_time": "2024-04-14T19:51:24.803Z"
   },
   {
    "duration": 0,
    "start_time": "2024-04-14T19:51:24.804Z"
   },
   {
    "duration": 0,
    "start_time": "2024-04-14T19:51:24.805Z"
   },
   {
    "duration": 0,
    "start_time": "2024-04-14T19:51:24.806Z"
   },
   {
    "duration": 0,
    "start_time": "2024-04-14T19:51:24.807Z"
   },
   {
    "duration": 0,
    "start_time": "2024-04-14T19:51:24.809Z"
   },
   {
    "duration": 0,
    "start_time": "2024-04-14T19:51:24.810Z"
   },
   {
    "duration": 0,
    "start_time": "2024-04-14T19:51:24.811Z"
   },
   {
    "duration": 0,
    "start_time": "2024-04-14T19:51:24.812Z"
   },
   {
    "duration": 0,
    "start_time": "2024-04-14T19:51:24.813Z"
   },
   {
    "duration": 0,
    "start_time": "2024-04-14T19:51:24.815Z"
   },
   {
    "duration": 0,
    "start_time": "2024-04-14T19:51:24.816Z"
   },
   {
    "duration": 726,
    "start_time": "2024-04-14T19:53:28.491Z"
   },
   {
    "duration": 418,
    "start_time": "2024-04-14T19:53:54.046Z"
   },
   {
    "duration": 3,
    "start_time": "2024-04-14T19:53:54.466Z"
   },
   {
    "duration": 283,
    "start_time": "2024-04-14T19:53:54.470Z"
   },
   {
    "duration": 486,
    "start_time": "2024-04-14T19:53:54.755Z"
   },
   {
    "duration": 3,
    "start_time": "2024-04-14T19:53:55.242Z"
   },
   {
    "duration": 5,
    "start_time": "2024-04-14T19:53:55.246Z"
   },
   {
    "duration": 81,
    "start_time": "2024-04-14T19:53:55.253Z"
   },
   {
    "duration": 15,
    "start_time": "2024-04-14T19:53:55.335Z"
   },
   {
    "duration": 17,
    "start_time": "2024-04-14T19:53:55.351Z"
   },
   {
    "duration": 9,
    "start_time": "2024-04-14T19:53:55.371Z"
   },
   {
    "duration": 25,
    "start_time": "2024-04-14T19:53:55.381Z"
   },
   {
    "duration": 21,
    "start_time": "2024-04-14T19:53:55.407Z"
   },
   {
    "duration": 14,
    "start_time": "2024-04-14T19:53:55.431Z"
   },
   {
    "duration": 137,
    "start_time": "2024-04-14T19:53:55.447Z"
   },
   {
    "duration": 0,
    "start_time": "2024-04-14T19:53:55.589Z"
   },
   {
    "duration": 0,
    "start_time": "2024-04-14T19:53:55.592Z"
   },
   {
    "duration": 0,
    "start_time": "2024-04-14T19:53:55.593Z"
   },
   {
    "duration": 0,
    "start_time": "2024-04-14T19:53:55.595Z"
   },
   {
    "duration": 0,
    "start_time": "2024-04-14T19:53:55.597Z"
   },
   {
    "duration": 0,
    "start_time": "2024-04-14T19:53:55.599Z"
   },
   {
    "duration": 0,
    "start_time": "2024-04-14T19:53:55.601Z"
   },
   {
    "duration": 0,
    "start_time": "2024-04-14T19:53:55.604Z"
   },
   {
    "duration": 0,
    "start_time": "2024-04-14T19:53:55.605Z"
   },
   {
    "duration": 0,
    "start_time": "2024-04-14T19:53:55.606Z"
   },
   {
    "duration": 0,
    "start_time": "2024-04-14T19:53:55.607Z"
   },
   {
    "duration": 0,
    "start_time": "2024-04-14T19:53:55.609Z"
   },
   {
    "duration": 0,
    "start_time": "2024-04-14T19:53:55.610Z"
   },
   {
    "duration": 0,
    "start_time": "2024-04-14T19:53:55.611Z"
   },
   {
    "duration": 0,
    "start_time": "2024-04-14T19:53:55.612Z"
   },
   {
    "duration": 0,
    "start_time": "2024-04-14T19:53:55.613Z"
   },
   {
    "duration": 0,
    "start_time": "2024-04-14T19:53:55.615Z"
   },
   {
    "duration": 0,
    "start_time": "2024-04-14T19:53:55.616Z"
   },
   {
    "duration": 0,
    "start_time": "2024-04-14T19:53:55.617Z"
   },
   {
    "duration": 0,
    "start_time": "2024-04-14T19:53:55.618Z"
   },
   {
    "duration": 0,
    "start_time": "2024-04-14T19:53:55.619Z"
   },
   {
    "duration": 0,
    "start_time": "2024-04-14T19:53:55.620Z"
   },
   {
    "duration": 0,
    "start_time": "2024-04-14T19:53:55.621Z"
   },
   {
    "duration": 0,
    "start_time": "2024-04-14T19:53:55.622Z"
   },
   {
    "duration": 0,
    "start_time": "2024-04-14T19:53:55.623Z"
   },
   {
    "duration": 0,
    "start_time": "2024-04-14T19:53:55.624Z"
   },
   {
    "duration": 0,
    "start_time": "2024-04-14T19:53:55.626Z"
   },
   {
    "duration": 0,
    "start_time": "2024-04-14T19:53:55.627Z"
   },
   {
    "duration": 0,
    "start_time": "2024-04-14T19:53:55.688Z"
   },
   {
    "duration": 0,
    "start_time": "2024-04-14T19:53:55.689Z"
   },
   {
    "duration": 0,
    "start_time": "2024-04-14T19:53:55.690Z"
   },
   {
    "duration": 0,
    "start_time": "2024-04-14T19:53:55.690Z"
   },
   {
    "duration": 0,
    "start_time": "2024-04-14T19:53:55.691Z"
   },
   {
    "duration": 0,
    "start_time": "2024-04-14T19:53:55.692Z"
   },
   {
    "duration": 0,
    "start_time": "2024-04-14T19:53:55.693Z"
   },
   {
    "duration": 0,
    "start_time": "2024-04-14T19:53:55.693Z"
   },
   {
    "duration": 0,
    "start_time": "2024-04-14T19:53:55.694Z"
   },
   {
    "duration": 0,
    "start_time": "2024-04-14T19:53:55.695Z"
   },
   {
    "duration": 0,
    "start_time": "2024-04-14T19:53:55.696Z"
   },
   {
    "duration": 0,
    "start_time": "2024-04-14T19:53:55.698Z"
   },
   {
    "duration": 0,
    "start_time": "2024-04-14T19:53:55.700Z"
   },
   {
    "duration": 0,
    "start_time": "2024-04-14T19:53:55.702Z"
   },
   {
    "duration": 0,
    "start_time": "2024-04-14T19:53:55.704Z"
   },
   {
    "duration": 0,
    "start_time": "2024-04-14T19:53:55.705Z"
   },
   {
    "duration": 0,
    "start_time": "2024-04-14T19:53:55.708Z"
   },
   {
    "duration": 0,
    "start_time": "2024-04-14T19:53:55.709Z"
   },
   {
    "duration": 0,
    "start_time": "2024-04-14T19:53:55.711Z"
   },
   {
    "duration": 0,
    "start_time": "2024-04-14T19:53:55.714Z"
   },
   {
    "duration": 0,
    "start_time": "2024-04-14T19:53:55.715Z"
   },
   {
    "duration": 0,
    "start_time": "2024-04-14T19:53:55.717Z"
   },
   {
    "duration": 0,
    "start_time": "2024-04-14T19:53:55.719Z"
   },
   {
    "duration": 67,
    "start_time": "2024-04-14T20:11:04.155Z"
   },
   {
    "duration": 3,
    "start_time": "2024-04-14T20:11:24.613Z"
   },
   {
    "duration": 8,
    "start_time": "2024-04-14T20:11:24.618Z"
   },
   {
    "duration": 6,
    "start_time": "2024-04-14T20:11:24.627Z"
   },
   {
    "duration": 8,
    "start_time": "2024-04-14T20:11:24.634Z"
   },
   {
    "duration": 4,
    "start_time": "2024-04-14T20:11:24.644Z"
   },
   {
    "duration": 6,
    "start_time": "2024-04-14T20:11:24.649Z"
   },
   {
    "duration": 74,
    "start_time": "2024-04-14T20:11:24.656Z"
   },
   {
    "duration": 13,
    "start_time": "2024-04-14T20:11:24.731Z"
   },
   {
    "duration": 20,
    "start_time": "2024-04-14T20:11:24.746Z"
   },
   {
    "duration": 11,
    "start_time": "2024-04-14T20:11:24.768Z"
   },
   {
    "duration": 17,
    "start_time": "2024-04-14T20:11:24.782Z"
   },
   {
    "duration": 22,
    "start_time": "2024-04-14T20:11:24.801Z"
   },
   {
    "duration": 9,
    "start_time": "2024-04-14T20:11:24.824Z"
   },
   {
    "duration": 10,
    "start_time": "2024-04-14T20:11:24.835Z"
   },
   {
    "duration": 10,
    "start_time": "2024-04-14T20:11:24.879Z"
   },
   {
    "duration": 0,
    "start_time": "2024-04-14T20:11:24.892Z"
   },
   {
    "duration": 0,
    "start_time": "2024-04-14T20:11:24.893Z"
   },
   {
    "duration": 0,
    "start_time": "2024-04-14T20:11:24.894Z"
   },
   {
    "duration": 0,
    "start_time": "2024-04-14T20:11:24.895Z"
   },
   {
    "duration": 0,
    "start_time": "2024-04-14T20:11:24.896Z"
   },
   {
    "duration": 0,
    "start_time": "2024-04-14T20:11:24.897Z"
   },
   {
    "duration": 0,
    "start_time": "2024-04-14T20:11:24.898Z"
   },
   {
    "duration": 0,
    "start_time": "2024-04-14T20:11:24.899Z"
   },
   {
    "duration": 0,
    "start_time": "2024-04-14T20:11:24.900Z"
   },
   {
    "duration": 0,
    "start_time": "2024-04-14T20:11:24.901Z"
   },
   {
    "duration": 0,
    "start_time": "2024-04-14T20:11:24.902Z"
   },
   {
    "duration": 0,
    "start_time": "2024-04-14T20:11:24.903Z"
   },
   {
    "duration": 0,
    "start_time": "2024-04-14T20:11:24.904Z"
   },
   {
    "duration": 0,
    "start_time": "2024-04-14T20:11:24.905Z"
   },
   {
    "duration": 0,
    "start_time": "2024-04-14T20:11:24.906Z"
   },
   {
    "duration": 0,
    "start_time": "2024-04-14T20:11:24.907Z"
   },
   {
    "duration": 0,
    "start_time": "2024-04-14T20:11:24.908Z"
   },
   {
    "duration": 0,
    "start_time": "2024-04-14T20:11:24.909Z"
   },
   {
    "duration": 0,
    "start_time": "2024-04-14T20:11:24.910Z"
   },
   {
    "duration": 0,
    "start_time": "2024-04-14T20:11:24.911Z"
   },
   {
    "duration": 0,
    "start_time": "2024-04-14T20:11:24.912Z"
   },
   {
    "duration": 0,
    "start_time": "2024-04-14T20:11:24.913Z"
   },
   {
    "duration": 0,
    "start_time": "2024-04-14T20:11:24.914Z"
   },
   {
    "duration": 0,
    "start_time": "2024-04-14T20:11:24.915Z"
   },
   {
    "duration": 0,
    "start_time": "2024-04-14T20:11:24.916Z"
   },
   {
    "duration": 0,
    "start_time": "2024-04-14T20:11:24.917Z"
   },
   {
    "duration": 0,
    "start_time": "2024-04-14T20:11:24.918Z"
   },
   {
    "duration": 0,
    "start_time": "2024-04-14T20:11:24.919Z"
   },
   {
    "duration": 0,
    "start_time": "2024-04-14T20:11:24.920Z"
   },
   {
    "duration": 0,
    "start_time": "2024-04-14T20:11:24.921Z"
   },
   {
    "duration": 0,
    "start_time": "2024-04-14T20:11:24.922Z"
   },
   {
    "duration": 0,
    "start_time": "2024-04-14T20:11:24.923Z"
   },
   {
    "duration": 0,
    "start_time": "2024-04-14T20:11:24.980Z"
   },
   {
    "duration": 0,
    "start_time": "2024-04-14T20:11:24.981Z"
   },
   {
    "duration": 0,
    "start_time": "2024-04-14T20:11:24.982Z"
   },
   {
    "duration": 0,
    "start_time": "2024-04-14T20:11:24.983Z"
   },
   {
    "duration": 0,
    "start_time": "2024-04-14T20:11:24.984Z"
   },
   {
    "duration": 0,
    "start_time": "2024-04-14T20:11:24.985Z"
   },
   {
    "duration": 0,
    "start_time": "2024-04-14T20:11:24.986Z"
   },
   {
    "duration": 0,
    "start_time": "2024-04-14T20:11:24.987Z"
   },
   {
    "duration": 0,
    "start_time": "2024-04-14T20:11:24.988Z"
   },
   {
    "duration": 0,
    "start_time": "2024-04-14T20:11:24.989Z"
   },
   {
    "duration": 0,
    "start_time": "2024-04-14T20:11:24.990Z"
   },
   {
    "duration": 0,
    "start_time": "2024-04-14T20:11:24.991Z"
   },
   {
    "duration": 0,
    "start_time": "2024-04-14T20:11:24.992Z"
   },
   {
    "duration": 0,
    "start_time": "2024-04-14T20:11:24.993Z"
   },
   {
    "duration": 0,
    "start_time": "2024-04-14T20:11:24.994Z"
   },
   {
    "duration": 0,
    "start_time": "2024-04-14T20:11:24.995Z"
   },
   {
    "duration": 0,
    "start_time": "2024-04-14T20:11:24.995Z"
   },
   {
    "duration": 0,
    "start_time": "2024-04-14T20:11:24.996Z"
   },
   {
    "duration": 46,
    "start_time": "2024-04-14T20:12:18.190Z"
   },
   {
    "duration": 6,
    "start_time": "2024-04-14T20:12:30.242Z"
   },
   {
    "duration": 443,
    "start_time": "2024-04-14T20:12:49.288Z"
   },
   {
    "duration": 2,
    "start_time": "2024-04-14T20:12:49.734Z"
   },
   {
    "duration": 262,
    "start_time": "2024-04-14T20:12:49.738Z"
   },
   {
    "duration": 427,
    "start_time": "2024-04-14T20:12:50.002Z"
   },
   {
    "duration": 3,
    "start_time": "2024-04-14T20:12:50.430Z"
   },
   {
    "duration": 11,
    "start_time": "2024-04-14T20:12:50.434Z"
   },
   {
    "duration": 70,
    "start_time": "2024-04-14T20:12:50.446Z"
   },
   {
    "duration": 14,
    "start_time": "2024-04-14T20:12:50.518Z"
   },
   {
    "duration": 15,
    "start_time": "2024-04-14T20:12:50.534Z"
   },
   {
    "duration": 11,
    "start_time": "2024-04-14T20:12:50.551Z"
   },
   {
    "duration": 18,
    "start_time": "2024-04-14T20:12:50.563Z"
   },
   {
    "duration": 23,
    "start_time": "2024-04-14T20:12:50.582Z"
   },
   {
    "duration": 8,
    "start_time": "2024-04-14T20:12:50.607Z"
   },
   {
    "duration": 14,
    "start_time": "2024-04-14T20:12:50.616Z"
   },
   {
    "duration": 79,
    "start_time": "2024-04-14T20:12:50.632Z"
   },
   {
    "duration": 0,
    "start_time": "2024-04-14T20:12:50.713Z"
   },
   {
    "duration": 0,
    "start_time": "2024-04-14T20:12:50.715Z"
   },
   {
    "duration": 0,
    "start_time": "2024-04-14T20:12:50.716Z"
   },
   {
    "duration": 0,
    "start_time": "2024-04-14T20:12:50.717Z"
   },
   {
    "duration": 0,
    "start_time": "2024-04-14T20:12:50.718Z"
   },
   {
    "duration": 0,
    "start_time": "2024-04-14T20:12:50.719Z"
   },
   {
    "duration": 0,
    "start_time": "2024-04-14T20:12:50.720Z"
   },
   {
    "duration": 0,
    "start_time": "2024-04-14T20:12:50.721Z"
   },
   {
    "duration": 0,
    "start_time": "2024-04-14T20:12:50.722Z"
   },
   {
    "duration": 0,
    "start_time": "2024-04-14T20:12:50.723Z"
   },
   {
    "duration": 0,
    "start_time": "2024-04-14T20:12:50.724Z"
   },
   {
    "duration": 0,
    "start_time": "2024-04-14T20:12:50.725Z"
   },
   {
    "duration": 0,
    "start_time": "2024-04-14T20:12:50.726Z"
   },
   {
    "duration": 0,
    "start_time": "2024-04-14T20:12:50.727Z"
   },
   {
    "duration": 0,
    "start_time": "2024-04-14T20:12:50.728Z"
   },
   {
    "duration": 0,
    "start_time": "2024-04-14T20:12:50.729Z"
   },
   {
    "duration": 0,
    "start_time": "2024-04-14T20:12:50.730Z"
   },
   {
    "duration": 0,
    "start_time": "2024-04-14T20:12:50.731Z"
   },
   {
    "duration": 0,
    "start_time": "2024-04-14T20:12:50.732Z"
   },
   {
    "duration": 0,
    "start_time": "2024-04-14T20:12:50.733Z"
   },
   {
    "duration": 0,
    "start_time": "2024-04-14T20:12:50.734Z"
   },
   {
    "duration": 0,
    "start_time": "2024-04-14T20:12:50.735Z"
   },
   {
    "duration": 0,
    "start_time": "2024-04-14T20:12:50.736Z"
   },
   {
    "duration": 0,
    "start_time": "2024-04-14T20:12:50.737Z"
   },
   {
    "duration": 0,
    "start_time": "2024-04-14T20:12:50.738Z"
   },
   {
    "duration": 0,
    "start_time": "2024-04-14T20:12:50.738Z"
   },
   {
    "duration": 0,
    "start_time": "2024-04-14T20:12:50.739Z"
   },
   {
    "duration": 0,
    "start_time": "2024-04-14T20:12:50.780Z"
   },
   {
    "duration": 0,
    "start_time": "2024-04-14T20:12:50.781Z"
   },
   {
    "duration": 0,
    "start_time": "2024-04-14T20:12:50.782Z"
   },
   {
    "duration": 0,
    "start_time": "2024-04-14T20:12:50.783Z"
   },
   {
    "duration": 0,
    "start_time": "2024-04-14T20:12:50.784Z"
   },
   {
    "duration": 0,
    "start_time": "2024-04-14T20:12:50.785Z"
   },
   {
    "duration": 0,
    "start_time": "2024-04-14T20:12:50.786Z"
   },
   {
    "duration": 0,
    "start_time": "2024-04-14T20:12:50.787Z"
   },
   {
    "duration": 0,
    "start_time": "2024-04-14T20:12:50.788Z"
   },
   {
    "duration": 0,
    "start_time": "2024-04-14T20:12:50.789Z"
   },
   {
    "duration": 0,
    "start_time": "2024-04-14T20:12:50.790Z"
   },
   {
    "duration": 0,
    "start_time": "2024-04-14T20:12:50.791Z"
   },
   {
    "duration": 0,
    "start_time": "2024-04-14T20:12:50.792Z"
   },
   {
    "duration": 0,
    "start_time": "2024-04-14T20:12:50.793Z"
   },
   {
    "duration": 0,
    "start_time": "2024-04-14T20:12:50.793Z"
   },
   {
    "duration": 0,
    "start_time": "2024-04-14T20:12:50.795Z"
   },
   {
    "duration": 0,
    "start_time": "2024-04-14T20:12:50.795Z"
   },
   {
    "duration": 0,
    "start_time": "2024-04-14T20:12:50.796Z"
   },
   {
    "duration": 0,
    "start_time": "2024-04-14T20:12:50.797Z"
   },
   {
    "duration": 0,
    "start_time": "2024-04-14T20:12:50.798Z"
   },
   {
    "duration": 0,
    "start_time": "2024-04-14T20:12:50.799Z"
   },
   {
    "duration": 0,
    "start_time": "2024-04-14T20:12:50.800Z"
   },
   {
    "duration": 0,
    "start_time": "2024-04-14T20:12:50.801Z"
   },
   {
    "duration": 14,
    "start_time": "2024-04-14T20:13:33.637Z"
   },
   {
    "duration": 12,
    "start_time": "2024-04-14T20:13:38.735Z"
   },
   {
    "duration": 14,
    "start_time": "2024-04-14T20:13:49.784Z"
   },
   {
    "duration": 18,
    "start_time": "2024-04-14T20:13:53.289Z"
   },
   {
    "duration": 8,
    "start_time": "2024-04-14T20:13:56.755Z"
   },
   {
    "duration": 12,
    "start_time": "2024-04-14T20:14:03.455Z"
   },
   {
    "duration": 17,
    "start_time": "2024-04-14T20:14:10.505Z"
   },
   {
    "duration": 9,
    "start_time": "2024-04-14T20:14:19.254Z"
   },
   {
    "duration": 7,
    "start_time": "2024-04-14T20:14:45.527Z"
   },
   {
    "duration": 11,
    "start_time": "2024-04-14T20:14:48.540Z"
   },
   {
    "duration": 11,
    "start_time": "2024-04-14T20:15:03.125Z"
   },
   {
    "duration": 6,
    "start_time": "2024-04-14T20:15:08.274Z"
   },
   {
    "duration": 8,
    "start_time": "2024-04-14T20:15:17.647Z"
   },
   {
    "duration": 6,
    "start_time": "2024-04-14T20:15:23.546Z"
   },
   {
    "duration": 7,
    "start_time": "2024-04-14T20:15:28.920Z"
   },
   {
    "duration": 6,
    "start_time": "2024-04-14T20:15:38.249Z"
   },
   {
    "duration": 8,
    "start_time": "2024-04-14T20:15:41.395Z"
   },
   {
    "duration": 6,
    "start_time": "2024-04-14T20:15:53.496Z"
   },
   {
    "duration": 7,
    "start_time": "2024-04-14T20:16:14.735Z"
   },
   {
    "duration": 6,
    "start_time": "2024-04-14T20:17:15.455Z"
   },
   {
    "duration": 167,
    "start_time": "2024-04-14T20:17:25.075Z"
   },
   {
    "duration": 7,
    "start_time": "2024-04-14T20:17:32.339Z"
   },
   {
    "duration": 137,
    "start_time": "2024-04-14T20:17:43.609Z"
   },
   {
    "duration": 85,
    "start_time": "2024-04-14T20:18:14.131Z"
   },
   {
    "duration": 7,
    "start_time": "2024-04-14T20:18:20.161Z"
   },
   {
    "duration": 175,
    "start_time": "2024-04-14T20:18:30.246Z"
   },
   {
    "duration": 8,
    "start_time": "2024-04-14T20:18:35.714Z"
   },
   {
    "duration": 179,
    "start_time": "2024-04-14T20:18:50.566Z"
   },
   {
    "duration": 117,
    "start_time": "2024-04-14T20:19:06.355Z"
   },
   {
    "duration": 142,
    "start_time": "2024-04-14T20:19:13.266Z"
   },
   {
    "duration": 9,
    "start_time": "2024-04-14T20:19:20.117Z"
   },
   {
    "duration": 182,
    "start_time": "2024-04-14T20:19:34.703Z"
   },
   {
    "duration": 318,
    "start_time": "2024-04-14T20:19:53.188Z"
   },
   {
    "duration": 106,
    "start_time": "2024-04-14T20:19:59.823Z"
   },
   {
    "duration": 152,
    "start_time": "2024-04-14T20:20:04.109Z"
   },
   {
    "duration": 10,
    "start_time": "2024-04-14T20:20:09.850Z"
   },
   {
    "duration": 17,
    "start_time": "2024-04-14T20:21:15.615Z"
   },
   {
    "duration": 30,
    "start_time": "2024-04-14T20:21:27.951Z"
   },
   {
    "duration": 18,
    "start_time": "2024-04-14T20:22:24.205Z"
   },
   {
    "duration": 15,
    "start_time": "2024-04-14T20:22:27.605Z"
   },
   {
    "duration": 36,
    "start_time": "2024-04-14T20:43:13.215Z"
   },
   {
    "duration": 8,
    "start_time": "2024-04-14T20:43:18.065Z"
   },
   {
    "duration": 8,
    "start_time": "2024-04-14T20:53:31.949Z"
   },
   {
    "duration": 15,
    "start_time": "2024-04-14T20:54:41.197Z"
   },
   {
    "duration": 8,
    "start_time": "2024-04-14T20:55:56.663Z"
   },
   {
    "duration": 18,
    "start_time": "2024-04-14T20:57:01.869Z"
   },
   {
    "duration": 16,
    "start_time": "2024-04-14T20:57:07.953Z"
   },
   {
    "duration": 247,
    "start_time": "2024-04-14T20:57:31.923Z"
   },
   {
    "duration": 255,
    "start_time": "2024-04-14T20:57:35.754Z"
   },
   {
    "duration": 12,
    "start_time": "2024-04-14T21:04:55.401Z"
   },
   {
    "duration": 37,
    "start_time": "2024-04-14T21:05:08.935Z"
   },
   {
    "duration": 38,
    "start_time": "2024-04-14T21:05:12.623Z"
   },
   {
    "duration": 14,
    "start_time": "2024-04-14T21:05:15.765Z"
   },
   {
    "duration": 15,
    "start_time": "2024-04-14T21:05:24.019Z"
   },
   {
    "duration": 34,
    "start_time": "2024-04-14T21:05:51.745Z"
   },
   {
    "duration": 5,
    "start_time": "2024-04-14T21:06:06.976Z"
   },
   {
    "duration": 150,
    "start_time": "2024-04-14T21:06:10.838Z"
   },
   {
    "duration": 25,
    "start_time": "2024-04-14T21:06:12.988Z"
   },
   {
    "duration": 36,
    "start_time": "2024-04-14T21:39:34.024Z"
   },
   {
    "duration": 4,
    "start_time": "2024-04-14T21:43:46.174Z"
   },
   {
    "duration": 1323,
    "start_time": "2024-04-14T21:43:49.094Z"
   },
   {
    "duration": 1292,
    "start_time": "2024-04-14T21:44:29.116Z"
   },
   {
    "duration": 468,
    "start_time": "2024-04-14T21:46:13.064Z"
   },
   {
    "duration": 2,
    "start_time": "2024-04-14T21:46:13.534Z"
   },
   {
    "duration": 288,
    "start_time": "2024-04-14T21:46:13.538Z"
   },
   {
    "duration": 483,
    "start_time": "2024-04-14T21:46:13.828Z"
   },
   {
    "duration": 3,
    "start_time": "2024-04-14T21:46:14.312Z"
   },
   {
    "duration": 6,
    "start_time": "2024-04-14T21:46:14.316Z"
   },
   {
    "duration": 71,
    "start_time": "2024-04-14T21:46:14.324Z"
   },
   {
    "duration": 14,
    "start_time": "2024-04-14T21:46:14.396Z"
   },
   {
    "duration": 27,
    "start_time": "2024-04-14T21:46:14.411Z"
   },
   {
    "duration": 8,
    "start_time": "2024-04-14T21:46:14.440Z"
   },
   {
    "duration": 12,
    "start_time": "2024-04-14T21:46:14.449Z"
   },
   {
    "duration": 27,
    "start_time": "2024-04-14T21:46:14.463Z"
   },
   {
    "duration": 12,
    "start_time": "2024-04-14T21:46:14.493Z"
   },
   {
    "duration": 25,
    "start_time": "2024-04-14T21:46:14.506Z"
   },
   {
    "duration": 19,
    "start_time": "2024-04-14T21:46:14.533Z"
   },
   {
    "duration": 8,
    "start_time": "2024-04-14T21:46:14.553Z"
   },
   {
    "duration": 31,
    "start_time": "2024-04-14T21:46:14.563Z"
   },
   {
    "duration": 11,
    "start_time": "2024-04-14T21:46:14.596Z"
   },
   {
    "duration": 10,
    "start_time": "2024-04-14T21:46:14.609Z"
   },
   {
    "duration": 5,
    "start_time": "2024-04-14T21:46:14.620Z"
   },
   {
    "duration": 22,
    "start_time": "2024-04-14T21:46:14.626Z"
   },
   {
    "duration": 14,
    "start_time": "2024-04-14T21:46:14.650Z"
   },
   {
    "duration": 18,
    "start_time": "2024-04-14T21:46:14.665Z"
   },
   {
    "duration": 17,
    "start_time": "2024-04-14T21:46:14.687Z"
   },
   {
    "duration": 8,
    "start_time": "2024-04-14T21:46:14.705Z"
   },
   {
    "duration": 18,
    "start_time": "2024-04-14T21:46:14.714Z"
   },
   {
    "duration": 9,
    "start_time": "2024-04-14T21:46:14.733Z"
   },
   {
    "duration": 5,
    "start_time": "2024-04-14T21:46:14.745Z"
   },
   {
    "duration": 191,
    "start_time": "2024-04-14T21:46:14.752Z"
   },
   {
    "duration": 6,
    "start_time": "2024-04-14T21:46:14.945Z"
   },
   {
    "duration": 158,
    "start_time": "2024-04-14T21:46:14.953Z"
   },
   {
    "duration": 94,
    "start_time": "2024-04-14T21:46:15.113Z"
   },
   {
    "duration": 6,
    "start_time": "2024-04-14T21:46:15.209Z"
   },
   {
    "duration": 190,
    "start_time": "2024-04-14T21:46:15.216Z"
   },
   {
    "duration": 8,
    "start_time": "2024-04-14T21:46:15.407Z"
   },
   {
    "duration": 210,
    "start_time": "2024-04-14T21:46:15.417Z"
   },
   {
    "duration": 138,
    "start_time": "2024-04-14T21:46:15.628Z"
   },
   {
    "duration": 151,
    "start_time": "2024-04-14T21:46:15.768Z"
   },
   {
    "duration": 8,
    "start_time": "2024-04-14T21:46:15.920Z"
   },
   {
    "duration": 198,
    "start_time": "2024-04-14T21:46:15.929Z"
   },
   {
    "duration": 336,
    "start_time": "2024-04-14T21:46:16.128Z"
   },
   {
    "duration": 139,
    "start_time": "2024-04-14T21:46:16.465Z"
   },
   {
    "duration": 148,
    "start_time": "2024-04-14T21:46:16.606Z"
   },
   {
    "duration": 8,
    "start_time": "2024-04-14T21:46:16.756Z"
   },
   {
    "duration": 53,
    "start_time": "2024-04-14T21:46:16.766Z"
   },
   {
    "duration": 10,
    "start_time": "2024-04-14T21:46:16.820Z"
   },
   {
    "duration": 13,
    "start_time": "2024-04-14T21:46:16.831Z"
   },
   {
    "duration": 11,
    "start_time": "2024-04-14T21:46:16.846Z"
   },
   {
    "duration": 52,
    "start_time": "2024-04-14T21:46:16.858Z"
   },
   {
    "duration": 15,
    "start_time": "2024-04-14T21:46:16.912Z"
   },
   {
    "duration": 249,
    "start_time": "2024-04-14T21:46:16.928Z"
   },
   {
    "duration": 257,
    "start_time": "2024-04-14T21:46:17.182Z"
   },
   {
    "duration": 19,
    "start_time": "2024-04-14T21:46:17.441Z"
   },
   {
    "duration": 48,
    "start_time": "2024-04-14T21:46:17.461Z"
   },
   {
    "duration": 12,
    "start_time": "2024-04-14T21:46:17.511Z"
   },
   {
    "duration": 129,
    "start_time": "2024-04-14T21:46:17.525Z"
   },
   {
    "duration": 0,
    "start_time": "2024-04-14T21:46:17.655Z"
   },
   {
    "duration": 0,
    "start_time": "2024-04-14T21:46:17.656Z"
   },
   {
    "duration": 0,
    "start_time": "2024-04-14T21:46:17.657Z"
   },
   {
    "duration": 0,
    "start_time": "2024-04-14T21:46:17.658Z"
   },
   {
    "duration": 0,
    "start_time": "2024-04-14T21:46:17.659Z"
   },
   {
    "duration": 0,
    "start_time": "2024-04-14T21:46:17.660Z"
   },
   {
    "duration": 0,
    "start_time": "2024-04-14T21:46:17.661Z"
   },
   {
    "duration": 0,
    "start_time": "2024-04-14T21:46:17.662Z"
   },
   {
    "duration": 0,
    "start_time": "2024-04-14T21:46:17.663Z"
   },
   {
    "duration": 0,
    "start_time": "2024-04-14T21:46:17.664Z"
   },
   {
    "duration": 0,
    "start_time": "2024-04-14T21:46:17.665Z"
   },
   {
    "duration": 0,
    "start_time": "2024-04-14T21:46:17.666Z"
   },
   {
    "duration": 48,
    "start_time": "2024-04-14T22:03:12.001Z"
   },
   {
    "duration": 28,
    "start_time": "2024-04-14T22:05:06.749Z"
   },
   {
    "duration": 4,
    "start_time": "2024-04-14T22:05:33.135Z"
   },
   {
    "duration": 1308,
    "start_time": "2024-04-14T22:05:41.636Z"
   },
   {
    "duration": 3,
    "start_time": "2024-04-14T22:07:44.900Z"
   },
   {
    "duration": 414,
    "start_time": "2024-04-14T22:08:14.997Z"
   },
   {
    "duration": 3,
    "start_time": "2024-04-14T22:08:15.413Z"
   },
   {
    "duration": 238,
    "start_time": "2024-04-14T22:08:15.417Z"
   },
   {
    "duration": 471,
    "start_time": "2024-04-14T22:08:15.657Z"
   },
   {
    "duration": 3,
    "start_time": "2024-04-14T22:08:16.130Z"
   },
   {
    "duration": 4,
    "start_time": "2024-04-14T22:08:16.135Z"
   },
   {
    "duration": 68,
    "start_time": "2024-04-14T22:08:16.140Z"
   },
   {
    "duration": 13,
    "start_time": "2024-04-14T22:08:16.210Z"
   },
   {
    "duration": 16,
    "start_time": "2024-04-14T22:08:16.224Z"
   },
   {
    "duration": 9,
    "start_time": "2024-04-14T22:08:16.242Z"
   },
   {
    "duration": 12,
    "start_time": "2024-04-14T22:08:16.252Z"
   },
   {
    "duration": 17,
    "start_time": "2024-04-14T22:08:16.281Z"
   },
   {
    "duration": 8,
    "start_time": "2024-04-14T22:08:16.300Z"
   },
   {
    "duration": 19,
    "start_time": "2024-04-14T22:08:16.309Z"
   },
   {
    "duration": 20,
    "start_time": "2024-04-14T22:08:16.329Z"
   },
   {
    "duration": 13,
    "start_time": "2024-04-14T22:08:16.351Z"
   },
   {
    "duration": 7,
    "start_time": "2024-04-14T22:08:16.379Z"
   },
   {
    "duration": 25,
    "start_time": "2024-04-14T22:08:16.387Z"
   },
   {
    "duration": 17,
    "start_time": "2024-04-14T22:08:16.414Z"
   },
   {
    "duration": 8,
    "start_time": "2024-04-14T22:08:16.433Z"
   },
   {
    "duration": 11,
    "start_time": "2024-04-14T22:08:16.442Z"
   },
   {
    "duration": 46,
    "start_time": "2024-04-14T22:08:16.455Z"
   },
   {
    "duration": 27,
    "start_time": "2024-04-14T22:08:16.502Z"
   },
   {
    "duration": 7,
    "start_time": "2024-04-14T22:08:16.530Z"
   },
   {
    "duration": 17,
    "start_time": "2024-04-14T22:08:16.538Z"
   },
   {
    "duration": 6,
    "start_time": "2024-04-14T22:08:16.556Z"
   },
   {
    "duration": 12,
    "start_time": "2024-04-14T22:08:16.564Z"
   },
   {
    "duration": 6,
    "start_time": "2024-04-14T22:08:16.579Z"
   },
   {
    "duration": 183,
    "start_time": "2024-04-14T22:08:16.587Z"
   },
   {
    "duration": 10,
    "start_time": "2024-04-14T22:08:16.771Z"
   },
   {
    "duration": 148,
    "start_time": "2024-04-14T22:08:16.783Z"
   },
   {
    "duration": 98,
    "start_time": "2024-04-14T22:08:16.932Z"
   },
   {
    "duration": 8,
    "start_time": "2024-04-14T22:08:17.031Z"
   },
   {
    "duration": 179,
    "start_time": "2024-04-14T22:08:17.041Z"
   },
   {
    "duration": 9,
    "start_time": "2024-04-14T22:08:17.222Z"
   },
   {
    "duration": 187,
    "start_time": "2024-04-14T22:08:17.232Z"
   },
   {
    "duration": 118,
    "start_time": "2024-04-14T22:08:17.420Z"
   },
   {
    "duration": 146,
    "start_time": "2024-04-14T22:08:17.540Z"
   },
   {
    "duration": 8,
    "start_time": "2024-04-14T22:08:17.688Z"
   },
   {
    "duration": 183,
    "start_time": "2024-04-14T22:08:17.697Z"
   },
   {
    "duration": 320,
    "start_time": "2024-04-14T22:08:17.881Z"
   },
   {
    "duration": 123,
    "start_time": "2024-04-14T22:08:18.202Z"
   },
   {
    "duration": 138,
    "start_time": "2024-04-14T22:08:18.326Z"
   },
   {
    "duration": 16,
    "start_time": "2024-04-14T22:08:18.465Z"
   },
   {
    "duration": 37,
    "start_time": "2024-04-14T22:08:18.482Z"
   },
   {
    "duration": 12,
    "start_time": "2024-04-14T22:08:18.521Z"
   },
   {
    "duration": 47,
    "start_time": "2024-04-14T22:08:18.534Z"
   },
   {
    "duration": 9,
    "start_time": "2024-04-14T22:08:18.582Z"
   },
   {
    "duration": 41,
    "start_time": "2024-04-14T22:08:18.592Z"
   },
   {
    "duration": 30,
    "start_time": "2024-04-14T22:08:18.634Z"
   },
   {
    "duration": 243,
    "start_time": "2024-04-14T22:08:18.666Z"
   },
   {
    "duration": 234,
    "start_time": "2024-04-14T22:08:18.910Z"
   },
   {
    "duration": 20,
    "start_time": "2024-04-14T22:08:19.145Z"
   },
   {
    "duration": 46,
    "start_time": "2024-04-14T22:08:19.167Z"
   },
   {
    "duration": 97,
    "start_time": "2024-04-14T22:08:19.215Z"
   },
   {
    "duration": 0,
    "start_time": "2024-04-14T22:08:19.314Z"
   },
   {
    "duration": 0,
    "start_time": "2024-04-14T22:08:19.315Z"
   },
   {
    "duration": 0,
    "start_time": "2024-04-14T22:08:19.316Z"
   },
   {
    "duration": 0,
    "start_time": "2024-04-14T22:08:19.317Z"
   },
   {
    "duration": 0,
    "start_time": "2024-04-14T22:08:19.318Z"
   },
   {
    "duration": 1,
    "start_time": "2024-04-14T22:08:19.319Z"
   },
   {
    "duration": 0,
    "start_time": "2024-04-14T22:08:19.321Z"
   },
   {
    "duration": 0,
    "start_time": "2024-04-14T22:08:19.322Z"
   },
   {
    "duration": 0,
    "start_time": "2024-04-14T22:08:19.323Z"
   },
   {
    "duration": 0,
    "start_time": "2024-04-14T22:08:19.324Z"
   },
   {
    "duration": 0,
    "start_time": "2024-04-14T22:08:19.326Z"
   },
   {
    "duration": 0,
    "start_time": "2024-04-14T22:08:19.326Z"
   },
   {
    "duration": 0,
    "start_time": "2024-04-14T22:08:19.327Z"
   },
   {
    "duration": 26,
    "start_time": "2024-04-14T22:11:19.453Z"
   },
   {
    "duration": 4,
    "start_time": "2024-04-14T22:11:28.344Z"
   },
   {
    "duration": 4,
    "start_time": "2024-04-14T22:11:33.922Z"
   },
   {
    "duration": 8,
    "start_time": "2024-04-14T22:11:38.507Z"
   },
   {
    "duration": 1262,
    "start_time": "2024-04-14T22:12:36.902Z"
   },
   {
    "duration": 4,
    "start_time": "2024-04-14T22:13:57.773Z"
   },
   {
    "duration": 132,
    "start_time": "2024-04-14T22:14:11.124Z"
   },
   {
    "duration": 19,
    "start_time": "2024-04-14T22:14:14.328Z"
   },
   {
    "duration": 33,
    "start_time": "2024-04-14T22:17:22.893Z"
   },
   {
    "duration": 32,
    "start_time": "2024-04-14T22:17:32.728Z"
   },
   {
    "duration": 7,
    "start_time": "2024-04-14T22:19:35.908Z"
   },
   {
    "duration": 110,
    "start_time": "2024-04-14T22:21:29.612Z"
   },
   {
    "duration": 5,
    "start_time": "2024-04-14T22:22:07.438Z"
   },
   {
    "duration": 4,
    "start_time": "2024-04-14T22:22:14.581Z"
   },
   {
    "duration": 10,
    "start_time": "2024-04-14T22:23:31.846Z"
   },
   {
    "duration": 10,
    "start_time": "2024-04-14T22:24:02.669Z"
   },
   {
    "duration": 9,
    "start_time": "2024-04-14T22:24:05.921Z"
   },
   {
    "duration": 1368,
    "start_time": "2024-04-14T22:24:26.857Z"
   },
   {
    "duration": 17,
    "start_time": "2024-04-14T22:25:01.239Z"
   },
   {
    "duration": 1209,
    "start_time": "2024-04-14T22:25:15.817Z"
   },
   {
    "duration": 423,
    "start_time": "2024-04-14T22:25:45.535Z"
   },
   {
    "duration": 2,
    "start_time": "2024-04-14T22:25:45.960Z"
   },
   {
    "duration": 276,
    "start_time": "2024-04-14T22:25:45.964Z"
   },
   {
    "duration": 514,
    "start_time": "2024-04-14T22:25:46.242Z"
   },
   {
    "duration": 3,
    "start_time": "2024-04-14T22:25:46.758Z"
   },
   {
    "duration": 21,
    "start_time": "2024-04-14T22:25:46.762Z"
   },
   {
    "duration": 75,
    "start_time": "2024-04-14T22:25:46.785Z"
   },
   {
    "duration": 13,
    "start_time": "2024-04-14T22:25:46.862Z"
   },
   {
    "duration": 20,
    "start_time": "2024-04-14T22:25:46.876Z"
   },
   {
    "duration": 9,
    "start_time": "2024-04-14T22:25:46.901Z"
   },
   {
    "duration": 27,
    "start_time": "2024-04-14T22:25:46.911Z"
   },
   {
    "duration": 19,
    "start_time": "2024-04-14T22:25:46.940Z"
   },
   {
    "duration": 8,
    "start_time": "2024-04-14T22:25:46.961Z"
   },
   {
    "duration": 12,
    "start_time": "2024-04-14T22:25:46.981Z"
   },
   {
    "duration": 26,
    "start_time": "2024-04-14T22:25:46.995Z"
   },
   {
    "duration": 13,
    "start_time": "2024-04-14T22:25:47.023Z"
   },
   {
    "duration": 9,
    "start_time": "2024-04-14T22:25:47.037Z"
   },
   {
    "duration": 12,
    "start_time": "2024-04-14T22:25:47.048Z"
   },
   {
    "duration": 17,
    "start_time": "2024-04-14T22:25:47.081Z"
   },
   {
    "duration": 5,
    "start_time": "2024-04-14T22:25:47.101Z"
   },
   {
    "duration": 11,
    "start_time": "2024-04-14T22:25:47.108Z"
   },
   {
    "duration": 14,
    "start_time": "2024-04-14T22:25:47.121Z"
   },
   {
    "duration": 9,
    "start_time": "2024-04-14T22:25:47.137Z"
   },
   {
    "duration": 35,
    "start_time": "2024-04-14T22:25:47.148Z"
   },
   {
    "duration": 11,
    "start_time": "2024-04-14T22:25:47.185Z"
   },
   {
    "duration": 7,
    "start_time": "2024-04-14T22:25:47.198Z"
   },
   {
    "duration": 10,
    "start_time": "2024-04-14T22:25:47.207Z"
   },
   {
    "duration": 6,
    "start_time": "2024-04-14T22:25:47.221Z"
   },
   {
    "duration": 217,
    "start_time": "2024-04-14T22:25:47.228Z"
   },
   {
    "duration": 8,
    "start_time": "2024-04-14T22:25:47.447Z"
   },
   {
    "duration": 190,
    "start_time": "2024-04-14T22:25:47.457Z"
   },
   {
    "duration": 92,
    "start_time": "2024-04-14T22:25:47.648Z"
   },
   {
    "duration": 7,
    "start_time": "2024-04-14T22:25:47.741Z"
   },
   {
    "duration": 196,
    "start_time": "2024-04-14T22:25:47.749Z"
   },
   {
    "duration": 7,
    "start_time": "2024-04-14T22:25:47.946Z"
   },
   {
    "duration": 172,
    "start_time": "2024-04-14T22:25:47.955Z"
   },
   {
    "duration": 116,
    "start_time": "2024-04-14T22:25:48.129Z"
   },
   {
    "duration": 149,
    "start_time": "2024-04-14T22:25:48.247Z"
   },
   {
    "duration": 10,
    "start_time": "2024-04-14T22:25:48.398Z"
   },
   {
    "duration": 202,
    "start_time": "2024-04-14T22:25:48.410Z"
   },
   {
    "duration": 350,
    "start_time": "2024-04-14T22:25:48.621Z"
   },
   {
    "duration": 128,
    "start_time": "2024-04-14T22:25:48.972Z"
   },
   {
    "duration": 169,
    "start_time": "2024-04-14T22:25:49.101Z"
   },
   {
    "duration": 11,
    "start_time": "2024-04-14T22:25:49.272Z"
   },
   {
    "duration": 35,
    "start_time": "2024-04-14T22:25:49.285Z"
   },
   {
    "duration": 9,
    "start_time": "2024-04-14T22:25:49.321Z"
   },
   {
    "duration": 12,
    "start_time": "2024-04-14T22:25:49.331Z"
   },
   {
    "duration": 35,
    "start_time": "2024-04-14T22:25:49.345Z"
   },
   {
    "duration": 17,
    "start_time": "2024-04-14T22:25:49.382Z"
   },
   {
    "duration": 15,
    "start_time": "2024-04-14T22:25:49.400Z"
   },
   {
    "duration": 270,
    "start_time": "2024-04-14T22:25:49.416Z"
   },
   {
    "duration": 265,
    "start_time": "2024-04-14T22:25:49.688Z"
   },
   {
    "duration": 27,
    "start_time": "2024-04-14T22:25:49.954Z"
   },
   {
    "duration": 37,
    "start_time": "2024-04-14T22:25:49.985Z"
   },
   {
    "duration": 23,
    "start_time": "2024-04-14T22:25:50.024Z"
   },
   {
    "duration": 3,
    "start_time": "2024-04-14T22:25:50.048Z"
   },
   {
    "duration": 184,
    "start_time": "2024-04-14T22:25:50.052Z"
   },
   {
    "duration": 17,
    "start_time": "2024-04-14T22:25:50.238Z"
   },
   {
    "duration": 7,
    "start_time": "2024-04-14T22:25:50.257Z"
   },
   {
    "duration": 18,
    "start_time": "2024-04-14T22:25:50.265Z"
   },
   {
    "duration": 9,
    "start_time": "2024-04-14T22:25:50.285Z"
   },
   {
    "duration": 13,
    "start_time": "2024-04-14T22:25:50.296Z"
   },
   {
    "duration": 120,
    "start_time": "2024-04-14T22:25:50.310Z"
   },
   {
    "duration": 0,
    "start_time": "2024-04-14T22:25:50.432Z"
   },
   {
    "duration": 0,
    "start_time": "2024-04-14T22:25:50.433Z"
   },
   {
    "duration": 0,
    "start_time": "2024-04-14T22:25:50.434Z"
   },
   {
    "duration": 0,
    "start_time": "2024-04-14T22:25:50.435Z"
   },
   {
    "duration": 12,
    "start_time": "2024-04-14T22:26:49.793Z"
   },
   {
    "duration": 275,
    "start_time": "2024-04-14T22:28:00.134Z"
   },
   {
    "duration": 216,
    "start_time": "2024-04-14T22:28:04.033Z"
   },
   {
    "duration": 87,
    "start_time": "2024-04-14T22:28:07.753Z"
   },
   {
    "duration": 271,
    "start_time": "2024-04-14T22:28:10.948Z"
   },
   {
    "duration": 342,
    "start_time": "2024-04-15T06:51:51.241Z"
   },
   {
    "duration": 2,
    "start_time": "2024-04-15T06:51:51.585Z"
   },
   {
    "duration": 499,
    "start_time": "2024-04-15T06:51:51.588Z"
   },
   {
    "duration": 439,
    "start_time": "2024-04-15T06:51:52.089Z"
   },
   {
    "duration": 3,
    "start_time": "2024-04-15T06:51:52.529Z"
   },
   {
    "duration": 5,
    "start_time": "2024-04-15T06:51:52.533Z"
   },
   {
    "duration": 324,
    "start_time": "2024-04-15T06:51:52.540Z"
   },
   {
    "duration": 13,
    "start_time": "2024-04-15T06:51:52.865Z"
   },
   {
    "duration": 22,
    "start_time": "2024-04-15T06:51:52.879Z"
   },
   {
    "duration": 8,
    "start_time": "2024-04-15T06:51:52.903Z"
   },
   {
    "duration": 15,
    "start_time": "2024-04-15T06:51:52.912Z"
   },
   {
    "duration": 16,
    "start_time": "2024-04-15T06:51:52.929Z"
   },
   {
    "duration": 9,
    "start_time": "2024-04-15T06:51:52.946Z"
   },
   {
    "duration": 34,
    "start_time": "2024-04-15T06:51:52.956Z"
   },
   {
    "duration": 24,
    "start_time": "2024-04-15T06:51:52.992Z"
   },
   {
    "duration": 7,
    "start_time": "2024-04-15T06:51:53.017Z"
   },
   {
    "duration": 7,
    "start_time": "2024-04-15T06:51:53.025Z"
   },
   {
    "duration": 11,
    "start_time": "2024-04-15T06:51:53.034Z"
   },
   {
    "duration": 40,
    "start_time": "2024-04-15T06:51:53.046Z"
   },
   {
    "duration": 5,
    "start_time": "2024-04-15T06:51:53.087Z"
   },
   {
    "duration": 7,
    "start_time": "2024-04-15T06:51:53.094Z"
   },
   {
    "duration": 7,
    "start_time": "2024-04-15T06:51:53.102Z"
   },
   {
    "duration": 8,
    "start_time": "2024-04-15T06:51:53.110Z"
   },
   {
    "duration": 6,
    "start_time": "2024-04-15T06:51:53.120Z"
   },
   {
    "duration": 9,
    "start_time": "2024-04-15T06:51:53.128Z"
   },
   {
    "duration": 5,
    "start_time": "2024-04-15T06:51:53.138Z"
   },
   {
    "duration": 45,
    "start_time": "2024-04-15T06:51:53.145Z"
   },
   {
    "duration": 5,
    "start_time": "2024-04-15T06:51:53.195Z"
   },
   {
    "duration": 175,
    "start_time": "2024-04-15T06:51:53.201Z"
   },
   {
    "duration": 8,
    "start_time": "2024-04-15T06:51:53.378Z"
   },
   {
    "duration": 146,
    "start_time": "2024-04-15T06:51:53.387Z"
   },
   {
    "duration": 78,
    "start_time": "2024-04-15T06:51:53.535Z"
   },
   {
    "duration": 5,
    "start_time": "2024-04-15T06:51:53.615Z"
   },
   {
    "duration": 148,
    "start_time": "2024-04-15T06:51:53.622Z"
   },
   {
    "duration": 13,
    "start_time": "2024-04-15T06:51:53.771Z"
   },
   {
    "duration": 153,
    "start_time": "2024-04-15T06:51:53.786Z"
   },
   {
    "duration": 112,
    "start_time": "2024-04-15T06:51:53.940Z"
   },
   {
    "duration": 138,
    "start_time": "2024-04-15T06:51:54.054Z"
   },
   {
    "duration": 8,
    "start_time": "2024-04-15T06:51:54.194Z"
   },
   {
    "duration": 190,
    "start_time": "2024-04-15T06:51:54.204Z"
   },
   {
    "duration": 286,
    "start_time": "2024-04-15T06:51:54.395Z"
   },
   {
    "duration": 111,
    "start_time": "2024-04-15T06:51:54.685Z"
   },
   {
    "duration": 128,
    "start_time": "2024-04-15T06:51:54.799Z"
   },
   {
    "duration": 7,
    "start_time": "2024-04-15T06:51:54.928Z"
   },
   {
    "duration": 28,
    "start_time": "2024-04-15T06:51:54.937Z"
   },
   {
    "duration": 22,
    "start_time": "2024-04-15T06:51:54.967Z"
   },
   {
    "duration": 11,
    "start_time": "2024-04-15T06:51:54.990Z"
   },
   {
    "duration": 6,
    "start_time": "2024-04-15T06:51:55.003Z"
   },
   {
    "duration": 44,
    "start_time": "2024-04-15T06:51:55.010Z"
   },
   {
    "duration": 14,
    "start_time": "2024-04-15T06:51:55.056Z"
   },
   {
    "duration": 211,
    "start_time": "2024-04-15T06:51:55.071Z"
   },
   {
    "duration": 216,
    "start_time": "2024-04-15T06:51:55.284Z"
   },
   {
    "duration": 26,
    "start_time": "2024-04-15T06:51:55.502Z"
   },
   {
    "duration": 34,
    "start_time": "2024-04-15T06:51:55.530Z"
   },
   {
    "duration": 37,
    "start_time": "2024-04-15T06:51:55.566Z"
   },
   {
    "duration": 6,
    "start_time": "2024-04-15T06:51:55.604Z"
   },
   {
    "duration": 170,
    "start_time": "2024-04-15T06:51:55.611Z"
   },
   {
    "duration": 16,
    "start_time": "2024-04-15T06:51:55.783Z"
   },
   {
    "duration": 6,
    "start_time": "2024-04-15T06:51:55.800Z"
   },
   {
    "duration": 5,
    "start_time": "2024-04-15T06:51:55.808Z"
   },
   {
    "duration": 3,
    "start_time": "2024-04-15T06:51:55.814Z"
   },
   {
    "duration": 6,
    "start_time": "2024-04-15T06:51:55.819Z"
   },
   {
    "duration": 8,
    "start_time": "2024-04-15T06:51:55.826Z"
   },
   {
    "duration": 249,
    "start_time": "2024-04-15T06:51:55.835Z"
   },
   {
    "duration": 177,
    "start_time": "2024-04-15T06:51:56.085Z"
   },
   {
    "duration": 142,
    "start_time": "2024-04-15T06:51:56.263Z"
   },
   {
    "duration": 282,
    "start_time": "2024-04-15T06:51:56.406Z"
   },
   {
    "duration": 369,
    "start_time": "2024-04-15T08:15:15.650Z"
   },
   {
    "duration": 2,
    "start_time": "2024-04-15T08:15:16.021Z"
   },
   {
    "duration": 227,
    "start_time": "2024-04-15T08:15:16.025Z"
   },
   {
    "duration": 443,
    "start_time": "2024-04-15T08:15:16.253Z"
   },
   {
    "duration": 3,
    "start_time": "2024-04-15T08:15:16.698Z"
   },
   {
    "duration": 4,
    "start_time": "2024-04-15T08:15:16.702Z"
   },
   {
    "duration": 75,
    "start_time": "2024-04-15T08:15:16.708Z"
   },
   {
    "duration": 13,
    "start_time": "2024-04-15T08:15:16.785Z"
   },
   {
    "duration": 16,
    "start_time": "2024-04-15T08:15:16.799Z"
   },
   {
    "duration": 9,
    "start_time": "2024-04-15T08:15:16.817Z"
   },
   {
    "duration": 12,
    "start_time": "2024-04-15T08:15:16.827Z"
   },
   {
    "duration": 16,
    "start_time": "2024-04-15T08:15:16.840Z"
   },
   {
    "duration": 27,
    "start_time": "2024-04-15T08:15:16.858Z"
   },
   {
    "duration": 40,
    "start_time": "2024-04-15T08:15:16.887Z"
   },
   {
    "duration": 18,
    "start_time": "2024-04-15T08:15:16.928Z"
   },
   {
    "duration": 10,
    "start_time": "2024-04-15T08:15:16.948Z"
   },
   {
    "duration": 17,
    "start_time": "2024-04-15T08:15:16.959Z"
   },
   {
    "duration": 13,
    "start_time": "2024-04-15T08:15:16.977Z"
   },
   {
    "duration": 12,
    "start_time": "2024-04-15T08:15:16.991Z"
   },
   {
    "duration": 4,
    "start_time": "2024-04-15T08:15:17.004Z"
   },
   {
    "duration": 17,
    "start_time": "2024-04-15T08:15:17.009Z"
   },
   {
    "duration": 12,
    "start_time": "2024-04-15T08:15:17.027Z"
   },
   {
    "duration": 9,
    "start_time": "2024-04-15T08:15:17.041Z"
   },
   {
    "duration": 7,
    "start_time": "2024-04-15T08:15:17.051Z"
   },
   {
    "duration": 19,
    "start_time": "2024-04-15T08:15:17.060Z"
   },
   {
    "duration": 16,
    "start_time": "2024-04-15T08:15:17.081Z"
   },
   {
    "duration": 10,
    "start_time": "2024-04-15T08:15:17.099Z"
   },
   {
    "duration": 4,
    "start_time": "2024-04-15T08:15:17.113Z"
   },
   {
    "duration": 157,
    "start_time": "2024-04-15T08:15:17.118Z"
   },
   {
    "duration": 9,
    "start_time": "2024-04-15T08:15:17.276Z"
   },
   {
    "duration": 121,
    "start_time": "2024-04-15T08:15:17.287Z"
   },
   {
    "duration": 75,
    "start_time": "2024-04-15T08:15:17.409Z"
   },
   {
    "duration": 5,
    "start_time": "2024-04-15T08:15:17.486Z"
   },
   {
    "duration": 156,
    "start_time": "2024-04-15T08:15:17.493Z"
   },
   {
    "duration": 6,
    "start_time": "2024-04-15T08:15:17.650Z"
   },
   {
    "duration": 144,
    "start_time": "2024-04-15T08:15:17.658Z"
   },
   {
    "duration": 102,
    "start_time": "2024-04-15T08:15:17.803Z"
   },
   {
    "duration": 130,
    "start_time": "2024-04-15T08:15:17.907Z"
   },
   {
    "duration": 6,
    "start_time": "2024-04-15T08:15:18.039Z"
   },
   {
    "duration": 150,
    "start_time": "2024-04-15T08:15:18.047Z"
   },
   {
    "duration": 274,
    "start_time": "2024-04-15T08:15:18.199Z"
   },
   {
    "duration": 93,
    "start_time": "2024-04-15T08:15:18.474Z"
   },
   {
    "duration": 129,
    "start_time": "2024-04-15T08:15:18.569Z"
   },
   {
    "duration": 8,
    "start_time": "2024-04-15T08:15:18.699Z"
   },
   {
    "duration": 35,
    "start_time": "2024-04-15T08:15:18.708Z"
   },
   {
    "duration": 7,
    "start_time": "2024-04-15T08:15:18.744Z"
   },
   {
    "duration": 15,
    "start_time": "2024-04-15T08:15:18.753Z"
   },
   {
    "duration": 20,
    "start_time": "2024-04-15T08:15:18.769Z"
   },
   {
    "duration": 14,
    "start_time": "2024-04-15T08:15:18.790Z"
   },
   {
    "duration": 25,
    "start_time": "2024-04-15T08:15:18.806Z"
   },
   {
    "duration": 200,
    "start_time": "2024-04-15T08:15:18.833Z"
   },
   {
    "duration": 200,
    "start_time": "2024-04-15T08:15:19.035Z"
   },
   {
    "duration": 16,
    "start_time": "2024-04-15T08:15:19.236Z"
   },
   {
    "duration": 42,
    "start_time": "2024-04-15T08:15:19.253Z"
   },
   {
    "duration": 23,
    "start_time": "2024-04-15T08:15:19.296Z"
   },
   {
    "duration": 3,
    "start_time": "2024-04-15T08:15:19.320Z"
   },
   {
    "duration": 133,
    "start_time": "2024-04-15T08:15:19.324Z"
   },
   {
    "duration": 16,
    "start_time": "2024-04-15T08:15:19.458Z"
   },
   {
    "duration": 17,
    "start_time": "2024-04-15T08:15:19.484Z"
   },
   {
    "duration": 9,
    "start_time": "2024-04-15T08:15:19.502Z"
   },
   {
    "duration": 5,
    "start_time": "2024-04-15T08:15:19.512Z"
   },
   {
    "duration": 8,
    "start_time": "2024-04-15T08:15:19.518Z"
   },
   {
    "duration": 26,
    "start_time": "2024-04-15T08:15:19.528Z"
   },
   {
    "duration": 220,
    "start_time": "2024-04-15T08:15:19.556Z"
   },
   {
    "duration": 172,
    "start_time": "2024-04-15T08:15:19.777Z"
   },
   {
    "duration": 85,
    "start_time": "2024-04-15T08:15:19.950Z"
   },
   {
    "duration": 210,
    "start_time": "2024-04-15T08:15:20.036Z"
   },
   {
    "duration": 357,
    "start_time": "2024-04-15T08:22:50.627Z"
   },
   {
    "duration": 2,
    "start_time": "2024-04-15T08:22:50.986Z"
   },
   {
    "duration": 221,
    "start_time": "2024-04-15T08:22:50.989Z"
   },
   {
    "duration": 383,
    "start_time": "2024-04-15T08:22:51.212Z"
   },
   {
    "duration": 2,
    "start_time": "2024-04-15T08:22:51.596Z"
   },
   {
    "duration": 5,
    "start_time": "2024-04-15T08:22:51.599Z"
   },
   {
    "duration": 70,
    "start_time": "2024-04-15T08:22:51.605Z"
   },
   {
    "duration": 11,
    "start_time": "2024-04-15T08:22:51.676Z"
   },
   {
    "duration": 19,
    "start_time": "2024-04-15T08:22:51.688Z"
   },
   {
    "duration": 7,
    "start_time": "2024-04-15T08:22:51.709Z"
   },
   {
    "duration": 17,
    "start_time": "2024-04-15T08:22:51.717Z"
   },
   {
    "duration": 15,
    "start_time": "2024-04-15T08:22:51.735Z"
   },
   {
    "duration": 7,
    "start_time": "2024-04-15T08:22:51.751Z"
   },
   {
    "duration": 28,
    "start_time": "2024-04-15T08:22:51.759Z"
   },
   {
    "duration": 16,
    "start_time": "2024-04-15T08:22:51.788Z"
   },
   {
    "duration": 15,
    "start_time": "2024-04-15T08:22:51.805Z"
   },
   {
    "duration": 6,
    "start_time": "2024-04-15T08:22:51.821Z"
   },
   {
    "duration": 11,
    "start_time": "2024-04-15T08:22:51.828Z"
   },
   {
    "duration": 9,
    "start_time": "2024-04-15T08:22:51.840Z"
   },
   {
    "duration": 3,
    "start_time": "2024-04-15T08:22:51.850Z"
   },
   {
    "duration": 41,
    "start_time": "2024-04-15T08:22:51.854Z"
   },
   {
    "duration": 23,
    "start_time": "2024-04-15T08:22:51.896Z"
   },
   {
    "duration": 30,
    "start_time": "2024-04-15T08:22:51.921Z"
   },
   {
    "duration": 9,
    "start_time": "2024-04-15T08:22:51.952Z"
   },
   {
    "duration": 7,
    "start_time": "2024-04-15T08:22:51.962Z"
   },
   {
    "duration": 11,
    "start_time": "2024-04-15T08:22:51.970Z"
   },
   {
    "duration": 20,
    "start_time": "2024-04-15T08:22:51.982Z"
   },
   {
    "duration": 9,
    "start_time": "2024-04-15T08:22:52.005Z"
   },
   {
    "duration": 144,
    "start_time": "2024-04-15T08:22:52.015Z"
   },
   {
    "duration": 7,
    "start_time": "2024-04-15T08:22:52.161Z"
   },
   {
    "duration": 141,
    "start_time": "2024-04-15T08:22:52.170Z"
   },
   {
    "duration": 71,
    "start_time": "2024-04-15T08:22:52.313Z"
   },
   {
    "duration": 6,
    "start_time": "2024-04-15T08:22:52.385Z"
   },
   {
    "duration": 145,
    "start_time": "2024-04-15T08:22:52.393Z"
   },
   {
    "duration": 6,
    "start_time": "2024-04-15T08:22:52.540Z"
   },
   {
    "duration": 146,
    "start_time": "2024-04-15T08:22:52.547Z"
   },
   {
    "duration": 108,
    "start_time": "2024-04-15T08:22:52.694Z"
   },
   {
    "duration": 130,
    "start_time": "2024-04-15T08:22:52.803Z"
   },
   {
    "duration": 7,
    "start_time": "2024-04-15T08:22:52.934Z"
   },
   {
    "duration": 159,
    "start_time": "2024-04-15T08:22:52.942Z"
   },
   {
    "duration": 260,
    "start_time": "2024-04-15T08:22:53.102Z"
   },
   {
    "duration": 98,
    "start_time": "2024-04-15T08:22:53.363Z"
   },
   {
    "duration": 140,
    "start_time": "2024-04-15T08:22:53.462Z"
   },
   {
    "duration": 6,
    "start_time": "2024-04-15T08:22:53.603Z"
   },
   {
    "duration": 40,
    "start_time": "2024-04-15T08:22:53.610Z"
   },
   {
    "duration": 7,
    "start_time": "2024-04-15T08:22:53.652Z"
   },
   {
    "duration": 23,
    "start_time": "2024-04-15T08:22:53.660Z"
   },
   {
    "duration": 14,
    "start_time": "2024-04-15T08:22:53.684Z"
   },
   {
    "duration": 31,
    "start_time": "2024-04-15T08:22:53.699Z"
   },
   {
    "duration": 12,
    "start_time": "2024-04-15T08:22:53.731Z"
   },
   {
    "duration": 192,
    "start_time": "2024-04-15T08:22:53.744Z"
   },
   {
    "duration": 192,
    "start_time": "2024-04-15T08:22:53.937Z"
   },
   {
    "duration": 16,
    "start_time": "2024-04-15T08:22:54.131Z"
   },
   {
    "duration": 38,
    "start_time": "2024-04-15T08:22:54.148Z"
   },
   {
    "duration": 27,
    "start_time": "2024-04-15T08:22:54.188Z"
   },
   {
    "duration": 4,
    "start_time": "2024-04-15T08:22:54.216Z"
   },
   {
    "duration": 193,
    "start_time": "2024-04-15T08:22:54.221Z"
   },
   {
    "duration": 15,
    "start_time": "2024-04-15T08:22:54.415Z"
   },
   {
    "duration": 10,
    "start_time": "2024-04-15T08:22:54.431Z"
   },
   {
    "duration": 19,
    "start_time": "2024-04-15T08:22:54.442Z"
   },
   {
    "duration": 19,
    "start_time": "2024-04-15T08:22:54.463Z"
   },
   {
    "duration": 7,
    "start_time": "2024-04-15T08:22:54.483Z"
   },
   {
    "duration": 15,
    "start_time": "2024-04-15T08:22:54.491Z"
   },
   {
    "duration": 224,
    "start_time": "2024-04-15T08:22:54.507Z"
   },
   {
    "duration": 171,
    "start_time": "2024-04-15T08:22:54.733Z"
   },
   {
    "duration": 79,
    "start_time": "2024-04-15T08:22:54.905Z"
   },
   {
    "duration": 247,
    "start_time": "2024-04-15T08:22:54.986Z"
   },
   {
    "duration": 696,
    "start_time": "2024-04-15T13:34:47.937Z"
   },
   {
    "duration": 4,
    "start_time": "2024-04-15T13:34:48.635Z"
   },
   {
    "duration": 244,
    "start_time": "2024-04-15T13:34:48.642Z"
   },
   {
    "duration": 504,
    "start_time": "2024-04-15T13:34:48.888Z"
   },
   {
    "duration": 3,
    "start_time": "2024-04-15T13:34:49.395Z"
   },
   {
    "duration": 26,
    "start_time": "2024-04-15T13:34:49.399Z"
   },
   {
    "duration": 87,
    "start_time": "2024-04-15T13:34:49.427Z"
   },
   {
    "duration": 12,
    "start_time": "2024-04-15T13:34:49.516Z"
   },
   {
    "duration": 26,
    "start_time": "2024-04-15T13:34:49.530Z"
   },
   {
    "duration": 30,
    "start_time": "2024-04-15T13:34:49.558Z"
   },
   {
    "duration": 32,
    "start_time": "2024-04-15T13:34:49.590Z"
   },
   {
    "duration": 30,
    "start_time": "2024-04-15T13:34:49.624Z"
   },
   {
    "duration": 25,
    "start_time": "2024-04-15T13:34:49.656Z"
   },
   {
    "duration": 12,
    "start_time": "2024-04-15T13:34:49.686Z"
   },
   {
    "duration": 15,
    "start_time": "2024-04-15T13:34:49.701Z"
   },
   {
    "duration": 7,
    "start_time": "2024-04-15T13:34:49.718Z"
   },
   {
    "duration": 16,
    "start_time": "2024-04-15T13:34:49.727Z"
   },
   {
    "duration": 20,
    "start_time": "2024-04-15T13:34:49.745Z"
   },
   {
    "duration": 22,
    "start_time": "2024-04-15T13:34:49.767Z"
   },
   {
    "duration": 6,
    "start_time": "2024-04-15T13:34:49.792Z"
   },
   {
    "duration": 32,
    "start_time": "2024-04-15T13:34:49.800Z"
   },
   {
    "duration": 7,
    "start_time": "2024-04-15T13:34:49.835Z"
   },
   {
    "duration": 11,
    "start_time": "2024-04-15T13:34:49.845Z"
   },
   {
    "duration": 7,
    "start_time": "2024-04-15T13:34:49.858Z"
   },
   {
    "duration": 16,
    "start_time": "2024-04-15T13:34:49.868Z"
   },
   {
    "duration": 22,
    "start_time": "2024-04-15T13:34:49.886Z"
   },
   {
    "duration": 20,
    "start_time": "2024-04-15T13:34:49.910Z"
   },
   {
    "duration": 21,
    "start_time": "2024-04-15T13:34:49.933Z"
   },
   {
    "duration": 192,
    "start_time": "2024-04-15T13:34:49.956Z"
   },
   {
    "duration": 8,
    "start_time": "2024-04-15T13:34:50.150Z"
   },
   {
    "duration": 164,
    "start_time": "2024-04-15T13:34:50.159Z"
   },
   {
    "duration": 97,
    "start_time": "2024-04-15T13:34:50.325Z"
   },
   {
    "duration": 7,
    "start_time": "2024-04-15T13:34:50.423Z"
   },
   {
    "duration": 197,
    "start_time": "2024-04-15T13:34:50.432Z"
   },
   {
    "duration": 9,
    "start_time": "2024-04-15T13:34:50.631Z"
   },
   {
    "duration": 274,
    "start_time": "2024-04-15T13:34:50.642Z"
   },
   {
    "duration": 125,
    "start_time": "2024-04-15T13:34:50.919Z"
   },
   {
    "duration": 185,
    "start_time": "2024-04-15T13:34:51.046Z"
   },
   {
    "duration": 23,
    "start_time": "2024-04-15T13:34:51.234Z"
   },
   {
    "duration": 234,
    "start_time": "2024-04-15T13:34:51.260Z"
   },
   {
    "duration": 289,
    "start_time": "2024-04-15T13:34:51.500Z"
   },
   {
    "duration": 136,
    "start_time": "2024-04-15T13:34:51.791Z"
   },
   {
    "duration": 174,
    "start_time": "2024-04-15T13:34:51.929Z"
   },
   {
    "duration": 9,
    "start_time": "2024-04-15T13:34:52.105Z"
   },
   {
    "duration": 42,
    "start_time": "2024-04-15T13:34:52.115Z"
   },
   {
    "duration": 12,
    "start_time": "2024-04-15T13:34:52.159Z"
   },
   {
    "duration": 19,
    "start_time": "2024-04-15T13:34:52.173Z"
   },
   {
    "duration": 22,
    "start_time": "2024-04-15T13:34:52.194Z"
   },
   {
    "duration": 35,
    "start_time": "2024-04-15T13:34:52.219Z"
   },
   {
    "duration": 22,
    "start_time": "2024-04-15T13:34:52.256Z"
   },
   {
    "duration": 276,
    "start_time": "2024-04-15T13:34:52.280Z"
   },
   {
    "duration": 345,
    "start_time": "2024-04-15T13:34:52.558Z"
   },
   {
    "duration": 15,
    "start_time": "2024-04-15T13:34:52.904Z"
   },
   {
    "duration": 44,
    "start_time": "2024-04-15T13:34:52.921Z"
   },
   {
    "duration": 20,
    "start_time": "2024-04-15T13:34:52.967Z"
   },
   {
    "duration": 3,
    "start_time": "2024-04-15T13:34:52.990Z"
   },
   {
    "duration": 142,
    "start_time": "2024-04-15T13:34:52.995Z"
   },
   {
    "duration": 23,
    "start_time": "2024-04-15T13:34:53.139Z"
   },
   {
    "duration": 25,
    "start_time": "2024-04-15T13:34:53.164Z"
   },
   {
    "duration": 30,
    "start_time": "2024-04-15T13:34:53.191Z"
   },
   {
    "duration": 26,
    "start_time": "2024-04-15T13:34:53.223Z"
   },
   {
    "duration": 15,
    "start_time": "2024-04-15T13:34:53.251Z"
   },
   {
    "duration": 21,
    "start_time": "2024-04-15T13:34:53.268Z"
   },
   {
    "duration": 279,
    "start_time": "2024-04-15T13:34:53.291Z"
   },
   {
    "duration": 241,
    "start_time": "2024-04-15T13:34:53.572Z"
   },
   {
    "duration": 107,
    "start_time": "2024-04-15T13:34:53.815Z"
   },
   {
    "duration": 296,
    "start_time": "2024-04-15T13:34:53.925Z"
   },
   {
    "duration": 14,
    "start_time": "2024-04-15T13:37:22.997Z"
   },
   {
    "duration": 6,
    "start_time": "2024-04-15T13:38:09.463Z"
   },
   {
    "duration": 175,
    "start_time": "2024-04-15T13:41:47.597Z"
   },
   {
    "duration": 259,
    "start_time": "2024-04-15T13:42:17.980Z"
   },
   {
    "duration": 699,
    "start_time": "2024-04-15T13:42:53.946Z"
   },
   {
    "duration": 8,
    "start_time": "2024-04-15T13:42:54.647Z"
   },
   {
    "duration": 238,
    "start_time": "2024-04-15T13:42:54.657Z"
   },
   {
    "duration": 479,
    "start_time": "2024-04-15T13:42:54.898Z"
   },
   {
    "duration": 3,
    "start_time": "2024-04-15T13:42:55.380Z"
   },
   {
    "duration": 11,
    "start_time": "2024-04-15T13:42:55.385Z"
   },
   {
    "duration": 83,
    "start_time": "2024-04-15T13:42:55.398Z"
   },
   {
    "duration": 21,
    "start_time": "2024-04-15T13:42:55.482Z"
   },
   {
    "duration": 25,
    "start_time": "2024-04-15T13:42:55.505Z"
   },
   {
    "duration": 12,
    "start_time": "2024-04-15T13:42:55.532Z"
   },
   {
    "duration": 15,
    "start_time": "2024-04-15T13:42:55.547Z"
   },
   {
    "duration": 31,
    "start_time": "2024-04-15T13:42:55.563Z"
   },
   {
    "duration": 13,
    "start_time": "2024-04-15T13:42:55.596Z"
   },
   {
    "duration": 15,
    "start_time": "2024-04-15T13:42:55.614Z"
   },
   {
    "duration": 38,
    "start_time": "2024-04-15T13:42:55.630Z"
   },
   {
    "duration": 18,
    "start_time": "2024-04-15T13:42:55.669Z"
   },
   {
    "duration": 15,
    "start_time": "2024-04-15T13:42:55.689Z"
   },
   {
    "duration": 22,
    "start_time": "2024-04-15T13:42:55.706Z"
   },
   {
    "duration": 29,
    "start_time": "2024-04-15T13:42:55.729Z"
   },
   {
    "duration": 12,
    "start_time": "2024-04-15T13:42:55.760Z"
   },
   {
    "duration": 11,
    "start_time": "2024-04-15T13:42:55.774Z"
   },
   {
    "duration": 12,
    "start_time": "2024-04-15T13:42:55.787Z"
   },
   {
    "duration": 15,
    "start_time": "2024-04-15T13:42:55.801Z"
   },
   {
    "duration": 6,
    "start_time": "2024-04-15T13:42:55.818Z"
   },
   {
    "duration": 16,
    "start_time": "2024-04-15T13:42:55.826Z"
   },
   {
    "duration": 28,
    "start_time": "2024-04-15T13:42:55.843Z"
   },
   {
    "duration": 18,
    "start_time": "2024-04-15T13:42:55.872Z"
   },
   {
    "duration": 5,
    "start_time": "2024-04-15T13:42:55.892Z"
   },
   {
    "duration": 194,
    "start_time": "2024-04-15T13:42:55.899Z"
   },
   {
    "duration": 8,
    "start_time": "2024-04-15T13:42:56.094Z"
   },
   {
    "duration": 148,
    "start_time": "2024-04-15T13:42:56.104Z"
   },
   {
    "duration": 89,
    "start_time": "2024-04-15T13:42:56.255Z"
   },
   {
    "duration": 7,
    "start_time": "2024-04-15T13:42:56.355Z"
   },
   {
    "duration": 202,
    "start_time": "2024-04-15T13:42:56.364Z"
   },
   {
    "duration": 8,
    "start_time": "2024-04-15T13:42:56.569Z"
   },
   {
    "duration": 292,
    "start_time": "2024-04-15T13:42:56.580Z"
   },
   {
    "duration": 125,
    "start_time": "2024-04-15T13:42:56.875Z"
   },
   {
    "duration": 162,
    "start_time": "2024-04-15T13:42:57.002Z"
   },
   {
    "duration": 10,
    "start_time": "2024-04-15T13:42:57.166Z"
   },
   {
    "duration": 206,
    "start_time": "2024-04-15T13:42:57.178Z"
   },
   {
    "duration": 273,
    "start_time": "2024-04-15T13:42:57.390Z"
   },
   {
    "duration": 130,
    "start_time": "2024-04-15T13:42:57.665Z"
   },
   {
    "duration": 165,
    "start_time": "2024-04-15T13:42:57.798Z"
   },
   {
    "duration": 19,
    "start_time": "2024-04-15T13:42:57.966Z"
   },
   {
    "duration": 27,
    "start_time": "2024-04-15T13:42:57.988Z"
   },
   {
    "duration": 13,
    "start_time": "2024-04-15T13:42:58.017Z"
   },
   {
    "duration": 35,
    "start_time": "2024-04-15T13:42:58.032Z"
   },
   {
    "duration": 12,
    "start_time": "2024-04-15T13:42:58.069Z"
   },
   {
    "duration": 42,
    "start_time": "2024-04-15T13:42:58.083Z"
   },
   {
    "duration": 29,
    "start_time": "2024-04-15T13:42:58.128Z"
   },
   {
    "duration": 262,
    "start_time": "2024-04-15T13:42:58.160Z"
   },
   {
    "duration": 346,
    "start_time": "2024-04-15T13:42:58.425Z"
   },
   {
    "duration": 17,
    "start_time": "2024-04-15T13:42:58.774Z"
   },
   {
    "duration": 27,
    "start_time": "2024-04-15T13:42:58.793Z"
   },
   {
    "duration": 45,
    "start_time": "2024-04-15T13:42:58.822Z"
   },
   {
    "duration": 4,
    "start_time": "2024-04-15T13:42:58.869Z"
   },
   {
    "duration": 135,
    "start_time": "2024-04-15T13:42:58.875Z"
   },
   {
    "duration": 13,
    "start_time": "2024-04-15T13:42:59.012Z"
   },
   {
    "duration": 31,
    "start_time": "2024-04-15T13:42:59.026Z"
   },
   {
    "duration": 10,
    "start_time": "2024-04-15T13:42:59.059Z"
   },
   {
    "duration": 9,
    "start_time": "2024-04-15T13:42:59.072Z"
   },
   {
    "duration": 4,
    "start_time": "2024-04-15T13:42:59.084Z"
   },
   {
    "duration": 10,
    "start_time": "2024-04-15T13:42:59.090Z"
   },
   {
    "duration": 11,
    "start_time": "2024-04-15T13:42:59.101Z"
   },
   {
    "duration": 319,
    "start_time": "2024-04-15T13:42:59.114Z"
   },
   {
    "duration": 210,
    "start_time": "2024-04-15T13:42:59.435Z"
   },
   {
    "duration": 84,
    "start_time": "2024-04-15T13:42:59.647Z"
   },
   {
    "duration": 289,
    "start_time": "2024-04-15T13:42:59.733Z"
   },
   {
    "duration": 311,
    "start_time": "2024-04-15T13:43:00.024Z"
   },
   {
    "duration": 55,
    "start_time": "2024-04-17T11:22:52.998Z"
   },
   {
    "duration": 471,
    "start_time": "2024-04-17T11:23:27.789Z"
   },
   {
    "duration": 2,
    "start_time": "2024-04-17T11:23:28.262Z"
   },
   {
    "duration": 486,
    "start_time": "2024-04-17T11:23:28.265Z"
   },
   {
    "duration": 506,
    "start_time": "2024-04-17T11:23:28.753Z"
   },
   {
    "duration": 2,
    "start_time": "2024-04-17T11:23:29.261Z"
   },
   {
    "duration": 12,
    "start_time": "2024-04-17T11:23:29.265Z"
   },
   {
    "duration": 326,
    "start_time": "2024-04-17T11:23:29.279Z"
   },
   {
    "duration": 15,
    "start_time": "2024-04-17T11:23:29.607Z"
   },
   {
    "duration": 17,
    "start_time": "2024-04-17T11:23:29.623Z"
   },
   {
    "duration": 30,
    "start_time": "2024-04-17T11:23:29.643Z"
   },
   {
    "duration": 26,
    "start_time": "2024-04-17T11:23:29.675Z"
   },
   {
    "duration": 22,
    "start_time": "2024-04-17T11:23:29.703Z"
   },
   {
    "duration": 9,
    "start_time": "2024-04-17T11:23:29.727Z"
   },
   {
    "duration": 33,
    "start_time": "2024-04-17T11:23:29.737Z"
   },
   {
    "duration": 41,
    "start_time": "2024-04-17T11:23:29.772Z"
   },
   {
    "duration": 7,
    "start_time": "2024-04-17T11:23:29.814Z"
   },
   {
    "duration": 10,
    "start_time": "2024-04-17T11:23:29.823Z"
   },
   {
    "duration": 25,
    "start_time": "2024-04-17T11:23:29.835Z"
   },
   {
    "duration": 25,
    "start_time": "2024-04-17T11:23:29.862Z"
   },
   {
    "duration": 23,
    "start_time": "2024-04-17T11:23:29.889Z"
   },
   {
    "duration": 10,
    "start_time": "2024-04-17T11:23:29.913Z"
   },
   {
    "duration": 8,
    "start_time": "2024-04-17T11:23:29.924Z"
   },
   {
    "duration": 10,
    "start_time": "2024-04-17T11:23:29.933Z"
   },
   {
    "duration": 8,
    "start_time": "2024-04-17T11:23:29.945Z"
   },
   {
    "duration": 29,
    "start_time": "2024-04-17T11:23:29.954Z"
   },
   {
    "duration": 16,
    "start_time": "2024-04-17T11:23:29.984Z"
   },
   {
    "duration": 103,
    "start_time": "2024-04-17T11:23:30.002Z"
   },
   {
    "duration": 109,
    "start_time": "2024-04-17T11:23:30.112Z"
   },
   {
    "duration": 293,
    "start_time": "2024-04-17T11:23:30.223Z"
   },
   {
    "duration": 7,
    "start_time": "2024-04-17T11:23:30.518Z"
   },
   {
    "duration": 294,
    "start_time": "2024-04-17T11:23:30.526Z"
   },
   {
    "duration": 98,
    "start_time": "2024-04-17T11:23:30.822Z"
   },
   {
    "duration": 50,
    "start_time": "2024-04-17T11:23:30.922Z"
   },
   {
    "duration": 223,
    "start_time": "2024-04-17T11:23:30.977Z"
   },
   {
    "duration": 15,
    "start_time": "2024-04-17T11:23:31.203Z"
   },
   {
    "duration": 348,
    "start_time": "2024-04-17T11:23:31.223Z"
   },
   {
    "duration": 292,
    "start_time": "2024-04-17T11:23:31.572Z"
   },
   {
    "duration": 188,
    "start_time": "2024-04-17T11:23:31.865Z"
   },
   {
    "duration": 7,
    "start_time": "2024-04-17T11:23:32.055Z"
   },
   {
    "duration": 332,
    "start_time": "2024-04-17T11:23:32.064Z"
   },
   {
    "duration": 362,
    "start_time": "2024-04-17T11:23:32.398Z"
   },
   {
    "duration": 17,
    "start_time": "2024-04-17T11:23:32.762Z"
   },
   {
    "duration": 241,
    "start_time": "2024-04-17T11:23:32.782Z"
   },
   {
    "duration": 158,
    "start_time": "2024-04-17T11:23:33.024Z"
   },
   {
    "duration": 16,
    "start_time": "2024-04-17T11:23:33.184Z"
   },
   {
    "duration": 43,
    "start_time": "2024-04-17T11:23:33.202Z"
   },
   {
    "duration": 8,
    "start_time": "2024-04-17T11:23:33.247Z"
   },
   {
    "duration": 49,
    "start_time": "2024-04-17T11:23:33.257Z"
   },
   {
    "duration": 10,
    "start_time": "2024-04-17T11:23:33.308Z"
   },
   {
    "duration": 22,
    "start_time": "2024-04-17T11:23:33.320Z"
   },
   {
    "duration": 16,
    "start_time": "2024-04-17T11:23:33.343Z"
   },
   {
    "duration": 276,
    "start_time": "2024-04-17T11:23:33.361Z"
   },
   {
    "duration": 274,
    "start_time": "2024-04-17T11:23:33.639Z"
   },
   {
    "duration": 23,
    "start_time": "2024-04-17T11:23:33.915Z"
   },
   {
    "duration": 70,
    "start_time": "2024-04-17T11:23:33.940Z"
   },
   {
    "duration": 28,
    "start_time": "2024-04-17T11:23:34.013Z"
   },
   {
    "duration": 4,
    "start_time": "2024-04-17T11:23:34.042Z"
   },
   {
    "duration": 184,
    "start_time": "2024-04-17T11:23:34.047Z"
   },
   {
    "duration": 17,
    "start_time": "2024-04-17T11:23:34.232Z"
   },
   {
    "duration": 17,
    "start_time": "2024-04-17T11:23:34.250Z"
   },
   {
    "duration": 21,
    "start_time": "2024-04-17T11:23:34.286Z"
   },
   {
    "duration": 12,
    "start_time": "2024-04-17T11:23:34.310Z"
   },
   {
    "duration": 5,
    "start_time": "2024-04-17T11:23:34.323Z"
   },
   {
    "duration": 38,
    "start_time": "2024-04-17T11:23:34.329Z"
   },
   {
    "duration": 21,
    "start_time": "2024-04-17T11:23:34.368Z"
   },
   {
    "duration": 291,
    "start_time": "2024-04-17T11:23:34.391Z"
   },
   {
    "duration": 220,
    "start_time": "2024-04-17T11:23:34.685Z"
   },
   {
    "duration": 195,
    "start_time": "2024-04-17T11:23:34.909Z"
   },
   {
    "duration": 304,
    "start_time": "2024-04-17T11:23:35.107Z"
   },
   {
    "duration": 303,
    "start_time": "2024-04-17T11:23:35.413Z"
   },
   {
    "duration": 1697,
    "start_time": "2024-04-17T11:26:17.294Z"
   },
   {
    "duration": 0,
    "start_time": "2024-04-17T11:26:58.811Z"
   },
   {
    "duration": 0,
    "start_time": "2024-04-17T11:26:58.812Z"
   },
   {
    "duration": 0,
    "start_time": "2024-04-17T11:26:58.813Z"
   },
   {
    "duration": 0,
    "start_time": "2024-04-17T11:26:58.815Z"
   },
   {
    "duration": 0,
    "start_time": "2024-04-17T11:26:58.815Z"
   },
   {
    "duration": 0,
    "start_time": "2024-04-17T11:26:58.816Z"
   },
   {
    "duration": 0,
    "start_time": "2024-04-17T11:26:58.817Z"
   },
   {
    "duration": 0,
    "start_time": "2024-04-17T11:26:58.818Z"
   },
   {
    "duration": 0,
    "start_time": "2024-04-17T11:26:58.819Z"
   },
   {
    "duration": 0,
    "start_time": "2024-04-17T11:26:58.820Z"
   },
   {
    "duration": 0,
    "start_time": "2024-04-17T11:26:58.821Z"
   },
   {
    "duration": 0,
    "start_time": "2024-04-17T11:26:58.822Z"
   },
   {
    "duration": 0,
    "start_time": "2024-04-17T11:26:58.824Z"
   },
   {
    "duration": 0,
    "start_time": "2024-04-17T11:26:58.825Z"
   },
   {
    "duration": 0,
    "start_time": "2024-04-17T11:26:58.826Z"
   },
   {
    "duration": 0,
    "start_time": "2024-04-17T11:26:58.827Z"
   },
   {
    "duration": 0,
    "start_time": "2024-04-17T11:26:58.880Z"
   },
   {
    "duration": 0,
    "start_time": "2024-04-17T11:26:58.880Z"
   },
   {
    "duration": 0,
    "start_time": "2024-04-17T11:26:58.881Z"
   },
   {
    "duration": 0,
    "start_time": "2024-04-17T11:26:58.886Z"
   },
   {
    "duration": 0,
    "start_time": "2024-04-17T11:26:58.892Z"
   },
   {
    "duration": 0,
    "start_time": "2024-04-17T11:26:58.893Z"
   },
   {
    "duration": 0,
    "start_time": "2024-04-17T11:26:58.894Z"
   },
   {
    "duration": 0,
    "start_time": "2024-04-17T11:26:58.895Z"
   },
   {
    "duration": 0,
    "start_time": "2024-04-17T11:26:58.896Z"
   },
   {
    "duration": 0,
    "start_time": "2024-04-17T11:26:58.896Z"
   },
   {
    "duration": 0,
    "start_time": "2024-04-17T11:26:58.897Z"
   },
   {
    "duration": 1,
    "start_time": "2024-04-17T11:26:58.898Z"
   },
   {
    "duration": 0,
    "start_time": "2024-04-17T11:26:58.900Z"
   },
   {
    "duration": 0,
    "start_time": "2024-04-17T11:26:58.901Z"
   },
   {
    "duration": 0,
    "start_time": "2024-04-17T11:26:58.902Z"
   },
   {
    "duration": 0,
    "start_time": "2024-04-17T11:26:58.903Z"
   },
   {
    "duration": 0,
    "start_time": "2024-04-17T11:26:58.904Z"
   },
   {
    "duration": 0,
    "start_time": "2024-04-17T11:26:58.905Z"
   },
   {
    "duration": 0,
    "start_time": "2024-04-17T11:26:58.906Z"
   },
   {
    "duration": 0,
    "start_time": "2024-04-17T11:26:58.907Z"
   },
   {
    "duration": 0,
    "start_time": "2024-04-17T11:26:58.909Z"
   },
   {
    "duration": 0,
    "start_time": "2024-04-17T11:26:58.910Z"
   },
   {
    "duration": 0,
    "start_time": "2024-04-17T11:26:58.911Z"
   },
   {
    "duration": 0,
    "start_time": "2024-04-17T11:26:58.913Z"
   },
   {
    "duration": 0,
    "start_time": "2024-04-17T11:26:58.914Z"
   },
   {
    "duration": 0,
    "start_time": "2024-04-17T11:26:58.915Z"
   },
   {
    "duration": 0,
    "start_time": "2024-04-17T11:26:58.916Z"
   },
   {
    "duration": 0,
    "start_time": "2024-04-17T11:26:58.918Z"
   },
   {
    "duration": 1,
    "start_time": "2024-04-17T11:26:58.918Z"
   },
   {
    "duration": 0,
    "start_time": "2024-04-17T11:26:58.919Z"
   },
   {
    "duration": 0,
    "start_time": "2024-04-17T11:26:58.920Z"
   },
   {
    "duration": 0,
    "start_time": "2024-04-17T11:26:58.921Z"
   },
   {
    "duration": 0,
    "start_time": "2024-04-17T11:26:58.922Z"
   },
   {
    "duration": 0,
    "start_time": "2024-04-17T11:26:58.923Z"
   },
   {
    "duration": 0,
    "start_time": "2024-04-17T11:26:58.924Z"
   },
   {
    "duration": 0,
    "start_time": "2024-04-17T11:26:58.925Z"
   },
   {
    "duration": 0,
    "start_time": "2024-04-17T11:26:58.978Z"
   },
   {
    "duration": 0,
    "start_time": "2024-04-17T11:26:58.979Z"
   },
   {
    "duration": 0,
    "start_time": "2024-04-17T11:26:58.980Z"
   },
   {
    "duration": 0,
    "start_time": "2024-04-17T11:26:58.983Z"
   },
   {
    "duration": 0,
    "start_time": "2024-04-17T11:26:58.984Z"
   },
   {
    "duration": 0,
    "start_time": "2024-04-17T11:26:58.985Z"
   },
   {
    "duration": 0,
    "start_time": "2024-04-17T11:26:58.986Z"
   },
   {
    "duration": 0,
    "start_time": "2024-04-17T11:26:58.988Z"
   },
   {
    "duration": 0,
    "start_time": "2024-04-17T11:26:58.989Z"
   },
   {
    "duration": 0,
    "start_time": "2024-04-17T11:26:58.990Z"
   },
   {
    "duration": 0,
    "start_time": "2024-04-17T11:26:58.991Z"
   },
   {
    "duration": 0,
    "start_time": "2024-04-17T11:26:58.992Z"
   },
   {
    "duration": 0,
    "start_time": "2024-04-17T11:26:58.992Z"
   },
   {
    "duration": 0,
    "start_time": "2024-04-17T11:26:58.993Z"
   },
   {
    "duration": 1,
    "start_time": "2024-04-17T11:26:58.995Z"
   },
   {
    "duration": 0,
    "start_time": "2024-04-17T11:26:58.997Z"
   },
   {
    "duration": 0,
    "start_time": "2024-04-17T11:26:58.999Z"
   },
   {
    "duration": 0,
    "start_time": "2024-04-17T11:26:59.000Z"
   },
   {
    "duration": 1403,
    "start_time": "2024-04-17T11:27:48.420Z"
   },
   {
    "duration": 1324,
    "start_time": "2024-04-17T11:29:32.397Z"
   },
   {
    "duration": 415,
    "start_time": "2024-04-17T11:29:50.320Z"
   },
   {
    "duration": 2,
    "start_time": "2024-04-17T11:29:50.737Z"
   },
   {
    "duration": 296,
    "start_time": "2024-04-17T11:29:50.740Z"
   },
   {
    "duration": 460,
    "start_time": "2024-04-17T11:29:51.038Z"
   },
   {
    "duration": 3,
    "start_time": "2024-04-17T11:29:51.502Z"
   },
   {
    "duration": 28,
    "start_time": "2024-04-17T11:29:51.511Z"
   },
   {
    "duration": 100,
    "start_time": "2024-04-17T11:29:51.541Z"
   },
   {
    "duration": 13,
    "start_time": "2024-04-17T11:29:51.643Z"
   },
   {
    "duration": 35,
    "start_time": "2024-04-17T11:29:51.658Z"
   },
   {
    "duration": 17,
    "start_time": "2024-04-17T11:29:51.696Z"
   },
   {
    "duration": 35,
    "start_time": "2024-04-17T11:29:51.715Z"
   },
   {
    "duration": 51,
    "start_time": "2024-04-17T11:29:51.751Z"
   },
   {
    "duration": 9,
    "start_time": "2024-04-17T11:29:51.804Z"
   },
   {
    "duration": 21,
    "start_time": "2024-04-17T11:29:51.814Z"
   },
   {
    "duration": 51,
    "start_time": "2024-04-17T11:29:51.836Z"
   },
   {
    "duration": 47,
    "start_time": "2024-04-17T11:29:51.889Z"
   },
   {
    "duration": 59,
    "start_time": "2024-04-17T11:29:51.938Z"
   },
   {
    "duration": 33,
    "start_time": "2024-04-17T11:29:52.002Z"
   },
   {
    "duration": 67,
    "start_time": "2024-04-17T11:29:52.037Z"
   },
   {
    "duration": 14,
    "start_time": "2024-04-17T11:29:52.109Z"
   },
   {
    "duration": 61,
    "start_time": "2024-04-17T11:29:52.125Z"
   },
   {
    "duration": 17,
    "start_time": "2024-04-17T11:29:52.194Z"
   },
   {
    "duration": 17,
    "start_time": "2024-04-17T11:29:52.213Z"
   },
   {
    "duration": 68,
    "start_time": "2024-04-17T11:29:52.232Z"
   },
   {
    "duration": 16,
    "start_time": "2024-04-17T11:29:52.302Z"
   },
   {
    "duration": 19,
    "start_time": "2024-04-17T11:29:52.320Z"
   },
   {
    "duration": 15,
    "start_time": "2024-04-17T11:29:52.340Z"
   },
   {
    "duration": 35,
    "start_time": "2024-04-17T11:29:52.359Z"
   },
   {
    "duration": 231,
    "start_time": "2024-04-17T11:29:52.396Z"
   },
   {
    "duration": 8,
    "start_time": "2024-04-17T11:29:52.628Z"
   },
   {
    "duration": 213,
    "start_time": "2024-04-17T11:29:52.637Z"
   },
   {
    "duration": 90,
    "start_time": "2024-04-17T11:29:52.851Z"
   },
   {
    "duration": 5,
    "start_time": "2024-04-17T11:29:52.943Z"
   },
   {
    "duration": 223,
    "start_time": "2024-04-17T11:29:52.950Z"
   },
   {
    "duration": 16,
    "start_time": "2024-04-17T11:29:53.178Z"
   },
   {
    "duration": 213,
    "start_time": "2024-04-17T11:29:53.196Z"
   },
   {
    "duration": 124,
    "start_time": "2024-04-17T11:29:53.411Z"
   },
   {
    "duration": 190,
    "start_time": "2024-04-17T11:29:53.537Z"
   },
   {
    "duration": 8,
    "start_time": "2024-04-17T11:29:53.728Z"
   },
   {
    "duration": 286,
    "start_time": "2024-04-17T11:29:53.738Z"
   },
   {
    "duration": 383,
    "start_time": "2024-04-17T11:29:54.026Z"
   },
   {
    "duration": 1427,
    "start_time": "2024-04-17T11:29:54.411Z"
   },
   {
    "duration": 0,
    "start_time": "2024-04-17T11:29:55.839Z"
   },
   {
    "duration": 0,
    "start_time": "2024-04-17T11:29:55.840Z"
   },
   {
    "duration": 0,
    "start_time": "2024-04-17T11:29:55.841Z"
   },
   {
    "duration": 0,
    "start_time": "2024-04-17T11:29:55.842Z"
   },
   {
    "duration": 0,
    "start_time": "2024-04-17T11:29:55.843Z"
   },
   {
    "duration": 0,
    "start_time": "2024-04-17T11:29:55.844Z"
   },
   {
    "duration": 0,
    "start_time": "2024-04-17T11:29:55.845Z"
   },
   {
    "duration": 0,
    "start_time": "2024-04-17T11:29:55.846Z"
   },
   {
    "duration": 0,
    "start_time": "2024-04-17T11:29:55.847Z"
   },
   {
    "duration": 0,
    "start_time": "2024-04-17T11:29:55.848Z"
   },
   {
    "duration": 0,
    "start_time": "2024-04-17T11:29:55.849Z"
   },
   {
    "duration": 0,
    "start_time": "2024-04-17T11:29:55.850Z"
   },
   {
    "duration": 0,
    "start_time": "2024-04-17T11:29:55.850Z"
   },
   {
    "duration": 0,
    "start_time": "2024-04-17T11:29:55.852Z"
   },
   {
    "duration": 0,
    "start_time": "2024-04-17T11:29:55.853Z"
   },
   {
    "duration": 0,
    "start_time": "2024-04-17T11:29:55.853Z"
   },
   {
    "duration": 0,
    "start_time": "2024-04-17T11:29:55.854Z"
   },
   {
    "duration": 0,
    "start_time": "2024-04-17T11:29:55.855Z"
   },
   {
    "duration": 0,
    "start_time": "2024-04-17T11:29:55.856Z"
   },
   {
    "duration": 0,
    "start_time": "2024-04-17T11:29:55.858Z"
   },
   {
    "duration": 0,
    "start_time": "2024-04-17T11:29:55.859Z"
   },
   {
    "duration": 0,
    "start_time": "2024-04-17T11:29:55.860Z"
   },
   {
    "duration": 1,
    "start_time": "2024-04-17T11:29:55.860Z"
   },
   {
    "duration": 0,
    "start_time": "2024-04-17T11:29:55.861Z"
   },
   {
    "duration": 0,
    "start_time": "2024-04-17T11:29:55.862Z"
   },
   {
    "duration": 0,
    "start_time": "2024-04-17T11:29:55.863Z"
   },
   {
    "duration": 0,
    "start_time": "2024-04-17T11:29:55.864Z"
   },
   {
    "duration": 0,
    "start_time": "2024-04-17T11:29:55.865Z"
   },
   {
    "duration": 443,
    "start_time": "2024-04-17T11:52:06.673Z"
   },
   {
    "duration": 3,
    "start_time": "2024-04-17T11:52:07.118Z"
   },
   {
    "duration": 280,
    "start_time": "2024-04-17T11:52:07.123Z"
   },
   {
    "duration": 464,
    "start_time": "2024-04-17T11:52:07.405Z"
   },
   {
    "duration": 11,
    "start_time": "2024-04-17T11:52:07.870Z"
   },
   {
    "duration": 27,
    "start_time": "2024-04-17T11:52:07.883Z"
   },
   {
    "duration": 105,
    "start_time": "2024-04-17T11:52:07.912Z"
   },
   {
    "duration": 15,
    "start_time": "2024-04-17T11:52:08.019Z"
   },
   {
    "duration": 58,
    "start_time": "2024-04-17T11:52:08.035Z"
   },
   {
    "duration": 13,
    "start_time": "2024-04-17T11:52:08.095Z"
   },
   {
    "duration": 25,
    "start_time": "2024-04-17T11:52:08.110Z"
   },
   {
    "duration": 24,
    "start_time": "2024-04-17T11:52:08.137Z"
   },
   {
    "duration": 8,
    "start_time": "2024-04-17T11:52:08.163Z"
   },
   {
    "duration": 20,
    "start_time": "2024-04-17T11:52:08.178Z"
   },
   {
    "duration": 22,
    "start_time": "2024-04-17T11:52:08.200Z"
   },
   {
    "duration": 18,
    "start_time": "2024-04-17T11:52:08.224Z"
   },
   {
    "duration": 9,
    "start_time": "2024-04-17T11:52:08.244Z"
   },
   {
    "duration": 38,
    "start_time": "2024-04-17T11:52:08.254Z"
   },
   {
    "duration": 11,
    "start_time": "2024-04-17T11:52:08.293Z"
   },
   {
    "duration": 5,
    "start_time": "2024-04-17T11:52:08.306Z"
   },
   {
    "duration": 9,
    "start_time": "2024-04-17T11:52:08.312Z"
   },
   {
    "duration": 8,
    "start_time": "2024-04-17T11:52:08.323Z"
   },
   {
    "duration": 8,
    "start_time": "2024-04-17T11:52:08.333Z"
   },
   {
    "duration": 11,
    "start_time": "2024-04-17T11:52:08.342Z"
   },
   {
    "duration": 38,
    "start_time": "2024-04-17T11:52:08.354Z"
   },
   {
    "duration": 7,
    "start_time": "2024-04-17T11:52:08.394Z"
   },
   {
    "duration": 10,
    "start_time": "2024-04-17T11:52:08.402Z"
   },
   {
    "duration": 13,
    "start_time": "2024-04-17T11:52:08.416Z"
   },
   {
    "duration": 187,
    "start_time": "2024-04-17T11:52:08.430Z"
   },
   {
    "duration": 7,
    "start_time": "2024-04-17T11:52:08.619Z"
   },
   {
    "duration": 204,
    "start_time": "2024-04-17T11:52:08.627Z"
   },
   {
    "duration": 87,
    "start_time": "2024-04-17T11:52:08.833Z"
   },
   {
    "duration": 6,
    "start_time": "2024-04-17T11:52:08.922Z"
   },
   {
    "duration": 194,
    "start_time": "2024-04-17T11:52:08.930Z"
   },
   {
    "duration": 7,
    "start_time": "2024-04-17T11:52:09.125Z"
   },
   {
    "duration": 211,
    "start_time": "2024-04-17T11:52:09.133Z"
   },
   {
    "duration": 115,
    "start_time": "2024-04-17T11:52:09.345Z"
   },
   {
    "duration": 159,
    "start_time": "2024-04-17T11:52:09.462Z"
   },
   {
    "duration": 9,
    "start_time": "2024-04-17T11:52:09.623Z"
   },
   {
    "duration": 194,
    "start_time": "2024-04-17T11:52:09.633Z"
   },
   {
    "duration": 353,
    "start_time": "2024-04-17T11:52:09.829Z"
   },
   {
    "duration": 1396,
    "start_time": "2024-04-17T11:52:10.191Z"
   },
   {
    "duration": 0,
    "start_time": "2024-04-17T11:52:11.591Z"
   },
   {
    "duration": 0,
    "start_time": "2024-04-17T11:52:11.592Z"
   },
   {
    "duration": 0,
    "start_time": "2024-04-17T11:52:11.593Z"
   },
   {
    "duration": 0,
    "start_time": "2024-04-17T11:52:11.595Z"
   },
   {
    "duration": 0,
    "start_time": "2024-04-17T11:52:11.596Z"
   },
   {
    "duration": 0,
    "start_time": "2024-04-17T11:52:11.597Z"
   },
   {
    "duration": 0,
    "start_time": "2024-04-17T11:52:11.599Z"
   },
   {
    "duration": 0,
    "start_time": "2024-04-17T11:52:11.600Z"
   },
   {
    "duration": 0,
    "start_time": "2024-04-17T11:52:11.602Z"
   },
   {
    "duration": 0,
    "start_time": "2024-04-17T11:52:11.603Z"
   },
   {
    "duration": 0,
    "start_time": "2024-04-17T11:52:11.604Z"
   },
   {
    "duration": 0,
    "start_time": "2024-04-17T11:52:11.606Z"
   },
   {
    "duration": 0,
    "start_time": "2024-04-17T11:52:11.608Z"
   },
   {
    "duration": 0,
    "start_time": "2024-04-17T11:52:11.609Z"
   },
   {
    "duration": 0,
    "start_time": "2024-04-17T11:52:11.610Z"
   },
   {
    "duration": 0,
    "start_time": "2024-04-17T11:52:11.612Z"
   },
   {
    "duration": 0,
    "start_time": "2024-04-17T11:52:11.613Z"
   },
   {
    "duration": 0,
    "start_time": "2024-04-17T11:52:11.615Z"
   },
   {
    "duration": 0,
    "start_time": "2024-04-17T11:52:11.616Z"
   },
   {
    "duration": 0,
    "start_time": "2024-04-17T11:52:11.617Z"
   },
   {
    "duration": 0,
    "start_time": "2024-04-17T11:52:11.619Z"
   },
   {
    "duration": 0,
    "start_time": "2024-04-17T11:52:11.620Z"
   },
   {
    "duration": 0,
    "start_time": "2024-04-17T11:52:11.623Z"
   },
   {
    "duration": 0,
    "start_time": "2024-04-17T11:52:11.625Z"
   },
   {
    "duration": 0,
    "start_time": "2024-04-17T11:52:11.627Z"
   },
   {
    "duration": 0,
    "start_time": "2024-04-17T11:52:11.629Z"
   },
   {
    "duration": 0,
    "start_time": "2024-04-17T11:52:11.678Z"
   },
   {
    "duration": 0,
    "start_time": "2024-04-17T11:52:11.679Z"
   },
   {
    "duration": 23,
    "start_time": "2024-04-17T13:18:35.140Z"
   },
   {
    "duration": 1395,
    "start_time": "2024-04-17T13:18:41.510Z"
   },
   {
    "duration": 7,
    "start_time": "2024-04-17T13:19:05.048Z"
   },
   {
    "duration": 6,
    "start_time": "2024-04-17T13:21:51.549Z"
   },
   {
    "duration": 6,
    "start_time": "2024-04-17T13:24:10.054Z"
   },
   {
    "duration": 6,
    "start_time": "2024-04-17T13:24:24.165Z"
   },
   {
    "duration": 7,
    "start_time": "2024-04-17T13:24:35.619Z"
   },
   {
    "duration": 7,
    "start_time": "2024-04-17T13:24:49.132Z"
   },
   {
    "duration": 6,
    "start_time": "2024-04-17T13:24:54.907Z"
   },
   {
    "duration": 6,
    "start_time": "2024-04-17T13:25:55.554Z"
   },
   {
    "duration": 9,
    "start_time": "2024-04-17T13:26:28.283Z"
   },
   {
    "duration": 12,
    "start_time": "2024-04-17T13:44:09.892Z"
   },
   {
    "duration": 8,
    "start_time": "2024-04-17T13:46:59.008Z"
   },
   {
    "duration": 18,
    "start_time": "2024-04-17T13:47:17.282Z"
   },
   {
    "duration": 10,
    "start_time": "2024-04-17T13:48:48.713Z"
   },
   {
    "duration": 408,
    "start_time": "2024-04-17T13:54:49.247Z"
   },
   {
    "duration": 2,
    "start_time": "2024-04-17T13:54:49.657Z"
   },
   {
    "duration": 282,
    "start_time": "2024-04-17T13:54:49.660Z"
   },
   {
    "duration": 477,
    "start_time": "2024-04-17T13:54:49.944Z"
   },
   {
    "duration": 3,
    "start_time": "2024-04-17T13:54:50.422Z"
   },
   {
    "duration": 17,
    "start_time": "2024-04-17T13:54:50.427Z"
   },
   {
    "duration": 106,
    "start_time": "2024-04-17T13:54:50.446Z"
   },
   {
    "duration": 13,
    "start_time": "2024-04-17T13:54:50.554Z"
   },
   {
    "duration": 23,
    "start_time": "2024-04-17T13:54:50.568Z"
   },
   {
    "duration": 11,
    "start_time": "2024-04-17T13:54:50.594Z"
   },
   {
    "duration": 27,
    "start_time": "2024-04-17T13:54:50.607Z"
   },
   {
    "duration": 19,
    "start_time": "2024-04-17T13:54:50.635Z"
   },
   {
    "duration": 8,
    "start_time": "2024-04-17T13:54:50.655Z"
   },
   {
    "duration": 14,
    "start_time": "2024-04-17T13:54:50.664Z"
   },
   {
    "duration": 34,
    "start_time": "2024-04-17T13:54:50.680Z"
   },
   {
    "duration": 10,
    "start_time": "2024-04-17T13:54:50.716Z"
   },
   {
    "duration": 24,
    "start_time": "2024-04-17T13:54:50.728Z"
   },
   {
    "duration": 27,
    "start_time": "2024-04-17T13:54:50.753Z"
   },
   {
    "duration": 22,
    "start_time": "2024-04-17T13:54:50.781Z"
   },
   {
    "duration": 10,
    "start_time": "2024-04-17T13:54:50.805Z"
   },
   {
    "duration": 7,
    "start_time": "2024-04-17T13:54:50.817Z"
   },
   {
    "duration": 20,
    "start_time": "2024-04-17T13:54:50.825Z"
   },
   {
    "duration": 16,
    "start_time": "2024-04-17T13:54:50.846Z"
   },
   {
    "duration": 8,
    "start_time": "2024-04-17T13:54:50.864Z"
   },
   {
    "duration": 29,
    "start_time": "2024-04-17T13:54:50.874Z"
   },
   {
    "duration": 30,
    "start_time": "2024-04-17T13:54:50.904Z"
   },
   {
    "duration": 21,
    "start_time": "2024-04-17T13:54:50.935Z"
   },
   {
    "duration": 12,
    "start_time": "2024-04-17T13:54:50.960Z"
   },
   {
    "duration": 235,
    "start_time": "2024-04-17T13:54:50.973Z"
   },
   {
    "duration": 8,
    "start_time": "2024-04-17T13:54:51.210Z"
   },
   {
    "duration": 213,
    "start_time": "2024-04-17T13:54:51.221Z"
   },
   {
    "duration": 98,
    "start_time": "2024-04-17T13:54:51.436Z"
   },
   {
    "duration": 7,
    "start_time": "2024-04-17T13:54:51.535Z"
   },
   {
    "duration": 238,
    "start_time": "2024-04-17T13:54:51.543Z"
   },
   {
    "duration": 9,
    "start_time": "2024-04-17T13:54:51.785Z"
   },
   {
    "duration": 221,
    "start_time": "2024-04-17T13:54:51.796Z"
   },
   {
    "duration": 127,
    "start_time": "2024-04-17T13:54:52.019Z"
   },
   {
    "duration": 200,
    "start_time": "2024-04-17T13:54:52.148Z"
   },
   {
    "duration": 8,
    "start_time": "2024-04-17T13:54:52.350Z"
   },
   {
    "duration": 210,
    "start_time": "2024-04-17T13:54:52.359Z"
   },
   {
    "duration": 378,
    "start_time": "2024-04-17T13:54:52.582Z"
   },
   {
    "duration": 48,
    "start_time": "2024-04-17T13:54:52.961Z"
   },
   {
    "duration": 10,
    "start_time": "2024-04-17T13:54:53.014Z"
   },
   {
    "duration": 19,
    "start_time": "2024-04-17T13:54:53.026Z"
   },
   {
    "duration": 172,
    "start_time": "2024-04-17T13:54:53.047Z"
   },
   {
    "duration": 179,
    "start_time": "2024-04-17T13:54:53.221Z"
   },
   {
    "duration": 14,
    "start_time": "2024-04-17T13:54:53.402Z"
   },
   {
    "duration": 32,
    "start_time": "2024-04-17T13:54:53.418Z"
   },
   {
    "duration": 27,
    "start_time": "2024-04-17T13:54:53.452Z"
   },
   {
    "duration": 31,
    "start_time": "2024-04-17T13:54:53.481Z"
   },
   {
    "duration": 21,
    "start_time": "2024-04-17T13:54:53.514Z"
   },
   {
    "duration": 32,
    "start_time": "2024-04-17T13:54:53.537Z"
   },
   {
    "duration": 29,
    "start_time": "2024-04-17T13:54:53.571Z"
   },
   {
    "duration": 291,
    "start_time": "2024-04-17T13:54:53.602Z"
   },
   {
    "duration": 296,
    "start_time": "2024-04-17T13:54:53.895Z"
   },
   {
    "duration": 29,
    "start_time": "2024-04-17T13:54:54.194Z"
   },
   {
    "duration": 47,
    "start_time": "2024-04-17T13:54:54.225Z"
   },
   {
    "duration": 46,
    "start_time": "2024-04-17T13:54:54.274Z"
   },
   {
    "duration": 4,
    "start_time": "2024-04-17T13:54:54.322Z"
   },
   {
    "duration": 178,
    "start_time": "2024-04-17T13:54:54.327Z"
   },
   {
    "duration": 24,
    "start_time": "2024-04-17T13:54:54.507Z"
   },
   {
    "duration": 36,
    "start_time": "2024-04-17T13:54:54.532Z"
   },
   {
    "duration": 8,
    "start_time": "2024-04-17T13:54:54.570Z"
   },
   {
    "duration": 21,
    "start_time": "2024-04-17T13:54:54.584Z"
   },
   {
    "duration": 6,
    "start_time": "2024-04-17T13:54:54.607Z"
   },
   {
    "duration": 21,
    "start_time": "2024-04-17T13:54:54.615Z"
   },
   {
    "duration": 27,
    "start_time": "2024-04-17T13:54:54.638Z"
   },
   {
    "duration": 302,
    "start_time": "2024-04-17T13:54:54.666Z"
   },
   {
    "duration": 219,
    "start_time": "2024-04-17T13:54:54.969Z"
   },
   {
    "duration": 90,
    "start_time": "2024-04-17T13:54:55.190Z"
   },
   {
    "duration": 281,
    "start_time": "2024-04-17T13:54:55.282Z"
   },
   {
    "duration": 400,
    "start_time": "2024-04-17T13:54:55.565Z"
   },
   {
    "duration": 250,
    "start_time": "2024-04-17T13:58:42.119Z"
   },
   {
    "duration": 92,
    "start_time": "2024-04-17T13:59:37.739Z"
   },
   {
    "duration": 3,
    "start_time": "2024-04-17T14:07:55.037Z"
   },
   {
    "duration": 4,
    "start_time": "2024-04-17T14:08:18.083Z"
   },
   {
    "duration": 15,
    "start_time": "2024-04-17T14:08:33.343Z"
   },
   {
    "duration": 418,
    "start_time": "2024-04-17T14:11:56.930Z"
   },
   {
    "duration": 2,
    "start_time": "2024-04-17T14:11:57.349Z"
   },
   {
    "duration": 292,
    "start_time": "2024-04-17T14:11:57.353Z"
   },
   {
    "duration": 466,
    "start_time": "2024-04-17T14:11:57.647Z"
   },
   {
    "duration": 3,
    "start_time": "2024-04-17T14:11:58.116Z"
   },
   {
    "duration": 17,
    "start_time": "2024-04-17T14:11:58.121Z"
   },
   {
    "duration": 91,
    "start_time": "2024-04-17T14:11:58.140Z"
   },
   {
    "duration": 14,
    "start_time": "2024-04-17T14:11:58.232Z"
   },
   {
    "duration": 25,
    "start_time": "2024-04-17T14:11:58.247Z"
   },
   {
    "duration": 34,
    "start_time": "2024-04-17T14:11:58.274Z"
   },
   {
    "duration": 18,
    "start_time": "2024-04-17T14:11:58.309Z"
   },
   {
    "duration": 22,
    "start_time": "2024-04-17T14:11:58.328Z"
   },
   {
    "duration": 44,
    "start_time": "2024-04-17T14:11:58.351Z"
   },
   {
    "duration": 19,
    "start_time": "2024-04-17T14:11:58.398Z"
   },
   {
    "duration": 22,
    "start_time": "2024-04-17T14:11:58.419Z"
   },
   {
    "duration": 16,
    "start_time": "2024-04-17T14:11:58.442Z"
   },
   {
    "duration": 13,
    "start_time": "2024-04-17T14:11:58.459Z"
   },
   {
    "duration": 33,
    "start_time": "2024-04-17T14:11:58.473Z"
   },
   {
    "duration": 17,
    "start_time": "2024-04-17T14:11:58.508Z"
   },
   {
    "duration": 11,
    "start_time": "2024-04-17T14:11:58.526Z"
   },
   {
    "duration": 14,
    "start_time": "2024-04-17T14:11:58.538Z"
   },
   {
    "duration": 12,
    "start_time": "2024-04-17T14:11:58.554Z"
   },
   {
    "duration": 16,
    "start_time": "2024-04-17T14:11:58.567Z"
   },
   {
    "duration": 10,
    "start_time": "2024-04-17T14:11:58.589Z"
   },
   {
    "duration": 16,
    "start_time": "2024-04-17T14:11:58.601Z"
   },
   {
    "duration": 5,
    "start_time": "2024-04-17T14:11:58.618Z"
   },
   {
    "duration": 14,
    "start_time": "2024-04-17T14:11:58.624Z"
   },
   {
    "duration": 5,
    "start_time": "2024-04-17T14:11:58.640Z"
   },
   {
    "duration": 212,
    "start_time": "2024-04-17T14:11:58.646Z"
   },
   {
    "duration": 6,
    "start_time": "2024-04-17T14:11:58.860Z"
   },
   {
    "duration": 158,
    "start_time": "2024-04-17T14:11:58.867Z"
   },
   {
    "duration": 90,
    "start_time": "2024-04-17T14:11:59.026Z"
   },
   {
    "duration": 6,
    "start_time": "2024-04-17T14:11:59.118Z"
   },
   {
    "duration": 201,
    "start_time": "2024-04-17T14:11:59.126Z"
   },
   {
    "duration": 9,
    "start_time": "2024-04-17T14:11:59.328Z"
   },
   {
    "duration": 192,
    "start_time": "2024-04-17T14:11:59.338Z"
   },
   {
    "duration": 120,
    "start_time": "2024-04-17T14:11:59.531Z"
   },
   {
    "duration": 166,
    "start_time": "2024-04-17T14:11:59.652Z"
   },
   {
    "duration": 9,
    "start_time": "2024-04-17T14:11:59.820Z"
   },
   {
    "duration": 213,
    "start_time": "2024-04-17T14:11:59.830Z"
   },
   {
    "duration": 359,
    "start_time": "2024-04-17T14:12:00.047Z"
   },
   {
    "duration": 24,
    "start_time": "2024-04-17T14:12:00.408Z"
   },
   {
    "duration": 77,
    "start_time": "2024-04-17T14:12:00.434Z"
   },
   {
    "duration": 102,
    "start_time": "2024-04-17T14:12:00.512Z"
   },
   {
    "duration": 304,
    "start_time": "2024-04-17T14:12:00.616Z"
   },
   {
    "duration": 161,
    "start_time": "2024-04-17T14:12:00.921Z"
   },
   {
    "duration": 14,
    "start_time": "2024-04-17T14:12:01.083Z"
   },
   {
    "duration": 160,
    "start_time": "2024-04-17T14:12:01.100Z"
   },
   {
    "duration": 59,
    "start_time": "2024-04-17T14:12:01.261Z"
   },
   {
    "duration": 93,
    "start_time": "2024-04-17T14:12:01.321Z"
   },
   {
    "duration": 25,
    "start_time": "2024-04-17T14:12:01.415Z"
   },
   {
    "duration": 95,
    "start_time": "2024-04-17T14:12:01.442Z"
   },
   {
    "duration": 67,
    "start_time": "2024-04-17T14:12:01.539Z"
   },
   {
    "duration": 283,
    "start_time": "2024-04-17T14:12:01.611Z"
   },
   {
    "duration": 253,
    "start_time": "2024-04-17T14:12:01.896Z"
   },
   {
    "duration": 42,
    "start_time": "2024-04-17T14:12:02.151Z"
   },
   {
    "duration": 42,
    "start_time": "2024-04-17T14:12:02.205Z"
   },
   {
    "duration": 36,
    "start_time": "2024-04-17T14:12:02.248Z"
   },
   {
    "duration": 4,
    "start_time": "2024-04-17T14:12:02.287Z"
   },
   {
    "duration": 166,
    "start_time": "2024-04-17T14:12:02.292Z"
   },
   {
    "duration": 34,
    "start_time": "2024-04-17T14:12:02.460Z"
   },
   {
    "duration": 51,
    "start_time": "2024-04-17T14:12:02.502Z"
   },
   {
    "duration": 11,
    "start_time": "2024-04-17T14:12:02.555Z"
   },
   {
    "duration": 46,
    "start_time": "2024-04-17T14:12:02.567Z"
   },
   {
    "duration": 14,
    "start_time": "2024-04-17T14:12:02.615Z"
   },
   {
    "duration": 8,
    "start_time": "2024-04-17T14:12:02.630Z"
   },
   {
    "duration": 53,
    "start_time": "2024-04-17T14:12:02.639Z"
   },
   {
    "duration": 307,
    "start_time": "2024-04-17T14:12:02.694Z"
   },
   {
    "duration": 205,
    "start_time": "2024-04-17T14:12:03.004Z"
   },
   {
    "duration": 113,
    "start_time": "2024-04-17T14:12:03.211Z"
   },
   {
    "duration": 461,
    "start_time": "2024-04-17T14:12:03.326Z"
   },
   {
    "duration": 471,
    "start_time": "2024-04-17T14:12:03.789Z"
   },
   {
    "duration": 425,
    "start_time": "2024-04-17T14:18:46.520Z"
   },
   {
    "duration": 2,
    "start_time": "2024-04-17T14:18:46.947Z"
   },
   {
    "duration": 303,
    "start_time": "2024-04-17T14:18:46.951Z"
   },
   {
    "duration": 486,
    "start_time": "2024-04-17T14:18:47.256Z"
   },
   {
    "duration": 2,
    "start_time": "2024-04-17T14:18:47.743Z"
   },
   {
    "duration": 22,
    "start_time": "2024-04-17T14:18:47.747Z"
   },
   {
    "duration": 83,
    "start_time": "2024-04-17T14:18:47.771Z"
   },
   {
    "duration": 12,
    "start_time": "2024-04-17T14:18:47.855Z"
   },
   {
    "duration": 42,
    "start_time": "2024-04-17T14:18:47.868Z"
   },
   {
    "duration": 11,
    "start_time": "2024-04-17T14:18:47.914Z"
   },
   {
    "duration": 25,
    "start_time": "2024-04-17T14:18:47.926Z"
   },
   {
    "duration": 45,
    "start_time": "2024-04-17T14:18:47.953Z"
   },
   {
    "duration": 14,
    "start_time": "2024-04-17T14:18:48.006Z"
   },
   {
    "duration": 25,
    "start_time": "2024-04-17T14:18:48.022Z"
   },
   {
    "duration": 26,
    "start_time": "2024-04-17T14:18:48.049Z"
   },
   {
    "duration": 36,
    "start_time": "2024-04-17T14:18:48.077Z"
   },
   {
    "duration": 39,
    "start_time": "2024-04-17T14:18:48.115Z"
   },
   {
    "duration": 17,
    "start_time": "2024-04-17T14:18:48.155Z"
   },
   {
    "duration": 39,
    "start_time": "2024-04-17T14:18:48.173Z"
   },
   {
    "duration": 10,
    "start_time": "2024-04-17T14:18:48.213Z"
   },
   {
    "duration": 6,
    "start_time": "2024-04-17T14:18:48.225Z"
   },
   {
    "duration": 32,
    "start_time": "2024-04-17T14:18:48.232Z"
   },
   {
    "duration": 39,
    "start_time": "2024-04-17T14:18:48.265Z"
   },
   {
    "duration": 12,
    "start_time": "2024-04-17T14:18:48.305Z"
   },
   {
    "duration": 15,
    "start_time": "2024-04-17T14:18:48.319Z"
   },
   {
    "duration": 17,
    "start_time": "2024-04-17T14:18:48.335Z"
   },
   {
    "duration": 31,
    "start_time": "2024-04-17T14:18:48.353Z"
   },
   {
    "duration": 15,
    "start_time": "2024-04-17T14:18:48.389Z"
   },
   {
    "duration": 213,
    "start_time": "2024-04-17T14:18:48.407Z"
   },
   {
    "duration": 6,
    "start_time": "2024-04-17T14:18:48.621Z"
   },
   {
    "duration": 153,
    "start_time": "2024-04-17T14:18:48.629Z"
   },
   {
    "duration": 96,
    "start_time": "2024-04-17T14:18:48.790Z"
   },
   {
    "duration": 9,
    "start_time": "2024-04-17T14:18:48.894Z"
   },
   {
    "duration": 204,
    "start_time": "2024-04-17T14:18:48.905Z"
   },
   {
    "duration": 11,
    "start_time": "2024-04-17T14:18:49.110Z"
   },
   {
    "duration": 205,
    "start_time": "2024-04-17T14:18:49.123Z"
   },
   {
    "duration": 113,
    "start_time": "2024-04-17T14:18:49.330Z"
   },
   {
    "duration": 168,
    "start_time": "2024-04-17T14:18:49.444Z"
   },
   {
    "duration": 10,
    "start_time": "2024-04-17T14:18:49.614Z"
   },
   {
    "duration": 214,
    "start_time": "2024-04-17T14:18:49.626Z"
   },
   {
    "duration": 372,
    "start_time": "2024-04-17T14:18:49.842Z"
   },
   {
    "duration": 22,
    "start_time": "2024-04-17T14:18:50.216Z"
   },
   {
    "duration": 7,
    "start_time": "2024-04-17T14:18:50.240Z"
   },
   {
    "duration": 9,
    "start_time": "2024-04-17T14:18:50.249Z"
   },
   {
    "duration": 157,
    "start_time": "2024-04-17T14:18:50.276Z"
   },
   {
    "duration": 165,
    "start_time": "2024-04-17T14:18:50.435Z"
   },
   {
    "duration": 18,
    "start_time": "2024-04-17T14:18:50.602Z"
   },
   {
    "duration": 38,
    "start_time": "2024-04-17T14:18:50.621Z"
   },
   {
    "duration": 7,
    "start_time": "2024-04-17T14:18:50.660Z"
   },
   {
    "duration": 40,
    "start_time": "2024-04-17T14:18:50.668Z"
   },
   {
    "duration": 8,
    "start_time": "2024-04-17T14:18:50.711Z"
   },
   {
    "duration": 26,
    "start_time": "2024-04-17T14:18:50.721Z"
   },
   {
    "duration": 16,
    "start_time": "2024-04-17T14:18:50.748Z"
   },
   {
    "duration": 255,
    "start_time": "2024-04-17T14:18:50.765Z"
   },
   {
    "duration": 288,
    "start_time": "2024-04-17T14:18:51.022Z"
   },
   {
    "duration": 20,
    "start_time": "2024-04-17T14:18:51.314Z"
   },
   {
    "duration": 55,
    "start_time": "2024-04-17T14:18:51.335Z"
   },
   {
    "duration": 31,
    "start_time": "2024-04-17T14:18:51.399Z"
   },
   {
    "duration": 6,
    "start_time": "2024-04-17T14:18:51.432Z"
   },
   {
    "duration": 184,
    "start_time": "2024-04-17T14:18:51.440Z"
   },
   {
    "duration": 17,
    "start_time": "2024-04-17T14:18:51.626Z"
   },
   {
    "duration": 64,
    "start_time": "2024-04-17T14:18:51.644Z"
   },
   {
    "duration": 19,
    "start_time": "2024-04-17T14:18:51.709Z"
   },
   {
    "duration": 29,
    "start_time": "2024-04-17T14:18:51.730Z"
   },
   {
    "duration": 33,
    "start_time": "2024-04-17T14:18:51.760Z"
   },
   {
    "duration": 12,
    "start_time": "2024-04-17T14:18:51.802Z"
   },
   {
    "duration": 23,
    "start_time": "2024-04-17T14:18:51.816Z"
   },
   {
    "duration": 312,
    "start_time": "2024-04-17T14:18:51.840Z"
   },
   {
    "duration": 210,
    "start_time": "2024-04-17T14:18:52.153Z"
   },
   {
    "duration": 104,
    "start_time": "2024-04-17T14:18:52.365Z"
   },
   {
    "duration": 334,
    "start_time": "2024-04-17T14:18:52.471Z"
   },
   {
    "duration": 358,
    "start_time": "2024-04-17T14:18:52.812Z"
   },
   {
    "duration": 470,
    "start_time": "2024-04-17T15:51:53.349Z"
   },
   {
    "duration": 3,
    "start_time": "2024-04-17T15:51:53.821Z"
   },
   {
    "duration": 289,
    "start_time": "2024-04-17T15:51:53.829Z"
   },
   {
    "duration": 493,
    "start_time": "2024-04-17T15:51:54.120Z"
   },
   {
    "duration": 3,
    "start_time": "2024-04-17T15:51:54.615Z"
   },
   {
    "duration": 10,
    "start_time": "2024-04-17T15:51:54.621Z"
   },
   {
    "duration": 73,
    "start_time": "2024-04-17T15:51:54.633Z"
   },
   {
    "duration": 16,
    "start_time": "2024-04-17T15:51:54.708Z"
   },
   {
    "duration": 34,
    "start_time": "2024-04-17T15:51:54.725Z"
   },
   {
    "duration": 14,
    "start_time": "2024-04-17T15:51:54.763Z"
   },
   {
    "duration": 21,
    "start_time": "2024-04-17T15:51:54.780Z"
   },
   {
    "duration": 47,
    "start_time": "2024-04-17T15:51:54.803Z"
   },
   {
    "duration": 17,
    "start_time": "2024-04-17T15:51:54.856Z"
   },
   {
    "duration": 52,
    "start_time": "2024-04-17T15:51:54.875Z"
   },
   {
    "duration": 90,
    "start_time": "2024-04-17T15:51:54.931Z"
   },
   {
    "duration": 17,
    "start_time": "2024-04-17T15:51:55.024Z"
   },
   {
    "duration": 49,
    "start_time": "2024-04-17T15:51:55.044Z"
   },
   {
    "duration": 22,
    "start_time": "2024-04-17T15:51:55.095Z"
   },
   {
    "duration": 40,
    "start_time": "2024-04-17T15:51:55.119Z"
   },
   {
    "duration": 5,
    "start_time": "2024-04-17T15:51:55.161Z"
   },
   {
    "duration": 50,
    "start_time": "2024-04-17T15:51:55.168Z"
   },
   {
    "duration": 37,
    "start_time": "2024-04-17T15:51:55.220Z"
   },
   {
    "duration": 37,
    "start_time": "2024-04-17T15:51:55.259Z"
   },
   {
    "duration": 10,
    "start_time": "2024-04-17T15:51:55.298Z"
   },
   {
    "duration": 14,
    "start_time": "2024-04-17T15:51:55.310Z"
   },
   {
    "duration": 11,
    "start_time": "2024-04-17T15:51:55.326Z"
   },
   {
    "duration": 19,
    "start_time": "2024-04-17T15:51:55.340Z"
   },
   {
    "duration": 5,
    "start_time": "2024-04-17T15:51:55.363Z"
   },
   {
    "duration": 233,
    "start_time": "2024-04-17T15:51:55.369Z"
   },
   {
    "duration": 8,
    "start_time": "2024-04-17T15:51:55.603Z"
   },
   {
    "duration": 175,
    "start_time": "2024-04-17T15:51:55.614Z"
   },
   {
    "duration": 103,
    "start_time": "2024-04-17T15:51:55.791Z"
   },
   {
    "duration": 7,
    "start_time": "2024-04-17T15:51:55.896Z"
   },
   {
    "duration": 194,
    "start_time": "2024-04-17T15:51:55.904Z"
   },
   {
    "duration": 8,
    "start_time": "2024-04-17T15:51:56.100Z"
   },
   {
    "duration": 200,
    "start_time": "2024-04-17T15:51:56.109Z"
   },
   {
    "duration": 153,
    "start_time": "2024-04-17T15:51:56.310Z"
   },
   {
    "duration": 194,
    "start_time": "2024-04-17T15:51:56.464Z"
   },
   {
    "duration": 10,
    "start_time": "2024-04-17T15:51:56.659Z"
   },
   {
    "duration": 265,
    "start_time": "2024-04-17T15:51:56.671Z"
   },
   {
    "duration": 402,
    "start_time": "2024-04-17T15:51:56.939Z"
   },
   {
    "duration": 26,
    "start_time": "2024-04-17T15:51:57.343Z"
   },
   {
    "duration": 10,
    "start_time": "2024-04-17T15:51:57.371Z"
   },
   {
    "duration": 13,
    "start_time": "2024-04-17T15:51:57.383Z"
   },
   {
    "duration": 204,
    "start_time": "2024-04-17T15:51:57.398Z"
   },
   {
    "duration": 182,
    "start_time": "2024-04-17T15:51:57.603Z"
   },
   {
    "duration": 9,
    "start_time": "2024-04-17T15:51:57.787Z"
   },
   {
    "duration": 64,
    "start_time": "2024-04-17T15:51:57.797Z"
   },
   {
    "duration": 9,
    "start_time": "2024-04-17T15:51:57.863Z"
   },
   {
    "duration": 23,
    "start_time": "2024-04-17T15:51:57.873Z"
   },
   {
    "duration": 40,
    "start_time": "2024-04-17T15:51:57.898Z"
   },
   {
    "duration": 24,
    "start_time": "2024-04-17T15:51:57.943Z"
   },
   {
    "duration": 21,
    "start_time": "2024-04-17T15:51:57.968Z"
   },
   {
    "duration": 372,
    "start_time": "2024-04-17T15:51:57.991Z"
   },
   {
    "duration": 304,
    "start_time": "2024-04-17T15:51:58.365Z"
   },
   {
    "duration": 21,
    "start_time": "2024-04-17T15:51:58.670Z"
   },
   {
    "duration": 65,
    "start_time": "2024-04-17T15:51:58.693Z"
   },
   {
    "duration": 27,
    "start_time": "2024-04-17T15:51:58.760Z"
   },
   {
    "duration": 3,
    "start_time": "2024-04-17T15:51:58.789Z"
   },
   {
    "duration": 183,
    "start_time": "2024-04-17T15:51:58.794Z"
   },
   {
    "duration": 26,
    "start_time": "2024-04-17T15:51:58.978Z"
   },
   {
    "duration": 53,
    "start_time": "2024-04-17T15:51:59.005Z"
   },
   {
    "duration": 8,
    "start_time": "2024-04-17T15:51:59.060Z"
   },
   {
    "duration": 17,
    "start_time": "2024-04-17T15:51:59.069Z"
   },
   {
    "duration": 11,
    "start_time": "2024-04-17T15:51:59.088Z"
   },
   {
    "duration": 16,
    "start_time": "2024-04-17T15:51:59.101Z"
   },
   {
    "duration": 32,
    "start_time": "2024-04-17T15:51:59.119Z"
   },
   {
    "duration": 308,
    "start_time": "2024-04-17T15:51:59.153Z"
   },
   {
    "duration": 249,
    "start_time": "2024-04-17T15:51:59.463Z"
   },
   {
    "duration": 115,
    "start_time": "2024-04-17T15:51:59.714Z"
   },
   {
    "duration": 302,
    "start_time": "2024-04-17T15:51:59.832Z"
   },
   {
    "duration": 416,
    "start_time": "2024-04-17T15:52:00.136Z"
   }
  ],
  "kernelspec": {
   "display_name": "Python 3 (ipykernel)",
   "language": "python",
   "name": "python3"
  },
  "language_info": {
   "codemirror_mode": {
    "name": "ipython",
    "version": 3
   },
   "file_extension": ".py",
   "mimetype": "text/x-python",
   "name": "python",
   "nbconvert_exporter": "python",
   "pygments_lexer": "ipython3",
   "version": "3.9.5"
  },
  "toc": {
   "base_numbering": 1,
   "nav_menu": {},
   "number_sections": true,
   "sideBar": true,
   "skip_h1_title": true,
   "title_cell": "Table of Contents",
   "title_sidebar": "Contents",
   "toc_cell": false,
   "toc_position": {},
   "toc_section_display": true,
   "toc_window_display": true
  }
 },
 "nbformat": 4,
 "nbformat_minor": 5
}
