{
  "cells": [
    {
      "cell_type": "markdown",
      "id": "74282cb2",
      "metadata": {
        "id": "74282cb2"
      },
      "source": [
        "1. Найдите количество вопросов, которые набрали больше 300 очков или как минимум 100 раз были добавлены в «Закладки».\n",
        "Чтобы отфильтровать данные, используем логические операторы AND и OR. Обратим внимание на приоритет выполнения этих операторов.\n",
        "\n",
        "```sql\n",
        "SELECT COUNT(id)\n",
        "FROM stackoverflow.posts\n",
        "WHERE post_type_id=1\n",
        "AND (score>300 OR favorites_count >= 100)\n",
        "GROUP BY post_type_id;\n",
        "```"
      ]
    },
    {
      "cell_type": "markdown",
      "id": "9f5d6625",
      "metadata": {
        "id": "9f5d6625"
      },
      "source": [
        "2. Сколько в среднем в день задавали вопросов с 1 по 18 ноября 2008 включительно? Результат округлите до целого числа.\n",
        "Делая срез, обратим внимание на тип данных поля c датой поста. Сгруппируем записи по дням и найдем количество вопросов в день, а после посчитаем среднее.\n",
        "\n",
        "```sql\n",
        "SELECT ROUND(AVG(t.count),0)\n",
        "FROM (\n",
        "SELECT COUNT(id),\n",
        "creation_date::date\n",
        "FROM stackoverflow.posts\n",
        "WHERE post_type_id = 1\n",
        "GROUP BY creation_date::date\n",
        "HAVING creation_date::date BETWEEN '2008-11-01' AND '2008-11-18') AS t;\n",
        "```"
      ]
    },
    {
      "cell_type": "markdown",
      "source": [
        "3. Сколько пользователей получили значки сразу в день регистрации? Выведите количество уникальных пользователей.\n",
        "Данные о пользователях хранит таблица users, а данные о значках — таблица badges. Соединим их.\n",
        "\n",
        "```sql\n",
        "SELECT COUNT(DISTINCT [u.id](http://u.id/))\n",
        "FROM stackoverflow.badges AS b\n",
        "JOIN stackoverflow.users AS u ON b.user_id=[u.id](http://u.id/)\n",
        "WHERE b.creation_date::date = u.creation_date::date;\n",
        "```"
      ],
      "metadata": {
        "id": "RBX7XCLl1K6S"
      },
      "id": "RBX7XCLl1K6S"
    },
    {
      "cell_type": "markdown",
      "source": [
        "4. Сколько уникальных постов пользователя с именем Joel Coehoorn получили хотя бы один голос?\n",
        "\n",
        "```sql\n",
        "SELECT COUNT([t.id](http://t.id/))\n",
        "FROM (\n",
        "SELECT [p.id](http://p.id/)\n",
        "FROM stackoverflow.posts AS p\n",
        "JOIN stackoverflow.votes AS v ON [p.id](http://p.id/) = v.post_id\n",
        "JOIN stackoverflow.users AS u ON p.user_id = [u.id](http://u.id/)\n",
        "WHERE u.display_name LIKE 'Joel Coehoorn'\n",
        "GROUP BY [p.id](http://p.id/)\n",
        "HAVING COUNT([v.id](http://v.id/))>=1) as t;\n",
        "```"
      ],
      "metadata": {
        "id": "hS1mKxiK2x93"
      },
      "id": "hS1mKxiK2x93"
    },
    {
      "cell_type": "markdown",
      "source": [
        "5. Выгрузите все поля таблицы `vote_types`. Добавьте к таблице поле `rank`, в которое войдут номера записей в обратном порядке. Таблица должна быть отсортирована по полю `id`.\n",
        "Чтобы пронумеровать записи в обратном порядке, используем оконную функцию.\n",
        "\n",
        "```sql\n",
        "SELECT *,\n",
        "ROW_NUMBER() OVER(ORDER BY id DESC) AS rank\n",
        "FROM stackoverflow.vote_types\n",
        "ORDER BY id;\n",
        "```"
      ],
      "metadata": {
        "id": "k5nGA7vZ3GId"
      },
      "id": "k5nGA7vZ3GId"
    },
    {
      "cell_type": "markdown",
      "source": [
        "6. Отберите 10 пользователей, которые поставили больше всего голосов типа `Close`. Отобразите таблицу из двух полей: идентификатором пользователя и количеством голосов. Отсортируйте данные сначала по убыванию количества голосов, потом по убыванию значения идентификатора пользователя.\n",
        "\n",
        "Таблицы `vote_types` и `users` не связаны напрямую, поэтому вам понадобится присоединить несколько таблиц. Не забудьте добавить условие.\n",
        "\n",
        "```sql\n",
        "SELECT *\n",
        "FROM (\n",
        "SELECT v.user_id,\n",
        "COUNT([vt.id](http://vt.id/)) AS cnt\n",
        "FROM stackoverflow.votes AS v\n",
        "JOIN stackoverflow.vote_types as vt ON [vt.id](http://vt.id/) = v.vote_type_id\n",
        "WHERE [vt.name](http://vt.name/) LIKE 'Close'\n",
        "GROUP BY v.user_id\n",
        "ORDER BY cnt DESC LIMIT 10\n",
        ") AS t\n",
        "ORDER BY t.cnt DESC, t.user_id DESC;\n",
        "```"
      ],
      "metadata": {
        "id": "tbAUaAjv3Vem"
      },
      "id": "tbAUaAjv3Vem"
    },
    {
      "cell_type": "markdown",
      "source": [
        "7. Отберите 10 пользователей по количеству значков, полученных в период с 15 ноября по 15 декабря 2008 года включительно.\n",
        "Отобразите несколько полей:\n",
        "\n",
        "- идентификатор пользователя;\n",
        "- число значков;\n",
        "- место в рейтинге — чем больше значков, тем выше рейтинг.\n",
        "\n",
        "Пользователям, которые набрали одинаковое количество значков, присвойте одно и то же место в рейтинге.\n",
        "\n",
        "Отсортируйте записи по количеству значков по убыванию, а затем по возрастанию значения идентификатора пользователя.\n",
        "\n",
        "Чтобы назначить места в рейтинге, воспользуйтесь оконной функцией ранжирования.\n",
        "\n",
        "```sql\n",
        "SELECT *,\n",
        "DENSE_RANK() OVER (ORDER BY t.cnt DESC) AS n\n",
        "FROM (SELECT COUNT(id) AS  cnt,\n",
        "user_id\n",
        "FROM stackoverflow.badges\n",
        "WHERE creation_date::date BETWEEN '2008-11-15' AND '2008-12-15'\n",
        "GROUP BY 2\n",
        "ORDER BY cnt DESC, user_id LIMIT 10) as t;\n",
        "```"
      ],
      "metadata": {
        "id": "_nVoV1Zr3Vtw"
      },
      "id": "_nVoV1Zr3Vtw"
    },
    {
      "cell_type": "markdown",
      "source": [
        "8. Сколько в среднем очков получает пост каждого пользователя?\n",
        "\n",
        "Сформируйте таблицу из следующих полей:\n",
        "\n",
        "- заголовок поста;\n",
        "- идентификатор пользователя;\n",
        "- число очков поста;\n",
        "- среднее число очков пользователя за пост, округлённое до целого числа.\n",
        "\n",
        "Не учитывайте посты без заголовка, а также те, что набрали ноль очков.\n",
        "\n",
        "Используйте оконную функцию и укажите поле, по которому сформировать окна.\n",
        "\n",
        "```sql\n",
        "WITH t AS (\n",
        "SELECT ROUND(AVG(score)) AS avg_score,\n",
        "user_id\n",
        "FROM stackoverflow.posts\n",
        "WHERE title IS NOT NULL\n",
        "AND score <> 0\n",
        "GROUP BY user_id\n",
        ")\n",
        "\n",
        "SELECT p.title,\n",
        "t.user_id,\n",
        "p.score,\n",
        "t.avg_score\n",
        "FROM t\n",
        "JOIN stackoverflow.posts AS p ON t.user_id=p.user_id\n",
        "WHERE p.title IS NOT NULL\n",
        "AND p.score <> 0;\n",
        "```"
      ],
      "metadata": {
        "id": "dFxbLsfT1lNC"
      },
      "id": "dFxbLsfT1lNC"
    },
    {
      "cell_type": "markdown",
      "source": [
        "9. Отобразите заголовки постов, которые были написаны пользователями, получившими более 1000 значков. Посты без заголовков не должны попасть в список.\n",
        "\n",
        "Это задание лучше выполнить по частям. Сформируем список пользователей, которые заработали больше 1000 значков. С помощью этого списка можно отфильтровать записи в основном запросе.\n",
        "\n",
        "```sql\n",
        "SELECT title\n",
        "FROM stackoverflow.posts\n",
        "WHERE user_id IN (\n",
        "SELECT user_id\n",
        "FROM stackoverflow.badges\n",
        "GROUP BY user_id\n",
        "HAVING COUNT(id) >1000\n",
        ")\n",
        "AND title IS NOT NULL;\n",
        "```"
      ],
      "metadata": {
        "id": "OyPyLjKs1BDV"
      },
      "id": "OyPyLjKs1BDV"
    },
    {
      "cell_type": "markdown",
      "source": [
        "10. Напишите запрос, который выгрузит данные о пользователях из Канады (англ. Canada). Разделите пользователей на три группы в зависимости от количества просмотров их профилей:\n",
        "\n",
        "- пользователям с числом просмотров больше либо равным 350 присвойте группу `1`;\n",
        "- пользователям с числом просмотров меньше 350, но больше либо равно 100 — группу `2`;\n",
        "- пользователям с числом просмотров меньше 100 — группу `3`.\n",
        "\n",
        "Отобразите в итоговой таблице идентификатор пользователя, количество просмотров профиля и группу. Пользователи с количеством просмотров меньше либо равным нулю не должны войти в итоговую таблицу.\n",
        "\n",
        "Чтобы создать категории пользователей, используем оператор `CASE`. Отфильтруем данные по стране, пользуясь оператором `LIKE`. Данные неидеальны: перед словом для поиска и после него могут встречаться лишние пробелы.\n",
        "\n",
        "```sql\n",
        "SELECT id,\n",
        "views,\n",
        "CASE\n",
        "WHEN views>=350 THEN 1\n",
        "WHEN views<100 THEN 3\n",
        "ELSE 2\n",
        "END AS group\n",
        "FROM stackoverflow.users\n",
        "WHERE location LIKE '%Canada%'\n",
        "AND views > 0;\n",
        "```"
      ],
      "metadata": {
        "id": "Op8GRU7Z4Lso"
      },
      "id": "Op8GRU7Z4Lso"
    },
    {
      "cell_type": "markdown",
      "source": [
        "11.Дополните предыдущий запрос. Отобразите лидеров каждой группы — пользователей, которые набрали максимальное число просмотров в своей группе. Выведите поля с идентификатором пользователя, группой и количеством просмотров. Отсортируйте таблицу по убыванию просмотров, а затем по возрастанию значения идентификатора.\n",
        "\n",
        "Добавим предыдущий запрос в подзапрос. Посчитаем максимальное количество просмотров по категориям. В список должны попасть пользователи, у которых число просмотров равно максимальному значению.\n",
        "\n",
        "```sql\n",
        "WITH tab AS\n",
        "(SELECT [t.id](http://t.id/),\n",
        "t.views,\n",
        "t.group,\n",
        "MAX(t.views) OVER (PARTITION BY t.group) AS max\n",
        "FROM (SELECT id,\n",
        "views,\n",
        "CASE\n",
        "WHEN views>=350 THEN 1\n",
        "WHEN views<100 THEN 3\n",
        "ELSE 2\n",
        "END AS group\n",
        "FROM stackoverflow.users\n",
        "WHERE location LIKE '%Canada%'\n",
        "AND views > 0\n",
        ") as t\n",
        ")\n",
        "\n",
        "SELECT [tab.id](http://tab.id/),\n",
        "tab.views,\n",
        "\n",
        "tab.group\n",
        "FROM tab\n",
        "WHERE tab.views = tab.max\n",
        "ORDER BY tab.views DESC, [tab.id](http://tab.id/);\n",
        "```"
      ],
      "metadata": {
        "id": "gl0Tv9Te4i-E"
      },
      "id": "gl0Tv9Te4i-E"
    },
    {
      "cell_type": "markdown",
      "source": [
        "12. Посчитайте ежедневный прирост новых пользователей в ноябре 2008 года. Сформируйте таблицу с полями:\n",
        "\n",
        "- номер дня;\n",
        "- число пользователей, зарегистрированных в этот день;\n",
        "- сумму пользователей с накоплением.\n",
        "\n",
        "Для подсчёта суммы с накоплением вам понадобится оконная функция. Не забудьте отфильтровать таблицу по месяцу и году.\n",
        "\n",
        "```sql\n",
        "SELECT *,\n",
        "SUM(t.cnt_id) OVER (ORDER BY t.days) as nn\n",
        "FROM (\n",
        "SELECT EXTRACT(DAY FROM creation_date::date) AS days,\n",
        "COUNT(id) AS cnt_id\n",
        "FROM stackoverflow.users\n",
        "WHERE creation_date::date BETWEEN '2008-11-01' AND '2008-11-30'\n",
        "GROUP BY EXTRACT(DAY FROM creation_date::date)\n",
        ") as t;\n",
        "```"
      ],
      "metadata": {
        "id": "j6fX6mo75jMC"
      },
      "id": "j6fX6mo75jMC"
    },
    {
      "cell_type": "markdown",
      "source": [
        "13. Для каждого пользователя, который написал хотя бы один пост, найдите интервал между регистрацией и временем создания первого поста. Отобразите:\n",
        "\n",
        "- идентификатор пользователя;\n",
        "- разницу во времени между регистрацией и первым постом.\n",
        "\n",
        "Для каждого пользователя найдите время создания первого поста с помощью оконной функции ранжирования. Если от этого времени отнять дату регистрации пользователя, получится нужный интервал. Не меняйте тип данных поля `creation_date`.\n",
        "\n",
        "```sql\n",
        "WITH p AS\n",
        "(SELECT DISTINCT user_id,\n",
        "MIN(creation_date) OVER (PARTITION BY user_id) AS min_dt\n",
        "FROM stackoverflow.posts\n",
        ")\n",
        "\n",
        "SELECT p.user_id,\n",
        "(p.min_dt - u.creation_date) AS diff\n",
        "FROM stackoverflow.users AS u\n",
        "JOIN p ON  [u.id](http://u.id/) = p.user_id;\n",
        "```"
      ],
      "metadata": {
        "id": "QHC8ulrL5uCM"
      },
      "id": "QHC8ulrL5uCM"
    },
    {
      "cell_type": "markdown",
      "source": [
        "14. Выведите общую сумму просмотров у постов, опубликованных в каждый месяц 2008 года. Если данных за какой-либо месяц в базе нет, такой месяц можно пропустить. Результат отсортируйте по убыванию общего количества просмотров.\n",
        "\n",
        "Используйте функцию для усечения даты, а затем сгруппируйте и отсортируйте данные.\n",
        "\n",
        "```sql\n",
        "SELECT SUM(views_count),\n",
        "DATE_TRUNC('month', creation_date)::date AS mnth\n",
        "FROM stackoverflow.posts\n",
        "GROUP BY DATE_TRUNC('month', creation_date)::date\n",
        "ORDER BY SUM(views_count) DESC;\n",
        "```"
      ],
      "metadata": {
        "id": "nWE6P-3G57kK"
      },
      "id": "nWE6P-3G57kK"
    },
    {
      "cell_type": "markdown",
      "source": [
        "15. Выведите имена самых активных пользователей, которые в первый месяц после регистрации (включая день регистрации) дали больше 100 ответов. Вопросы, которые задавали пользователи, не учитывайте. Для каждого имени пользователя выведите количество уникальных значений `user_id`. Отсортируйте результат по полю с именами в лексикографическом порядке.\n",
        "\n",
        "Вам нужно присоединить несколько таблиц — изучите внимательнее описание базы. Чтобы добавить промежуток времени к дате, используйте ключевое слово `INTERVAL`, например, так: `<дата> + INTERVAL '1 year 2 months 3 days'`.\n",
        "\n",
        "```sql\n",
        "SELECT u.display_name,\n",
        "COUNT(DISTINCT p.user_id)\n",
        "FROM stackoverflow.posts AS p\n",
        "JOIN stackoverflow.users AS u ON p.user_id = [u.id](http://u.id/)\n",
        "JOIN stackoverflow.post_types AS pt ON [pt.id](http://pt.id/) = p.post_type_id\n",
        "WHERE p.creation_date::date BETWEEN u.creation_date::date AND (u.creation_date::date + INTERVAL '1 month')\n",
        "AND pt.type LIKE '%Answer%'\n",
        "GROUP BY u.display_name\n",
        "HAVING COUNT([p.id](http://p.id/)) > 100\n",
        "ORDER BY u.display_name;\n",
        "```"
      ],
      "metadata": {
        "id": "NuwZ_lJR6CKP"
      },
      "id": "NuwZ_lJR6CKP"
    },
    {
      "cell_type": "markdown",
      "source": [
        "16. Выведите количество постов за 2008 год по месяцам. Отберите посты от пользователей, которые зарегистрировались в сентябре 2008 года и сделали хотя бы один пост в декабре того же года. Отсортируйте таблицу по значению месяца по убыванию.\n",
        "\n",
        "Сначала найдите идентификаторы пользователей, которые зарегистрировались в сентябре 2008 года и оставили хотя бы один пост в декабре. Затем используйте результат для среза и посчитайте посты по месяцам.\n",
        "\n",
        "```sql\n",
        "WITH t AS (\n",
        "SELECT [u.id](http://u.id/)\n",
        "FROM stackoverflow.posts AS p\n",
        "JOIN stackoverflow.users AS u ON p.user_id = [u.id](http://u.id/)\n",
        "WHERE DATE_TRUNC('month', u.creation_date)::date = '2008-09-01'\n",
        "AND DATE_TRUNC('month', p.creation_date)::date = '2008-12-01'\n",
        "GROUP BY [u.id](http://u.id/)\n",
        "HAVING COUNT([p.id](http://p.id/))>0\n",
        ")\n",
        "\n",
        "SELECT COUNT([p.id](http://p.id/)),\n",
        "DATE_TRUNC('month', p.creation_date)::date\n",
        "\n",
        "FROM stackoverflow.posts AS p\n",
        "WHERE p.user_id IN (SELECT * FROM t)\n",
        "AND DATE_TRUNC('year', p.creation_date)::date = '2008-01-01'\n",
        "GROUP BY DATE_TRUNC('month', p.creation_date)::date\n",
        "ORDER BY DATE_TRUNC('month', p.creation_date)::date DESC; ```"
      ],
      "metadata": {
        "id": "Foo13e-86JHq"
      },
      "id": "Foo13e-86JHq"
    },
    {
      "cell_type": "markdown",
      "source": [
        "17. Используя данные о постах, выведите несколько полей:\n",
        "\n",
        "- идентификатор пользователя, который написал пост;\n",
        "- дата создания поста;\n",
        "- количество просмотров у текущего поста;\n",
        "- сумма просмотров постов автора с накоплением.\n",
        "\n",
        "Данные в таблице должны быть отсортированы по возрастанию идентификаторов пользователей, а данные об одном и том же пользователе — по возрастанию даты создания поста.\n",
        "\n",
        "Для подсчёта суммы с накоплением используйте оконную функцию.\n",
        "\n",
        "```sql\n",
        "SELECT user_id,\n",
        "creation_date,\n",
        "views_count,\n",
        "SUM(views_count) OVER (PARTITION BY user_id ORDER BY creation_date)\n",
        "FROM stackoverflow.posts;\n",
        "```"
      ],
      "metadata": {
        "id": "iK13MEBz6QX6"
      },
      "id": "iK13MEBz6QX6"
    },
    {
      "cell_type": "markdown",
      "source": [
        "18. Сколько в среднем дней в период с 1 по 7 декабря 2008 года включительно пользователи взаимодействовали с платформой? Для каждого пользователя отберите дни, в которые он или она опубликовали хотя бы один пост. Нужно получить одно целое число — не забудьте округлить результат.\n",
        "\n",
        "Посчитайте, сколько активных дней было у каждого пользователя. Добавьте данные в общее табличное выражение и используйте в основном запросе.\n",
        "\n",
        "```sql\n",
        "SELECT ROUND(AVG(t.cnt))\n",
        "FROM (\n",
        "SELECT user_id,\n",
        "COUNT(DISTINCT creation_date::date)  AS cnt\n",
        "FROM stackoverflow.posts\n",
        "WHERE creation_date::date BETWEEN '2008-12-01' AND '2008-12-07'\n",
        "GROUP BY user_id\n",
        ") AS t ;\n",
        "```"
      ],
      "metadata": {
        "id": "6ccDwwE86WQA"
      },
      "id": "6ccDwwE86WQA"
    },
    {
      "cell_type": "markdown",
      "source": [
        "19. На сколько процентов менялось количество постов ежемесячно с 1 сентября по 31 декабря 2008 года? Отобразите таблицу со следующими полями:\n",
        "\n",
        "- Номер месяца.\n",
        "- Количество постов за месяц.\n",
        "- Процент, который показывает, насколько изменилось количество постов в текущем месяце по сравнению с предыдущим.\n",
        "\n",
        "Если постов стало меньше, значение процента должно быть отрицательным, если больше — положительным. Округлите значение процента до двух знаков после запятой.\n",
        "\n",
        "Напомним, что при делении одного целого числа на другое в PostgreSQL в результате получится целое число, округлённое до ближайшего целого вниз. Чтобы этого избежать, переведите делимое в тип `numeric`.\n",
        "\n",
        "Эту задачу стоит декомпозировать. Сформируйте запрос, который отобразит номер месяца и количество постов. Затем можно использовать оконную функцию, которая вернёт значение за предыдущий месяц, и посчитать процент.\n",
        "\n",
        "Не забудьте сравнить количество постов в сентябре со значением предыдущего месяца. Вы получите `NULL` — это нормально.\n",
        "\n",
        "```sql\n",
        "WITH t AS (\n",
        "SELECT EXTRACT(MONTH from creation_date::date) AS month,\n",
        "COUNT(DISTINCT id)\n",
        "\n",
        "FROM stackoverflow.posts\n",
        "WHERE creation_date::date BETWEEN '2008-09-01' AND '2008-12-31'\n",
        "GROUP BY month\n",
        ")\n",
        "\n",
        "SELECT *,\n",
        "ROUND(((count::numeric / LAG(count) OVER (ORDER BY month)) - 1) * 100,2) AS user_growth\n",
        "FROM t;\n",
        "```"
      ],
      "metadata": {
        "id": "he52rtl76eUB"
      },
      "id": "he52rtl76eUB"
    },
    {
      "cell_type": "markdown",
      "source": [
        "20. Найдите пользователя, который опубликовал больше всего постов за всё время с момента регистрации. Выведите данные его активности за октябрь 2008 года в таком виде:\n",
        "\n",
        "- номер недели;\n",
        "- дата и время последнего поста, опубликованного на этой неделе.\n",
        "\n",
        "Декомпозируйте задачу:\n",
        "\n",
        "- Найдите пользователя, который опубликовал больше всего постов.\n",
        "- Найдите дату и время создания каждого поста этого пользователя и номер недели.\n",
        "- Отобразите данные только о последних постах пользователя. Для этого можно использовать оконную функцию.\n",
        "\n",
        "```sql\n",
        "WITH t AS (\n",
        "SELECT user_id,\n",
        "COUNT(DISTINCT id) AS cnt\n",
        "FROM stackoverflow.posts\n",
        "GROUP BY user_id\n",
        "ORDER BY cnt DESC\n",
        "LIMIT 1),\n",
        "\n",
        " t1 AS (\n",
        "SELECT p.user_id,\n",
        "p.creation_date,\n",
        "extract('week' from p.creation_date) AS week_number\n",
        "FROM stackoverflow.posts AS p\n",
        "JOIN t ON t.user_id = p.user_id\n",
        "WHERE DATE_TRUNC('month', p.creation_date)::date = '2008-10-01'\n",
        ")\n",
        "\n",
        "SELECT DISTINCT week_number::numeric,\n",
        "MAX(creation_date) OVER (PARTITION BY week_number)\n",
        "FROM t1\n",
        "ORDER BY week_number;\n",
        "```"
      ],
      "metadata": {
        "id": "88oWvADP6qCM"
      },
      "id": "88oWvADP6qCM"
    }
  ],
  "metadata": {
    "colab": {
      "provenance": []
    }
  },
  "nbformat": 4,
  "nbformat_minor": 5
}